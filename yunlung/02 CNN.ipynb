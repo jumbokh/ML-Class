{
  "nbformat": 4,
  "nbformat_minor": 0,
  "metadata": {
    "kernelspec": {
      "display_name": "Python 3",
      "language": "python",
      "name": "python3"
    },
    "language_info": {
      "codemirror_mode": {
        "name": "ipython",
        "version": 3
      },
      "file_extension": ".py",
      "mimetype": "text/x-python",
      "name": "python",
      "nbconvert_exporter": "python",
      "pygments_lexer": "ipython3",
      "version": "3.7.3"
    },
    "colab": {
      "name": "02 CNN.ipynb",
      "provenance": []
    },
    "widgets": {
      "application/vnd.jupyter.widget-state+json": {
        "0b482c433daf4598ae901cec08c5052e": {
          "model_module": "@jupyter-widgets/controls",
          "model_name": "VBoxModel",
          "model_module_version": "1.5.0",
          "state": {
            "_view_name": "VBoxView",
            "_dom_classes": [
              "widget-interact"
            ],
            "_model_name": "VBoxModel",
            "_view_module": "@jupyter-widgets/controls",
            "_model_module_version": "1.5.0",
            "_view_count": null,
            "_view_module_version": "1.5.0",
            "box_style": "",
            "layout": "IPY_MODEL_8de60163157e4ea39cd4a62b333360c3",
            "_model_module": "@jupyter-widgets/controls",
            "children": [
              "IPY_MODEL_9ce34f1cf81d42548fdad6a4ea8a1d9b",
              "IPY_MODEL_0c6fb866fc9748448dc9074838436132",
              "IPY_MODEL_b289d4a5e73a4d00a21aa141535039c8"
            ]
          }
        },
        "8de60163157e4ea39cd4a62b333360c3": {
          "model_module": "@jupyter-widgets/base",
          "model_name": "LayoutModel",
          "model_module_version": "1.2.0",
          "state": {
            "_view_name": "LayoutView",
            "grid_template_rows": null,
            "right": null,
            "justify_content": null,
            "_view_module": "@jupyter-widgets/base",
            "overflow": null,
            "_model_module_version": "1.2.0",
            "_view_count": null,
            "flex_flow": null,
            "width": null,
            "min_width": null,
            "border": null,
            "align_items": null,
            "bottom": null,
            "_model_module": "@jupyter-widgets/base",
            "top": null,
            "grid_column": null,
            "overflow_y": null,
            "overflow_x": null,
            "grid_auto_flow": null,
            "grid_area": null,
            "grid_template_columns": null,
            "flex": null,
            "_model_name": "LayoutModel",
            "justify_items": null,
            "grid_row": null,
            "max_height": null,
            "align_content": null,
            "visibility": null,
            "align_self": null,
            "height": null,
            "min_height": null,
            "padding": null,
            "grid_auto_rows": null,
            "grid_gap": null,
            "max_width": null,
            "order": null,
            "_view_module_version": "1.2.0",
            "grid_template_areas": null,
            "object_position": null,
            "object_fit": null,
            "grid_auto_columns": null,
            "margin": null,
            "display": null,
            "left": null
          }
        },
        "9ce34f1cf81d42548fdad6a4ea8a1d9b": {
          "model_module": "@jupyter-widgets/controls",
          "model_name": "IntSliderModel",
          "model_module_version": "1.5.0",
          "state": {
            "_view_name": "IntSliderView",
            "style": "IPY_MODEL_b092dd25c2354974888e04816b4ef51e",
            "_dom_classes": [],
            "description": "n",
            "step": 1,
            "_model_name": "IntSliderModel",
            "orientation": "horizontal",
            "max": 9999,
            "_view_module": "@jupyter-widgets/controls",
            "_model_module_version": "1.5.0",
            "value": 1497,
            "_view_count": null,
            "disabled": false,
            "_view_module_version": "1.5.0",
            "min": 0,
            "continuous_update": true,
            "readout_format": "d",
            "description_tooltip": null,
            "readout": true,
            "_model_module": "@jupyter-widgets/controls",
            "layout": "IPY_MODEL_ea1a79e38db946c69cb803feedb851c7"
          }
        },
        "0c6fb866fc9748448dc9074838436132": {
          "model_module": "@jupyter-widgets/controls",
          "model_name": "ButtonModel",
          "model_module_version": "1.5.0",
          "state": {
            "_view_name": "ButtonView",
            "style": "IPY_MODEL_fc2864628ec7496da0a88393da548ff8",
            "_dom_classes": [],
            "description": "Run Interact",
            "_model_name": "ButtonModel",
            "button_style": "",
            "_view_module": "@jupyter-widgets/controls",
            "_model_module_version": "1.5.0",
            "tooltip": "",
            "_view_count": null,
            "disabled": false,
            "_view_module_version": "1.5.0",
            "layout": "IPY_MODEL_e72ddd37c09b42b3982acfc03229e9d2",
            "_model_module": "@jupyter-widgets/controls",
            "icon": ""
          }
        },
        "b289d4a5e73a4d00a21aa141535039c8": {
          "model_module": "@jupyter-widgets/output",
          "model_name": "OutputModel",
          "model_module_version": "1.0.0",
          "state": {
            "_view_name": "OutputView",
            "msg_id": "",
            "_dom_classes": [],
            "_model_name": "OutputModel",
            "outputs": [
              {
                "output_type": "stream",
                "name": "stdout",
                "text": [
                  "我可愛的 CNN 預測是 7\n"
                ]
              },
              {
                "output_type": "display_data",
                "data": {
                  "image/png": "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\n",
                  "text/plain": "<Figure size 432x288 with 1 Axes>"
                },
                "metadata": {
                  "needs_background": "light"
                }
              }
            ],
            "_view_module": "@jupyter-widgets/output",
            "_model_module_version": "1.0.0",
            "_view_count": null,
            "_view_module_version": "1.0.0",
            "layout": "IPY_MODEL_5d3feb8e0a6a463282d2712af6fdc725",
            "_model_module": "@jupyter-widgets/output"
          }
        },
        "b092dd25c2354974888e04816b4ef51e": {
          "model_module": "@jupyter-widgets/controls",
          "model_name": "SliderStyleModel",
          "model_module_version": "1.5.0",
          "state": {
            "_view_name": "StyleView",
            "handle_color": null,
            "_model_name": "SliderStyleModel",
            "description_width": "",
            "_view_module": "@jupyter-widgets/base",
            "_model_module_version": "1.5.0",
            "_view_count": null,
            "_view_module_version": "1.2.0",
            "_model_module": "@jupyter-widgets/controls"
          }
        },
        "ea1a79e38db946c69cb803feedb851c7": {
          "model_module": "@jupyter-widgets/base",
          "model_name": "LayoutModel",
          "model_module_version": "1.2.0",
          "state": {
            "_view_name": "LayoutView",
            "grid_template_rows": null,
            "right": null,
            "justify_content": null,
            "_view_module": "@jupyter-widgets/base",
            "overflow": null,
            "_model_module_version": "1.2.0",
            "_view_count": null,
            "flex_flow": null,
            "width": null,
            "min_width": null,
            "border": null,
            "align_items": null,
            "bottom": null,
            "_model_module": "@jupyter-widgets/base",
            "top": null,
            "grid_column": null,
            "overflow_y": null,
            "overflow_x": null,
            "grid_auto_flow": null,
            "grid_area": null,
            "grid_template_columns": null,
            "flex": null,
            "_model_name": "LayoutModel",
            "justify_items": null,
            "grid_row": null,
            "max_height": null,
            "align_content": null,
            "visibility": null,
            "align_self": null,
            "height": null,
            "min_height": null,
            "padding": null,
            "grid_auto_rows": null,
            "grid_gap": null,
            "max_width": null,
            "order": null,
            "_view_module_version": "1.2.0",
            "grid_template_areas": null,
            "object_position": null,
            "object_fit": null,
            "grid_auto_columns": null,
            "margin": null,
            "display": null,
            "left": null
          }
        },
        "fc2864628ec7496da0a88393da548ff8": {
          "model_module": "@jupyter-widgets/controls",
          "model_name": "ButtonStyleModel",
          "model_module_version": "1.5.0",
          "state": {
            "_view_name": "StyleView",
            "_model_name": "ButtonStyleModel",
            "_view_module": "@jupyter-widgets/base",
            "_model_module_version": "1.5.0",
            "_view_count": null,
            "button_color": null,
            "font_weight": "",
            "_view_module_version": "1.2.0",
            "_model_module": "@jupyter-widgets/controls"
          }
        },
        "e72ddd37c09b42b3982acfc03229e9d2": {
          "model_module": "@jupyter-widgets/base",
          "model_name": "LayoutModel",
          "model_module_version": "1.2.0",
          "state": {
            "_view_name": "LayoutView",
            "grid_template_rows": null,
            "right": null,
            "justify_content": null,
            "_view_module": "@jupyter-widgets/base",
            "overflow": null,
            "_model_module_version": "1.2.0",
            "_view_count": null,
            "flex_flow": null,
            "width": null,
            "min_width": null,
            "border": null,
            "align_items": null,
            "bottom": null,
            "_model_module": "@jupyter-widgets/base",
            "top": null,
            "grid_column": null,
            "overflow_y": null,
            "overflow_x": null,
            "grid_auto_flow": null,
            "grid_area": null,
            "grid_template_columns": null,
            "flex": null,
            "_model_name": "LayoutModel",
            "justify_items": null,
            "grid_row": null,
            "max_height": null,
            "align_content": null,
            "visibility": null,
            "align_self": null,
            "height": null,
            "min_height": null,
            "padding": null,
            "grid_auto_rows": null,
            "grid_gap": null,
            "max_width": null,
            "order": null,
            "_view_module_version": "1.2.0",
            "grid_template_areas": null,
            "object_position": null,
            "object_fit": null,
            "grid_auto_columns": null,
            "margin": null,
            "display": null,
            "left": null
          }
        },
        "5d3feb8e0a6a463282d2712af6fdc725": {
          "model_module": "@jupyter-widgets/base",
          "model_name": "LayoutModel",
          "model_module_version": "1.2.0",
          "state": {
            "_view_name": "LayoutView",
            "grid_template_rows": null,
            "right": null,
            "justify_content": null,
            "_view_module": "@jupyter-widgets/base",
            "overflow": null,
            "_model_module_version": "1.2.0",
            "_view_count": null,
            "flex_flow": null,
            "width": null,
            "min_width": null,
            "border": null,
            "align_items": null,
            "bottom": null,
            "_model_module": "@jupyter-widgets/base",
            "top": null,
            "grid_column": null,
            "overflow_y": null,
            "overflow_x": null,
            "grid_auto_flow": null,
            "grid_area": null,
            "grid_template_columns": null,
            "flex": null,
            "_model_name": "LayoutModel",
            "justify_items": null,
            "grid_row": null,
            "max_height": null,
            "align_content": null,
            "visibility": null,
            "align_self": null,
            "height": null,
            "min_height": null,
            "padding": null,
            "grid_auto_rows": null,
            "grid_gap": null,
            "max_width": null,
            "order": null,
            "_view_module_version": "1.2.0",
            "grid_template_areas": null,
            "object_position": null,
            "object_fit": null,
            "grid_auto_columns": null,
            "margin": null,
            "display": null,
            "left": null
          }
        }
      }
    }
  },
  "cells": [
    {
      "cell_type": "code",
      "metadata": {
        "id": "zuYAlM5PjKMC"
      },
      "source": [
        "%matplotlib inline\n",
        "\n",
        "import numpy as np\n",
        "import matplotlib.pyplot as plt\n",
        "import pandas as pd"
      ],
      "execution_count": 1,
      "outputs": []
    },
    {
      "cell_type": "code",
      "metadata": {
        "id": "TyuLAXl3jKMJ"
      },
      "source": [
        "from tensorflow.keras.utils import to_categorical\n",
        "from tensorflow.keras.models import Sequential\n",
        "from tensorflow.keras.layers import Conv2D, MaxPooling2D\n",
        "from tensorflow.keras.layers import Dense, Flatten\n",
        "from tensorflow.keras.optimizers import SGD"
      ],
      "execution_count": 2,
      "outputs": []
    },
    {
      "cell_type": "markdown",
      "metadata": {
        "id": "iyaD2Zd8jKML"
      },
      "source": [
        "### 1. 讀入 MNSIT 數據集"
      ]
    },
    {
      "cell_type": "code",
      "metadata": {
        "id": "1qKcSNBfjKMN"
      },
      "source": [
        "from tensorflow.keras.datasets import mnist"
      ],
      "execution_count": 3,
      "outputs": []
    },
    {
      "cell_type": "code",
      "metadata": {
        "id": "SZUi4eeBjKMN",
        "outputId": "324ca06f-b22a-4425-ecb1-31d7aac7cbe8",
        "colab": {
          "base_uri": "https://localhost:8080/"
        }
      },
      "source": [
        "(x_train, y_train), (x_test, y_test) = mnist.load_data()"
      ],
      "execution_count": 4,
      "outputs": [
        {
          "output_type": "stream",
          "name": "stdout",
          "text": [
            "Downloading data from https://storage.googleapis.com/tensorflow/tf-keras-datasets/mnist.npz\n",
            "11493376/11490434 [==============================] - 0s 0us/step\n",
            "11501568/11490434 [==============================] - 0s 0us/step\n"
          ]
        }
      ]
    },
    {
      "cell_type": "markdown",
      "metadata": {
        "id": "EPoeX3UHjKMO"
      },
      "source": [
        "### 2. 資料整理"
      ]
    },
    {
      "cell_type": "markdown",
      "metadata": {
        "id": "vkjztNItjKMO"
      },
      "source": [
        "### Channel\n",
        "\n",
        "CNN 要注意一張圖有多少個 channel, 開始我們因為只有灰階, 所以只有一個 channel。因此我們要轉一下我們的資料格式:\n",
        "\n",
        "    (28,28) --> (28, 28, 1)"
      ]
    },
    {
      "cell_type": "code",
      "metadata": {
        "id": "kwGUsXrijKMP"
      },
      "source": [
        "x_train = x_train.reshape(60000, 28, 28, 1) / 255"
      ],
      "execution_count": 5,
      "outputs": []
    },
    {
      "cell_type": "code",
      "metadata": {
        "id": "cpkulR34jKMQ"
      },
      "source": [
        "x_test = x_test.reshape(10000, 28, 28, 1) / 255"
      ],
      "execution_count": 6,
      "outputs": []
    },
    {
      "cell_type": "code",
      "metadata": {
        "id": "jf4IfL8ejKMR"
      },
      "source": [
        "y_train = to_categorical(y_train, 10)\n",
        "y_test = to_categorical(y_test, 10)"
      ],
      "execution_count": 7,
      "outputs": []
    },
    {
      "cell_type": "markdown",
      "metadata": {
        "id": "OUQQabN4jKMR"
      },
      "source": [
        "### 3. step 1: 打造函數學習機 (CNN)"
      ]
    },
    {
      "cell_type": "code",
      "metadata": {
        "id": "VDwwU1zXjKMS"
      },
      "source": [
        "model = Sequential()"
      ],
      "execution_count": 8,
      "outputs": []
    },
    {
      "cell_type": "code",
      "metadata": {
        "id": "LSAqOpPKjKMS"
      },
      "source": [
        "model.add(Conv2D(16, (3,3), padding='same',\n",
        "                input_shape=(28,28,1),\n",
        "                activation='relu'))"
      ],
      "execution_count": 9,
      "outputs": []
    },
    {
      "cell_type": "code",
      "metadata": {
        "id": "dFWGC_brjKMT"
      },
      "source": [
        "model.add(MaxPooling2D(pool_size=(2,2)))"
      ],
      "execution_count": 10,
      "outputs": []
    },
    {
      "cell_type": "code",
      "metadata": {
        "id": "eTFXo9X1jKMT"
      },
      "source": [
        "model.add(Conv2D(32, (3,3), padding='same',\n",
        "                activation='relu'))"
      ],
      "execution_count": 11,
      "outputs": []
    },
    {
      "cell_type": "code",
      "metadata": {
        "id": "Ij9IUgDEjKMT"
      },
      "source": [
        "model.add(MaxPooling2D(pool_size=(2,2)))"
      ],
      "execution_count": 12,
      "outputs": []
    },
    {
      "cell_type": "code",
      "metadata": {
        "id": "XpGvvNKojKMU"
      },
      "source": [
        "model.add(Conv2D(64, (3,3), padding='same',\n",
        "                activation='relu'))"
      ],
      "execution_count": 13,
      "outputs": []
    },
    {
      "cell_type": "code",
      "metadata": {
        "id": "IDr90kuCjKMU"
      },
      "source": [
        "model.add(MaxPooling2D(pool_size=(2,2)))"
      ],
      "execution_count": 14,
      "outputs": []
    },
    {
      "cell_type": "code",
      "metadata": {
        "id": "cYjPe9DSjKMU"
      },
      "source": [
        "model.add(Flatten())"
      ],
      "execution_count": 15,
      "outputs": []
    },
    {
      "cell_type": "code",
      "metadata": {
        "id": "NQYbMMCFjKMU"
      },
      "source": [
        "model.add(Dense(54, activation='relu'))"
      ],
      "execution_count": 16,
      "outputs": []
    },
    {
      "cell_type": "code",
      "metadata": {
        "id": "_sACeE2UjKMV"
      },
      "source": [
        "model.add(Dense(10, activation='softmax'))"
      ],
      "execution_count": 17,
      "outputs": []
    },
    {
      "cell_type": "markdown",
      "metadata": {
        "id": "67adQ_2LjKMV"
      },
      "source": [
        "#### 看一下我們的神經網路"
      ]
    },
    {
      "cell_type": "code",
      "metadata": {
        "id": "EGghX_63jKMV",
        "outputId": "cce9200d-5e17-4c4f-d1fa-c15728f98583",
        "colab": {
          "base_uri": "https://localhost:8080/"
        }
      },
      "source": [
        "model.summary()"
      ],
      "execution_count": 18,
      "outputs": [
        {
          "output_type": "stream",
          "name": "stdout",
          "text": [
            "Model: \"sequential\"\n",
            "_________________________________________________________________\n",
            "Layer (type)                 Output Shape              Param #   \n",
            "=================================================================\n",
            "conv2d (Conv2D)              (None, 28, 28, 16)        160       \n",
            "_________________________________________________________________\n",
            "max_pooling2d (MaxPooling2D) (None, 14, 14, 16)        0         \n",
            "_________________________________________________________________\n",
            "conv2d_1 (Conv2D)            (None, 14, 14, 32)        4640      \n",
            "_________________________________________________________________\n",
            "max_pooling2d_1 (MaxPooling2 (None, 7, 7, 32)          0         \n",
            "_________________________________________________________________\n",
            "conv2d_2 (Conv2D)            (None, 7, 7, 64)          18496     \n",
            "_________________________________________________________________\n",
            "max_pooling2d_2 (MaxPooling2 (None, 3, 3, 64)          0         \n",
            "_________________________________________________________________\n",
            "flatten (Flatten)            (None, 576)               0         \n",
            "_________________________________________________________________\n",
            "dense (Dense)                (None, 54)                31158     \n",
            "_________________________________________________________________\n",
            "dense_1 (Dense)              (None, 10)                550       \n",
            "=================================================================\n",
            "Total params: 55,004\n",
            "Trainable params: 55,004\n",
            "Non-trainable params: 0\n",
            "_________________________________________________________________\n"
          ]
        }
      ]
    },
    {
      "cell_type": "markdown",
      "metadata": {
        "id": "s8RD3-BZjKMW"
      },
      "source": [
        "#### 組裝"
      ]
    },
    {
      "cell_type": "code",
      "metadata": {
        "id": "Kg3CHTAdjKMW",
        "outputId": "e6f0e8fd-acc5-44da-ebb8-72ee47f35470",
        "colab": {
          "base_uri": "https://localhost:8080/"
        }
      },
      "source": [
        "model.compile(loss='mse', optimizer=SGD(lr=0.087),\n",
        "             metrics=['accuracy'])"
      ],
      "execution_count": 19,
      "outputs": [
        {
          "output_type": "stream",
          "name": "stderr",
          "text": [
            "/usr/local/lib/python3.7/dist-packages/keras/optimizer_v2/optimizer_v2.py:356: UserWarning: The `lr` argument is deprecated, use `learning_rate` instead.\n",
            "  \"The `lr` argument is deprecated, use `learning_rate` instead.\")\n"
          ]
        }
      ]
    },
    {
      "cell_type": "markdown",
      "metadata": {
        "id": "o6a3rkACjKMX"
      },
      "source": [
        "### 4. step 2: fit"
      ]
    },
    {
      "cell_type": "code",
      "metadata": {
        "scrolled": true,
        "id": "hHQzDLlDjKMX",
        "outputId": "c95f91ad-bc04-4cae-ffcc-0866abf01cfd",
        "colab": {
          "base_uri": "https://localhost:8080/"
        }
      },
      "source": [
        "model.fit(x_train, y_train, batch_size=128, epochs=12)"
      ],
      "execution_count": 20,
      "outputs": [
        {
          "output_type": "stream",
          "name": "stdout",
          "text": [
            "Epoch 1/12\n",
            "469/469 [==============================] - 42s 88ms/step - loss: 0.0894 - accuracy: 0.1863\n",
            "Epoch 2/12\n",
            "469/469 [==============================] - 41s 88ms/step - loss: 0.0875 - accuracy: 0.3411\n",
            "Epoch 3/12\n",
            "469/469 [==============================] - 42s 90ms/step - loss: 0.0675 - accuracy: 0.5371\n",
            "Epoch 4/12\n",
            "469/469 [==============================] - 42s 89ms/step - loss: 0.0274 - accuracy: 0.8292\n",
            "Epoch 5/12\n",
            "469/469 [==============================] - 42s 89ms/step - loss: 0.0162 - accuracy: 0.8962\n",
            "Epoch 6/12\n",
            "469/469 [==============================] - 42s 89ms/step - loss: 0.0123 - accuracy: 0.9219\n",
            "Epoch 7/12\n",
            "469/469 [==============================] - 42s 89ms/step - loss: 0.0102 - accuracy: 0.9346\n",
            "Epoch 8/12\n",
            "469/469 [==============================] - 43s 92ms/step - loss: 0.0089 - accuracy: 0.9438\n",
            "Epoch 9/12\n",
            "469/469 [==============================] - 42s 89ms/step - loss: 0.0079 - accuracy: 0.9492\n",
            "Epoch 10/12\n",
            "469/469 [==============================] - 42s 89ms/step - loss: 0.0072 - accuracy: 0.9532\n",
            "Epoch 11/12\n",
            "469/469 [==============================] - 41s 88ms/step - loss: 0.0066 - accuracy: 0.9579\n",
            "Epoch 12/12\n",
            "469/469 [==============================] - 42s 89ms/step - loss: 0.0061 - accuracy: 0.9612\n"
          ]
        },
        {
          "output_type": "execute_result",
          "data": {
            "text/plain": [
              "<keras.callbacks.History at 0x7ff4436da110>"
            ]
          },
          "metadata": {},
          "execution_count": 20
        }
      ]
    },
    {
      "cell_type": "markdown",
      "metadata": {
        "id": "jrpR48jcjKMX"
      },
      "source": [
        "### Step 3. 預測"
      ]
    },
    {
      "cell_type": "code",
      "metadata": {
        "id": "yNgGIB5IjKMX"
      },
      "source": [
        "#result = model.predict_classes(x_test)\n",
        "predict_x=model.predict(x_test) \n",
        "result=np.argmax(predict_x,axis=1)"
      ],
      "execution_count": 22,
      "outputs": []
    },
    {
      "cell_type": "markdown",
      "metadata": {
        "id": "HlKmiBqyjKMY"
      },
      "source": [
        "### 看看測試資料表現如何"
      ]
    },
    {
      "cell_type": "code",
      "metadata": {
        "id": "QODB5Q8yjKMY",
        "outputId": "efa5dc5b-8248-42b2-9075-5c1f0020fb08",
        "colab": {
          "base_uri": "https://localhost:8080/"
        }
      },
      "source": [
        "loss, acc = model.evaluate(x_test, y_test)"
      ],
      "execution_count": 23,
      "outputs": [
        {
          "output_type": "stream",
          "name": "stdout",
          "text": [
            "313/313 [==============================] - 3s 10ms/step - loss: 0.0058 - accuracy: 0.9644\n"
          ]
        }
      ]
    },
    {
      "cell_type": "code",
      "metadata": {
        "id": "TglpJ_jFjKMY",
        "outputId": "981b210c-49fd-4695-86cb-96498348c736",
        "colab": {
          "base_uri": "https://localhost:8080/"
        }
      },
      "source": [
        "print(f'測試資料的正確率為 {acc*100:.2f}%')"
      ],
      "execution_count": 24,
      "outputs": [
        {
          "output_type": "stream",
          "name": "stdout",
          "text": [
            "測試資料的正確率為 96.44%\n"
          ]
        }
      ]
    },
    {
      "cell_type": "code",
      "metadata": {
        "id": "-qFcffwmjKMY"
      },
      "source": [
        "def my_predict(n):\n",
        "    print('我可愛的 CNN 預測是', result[n])\n",
        "    X = x_test[n].reshape(28,28)\n",
        "    plt.imshow(X, cmap='Greys')"
      ],
      "execution_count": 25,
      "outputs": []
    },
    {
      "cell_type": "code",
      "metadata": {
        "id": "Pix0b2GWjKMZ"
      },
      "source": [
        "from ipywidgets import interact_manual"
      ],
      "execution_count": 26,
      "outputs": []
    },
    {
      "cell_type": "code",
      "metadata": {
        "id": "GLLl7ZHpjKMZ",
        "outputId": "38cd62d5-46da-4560-c9fd-036602ec3795",
        "colab": {
          "base_uri": "https://localhost:8080/",
          "height": 347,
          "referenced_widgets": [
            "0b482c433daf4598ae901cec08c5052e",
            "8de60163157e4ea39cd4a62b333360c3",
            "9ce34f1cf81d42548fdad6a4ea8a1d9b",
            "0c6fb866fc9748448dc9074838436132",
            "b289d4a5e73a4d00a21aa141535039c8",
            "b092dd25c2354974888e04816b4ef51e",
            "ea1a79e38db946c69cb803feedb851c7",
            "fc2864628ec7496da0a88393da548ff8",
            "e72ddd37c09b42b3982acfc03229e9d2",
            "5d3feb8e0a6a463282d2712af6fdc725"
          ]
        }
      },
      "source": [
        "interact_manual(my_predict, n=(0, 9999));"
      ],
      "execution_count": 27,
      "outputs": [
        {
          "output_type": "display_data",
          "data": {
            "application/vnd.jupyter.widget-view+json": {
              "model_id": "0b482c433daf4598ae901cec08c5052e",
              "version_minor": 0,
              "version_major": 2
            },
            "text/plain": [
              "interactive(children=(IntSlider(value=4999, description='n', max=9999), Button(description='Run Interact', sty…"
            ]
          },
          "metadata": {}
        }
      ]
    },
    {
      "cell_type": "markdown",
      "metadata": {
        "id": "O9xTMZIfjKMZ"
      },
      "source": [
        "### 把我們的 model 存起來"
      ]
    },
    {
      "cell_type": "code",
      "metadata": {
        "id": "rzqg4R7vjKMZ"
      },
      "source": [
        "model.save('myCNNmodel.h5')"
      ],
      "execution_count": 28,
      "outputs": []
    }
  ]
}