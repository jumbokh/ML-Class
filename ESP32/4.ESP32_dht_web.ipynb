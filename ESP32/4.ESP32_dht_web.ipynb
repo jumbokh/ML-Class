{
  "nbformat": 4,
  "nbformat_minor": 0,
  "metadata": {
    "kernelspec": {
      "display_name": "MicroPython - USB",
      "language": "micropython",
      "name": "micropython"
    },
    "language_info": {
      "codemirror_mode": "python",
      "file_extension": ".py",
      "mimetype": "text/python",
      "name": "micropython"
    },
    "colab": {
      "name": "4.ESP32_dht_web.ipynb",
      "provenance": []
    }
  },
  "cells": [
    {
      "cell_type": "code",
      "metadata": {
        "id": "NAN5V67Rrp-5",
        "outputId": "ee81b820-a6fd-4dd8-95a1-4bea972a27b7"
      },
      "source": [
        "%serialconnect --port COM5"
      ],
      "execution_count": null,
      "outputs": [
        {
          "name": "stdout",
          "output_type": "stream",
          "text": [
            "serial exception on close WriteFile failed (PermissionError(13, '裝置無法辨識命令。', None, 22))\n",
            "\u001b[34mConnecting to --port=COM5 --baud=115200 \u001b[0m\n",
            "\u001b[34mReady.\n",
            "\u001b[0m"
          ]
        }
      ]
    },
    {
      "cell_type": "code",
      "metadata": {
        "id": "aegJQBEprp_B",
        "outputId": "cd2297f7-a8dc-40a7-8898-09a79ce3a8c8"
      },
      "source": [
        "%sendtofile ap.txt\n",
        "CHT-10-5\n",
        "0953313123"
      ],
      "execution_count": null,
      "outputs": [
        {
          "name": "stdout",
          "output_type": "stream",
          "text": [
            "Sent 2 lines (19 bytes) to ap.txt.\n"
          ]
        }
      ]
    },
    {
      "cell_type": "code",
      "metadata": {
        "id": "skPGza98rp_C",
        "outputId": "92f56675-7ee6-4190-dd44-74da1e2dd458"
      },
      "source": [
        "%rebootdevice"
      ],
      "execution_count": null,
      "outputs": [
        {
          "name": "stdout",
          "output_type": "stream",
          "text": [
            "normal repl mode not detected b'\\r\\nMicroPython v1.10-8-g8b7039d7d on 2019-01-26; ESP module with ESP8266\\r\\nType \"help()\" for more information.\\r\\n>>> \\r\\n>>> \\r\\nPYB: soft rebTraceback (most recent call last):\\r\\n  File \"boot.py\", line 24, in <module>\\r\\nKeyboardInterrupt: \\r\\n'\n",
            "not command mode\n",
            "\u001b[31m[Timed out waiting for recognizable response]\n",
            "\u001b[0m"
          ]
        }
      ]
    },
    {
      "cell_type": "code",
      "metadata": {
        "id": "LR1ksAe-rp_D",
        "outputId": "a953814b-b67f-4abd-f125-ab85fd9ca0df"
      },
      "source": [
        "import os\n",
        "print(os.listdir())"
      ],
      "execution_count": null,
      "outputs": [
        {
          "name": "stdout",
          "output_type": "stream",
          "text": [
            "['ap.txt', 'main.py', 'webtool.html', 'gy80.py', 'capture.py', 'quaternions.py', 'telescope_server.py']\r\n"
          ]
        }
      ]
    },
    {
      "cell_type": "code",
      "metadata": {
        "id": "Ci868pCDrp_E",
        "outputId": "773f780b-b8dd-4d91-a29a-71f26a9e1c54"
      },
      "source": [
        "f = open('boot.py')\n",
        "print(f.read())"
      ],
      "execution_count": null,
      "outputs": [
        {
          "name": "stdout",
          "output_type": "stream",
          "text": [
            "# This file is executed on every boot (including wake-boot from deepsleep)\n",
            "#import esp\n",
            "#esp.osdebug(None)\n",
            "import uos, machine\n",
            "#uos.dupterm(None, 1) # disable REPL on UART(0)\n",
            "import gc\n",
            "import webrepl\n",
            "webrepl.start()\n",
            "gc.collect()\n"
          ]
        }
      ]
    },
    {
      "cell_type": "code",
      "metadata": {
        "id": "lARQIjokrp_E",
        "outputId": "ec96057e-de28-41f6-ff21-1c9820dbb756"
      },
      "source": [
        "import network\n",
        "sta = network.WLAN(network.STA_IF)\n",
        "sta.active(True)\n",
        "sta.connect('CHT-10-5','0953313123')\n",
        "sta.active()\n",
        "print(sta.ifconfig())"
      ],
      "execution_count": null,
      "outputs": [
        {
          "name": "stdout",
          "output_type": "stream",
          "text": [
            "('192.168.1.106', '255.255.255.0', '192.168.1.1', '192.168.1.1')\r\n"
          ]
        }
      ]
    },
    {
      "cell_type": "code",
      "metadata": {
        "id": "NxhWCj42rp_F",
        "outputId": "cfa3ee2c-1d0e-487a-a041-f94e56f8ddba"
      },
      "source": [
        "%sendtofile boot.py\n",
        "try:\n",
        "  import usocket as socket\n",
        "except:\n",
        "  import socket\n",
        "\n",
        "import network\n",
        "from machine import Pin\n",
        "import dht\n",
        "\n",
        "import esp\n",
        "esp.osdebug(None)\n",
        "\n",
        "import gc\n",
        "gc.collect()\n",
        "\n",
        "ssid = 'CHT-10-5'\n",
        "password = '0953313123'\n",
        "\n",
        "station = network.WLAN(network.STA_IF)\n",
        "\n",
        "station.active(True)\n",
        "station.connect(ssid, password)\n",
        "\n",
        "while station.isconnected() == False:\n",
        "  pass\n",
        "\n",
        "print('Connection successful')\n",
        "print(station.ifconfig())\n",
        "\n",
        "#sensor = dht.DHT22(Pin(14))\n",
        "sensor = dht.DHT11(Pin(5))"
      ],
      "execution_count": null,
      "outputs": [
        {
          "name": "stdout",
          "output_type": "stream",
          "text": [
            "Sent 31 lines (458 bytes) to boot.py.\n"
          ]
        }
      ]
    },
    {
      "cell_type": "code",
      "metadata": {
        "id": "NYXZpO3_rp_H",
        "outputId": "620b927d-f58e-4566-80b0-79720e721f2a"
      },
      "source": [
        "%sendtofile main.py\n",
        "# Complete project details at https://RandomNerdTutorials.com\n",
        "\n",
        "def read_sensor():\n",
        "  global temp, hum\n",
        "  temp = hum = 0\n",
        "  try:\n",
        "    sensor.measure()\n",
        "    temp = sensor.temperature()\n",
        "    hum = sensor.humidity()\n",
        "    if (isinstance(temp, float) and isinstance(hum, float)) or (isinstance(temp, int) and isinstance(hum, int)):\n",
        "      msg = (b'{0:3.1f},{1:3.1f}'.format(temp, hum))\n",
        "\n",
        "      # uncomment for Fahrenheit\n",
        "      #temp = temp * (9/5) + 32.0\n",
        "\n",
        "      hum = round(hum, 2)\n",
        "      return(msg)\n",
        "    else:\n",
        "      return('Invalid sensor readings.')\n",
        "  except OSError as e:\n",
        "    return('Failed to read sensor.')\n",
        "\n",
        "def web_page():\n",
        "  html = \"\"\"<!DOCTYPE HTML><html>\n",
        "<head>\n",
        "  <meta name=\"viewport\" content=\"width=device-width, initial-scale=1\">\n",
        "  <link rel=\"stylesheet\" href=\"https://use.fontawesome.com/releases/v5.7.2/css/all.css\" integrity=\"sha384-fnmOCqbTlWIlj8LyTjo7mOUStjsKC4pOpQbqyi7RrhN7udi9RwhKkMHpvLbHG9Sr\" crossorigin=\"anonymous\">\n",
        "  <style>\n",
        "    html {\n",
        "     font-family: Arial;\n",
        "     display: inline-block;\n",
        "     margin: 0px auto;\n",
        "     text-align: center;\n",
        "    }\n",
        "    h2 { font-size: 3.0rem; }\n",
        "    p { font-size: 3.0rem; }\n",
        "    .units { font-size: 1.2rem; }\n",
        "    .dht-labels{\n",
        "      font-size: 1.5rem;\n",
        "      vertical-align:middle;\n",
        "      padding-bottom: 15px;\n",
        "    }\n",
        "  </style>\n",
        "</head>\n",
        "<body>\n",
        "  <h2>ESP32 DHT Server</h2>\n",
        "  <p>\n",
        "    <i class=\"fas fa-thermometer-half\" style=\"color:#059e8a;\"></i> \n",
        "    <span class=\"dht-labels\">Temperature</span> \n",
        "    <span>\"\"\"+str(temp)+\"\"\"</span>\n",
        "    <sup class=\"units\">&deg;C</sup>\n",
        "  </p>\n",
        "  <p>\n",
        "    <i class=\"fas fa-tint\" style=\"color:#00add6;\"></i> \n",
        "    <span class=\"dht-labels\">Humidity</span>\n",
        "    <span>\"\"\"+str(hum)+\"\"\"</span>\n",
        "    <sup class=\"units\">%</sup>\n",
        "  </p>\n",
        "</body>\n",
        "</html>\"\"\"\n",
        "  return html\n",
        "\n",
        "s = socket.socket(socket.AF_INET, socket.SOCK_STREAM)\n",
        "s.bind(('', 80))\n",
        "s.listen(5)\n",
        "\n",
        "while True:\n",
        "  conn, addr = s.accept()\n",
        "  print('Got a connection from %s' % str(addr))\n",
        "  request = conn.recv(1024)\n",
        "  print('Content = %s' % str(request))\n",
        "  sensor_readings = read_sensor()\n",
        "  print(sensor_readings)\n",
        "  response = web_page()\n",
        "  conn.send('HTTP/1.1 200 OK\\n')\n",
        "  conn.send('Content-Type: text/html\\n')\n",
        "  conn.send('Connection: close\\n\\n')\n",
        "  conn.sendall(response)\n",
        "  conn.close()"
      ],
      "execution_count": null,
      "outputs": [
        {
          "name": "stdout",
          "output_type": "stream",
          "text": [
            "Sent 79 lines (2186 bytes) to main.py.\n"
          ]
        }
      ]
    },
    {
      "cell_type": "code",
      "metadata": {
        "id": "YrFRNsPcrp_I"
      },
      "source": [
        "'''\n",
        "<i class=\"fas fa-thermometer-half\" style=\"color:#00add6;\"></i>\n",
        "<i class=\"fas fa-humidity\" style=\"color:#00add6;\"></i>\n",
        "<p>\n",
        "  <i class=\"fas fa-tint\" style=\"color:#00add6;\"></i> \n",
        "  <span class=\"dht-labels\">Humidity</span>\n",
        "  <span>\"\"\"+str(hum)+\"\"\"</span>\n",
        "  <sup class=\"units\">%</sup>\n",
        "</p>\n",
        "'''"
      ],
      "execution_count": null,
      "outputs": []
    },
    {
      "cell_type": "code",
      "metadata": {
        "id": "6NkG9jrQrp_J"
      },
      "source": [
        "s = socket.socket(socket.AF_INET, socket.SOCK_STREAM)\n",
        "s.bind(('', 80))\n",
        "s.listen(5)\n",
        "\n",
        "while True:\n",
        "  conn, addr = s.accept()\n",
        "  print('Got a connection from %s' % str(addr))\n",
        "  request = conn.recv(1024)\n",
        "  print('Content = %s' % str(request))\n",
        "  sensor_readings = read_sensor()\n",
        "  print(sensor_readings)\n",
        "  response = web_page()\n",
        "  conn.send('HTTP/1.1 200 OK\\n')\n",
        "  conn.send('Content-Type: text/html\\n')\n",
        "  conn.send('Connection: close\\n\\n')\n",
        "  conn.sendall(response)\n",
        "  conn.close()"
      ],
      "execution_count": null,
      "outputs": []
    }
  ]
}