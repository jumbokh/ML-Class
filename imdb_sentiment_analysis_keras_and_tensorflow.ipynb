{
  "nbformat": 4,
  "nbformat_minor": 0,
  "metadata": {
    "kernelspec": {
      "display_name": "Python 3",
      "language": "python",
      "name": "python3"
    },
    "language_info": {
      "name": "python",
      "version": "3.6.4",
      "mimetype": "text/x-python",
      "codemirror_mode": {
        "name": "ipython",
        "version": 3
      },
      "pygments_lexer": "ipython3",
      "nbconvert_exporter": "python",
      "file_extension": ".py"
    },
    "colab": {
      "name": "imdb-sentiment-analysis-keras-and-tensorflow.ipynb",
      "provenance": [],
      "include_colab_link": true
    },
    "accelerator": "GPU"
  },
  "cells": [
    {
      "cell_type": "markdown",
      "metadata": {
        "id": "view-in-github",
        "colab_type": "text"
      },
      "source": [
        "<a href=\"https://colab.research.google.com/github/jumbokh/ML-Class/blob/main/imdb_sentiment_analysis_keras_and_tensorflow.ipynb\" target=\"_parent\"><img src=\"https://colab.research.google.com/assets/colab-badge.svg\" alt=\"Open In Colab\"/></a>"
      ]
    },
    {
      "cell_type": "markdown",
      "metadata": {
        "_uuid": "bda30bb60722647ec9219ff4644dbf09991582bb",
        "id": "lGiEUxK9QRbT"
      },
      "source": [
        "* **This kernel is based on one of the exercises in the excellent book: [Deep Learning with Python by Francois Chollet](https://www.amazon.com/Deep-Learning-Python-Francois-Chollet/dp/1617294438)\n",
        "**\n",
        "* The kernel imports the IMDB reviews (originally text - already transformed by Keras to integers using a dictionary)\n",
        "* Vectorizes and normalizes the data\n",
        "* Compiles a multi layers NN\n",
        "* Monitors the learning / validation curves for loss and accuracy\n",
        "* Try and error with different layers and hidden units\n",
        "* Employs L1 and L2 weight regularization\n",
        "* Implements a DROPOUT layer\n",
        "\n",
        "* The above mentioned book is a **MUST READ**.\n",
        "* *Thanks Francois for an amazing book !*"
      ]
    },
    {
      "cell_type": "code",
      "metadata": {
        "_uuid": "8f2839f25d086af736a60e9eeb907d3b93b6e0e5",
        "_cell_guid": "b1076dfc-b9ad-4769-8c92-a6c4dae69d19",
        "trusted": true,
        "colab": {
          "base_uri": "https://localhost:8080/"
        },
        "id": "xdiLWsuTQRbW",
        "outputId": "f3ffe46a-4d83-41e9-8ed0-2fcd902b8115"
      },
      "source": [
        "# IMPORT MODULES\n",
        "# TURN ON the GPU !!!\n",
        "# If importing dataset from outside - like this IMDB - Internet must be \"connected\"\n",
        "\n",
        "import os\n",
        "from operator import itemgetter    \n",
        "import numpy as np\n",
        "import pandas as pd\n",
        "import matplotlib.pyplot as plt\n",
        "import warnings\n",
        "warnings.filterwarnings('ignore')\n",
        "get_ipython().magic(u'matplotlib inline')\n",
        "plt.style.use('ggplot')\n",
        "\n",
        "import tensorflow as tf\n",
        "\n",
        "from keras import models, regularizers, layers, optimizers, losses, metrics\n",
        "from keras.models import Sequential\n",
        "from keras.layers import Dense\n",
        "from keras.utils import np_utils, to_categorical\n",
        " \n",
        "from keras.datasets import imdb\n",
        "\n",
        "print(os.getcwd())\n",
        "print(\"Modules imported \\n\")\n",
        "print(\"Files in current directory:\")\n",
        "from subprocess import check_output\n",
        "#print(check_output([\"ls\", \"../input\"]).decode(\"utf8\")) #check the files available in the directory"
      ],
      "execution_count": 1,
      "outputs": [
        {
          "output_type": "stream",
          "text": [
            "/content\n",
            "Modules imported \n",
            "\n",
            "Files in current directory:\n"
          ],
          "name": "stdout"
        }
      ]
    },
    {
      "cell_type": "code",
      "metadata": {
        "trusted": true,
        "_uuid": "2309a027762ad0f83018d32eb194af33bf128021",
        "collapsed": true,
        "colab": {
          "base_uri": "https://localhost:8080/"
        },
        "id": "SfmAOL-_QRbY",
        "outputId": "2c2851a0-9874-466c-f44d-202eb1ee538f"
      },
      "source": [
        "# LOAD IMDB DATA\n",
        "\n",
        "(train_data, train_labels), (test_data, test_labels) = imdb.load_data(\n",
        "num_words=10000)"
      ],
      "execution_count": 2,
      "outputs": [
        {
          "output_type": "stream",
          "text": [
            "Downloading data from https://storage.googleapis.com/tensorflow/tf-keras-datasets/imdb.npz\n",
            "17465344/17464789 [==============================] - 0s 0us/step\n"
          ],
          "name": "stdout"
        }
      ]
    },
    {
      "cell_type": "code",
      "metadata": {
        "trusted": true,
        "_uuid": "563a5a8c65a26338fc42b0bcad94e3e4782be0b6",
        "colab": {
          "base_uri": "https://localhost:8080/"
        },
        "id": "nCXh1T5sQRbY",
        "outputId": "dcdcc4e2-c3ea-4142-f36d-4e1149d9e5f9"
      },
      "source": [
        "print(\"train_data \", train_data.shape)\n",
        "print(\"train_labels \", train_labels.shape)\n",
        "print(\"_\"*100)\n",
        "print(\"test_data \", test_data.shape)\n",
        "print(\"test_labels \", test_labels.shape)\n",
        "print(\"_\"*100)\n",
        "print(\"Maximum value of a word index \")\n",
        "print(max([max(sequence) for sequence in train_data]))\n",
        "print(\"Maximum length num words of review in train \")\n",
        "print(max([len(sequence) for sequence in train_data]))"
      ],
      "execution_count": 3,
      "outputs": [
        {
          "output_type": "stream",
          "text": [
            "train_data  (25000,)\n",
            "train_labels  (25000,)\n",
            "____________________________________________________________________________________________________\n",
            "test_data  (25000,)\n",
            "test_labels  (25000,)\n",
            "____________________________________________________________________________________________________\n",
            "Maximum value of a word index \n",
            "9999\n",
            "Maximum length num words of review in train \n",
            "2494\n"
          ],
          "name": "stdout"
        }
      ]
    },
    {
      "cell_type": "code",
      "metadata": {
        "trusted": true,
        "_uuid": "5db6853639628b911ccdd0e0ecc484f4beeb9284",
        "colab": {
          "base_uri": "https://localhost:8080/"
        },
        "id": "FZrI5djUQRbY",
        "outputId": "8ee4af6c-a878-431d-de38-17e87f9cfa9a"
      },
      "source": [
        "# See an actual review in words\n",
        "# Reverse from integers to words using the DICTIONARY (given by keras...need to do nothing to create it)\n",
        "\n",
        "word_index = imdb.get_word_index()\n",
        "\n",
        "reverse_word_index = dict(\n",
        "[(value, key) for (key, value) in word_index.items()])\n",
        "\n",
        "decoded_review = ' '.join(\n",
        "[reverse_word_index.get(i - 3, '?') for i in train_data[123]])\n",
        "\n",
        "print(decoded_review)"
      ],
      "execution_count": 4,
      "outputs": [
        {
          "output_type": "stream",
          "text": [
            "Downloading data from https://storage.googleapis.com/tensorflow/tf-keras-datasets/imdb_word_index.json\n",
            "1646592/1641221 [==============================] - 0s 0us/step\n",
            "? beautiful and touching movie rich colors great settings good acting and one of the most charming movies i have seen in a while i never saw such an interesting setting when i was in china my wife liked it so much she asked me to ? on and rate it so other would enjoy too\n"
          ],
          "name": "stdout"
        }
      ]
    },
    {
      "cell_type": "code",
      "metadata": {
        "trusted": true,
        "_uuid": "080f1f790e7294231c1e62c1688666589d51a200",
        "collapsed": true,
        "id": "8sOiFR3PQRbZ"
      },
      "source": [
        "# VECTORIZE as one cannot feed integers into a NN \n",
        "# Encoding the integer sequences into a binary matrix - one hot encoder basically\n",
        "# From integers representing words, at various lengths - to a normalized one hot encoded tensor (matrix) of 10k columns\n",
        "\n",
        "def vectorize_sequences(sequences, dimension=10000):\n",
        "    results = np.zeros((len(sequences), dimension))\n",
        "    for i, sequence in enumerate(sequences):\n",
        "        results[i, sequence] = 1.\n",
        "    return results"
      ],
      "execution_count": 5,
      "outputs": []
    },
    {
      "cell_type": "code",
      "metadata": {
        "trusted": true,
        "_uuid": "f012f8661fd781a95bd6c01197b7a93e944ff38e",
        "colab": {
          "base_uri": "https://localhost:8080/"
        },
        "id": "t8CSIKCLQRbZ",
        "outputId": "a9a044e0-2ac1-4fad-bd5b-72f259ba6436"
      },
      "source": [
        "x_train = vectorize_sequences(train_data)\n",
        "x_test = vectorize_sequences(test_data)\n",
        "\n",
        "print(\"x_train \", x_train.shape)\n",
        "print(\"x_test \", x_test.shape)"
      ],
      "execution_count": 6,
      "outputs": [
        {
          "output_type": "stream",
          "text": [
            "x_train  (25000, 10000)\n",
            "x_test  (25000, 10000)\n"
          ],
          "name": "stdout"
        }
      ]
    },
    {
      "cell_type": "code",
      "metadata": {
        "trusted": true,
        "_uuid": "d561665727e49217e14c86804f148adb6899a7b7",
        "colab": {
          "base_uri": "https://localhost:8080/"
        },
        "id": "qDyMzXRdQRba",
        "outputId": "edacc4b9-46a1-4034-c2db-f9b7d734e005"
      },
      "source": [
        "# VECTORIZE the labels too - NO INTEGERS only floats into a tensor...(rare exceptions)\n",
        "\n",
        "y_train = np.asarray(train_labels).astype('float32')\n",
        "y_test = np.asarray(test_labels).astype('float32')\n",
        "print(\"y_train \", y_train.shape)\n",
        "print(\"y_test \", y_test.shape)"
      ],
      "execution_count": 7,
      "outputs": [
        {
          "output_type": "stream",
          "text": [
            "y_train  (25000,)\n",
            "y_test  (25000,)\n"
          ],
          "name": "stdout"
        }
      ]
    },
    {
      "cell_type": "code",
      "metadata": {
        "trusted": true,
        "_uuid": "bccb4315c1d69c18cab22a633dc68abdff4b35fb",
        "colab": {
          "base_uri": "https://localhost:8080/"
        },
        "id": "KPxawxEZQRba",
        "outputId": "4fbfbf7b-f9b4-4441-9aee-017be5d86534"
      },
      "source": [
        "# Set a VALIDATION set\n",
        "\n",
        "x_val = x_train[:10000]\n",
        "partial_x_train = x_train[10000:]\n",
        "y_val = y_train[:10000]\n",
        "partial_y_train = y_train[10000:]\n",
        "\n",
        "print(\"x_val \", x_val.shape)\n",
        "print(\"partial_x_train \", partial_x_train.shape)\n",
        "print(\"y_val \", y_val.shape)\n",
        "print(\"partial_y_train \", partial_y_train.shape)"
      ],
      "execution_count": 8,
      "outputs": [
        {
          "output_type": "stream",
          "text": [
            "x_val  (10000, 10000)\n",
            "partial_x_train  (15000, 10000)\n",
            "y_val  (10000,)\n",
            "partial_y_train  (15000,)\n"
          ],
          "name": "stdout"
        }
      ]
    },
    {
      "cell_type": "code",
      "metadata": {
        "trusted": true,
        "_uuid": "cf2a055346b2e3252b103f1d0bab9e786e5d5eba",
        "id": "w6Ga3e3RQRba"
      },
      "source": [
        "# NN MODEL\n",
        "\n",
        "# Use of DROPOUT\n",
        "model = models.Sequential()\n",
        "model.add(layers.Dense(16, kernel_regularizer=regularizers.l1(0.001), activation='relu', input_shape=(10000,)))\n",
        "model.add(layers.Dropout(0.5))\n",
        "model.add(layers.Dense(16, kernel_regularizer=regularizers.l1(0.001),activation='relu'))\n",
        "model.add(layers.Dropout(0.5))\n",
        "model.add(layers.Dense(1, activation='sigmoid'))\n",
        "\n",
        "# Use of REGULARIZATION\n",
        "#model = models.Sequential()\n",
        "#model.add(layers.Dense(16, kernel_regularizer=regularizers.l1_l2(l1=0.001, l2=0.001),activation='relu', input_shape=(10000,)))\n",
        "#model.add(layers.Dense(16, kernel_regularizer=regularizers.l1_l2(l1=0.001, l2=0.001),activation='relu'))\n",
        "#model.add(layers.Dense(1, activation='sigmoid'))\n",
        "\n",
        "# REGULARIZERS L1 L2\n",
        "#regularizers.l1(0.001)\n",
        "#regularizers.l2(0.001)\n",
        "#regularizers.l1_l2(l1=0.001, l2=0.001)\n",
        "\n",
        "# OPTIMIZERS\n",
        "#model.compile(optimizer=optimizers.RMSprop(lr=0.001), loss=losses.binary_crossentropy, metrics=[metrics.binary_accuracy])\n",
        "#model.compile(optimizer='rmsprop',loss='binary_crossentropy',metrics=['accuracy'])"
      ],
      "execution_count": 9,
      "outputs": []
    },
    {
      "cell_type": "code",
      "metadata": {
        "trusted": true,
        "_uuid": "356f3351bfa767aca48e91d305961dda2d3b9a9d",
        "scrolled": true,
        "colab": {
          "base_uri": "https://localhost:8080/"
        },
        "id": "w9P9viT3QRbb",
        "outputId": "0ec6b2f5-d6a7-4389-87c0-5d2f957a1eb2"
      },
      "source": [
        "# FIT / TRAIN model\n",
        "\n",
        "NumEpochs = 10\n",
        "BatchSize = 512\n",
        "\n",
        "model.compile(optimizer='rmsprop', loss='binary_crossentropy', metrics=['acc'])\n",
        "\n",
        "history = model.fit(partial_x_train, partial_y_train, epochs=NumEpochs, batch_size=BatchSize, validation_data=(x_val, y_val))\n",
        "\n",
        "results = model.evaluate(x_test, y_test)\n",
        "print(\"_\"*100)\n",
        "print(\"Test Loss and Accuracy\")\n",
        "print(\"results \", results)\n",
        "history_dict = history.history\n",
        "history_dict.keys()"
      ],
      "execution_count": 10,
      "outputs": [
        {
          "output_type": "stream",
          "text": [
            "Epoch 1/10\n",
            "30/30 [==============================] - 5s 44ms/step - loss: 1.5997 - acc: 0.5626 - val_loss: 0.7820 - val_acc: 0.7388\n",
            "Epoch 2/10\n",
            "30/30 [==============================] - 1s 20ms/step - loss: 0.7796 - acc: 0.7065 - val_loss: 0.7129 - val_acc: 0.8143\n",
            "Epoch 3/10\n",
            "30/30 [==============================] - 1s 19ms/step - loss: 0.7401 - acc: 0.7474 - val_loss: 0.6532 - val_acc: 0.8550\n",
            "Epoch 4/10\n",
            "30/30 [==============================] - 1s 20ms/step - loss: 0.6978 - acc: 0.7799 - val_loss: 0.6217 - val_acc: 0.8552\n",
            "Epoch 5/10\n",
            "30/30 [==============================] - 1s 19ms/step - loss: 0.6734 - acc: 0.8062 - val_loss: 0.6235 - val_acc: 0.8379\n",
            "Epoch 6/10\n",
            "30/30 [==============================] - 1s 21ms/step - loss: 0.6594 - acc: 0.8088 - val_loss: 0.6070 - val_acc: 0.8393\n",
            "Epoch 7/10\n",
            "30/30 [==============================] - 1s 21ms/step - loss: 0.6471 - acc: 0.8130 - val_loss: 0.5686 - val_acc: 0.8641\n",
            "Epoch 8/10\n",
            "30/30 [==============================] - 1s 20ms/step - loss: 0.6364 - acc: 0.8219 - val_loss: 0.5533 - val_acc: 0.8642\n",
            "Epoch 9/10\n",
            "30/30 [==============================] - 1s 20ms/step - loss: 0.6246 - acc: 0.8292 - val_loss: 0.5606 - val_acc: 0.8622\n",
            "Epoch 10/10\n",
            "30/30 [==============================] - 1s 19ms/step - loss: 0.6126 - acc: 0.8376 - val_loss: 0.5991 - val_acc: 0.8247\n",
            "782/782 [==============================] - 2s 2ms/step - loss: 0.5994 - acc: 0.8271\n",
            "____________________________________________________________________________________________________\n",
            "Test Loss and Accuracy\n",
            "results  [0.5994150638580322, 0.8270800113677979]\n"
          ],
          "name": "stdout"
        },
        {
          "output_type": "execute_result",
          "data": {
            "text/plain": [
              "dict_keys(['loss', 'acc', 'val_loss', 'val_acc'])"
            ]
          },
          "metadata": {
            "tags": []
          },
          "execution_count": 10
        }
      ]
    },
    {
      "cell_type": "code",
      "metadata": {
        "trusted": true,
        "_uuid": "41489e2204c5d4159f5c90a350aa3ad839e03355",
        "colab": {
          "base_uri": "https://localhost:8080/",
          "height": 299
        },
        "id": "mGVpTWn2QRbb",
        "outputId": "a009f625-3de2-47e4-92d5-d95e37f050c6"
      },
      "source": [
        "# VALIDATION LOSS curves\n",
        "\n",
        "plt.clf()\n",
        "history_dict = history.history\n",
        "loss_values = history_dict['loss']\n",
        "val_loss_values = history_dict['val_loss']\n",
        "epochs = range(1, (len(history_dict['loss']) + 1))\n",
        "plt.plot(epochs, loss_values, 'bo', label='Training loss')\n",
        "plt.plot(epochs, val_loss_values, 'b', label='Validation loss')\n",
        "plt.title('Training and validation loss')\n",
        "plt.xlabel('Epochs')\n",
        "plt.ylabel('Loss')\n",
        "plt.legend()\n",
        "plt.show()"
      ],
      "execution_count": 11,
      "outputs": [
        {
          "output_type": "display_data",
          "data": {
            "image/png": "[encoded data removed]",
            "text/plain": [
              "<Figure size 432x288 with 1 Axes>"
            ]
          },
          "metadata": {
            "tags": [],
            "needs_background": "light"
          }
        }
      ]
    },
    {
      "cell_type": "code",
      "metadata": {
        "trusted": true,
        "_uuid": "abfa37123f9f403041a1c12edd6a87070b78c5ef",
        "colab": {
          "base_uri": "https://localhost:8080/",
          "height": 299
        },
        "id": "aLhR9kl7QRbc",
        "outputId": "0d941699-3033-4c81-d56b-e4e793821925"
      },
      "source": [
        "# VALIDATION ACCURACY curves\n",
        "\n",
        "plt.clf()\n",
        "acc_values = history_dict['acc']\n",
        "val_acc_values = history_dict['val_acc']\n",
        "epochs = range(1, (len(history_dict['acc']) + 1))\n",
        "plt.plot(epochs, acc_values, 'bo', label='Training acc')\n",
        "plt.plot(epochs, val_acc_values, 'b', label='Validation acc')\n",
        "plt.title('Training and validation accuracy')\n",
        "plt.xlabel('Epochs')\n",
        "plt.ylabel('Accuracy')\n",
        "plt.legend()\n",
        "plt.show()"
      ],
      "execution_count": 12,
      "outputs": [
        {
          "output_type": "display_data",
          "data": {
            "image/png": "[encoded data removed]",
            "text/plain": [
              "<Figure size 432x288 with 1 Axes>"
            ]
          },
          "metadata": {
            "tags": [],
            "needs_background": "light"
          }
        }
      ]
    },
    {
      "cell_type": "code",
      "metadata": {
        "trusted": true,
        "_uuid": "2fda90fab3c7038df8291fa4f3185fbb62e9aed4",
        "colab": {
          "base_uri": "https://localhost:8080/"
        },
        "id": "cDru2lj4QRbc",
        "outputId": "a78d09b5-eda1-4dd0-bf7b-eef1d271a07d"
      },
      "source": [
        "# PREDICT\n",
        "\n",
        "model.predict(x_test)"
      ],
      "execution_count": 13,
      "outputs": [
        {
          "output_type": "execute_result",
          "data": {
            "text/plain": [
              "array([[0.37082058],\n",
              "       [0.94849527],\n",
              "       [0.87193114],\n",
              "       ...,\n",
              "       [0.15793328],\n",
              "       [0.13146116],\n",
              "       [0.5678086 ]], dtype=float32)"
            ]
          },
          "metadata": {
            "tags": []
          },
          "execution_count": 13
        }
      ]
    }
  ]
}