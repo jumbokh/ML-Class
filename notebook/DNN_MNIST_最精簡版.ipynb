{
  "nbformat": 4,
  "nbformat_minor": 0,
  "metadata": {
    "colab": {
      "name": "DNN_MNIST-最精簡版.ipynb",
      "provenance": [],
      "collapsed_sections": [],
      "include_colab_link": true
    },
    "kernelspec": {
      "name": "python3",
      "display_name": "Python 3"
    },
    "accelerator": "GPU"
  },
  "cells": [
    {
      "cell_type": "markdown",
      "metadata": {
        "id": "view-in-github",
        "colab_type": "text"
      },
      "source": [
        "<a href=\"https://colab.research.google.com/github/jumbokh/ML-Class/blob/main/notebook/DNN_MNIST_%E6%9C%80%E7%B2%BE%E7%B0%A1%E7%89%88.ipynb\" target=\"_parent\"><img src=\"https://colab.research.google.com/assets/colab-badge.svg\" alt=\"Open In Colab\"/></a>"
      ]
    },
    {
      "cell_type": "markdown",
      "metadata": {
        "id": "pYz7IICNBCtU"
      },
      "source": [
        "#  DNN\n",
        "1. 課程介紹了 \n",
        "  * Neurons, layers 與 Fully Connected\n",
        "  * 圖案\n",
        "  * 資料的流動與運算\n",
        "  * 三個步驟學習了辨識\n",
        "1. 實踐程式的 idea 是從題目到資料到模型到訓練\n",
        "  * 題目資料是從 keras 的 datasets 中取出\n",
        "  * 我們會對資料整理好，讓他吻合模型框架的輸入需求。**其中我們會介紹 one hot encoding**\n",
        "  * 進入第一步驟：建一個模型，基本上的 constrain 是輸入與輸出的大小格式。\n",
        "  * 第二步：loss 寫在 compile() 裡頭。\n",
        "  * 第三步：gradient descent 也寫在 compile() 裡頭。\n",
        "  * 訓練時，我們需要放入多少(哪些）資料？（hint: 我們是監督式學習）\n",
        "1. 比較細或可以多說明的參數有： \n",
        "  * activation 通常用到的有 relu, sigmoid, softmax \n",
        "  * loss = 'categorical_crossentropy', 'binary_crossentropy', 'sparse_categorical_crossentropy', 'mse'\n",
        "  * optimizer 常用的有 adam, sgd, rmsprop, adagrad 等\n",
        "  * validation_split: chap 3 有介紹\n",
        "  * batch_size \n",
        "  * metrics\n",
        "  * verbose\n",
        "  * epochs\n"
      ]
    },
    {
      "cell_type": "code",
      "metadata": {
        "id": "sPymYqzQ4kT0"
      },
      "source": [
        "#%tensorflow_version 1.x\n",
        "import numpy as np\n",
        "import matplotlib.pyplot as plt\n",
        "import tensorflow.keras as keras\n",
        "from keras.datasets import mnist, fashion_mnist   # cifar10, cifar100, fashion_mnist(or mnist_fashion)\n",
        "from keras.utils import np_utils  \n",
        "from keras.models import Sequential, Model\n",
        "from keras.layers import Dense #, Conv2D, LSTM\n",
        "# from keras.utils.vis_utils import plot_model"
      ],
      "execution_count": null,
      "outputs": []
    },
    {
      "cell_type": "code",
      "metadata": {
        "colab": {
          "base_uri": "https://localhost:8080/"
        },
        "id": "zHvFioXqk0VX",
        "outputId": "530c05c6-3c3a-47f3-d4aa-439c7dd3a66b"
      },
      "source": [
        "(X_train, y_train), (X_test, y_test) = mnist.load_data() \n"
      ],
      "execution_count": null,
      "outputs": [
        {
          "output_type": "stream",
          "text": [
            "Downloading data from https://storage.googleapis.com/tensorflow/tf-keras-datasets/mnist.npz\n",
            "11493376/11490434 [==============================] - 0s 0us/step\n",
            "11501568/11490434 [==============================] - 0s 0us/step\n"
          ],
          "name": "stdout"
        }
      ]
    },
    {
      "cell_type": "code",
      "metadata": {
        "colab": {
          "base_uri": "https://localhost:8080/",
          "height": 299
        },
        "id": "IZfZCaRIk19N",
        "outputId": "41950f06-d372-42ad-c7f6-66e53e5a7936"
      },
      "source": [
        "X_train.shape #(60000, 28, 28)\n",
        "X_Train = X_train.reshape(60000,784)\n",
        "X_Train.shape\n",
        "X_Train[1]\n",
        "plt.imshow(X_train[1])\n",
        "print(y_train[1])\n",
        "#[1, 0, 0, 0, ..., 0] # 0\n",
        "#[0, 0, 0, 0, 0, 1, ] # 5\n",
        "y_Train = np_utils.to_categorical(y_train,10)\n",
        "print(y_Train[0])"
      ],
      "execution_count": null,
      "outputs": [
        {
          "output_type": "stream",
          "text": [
            "0\n",
            "[0. 0. 0. 0. 0. 1. 0. 0. 0. 0.]\n"
          ],
          "name": "stdout"
        },
        {
          "output_type": "display_data",
          "data": {
            "image/png": "[encoded data removed]",
            "text/plain": [
              "<Figure size 432x288 with 1 Axes>"
            ]
          },
          "metadata": {
            "needs_background": "light"
          }
        }
      ]
    },
    {
      "cell_type": "code",
      "metadata": {
        "id": "aNvQBPsL4ljT"
      },
      "source": [
        "(X_train, y_train), (X_test, y_test) = mnist.load_data() \n",
        "X_Train = X_train.reshape(60000,784)\n",
        "X_Test = X_test.reshape(10000,784)\n",
        "\n",
        "X_Train = X_Train/255\n",
        "X_Test = X_Test/255\n",
        "# 我要將標籤改成獨熱 One Hot Encoding\n",
        "y_Train = np_utils.to_categorical(y_train,10)\n",
        "# One Hot Encoding \n",
        "# 在 kmean 中如果同學有嘗試 分成三類、五類，然後觀察與思考，應該會發現照片資料的相似度跟答案大小順序無關\n",
        "y_Test = np_utils.to_categorical(y_test, 10)\n",
        "# 基本上訓練資料如何處理，測試資料送進模型函式前也是要完成相同的處理"
      ],
      "execution_count": null,
      "outputs": []
    },
    {
      "cell_type": "code",
      "metadata": {
        "id": "eVrkeHHB5Crf"
      },
      "source": [
        "model = Sequential()\n",
        "model.add(Dense(250, input_dim=784, activation='sigmoid'))  \n",
        "#model.add(Dense(128, activation = 'relu')) \n",
        "#model.add(Dense(252, activation = 'relu'))\n",
        "# (250000, relu, adam, bs = 200: 7s)\n",
        "# (250000, sigmoid, adam, bs = 200: 7s)\n",
        "# (250000, sigmoid, sgd, bs = 200: 5s)\n",
        "# (250000, sigmoid, sgd, bs = 10: 36s)\n",
        "\n",
        "model.add(Dense(10, activation='softmax'))\n",
        "#plot_model(model)"
      ],
      "execution_count": null,
      "outputs": []
    },
    {
      "cell_type": "code",
      "metadata": {
        "colab": {
          "base_uri": "https://localhost:8080/"
        },
        "id": "EhBoz2IJGNQ2",
        "outputId": "8dfce528-3509-4c71-e7b2-26b2440fdf55"
      },
      "source": [
        "model.summary()"
      ],
      "execution_count": null,
      "outputs": [
        {
          "output_type": "stream",
          "text": [
            "Model: \"sequential\"\n",
            "_________________________________________________________________\n",
            "Layer (type)                 Output Shape              Param #   \n",
            "=================================================================\n",
            "dense (Dense)                (None, 250)               196250    \n",
            "_________________________________________________________________\n",
            "dense_1 (Dense)              (None, 10)                2510      \n",
            "=================================================================\n",
            "Total params: 198,760\n",
            "Trainable params: 198,760\n",
            "Non-trainable params: 0\n",
            "_________________________________________________________________\n"
          ],
          "name": "stdout"
        }
      ]
    },
    {
      "cell_type": "code",
      "metadata": {
        "id": "dyismgnZ5IIO",
        "colab": {
          "base_uri": "https://localhost:8080/"
        },
        "outputId": "018b25a4-3555-422c-c7ce-ec53f8bc7344"
      },
      "source": [
        "model.compile(loss='categorical_crossentropy', optimizer =\"adam\", metrics=['accuracy'])\n",
        "# loss = 'mse', optimizer = 'rmsprop'\n",
        "train_history=model.fit(x=X_Train, y=y_Train,validation_split=0.2, epochs=20, batch_size=100, verbose=2)\n",
        "# validation_split = 0 ? batch_size = 50000"
      ],
      "execution_count": null,
      "outputs": [
        {
          "output_type": "stream",
          "text": [
            "Epoch 1/20\n",
            "480/480 - 3s - loss: 0.5203 - accuracy: 0.8679 - val_loss: 0.2851 - val_accuracy: 0.9202\n",
            "Epoch 2/20\n",
            "480/480 - 1s - loss: 0.2637 - accuracy: 0.9243 - val_loss: 0.2225 - val_accuracy: 0.9398\n",
            "Epoch 3/20\n",
            "480/480 - 1s - loss: 0.2089 - accuracy: 0.9397 - val_loss: 0.1858 - val_accuracy: 0.9482\n",
            "Epoch 4/20\n",
            "480/480 - 1s - loss: 0.1714 - accuracy: 0.9499 - val_loss: 0.1634 - val_accuracy: 0.9538\n",
            "Epoch 5/20\n",
            "480/480 - 1s - loss: 0.1424 - accuracy: 0.9588 - val_loss: 0.1443 - val_accuracy: 0.9589\n",
            "Epoch 6/20\n",
            "480/480 - 1s - loss: 0.1221 - accuracy: 0.9650 - val_loss: 0.1345 - val_accuracy: 0.9604\n",
            "Epoch 7/20\n",
            "480/480 - 1s - loss: 0.1047 - accuracy: 0.9701 - val_loss: 0.1181 - val_accuracy: 0.9645\n",
            "Epoch 8/20\n",
            "480/480 - 1s - loss: 0.0904 - accuracy: 0.9750 - val_loss: 0.1127 - val_accuracy: 0.9657\n",
            "Epoch 9/20\n",
            "480/480 - 1s - loss: 0.0780 - accuracy: 0.9786 - val_loss: 0.1046 - val_accuracy: 0.9703\n",
            "Epoch 10/20\n",
            "480/480 - 1s - loss: 0.0681 - accuracy: 0.9814 - val_loss: 0.0956 - val_accuracy: 0.9719\n",
            "Epoch 11/20\n",
            "480/480 - 1s - loss: 0.0595 - accuracy: 0.9838 - val_loss: 0.0918 - val_accuracy: 0.9718\n",
            "Epoch 12/20\n",
            "480/480 - 1s - loss: 0.0515 - accuracy: 0.9867 - val_loss: 0.0882 - val_accuracy: 0.9718\n",
            "Epoch 13/20\n",
            "480/480 - 1s - loss: 0.0456 - accuracy: 0.9880 - val_loss: 0.0849 - val_accuracy: 0.9738\n",
            "Epoch 14/20\n",
            "480/480 - 1s - loss: 0.0390 - accuracy: 0.9903 - val_loss: 0.0844 - val_accuracy: 0.9745\n",
            "Epoch 15/20\n",
            "480/480 - 1s - loss: 0.0344 - accuracy: 0.9918 - val_loss: 0.0803 - val_accuracy: 0.9743\n",
            "Epoch 16/20\n",
            "480/480 - 1s - loss: 0.0295 - accuracy: 0.9937 - val_loss: 0.0798 - val_accuracy: 0.9747\n",
            "Epoch 17/20\n",
            "480/480 - 1s - loss: 0.0255 - accuracy: 0.9949 - val_loss: 0.0774 - val_accuracy: 0.9753\n",
            "Epoch 18/20\n",
            "480/480 - 1s - loss: 0.0217 - accuracy: 0.9960 - val_loss: 0.0767 - val_accuracy: 0.9766\n",
            "Epoch 19/20\n",
            "480/480 - 1s - loss: 0.0190 - accuracy: 0.9966 - val_loss: 0.0762 - val_accuracy: 0.9763\n",
            "Epoch 20/20\n",
            "480/480 - 1s - loss: 0.0163 - accuracy: 0.9975 - val_loss: 0.0774 - val_accuracy: 0.9771\n"
          ],
          "name": "stdout"
        }
      ]
    },
    {
      "cell_type": "code",
      "metadata": {
        "colab": {
          "base_uri": "https://localhost:8080/"
        },
        "id": "6vHjhUV6X3fj",
        "outputId": "945b356d-5994-489d-f805-06ecb4fe2be1"
      },
      "source": [
        "train_history.history.keys()"
      ],
      "execution_count": null,
      "outputs": [
        {
          "output_type": "execute_result",
          "data": {
            "text/plain": [
              "dict_keys(['loss', 'accuracy', 'val_loss', 'val_accuracy'])"
            ]
          },
          "metadata": {},
          "execution_count": 8
        }
      ]
    },
    {
      "cell_type": "code",
      "metadata": {
        "id": "vBrYqWiZ9PJQ",
        "colab": {
          "base_uri": "https://localhost:8080/",
          "height": 541
        },
        "outputId": "4025c616-cc3f-416e-ffe4-f2086fc83c71"
      },
      "source": [
        "plt.plot(train_history.epoch, train_history.history['loss'], label ='loss')\n",
        "plt.plot(train_history.epoch, train_history.history['val_loss'], label='val_loss')\n",
        "plt.xlabel('epoch')\n",
        "plt.ylabel('loss')\n",
        "plt.legend(loc = 1)\n",
        "plt.show()\n",
        "plt.plot(train_history.epoch, train_history.history['accuracy'], label ='accuracy')\n",
        "plt.plot(train_history.epoch, train_history.history['val_accuracy'], label='val_accuracy')\n",
        "plt.xlabel('epoch')\n",
        "plt.ylabel('loss')\n",
        "plt.legend(loc = 4)\n",
        "plt.show()"
      ],
      "execution_count": null,
      "outputs": [
        {
          "output_type": "display_data",
          "data": {
            "image/png": "[encoded data removed]",
            "text/plain": [
              "<Figure size 432x288 with 1 Axes>"
            ]
          },
          "metadata": {
            "needs_background": "light"
          }
        },
        {
          "output_type": "display_data",
          "data": {
            "image/png": "[encoded data removed]",
            "text/plain": [
              "<Figure size 432x288 with 1 Axes>"
            ]
          },
          "metadata": {
            "needs_background": "light"
          }
        }
      ]
    },
    {
      "cell_type": "code",
      "metadata": {
        "colab": {
          "base_uri": "https://localhost:8080/"
        },
        "id": "hY6s1_fdQdqn",
        "outputId": "17585494-123a-4db5-96e8-a2362166998d"
      },
      "source": [
        "eva = model.evaluate(X_Test, y_Test)"
      ],
      "execution_count": null,
      "outputs": [
        {
          "output_type": "stream",
          "text": [
            "313/313 [==============================] - 1s 2ms/step - loss: 0.0713 - accuracy: 0.9782\n"
          ],
          "name": "stdout"
        }
      ]
    },
    {
      "cell_type": "code",
      "metadata": {
        "colab": {
          "base_uri": "https://localhost:8080/"
        },
        "id": "ObLd5o0zQ7NO",
        "outputId": "a777605b-1652-400b-bd89-c030ae43d559"
      },
      "source": [
        "print(model.predict(np.expand_dims(X_Test[0], 0)), '\\n')\n",
        "#np.argmax(model.predict(x), axis=-1)\n",
        "print(f\" prediction is {np.argmax(model.predict(np.expand_dims(X_Test[0], 0)))} \\n\")\n",
        "print(f\" label is {y_test[0]}\")\n",
        "\n",
        "#pred = print(f\" prediction is {model.predict_classes(X_Test[:1])} \\n\")\n",
        "## warnings.warn('`model.predict_classes()` is deprecated and '\n",
        "pred = print(f\" prediction is {model.predict(X_Test[:1]).argmax()} \\n\")"
      ],
      "execution_count": null,
      "outputs": [
        {
          "output_type": "stream",
          "text": [
            "[[2.2171687e-07 6.6814188e-08 1.1503739e-05 8.5166737e-04 2.7976219e-10\n",
            "  5.1308991e-08 2.3827372e-12 9.9913496e-01 2.6915285e-07 1.3850291e-06]] \n",
            "\n",
            " prediction is 7 \n",
            "\n",
            " label is 7\n",
            " prediction is 7 \n",
            "\n"
          ],
          "name": "stdout"
        }
      ]
    },
    {
      "cell_type": "markdown",
      "metadata": {
        "id": "ACQWWrkkVBVn"
      },
      "source": [
        "# 在我們所謂的訓練過程中沒有用到 測試資料\n",
        "# 在我們的訓練過程中，我們用到的是訓練資料，同時還把訓練資料拆分出訓練資料與驗證資料。"
      ]
    },
    {
      "cell_type": "markdown",
      "metadata": {
        "id": "9skTho7_9Tb0"
      },
      "source": [
        "#[ 練習 20 分鐘]\n",
        "\n",
        "1. 增加神經元層\n",
        "1. 更改 loss = 'rmsprop'\n",
        "1. 更改 verbose = 0, or 1\n",
        "1. 更改 hidden layers' activation to 'relu'\n",
        "1. model.summary()的參數量是怎麼得出的？"
      ]
    },
    {
      "cell_type": "markdown",
      "metadata": {
        "id": "7KhrrRTA54Sw"
      },
      "source": [
        "# 以下參考"
      ]
    },
    {
      "cell_type": "markdown",
      "metadata": {
        "id": "RYjSdssZ6S_e"
      },
      "source": [
        "\n",
        "\n",
        "*   Neural Network Basic\n",
        "*   Practice Colab\n",
        "> * Enable Runtime/Change Runtime Type/GPU\n",
        "> * Check the 3rd icon (folder icon) at left bar\n",
        "> * To add Code, Text in 2 methods\n",
        "> * To Run a code in 2 ways\n",
        "> * To connect linux system, working directory to gdrive\n",
        "> * To download/upload files through the 3rd icon at left bar or colab.files\n",
        "* To define MNIST Problem, to observe data, and to pre-process data\n",
        "* To build the most simple NN, and familiar with def. loss fct, gradient decent"
      ]
    },
    {
      "cell_type": "markdown",
      "metadata": {
        "id": "gLgkhr7SPOA9"
      },
      "source": [
        "# 從認識深度網路的觀點，程式的學習點\n",
        "> 1. ## 觀察輸入資料的格式與要求得的資料的格式設計\n",
        "> 1. ## 設計網路需考慮輸出入資料格式的配合，很可能是最資料做好處理送入網路\n",
        "> 1. ## 介紹 np_utils.to_categorical\n",
        "> 1. ## 嘗試配合底下兩個步驟程序\n",
        ">> * #### 模型、好壞、梯度下降\n",
        ">> * #### model.add、model.compile(loss, optimizer)、model.fit(2 data, pb_strategy \n",
        "> 1. 其他，為什麼知道這些 import\n",
        ">> * 用 keras: 有 models\n",
        ">> * 用 keras: 有 layers\n",
        ">> * 經驗\n",
        ">> * google"
      ]
    },
    {
      "cell_type": "markdown",
      "metadata": {
        "id": "rS46C5OjcEqT"
      },
      "source": [
        "## 這個程式沒有用到 子目錄資料，主要是利用 keras 裡的 api 上網取得資料"
      ]
    },
    {
      "cell_type": "markdown",
      "metadata": {
        "id": "8hLWkBL0KwH5"
      },
      "source": [
        "# Import Libraies"
      ]
    },
    {
      "cell_type": "markdown",
      "metadata": {
        "id": "iaTAVIjj8mc7"
      },
      "source": [
        "##【練習】\n",
        "### 基本上我們剛開始寫程式時，並不知道有那些 api 要引用，我們常常是參考別人的 code，理解後內化成我們的知識與能力，根據程式目標來了解有那些套件需要引用，有時候沒記得清楚，就請用 keywords 在 google 搜尋。\n",
        "### 【練習】**套件功能說明，同時說明為什麼這個程式需要用到這些套件。**"
      ]
    },
    {
      "cell_type": "markdown",
      "metadata": {
        "id": "rAd3NMfsKwIW"
      },
      "source": [
        "# 【步驟 1】 載入資料\n",
        "\n",
        "\n",
        "1.   ### **載入資料**\n",
        "2.   資料前處理 (Preprocessing)\n",
        "\n",
        "1.   建模型\n",
        "2.   設定損失函式、決定梯度下降法\n",
        "1.   訓練\n",
        "\n"
      ]
    },
    {
      "cell_type": "code",
      "metadata": {
        "id": "LVg0jgjnugbr"
      },
      "source": [
        "(X_train, y_train), (X_test, y_test) = mnist.load_data()"
      ],
      "execution_count": null,
      "outputs": []
    },
    {
      "cell_type": "markdown",
      "metadata": {
        "id": "4N8OQmhaSdT-"
      },
      "source": [
        "### xyxy, vs. xxyy <== 這是？"
      ]
    },
    {
      "cell_type": "code",
      "metadata": {
        "id": "9I7KDZVeKwIZ"
      },
      "source": [
        "(X_train_image, y_train_label),(X_test_image, y_test_label) = mnist.load_data()"
      ],
      "execution_count": null,
      "outputs": []
    },
    {
      "cell_type": "code",
      "metadata": {
        "id": "HApfHOaPwdCU",
        "colab": {
          "base_uri": "https://localhost:8080/",
          "height": 282
        },
        "outputId": "565d59e4-8b13-4c82-8e33-36e2d00747b6"
      },
      "source": [
        "X_train_image\n",
        "import matplotlib.pyplot as plt\n",
        "plt.imshow(X_train_image[2])"
      ],
      "execution_count": null,
      "outputs": [
        {
          "output_type": "execute_result",
          "data": {
            "text/plain": [
              "<matplotlib.image.AxesImage at 0x7f24a963a790>"
            ]
          },
          "metadata": {},
          "execution_count": 14
        },
        {
          "output_type": "display_data",
          "data": {
            "image/png": "[encoded data removed]",
            "text/plain": [
              "<Figure size 432x288 with 1 Axes>"
            ]
          },
          "metadata": {
            "needs_background": "light"
          }
        }
      ]
    },
    {
      "cell_type": "code",
      "metadata": {
        "id": "dgDV5WkBxQeZ",
        "colab": {
          "base_uri": "https://localhost:8080/"
        },
        "outputId": "33c9e6b9-3e4f-4189-e9cc-68903422d972"
      },
      "source": [
        "X_train_image.shape"
      ],
      "execution_count": null,
      "outputs": [
        {
          "output_type": "execute_result",
          "data": {
            "text/plain": [
              "(60000, 28, 28)"
            ]
          },
          "metadata": {},
          "execution_count": 15
        }
      ]
    },
    {
      "cell_type": "code",
      "metadata": {
        "id": "PD15eRxrIkIr",
        "colab": {
          "base_uri": "https://localhost:8080/"
        },
        "outputId": "bb2e3e91-3a8b-4281-d521-bc1ae6929a85"
      },
      "source": [
        "X_train_image[2]"
      ],
      "execution_count": null,
      "outputs": [
        {
          "output_type": "execute_result",
          "data": {
            "text/plain": [
              "array([[  0,   0,   0,   0,   0,   0,   0,   0,   0,   0,   0,   0,   0,\n",
              "          0,   0,   0,   0,   0,   0,   0,   0,   0,   0,   0,   0,   0,\n",
              "          0,   0],\n",
              "       [  0,   0,   0,   0,   0,   0,   0,   0,   0,   0,   0,   0,   0,\n",
              "          0,   0,   0,   0,   0,   0,   0,   0,   0,   0,   0,   0,   0,\n",
              "          0,   0],\n",
              "       [  0,   0,   0,   0,   0,   0,   0,   0,   0,   0,   0,   0,   0,\n",
              "          0,   0,   0,   0,   0,   0,   0,   0,   0,   0,   0,   0,   0,\n",
              "          0,   0],\n",
              "       [  0,   0,   0,   0,   0,   0,   0,   0,   0,   0,   0,   0,   0,\n",
              "          0,   0,   0,   0,   0,   0,   0,   0,   0,   0,   0,   0,   0,\n",
              "          0,   0],\n",
              "       [  0,   0,   0,   0,   0,   0,   0,   0,   0,   0,   0,   0,   0,\n",
              "          0,   0,   0,   0,   0,   0,   0,   0,   0,   0,   0,   0,   0,\n",
              "          0,   0],\n",
              "       [  0,   0,   0,   0,   0,   0,   0,   0,   0,   0,   0,   0,   0,\n",
              "          0,   0,   0,   0,   0,   0,   0,  67, 232,  39,   0,   0,   0,\n",
              "          0,   0],\n",
              "       [  0,   0,   0,   0,  62,  81,   0,   0,   0,   0,   0,   0,   0,\n",
              "          0,   0,   0,   0,   0,   0,   0, 120, 180,  39,   0,   0,   0,\n",
              "          0,   0],\n",
              "       [  0,   0,   0,   0, 126, 163,   0,   0,   0,   0,   0,   0,   0,\n",
              "          0,   0,   0,   0,   0,   0,   2, 153, 210,  40,   0,   0,   0,\n",
              "          0,   0],\n",
              "       [  0,   0,   0,   0, 220, 163,   0,   0,   0,   0,   0,   0,   0,\n",
              "          0,   0,   0,   0,   0,   0,  27, 254, 162,   0,   0,   0,   0,\n",
              "          0,   0],\n",
              "       [  0,   0,   0,   0, 222, 163,   0,   0,   0,   0,   0,   0,   0,\n",
              "          0,   0,   0,   0,   0,   0, 183, 254, 125,   0,   0,   0,   0,\n",
              "          0,   0],\n",
              "       [  0,   0,   0,  46, 245, 163,   0,   0,   0,   0,   0,   0,   0,\n",
              "          0,   0,   0,   0,   0,   0, 198, 254,  56,   0,   0,   0,   0,\n",
              "          0,   0],\n",
              "       [  0,   0,   0, 120, 254, 163,   0,   0,   0,   0,   0,   0,   0,\n",
              "          0,   0,   0,   0,   0,  23, 231, 254,  29,   0,   0,   0,   0,\n",
              "          0,   0],\n",
              "       [  0,   0,   0, 159, 254, 120,   0,   0,   0,   0,   0,   0,   0,\n",
              "          0,   0,   0,   0,   0, 163, 254, 216,  16,   0,   0,   0,   0,\n",
              "          0,   0],\n",
              "       [  0,   0,   0, 159, 254,  67,   0,   0,   0,   0,   0,   0,   0,\n",
              "          0,   0,  14,  86, 178, 248, 254,  91,   0,   0,   0,   0,   0,\n",
              "          0,   0],\n",
              "       [  0,   0,   0, 159, 254,  85,   0,   0,   0,  47,  49, 116, 144,\n",
              "        150, 241, 243, 234, 179, 241, 252,  40,   0,   0,   0,   0,   0,\n",
              "          0,   0],\n",
              "       [  0,   0,   0, 150, 253, 237, 207, 207, 207, 253, 254, 250, 240,\n",
              "        198, 143,  91,  28,   5, 233, 250,   0,   0,   0,   0,   0,   0,\n",
              "          0,   0],\n",
              "       [  0,   0,   0,   0, 119, 177, 177, 177, 177, 177,  98,  56,   0,\n",
              "          0,   0,   0,   0, 102, 254, 220,   0,   0,   0,   0,   0,   0,\n",
              "          0,   0],\n",
              "       [  0,   0,   0,   0,   0,   0,   0,   0,   0,   0,   0,   0,   0,\n",
              "          0,   0,   0,   0, 169, 254, 137,   0,   0,   0,   0,   0,   0,\n",
              "          0,   0],\n",
              "       [  0,   0,   0,   0,   0,   0,   0,   0,   0,   0,   0,   0,   0,\n",
              "          0,   0,   0,   0, 169, 254,  57,   0,   0,   0,   0,   0,   0,\n",
              "          0,   0],\n",
              "       [  0,   0,   0,   0,   0,   0,   0,   0,   0,   0,   0,   0,   0,\n",
              "          0,   0,   0,   0, 169, 254,  57,   0,   0,   0,   0,   0,   0,\n",
              "          0,   0],\n",
              "       [  0,   0,   0,   0,   0,   0,   0,   0,   0,   0,   0,   0,   0,\n",
              "          0,   0,   0,   0, 169, 255,  94,   0,   0,   0,   0,   0,   0,\n",
              "          0,   0],\n",
              "       [  0,   0,   0,   0,   0,   0,   0,   0,   0,   0,   0,   0,   0,\n",
              "          0,   0,   0,   0, 169, 254,  96,   0,   0,   0,   0,   0,   0,\n",
              "          0,   0],\n",
              "       [  0,   0,   0,   0,   0,   0,   0,   0,   0,   0,   0,   0,   0,\n",
              "          0,   0,   0,   0, 169, 254, 153,   0,   0,   0,   0,   0,   0,\n",
              "          0,   0],\n",
              "       [  0,   0,   0,   0,   0,   0,   0,   0,   0,   0,   0,   0,   0,\n",
              "          0,   0,   0,   0, 169, 255, 153,   0,   0,   0,   0,   0,   0,\n",
              "          0,   0],\n",
              "       [  0,   0,   0,   0,   0,   0,   0,   0,   0,   0,   0,   0,   0,\n",
              "          0,   0,   0,   0,  96, 254, 153,   0,   0,   0,   0,   0,   0,\n",
              "          0,   0],\n",
              "       [  0,   0,   0,   0,   0,   0,   0,   0,   0,   0,   0,   0,   0,\n",
              "          0,   0,   0,   0,   0,   0,   0,   0,   0,   0,   0,   0,   0,\n",
              "          0,   0],\n",
              "       [  0,   0,   0,   0,   0,   0,   0,   0,   0,   0,   0,   0,   0,\n",
              "          0,   0,   0,   0,   0,   0,   0,   0,   0,   0,   0,   0,   0,\n",
              "          0,   0],\n",
              "       [  0,   0,   0,   0,   0,   0,   0,   0,   0,   0,   0,   0,   0,\n",
              "          0,   0,   0,   0,   0,   0,   0,   0,   0,   0,   0,   0,   0,\n",
              "          0,   0]], dtype=uint8)"
            ]
          },
          "metadata": {},
          "execution_count": 16
        }
      ]
    },
    {
      "cell_type": "markdown",
      "metadata": {
        "id": "FKkZe6fdI1_x"
      },
      "source": [
        "# 步驟 2 資料前處理 (Preprocessing)\n",
        "\n",
        "\n",
        "1.   載入資料\n",
        "2.   ### **資料前處理 (Preprocessing)**\n",
        "\n",
        "1.   建模型\n",
        "2.   設定損失函式、決定梯度下降法\n",
        "1.   訓練\n"
      ]
    },
    {
      "cell_type": "code",
      "metadata": {
        "id": "GADwD_n3G8f8",
        "colab": {
          "base_uri": "https://localhost:8080/"
        },
        "outputId": "5a796969-01c1-447a-8000-e48067228675"
      },
      "source": [
        "X_train_image.shape  #(60000,28,28)\n",
        "a=X_train_image.reshape(60000, 28*28)\n",
        "a.shape"
      ],
      "execution_count": null,
      "outputs": [
        {
          "output_type": "execute_result",
          "data": {
            "text/plain": [
              "(60000, 784)"
            ]
          },
          "metadata": {},
          "execution_count": 17
        }
      ]
    },
    {
      "cell_type": "code",
      "metadata": {
        "id": "a3dAo1z7KwIk"
      },
      "source": [
        "# 我們沒有要用 CNN, 所以先轉成 一維\n",
        "\n",
        "X_Train = X_train_image.reshape(60000,784).astype('float32')\n",
        "X_Test = X_test_image.reshape(10000,784).astype('float32')"
      ],
      "execution_count": null,
      "outputs": []
    },
    {
      "cell_type": "code",
      "metadata": {
        "id": "22JLN-e2KwIw"
      },
      "source": [
        "X_Train = X_Train/255\n",
        "X_Test = X_Test/255"
      ],
      "execution_count": null,
      "outputs": []
    },
    {
      "cell_type": "code",
      "metadata": {
        "id": "tAw1VhFdH-Kg",
        "colab": {
          "base_uri": "https://localhost:8080/"
        },
        "outputId": "7a363d27-98d7-489f-9fcf-1198d0532b19"
      },
      "source": [
        "y_train_label[:10]"
      ],
      "execution_count": null,
      "outputs": [
        {
          "output_type": "execute_result",
          "data": {
            "text/plain": [
              "array([5, 0, 4, 1, 9, 2, 1, 3, 1, 4], dtype=uint8)"
            ]
          },
          "metadata": {},
          "execution_count": 20
        }
      ]
    },
    {
      "cell_type": "code",
      "metadata": {
        "id": "OE_rHBjpKwI4"
      },
      "source": [
        "y_Train = np_utils.to_categorical(y_train_label)\n",
        "# One Hot Encoding \n",
        "y_Test = np_utils.to_categorical(y_test_label)"
      ],
      "execution_count": null,
      "outputs": []
    },
    {
      "cell_type": "code",
      "metadata": {
        "id": "OVCctdkTIHuT",
        "colab": {
          "base_uri": "https://localhost:8080/"
        },
        "outputId": "38902d8c-9993-4733-e109-56ab925293c2"
      },
      "source": [
        "y_Train[:10]"
      ],
      "execution_count": null,
      "outputs": [
        {
          "output_type": "execute_result",
          "data": {
            "text/plain": [
              "array([[0., 0., 0., 0., 0., 1., 0., 0., 0., 0.],\n",
              "       [1., 0., 0., 0., 0., 0., 0., 0., 0., 0.],\n",
              "       [0., 0., 0., 0., 1., 0., 0., 0., 0., 0.],\n",
              "       [0., 1., 0., 0., 0., 0., 0., 0., 0., 0.],\n",
              "       [0., 0., 0., 0., 0., 0., 0., 0., 0., 1.],\n",
              "       [0., 0., 1., 0., 0., 0., 0., 0., 0., 0.],\n",
              "       [0., 1., 0., 0., 0., 0., 0., 0., 0., 0.],\n",
              "       [0., 0., 0., 1., 0., 0., 0., 0., 0., 0.],\n",
              "       [0., 1., 0., 0., 0., 0., 0., 0., 0., 0.],\n",
              "       [0., 0., 0., 0., 1., 0., 0., 0., 0., 0.]], dtype=float32)"
            ]
          },
          "metadata": {},
          "execution_count": 22
        }
      ]
    },
    {
      "cell_type": "markdown",
      "metadata": {
        "id": "0vWI8_aCKwJA"
      },
      "source": [
        "##【練習】\n",
        "\n",
        "1.   ## 為什麼要做 one hot encoding?\n",
        "2.   ## 上面有 \n",
        "> *   #### X_train_image, y_train_label,X_test_image, y_test_label\n",
        "> *   #### X_Train，X_Test, \n",
        "> *   ####  y_Train, y_Test Indented block\n",
        "## 各代表甚麼資料，都是甚麼類型，甚麼維度。有沒有更好的寫法。\n",
        "\n",
        "\n",
        "\n",
        "\n",
        "\n",
        "\n",
        "\n",
        "    "
      ]
    },
    {
      "cell_type": "markdown",
      "metadata": {
        "id": "fRSQnpoSKwJC"
      },
      "source": [
        "# 步驟 3 DNN Model\n",
        "\n",
        "1.   載入資料\n",
        "2.   資料前處理 (Preprocessing)\n",
        "\n",
        "1.   ### **建模型**\n",
        "2.   設定損失函式、決定梯度下降法\n",
        "1.   訓練\n"
      ]
    },
    {
      "cell_type": "code",
      "metadata": {
        "id": "2nadoOHSbjyb",
        "colab": {
          "base_uri": "https://localhost:8080/"
        },
        "outputId": "8093f787-60d2-4117-8cc7-03a44020def7"
      },
      "source": [
        "model = Sequential()\n",
        "model.add(Dense(4, input_dim=784, activation='relu'))   \n",
        "model.add(Dense(4, activation = 'relu'))\n",
        "model.add(Dense(4, activation= 'relu'))\n",
        "model.add(Dense(10, activation='softmax'))                   \n",
        "model.summary()"
      ],
      "execution_count": null,
      "outputs": [
        {
          "output_type": "stream",
          "text": [
            "Model: \"sequential_1\"\n",
            "_________________________________________________________________\n",
            "Layer (type)                 Output Shape              Param #   \n",
            "=================================================================\n",
            "dense_2 (Dense)              (None, 4)                 3140      \n",
            "_________________________________________________________________\n",
            "dense_3 (Dense)              (None, 4)                 20        \n",
            "_________________________________________________________________\n",
            "dense_4 (Dense)              (None, 4)                 20        \n",
            "_________________________________________________________________\n",
            "dense_5 (Dense)              (None, 10)                50        \n",
            "=================================================================\n",
            "Total params: 3,230\n",
            "Trainable params: 3,230\n",
            "Non-trainable params: 0\n",
            "_________________________________________________________________\n"
          ],
          "name": "stdout"
        }
      ]
    },
    {
      "cell_type": "code",
      "metadata": {
        "id": "hhXHyGiSKwJE",
        "colab": {
          "base_uri": "https://localhost:8080/"
        },
        "outputId": "771b00ad-9e70-4665-f0f3-eb43c7a2002f"
      },
      "source": [
        "model = Sequential()\n",
        "model.add(Dense(250, input_dim=784, activation='relu'))   \n",
        "# input = 784, output = 250 <== define 2 layers: input and the first layer\n",
        "#model.add(Dense(250, activation = 'sigmoid'))\n",
        "model.add(Dense(128, activation= 'relu'))\n",
        "model.add(Dense(10, activation='softmax'))                   # input = 500, output = 10\n",
        "model.summary()"
      ],
      "execution_count": null,
      "outputs": [
        {
          "output_type": "stream",
          "text": [
            "Model: \"sequential_2\"\n",
            "_________________________________________________________________\n",
            "Layer (type)                 Output Shape              Param #   \n",
            "=================================================================\n",
            "dense_6 (Dense)              (None, 250)               196250    \n",
            "_________________________________________________________________\n",
            "dense_7 (Dense)              (None, 128)               32128     \n",
            "_________________________________________________________________\n",
            "dense_8 (Dense)              (None, 10)                1290      \n",
            "=================================================================\n",
            "Total params: 229,668\n",
            "Trainable params: 229,668\n",
            "Non-trainable params: 0\n",
            "_________________________________________________________________\n"
          ],
          "name": "stdout"
        }
      ]
    },
    {
      "cell_type": "code",
      "metadata": {
        "id": "2qWIigiwIPaP"
      },
      "source": [
        "#from google.colab import drive\n",
        "#drive.mount('/content/drive')\n",
        "\n",
        "#keras.utils.plot_model(model, show_shapes=True, to_file='model.png')"
      ],
      "execution_count": null,
      "outputs": []
    },
    {
      "cell_type": "markdown",
      "metadata": {
        "id": "xVtnWoQiK4d_"
      },
      "source": [
        "## 【參數計算】"
      ]
    },
    {
      "cell_type": "code",
      "metadata": {
        "id": "k0mbuMYQK8xY",
        "colab": {
          "base_uri": "https://localhost:8080/"
        },
        "outputId": "c32e77a5-08e1-463d-d96f-c3538e92ca97"
      },
      "source": [
        "print(f'parameter number of dense_1 layer is, {784*256+256}')\n",
        "print(f'parameter number of dense_2 layer is, {256*128+128}')\n",
        "print(f'parameter number of dense_3 layer is, 填填看')"
      ],
      "execution_count": null,
      "outputs": [
        {
          "output_type": "stream",
          "text": [
            "parameter number of dense_1 layer is, 200960\n",
            "parameter number of dense_2 layer is, 32896\n",
            "parameter number of dense_3 layer is, 填填看\n"
          ],
          "name": "stdout"
        }
      ]
    },
    {
      "cell_type": "markdown",
      "metadata": {
        "id": "FX1hL0WVKwJM"
      },
      "source": [
        "# 步驟 4 設定損失函式、決定梯度下降法\n",
        "\n",
        "1.   載入資料\n",
        "2.   資料前處理 (Preprocessing)\n",
        "\n",
        "1.   建模型\n",
        "2.   ### **設定損失函式、決定梯度下降法**\n",
        "1.   訓練\n",
        "\n"
      ]
    },
    {
      "cell_type": "code",
      "metadata": {
        "id": "a-fG_S9MKwJN"
      },
      "source": [
        "model.compile(loss='categorical_crossentropy', optimizer =\"adam\", metrics=['accuracy'])"
      ],
      "execution_count": null,
      "outputs": []
    },
    {
      "cell_type": "markdown",
      "metadata": {
        "id": "S4viNmSOKWKZ"
      },
      "source": [
        "# 步驟 5 訓練\n",
        "\n",
        "1.   載入資料\n",
        "2.   資料前處理 (Preprocessing)\n",
        "\n",
        "1.   建模型\n",
        "2.   設定損失函式、決定梯度下降法\n",
        "1.   ### **訓練**\n"
      ]
    },
    {
      "cell_type": "code",
      "metadata": {
        "id": "65DZAm2AKwJS",
        "colab": {
          "base_uri": "https://localhost:8080/"
        },
        "outputId": "4344381d-0027-4641-d150-33536130c03e"
      },
      "source": [
        "train_history=model.fit(x=X_Train, y=y_Train,validation_split=0.2, epochs=10, batch_size=200, verbose=2)"
      ],
      "execution_count": null,
      "outputs": [
        {
          "output_type": "stream",
          "text": [
            "Epoch 1/10\n",
            "240/240 - 1s - loss: 0.3503 - accuracy: 0.9028 - val_loss: 0.1615 - val_accuracy: 0.9545\n",
            "Epoch 2/10\n",
            "240/240 - 1s - loss: 0.1304 - accuracy: 0.9613 - val_loss: 0.1095 - val_accuracy: 0.9680\n",
            "Epoch 3/10\n",
            "240/240 - 1s - loss: 0.0841 - accuracy: 0.9750 - val_loss: 0.0985 - val_accuracy: 0.9702\n",
            "Epoch 4/10\n",
            "240/240 - 1s - loss: 0.0601 - accuracy: 0.9825 - val_loss: 0.1012 - val_accuracy: 0.9700\n",
            "Epoch 5/10\n",
            "240/240 - 1s - loss: 0.0463 - accuracy: 0.9859 - val_loss: 0.0853 - val_accuracy: 0.9748\n",
            "Epoch 6/10\n",
            "240/240 - 1s - loss: 0.0343 - accuracy: 0.9901 - val_loss: 0.0801 - val_accuracy: 0.9768\n",
            "Epoch 7/10\n",
            "240/240 - 1s - loss: 0.0245 - accuracy: 0.9932 - val_loss: 0.0753 - val_accuracy: 0.9774\n",
            "Epoch 8/10\n",
            "240/240 - 1s - loss: 0.0198 - accuracy: 0.9946 - val_loss: 0.0806 - val_accuracy: 0.9771\n",
            "Epoch 9/10\n",
            "240/240 - 1s - loss: 0.0154 - accuracy: 0.9962 - val_loss: 0.0888 - val_accuracy: 0.9763\n",
            "Epoch 10/10\n",
            "240/240 - 1s - loss: 0.0119 - accuracy: 0.9968 - val_loss: 0.0922 - val_accuracy: 0.9766\n"
          ],
          "name": "stdout"
        }
      ]
    },
    {
      "cell_type": "code",
      "metadata": {
        "id": "5S5ffTIUQG0K",
        "colab": {
          "base_uri": "https://localhost:8080/"
        },
        "outputId": "46044d0b-0098-4b7f-d6d9-db7d5f6441ba"
      },
      "source": [
        "train_history.history['val_loss']"
      ],
      "execution_count": null,
      "outputs": [
        {
          "output_type": "execute_result",
          "data": {
            "text/plain": [
              "[0.16149237751960754,\n",
              " 0.10945989936590195,\n",
              " 0.09849631786346436,\n",
              " 0.10123103111982346,\n",
              " 0.08533880859613419,\n",
              " 0.08007189631462097,\n",
              " 0.07530603557825089,\n",
              " 0.08058597892522812,\n",
              " 0.08881579339504242,\n",
              " 0.09221766144037247]"
            ]
          },
          "metadata": {},
          "execution_count": 29
        }
      ]
    },
    {
      "cell_type": "markdown",
      "metadata": {
        "id": "CufoG2LOKgi2"
      },
      "source": [
        "# 預測"
      ]
    },
    {
      "cell_type": "code",
      "metadata": {
        "id": "jyR0otYlKwJX",
        "colab": {
          "base_uri": "https://localhost:8080/"
        },
        "outputId": "7d3ad429-0840-43a6-f4a7-e79c0ea04aed"
      },
      "source": [
        "pred_test = np.argmax(model.predict(X_Test[0:50]), axis = 1)\n",
        "print(pred_test)\n",
        "print(y_test_label[0:50])"
      ],
      "execution_count": null,
      "outputs": [
        {
          "output_type": "stream",
          "text": [
            "[7 2 1 0 4 1 4 9 5 9 0 6 9 0 1 5 9 7 3 4 9 6 6 5 4 0 7 4 0 1 3 1 3 4 7 2 7\n",
            " 1 2 1 1 7 4 2 3 5 1 2 4 4]\n",
            "[7 2 1 0 4 1 4 9 5 9 0 6 9 0 1 5 9 7 3 4 9 6 6 5 4 0 7 4 0 1 3 1 3 4 7 2 7\n",
            " 1 2 1 1 7 4 2 3 5 1 2 4 4]\n"
          ],
          "name": "stdout"
        }
      ]
    },
    {
      "cell_type": "code",
      "metadata": {
        "id": "RY1e5J3m2WMT",
        "colab": {
          "base_uri": "https://localhost:8080/"
        },
        "outputId": "fd52c273-34f1-4d37-a5e8-9d1d62910f20"
      },
      "source": [
        "pred_test_simple = model.predict(X_Test[0:2])\n",
        "print(pred_test_simple)"
      ],
      "execution_count": null,
      "outputs": [
        {
          "output_type": "stream",
          "text": [
            "[[8.2727392e-10 1.8782504e-08 4.1427217e-07 1.1157947e-06 1.5954067e-12\n",
            "  1.2656687e-10 3.5514428e-14 9.9999845e-01 3.7915857e-09 7.2372819e-09]\n",
            " [2.9411805e-12 9.8611990e-09 9.9999988e-01 4.0266215e-10 8.1255348e-17\n",
            "  7.7835897e-14 3.7023548e-12 3.8503628e-15 8.4313406e-08 1.8988667e-13]]\n"
          ],
          "name": "stdout"
        }
      ]
    },
    {
      "cell_type": "markdown",
      "metadata": {
        "id": "JiHLYUyvDR-g"
      },
      "source": [
        ""
      ]
    },
    {
      "cell_type": "markdown",
      "metadata": {
        "id": "GwJxYDPHTA-2"
      },
      "source": [
        "【練習】\n",
        "\n",
        "2. ## check train_history.history\n",
        "3. ## 理解 train_history.history 的 dictionary 結構，利用結構搭配 matplotlib.pyplot 畫出訓練過程的 loss 與 val_loss"
      ]
    },
    {
      "cell_type": "code",
      "metadata": {
        "id": "auq3G-9lD7C5",
        "colab": {
          "base_uri": "https://localhost:8080/",
          "height": 279
        },
        "outputId": "ae4b9a68-6846-4648-8436-bed0b7d0ac18"
      },
      "source": [
        "plt.plot(train_history.epoch, train_history.history['loss'], label ='loss')\n",
        "plt.plot(train_history.epoch, train_history.history['val_loss'], label='val_loss')\n",
        "plt.xlabel('epoch')\n",
        "plt.ylabel('loss')\n",
        "plt.legend(loc = 8)\n",
        "plt.show()"
      ],
      "execution_count": null,
      "outputs": [
        {
          "output_type": "display_data",
          "data": {
            "image/png": "[encoded data removed]",
            "text/plain": [
              "<Figure size 432x288 with 1 Axes>"
            ]
          },
          "metadata": {
            "needs_background": "light"
          }
        }
      ]
    },
    {
      "cell_type": "markdown",
      "metadata": {
        "id": "ROzzmEM5UbkI"
      },
      "source": [
        "# 『練習』\n",
        "\n",
        "* 加或修改 layers, \n",
        "\n",
        "* 改變 gpu mode, 增加 epochs\n",
        "\n",
        "* loss = 'sparse_categorical_crossentropy' with metric = ['sparse_categorical_accuracy']?\n",
        "* loss = 'mse'\n",
        "\n",
        "* sigmoid?\n",
        "\n",
        "* dataset: cifar100"
      ]
    },
    {
      "cell_type": "markdown",
      "metadata": {
        "id": "sj3-kdl9Knu5"
      },
      "source": [
        "# 評估"
      ]
    },
    {
      "cell_type": "code",
      "metadata": {
        "id": "2JO_pHoz2jOO",
        "colab": {
          "base_uri": "https://localhost:8080/"
        },
        "outputId": "9256e75b-5081-4216-c2c6-69b97690ff7f"
      },
      "source": [
        "eva = model.evaluate(X_Test, y_Test)\n",
        "print(f\"loss in model is, {eva[0]}\")\n",
        "print(f\"accuracy of model is, {eva[1]}\")\n",
        "\n",
        "pred_test_proba=model.predict(X_Test[0:3])\n",
        "print(pred_test_proba)  # model.predcit 一樣，但是跟 ML's sklearn 不一樣嗎?"
      ],
      "execution_count": null,
      "outputs": [
        {
          "output_type": "stream",
          "text": [
            "313/313 [==============================] - 1s 2ms/step - loss: 0.0784 - accuracy: 0.9781\n",
            "loss in model is, 0.0783998966217041\n",
            "accuracy of model is, 0.9781000018119812\n",
            "[[8.2727392e-10 1.8782504e-08 4.1427217e-07 1.1157947e-06 1.5954067e-12\n",
            "  1.2656687e-10 3.5514428e-14 9.9999845e-01 3.7915857e-09 7.2372819e-09]\n",
            " [2.9411805e-12 9.8611990e-09 9.9999988e-01 4.0266215e-10 8.1255348e-17\n",
            "  7.7835897e-14 3.7023548e-12 3.8503628e-15 8.4313406e-08 1.8988667e-13]\n",
            " [2.4508945e-06 9.9518824e-01 6.9077843e-04 3.9334518e-06 8.0776612e-05\n",
            "  3.7182231e-06 3.6788162e-05 4.8753509e-04 3.5054269e-03 2.5939030e-07]]\n"
          ],
          "name": "stdout"
        }
      ]
    },
    {
      "cell_type": "markdown",
      "metadata": {
        "id": "6EN5wqVzGBPf"
      },
      "source": [
        "## 單一資料預測需要有第一維度指出資料筆數編號。"
      ]
    },
    {
      "cell_type": "code",
      "metadata": {
        "id": "ItT83ct6FPs4",
        "colab": {
          "base_uri": "https://localhost:8080/"
        },
        "outputId": "76e03c2b-e09f-45c8-8c81-e22e55fc29bd"
      },
      "source": [
        "model.predict(np.expand_dims(X_Test[0],axis=0)) "
      ],
      "execution_count": null,
      "outputs": [
        {
          "output_type": "execute_result",
          "data": {
            "text/plain": [
              "array([[8.2727392e-10, 1.8782504e-08, 4.1427259e-07, 1.1157947e-06,\n",
              "        1.5954098e-12, 1.2656687e-10, 3.5514428e-14, 9.9999845e-01,\n",
              "        3.7915857e-09, 7.2372819e-09]], dtype=float32)"
            ]
          },
          "metadata": {},
          "execution_count": 36
        }
      ]
    },
    {
      "cell_type": "markdown",
      "metadata": {
        "id": "6akK4sMdh9fR"
      },
      "source": [
        "# [練習]\n",
        "\n",
        "\n",
        "```\n",
        "(train_x, train_y),(test_x, test_y) = fashion_mnist.load_data()\n",
        "```\n",
        "\n"
      ]
    },
    {
      "cell_type": "markdown",
      "metadata": {
        "id": "NV-xTj6ZGPuf"
      },
      "source": [
        "\n",
        "\n",
        "```\n",
        "import cv2\n",
        "from PIL import Image\n",
        "def imgtest(jpegfile):\n",
        "    filename = colabok  + jpegfile+'.png'\n",
        "    #print(filename)\n",
        "    img = Image.open(filename)\n",
        "    img = img.resize((28,28), Image.BILINEAR)\n",
        "    filename = colabok+ jpegfile+'r.png'\n",
        "    img.save(filename)\n",
        "    img = cv2.imread(filename)\n",
        "    img=img[:,:,0]\n",
        "    img = 1-img\n",
        "    img784 = img.reshape(1,784)\n",
        "    img784 = img784/255\n",
        "    img = img/255\n",
        "    plt.imshow(img)\n",
        "    Prediction_s = model.predict_classes(img784)\n",
        "    #plot_image(img)\n",
        "    return img, Prediction_s\n",
        "```\n",
        "\n",
        "\n",
        "\n",
        "```\n",
        "print('Oh ~~ ')\n",
        "x, pred_b=imgtest('DNN_8r')\n",
        "print(pred_b)\n",
        "\n",
        "plt.imshow(x)\n",
        "plt.show()\n",
        "#plt.imshow(X_Test[0].reshape(28,28))\n",
        "#plt.show\n",
        "```\n",
        "\n",
        "\n",
        "\n"
      ]
    },
    {
      "cell_type": "markdown",
      "metadata": {
        "collapsed": true,
        "id": "UPz-ScHsKwJ4"
      },
      "source": [
        "# 練習與觀察 1:\n",
        "\n",
        "    原本 \n",
        "    model = Sequential()\n",
        "    model.add(Dense(units=256,input_dim=784,kernel_initializer ='normal', activation ='relu'))  \n",
        "    model.add(Dense(units=10, kernel_initializer='normal',activation='softmax'))\n",
        "    為幾個 hidden layers?\n",
        "    \n",
        "    \n",
        "    改為 \n",
        "    model = Sequential()\n",
        "    model.add(Dense(units=10,input_dim=784, activation='softmax'))  \n",
        "    為幾個 hidden layers?\n",
        "    \n",
        "    結果為何？"
      ]
    },
    {
      "cell_type": "markdown",
      "metadata": {
        "id": "TEwi6VjLKwJ5"
      },
      "source": [
        "# 練習與觀察 2:\n",
        "    原本 與處理的 normalization\n",
        "    X_Train = X_Train/255\n",
        "    X_Test = X_Test/255\n",
        "    \n",
        "    如果被 Remark，\n",
        "    結果如何觀察？\n"
      ]
    },
    {
      "cell_type": "markdown",
      "metadata": {
        "id": "a61Y1MZTKwJ8"
      },
      "source": [
        "# 練習與觀察 3:\n",
        "    原本 \n",
        "    model = Sequential()\n",
        "    model.add(Dense(units=256,input_dim=784,kernel_initializer ='normal', activation ='relu'))  \n",
        "    model.add(Dense(units=10, kernel_initializer='normal',activation='softmax'))\n",
        "    為幾個 hidden layers?\n",
        "\n",
        "\n",
        "    改為 \n",
        "    model = Sequential()\n",
        "    model.add(Dense(units=256,input_dim=784,kernel_initializer ='normal', activation ='sigmoid'))  \n",
        "    model.add(Dense(units=10, kernel_initializer='normal',activation='softmax'))\n",
        "    結果為何？"
      ]
    },
    {
      "cell_type": "markdown",
      "metadata": {
        "id": "tobkNVNnKwJ9"
      },
      "source": [
        "# 練習與觀察 4:\n",
        "    其他觀察：\n",
        "        以上改變有沒有造成訓練時間變化？\n",
        "        reset 後 重跑training格子,  與不 reset 再多跑幾次 training 格子，結果是怎樣？\n",
        "        validation_split = 0.1 會發生什麼狀況？\n",
        "        reset 後, epochs 改為 1, , 3, 7, 10, 15, 20 去觀察 big0.jpg 的結果\n",
        "        batch_size =100, 200, 300 的觀察\n",
        "        verbose = 0, 1, 2\n",
        "        \n",
        "### 每次改變後，請記得改回原本得值~~"
      ]
    },
    {
      "cell_type": "markdown",
      "metadata": {
        "id": "CikpGU_jKwKA"
      },
      "source": [
        "    esc +b\n",
        "    esc +m\n",
        "    esc +y\n",
        "    esc +x\n",
        "    esc +h\n",
        "    esc +a\n",
        "    \n",
        "    command + s\n",
        "    \n",
        "    control + enter\n",
        "    control + alt\n",
        "    tab\n",
        "    shif + tab \n",
        "    ?...\n",
        "    !ls\n",
        "    !rm\n",
        "    !cd\n",
        "    %\n",
        "    \n",
        "    ctrl + enter"
      ]
    }
  ]
}