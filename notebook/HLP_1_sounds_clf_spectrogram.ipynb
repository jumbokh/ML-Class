{
  "nbformat": 4,
  "nbformat_minor": 0,
  "metadata": {
    "accelerator": "GPU",
    "colab": {
      "name": "HLP_1_sounds_clf_spectrogram.ipynb",
      "provenance": [],
      "collapsed_sections": [],
      "include_colab_link": true
    },
    "kernelspec": {
      "display_name": "Python 3",
      "name": "python3"
    }
  },
  "cells": [
    {
      "cell_type": "markdown",
      "metadata": {
        "id": "view-in-github",
        "colab_type": "text"
      },
      "source": [
        "<a href=\"https://colab.research.google.com/github/jumbokh/ML-Class/blob/main/notebook/HLP_1_sounds_clf_spectrogram.ipynb\" target=\"_parent\"><img src=\"https://colab.research.google.com/assets/colab-badge.svg\" alt=\"Open In Colab\"/></a>"
      ]
    },
    {
      "cell_type": "code",
      "metadata": {
        "id": "YOV4rAGoxYub",
        "colab": {
          "base_uri": "https://localhost:8080/"
        },
        "outputId": "5a4e3dbf-4133-43bc-e7f3-40fce28d12ff"
      },
      "source": [
        "import os\n",
        "import numpy as np\n",
        "\n",
        "from IPython.display import Audio\n",
        "import librosa\n",
        "import librosa.display\n",
        "\n",
        "import tensorflow as tf\n",
        "from keras.models import Sequential, Model\n",
        "from keras.layers import Add, Conv1D, MaxPooling1D, Flatten, Dense, Dropout, BatchNormalization, Activation, Conv2D, MaxPooling2D, Input\n",
        "from keras.utils import np_utils\n",
        "from tensorflow.keras.utils import plot_model\n",
        "\n",
        "from google.colab import drive\n",
        "drive.mount('/content/drive/')\n",
        "\n",
        "path = 'drive/MyDrive/MyProject/audio_classification/'"
      ],
      "execution_count": null,
      "outputs": [
        {
          "output_type": "stream",
          "text": [
            "Mounted at /content/drive/\n"
          ],
          "name": "stdout"
        }
      ]
    },
    {
      "cell_type": "code",
      "metadata": {
        "id": "rdw7_K6-xXSN"
      },
      "source": [
        "file = path + 'pass/st_0072.wav'\n",
        "Audio(file)"
      ],
      "execution_count": null,
      "outputs": []
    },
    {
      "cell_type": "code",
      "metadata": {
        "id": "C2DQ1afTyspY"
      },
      "source": [
        "y1, _ = librosa.load(file, sr=8000) # 把第一段音訊的wav檔讀進來\n",
        "librosa.display.waveplot(y1, sr=8000) # 把第一段音訊畫出來"
      ],
      "execution_count": null,
      "outputs": []
    },
    {
      "cell_type": "code",
      "metadata": {
        "id": "97xftoHNd6zb"
      },
      "source": [
        "import matplotlib.pyplot as plt\n",
        "from scipy import signal\n",
        "from scipy.io import wavfile\n",
        "?plt.imshow"
      ],
      "execution_count": null,
      "outputs": []
    },
    {
      "cell_type": "code",
      "metadata": {
        "colab": {
          "base_uri": "https://localhost:8080/",
          "height": 220
        },
        "id": "aLbM9anZf-cp",
        "outputId": "d797bc3b-1845-4e9d-c112-841874b2a471"
      },
      "source": [
        "import matplotlib.pyplot as plt\n",
        "from scipy import signal\n",
        "from scipy.io import wavfile\n",
        "\n",
        "sample_rate, samples = wavfile.read(file)\n",
        "print((sample_rate, samples))\n",
        "frequencies, times, spectrogram = signal.spectrogram(samples, sample_rate)\n",
        "\n",
        "plt.figure(figsize=(10,30))\n",
        "plt.pcolormesh(times, frequencies, spectrogram)\n",
        "plt.imshow(spectrogram, cmap = plt.cm.jet )\n",
        "plt.ylabel('Frequency [Hz]')\n",
        "plt.xlabel"
      ],
      "execution_count": null,
      "outputs": [
        {
          "output_type": "stream",
          "text": [
            "/usr/local/lib/python3.7/dist-packages/ipykernel_launcher.py:5: WavFileWarning: Chunk (non-data) not understood, skipping it.\n",
            "  \"\"\"\n"
          ],
          "name": "stderr"
        },
        {
          "output_type": "stream",
          "text": [
            "(48000, array([  5440768,   5690112,   5831680, ..., -17046528, -18625792,\n",
            "       -19592192], dtype=int32))\n"
          ],
          "name": "stdout"
        },
        {
          "output_type": "execute_result",
          "data": {
            "text/plain": [
              "<function matplotlib.pyplot.xlabel>"
            ]
          },
          "metadata": {
            "tags": []
          },
          "execution_count": 9
        },
        {
          "output_type": "display_data",
          "data": {
            "image/png": "[encoded data removed]",
            "text/plain": [
              "<Figure size 720x2160 with 1 Axes>"
            ]
          },
          "metadata": {
            "tags": [],
            "needs_background": "light"
          }
        }
      ]
    },
    {
      "cell_type": "code",
      "metadata": {
        "colab": {
          "base_uri": "https://localhost:8080/",
          "height": 231
        },
        "id": "qxzP3xLnf-40",
        "outputId": "86b27c0c-395b-48c0-ebb9-5d6a7ee729fa"
      },
      "source": [
        "#def SPECTROGRAM(file):\n",
        "# sr = 8000\n",
        "# length = 100\n",
        "\n",
        "sr = sample_rate\n",
        "length = 600\n",
        "\n",
        "#sample_rate, samples = wavfile.read(file)\n",
        "y1, _ = librosa.load(file, sr=sr) # 把第一段音訊的wav檔讀進來\n",
        "#frequencies, times, spectrogram = signal.spectrogram(samples, sample_rate)\n",
        "frequencies, times,  spectrogram = signal.spectrogram(y1, sr)\n",
        "print(spectrogram.shape)\n",
        "\n",
        "plt.figure(figsize=(8,20))\n",
        "plt.pcolormesh(times, frequencies, spectrogram)\n",
        "plt.imshow(spectrogram)\n",
        "plt.ylabel('Frequency [Hz]')\n",
        "plt.xlabel\n",
        "\n",
        "\n",
        "spectrogram = (spectrogram- spectrogram.min())/(spectrogram.max()-spectrogram.min())\n",
        "plt.figure(figsize=(8,20))\n",
        "plt.pcolormesh(times, frequencies, spectrogram)\n",
        "plt.imshow(spectrogram)\n",
        "plt.ylabel('Frequency [Hz]')\n",
        "plt.xlabel\n",
        "spectrogram.shape"
      ],
      "execution_count": null,
      "outputs": [
        {
          "output_type": "stream",
          "text": [
            "(129, 1353)\n"
          ],
          "name": "stdout"
        },
        {
          "output_type": "execute_result",
          "data": {
            "text/plain": [
              "(129, 1353)"
            ]
          },
          "metadata": {
            "tags": []
          },
          "execution_count": 36
        },
        {
          "output_type": "display_data",
          "data": {
            "image/png": "[encoded data removed]",
            "text/plain": [
              "<Figure size 576x1440 with 1 Axes>"
            ]
          },
          "metadata": {
            "tags": [],
            "needs_background": "light"
          }
        },
        {
          "output_type": "display_data",
          "data": {
            "image/png": "[encoded data removed]",
            "text/plain": [
              "<Figure size 576x1440 with 1 Axes>"
            ]
          },
          "metadata": {
            "tags": [],
            "needs_background": "light"
          }
        }
      ]
    },
    {
      "cell_type": "code",
      "metadata": {
        "id": "5rfo0gSY-hki",
        "colab": {
          "base_uri": "https://localhost:8080/"
        },
        "outputId": "a9db2666-bc14-46a0-b04e-6d328dddec32"
      },
      "source": [
        "def readfiles():\n",
        "  path = 'drive/MyDrive/MyProject/audio_classification/'\n",
        "  pos = path + '/pass/'\n",
        "  neg = path  + '/leak/'\n",
        "  count_p, count_n = 0, 0\n",
        "  pn = len([name for name in os.listdir(pos)]) \n",
        "  nn = len([name for name in os.listdir(neg)]) \n",
        "  data = np.zeros([(pn+nn), 129,length])\n",
        "  label = np.zeros([(pn+nn)])\n",
        "\n",
        "  for i in os.listdir(pos):\n",
        "    y1, _ = librosa.load(pos + i, sr) \n",
        "    frequencies, times,  y1= signal.spectrogram(y1, sr)\n",
        "    y1 = (y1- y1.min())/(y1.max()-y1.min())\n",
        "    y1 = y1[:, 0:length]\n",
        "    data[count_p] = y1\n",
        "    label[count_p] = 1\n",
        "    count_p +=1\n",
        "\n",
        "  for i in os.listdir(neg):\n",
        "    y1, _ = librosa.load(neg + i, sr) \n",
        "    frequencies, times,  y1 = signal.spectrogram(y1, sr)\n",
        "    y1 = (y1- y1.min())/(y1.max()-y1.min())\n",
        "\n",
        "    y1 = y1[:, 0:length]\n",
        "    data[count_p + count_n] = y1\n",
        "    label[count_p+count_n] = 0\n",
        "    count_n +=1\n",
        "\n",
        "  return label, data, (pn+nn)\n",
        "\n",
        "if os.path.exists(path + \"data/data_l_spectrogram48000.npy\"):\n",
        "  print('data existed!')\n",
        "  l = np.load(path + 'data/data_l_spectrogram48000.npy')\n",
        "  d = np.load(path + 'data/data_d_spectrogram48000.npy')\n",
        "  n = np.load(path + 'data/data_n_spectrogram48000.npy')\n",
        "else:  \n",
        "  l, d, n = readfiles()\n",
        "  np.save(path + 'data/data_l_spectrogram48000', l)\n",
        "  np.save(path + 'data/data_d_spectrogram48000', d)\n",
        "  np.save(path + 'data/data_n_spectrogram48000', n)\n"
      ],
      "execution_count": null,
      "outputs": [
        {
          "output_type": "stream",
          "text": [
            "data existed!\n"
          ],
          "name": "stdout"
        }
      ]
    },
    {
      "cell_type": "code",
      "metadata": {
        "colab": {
          "base_uri": "https://localhost:8080/"
        },
        "id": "DMdRY-6StlWL",
        "outputId": "23fc1719-5c47-4268-ac99-402758c74c6a"
      },
      "source": [
        "n # 397\n",
        "l.shape #397\n",
        "l.sum() # 197 \"1\"\n",
        "n - l.sum() #200 \"0\"\n",
        "d.shape # (397, 129, 600)"
      ],
      "execution_count": null,
      "outputs": [
        {
          "output_type": "execute_result",
          "data": {
            "text/plain": [
              "(397, 129, 600)"
            ]
          },
          "metadata": {
            "tags": []
          },
          "execution_count": 38
        }
      ]
    },
    {
      "cell_type": "code",
      "metadata": {
        "id": "vYEwjnFcFgSF"
      },
      "source": [
        "l = l.reshape(n, 1) # label\n",
        "d = d.reshape(n, 129, length, 1)"
      ],
      "execution_count": null,
      "outputs": []
    },
    {
      "cell_type": "code",
      "metadata": {
        "id": "RU5HHyro4DWG"
      },
      "source": [
        "from sklearn.model_selection import train_test_split\n",
        "train_x, test_x, train_y, test_y = train_test_split(d, l, test_size = 0.3, random_state = 43)"
      ],
      "execution_count": null,
      "outputs": []
    },
    {
      "cell_type": "code",
      "metadata": {
        "colab": {
          "base_uri": "https://localhost:8080/"
        },
        "id": "MqD-17o_KR-G",
        "outputId": "db4d343d-fd30-4438-9687-c0077da2e52b"
      },
      "source": [
        "print('\\n', train_x.shape, '\\n', test_x.shape, '\\n', train_y.shape, '\\n', test_y.shape)"
      ],
      "execution_count": null,
      "outputs": [
        {
          "output_type": "stream",
          "text": [
            "\n",
            " (277, 129, 600, 1) \n",
            " (120, 129, 600, 1) \n",
            " (277, 1) \n",
            " (120, 1)\n"
          ],
          "name": "stdout"
        }
      ]
    },
    {
      "cell_type": "code",
      "metadata": {
        "id": "9wJGL8cYCm7Q"
      },
      "source": [
        "train_y = np_utils.to_categorical(train_y, 2)\n",
        "test_y = np_utils.to_categorical(test_y, 2)"
      ],
      "execution_count": null,
      "outputs": []
    },
    {
      "cell_type": "code",
      "metadata": {
        "colab": {
          "base_uri": "https://localhost:8080/"
        },
        "id": "RV96PLMV6QXA",
        "outputId": "ea9936d1-c92f-4c47-948a-701ad9004a94"
      },
      "source": [
        "print(train_y[:,0].sum()) #275\n",
        "print(train_y[:,1].sum()) #280\n",
        "print(test_y[:,0].sum()) #275\n",
        "print(test_y[:,1].sum()) #114"
      ],
      "execution_count": null,
      "outputs": [
        {
          "output_type": "stream",
          "text": [
            "138.0\n",
            "139.0\n",
            "62.0\n",
            "58.0\n"
          ],
          "name": "stdout"
        }
      ]
    },
    {
      "cell_type": "code",
      "metadata": {
        "colab": {
          "base_uri": "https://localhost:8080/"
        },
        "id": "hwq9w68pCnHB",
        "outputId": "b89e75c6-21c4-4a9d-ce41-4aed1e6acbe0"
      },
      "source": [
        "model = Sequential()\n",
        "model.add(Conv2D(200, (3, 3), input_shape=(129, length, 1)))\n",
        "model.add(BatchNormalization()) \n",
        "model.add(Activation(\"relu\"))\n",
        "model.add(MaxPooling2D((2,2)))\n",
        "\n",
        "model.add(Conv2D(200, (3,3)))\n",
        "model.add(BatchNormalization()) \n",
        "model.add(Activation(\"relu\"))\n",
        "model.add(MaxPooling2D((2,2)))\n",
        "\n",
        "model.add(Conv2D(200, (3,3)))\n",
        "model.add(BatchNormalization()) \n",
        "model.add(Activation(\"relu\"))\n",
        "model.add(MaxPooling2D(2,2))\n",
        "\n",
        "model.add(Conv2D(200, (3,3)))\n",
        "model.add(BatchNormalization()) \n",
        "model.add(Activation(\"relu\"))\n",
        "model.add(MaxPooling2D((2,2)))\n",
        "\n",
        "\n",
        "model.add(Flatten())\n",
        "model.add(Dense(256, activation = 'relu'))\n",
        "model.add(Dropout(0.5))\n",
        "model.add(Dense(128, activation = 'relu'))\n",
        "model.add(Dense(2, activation = 'softmax'))\n",
        "model.summary()"
      ],
      "execution_count": null,
      "outputs": [
        {
          "output_type": "stream",
          "text": [
            "Model: \"sequential\"\n",
            "_________________________________________________________________\n",
            "Layer (type)                 Output Shape              Param #   \n",
            "=================================================================\n",
            "conv2d_28 (Conv2D)           (None, 127, 598, 200)     2000      \n",
            "_________________________________________________________________\n",
            "batch_normalization_28 (Batc (None, 127, 598, 200)     800       \n",
            "_________________________________________________________________\n",
            "activation_20 (Activation)   (None, 127, 598, 200)     0         \n",
            "_________________________________________________________________\n",
            "max_pooling2d_8 (MaxPooling2 (None, 63, 299, 200)      0         \n",
            "_________________________________________________________________\n",
            "conv2d_29 (Conv2D)           (None, 61, 297, 200)      360200    \n",
            "_________________________________________________________________\n",
            "batch_normalization_29 (Batc (None, 61, 297, 200)      800       \n",
            "_________________________________________________________________\n",
            "activation_21 (Activation)   (None, 61, 297, 200)      0         \n",
            "_________________________________________________________________\n",
            "max_pooling2d_9 (MaxPooling2 (None, 30, 148, 200)      0         \n",
            "_________________________________________________________________\n",
            "conv2d_30 (Conv2D)           (None, 28, 146, 200)      360200    \n",
            "_________________________________________________________________\n",
            "batch_normalization_30 (Batc (None, 28, 146, 200)      800       \n",
            "_________________________________________________________________\n",
            "activation_22 (Activation)   (None, 28, 146, 200)      0         \n",
            "_________________________________________________________________\n",
            "max_pooling2d_10 (MaxPooling (None, 14, 73, 200)       0         \n",
            "_________________________________________________________________\n",
            "conv2d_31 (Conv2D)           (None, 12, 71, 200)       360200    \n",
            "_________________________________________________________________\n",
            "batch_normalization_31 (Batc (None, 12, 71, 200)       800       \n",
            "_________________________________________________________________\n",
            "activation_23 (Activation)   (None, 12, 71, 200)       0         \n",
            "_________________________________________________________________\n",
            "max_pooling2d_11 (MaxPooling (None, 6, 35, 200)        0         \n",
            "_________________________________________________________________\n",
            "flatten_2 (Flatten)          (None, 42000)             0         \n",
            "_________________________________________________________________\n",
            "dense_6 (Dense)              (None, 256)               10752256  \n",
            "_________________________________________________________________\n",
            "dropout_2 (Dropout)          (None, 256)               0         \n",
            "_________________________________________________________________\n",
            "dense_7 (Dense)              (None, 128)               32896     \n",
            "_________________________________________________________________\n",
            "dense_8 (Dense)              (None, 2)                 258       \n",
            "=================================================================\n",
            "Total params: 11,871,210\n",
            "Trainable params: 11,869,610\n",
            "Non-trainable params: 1,600\n",
            "_________________________________________________________________\n"
          ],
          "name": "stdout"
        }
      ]
    },
    {
      "cell_type": "code",
      "metadata": {
        "id": "usnq5swdD8Am"
      },
      "source": [
        "#model.load_weights(path + 'logs0526/' + 'model.11-1.10.h5')\n",
        "#model.compile(loss = 'categorical_crossentropy', optimizer = 'adam', metrics = ['accuracy'])\n",
        "#model.evaluate(test_x, test_y)"
      ],
      "execution_count": null,
      "outputs": []
    },
    {
      "cell_type": "code",
      "metadata": {
        "colab": {
          "base_uri": "https://localhost:8080/"
        },
        "id": "4hqXZW4mCnPt",
        "outputId": "e3d39d34-649d-4cca-d6d4-98c6d27b8b83"
      },
      "source": [
        "model.compile(loss = 'categorical_crossentropy', optimizer = 'adam', metrics = ['accuracy'])\n",
        "history = model.fit(train_x, train_y, epochs =100, validation_split= 0.2 , batch_size= 32, verbose = 1)\n",
        "\n",
        "model.compile(loss = 'categorical_crossentropy', optimizer = 'sgd', metrics = ['accuracy'])\n",
        "history = model.fit(train_x, train_y, epochs =50, validation_split= 0.2 , batch_size= 32, verbose = 1)\n",
        "\n",
        "\n",
        "log_dir = path + 'logs0624_spectrogram/'\n",
        "my_callbacks = [\n",
        "    tf.keras.callbacks.EarlyStopping(patience=25),\n",
        "    tf.keras.callbacks.ModelCheckpoint(filepath=log_dir + 'model.{epoch:02d}-{val_loss:.2f}.h5'),\n",
        "    tf.keras.callbacks.TensorBoard(log_dir=log_dir),\n",
        "]\n",
        "#model.compile(loss = 'categorical_crossentropy', optimizer = 'sgd', metrics = ['accuracy'])\n",
        "# 這一行是跑完 logs0527_PR 之後才 remove 掉，因為觀察到重下 compile，val_loss 有點跳太大，可能是 learning rate 重設了？？？？\n",
        "# 不過在 logs0527 (patience = 20) 採用 epochs (250, 50, 300) 似乎沒有這個現象\n",
        "history = model.fit(train_x, train_y, epochs =300, validation_split= 0.2 , batch_size= 32, verbose = 1, callbacks=my_callbacks)\n",
        "model.evaluate(test_x, test_y)\n",
        "\n"
      ],
      "execution_count": null,
      "outputs": [
        {
          "output_type": "stream",
          "text": [
            "Epoch 1/100\n",
            "7/7 [==============================] - 8s 646ms/step - loss: 6.7285 - accuracy: 0.4999 - val_loss: 0.7966 - val_accuracy: 0.3750\n",
            "Epoch 2/100\n",
            "7/7 [==============================] - 2s 285ms/step - loss: 2.9996 - accuracy: 0.6666 - val_loss: 0.7788 - val_accuracy: 0.3929\n",
            "Epoch 3/100\n",
            "7/7 [==============================] - 2s 288ms/step - loss: 3.0506 - accuracy: 0.5713 - val_loss: 0.7459 - val_accuracy: 0.6071\n",
            "Epoch 4/100\n",
            "7/7 [==============================] - 2s 286ms/step - loss: 2.3663 - accuracy: 0.4794 - val_loss: 0.6982 - val_accuracy: 0.3929\n",
            "Epoch 5/100\n",
            "7/7 [==============================] - 2s 287ms/step - loss: 1.7561 - accuracy: 0.4851 - val_loss: 0.6805 - val_accuracy: 0.6071\n",
            "Epoch 6/100\n",
            "7/7 [==============================] - 2s 287ms/step - loss: 1.2571 - accuracy: 0.5510 - val_loss: 0.6819 - val_accuracy: 0.6071\n",
            "Epoch 7/100\n",
            "7/7 [==============================] - 2s 287ms/step - loss: 1.0196 - accuracy: 0.4617 - val_loss: 0.6812 - val_accuracy: 0.6071\n",
            "Epoch 8/100\n",
            "7/7 [==============================] - 2s 287ms/step - loss: 0.8319 - accuracy: 0.5200 - val_loss: 0.7210 - val_accuracy: 0.3929\n",
            "Epoch 9/100\n",
            "7/7 [==============================] - 2s 290ms/step - loss: 0.7013 - accuracy: 0.5596 - val_loss: 0.7120 - val_accuracy: 0.3929\n",
            "Epoch 10/100\n",
            "7/7 [==============================] - 2s 285ms/step - loss: 0.6663 - accuracy: 0.5984 - val_loss: 0.7073 - val_accuracy: 0.3929\n",
            "Epoch 11/100\n",
            "7/7 [==============================] - 2s 288ms/step - loss: 0.6511 - accuracy: 0.6092 - val_loss: 0.7110 - val_accuracy: 0.3929\n",
            "Epoch 12/100\n",
            "7/7 [==============================] - 2s 288ms/step - loss: 0.7092 - accuracy: 0.5040 - val_loss: 0.7081 - val_accuracy: 0.3929\n",
            "Epoch 13/100\n",
            "7/7 [==============================] - 2s 285ms/step - loss: 0.6681 - accuracy: 0.5962 - val_loss: 0.7317 - val_accuracy: 0.3929\n",
            "Epoch 14/100\n",
            "7/7 [==============================] - 2s 287ms/step - loss: 0.7216 - accuracy: 0.5714 - val_loss: 0.7075 - val_accuracy: 0.3929\n",
            "Epoch 15/100\n",
            "7/7 [==============================] - 2s 287ms/step - loss: 0.6629 - accuracy: 0.5648 - val_loss: 0.7148 - val_accuracy: 0.3929\n",
            "Epoch 16/100\n",
            "7/7 [==============================] - 2s 288ms/step - loss: 0.6431 - accuracy: 0.5865 - val_loss: 0.7097 - val_accuracy: 0.3929\n",
            "Epoch 17/100\n",
            "7/7 [==============================] - 2s 288ms/step - loss: 0.6508 - accuracy: 0.5854 - val_loss: 0.7347 - val_accuracy: 0.3929\n",
            "Epoch 18/100\n",
            "7/7 [==============================] - 2s 288ms/step - loss: 0.6699 - accuracy: 0.6186 - val_loss: 0.7367 - val_accuracy: 0.3929\n",
            "Epoch 19/100\n",
            "7/7 [==============================] - 2s 286ms/step - loss: 0.5693 - accuracy: 0.7448 - val_loss: 0.7356 - val_accuracy: 0.3929\n",
            "Epoch 20/100\n",
            "7/7 [==============================] - 2s 286ms/step - loss: 0.6086 - accuracy: 0.6675 - val_loss: 0.7310 - val_accuracy: 0.3929\n",
            "Epoch 21/100\n",
            "7/7 [==============================] - 2s 287ms/step - loss: 0.5539 - accuracy: 0.7025 - val_loss: 0.7428 - val_accuracy: 0.3929\n",
            "Epoch 22/100\n",
            "7/7 [==============================] - 2s 289ms/step - loss: 0.6159 - accuracy: 0.6459 - val_loss: 0.7432 - val_accuracy: 0.3929\n",
            "Epoch 23/100\n",
            "7/7 [==============================] - 2s 288ms/step - loss: 0.6265 - accuracy: 0.7052 - val_loss: 0.7427 - val_accuracy: 0.3929\n",
            "Epoch 24/100\n",
            "7/7 [==============================] - 2s 313ms/step - loss: 0.5918 - accuracy: 0.6762 - val_loss: 0.7618 - val_accuracy: 0.3929\n",
            "Epoch 25/100\n",
            "7/7 [==============================] - 2s 289ms/step - loss: 0.5907 - accuracy: 0.6246 - val_loss: 0.7867 - val_accuracy: 0.3929\n",
            "Epoch 26/100\n",
            "7/7 [==============================] - 2s 289ms/step - loss: 0.5686 - accuracy: 0.6942 - val_loss: 0.7403 - val_accuracy: 0.3929\n",
            "Epoch 27/100\n",
            "7/7 [==============================] - 2s 288ms/step - loss: 0.5748 - accuracy: 0.6227 - val_loss: 0.8598 - val_accuracy: 0.3929\n",
            "Epoch 28/100\n",
            "7/7 [==============================] - 2s 287ms/step - loss: 0.6037 - accuracy: 0.6963 - val_loss: 0.7232 - val_accuracy: 0.3929\n",
            "Epoch 29/100\n",
            "7/7 [==============================] - 2s 285ms/step - loss: 0.5487 - accuracy: 0.7250 - val_loss: 0.7109 - val_accuracy: 0.3929\n",
            "Epoch 30/100\n",
            "7/7 [==============================] - 2s 313ms/step - loss: 0.5752 - accuracy: 0.7252 - val_loss: 0.7121 - val_accuracy: 0.3929\n",
            "Epoch 31/100\n",
            "7/7 [==============================] - 2s 287ms/step - loss: 0.5665 - accuracy: 0.6590 - val_loss: 0.7056 - val_accuracy: 0.3929\n",
            "Epoch 32/100\n",
            "7/7 [==============================] - 2s 286ms/step - loss: 0.5560 - accuracy: 0.7152 - val_loss: 0.6706 - val_accuracy: 0.6071\n",
            "Epoch 33/100\n",
            "7/7 [==============================] - 2s 287ms/step - loss: 0.5566 - accuracy: 0.7595 - val_loss: 0.6702 - val_accuracy: 0.6071\n",
            "Epoch 34/100\n",
            "7/7 [==============================] - 2s 286ms/step - loss: 0.4953 - accuracy: 0.7381 - val_loss: 0.6650 - val_accuracy: 0.6071\n",
            "Epoch 35/100\n",
            "7/7 [==============================] - 2s 286ms/step - loss: 0.4937 - accuracy: 0.7558 - val_loss: 0.6631 - val_accuracy: 0.6071\n",
            "Epoch 36/100\n",
            "7/7 [==============================] - 2s 289ms/step - loss: 0.4502 - accuracy: 0.7854 - val_loss: 0.8438 - val_accuracy: 0.6071\n",
            "Epoch 37/100\n",
            "7/7 [==============================] - 2s 288ms/step - loss: 0.4388 - accuracy: 0.7617 - val_loss: 1.1231 - val_accuracy: 0.6071\n",
            "Epoch 38/100\n",
            "7/7 [==============================] - 2s 289ms/step - loss: 0.4564 - accuracy: 0.8131 - val_loss: 1.2124 - val_accuracy: 0.6071\n",
            "Epoch 39/100\n",
            "7/7 [==============================] - 2s 291ms/step - loss: 0.3795 - accuracy: 0.8291 - val_loss: 1.4490 - val_accuracy: 0.6071\n",
            "Epoch 40/100\n",
            "7/7 [==============================] - 2s 286ms/step - loss: 0.3500 - accuracy: 0.8193 - val_loss: 2.5092 - val_accuracy: 0.6071\n",
            "Epoch 41/100\n",
            "7/7 [==============================] - 2s 288ms/step - loss: 0.3734 - accuracy: 0.8308 - val_loss: 3.5458 - val_accuracy: 0.6071\n",
            "Epoch 42/100\n",
            "7/7 [==============================] - 2s 285ms/step - loss: 0.3248 - accuracy: 0.8544 - val_loss: 3.8235 - val_accuracy: 0.6071\n",
            "Epoch 43/100\n",
            "7/7 [==============================] - 2s 290ms/step - loss: 0.3570 - accuracy: 0.8312 - val_loss: 3.2242 - val_accuracy: 0.6071\n",
            "Epoch 44/100\n",
            "7/7 [==============================] - 2s 287ms/step - loss: 0.3041 - accuracy: 0.8441 - val_loss: 1.9001 - val_accuracy: 0.6071\n",
            "Epoch 45/100\n",
            "7/7 [==============================] - 2s 286ms/step - loss: 0.2626 - accuracy: 0.8653 - val_loss: 1.4626 - val_accuracy: 0.6071\n",
            "Epoch 46/100\n",
            "7/7 [==============================] - 2s 288ms/step - loss: 0.2762 - accuracy: 0.8663 - val_loss: 0.6658 - val_accuracy: 0.6071\n",
            "Epoch 47/100\n",
            "7/7 [==============================] - 2s 287ms/step - loss: 0.3059 - accuracy: 0.8594 - val_loss: 0.6921 - val_accuracy: 0.6071\n",
            "Epoch 48/100\n",
            "7/7 [==============================] - 2s 287ms/step - loss: 0.2672 - accuracy: 0.8573 - val_loss: 1.0211 - val_accuracy: 0.3929\n",
            "Epoch 49/100\n",
            "7/7 [==============================] - 2s 288ms/step - loss: 0.2880 - accuracy: 0.8483 - val_loss: 1.4118 - val_accuracy: 0.3929\n",
            "Epoch 50/100\n",
            "7/7 [==============================] - 2s 290ms/step - loss: 0.2209 - accuracy: 0.9186 - val_loss: 1.8035 - val_accuracy: 0.3929\n",
            "Epoch 51/100\n",
            "7/7 [==============================] - 2s 290ms/step - loss: 0.2801 - accuracy: 0.8609 - val_loss: 2.2163 - val_accuracy: 0.3929\n",
            "Epoch 52/100\n",
            "7/7 [==============================] - 2s 286ms/step - loss: 0.2240 - accuracy: 0.9068 - val_loss: 2.5993 - val_accuracy: 0.3929\n",
            "Epoch 53/100\n",
            "7/7 [==============================] - 2s 288ms/step - loss: 0.2447 - accuracy: 0.9163 - val_loss: 2.4818 - val_accuracy: 0.3929\n",
            "Epoch 54/100\n",
            "7/7 [==============================] - 2s 288ms/step - loss: 0.2818 - accuracy: 0.8632 - val_loss: 3.6325 - val_accuracy: 0.3929\n",
            "Epoch 55/100\n",
            "7/7 [==============================] - 2s 289ms/step - loss: 0.2282 - accuracy: 0.8740 - val_loss: 4.2960 - val_accuracy: 0.3929\n",
            "Epoch 56/100\n",
            "7/7 [==============================] - 2s 289ms/step - loss: 0.2323 - accuracy: 0.8939 - val_loss: 3.7976 - val_accuracy: 0.3929\n",
            "Epoch 57/100\n",
            "7/7 [==============================] - 2s 313ms/step - loss: 0.2048 - accuracy: 0.9286 - val_loss: 4.1936 - val_accuracy: 0.3929\n",
            "Epoch 58/100\n",
            "7/7 [==============================] - 2s 290ms/step - loss: 0.2316 - accuracy: 0.8963 - val_loss: 4.1586 - val_accuracy: 0.3929\n",
            "Epoch 59/100\n",
            "7/7 [==============================] - 2s 291ms/step - loss: 0.2480 - accuracy: 0.8911 - val_loss: 4.4946 - val_accuracy: 0.3929\n",
            "Epoch 60/100\n",
            "7/7 [==============================] - 2s 290ms/step - loss: 0.3007 - accuracy: 0.8441 - val_loss: 4.6634 - val_accuracy: 0.3929\n",
            "Epoch 61/100\n",
            "7/7 [==============================] - 2s 288ms/step - loss: 0.2010 - accuracy: 0.9024 - val_loss: 4.8289 - val_accuracy: 0.3929\n",
            "Epoch 62/100\n",
            "7/7 [==============================] - 2s 289ms/step - loss: 0.2345 - accuracy: 0.8842 - val_loss: 4.7956 - val_accuracy: 0.3929\n",
            "Epoch 63/100\n",
            "7/7 [==============================] - 2s 291ms/step - loss: 0.1643 - accuracy: 0.9068 - val_loss: 4.3329 - val_accuracy: 0.3929\n",
            "Epoch 64/100\n",
            "7/7 [==============================] - 2s 290ms/step - loss: 0.1340 - accuracy: 0.9541 - val_loss: 4.3039 - val_accuracy: 0.3929\n",
            "Epoch 65/100\n",
            "7/7 [==============================] - 2s 288ms/step - loss: 0.1580 - accuracy: 0.9323 - val_loss: 4.7722 - val_accuracy: 0.3929\n",
            "Epoch 66/100\n",
            "7/7 [==============================] - 2s 287ms/step - loss: 0.1664 - accuracy: 0.9117 - val_loss: 5.8662 - val_accuracy: 0.3929\n",
            "Epoch 67/100\n",
            "7/7 [==============================] - 2s 288ms/step - loss: 0.1978 - accuracy: 0.9150 - val_loss: 6.1079 - val_accuracy: 0.3929\n",
            "Epoch 68/100\n",
            "7/7 [==============================] - 2s 287ms/step - loss: 0.1659 - accuracy: 0.9453 - val_loss: 7.3800 - val_accuracy: 0.3929\n",
            "Epoch 69/100\n",
            "7/7 [==============================] - 2s 288ms/step - loss: 0.1914 - accuracy: 0.9204 - val_loss: 6.7298 - val_accuracy: 0.3929\n",
            "Epoch 70/100\n",
            "7/7 [==============================] - 2s 284ms/step - loss: 0.1839 - accuracy: 0.9139 - val_loss: 6.6712 - val_accuracy: 0.3929\n",
            "Epoch 71/100\n",
            "7/7 [==============================] - 2s 290ms/step - loss: 0.1431 - accuracy: 0.9356 - val_loss: 7.1393 - val_accuracy: 0.3929\n",
            "Epoch 72/100\n",
            "7/7 [==============================] - 2s 288ms/step - loss: 0.1310 - accuracy: 0.9629 - val_loss: 6.5489 - val_accuracy: 0.3929\n",
            "Epoch 73/100\n",
            "7/7 [==============================] - 2s 287ms/step - loss: 0.1593 - accuracy: 0.9293 - val_loss: 6.5486 - val_accuracy: 0.3929\n",
            "Epoch 74/100\n",
            "7/7 [==============================] - 2s 288ms/step - loss: 0.1424 - accuracy: 0.9532 - val_loss: 6.1372 - val_accuracy: 0.3929\n",
            "Epoch 75/100\n",
            "7/7 [==============================] - 2s 289ms/step - loss: 0.1449 - accuracy: 0.9392 - val_loss: 5.4115 - val_accuracy: 0.3929\n",
            "Epoch 76/100\n",
            "7/7 [==============================] - 2s 287ms/step - loss: 0.1175 - accuracy: 0.9489 - val_loss: 2.4175 - val_accuracy: 0.3750\n",
            "Epoch 77/100\n",
            "7/7 [==============================] - 2s 288ms/step - loss: 0.1364 - accuracy: 0.9438 - val_loss: 3.2334 - val_accuracy: 0.6071\n",
            "Epoch 78/100\n",
            "7/7 [==============================] - 2s 289ms/step - loss: 0.1264 - accuracy: 0.9405 - val_loss: 7.2228 - val_accuracy: 0.6071\n",
            "Epoch 79/100\n",
            "7/7 [==============================] - 2s 287ms/step - loss: 0.1180 - accuracy: 0.9593 - val_loss: 1.1226 - val_accuracy: 0.6071\n",
            "Epoch 80/100\n",
            "7/7 [==============================] - 2s 287ms/step - loss: 0.1539 - accuracy: 0.9331 - val_loss: 6.7985 - val_accuracy: 0.3929\n",
            "Epoch 81/100\n",
            "7/7 [==============================] - 2s 287ms/step - loss: 0.1345 - accuracy: 0.9481 - val_loss: 7.5732 - val_accuracy: 0.3929\n",
            "Epoch 82/100\n",
            "7/7 [==============================] - 2s 286ms/step - loss: 0.1204 - accuracy: 0.9604 - val_loss: 6.8954 - val_accuracy: 0.3929\n",
            "Epoch 83/100\n",
            "7/7 [==============================] - 2s 286ms/step - loss: 0.1267 - accuracy: 0.9423 - val_loss: 6.7097 - val_accuracy: 0.3929\n",
            "Epoch 84/100\n",
            "7/7 [==============================] - 2s 285ms/step - loss: 0.1494 - accuracy: 0.9295 - val_loss: 6.6137 - val_accuracy: 0.3929\n",
            "Epoch 85/100\n",
            "7/7 [==============================] - 2s 287ms/step - loss: 0.0881 - accuracy: 0.9626 - val_loss: 6.6105 - val_accuracy: 0.3929\n",
            "Epoch 86/100\n",
            "7/7 [==============================] - 2s 287ms/step - loss: 0.1283 - accuracy: 0.9335 - val_loss: 6.6168 - val_accuracy: 0.3929\n",
            "Epoch 87/100\n",
            "7/7 [==============================] - 2s 288ms/step - loss: 0.1287 - accuracy: 0.9517 - val_loss: 6.8140 - val_accuracy: 0.3929\n",
            "Epoch 88/100\n",
            "7/7 [==============================] - 2s 286ms/step - loss: 0.1355 - accuracy: 0.9396 - val_loss: 7.4027 - val_accuracy: 0.3929\n",
            "Epoch 89/100\n",
            "7/7 [==============================] - 2s 287ms/step - loss: 0.1703 - accuracy: 0.9387 - val_loss: 8.7764 - val_accuracy: 0.3929\n",
            "Epoch 90/100\n",
            "7/7 [==============================] - 2s 287ms/step - loss: 0.1380 - accuracy: 0.9466 - val_loss: 8.6411 - val_accuracy: 0.3929\n",
            "Epoch 91/100\n",
            "7/7 [==============================] - 2s 285ms/step - loss: 0.1502 - accuracy: 0.9400 - val_loss: 0.7171 - val_accuracy: 0.8036\n",
            "Epoch 92/100\n",
            "7/7 [==============================] - 2s 286ms/step - loss: 0.1114 - accuracy: 0.9621 - val_loss: 9.1660 - val_accuracy: 0.6071\n",
            "Epoch 93/100\n",
            "7/7 [==============================] - 2s 315ms/step - loss: 0.1107 - accuracy: 0.9361 - val_loss: 15.5953 - val_accuracy: 0.6071\n",
            "Epoch 94/100\n",
            "7/7 [==============================] - 2s 289ms/step - loss: 0.1063 - accuracy: 0.9731 - val_loss: 19.1932 - val_accuracy: 0.6071\n",
            "Epoch 95/100\n",
            "7/7 [==============================] - 2s 287ms/step - loss: 0.1187 - accuracy: 0.9548 - val_loss: 20.4335 - val_accuracy: 0.6071\n",
            "Epoch 96/100\n",
            "7/7 [==============================] - 2s 287ms/step - loss: 0.1270 - accuracy: 0.9484 - val_loss: 17.5382 - val_accuracy: 0.6071\n",
            "Epoch 97/100\n",
            "7/7 [==============================] - 2s 286ms/step - loss: 0.1333 - accuracy: 0.9516 - val_loss: 13.1417 - val_accuracy: 0.6071\n",
            "Epoch 98/100\n",
            "7/7 [==============================] - 2s 286ms/step - loss: 0.0797 - accuracy: 0.9791 - val_loss: 11.1177 - val_accuracy: 0.6071\n",
            "Epoch 99/100\n",
            "7/7 [==============================] - 2s 287ms/step - loss: 0.0955 - accuracy: 0.9720 - val_loss: 8.7509 - val_accuracy: 0.6071\n",
            "Epoch 100/100\n",
            "7/7 [==============================] - 2s 285ms/step - loss: 0.1236 - accuracy: 0.9490 - val_loss: 8.7003 - val_accuracy: 0.6071\n",
            "Epoch 1/50\n",
            "7/7 [==============================] - 4s 379ms/step - loss: 0.0911 - accuracy: 0.9433 - val_loss: 6.5579 - val_accuracy: 0.6071\n",
            "Epoch 2/50\n",
            "7/7 [==============================] - 2s 288ms/step - loss: 0.0915 - accuracy: 0.9740 - val_loss: 5.1826 - val_accuracy: 0.6071\n",
            "Epoch 3/50\n",
            "7/7 [==============================] - 2s 289ms/step - loss: 0.0836 - accuracy: 0.9640 - val_loss: 4.3504 - val_accuracy: 0.6071\n",
            "Epoch 4/50\n",
            "7/7 [==============================] - 2s 287ms/step - loss: 0.0915 - accuracy: 0.9794 - val_loss: 3.5009 - val_accuracy: 0.6071\n",
            "Epoch 5/50\n",
            "7/7 [==============================] - 2s 288ms/step - loss: 0.0863 - accuracy: 0.9787 - val_loss: 2.1002 - val_accuracy: 0.6250\n",
            "Epoch 6/50\n",
            "7/7 [==============================] - 2s 286ms/step - loss: 0.1122 - accuracy: 0.9580 - val_loss: 1.5434 - val_accuracy: 0.6964\n",
            "Epoch 7/50\n",
            "7/7 [==============================] - 2s 288ms/step - loss: 0.1034 - accuracy: 0.9647 - val_loss: 1.5557 - val_accuracy: 0.6964\n",
            "Epoch 8/50\n",
            "7/7 [==============================] - 2s 286ms/step - loss: 0.0607 - accuracy: 0.9885 - val_loss: 1.5148 - val_accuracy: 0.7321\n",
            "Epoch 9/50\n",
            "7/7 [==============================] - 2s 288ms/step - loss: 0.0896 - accuracy: 0.9625 - val_loss: 1.4358 - val_accuracy: 0.7500\n",
            "Epoch 10/50\n",
            "7/7 [==============================] - 2s 284ms/step - loss: 0.0619 - accuracy: 0.9853 - val_loss: 1.3070 - val_accuracy: 0.8036\n",
            "Epoch 11/50\n",
            "7/7 [==============================] - 2s 288ms/step - loss: 0.1315 - accuracy: 0.9444 - val_loss: 1.2387 - val_accuracy: 0.8214\n",
            "Epoch 12/50\n",
            "7/7 [==============================] - 2s 287ms/step - loss: 0.0649 - accuracy: 0.9835 - val_loss: 1.2325 - val_accuracy: 0.8214\n",
            "Epoch 13/50\n",
            "7/7 [==============================] - 2s 287ms/step - loss: 0.1257 - accuracy: 0.9546 - val_loss: 1.6436 - val_accuracy: 0.7321\n",
            "Epoch 14/50\n",
            "7/7 [==============================] - 2s 287ms/step - loss: 0.0983 - accuracy: 0.9585 - val_loss: 1.3006 - val_accuracy: 0.8393\n",
            "Epoch 15/50\n",
            "7/7 [==============================] - 2s 287ms/step - loss: 0.1252 - accuracy: 0.9444 - val_loss: 1.5926 - val_accuracy: 0.7679\n",
            "Epoch 16/50\n",
            "7/7 [==============================] - 2s 287ms/step - loss: 0.0880 - accuracy: 0.9662 - val_loss: 1.4802 - val_accuracy: 0.8036\n",
            "Epoch 17/50\n",
            "7/7 [==============================] - 2s 287ms/step - loss: 0.1011 - accuracy: 0.9639 - val_loss: 1.3986 - val_accuracy: 0.8214\n",
            "Epoch 18/50\n",
            "7/7 [==============================] - 2s 288ms/step - loss: 0.0916 - accuracy: 0.9731 - val_loss: 1.2987 - val_accuracy: 0.8393\n",
            "Epoch 19/50\n",
            "7/7 [==============================] - 2s 287ms/step - loss: 0.0916 - accuracy: 0.9698 - val_loss: 1.2716 - val_accuracy: 0.8393\n",
            "Epoch 20/50\n",
            "7/7 [==============================] - 2s 288ms/step - loss: 0.0587 - accuracy: 0.9865 - val_loss: 1.2619 - val_accuracy: 0.8393\n",
            "Epoch 21/50\n",
            "7/7 [==============================] - 2s 286ms/step - loss: 0.0971 - accuracy: 0.9652 - val_loss: 1.2501 - val_accuracy: 0.8750\n",
            "Epoch 22/50\n",
            "7/7 [==============================] - 2s 288ms/step - loss: 0.0798 - accuracy: 0.9794 - val_loss: 1.2677 - val_accuracy: 0.8750\n",
            "Epoch 23/50\n",
            "7/7 [==============================] - 2s 289ms/step - loss: 0.0844 - accuracy: 0.9757 - val_loss: 1.3133 - val_accuracy: 0.8750\n",
            "Epoch 24/50\n",
            "7/7 [==============================] - 2s 286ms/step - loss: 0.0781 - accuracy: 0.9740 - val_loss: 1.2834 - val_accuracy: 0.8750\n",
            "Epoch 25/50\n",
            "7/7 [==============================] - 2s 285ms/step - loss: 0.0519 - accuracy: 0.9863 - val_loss: 1.2977 - val_accuracy: 0.8750\n",
            "Epoch 26/50\n",
            "7/7 [==============================] - 2s 287ms/step - loss: 0.0816 - accuracy: 0.9684 - val_loss: 1.3123 - val_accuracy: 0.8571\n",
            "Epoch 27/50\n",
            "7/7 [==============================] - 2s 286ms/step - loss: 0.0960 - accuracy: 0.9708 - val_loss: 1.2967 - val_accuracy: 0.8750\n",
            "Epoch 28/50\n",
            "7/7 [==============================] - 2s 312ms/step - loss: 0.0966 - accuracy: 0.9681 - val_loss: 1.3277 - val_accuracy: 0.8571\n",
            "Epoch 29/50\n",
            "7/7 [==============================] - 2s 287ms/step - loss: 0.0959 - accuracy: 0.9605 - val_loss: 1.3427 - val_accuracy: 0.8571\n",
            "Epoch 30/50\n",
            "7/7 [==============================] - 2s 289ms/step - loss: 0.1095 - accuracy: 0.9665 - val_loss: 1.3396 - val_accuracy: 0.8571\n",
            "Epoch 31/50\n",
            "7/7 [==============================] - 2s 288ms/step - loss: 0.0850 - accuracy: 0.9818 - val_loss: 1.3411 - val_accuracy: 0.8750\n",
            "Epoch 32/50\n",
            "7/7 [==============================] - 2s 289ms/step - loss: 0.0932 - accuracy: 0.9602 - val_loss: 1.3667 - val_accuracy: 0.8750\n",
            "Epoch 33/50\n",
            "7/7 [==============================] - 2s 286ms/step - loss: 0.0750 - accuracy: 0.9733 - val_loss: 1.3693 - val_accuracy: 0.8571\n",
            "Epoch 34/50\n",
            "7/7 [==============================] - 2s 289ms/step - loss: 0.1076 - accuracy: 0.9544 - val_loss: 1.3749 - val_accuracy: 0.8571\n",
            "Epoch 35/50\n",
            "7/7 [==============================] - 2s 287ms/step - loss: 0.0781 - accuracy: 0.9786 - val_loss: 1.3794 - val_accuracy: 0.8571\n",
            "Epoch 36/50\n",
            "7/7 [==============================] - 2s 286ms/step - loss: 0.0902 - accuracy: 0.9656 - val_loss: 1.3818 - val_accuracy: 0.8571\n",
            "Epoch 37/50\n",
            "7/7 [==============================] - 2s 285ms/step - loss: 0.0889 - accuracy: 0.9658 - val_loss: 1.3653 - val_accuracy: 0.8750\n",
            "Epoch 38/50\n",
            "7/7 [==============================] - 2s 288ms/step - loss: 0.1266 - accuracy: 0.9489 - val_loss: 1.3740 - val_accuracy: 0.8750\n",
            "Epoch 39/50\n",
            "7/7 [==============================] - 2s 287ms/step - loss: 0.0963 - accuracy: 0.9663 - val_loss: 1.3623 - val_accuracy: 0.8750\n",
            "Epoch 40/50\n",
            "7/7 [==============================] - 2s 288ms/step - loss: 0.0686 - accuracy: 0.9771 - val_loss: 1.3627 - val_accuracy: 0.8750\n",
            "Epoch 41/50\n",
            "7/7 [==============================] - 2s 287ms/step - loss: 0.0806 - accuracy: 0.9806 - val_loss: 1.3597 - val_accuracy: 0.8750\n",
            "Epoch 42/50\n",
            "7/7 [==============================] - 2s 289ms/step - loss: 0.0898 - accuracy: 0.9730 - val_loss: 1.3616 - val_accuracy: 0.8750\n",
            "Epoch 43/50\n",
            "7/7 [==============================] - 2s 286ms/step - loss: 0.0958 - accuracy: 0.9671 - val_loss: 1.3734 - val_accuracy: 0.8750\n",
            "Epoch 44/50\n",
            "7/7 [==============================] - 2s 287ms/step - loss: 0.0943 - accuracy: 0.9610 - val_loss: 1.3791 - val_accuracy: 0.8750\n",
            "Epoch 45/50\n",
            "7/7 [==============================] - 2s 288ms/step - loss: 0.1256 - accuracy: 0.9537 - val_loss: 1.3979 - val_accuracy: 0.8750\n",
            "Epoch 46/50\n",
            "7/7 [==============================] - 2s 287ms/step - loss: 0.0726 - accuracy: 0.9790 - val_loss: 1.4006 - val_accuracy: 0.8750\n",
            "Epoch 47/50\n",
            "7/7 [==============================] - 2s 287ms/step - loss: 0.1014 - accuracy: 0.9589 - val_loss: 1.4028 - val_accuracy: 0.8750\n",
            "Epoch 48/50\n",
            "7/7 [==============================] - 2s 286ms/step - loss: 0.0887 - accuracy: 0.9694 - val_loss: 1.4180 - val_accuracy: 0.8750\n",
            "Epoch 49/50\n",
            "7/7 [==============================] - 2s 284ms/step - loss: 0.0914 - accuracy: 0.9654 - val_loss: 1.4192 - val_accuracy: 0.8750\n",
            "Epoch 50/50\n",
            "7/7 [==============================] - 2s 286ms/step - loss: 0.0950 - accuracy: 0.9641 - val_loss: 1.4058 - val_accuracy: 0.8750\n",
            "Epoch 1/300\n",
            "7/7 [==============================] - 3s 394ms/step - loss: 0.0708 - accuracy: 0.9774 - val_loss: 1.4073 - val_accuracy: 0.8750\n",
            "Epoch 2/300\n",
            "7/7 [==============================] - 2s 285ms/step - loss: 0.0964 - accuracy: 0.9638 - val_loss: 1.3807 - val_accuracy: 0.8750\n",
            "Epoch 3/300\n",
            "7/7 [==============================] - 2s 286ms/step - loss: 0.0767 - accuracy: 0.9683 - val_loss: 1.3832 - val_accuracy: 0.8750\n",
            "Epoch 4/300\n",
            "7/7 [==============================] - 2s 287ms/step - loss: 0.0697 - accuracy: 0.9819 - val_loss: 1.3739 - val_accuracy: 0.8750\n",
            "Epoch 5/300\n",
            "7/7 [==============================] - 2s 313ms/step - loss: 0.1186 - accuracy: 0.9548 - val_loss: 1.3804 - val_accuracy: 0.8750\n",
            "Epoch 6/300\n",
            "7/7 [==============================] - 2s 313ms/step - loss: 0.0910 - accuracy: 0.9683 - val_loss: 1.3809 - val_accuracy: 0.8750\n",
            "Epoch 7/300\n",
            "7/7 [==============================] - 2s 292ms/step - loss: 0.0937 - accuracy: 0.9683 - val_loss: 1.3816 - val_accuracy: 0.8750\n",
            "Epoch 8/300\n",
            "7/7 [==============================] - 2s 287ms/step - loss: 0.0786 - accuracy: 0.9729 - val_loss: 1.3777 - val_accuracy: 0.8750\n",
            "Epoch 9/300\n",
            "7/7 [==============================] - 2s 289ms/step - loss: 0.0950 - accuracy: 0.9683 - val_loss: 1.3818 - val_accuracy: 0.8750\n",
            "Epoch 10/300\n",
            "7/7 [==============================] - 2s 288ms/step - loss: 0.0924 - accuracy: 0.9683 - val_loss: 1.3755 - val_accuracy: 0.8750\n",
            "Epoch 11/300\n",
            "7/7 [==============================] - 2s 314ms/step - loss: 0.0841 - accuracy: 0.9683 - val_loss: 1.3813 - val_accuracy: 0.8750\n",
            "Epoch 12/300\n",
            "7/7 [==============================] - 2s 287ms/step - loss: 0.1085 - accuracy: 0.9548 - val_loss: 1.4156 - val_accuracy: 0.8750\n",
            "Epoch 13/300\n",
            "7/7 [==============================] - 2s 288ms/step - loss: 0.0818 - accuracy: 0.9729 - val_loss: 1.4268 - val_accuracy: 0.8750\n",
            "Epoch 14/300\n",
            "7/7 [==============================] - 2s 289ms/step - loss: 0.0985 - accuracy: 0.9683 - val_loss: 1.4315 - val_accuracy: 0.8750\n",
            "Epoch 15/300\n",
            "7/7 [==============================] - 2s 287ms/step - loss: 0.0631 - accuracy: 0.9819 - val_loss: 1.4347 - val_accuracy: 0.8750\n",
            "Epoch 16/300\n",
            "7/7 [==============================] - 2s 288ms/step - loss: 0.0846 - accuracy: 0.9729 - val_loss: 1.4337 - val_accuracy: 0.8750\n",
            "Epoch 17/300\n",
            "7/7 [==============================] - 2s 286ms/step - loss: 0.0933 - accuracy: 0.9683 - val_loss: 1.4391 - val_accuracy: 0.8750\n",
            "Epoch 18/300\n",
            "7/7 [==============================] - 2s 288ms/step - loss: 0.0872 - accuracy: 0.9683 - val_loss: 1.4379 - val_accuracy: 0.8750\n",
            "Epoch 19/300\n",
            "7/7 [==============================] - 2s 291ms/step - loss: 0.0552 - accuracy: 0.9864 - val_loss: 1.4383 - val_accuracy: 0.8750\n",
            "Epoch 20/300\n",
            "7/7 [==============================] - 2s 287ms/step - loss: 0.0873 - accuracy: 0.9683 - val_loss: 1.4241 - val_accuracy: 0.8750\n",
            "Epoch 21/300\n",
            "7/7 [==============================] - 2s 288ms/step - loss: 0.0940 - accuracy: 0.9683 - val_loss: 1.4326 - val_accuracy: 0.8750\n",
            "Epoch 22/300\n",
            "7/7 [==============================] - 2s 291ms/step - loss: 0.0827 - accuracy: 0.9729 - val_loss: 1.4421 - val_accuracy: 0.8750\n",
            "Epoch 23/300\n",
            "7/7 [==============================] - 2s 287ms/step - loss: 0.0735 - accuracy: 0.9774 - val_loss: 1.4373 - val_accuracy: 0.8750\n",
            "Epoch 24/300\n",
            "7/7 [==============================] - 2s 288ms/step - loss: 0.0571 - accuracy: 0.9864 - val_loss: 1.4435 - val_accuracy: 0.8750\n",
            "Epoch 25/300\n",
            "7/7 [==============================] - 2s 286ms/step - loss: 0.0827 - accuracy: 0.9729 - val_loss: 1.4621 - val_accuracy: 0.8750\n",
            "Epoch 26/300\n",
            "7/7 [==============================] - 2s 290ms/step - loss: 0.0732 - accuracy: 0.9819 - val_loss: 1.4707 - val_accuracy: 0.8750\n",
            "Epoch 27/300\n",
            "7/7 [==============================] - 2s 316ms/step - loss: 0.0710 - accuracy: 0.9819 - val_loss: 1.4743 - val_accuracy: 0.8750\n",
            "Epoch 28/300\n",
            "7/7 [==============================] - 2s 287ms/step - loss: 0.0970 - accuracy: 0.9683 - val_loss: 1.5001 - val_accuracy: 0.8750\n",
            "Epoch 29/300\n",
            "7/7 [==============================] - 2s 288ms/step - loss: 0.0848 - accuracy: 0.9729 - val_loss: 1.5005 - val_accuracy: 0.8571\n",
            "4/4 [==============================] - 0s 78ms/step - loss: 1.1612 - accuracy: 0.8917\n"
          ],
          "name": "stdout"
        },
        {
          "output_type": "execute_result",
          "data": {
            "text/plain": [
              "[1.1611965894699097, 0.8916666507720947]"
            ]
          },
          "metadata": {
            "tags": []
          },
          "execution_count": 46
        }
      ]
    },
    {
      "cell_type": "code",
      "metadata": {
        "colab": {
          "base_uri": "https://localhost:8080/"
        },
        "id": "fSC9KBwkFjBH",
        "outputId": "189e4005-5b9f-4242-d6ac-d22df4aa2449"
      },
      "source": [
        "model.evaluate(test_x, test_y) #CNN1D we got 0.9331, here, CNN2D, we have 0.9250 @sr = 8000, and 0.9000 @sr=48000"
      ],
      "execution_count": null,
      "outputs": [
        {
          "output_type": "stream",
          "text": [
            "4/4 [==============================] - 0s 75ms/step - loss: 1.1612 - accuracy: 0.8917\n"
          ],
          "name": "stdout"
        },
        {
          "output_type": "execute_result",
          "data": {
            "text/plain": [
              "[1.1611965894699097, 0.8916666507720947]"
            ]
          },
          "metadata": {
            "tags": []
          },
          "execution_count": 47
        }
      ]
    },
    {
      "cell_type": "code",
      "metadata": {
        "colab": {
          "base_uri": "https://localhost:8080/"
        },
        "id": "VdBzcmZrOuLk",
        "outputId": "a76626a8-0019-4014-da6f-b93b506dc485"
      },
      "source": [
        "#model.load_weights(path + 'logs0527_PR/' + 'model.01-0.93.h5')\n",
        "#model.compile(loss = 'categorical_crossentropy', optimizer = 'sgd', metrics = ['accuracy'])\n",
        "model.evaluate(test_x, test_y)\n"
      ],
      "execution_count": null,
      "outputs": [
        {
          "output_type": "stream",
          "text": [
            "4/4 [==============================] - 0s 76ms/step - loss: 1.1612 - accuracy: 0.8917\n"
          ],
          "name": "stdout"
        },
        {
          "output_type": "execute_result",
          "data": {
            "text/plain": [
              "[1.1611965894699097, 0.8916666507720947]"
            ]
          },
          "metadata": {
            "tags": []
          },
          "execution_count": 48
        }
      ]
    },
    {
      "cell_type": "code",
      "metadata": {
        "id": "Rec1G22HlTR3",
        "colab": {
          "base_uri": "https://localhost:8080/"
        },
        "outputId": "2d30e405-fd5f-4f74-d4e5-137d58c135e6"
      },
      "source": [
        "model.evaluate(test_x, test_y)\n",
        "model.save(path + 'CNN2D_save.h5')\n",
        "model.save_weights(path + 'CNN2D_save_weights.h5')\n"
      ],
      "execution_count": null,
      "outputs": [
        {
          "output_type": "stream",
          "text": [
            "4/4 [==============================] - 0s 76ms/step - loss: 1.1612 - accuracy: 0.8917\n"
          ],
          "name": "stdout"
        }
      ]
    },
    {
      "cell_type": "code",
      "metadata": {
        "id": "fYQH6Qe0CpjK",
        "colab": {
          "base_uri": "https://localhost:8080/"
        },
        "outputId": "65e81183-cb50-41c8-bcca-d35be5ca14e4"
      },
      "source": [
        "'''\n",
        "model.save(path + '08536_save.h5')\n",
        "model.save_weights(path + '08536_save_weights.h5')\n",
        "\n",
        "model.evaluate(test_x, test_y)\n",
        "'''"
      ],
      "execution_count": null,
      "outputs": [
        {
          "output_type": "execute_result",
          "data": {
            "application/vnd.google.colaboratory.intrinsic+json": {
              "type": "string"
            },
            "text/plain": [
              "\"\\nmodel.save(path + '08536_save.h5')\\nmodel.save_weights(path + '08536_save_weights.h5')\\n\\nmodel.evaluate(test_x, test_y)\\n\""
            ]
          },
          "metadata": {
            "tags": []
          },
          "execution_count": 50
        }
      ]
    },
    {
      "cell_type": "code",
      "metadata": {
        "id": "DpyfyNYBMrXy",
        "colab": {
          "base_uri": "https://localhost:8080/"
        },
        "outputId": "468475b4-e62a-48ce-9914-2cd8f9a3a72b"
      },
      "source": [
        "import matplotlib.pyplot as plt\n",
        "\n",
        "def show_train_progress(train_history, train, validation):\n",
        "    plt.plot(train_history.history[train])\n",
        "    plt.plot(train_history.history[validation])\n",
        "    plt.title('Train History')\n",
        "    plt.ylabel('train')\n",
        "    plt.xlabel('Epoch')\n",
        "    #plt.legend(['train','validation'],loc='upper left')\n",
        "    plt.legend(['train','validation'],loc=2)\n",
        "    \n",
        "    plt.show()\n",
        "show_train_progress(history,'accuracy','val_accuracy')    "
      ],
      "execution_count": null,
      "outputs": [
        {
          "output_type": "display_data",
          "data": {
            "image/png": "[encoded data removed]",
            "text/plain": [
              "<Figure size 432x288 with 1 Axes>"
            ]
          },
          "metadata": {
            "tags": [],
            "needs_background": "light"
          }
        }
      ]
    },
    {
      "cell_type": "code",
      "metadata": {
        "id": "V_BX3k-jCoBH",
        "colab": {
          "base_uri": "https://localhost:8080/"
        },
        "outputId": "71d19373-aef7-4ed5-97b6-2c8a7bfec508"
      },
      "source": [
        "scores = model.evaluate(test_x, test_y)"
      ],
      "execution_count": null,
      "outputs": [
        {
          "output_type": "stream",
          "text": [
            "4/4 [==============================] - 0s 77ms/step - loss: 1.1612 - accuracy: 0.8917\n"
          ],
          "name": "stdout"
        }
      ]
    },
    {
      "cell_type": "code",
      "metadata": {
        "id": "gMJYrYq_JIsb",
        "colab": {
          "base_uri": "https://localhost:8080/"
        },
        "outputId": "a5b28874-d321-45ae-f970-c4067045e247"
      },
      "source": [
        "test_y[:,0].astype('int')\n",
        "prediction = model.predict_classes(test_x)\n",
        "print(prediction)\n",
        "print(test_y[:,1].astype('int'))"
      ],
      "execution_count": null,
      "outputs": [
        {
          "output_type": "stream",
          "text": [
            "/usr/local/lib/python3.7/dist-packages/keras/engine/sequential.py:450: UserWarning: `model.predict_classes()` is deprecated and will be removed after 2021-01-01. Please use instead:* `np.argmax(model.predict(x), axis=-1)`,   if your model does multi-class classification   (e.g. if it uses a `softmax` last-layer activation).* `(model.predict(x) > 0.5).astype(\"int32\")`,   if your model does binary classification   (e.g. if it uses a `sigmoid` last-layer activation).\n",
            "  warnings.warn('`model.predict_classes()` is deprecated and '\n"
          ],
          "name": "stderr"
        },
        {
          "output_type": "stream",
          "text": [
            "[1 1 1 1 0 0 1 0 1 1 0 0 1 1 1 1 1 1 0 0 1 1 0 1 1 0 1 1 1 0 0 0 0 1 0 1 1\n",
            " 1 0 0 0 1 0 1 0 1 0 0 1 0 0 0 1 1 0 1 0 1 0 1 0 0 1 0 1 0 0 0 1 1 1 0 1 0\n",
            " 1 1 0 0 1 1 0 1 0 0 1 0 0 1 0 1 0 0 0 1 1 1 0 1 0 0 1 0 0 0 1 0 1 1 0 0 1\n",
            " 1 0 1 0 0 0 0 1 0]\n",
            "[1 0 1 1 0 0 1 0 1 1 0 0 1 1 1 1 1 1 0 0 1 1 1 0 1 0 1 1 0 0 0 0 1 1 0 0 1\n",
            " 1 0 0 0 1 0 1 0 1 0 0 1 0 0 0 1 1 0 1 0 0 0 1 0 1 1 0 1 0 0 0 1 1 1 0 1 0\n",
            " 0 1 0 0 1 1 0 1 0 0 1 0 0 0 0 1 0 0 0 1 1 1 0 1 1 1 1 0 0 0 1 0 1 1 0 0 1\n",
            " 1 0 1 0 0 0 1 1 0]\n"
          ],
          "name": "stdout"
        }
      ]
    },
    {
      "cell_type": "code",
      "metadata": {
        "id": "FePOXEGMABWm",
        "colab": {
          "base_uri": "https://localhost:8080/"
        },
        "outputId": "91be3c13-ed3d-4749-9fd0-623446bab943"
      },
      "source": [
        "plt.imshow(test_x[1].reshape(129,length))"
      ],
      "execution_count": null,
      "outputs": [
        {
          "output_type": "execute_result",
          "data": {
            "text/plain": [
              "<matplotlib.image.AxesImage at 0x7f704675e950>"
            ]
          },
          "metadata": {
            "tags": []
          },
          "execution_count": 54
        },
        {
          "output_type": "display_data",
          "data": {
            "image/png": "[encoded data removed]",
            "text/plain": [
              "<Figure size 432x288 with 1 Axes>"
            ]
          },
          "metadata": {
            "tags": [],
            "needs_background": "light"
          }
        }
      ]
    },
    {
      "cell_type": "code",
      "metadata": {
        "id": "cOCqWREQCnZR",
        "colab": {
          "base_uri": "https://localhost:8080/"
        },
        "outputId": "0ce243be-a9d5-4e36-e97b-0fd7e2eb14b0"
      },
      "source": [
        "train_x.shape"
      ],
      "execution_count": null,
      "outputs": [
        {
          "output_type": "execute_result",
          "data": {
            "text/plain": [
              "(277, 129, 600, 1)"
            ]
          },
          "metadata": {
            "tags": []
          },
          "execution_count": 55
        }
      ]
    },
    {
      "cell_type": "markdown",
      "metadata": {
        "id": "dD48C71LVL1e"
      },
      "source": [
        "# if spectrogram"
      ]
    },
    {
      "cell_type": "code",
      "metadata": {
        "id": "g86FN-vXVKo4",
        "colab": {
          "base_uri": "https://localhost:8080/"
        },
        "outputId": "b4dd4a1f-2fc6-482a-a649-2adeded7fdc2"
      },
      "source": [
        "'''\n",
        "import matplotlib.pyplot as plt\n",
        "from scipy import signal\n",
        "from scipy.io import wavfile\n",
        "\n",
        "sample_rate, samples = wavfile.read('path-to-mono-audio-file.wav')\n",
        "frequencies, times, spectrogram = signal.spectrogram(samples, sample_rate)\n",
        "\n",
        "plt.pcolormesh(times, frequencies, spectrogram)\n",
        "plt.imshow(spectrogram)\n",
        "plt.ylabel('Frequency [Hz]')\n",
        "plt.xlabel\n",
        "'''"
      ],
      "execution_count": null,
      "outputs": [
        {
          "output_type": "execute_result",
          "data": {
            "application/vnd.google.colaboratory.intrinsic+json": {
              "type": "string"
            },
            "text/plain": [
              "\"\\nimport matplotlib.pyplot as plt\\nfrom scipy import signal\\nfrom scipy.io import wavfile\\n\\nsample_rate, samples = wavfile.read('path-to-mono-audio-file.wav')\\nfrequencies, times, spectrogram = signal.spectrogram(samples, sample_rate)\\n\\nplt.pcolormesh(times, frequencies, spectrogram)\\nplt.imshow(spectrogram)\\nplt.ylabel('Frequency [Hz]')\\nplt.xlabel\\n\""
            ]
          },
          "metadata": {
            "tags": []
          },
          "execution_count": 56
        }
      ]
    },
    {
      "cell_type": "code",
      "metadata": {
        "id": "aINDUJA0pb_h"
      },
      "source": [
        ""
      ],
      "execution_count": null,
      "outputs": []
    },
    {
      "cell_type": "markdown",
      "metadata": {
        "id": "_kWm9IVIpcYH"
      },
      "source": [
        "# RESNET STURCTRUCT, BUT IT SEEMS NO NECESSARY... \n",
        "\n",
        "\n",
        "\n",
        "```\n",
        "# lets create model now\n",
        "def resblock(X, f):\n",
        "    '''\n",
        "    function for creating res block\n",
        "    X is a layer input, and f is neurons number\n",
        "    '''\n",
        "    X_copy = X  #copy of input\n",
        "    \n",
        "    # main path\n",
        "    X = Conv2D(f, kernel_size=(1,1), kernel_initializer='he_normal')(X)\n",
        "    X = BatchNormalization()(X)\n",
        "    X = Activation('relu')(X)\n",
        "    \n",
        "    X = Conv2D(f, kernel_size=(3,3), padding='same', kernel_initializer='he_normal')(X)\n",
        "    X = BatchNormalization()(X)\n",
        "    \n",
        "    # shortcut path\n",
        "    X_copy = Conv2D(f, kernel_size=(1,1), kernel_initializer='he_normal')(X_copy)\n",
        "    X_copy = BatchNormalization()(X_copy)\n",
        "    \n",
        "    # Adding the output from main path and short path together\n",
        "    X = Add()([X, X_copy])\n",
        "    X = Activation('relu')(X)\n",
        "    \n",
        "    return X\n",
        "```\n",
        "\n",
        "\n",
        "\n",
        "```\n",
        "input_shape = (129, length, 1)\n",
        "X_input = Input(input_shape) #iniating tensor of input shape\n",
        "\n",
        "# Stage 1\n",
        "conv_1 = Conv2D(64, (3,3))(X_input)\n",
        "conv_1 = BatchNormalization()(conv_1)\n",
        "conv_1 = Activation(\"relu\")(conv_1)\n",
        "conv_1 = Conv2D(64, (3,3))(conv_1)\n",
        "conv_1 = BatchNormalization()(conv_1)\n",
        "conv_1 = Activation(\"relu\")(conv_1)\n",
        "pool_1 = MaxPooling2D((2,2))(conv_1)\n",
        "\n",
        "\n",
        "# stage 2\n",
        "conv_2 = resblock(pool_1, 32)\n",
        "pool_2 = MaxPooling2D((2,2))(conv_2)\n",
        "\n",
        "# Stage 3\n",
        "conv_3 = resblock(pool_2, 64)\n",
        "pool_3 = MaxPooling2D((2,2))(conv_3)\n",
        "\n",
        "# Stage 4\n",
        "conv_4 = resblock(pool_3, 128)\n",
        "pool_4 = MaxPooling2D((2,2))(conv_4)\n",
        "\n",
        "# Stage 5 (bottle neck)\n",
        "conv_5 = resblock(pool_4, 256)\n",
        "\n",
        "x = Flatten()(conv_5)\n",
        "x = Dense(256, activation = 'relu')(x)\n",
        "x = Dropout(0.5)(x)\n",
        "x = Dense(128, activation = 'relu')(x)\n",
        "out = Dense(2, activation = 'softmax')(x)\n",
        "\n",
        "\n",
        "model = Model(X_input, out)\n",
        "model.summary()\n",
        "plot_model(model)\n",
        "```\n",
        "\n",
        "\n",
        "\n"
      ]
    }
  ]
}