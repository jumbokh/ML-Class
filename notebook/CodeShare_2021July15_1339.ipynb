{
  "nbformat": 4,
  "nbformat_minor": 0,
  "metadata": {
    "colab": {
      "name": "CodeShare_2021July15_1339.ipynb",
      "provenance": [],
      "include_colab_link": true
    },
    "kernelspec": {
      "name": "python3",
      "display_name": "Python 3"
    },
    "language_info": {
      "name": "python"
    }
  },
  "cells": [
    {
      "cell_type": "markdown",
      "metadata": {
        "id": "view-in-github",
        "colab_type": "text"
      },
      "source": [
        "<a href=\"https://colab.research.google.com/github/jumbokh/ML-Class/blob/main/notebook/CodeShare_2021July15_1339.ipynb\" target=\"_parent\"><img src=\"https://colab.research.google.com/assets/colab-badge.svg\" alt=\"Open In Colab\"/></a>"
      ]
    },
    {
      "cell_type": "code",
      "metadata": {
        "colab": {
          "base_uri": "https://localhost:8080/",
          "height": 483
        },
        "id": "3tyxckhEqtoL",
        "outputId": "263f213d-f00f-4b9f-a6b2-3188d5131cb2"
      },
      "source": [
        "import io, pandas as pd\n",
        "\n",
        "datastring = \"\"\"\n",
        "Price || Signal || cummax\n",
        "   99 ||      1 ||     99\n",
        "  100 ||      1 ||    100\n",
        "  101 ||      1 ||    101\n",
        "  102 ||      1 ||    102\n",
        "  100 ||      1 ||    102\n",
        "   98 ||     -1 ||     98\n",
        "   97 ||     -1 ||     98\n",
        "   95 ||     -1 ||     98\n",
        "   94 ||     -1 ||     98\n",
        "   96 ||     -1 ||     98\n",
        "   98 ||     -1 ||     98\n",
        "   99 ||      1 ||     99\n",
        "  100 ||      1 ||    100\n",
        "   99 ||      1 ||    100\n",
        "\"\"\".replace(\" || \", \"\\t\")[1:-1]\n",
        "df = pd.read_csv(\n",
        "    io.StringIO(datastring), sep=\"\\t\")\n",
        "\n",
        "#   -----------   Main Code   -----------   #\n",
        "df[\"group_id\"] = (\n",
        "    df[\"Signal\"] != df[\"Signal\"].shift()\n",
        ").cumsum()\n",
        "df[\"cummax\"] = (\n",
        "    df.groupby(\"group_id\")[\"Price\"].cummax())\n",
        "\n",
        "df"
      ],
      "execution_count": 1,
      "outputs": [
        {
          "output_type": "execute_result",
          "data": {
            "text/html": [
              "<div>\n",
              "<style scoped>\n",
              "    .dataframe tbody tr th:only-of-type {\n",
              "        vertical-align: middle;\n",
              "    }\n",
              "\n",
              "    .dataframe tbody tr th {\n",
              "        vertical-align: top;\n",
              "    }\n",
              "\n",
              "    .dataframe thead th {\n",
              "        text-align: right;\n",
              "    }\n",
              "</style>\n",
              "<table border=\"1\" class=\"dataframe\">\n",
              "  <thead>\n",
              "    <tr style=\"text-align: right;\">\n",
              "      <th></th>\n",
              "      <th>Price</th>\n",
              "      <th>Signal</th>\n",
              "      <th>cummax</th>\n",
              "      <th>group_id</th>\n",
              "    </tr>\n",
              "  </thead>\n",
              "  <tbody>\n",
              "    <tr>\n",
              "      <th>0</th>\n",
              "      <td>99</td>\n",
              "      <td>1</td>\n",
              "      <td>99</td>\n",
              "      <td>1</td>\n",
              "    </tr>\n",
              "    <tr>\n",
              "      <th>1</th>\n",
              "      <td>100</td>\n",
              "      <td>1</td>\n",
              "      <td>100</td>\n",
              "      <td>1</td>\n",
              "    </tr>\n",
              "    <tr>\n",
              "      <th>2</th>\n",
              "      <td>101</td>\n",
              "      <td>1</td>\n",
              "      <td>101</td>\n",
              "      <td>1</td>\n",
              "    </tr>\n",
              "    <tr>\n",
              "      <th>3</th>\n",
              "      <td>102</td>\n",
              "      <td>1</td>\n",
              "      <td>102</td>\n",
              "      <td>1</td>\n",
              "    </tr>\n",
              "    <tr>\n",
              "      <th>4</th>\n",
              "      <td>100</td>\n",
              "      <td>1</td>\n",
              "      <td>102</td>\n",
              "      <td>1</td>\n",
              "    </tr>\n",
              "    <tr>\n",
              "      <th>5</th>\n",
              "      <td>98</td>\n",
              "      <td>-1</td>\n",
              "      <td>98</td>\n",
              "      <td>2</td>\n",
              "    </tr>\n",
              "    <tr>\n",
              "      <th>6</th>\n",
              "      <td>97</td>\n",
              "      <td>-1</td>\n",
              "      <td>98</td>\n",
              "      <td>2</td>\n",
              "    </tr>\n",
              "    <tr>\n",
              "      <th>7</th>\n",
              "      <td>95</td>\n",
              "      <td>-1</td>\n",
              "      <td>98</td>\n",
              "      <td>2</td>\n",
              "    </tr>\n",
              "    <tr>\n",
              "      <th>8</th>\n",
              "      <td>94</td>\n",
              "      <td>-1</td>\n",
              "      <td>98</td>\n",
              "      <td>2</td>\n",
              "    </tr>\n",
              "    <tr>\n",
              "      <th>9</th>\n",
              "      <td>96</td>\n",
              "      <td>-1</td>\n",
              "      <td>98</td>\n",
              "      <td>2</td>\n",
              "    </tr>\n",
              "    <tr>\n",
              "      <th>10</th>\n",
              "      <td>98</td>\n",
              "      <td>-1</td>\n",
              "      <td>98</td>\n",
              "      <td>2</td>\n",
              "    </tr>\n",
              "    <tr>\n",
              "      <th>11</th>\n",
              "      <td>99</td>\n",
              "      <td>1</td>\n",
              "      <td>99</td>\n",
              "      <td>3</td>\n",
              "    </tr>\n",
              "    <tr>\n",
              "      <th>12</th>\n",
              "      <td>100</td>\n",
              "      <td>1</td>\n",
              "      <td>100</td>\n",
              "      <td>3</td>\n",
              "    </tr>\n",
              "    <tr>\n",
              "      <th>13</th>\n",
              "      <td>99</td>\n",
              "      <td>1</td>\n",
              "      <td>100</td>\n",
              "      <td>3</td>\n",
              "    </tr>\n",
              "  </tbody>\n",
              "</table>\n",
              "</div>"
            ],
            "text/plain": [
              "    Price  Signal  cummax  group_id\n",
              "0      99       1      99         1\n",
              "1     100       1     100         1\n",
              "2     101       1     101         1\n",
              "3     102       1     102         1\n",
              "4     100       1     102         1\n",
              "5      98      -1      98         2\n",
              "6      97      -1      98         2\n",
              "7      95      -1      98         2\n",
              "8      94      -1      98         2\n",
              "9      96      -1      98         2\n",
              "10     98      -1      98         2\n",
              "11     99       1      99         3\n",
              "12    100       1     100         3\n",
              "13     99       1     100         3"
            ]
          },
          "metadata": {
            "tags": []
          },
          "execution_count": 1
        }
      ]
    },
    {
      "cell_type": "code",
      "metadata": {
        "id": "ocvIg6rftUnK"
      },
      "source": [
        "df['group_id'] = (df['Signal'] != df['Signal'].shift()).cumsum()"
      ],
      "execution_count": 2,
      "outputs": []
    },
    {
      "cell_type": "code",
      "metadata": {
        "id": "NCg_54KHtNPn"
      },
      "source": [
        "df['cummax'] = df.groupby('group_id')['Price'].cummax()"
      ],
      "execution_count": 3,
      "outputs": []
    }
  ]
}