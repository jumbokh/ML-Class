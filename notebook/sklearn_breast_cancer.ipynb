{
  "nbformat": 4,
  "nbformat_minor": 0,
  "metadata": {
    "colab": {
      "name": "sklearn breast cancer.ipynb",
      "provenance": [],
      "collapsed_sections": [],
      "include_colab_link": true
    },
    "kernelspec": {
      "name": "python3",
      "display_name": "Python 3"
    },
    "accelerator": "GPU"
  },
  "cells": [
    {
      "cell_type": "markdown",
      "metadata": {
        "id": "view-in-github",
        "colab_type": "text"
      },
      "source": [
        "<a href=\"https://colab.research.google.com/github/jumbokh/ML-Class/blob/main/notebook/sklearn_breast_cancer.ipynb\" target=\"_parent\"><img src=\"https://colab.research.google.com/assets/colab-badge.svg\" alt=\"Open In Colab\"/></a>"
      ]
    },
    {
      "cell_type": "code",
      "metadata": {
        "id": "TaicljVOvMyo",
        "colab": {
          "base_uri": "https://localhost:8080/"
        },
        "outputId": "8f816387-d245-40b3-d846-d98b466ff3e2"
      },
      "source": [
        "import numpy as np\n",
        "import pandas as pd\n",
        "from sklearn.model_selection import train_test_split\n",
        "from sklearn.datasets import load_breast_cancer\n",
        "import random\n",
        "from sklearn.neighbors import KNeighborsClassifier\n",
        "from sklearn.ensemble import RandomForestClassifier\n",
        "from sklearn.svm import SVC\n",
        "from sklearn.tree import DecisionTreeClassifier\n",
        "\n",
        "data = load_breast_cancer()\n",
        "data.target[[10, 50, 85]]\n",
        "list(data.target_names)"
      ],
      "execution_count": null,
      "outputs": [
        {
          "output_type": "execute_result",
          "data": {
            "text/plain": [
              "['malignant', 'benign']"
            ]
          },
          "metadata": {
            "tags": []
          },
          "execution_count": 1
        }
      ]
    },
    {
      "cell_type": "code",
      "metadata": {
        "id": "nAowMdFzjEOB"
      },
      "source": [
        "train_x, test_x, train_y, test_y = train_test_split(data.data, data.target, random_state=43, test_size= 0.2)"
      ],
      "execution_count": null,
      "outputs": []
    },
    {
      "cell_type": "code",
      "metadata": {
        "id": "ooZuGXUHjW-h",
        "colab": {
          "base_uri": "https://localhost:8080/"
        },
        "outputId": "140a4e70-86d3-40db-8356-e66b03caa881"
      },
      "source": [
        "print(f'訓練資料的大小資訊, {train_x.shape} \\n也就是有 {train_x.shape[0]}筆資料，每一筆資料有{train_x.shape[1]}個特徵值 \\n\\n')\n",
        "print(f'訓練資料的大小資訊, {test_x.shape} \\n也就是有 {test_x.shape[0]}筆資料，每一筆資料有{test_x.shape[1]}個特徵值 \\n\\n')"
      ],
      "execution_count": null,
      "outputs": [
        {
          "output_type": "stream",
          "text": [
            "訓練資料的大小資訊, (455, 30) \n",
            "也就是有 455筆資料，每一筆資料有30個特徵值 \n",
            "\n",
            "\n",
            "訓練資料的大小資訊, (114, 30) \n",
            "也就是有 114筆資料，每一筆資料有30個特徵值 \n",
            "\n",
            "\n"
          ],
          "name": "stdout"
        }
      ]
    },
    {
      "cell_type": "code",
      "metadata": {
        "id": "6WD9EVUIja7r",
        "colab": {
          "base_uri": "https://localhost:8080/"
        },
        "outputId": "efdb9f92-6fbb-447a-8779-d754cd1e3bb9"
      },
      "source": [
        "random.seed (10)\n",
        "j=0\n",
        "model = KNeighborsClassifier()\n",
        "for i in range(100):\n",
        "  model.fit(train_x, train_y)\n",
        "  pred = model.predict(test_x)\n",
        "  for i in range(len(pred)):\n",
        "    if pred[i] == test_y[i]:\n",
        "      j = j+1\n",
        "print(j)\n",
        "print(f\"{(j/(len(pred)*100)):%}\")"
      ],
      "execution_count": null,
      "outputs": [
        {
          "output_type": "stream",
          "text": [
            "10900\n",
            "95.614035%\n"
          ],
          "name": "stdout"
        }
      ]
    },
    {
      "cell_type": "code",
      "metadata": {
        "id": "z_Ontq_Hv7fP",
        "colab": {
          "base_uri": "https://localhost:8080/"
        },
        "outputId": "de0f7b65-fd99-40f8-8a63-4bc1472973b3"
      },
      "source": [
        "random.seed (10)\n",
        "j=0\n",
        "model = RandomForestClassifier()\n",
        "for i in range(100):\n",
        "  model.fit(train_x, train_y)\n",
        "  pred = model.predict(test_x)\n",
        "  for i in range(len(pred)):\n",
        "    if pred[i] == test_y[i]:\n",
        "      j = j+1\n",
        "print(j)\n",
        "print(f\"{(j/(len(pred)*100)):%}\")\n"
      ],
      "execution_count": null,
      "outputs": [
        {
          "output_type": "stream",
          "text": [
            "11232\n",
            "98.526316%\n"
          ],
          "name": "stdout"
        }
      ]
    },
    {
      "cell_type": "code",
      "metadata": {
        "id": "rYrPyhvHjZyq",
        "colab": {
          "base_uri": "https://localhost:8080/"
        },
        "outputId": "8d0de3f6-0afb-4558-93af-0988573aa155"
      },
      "source": [
        "random.seed (10)\n",
        "j=0\n",
        "model = SVC()\n",
        "for i in range(100):\n",
        "  model.fit(train_x, train_y)\n",
        "  pred = model.predict(test_x)\n",
        "  for i in range(len(pred)):\n",
        "    if pred[i] == test_y[i]:\n",
        "      j = j+1\n",
        "print(j)\n",
        "print(f\"{(j/(len(pred)*100)):%}\")"
      ],
      "execution_count": null,
      "outputs": [
        {
          "output_type": "stream",
          "text": [
            "10900\n",
            "95.614035%\n"
          ],
          "name": "stdout"
        }
      ]
    },
    {
      "cell_type": "code",
      "metadata": {
        "id": "e0uzXzfYnDd9",
        "colab": {
          "base_uri": "https://localhost:8080/"
        },
        "outputId": "bf0501ad-ca46-457c-ef12-2ad261bc33db"
      },
      "source": [
        "random.seed (10)\n",
        "\n",
        "j=0\n",
        "model = DecisionTreeClassifier()\n",
        "for i in range(100):\n",
        "  model.fit(train_x, train_y)\n",
        "  pred = model.predict(test_x)\n",
        "  for i in range(len(pred)):\n",
        "    if pred[i] == test_y[i]:\n",
        "      j = j+1\n",
        "print(j)\n",
        "print(f\"{(j/(len(pred)*100)):%}\")"
      ],
      "execution_count": null,
      "outputs": [
        {
          "output_type": "stream",
          "text": [
            "10699\n",
            "93.850877%\n"
          ],
          "name": "stdout"
        }
      ]
    },
    {
      "cell_type": "code",
      "metadata": {
        "colab": {
          "base_uri": "https://localhost:8080/"
        },
        "id": "svoz4qK9B3YW",
        "outputId": "b8887cc3-eb49-4c72-80fe-57b64c520476"
      },
      "source": [
        "print(data.DESCR)"
      ],
      "execution_count": null,
      "outputs": [
        {
          "output_type": "stream",
          "text": [
            ".. _breast_cancer_dataset:\n",
            "\n",
            "Breast cancer wisconsin (diagnostic) dataset\n",
            "--------------------------------------------\n",
            "\n",
            "**Data Set Characteristics:**\n",
            "\n",
            "    :Number of Instances: 569\n",
            "\n",
            "    :Number of Attributes: 30 numeric, predictive attributes and the class\n",
            "\n",
            "    :Attribute Information:\n",
            "        - radius (mean of distances from center to points on the perimeter)\n",
            "        - texture (standard deviation of gray-scale values)\n",
            "        - perimeter\n",
            "        - area\n",
            "        - smoothness (local variation in radius lengths)\n",
            "        - compactness (perimeter^2 / area - 1.0)\n",
            "        - concavity (severity of concave portions of the contour)\n",
            "        - concave points (number of concave portions of the contour)\n",
            "        - symmetry \n",
            "        - fractal dimension (\"coastline approximation\" - 1)\n",
            "\n",
            "        The mean, standard error, and \"worst\" or largest (mean of the three\n",
            "        largest values) of these features were computed for each image,\n",
            "        resulting in 30 features.  For instance, field 3 is Mean Radius, field\n",
            "        13 is Radius SE, field 23 is Worst Radius.\n",
            "\n",
            "        - class:\n",
            "                - WDBC-Malignant\n",
            "                - WDBC-Benign\n",
            "\n",
            "    :Summary Statistics:\n",
            "\n",
            "    ===================================== ====== ======\n",
            "                                           Min    Max\n",
            "    ===================================== ====== ======\n",
            "    radius (mean):                        6.981  28.11\n",
            "    texture (mean):                       9.71   39.28\n",
            "    perimeter (mean):                     43.79  188.5\n",
            "    area (mean):                          143.5  2501.0\n",
            "    smoothness (mean):                    0.053  0.163\n",
            "    compactness (mean):                   0.019  0.345\n",
            "    concavity (mean):                     0.0    0.427\n",
            "    concave points (mean):                0.0    0.201\n",
            "    symmetry (mean):                      0.106  0.304\n",
            "    fractal dimension (mean):             0.05   0.097\n",
            "    radius (standard error):              0.112  2.873\n",
            "    texture (standard error):             0.36   4.885\n",
            "    perimeter (standard error):           0.757  21.98\n",
            "    area (standard error):                6.802  542.2\n",
            "    smoothness (standard error):          0.002  0.031\n",
            "    compactness (standard error):         0.002  0.135\n",
            "    concavity (standard error):           0.0    0.396\n",
            "    concave points (standard error):      0.0    0.053\n",
            "    symmetry (standard error):            0.008  0.079\n",
            "    fractal dimension (standard error):   0.001  0.03\n",
            "    radius (worst):                       7.93   36.04\n",
            "    texture (worst):                      12.02  49.54\n",
            "    perimeter (worst):                    50.41  251.2\n",
            "    area (worst):                         185.2  4254.0\n",
            "    smoothness (worst):                   0.071  0.223\n",
            "    compactness (worst):                  0.027  1.058\n",
            "    concavity (worst):                    0.0    1.252\n",
            "    concave points (worst):               0.0    0.291\n",
            "    symmetry (worst):                     0.156  0.664\n",
            "    fractal dimension (worst):            0.055  0.208\n",
            "    ===================================== ====== ======\n",
            "\n",
            "    :Missing Attribute Values: None\n",
            "\n",
            "    :Class Distribution: 212 - Malignant, 357 - Benign\n",
            "\n",
            "    :Creator:  Dr. William H. Wolberg, W. Nick Street, Olvi L. Mangasarian\n",
            "\n",
            "    :Donor: Nick Street\n",
            "\n",
            "    :Date: November, 1995\n",
            "\n",
            "This is a copy of UCI ML Breast Cancer Wisconsin (Diagnostic) datasets.\n",
            "https://goo.gl/U2Uwz2\n",
            "\n",
            "Features are computed from a digitized image of a fine needle\n",
            "aspirate (FNA) of a breast mass.  They describe\n",
            "characteristics of the cell nuclei present in the image.\n",
            "\n",
            "Separating plane described above was obtained using\n",
            "Multisurface Method-Tree (MSM-T) [K. P. Bennett, \"Decision Tree\n",
            "Construction Via Linear Programming.\" Proceedings of the 4th\n",
            "Midwest Artificial Intelligence and Cognitive Science Society,\n",
            "pp. 97-101, 1992], a classification method which uses linear\n",
            "programming to construct a decision tree.  Relevant features\n",
            "were selected using an exhaustive search in the space of 1-4\n",
            "features and 1-3 separating planes.\n",
            "\n",
            "The actual linear program used to obtain the separating plane\n",
            "in the 3-dimensional space is that described in:\n",
            "[K. P. Bennett and O. L. Mangasarian: \"Robust Linear\n",
            "Programming Discrimination of Two Linearly Inseparable Sets\",\n",
            "Optimization Methods and Software 1, 1992, 23-34].\n",
            "\n",
            "This database is also available through the UW CS ftp server:\n",
            "\n",
            "ftp ftp.cs.wisc.edu\n",
            "cd math-prog/cpo-dataset/machine-learn/WDBC/\n",
            "\n",
            ".. topic:: References\n",
            "\n",
            "   - W.N. Street, W.H. Wolberg and O.L. Mangasarian. Nuclear feature extraction \n",
            "     for breast tumor diagnosis. IS&T/SPIE 1993 International Symposium on \n",
            "     Electronic Imaging: Science and Technology, volume 1905, pages 861-870,\n",
            "     San Jose, CA, 1993.\n",
            "   - O.L. Mangasarian, W.N. Street and W.H. Wolberg. Breast cancer diagnosis and \n",
            "     prognosis via linear programming. Operations Research, 43(4), pages 570-577, \n",
            "     July-August 1995.\n",
            "   - W.H. Wolberg, W.N. Street, and O.L. Mangasarian. Machine learning techniques\n",
            "     to diagnose breast cancer from fine-needle aspirates. Cancer Letters 77 (1994) \n",
            "     163-171.\n"
          ],
          "name": "stdout"
        }
      ]
    }
  ]
}