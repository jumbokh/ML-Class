{
  "nbformat": 4,
  "nbformat_minor": 0,
  "metadata": {
    "kernelspec": {
      "name": "python3",
      "display_name": "Python 3"
    },
    "language_info": {
      "codemirror_mode": {
        "name": "ipython",
        "version": 3
      },
      "file_extension": ".py",
      "mimetype": "text/x-python",
      "name": "python",
      "nbconvert_exporter": "python",
      "pygments_lexer": "ipython3",
      "version": "3.5.2"
    },
    "colab": {
      "name": "CNN_1_real_diff_from_chap4-visualizing-what-convnets-learn_3_heatmap.ipynb",
      "provenance": [],
      "collapsed_sections": [],
      "include_colab_link": true
    }
  },
  "cells": [
    {
      "cell_type": "markdown",
      "metadata": {
        "id": "view-in-github",
        "colab_type": "text"
      },
      "source": [
        "<a href=\"https://colab.research.google.com/github/jumbokh/ML-Class/blob/main/notebook/CNN_1_real_diff_from_chap4_visualizing_what_convnets_learn_3_heatmap.ipynb\" target=\"_parent\"><img src=\"https://colab.research.google.com/assets/colab-badge.svg\" alt=\"Open In Colab\"/></a>"
      ]
    },
    {
      "cell_type": "markdown",
      "metadata": {
        "id": "lgK7npcb-zTs"
      },
      "source": [
        "# 說明\n",
        "1. 請將DNN_CNN.zip放在同 COLAB 帳號的雲端硬碟根目錄底下\n",
        "2.然後執行下列程式。"
      ]
    },
    {
      "cell_type": "markdown",
      "metadata": {
        "id": "CDaYG8jQMvED"
      },
      "source": [
        "[Grad-CAM: Visual Explanations from Deep Networks via Gradient-based Localization\n",
        "](https://arxiv.org/abs/1610.02391)\n"
      ]
    },
    {
      "cell_type": "code",
      "metadata": {
        "id": "nqkQfpYF2NUi",
        "colab": {
          "base_uri": "https://localhost:8080/",
          "height": 35
        },
        "outputId": "66ca0c9f-6dd2-4166-c1d5-c818e056b0a7"
      },
      "source": [
        "#%tensorflow_version 1.x\n",
        "# or below 2 lines\n",
        "import tensorflow as tf\n",
        "tf.compat.v1.disable_eager_execution()\n",
        "\n",
        "import keras\n",
        "keras.__version__"
      ],
      "execution_count": null,
      "outputs": [
        {
          "output_type": "execute_result",
          "data": {
            "application/vnd.google.colaboratory.intrinsic+json": {
              "type": "string"
            },
            "text/plain": [
              "'2.5.0'"
            ]
          },
          "metadata": {
            "tags": []
          },
          "execution_count": 1
        }
      ]
    },
    {
      "cell_type": "code",
      "metadata": {
        "id": "mKVzwRNe2R1u"
      },
      "source": [
        "from google.colab import drive, output\n",
        "drive.mount('/content/drive')\n",
        "\n",
        "path = './DNN_CNN/'"
      ],
      "execution_count": null,
      "outputs": []
    },
    {
      "cell_type": "code",
      "metadata": {
        "id": "041wpSnr2SOP"
      },
      "source": [
        "import os\n",
        "from keras.models import load_model\n",
        "from keras.applications.vgg16 import VGG16\n",
        "from keras import backend as K\n",
        "import matplotlib.pyplot as plt"
      ],
      "execution_count": null,
      "outputs": []
    },
    {
      "cell_type": "code",
      "metadata": {
        "id": "iWzanAT82SXH"
      },
      "source": [
        "!cp drive/'My Drive'/code_zip/DNN_CNN.zip . \n",
        "!unzip ./DNN_CNN.zip \n",
        "output.clear()"
      ],
      "execution_count": null,
      "outputs": []
    },
    {
      "cell_type": "code",
      "metadata": {
        "id": "eyEfB6NB2SU0"
      },
      "source": [
        "model = VGG16(weights='imagenet')"
      ],
      "execution_count": null,
      "outputs": []
    },
    {
      "cell_type": "code",
      "metadata": {
        "id": "OeqnQuJZ2SSe"
      },
      "source": [
        "from keras.preprocessing import image\n",
        "from keras.applications.vgg16 import preprocess_input, decode_predictions\n",
        "import numpy as np\n",
        "\n",
        "# The local path to our target image\n",
        "img_path = path + 'flower.jpg'\n",
        "\n",
        "# `img` is a PIL image of size 224x224\n",
        "img = image.load_img(img_path, target_size=(224, 224))\n",
        "\n",
        "# `x` is a float32 Numpy array of shape (224, 224, 3)\n",
        "x = image.img_to_array(img)\n",
        "\n",
        "# We add a dimension to transform our array into a \"batch\"\n",
        "# of size (1, 224, 224, 3)\n",
        "x = np.expand_dims(x, axis=0)\n",
        "\n",
        "# Finally we preprocess the batch\n",
        "# (this does channel-wise color normalization)\n",
        "x = preprocess_input(x)"
      ],
      "execution_count": null,
      "outputs": []
    },
    {
      "cell_type": "code",
      "metadata": {
        "id": "hfF_4fou2nXS"
      },
      "source": [
        "preds = model.predict(x)\n",
        "print('Predicted:', decode_predictions(preds, top=3)[0]) # this function is from vgg16, pls study keras.applications.vgg16"
      ],
      "execution_count": null,
      "outputs": []
    },
    {
      "cell_type": "code",
      "metadata": {
        "id": "323Ekx-A2iCq"
      },
      "source": [
        "np.argmax(preds[0])"
      ],
      "execution_count": null,
      "outputs": []
    },
    {
      "cell_type": "code",
      "metadata": {
        "id": "m7WmCevT8oj0"
      },
      "source": [
        "import matplotlib.pyplot as plt\n",
        "plt.imshow(plt.imread(img_path))\n",
        "print(f\"this image's label is {np.argmax(preds[0])}\")"
      ],
      "execution_count": null,
      "outputs": []
    },
    {
      "cell_type": "code",
      "metadata": {
        "id": "pD5Bd0Hc2iLj"
      },
      "source": [
        "model.summary()"
      ],
      "execution_count": null,
      "outputs": []
    },
    {
      "cell_type": "code",
      "metadata": {
        "id": "3yOV2YFq20wj"
      },
      "source": [
        "# This is the \"african elephant\" entry in the prediction vector\n",
        "# 會是一個值，當某一張輸入時，這個大象類別的輸出\n",
        "# np.argmax(preds[0]) = 386\n",
        "# or 985: flower\n",
        "african_elephant_output = model.output[:, np.argmax(preds[0])]\n",
        "\n",
        "# The is the output feature map of the `block5_conv3` layer,\n",
        "# the last convolutional layer in VGG16\n",
        "last_conv_layer = model.get_layer('block5_conv3')\n",
        "\n",
        "# This is the gradient of the \"african elephant\" class with regard to\n",
        "# the output feature map of `block5_conv3`\n",
        "# 我們想觀察, 最後一層的輸出對 大象類別的影響，就是微分看敏感度\n",
        "#grads = K.gradients(african_elephant_output, last_conv_layer.output)[0]\n",
        "grads = K.gradients(african_elephant_output, last_conv_layer.output)[0]\n",
        "# shape is [14,14,512]\n",
        "\n",
        "# This is a vector of shape (512,), where each entry\n",
        "# is the mean intensity of the gradient over a specific feature map channel\n",
        "# \n",
        "pooled_grads = K.mean(grads, axis=(0, 1, 2)) #shape is 512\n",
        "\n",
        "# This function allows us to access the values of the quantities we just defined:\n",
        "# `pooled_grads` and the output feature map of `block5_conv3`,\n",
        "# given a sample image\n",
        "iterate = K.function([model.input], [pooled_grads, last_conv_layer.output[0]])\n",
        "\n",
        "# These are the values of these two quantities, as Numpy arrays,\n",
        "# given our sample image of two elephants\n",
        "pooled_grads_value, conv_layer_output_value = iterate([x])\n",
        "\n",
        "# We multiply each channel in the feature map array\n",
        "# by \"how important this channel is\" with regard to the elephant class\n",
        "for i in range(512):\n",
        "    conv_layer_output_value[:, :, i] *= pooled_grads_value[i]\n",
        "\n",
        "# The channel-wise mean of the resulting feature map\n",
        "# is our heatmap of class activation\n",
        "heatmap = np.mean(conv_layer_output_value, axis=-1)"
      ],
      "execution_count": null,
      "outputs": []
    },
    {
      "cell_type": "code",
      "metadata": {
        "id": "FimULocM-BuN"
      },
      "source": [
        ""
      ],
      "execution_count": null,
      "outputs": []
    },
    {
      "cell_type": "code",
      "metadata": {
        "id": "vLj_Cm8x24Yk"
      },
      "source": [
        "heatmap = np.maximum(heatmap, 0)\n",
        "heatmap /= np.max(heatmap)\n",
        "plt.matshow(heatmap)\n",
        "plt.show()"
      ],
      "execution_count": null,
      "outputs": []
    },
    {
      "cell_type": "code",
      "metadata": {
        "id": "TlvTumb_28PV"
      },
      "source": [
        "import cv2\n",
        "\n",
        "# We use cv2 to load the original image\n",
        "img = cv2.imread(img_path)\n",
        "\n",
        "# We resize the heatmap to have the same size as the original image\n",
        "heatmap = cv2.resize(heatmap, (img.shape[1], img.shape[0]))\n",
        "\n",
        "# We convert the heatmap to RGB\n",
        "heatmap = np.uint8(255 * heatmap)\n",
        "\n",
        "# We apply the heatmap to the original image\n",
        "heatmap = cv2.applyColorMap(heatmap, cv2.COLORMAP_JET)\n",
        "\n",
        "# 0.4 here is a heatmap intensity factor\n",
        "superimposed_img = heatmap * 0.4 + img\n",
        "\n",
        "# Save the image to disk\n",
        "cv2.imwrite(path + 'elephant_cam.jpg', superimposed_img)"
      ],
      "execution_count": null,
      "outputs": []
    },
    {
      "cell_type": "code",
      "metadata": {
        "id": "qi5AGT9I2h9i"
      },
      "source": [
        "plt.matshow(superimposed_img/300)\n",
        "plt.show()"
      ],
      "execution_count": null,
      "outputs": []
    },
    {
      "cell_type": "markdown",
      "metadata": {
        "id": "0LNhr7rFARZz"
      },
      "source": [
        "# <參考與說明>"
      ]
    },
    {
      "cell_type": "markdown",
      "metadata": {
        "id": "fDCJ2rm_qJu-"
      },
      "source": [
        "\n",
        "# 程式目的\n",
        "\n",
        "1. 了解**圖片**經過網路被處理的狀況\n",
        "2. 知道 feature extraction from a NN\n",
        "3. 學會慢慢看 code\n"
      ]
    },
    {
      "cell_type": "code",
      "metadata": {
        "id": "wSIfbY8aWMEA"
      },
      "source": [
        "import keras\n",
        "keras.__version__"
      ],
      "execution_count": null,
      "outputs": []
    },
    {
      "cell_type": "code",
      "metadata": {
        "id": "akqUtCTtXFDN"
      },
      "source": [
        "from google.colab import drive\n",
        "drive.mount('/content/drive')\n",
        "path = 'drive/My Drive/ColabOK/DNN_CNN/'"
      ],
      "execution_count": null,
      "outputs": []
    },
    {
      "cell_type": "code",
      "metadata": {
        "id": "qLbQ9CEhWMFB"
      },
      "source": [
        "from keras.applications import VGG16\n",
        "from keras import backend as K\n",
        "import matplotlib.pyplot as plt"
      ],
      "execution_count": null,
      "outputs": []
    },
    {
      "cell_type": "markdown",
      "metadata": {
        "id": "uG9PsNVrWMFu"
      },
      "source": [
        "## Visualizing heatmaps of class activation\n",
        "\n",
        "We will introduce one more visualization technique, one that is useful for understanding which parts of a given image led a convnet to its \n",
        "final classification decision. This is helpful for \"debugging\" the decision process of a convnet, in particular in case of a classification \n",
        "mistake. It also allows you to locate specific objects in an image.\n",
        "\n",
        "This general category of techniques is called \"Class Activation Map\" (CAM) visualization, and consists in producing heatmaps of \"class \n",
        "activation\" over input images. A \"class activation\" heatmap is a 2D grid of scores associated with an specific output class, computed for \n",
        "every location in any input image, indicating how important each location is with respect to the class considered. For instance, given a \n",
        "image fed into one of our \"cat vs. dog\" convnet, Class Activation Map visualization allows us to generate a heatmap for the class \"cat\", \n",
        "indicating how cat-like different parts of the image are, and likewise for the class \"dog\", indicating how dog-like differents parts of the \n",
        "image are.\n",
        "\n",
        "The specific implementation we will use is the one described in [Grad-CAM: Why did you say that? Visual Explanations from Deep Networks via \n",
        "Gradient-based Localization](https://arxiv.org/abs/1610.02391). It is very simple: it consists in taking the output feature map of a \n",
        "convolution layer given an input image, and weighing every channel in that feature map by the gradient of the class with respect to the \n",
        "channel. Intuitively, one way to understand this trick is that we are weighting a spatial map of \"how intensely the input image activates \n",
        "different channels\" by \"how important each channel is with regard to the class\", resulting in a spatial map of \"how intensely the input \n",
        "image activates the class\".\n",
        "\n",
        "We will demonstrate this technique using the pre-trained VGG16 network again:"
      ]
    },
    {
      "cell_type": "code",
      "metadata": {
        "id": "CJ35d7A8WMFv"
      },
      "source": [
        "from keras.applications.vgg16 import VGG16\n",
        "\n",
        "#K.clear_session()\n",
        "\n",
        "\n",
        "# Note that we are including the densely-connected classifier on top;\n",
        "# all previous times, we were discarding it.\n",
        "model = VGG16(weights='imagenet')"
      ],
      "execution_count": null,
      "outputs": []
    },
    {
      "cell_type": "markdown",
      "metadata": {
        "id": "ow71RvrGWMF2"
      },
      "source": [
        "Let's consider the following image of two African elephants, possible a mother and its cub, strolling in the savanna (under a Creative \n",
        "Commons license):\n",
        "\n",
        "![elephants](https://s3.amazonaws.com/book.keras.io/img/ch5/creative_commons_elephant.jpg)"
      ]
    },
    {
      "cell_type": "markdown",
      "metadata": {
        "id": "YIcHlu4TWMF2"
      },
      "source": [
        "Let's convert this image into something the VGG16 model can read: the model was trained on images of size 224x244, preprocessed according \n",
        "to a few rules that are packaged in the utility function `keras.applications.vgg16.preprocess_input`. So we need to load the image, resize \n",
        "it to 224x224, convert it to a Numpy float32 tensor, and apply these pre-processing rules."
      ]
    },
    {
      "cell_type": "code",
      "metadata": {
        "id": "BDz0dONJWMF3"
      },
      "source": [
        "from keras.preprocessing import image\n",
        "from keras.applications.vgg16 import preprocess_input, decode_predictions\n",
        "import numpy as np\n",
        "\n",
        "# The local path to our target image\n",
        "img_path = 'DNN_CNN/creative_commons_elephant.jpg'\n",
        "\n",
        "# `img` is a PIL image of size 224x224\n",
        "img = image.load_img(img_path, target_size=(224, 224))\n",
        "\n",
        "# `x` is a float32 Numpy array of shape (224, 224, 3)\n",
        "x = image.img_to_array(img)\n",
        "\n",
        "# We add a dimension to transform our array into a \"batch\"\n",
        "# of size (1, 224, 224, 3)\n",
        "x = np.expand_dims(x, axis=0)\n",
        "\n",
        "# Finally we preprocess the batch\n",
        "# (this does channel-wise color normalization)\n",
        "x = preprocess_input(x)"
      ],
      "execution_count": null,
      "outputs": []
    },
    {
      "cell_type": "code",
      "metadata": {
        "id": "WDitpKoqWMF6"
      },
      "source": [
        "preds = model.predict(x)\n",
        "print('Predicted:', decode_predictions(preds, top=3)[0]) # this function is from vgg16, pls study keras.applications.vgg16"
      ],
      "execution_count": null,
      "outputs": []
    },
    {
      "cell_type": "markdown",
      "metadata": {
        "id": "F2imdwM2WMF-"
      },
      "source": [
        "\n",
        "The top-3 classes predicted for this image are:\n",
        "\n",
        "* African elephant (with 92.5% probability)\n",
        "* Tusker (with 7% probability)\n",
        "* Indian elephant (with 0.4% probability)\n",
        "\n",
        "Thus our network has recognized our image as containing an undetermined quantity of African elephants. The entry in the prediction vector \n",
        "that was maximally activated is the one corresponding to the \"African elephant\" class, at index 386:"
      ]
    },
    {
      "cell_type": "code",
      "metadata": {
        "id": "RkFqHAV_WMF-"
      },
      "source": [
        "np.argmax(preds[0])"
      ],
      "execution_count": null,
      "outputs": []
    },
    {
      "cell_type": "markdown",
      "metadata": {
        "id": "8Z1qElJxWMGC"
      },
      "source": [
        "To visualize which parts of our image were the most \"African elephant\"-like, let's set up the Grad-CAM process:"
      ]
    },
    {
      "cell_type": "code",
      "metadata": {
        "id": "nW998ueCkuxe"
      },
      "source": [
        "model.summary()"
      ],
      "execution_count": null,
      "outputs": []
    },
    {
      "cell_type": "code",
      "metadata": {
        "id": "bFMsZ3esDD-l"
      },
      "source": [
        "# This is the \"african elephant\" entry in the prediction vector\n",
        "# 會是一個值，當某一張輸入時，這個大象類別的輸出\n",
        "african_elephant_output = model.output[:, 386]\n",
        "\n",
        "# The is the output feature map of the `block5_conv3` layer,\n",
        "# the last convolutional layer in VGG16\n",
        "last_conv_layer = model.get_layer('block5_conv3')\n",
        "\n",
        "# This is the gradient of the \"african elephant\" class with regard to\n",
        "# the output feature map of `block5_conv3`\n",
        "# 我們想觀察, 最後一層的輸出對 大象類別的影響，就是微分看敏感度\n",
        "grads = K.gradients(african_elephant_output, last_conv_layer.output)[0]\n",
        "\n",
        "# This is a vector of shape (512,), where each entry\n",
        "# is the mean intensity of the gradient over a specific feature map channel\n",
        "# \n",
        "pooled_grads = K.mean(grads, axis=(0, 1, 2))\n",
        "\n",
        "# This function allows us to access the values of the quantities we just defined:\n",
        "# `pooled_grads` and the output feature map of `block5_conv3`,\n",
        "# given a sample image\n",
        "iterate = K.function([model.input], [pooled_grads, last_conv_layer.output[0]])\n",
        "\n",
        "# These are the values of these two quantities, as Numpy arrays,\n",
        "# given our sample image of two elephants\n",
        "pooled_grads_value, conv_layer_output_value = iterate([x])\n",
        "\n",
        "# We multiply each channel in the feature map array\n",
        "# by \"how important this channel is\" with regard to the elephant class\n",
        "for i in range(512):\n",
        "    conv_layer_output_value[:, :, i] *= pooled_grads_value[i]\n",
        "\n",
        "# The channel-wise mean of the resulting feature map\n",
        "# is our heatmap of class activation\n",
        "heatmap = np.mean(conv_layer_output_value, axis=-1)"
      ],
      "execution_count": null,
      "outputs": []
    },
    {
      "cell_type": "markdown",
      "metadata": {
        "id": "a4IEhLyBWMGG"
      },
      "source": [
        "For visualization purpose, we will also normalize the heatmap between 0 and 1:"
      ]
    },
    {
      "cell_type": "code",
      "metadata": {
        "id": "5me3xzNYWMGH"
      },
      "source": [
        "heatmap = np.maximum(heatmap, 0)\n",
        "heatmap /= np.max(heatmap)\n",
        "plt.matshow(heatmap)\n",
        "plt.show()"
      ],
      "execution_count": null,
      "outputs": []
    },
    {
      "cell_type": "markdown",
      "metadata": {
        "id": "Hk7dwt4hWMGK"
      },
      "source": [
        "Finally, we will use OpenCV to generate an image that superimposes the original image with the heatmap we just obtained:"
      ]
    },
    {
      "cell_type": "code",
      "metadata": {
        "id": "z7ISDT2RWMGL"
      },
      "source": [
        "import cv2\n",
        "\n",
        "# We use cv2 to load the original image\n",
        "img = cv2.imread(img_path)\n",
        "\n",
        "# We resize the heatmap to have the same size as the original image\n",
        "heatmap = cv2.resize(heatmap, (img.shape[1], img.shape[0]))\n",
        "\n",
        "# We convert the heatmap to RGB\n",
        "heatmap = np.uint8(255 * heatmap)\n",
        "\n",
        "# We apply the heatmap to the original image\n",
        "heatmap = cv2.applyColorMap(heatmap, cv2.COLORMAP_JET)\n",
        "\n",
        "# 0.4 here is a heatmap intensity factor\n",
        "superimposed_img = heatmap * 0.4 + img\n",
        "\n",
        "# Save the image to disk\n",
        "cv2.imwrite(path + 'elephant_cam.jpg', superimposed_img)"
      ],
      "execution_count": null,
      "outputs": []
    },
    {
      "cell_type": "code",
      "metadata": {
        "id": "xczIB4wfxmTf"
      },
      "source": [
        "plt.matshow(superimposed_img/300)\n",
        "plt.show()"
      ],
      "execution_count": null,
      "outputs": []
    },
    {
      "cell_type": "markdown",
      "metadata": {
        "id": "KUl2vdJXWMGP"
      },
      "source": [
        "![elephant cam](https://s3.amazonaws.com/book.keras.io/img/ch5/elephant_cam.jpg)"
      ]
    },
    {
      "cell_type": "markdown",
      "metadata": {
        "id": "LHysiRqLWMGP"
      },
      "source": [
        "This visualisation technique answers two important questions:\n",
        "\n",
        "* Why did the network think this image contained an African elephant?\n",
        "* Where is the African elephant located in the picture?\n",
        "\n",
        "In particular, it is interesting to note that the ears of the elephant cub are strongly activated: this is probably how the network can \n",
        "tell the difference between African and Indian elephants.\n"
      ]
    }
  ]
}