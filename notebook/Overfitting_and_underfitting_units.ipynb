{
  "nbformat": 4,
  "nbformat_minor": 0,
  "metadata": {
    "kernelspec": {
      "display_name": "Python 3",
      "language": "python",
      "name": "python3"
    },
    "language_info": {
      "codemirror_mode": {
        "name": "ipython",
        "version": 3
      },
      "file_extension": ".py",
      "mimetype": "text/x-python",
      "name": "python",
      "nbconvert_exporter": "python",
      "pygments_lexer": "ipython3",
      "version": "3.5.2"
    },
    "colab": {
      "name": "Overfitting-and-underfitting-units.ipynb",
      "provenance": [],
      "collapsed_sections": [
        "Yisbktnly-KV"
      ],
      "include_colab_link": true
    },
    "accelerator": "GPU"
  },
  "cells": [
    {
      "cell_type": "markdown",
      "metadata": {
        "id": "view-in-github",
        "colab_type": "text"
      },
      "source": [
        "<a href=\"https://colab.research.google.com/github/jumbokh/ML-Class/blob/main/notebook/Overfitting_and_underfitting_units.ipynb\" target=\"_parent\"><img src=\"https://colab.research.google.com/assets/colab-badge.svg\" alt=\"Open In Colab\"/></a>"
      ]
    },
    {
      "cell_type": "code",
      "metadata": {
        "id": "iMCSN5Zdy-JO",
        "colab": {
          "base_uri": "https://localhost:8080/",
          "height": 51
        },
        "outputId": "a0509fad-b9cf-4efa-d13c-03bea8f90b63"
      },
      "source": [
        "import keras\n",
        "keras.__version__"
      ],
      "execution_count": null,
      "outputs": [
        {
          "output_type": "stream",
          "text": [
            "Using TensorFlow backend.\n"
          ],
          "name": "stderr"
        },
        {
          "output_type": "execute_result",
          "data": {
            "text/plain": [
              "'2.3.1'"
            ]
          },
          "metadata": {
            "tags": []
          },
          "execution_count": 1
        }
      ]
    },
    {
      "cell_type": "markdown",
      "metadata": {
        "id": "Z-65_rNPy-JV"
      },
      "source": [
        "# Overfitting and underfitting\n",
        "\n",
        "This notebook contains the code samples found in Chapter 3, Section 6 of [Deep Learning with Python](https://www.manning.com/books/deep-learning-with-python?a_aid=keras&a_bid=76564dff). Note that the original text features far more content, in particular further explanations and figures: in this notebook, you will only find source code and related comments.\n",
        "\n",
        "----\n",
        "\n",
        "\n",
        "In all the examples we saw in the previous chapter -- movie review sentiment prediction, topic classification, and house price regression -- \n",
        "we could notice that the performance of our model on the held-out validation data would always peak after a few epochs and would then start \n",
        "degrading, i.e. our model would quickly start to _overfit_ to the training data. Overfitting happens in every single machine learning \n",
        "problem. Learning how to deal with overfitting is essential to mastering machine learning.\n",
        "\n",
        "The fundamental issue in machine learning is the tension between optimization and generalization. \"Optimization\" refers to the process of \n",
        "adjusting a model to get the best performance possible on the training data (the \"learning\" in \"machine learning\"), while \"generalization\" \n",
        "refers to how well the trained model would perform on data it has never seen before. The goal of the game is to get good generalization, of \n",
        "course, but you do not control generalization; you can only adjust the model based on its training data.\n",
        "\n",
        "At the beginning of training, optimization and generalization are correlated: the lower your loss on training data, the lower your loss on \n",
        "test data. While this is happening, your model is said to be _under-fit_: there is still progress to be made; the network hasn't yet \n",
        "modeled all relevant patterns in the training data. But after a certain number of iterations on the training data, generalization stops \n",
        "improving, validation metrics stall then start degrading: the model is then starting to over-fit, i.e. is it starting to learn patterns \n",
        "that are specific to the training data but that are misleading or irrelevant when it comes to new data.\n",
        "\n",
        "To prevent a model from learning misleading or irrelevant patterns found in the training data, _the best solution is of course to get \n",
        "more training data_. A model trained on more data will naturally generalize better. When that is no longer possible, the next best solution \n",
        "is to modulate the quantity of information that your model is allowed to store, or to add constraints on what information it is allowed to \n",
        "store. If a network can only afford to memorize a small number of patterns, the optimization process will force it to focus on the most \n",
        "prominent patterns, which have a better chance of generalizing well.\n",
        "\n",
        "The processing of fighting overfitting in this way is called _regularization_. Let's review some of the most common regularization \n",
        "techniques, and let's apply them in practice to improve our movie classification model from  the previous chapter."
      ]
    },
    {
      "cell_type": "markdown",
      "metadata": {
        "id": "a7X_1sT1y-JW"
      },
      "source": [
        "Note: in this notebook we will be using the IMDB test set as our validation set. It doesn't matter in this context.\n",
        "\n",
        "Let's prepare the data using the code from Chapter 3, Section 5:"
      ]
    },
    {
      "cell_type": "code",
      "metadata": {
        "id": "XuC1GNDyy-JX",
        "colab": {
          "base_uri": "https://localhost:8080/",
          "height": 51
        },
        "outputId": "b0a0c9a9-5ac2-47ac-8918-b1c5a09b9b8d"
      },
      "source": [
        "from keras.datasets import imdb\n",
        "import numpy as np\n",
        "\n",
        "(train_data, train_labels), (test_data, test_labels) = imdb.load_data(num_words=10000)\n",
        "\n",
        "def vectorize_sequences(sequences, dimension=10000):\n",
        "    # Create an all-zero matrix of shape (len(sequences), dimension)\n",
        "    results = np.zeros((len(sequences), dimension))\n",
        "    for i, sequence in enumerate(sequences):\n",
        "        results[i, sequence] = 1.  # set specific indices of results[i] to 1s, # sequence 是一個 'token'?, 第0筆 是 [1, 14, 22, 16, 43, 530], 所以他的資料10000 維中間，第一位置第14位置第14位置第22位置第16位置等都配填入 1\n",
        "    return results\n",
        "\n",
        "# Our vectorized training data\n",
        "x_train = vectorize_sequences(train_data)\n",
        "# Our vectorized test data. (25000,10000)\n",
        "x_test = vectorize_sequences(test_data)\n",
        "# Our vectorized labels\n",
        "y_train = np.asarray(train_labels).astype('float32')\n",
        "y_test = np.asarray(test_labels).astype('float32')"
      ],
      "execution_count": null,
      "outputs": [
        {
          "output_type": "stream",
          "text": [
            "Downloading data from https://s3.amazonaws.com/text-datasets/imdb.npz\n",
            "17465344/17464789 [==============================] - 3s 0us/step\n"
          ],
          "name": "stdout"
        }
      ]
    },
    {
      "cell_type": "markdown",
      "metadata": {
        "id": "GGEHTR0le_tS"
      },
      "source": [
        "# 研究與觀察\n"
      ]
    },
    {
      "cell_type": "code",
      "metadata": {
        "id": "SiDJSHBRenIW",
        "colab": {
          "base_uri": "https://localhost:8080/",
          "height": 34
        },
        "outputId": "552e2a5e-6203-4a69-c6b4-2dad8be453df"
      },
      "source": [
        "results = np.zeros(10)\n",
        "mask = [1,3,8]\n",
        "results[mask] = 1\n",
        "results"
      ],
      "execution_count": null,
      "outputs": [
        {
          "output_type": "execute_result",
          "data": {
            "text/plain": [
              "array([0., 1., 0., 1., 0., 0., 0., 0., 1., 0.])"
            ]
          },
          "metadata": {
            "tags": []
          },
          "execution_count": 3
        }
      ]
    },
    {
      "cell_type": "code",
      "metadata": {
        "id": "x7svMFw3cASB",
        "colab": {
          "base_uri": "https://localhost:8080/",
          "height": 123
        },
        "outputId": "697c6951-7df2-4b1c-e3d6-9af8601cbdbd"
      },
      "source": [
        "results = np.zeros(10000)\n",
        "print(train_data[0][:60])\n",
        "results[train_data[0]]=1\n",
        "results[:60]"
      ],
      "execution_count": null,
      "outputs": [
        {
          "output_type": "stream",
          "text": [
            "[1, 14, 22, 16, 43, 530, 973, 1622, 1385, 65, 458, 4468, 66, 3941, 4, 173, 36, 256, 5, 25, 100, 43, 838, 112, 50, 670, 2, 9, 35, 480, 284, 5, 150, 4, 172, 112, 167, 2, 336, 385, 39, 4, 172, 4536, 1111, 17, 546, 38, 13, 447, 4, 192, 50, 16, 6, 147, 2025, 19, 14, 22]\n"
          ],
          "name": "stdout"
        },
        {
          "output_type": "execute_result",
          "data": {
            "text/plain": [
              "array([0., 1., 1., 0., 1., 1., 1., 1., 1., 1., 0., 0., 1., 1., 1., 1., 1.,\n",
              "       1., 1., 1., 0., 1., 1., 0., 0., 1., 1., 0., 1., 0., 1., 0., 1., 1.,\n",
              "       0., 1., 1., 0., 1., 1., 0., 0., 0., 1., 0., 0., 1., 0., 1., 0., 1.,\n",
              "       1., 1., 0., 0., 0., 1., 0., 0., 0.])"
            ]
          },
          "metadata": {
            "tags": []
          },
          "execution_count": 4
        }
      ]
    },
    {
      "cell_type": "code",
      "metadata": {
        "id": "crG2He12YCah",
        "colab": {
          "base_uri": "https://localhost:8080/",
          "height": 191
        },
        "outputId": "24d0f0e3-8a5d-426c-dfba-9c4aa6062209"
      },
      "source": [
        "print(f'train_data.shape: {train_data.shape}')\n",
        "print(f'the 1st record at train_data, {train_data[0]}')\n",
        "print(f'x_train.shape: {x_train.shape}')\n",
        "print(f'train_data[0], {train_data[0]}')\n",
        "print(f'the 1st record at x_train, {x_train[0][:10]}')\n",
        "print(f'the 1st record at x_train, {x_train[1][:10]}')\n",
        "print(f'the 1st record at x_train, {x_train[2][:10]}')\n",
        "print(f'the 1st record at x_train, {x_train[3][:10]}')\n",
        "print(f'train labels: {train_labels[:10]}')  #<== this is a classification"
      ],
      "execution_count": null,
      "outputs": [
        {
          "output_type": "stream",
          "text": [
            "train_data.shape: (25000,)\n",
            "the 1st record at train_data, [1, 14, 22, 16, 43, 530, 973, 1622, 1385, 65, 458, 4468, 66, 3941, 4, 173, 36, 256, 5, 25, 100, 43, 838, 112, 50, 670, 2, 9, 35, 480, 284, 5, 150, 4, 172, 112, 167, 2, 336, 385, 39, 4, 172, 4536, 1111, 17, 546, 38, 13, 447, 4, 192, 50, 16, 6, 147, 2025, 19, 14, 22, 4, 1920, 4613, 469, 4, 22, 71, 87, 12, 16, 43, 530, 38, 76, 15, 13, 1247, 4, 22, 17, 515, 17, 12, 16, 626, 18, 2, 5, 62, 386, 12, 8, 316, 8, 106, 5, 4, 2223, 5244, 16, 480, 66, 3785, 33, 4, 130, 12, 16, 38, 619, 5, 25, 124, 51, 36, 135, 48, 25, 1415, 33, 6, 22, 12, 215, 28, 77, 52, 5, 14, 407, 16, 82, 2, 8, 4, 107, 117, 5952, 15, 256, 4, 2, 7, 3766, 5, 723, 36, 71, 43, 530, 476, 26, 400, 317, 46, 7, 4, 2, 1029, 13, 104, 88, 4, 381, 15, 297, 98, 32, 2071, 56, 26, 141, 6, 194, 7486, 18, 4, 226, 22, 21, 134, 476, 26, 480, 5, 144, 30, 5535, 18, 51, 36, 28, 224, 92, 25, 104, 4, 226, 65, 16, 38, 1334, 88, 12, 16, 283, 5, 16, 4472, 113, 103, 32, 15, 16, 5345, 19, 178, 32]\n",
            "x_train.shape: (25000, 10000)\n",
            "train_data[0], [1, 14, 22, 16, 43, 530, 973, 1622, 1385, 65, 458, 4468, 66, 3941, 4, 173, 36, 256, 5, 25, 100, 43, 838, 112, 50, 670, 2, 9, 35, 480, 284, 5, 150, 4, 172, 112, 167, 2, 336, 385, 39, 4, 172, 4536, 1111, 17, 546, 38, 13, 447, 4, 192, 50, 16, 6, 147, 2025, 19, 14, 22, 4, 1920, 4613, 469, 4, 22, 71, 87, 12, 16, 43, 530, 38, 76, 15, 13, 1247, 4, 22, 17, 515, 17, 12, 16, 626, 18, 2, 5, 62, 386, 12, 8, 316, 8, 106, 5, 4, 2223, 5244, 16, 480, 66, 3785, 33, 4, 130, 12, 16, 38, 619, 5, 25, 124, 51, 36, 135, 48, 25, 1415, 33, 6, 22, 12, 215, 28, 77, 52, 5, 14, 407, 16, 82, 2, 8, 4, 107, 117, 5952, 15, 256, 4, 2, 7, 3766, 5, 723, 36, 71, 43, 530, 476, 26, 400, 317, 46, 7, 4, 2, 1029, 13, 104, 88, 4, 381, 15, 297, 98, 32, 2071, 56, 26, 141, 6, 194, 7486, 18, 4, 226, 22, 21, 134, 476, 26, 480, 5, 144, 30, 5535, 18, 51, 36, 28, 224, 92, 25, 104, 4, 226, 65, 16, 38, 1334, 88, 12, 16, 283, 5, 16, 4472, 113, 103, 32, 15, 16, 5345, 19, 178, 32]\n",
            "the 1st record at x_train, [0. 1. 1. 0. 1. 1. 1. 1. 1. 1.]\n",
            "the 1st record at x_train, [0. 1. 1. 0. 1. 1. 1. 1. 1. 1.]\n",
            "the 1st record at x_train, [0. 1. 1. 0. 1. 0. 1. 1. 1. 1.]\n",
            "the 1st record at x_train, [0. 1. 1. 0. 1. 1. 1. 1. 1. 1.]\n",
            "train labels: [1 0 0 1 0 0 1 0 1 0]\n"
          ],
          "name": "stdout"
        }
      ]
    },
    {
      "cell_type": "markdown",
      "metadata": {
        "id": "9QFd5hSqy-Jc"
      },
      "source": [
        "# Fighting overfitting\n",
        "\n",
        "## Reducing the network's size\n",
        "\n",
        "\n",
        "The simplest way to prevent overfitting is to reduce the size of the model, i.e. the number of learnable parameters in the model (which is \n",
        "determined by the number of layers and the number of units per layer). In deep learning, the number of learnable parameters in a model is \n",
        "often referred to as the model's \"capacity\". Intuitively, a model with more parameters will have more \"memorization capacity\" and therefore \n",
        "will be able to easily learn a perfect dictionary-like mapping between training samples and their targets, a mapping without any \n",
        "generalization power. For instance, a model with 500,000 binary parameters could easily be made to learn the class of every digits in the \n",
        "MNIST training set: we would only need 10 binary parameters for each of the 50,000 digits. Such a model would be useless for classifying \n",
        "new digit samples. Always keep this in mind: deep learning models tend to be good at fitting to the training data, but the real challenge \n",
        "is generalization, not fitting.\n",
        "\n",
        "On the other hand, if the network has limited memorization resources, it will not be able to learn this mapping as easily, and thus, in \n",
        "order to minimize its loss, it will have to resort to learning compressed representations that have predictive power regarding the targets \n",
        "-- precisely the type of representations that we are interested in. At the same time, keep in mind that you should be using models that have \n",
        "enough parameters that they won't be underfitting: your model shouldn't be starved for memorization resources. There is a compromise to be \n",
        "found between \"too much capacity\" and \"not enough capacity\".\n",
        "\n",
        "Unfortunately, there is no magical formula to determine what the right number of layers is, or what the right size for each layer is. You \n",
        "will have to evaluate an array of different architectures (on your validation set, not on your test set, of course) in order to find the \n",
        "right model size for your data. The general workflow to find an appropriate model size is to start with relatively few layers and \n",
        "parameters, and start increasing the size of the layers or adding new layers until you see diminishing returns with regard to the \n",
        "validation loss.\n",
        "\n",
        "Let's try this on our movie review classification network. Our original network was as such:"
      ]
    },
    {
      "cell_type": "code",
      "metadata": {
        "id": "6yCGpA9by-Jd"
      },
      "source": [
        "from keras import models\n",
        "from keras import layers\n",
        "\n",
        "original_model = models.Sequential()\n",
        "original_model.add(layers.Dense(16, activation='relu', input_shape=(10000,)))\n",
        "original_model.add(layers.Dense(16, activation='relu'))\n",
        "original_model.add(layers.Dense(1, activation='sigmoid'))\n",
        "\n",
        "original_model.compile(optimizer='rmsprop',\n",
        "                       loss='binary_crossentropy',\n",
        "                       metrics=['acc'])"
      ],
      "execution_count": null,
      "outputs": []
    },
    {
      "cell_type": "markdown",
      "metadata": {
        "id": "YVeAs0ojy-Jg"
      },
      "source": [
        "Now let's try to replace it with this smaller network:"
      ]
    },
    {
      "cell_type": "code",
      "metadata": {
        "id": "vGVYQmSNy-Jg"
      },
      "source": [
        "smaller_model = models.Sequential()\n",
        "smaller_model.add(layers.Dense(4, activation='relu', input_shape=(10000,)))\n",
        "smaller_model.add(layers.Dense(4, activation='relu'))\n",
        "smaller_model.add(layers.Dense(1, activation='sigmoid'))\n",
        "\n",
        "smaller_model.compile(optimizer='rmsprop',\n",
        "                      loss='binary_crossentropy',\n",
        "                      metrics=['acc'])"
      ],
      "execution_count": null,
      "outputs": []
    },
    {
      "cell_type": "markdown",
      "metadata": {
        "id": "MmtFOh21y-Jj"
      },
      "source": [
        "\n",
        "Here's a comparison of the validation losses of the original network and the smaller network. The dots are the validation loss values of \n",
        "the smaller network, and the crosses are the initial network (remember: a lower validation loss signals a better model)."
      ]
    },
    {
      "cell_type": "code",
      "metadata": {
        "id": "b1pM3057y-Jk",
        "colab": {
          "base_uri": "https://localhost:8080/",
          "height": 740
        },
        "outputId": "bde30da8-d5be-46d9-aa25-3d6f00437b8c"
      },
      "source": [
        "original_hist = original_model.fit(x_train, y_train,\n",
        "                                   epochs=20,\n",
        "                                   batch_size=512,\n",
        "                                   validation_data=(x_test, y_test))"
      ],
      "execution_count": null,
      "outputs": [
        {
          "output_type": "stream",
          "text": [
            "Train on 25000 samples, validate on 25000 samples\n",
            "Epoch 1/20\n",
            "25000/25000 [==============================] - 4s 153us/step - loss: 0.4584 - acc: 0.8185 - val_loss: 0.3477 - val_acc: 0.8758\n",
            "Epoch 2/20\n",
            "25000/25000 [==============================] - 2s 84us/step - loss: 0.2627 - acc: 0.9103 - val_loss: 0.2847 - val_acc: 0.8902\n",
            "Epoch 3/20\n",
            "25000/25000 [==============================] - 2s 85us/step - loss: 0.2035 - acc: 0.9289 - val_loss: 0.2809 - val_acc: 0.8861\n",
            "Epoch 4/20\n",
            "25000/25000 [==============================] - 2s 83us/step - loss: 0.1700 - acc: 0.9398 - val_loss: 0.2896 - val_acc: 0.8842\n",
            "Epoch 5/20\n",
            "25000/25000 [==============================] - 2s 85us/step - loss: 0.1461 - acc: 0.9475 - val_loss: 0.3068 - val_acc: 0.8809\n",
            "Epoch 6/20\n",
            "25000/25000 [==============================] - 2s 84us/step - loss: 0.1293 - acc: 0.9556 - val_loss: 0.3276 - val_acc: 0.8768\n",
            "Epoch 7/20\n",
            "25000/25000 [==============================] - 2s 85us/step - loss: 0.1130 - acc: 0.9617 - val_loss: 0.3541 - val_acc: 0.8733\n",
            "Epoch 8/20\n",
            "25000/25000 [==============================] - 2s 84us/step - loss: 0.1027 - acc: 0.9653 - val_loss: 0.3807 - val_acc: 0.8672\n",
            "Epoch 9/20\n",
            "25000/25000 [==============================] - 2s 84us/step - loss: 0.0902 - acc: 0.9703 - val_loss: 0.4006 - val_acc: 0.8683\n",
            "Epoch 10/20\n",
            "25000/25000 [==============================] - 2s 84us/step - loss: 0.0819 - acc: 0.9732 - val_loss: 0.4462 - val_acc: 0.8604\n",
            "Epoch 11/20\n",
            "25000/25000 [==============================] - 2s 83us/step - loss: 0.0714 - acc: 0.9772 - val_loss: 0.4503 - val_acc: 0.8635\n",
            "Epoch 12/20\n",
            "25000/25000 [==============================] - 2s 84us/step - loss: 0.0626 - acc: 0.9808 - val_loss: 0.4811 - val_acc: 0.8606\n",
            "Epoch 13/20\n",
            "25000/25000 [==============================] - 2s 83us/step - loss: 0.0535 - acc: 0.9837 - val_loss: 0.5342 - val_acc: 0.8562\n",
            "Epoch 14/20\n",
            "25000/25000 [==============================] - 2s 84us/step - loss: 0.0493 - acc: 0.9850 - val_loss: 0.5402 - val_acc: 0.8578\n",
            "Epoch 15/20\n",
            "25000/25000 [==============================] - 2s 85us/step - loss: 0.0404 - acc: 0.9896 - val_loss: 0.6354 - val_acc: 0.8463\n",
            "Epoch 16/20\n",
            "25000/25000 [==============================] - 2s 84us/step - loss: 0.0364 - acc: 0.9898 - val_loss: 0.6197 - val_acc: 0.8521\n",
            "Epoch 17/20\n",
            "25000/25000 [==============================] - 2s 83us/step - loss: 0.0311 - acc: 0.9918 - val_loss: 0.6490 - val_acc: 0.8514\n",
            "Epoch 18/20\n",
            "25000/25000 [==============================] - 2s 84us/step - loss: 0.0261 - acc: 0.9932 - val_loss: 0.6879 - val_acc: 0.8509\n",
            "Epoch 19/20\n",
            "25000/25000 [==============================] - 2s 83us/step - loss: 0.0220 - acc: 0.9946 - val_loss: 0.8121 - val_acc: 0.8404\n",
            "Epoch 20/20\n",
            "25000/25000 [==============================] - 2s 83us/step - loss: 0.0196 - acc: 0.9951 - val_loss: 0.7432 - val_acc: 0.8501\n"
          ],
          "name": "stdout"
        }
      ]
    },
    {
      "cell_type": "code",
      "metadata": {
        "id": "07azFRpty-Jp",
        "colab": {
          "base_uri": "https://localhost:8080/",
          "height": 740
        },
        "outputId": "311aa2b1-91a2-4c8c-a183-ed86742c61ee"
      },
      "source": [
        "smaller_model_hist = smaller_model.fit(x_train, y_train,\n",
        "                                       epochs=20,\n",
        "                                       batch_size=512,\n",
        "                                       validation_data=(x_test, y_test))"
      ],
      "execution_count": null,
      "outputs": [
        {
          "output_type": "stream",
          "text": [
            "Train on 25000 samples, validate on 25000 samples\n",
            "Epoch 1/20\n",
            "25000/25000 [==============================] - 2s 88us/step - loss: 0.4771 - acc: 0.8147 - val_loss: 0.3773 - val_acc: 0.8759\n",
            "Epoch 2/20\n",
            "25000/25000 [==============================] - 2s 84us/step - loss: 0.2988 - acc: 0.9040 - val_loss: 0.3098 - val_acc: 0.8852\n",
            "Epoch 3/20\n",
            "25000/25000 [==============================] - 2s 84us/step - loss: 0.2337 - acc: 0.9216 - val_loss: 0.2857 - val_acc: 0.8892\n",
            "Epoch 4/20\n",
            "25000/25000 [==============================] - 2s 84us/step - loss: 0.1964 - acc: 0.9332 - val_loss: 0.2806 - val_acc: 0.8882\n",
            "Epoch 5/20\n",
            "25000/25000 [==============================] - 2s 85us/step - loss: 0.1723 - acc: 0.9429 - val_loss: 0.2950 - val_acc: 0.8812\n",
            "Epoch 6/20\n",
            "25000/25000 [==============================] - 2s 84us/step - loss: 0.1534 - acc: 0.9498 - val_loss: 0.2984 - val_acc: 0.8818\n",
            "Epoch 7/20\n",
            "25000/25000 [==============================] - 2s 84us/step - loss: 0.1380 - acc: 0.9550 - val_loss: 0.3109 - val_acc: 0.8781\n",
            "Epoch 8/20\n",
            "25000/25000 [==============================] - 2s 84us/step - loss: 0.1259 - acc: 0.9600 - val_loss: 0.3191 - val_acc: 0.8777\n",
            "Epoch 9/20\n",
            "25000/25000 [==============================] - 2s 84us/step - loss: 0.1161 - acc: 0.9632 - val_loss: 0.3311 - val_acc: 0.8759\n",
            "Epoch 10/20\n",
            "25000/25000 [==============================] - 2s 83us/step - loss: 0.1062 - acc: 0.9674 - val_loss: 0.3676 - val_acc: 0.8676\n",
            "Epoch 11/20\n",
            "25000/25000 [==============================] - 2s 85us/step - loss: 0.0985 - acc: 0.9700 - val_loss: 0.3657 - val_acc: 0.8700\n",
            "Epoch 12/20\n",
            "25000/25000 [==============================] - 2s 84us/step - loss: 0.0909 - acc: 0.9719 - val_loss: 0.3817 - val_acc: 0.8676\n",
            "Epoch 13/20\n",
            "25000/25000 [==============================] - 2s 84us/step - loss: 0.0847 - acc: 0.9755 - val_loss: 0.4111 - val_acc: 0.8636\n",
            "Epoch 14/20\n",
            "25000/25000 [==============================] - 2s 84us/step - loss: 0.0778 - acc: 0.9767 - val_loss: 0.4287 - val_acc: 0.8625\n",
            "Epoch 15/20\n",
            "25000/25000 [==============================] - 2s 84us/step - loss: 0.0721 - acc: 0.9787 - val_loss: 0.4428 - val_acc: 0.8614\n",
            "Epoch 16/20\n",
            "25000/25000 [==============================] - 2s 84us/step - loss: 0.0682 - acc: 0.9796 - val_loss: 0.4621 - val_acc: 0.8606\n",
            "Epoch 17/20\n",
            "25000/25000 [==============================] - 2s 83us/step - loss: 0.0622 - acc: 0.9829 - val_loss: 0.4894 - val_acc: 0.8582\n",
            "Epoch 18/20\n",
            "25000/25000 [==============================] - 2s 83us/step - loss: 0.0575 - acc: 0.9843 - val_loss: 0.5020 - val_acc: 0.8573\n",
            "Epoch 19/20\n",
            "25000/25000 [==============================] - 2s 83us/step - loss: 0.0535 - acc: 0.9859 - val_loss: 0.5197 - val_acc: 0.8566\n",
            "Epoch 20/20\n",
            "25000/25000 [==============================] - 2s 84us/step - loss: 0.0496 - acc: 0.9875 - val_loss: 0.5473 - val_acc: 0.8546\n"
          ],
          "name": "stdout"
        }
      ]
    },
    {
      "cell_type": "code",
      "metadata": {
        "id": "xmDCCp7jy-Jv"
      },
      "source": [
        "epochs = range(1, 21)\n",
        "original_val_loss = original_hist.history['val_loss']\n",
        "smaller_model_val_loss = smaller_model_hist.history['val_loss']"
      ],
      "execution_count": null,
      "outputs": []
    },
    {
      "cell_type": "code",
      "metadata": {
        "id": "W1V9c46vy-Jy",
        "colab": {
          "base_uri": "https://localhost:8080/",
          "height": 279
        },
        "outputId": "77c7dcc2-5cd5-4d5e-ccd3-f08abe86fa22"
      },
      "source": [
        "import matplotlib.pyplot as plt\n",
        "\n",
        "# b+ is for \"blue cross\"\n",
        "plt.plot(epochs, original_val_loss, 'b+', label='Original model')\n",
        "# \"bo\" is for \"blue dot\"\n",
        "plt.plot(epochs, smaller_model_val_loss, 'bo', label='Smaller model')\n",
        "plt.xlabel('Epochs')\n",
        "plt.ylabel('Validation loss')\n",
        "plt.legend()\n",
        "\n",
        "plt.show()"
      ],
      "execution_count": null,
      "outputs": [
        {
          "output_type": "display_data",
          "data": {
            "image/png": "[encoded data removed]",
            "text/plain": [
              "<Figure size 432x288 with 1 Axes>"
            ]
          },
          "metadata": {
            "tags": [],
            "needs_background": "light"
          }
        }
      ]
    },
    {
      "cell_type": "markdown",
      "metadata": {
        "id": "c8bY2UZwy-J2"
      },
      "source": [
        "\n",
        "As you can see, **the smaller network starts overfitting later than the reference one (after 6 epochs rather than 4)** and its performance \n",
        "degrades much more slowly once it starts overfitting.\n",
        "\n",
        "Now, for kicks, let's add to this benchmark a network that has much more capacity, far more than the problem would warrant:"
      ]
    },
    {
      "cell_type": "code",
      "metadata": {
        "id": "mX2FFAucy-J3"
      },
      "source": [
        "bigger_model = models.Sequential()\n",
        "bigger_model.add(layers.Dense(512, activation='relu', input_shape=(10000,)))\n",
        "bigger_model.add(layers.Dense(512, activation='relu'))\n",
        "bigger_model.add(layers.Dense(1, activation='sigmoid'))\n",
        "\n",
        "bigger_model.compile(optimizer='rmsprop',\n",
        "                     loss='binary_crossentropy',\n",
        "                     metrics=['acc'])"
      ],
      "execution_count": null,
      "outputs": []
    },
    {
      "cell_type": "code",
      "metadata": {
        "id": "jKpaX-LIy-J6",
        "colab": {
          "base_uri": "https://localhost:8080/",
          "height": 740
        },
        "outputId": "e8d4cad9-fc78-44dc-c8bd-bf7fb7f875b2"
      },
      "source": [
        "bigger_model_hist = bigger_model.fit(x_train, y_train,\n",
        "                                     epochs=20,\n",
        "                                     batch_size=512,\n",
        "                                     validation_data=(x_test, y_test))"
      ],
      "execution_count": null,
      "outputs": [
        {
          "output_type": "stream",
          "text": [
            "Train on 25000 samples, validate on 25000 samples\n",
            "Epoch 1/20\n",
            "25000/25000 [==============================] - 3s 103us/step - loss: 0.4616 - acc: 0.7945 - val_loss: 0.2848 - val_acc: 0.8821\n",
            "Epoch 2/20\n",
            "25000/25000 [==============================] - 2s 98us/step - loss: 0.2258 - acc: 0.9128 - val_loss: 0.2736 - val_acc: 0.8884\n",
            "Epoch 3/20\n",
            "25000/25000 [==============================] - 2s 99us/step - loss: 0.1286 - acc: 0.9526 - val_loss: 0.8283 - val_acc: 0.7462\n",
            "Epoch 4/20\n",
            "25000/25000 [==============================] - 2s 100us/step - loss: 0.0666 - acc: 0.9798 - val_loss: 0.4480 - val_acc: 0.8788\n",
            "Epoch 5/20\n",
            "25000/25000 [==============================] - 2s 99us/step - loss: 0.0739 - acc: 0.9878 - val_loss: 0.4823 - val_acc: 0.8809\n",
            "Epoch 6/20\n",
            "25000/25000 [==============================] - 2s 99us/step - loss: 0.0016 - acc: 0.9998 - val_loss: 0.6907 - val_acc: 0.8794\n",
            "Epoch 7/20\n",
            "25000/25000 [==============================] - 2s 98us/step - loss: 0.1286 - acc: 0.9873 - val_loss: 0.5972 - val_acc: 0.8770\n",
            "Epoch 8/20\n",
            "25000/25000 [==============================] - 2s 98us/step - loss: 0.0444 - acc: 0.9909 - val_loss: 0.6026 - val_acc: 0.8656\n",
            "Epoch 9/20\n",
            "25000/25000 [==============================] - 2s 98us/step - loss: 0.0011 - acc: 1.0000 - val_loss: 0.7284 - val_acc: 0.8778\n",
            "Epoch 10/20\n",
            "25000/25000 [==============================] - 2s 99us/step - loss: 9.7951e-05 - acc: 1.0000 - val_loss: 0.9235 - val_acc: 0.8786\n",
            "Epoch 11/20\n",
            "25000/25000 [==============================] - 2s 99us/step - loss: 0.1190 - acc: 0.9876 - val_loss: 0.8410 - val_acc: 0.8665\n",
            "Epoch 12/20\n",
            "25000/25000 [==============================] - 2s 98us/step - loss: 8.5894e-05 - acc: 1.0000 - val_loss: 0.8305 - val_acc: 0.8780\n",
            "Epoch 13/20\n",
            "25000/25000 [==============================] - 2s 98us/step - loss: 1.8205e-05 - acc: 1.0000 - val_loss: 0.9178 - val_acc: 0.8778\n",
            "Epoch 14/20\n",
            "25000/25000 [==============================] - 2s 99us/step - loss: 5.0118e-06 - acc: 1.0000 - val_loss: 1.0644 - val_acc: 0.8777\n",
            "Epoch 15/20\n",
            "25000/25000 [==============================] - 2s 99us/step - loss: 1.0314e-06 - acc: 1.0000 - val_loss: 1.2087 - val_acc: 0.8781\n",
            "Epoch 16/20\n",
            "25000/25000 [==============================] - 2s 99us/step - loss: 2.0302e-07 - acc: 1.0000 - val_loss: 1.3525 - val_acc: 0.8774\n",
            "Epoch 17/20\n",
            "25000/25000 [==============================] - 2s 99us/step - loss: 4.7563e-08 - acc: 1.0000 - val_loss: 1.4505 - val_acc: 0.8775\n",
            "Epoch 18/20\n",
            "25000/25000 [==============================] - 2s 100us/step - loss: 2.0319e-08 - acc: 1.0000 - val_loss: 1.5043 - val_acc: 0.8770\n",
            "Epoch 19/20\n",
            "25000/25000 [==============================] - 2s 99us/step - loss: 1.2570e-08 - acc: 1.0000 - val_loss: 1.5355 - val_acc: 0.8770\n",
            "Epoch 20/20\n",
            "25000/25000 [==============================] - 2s 98us/step - loss: 9.1356e-09 - acc: 1.0000 - val_loss: 1.5584 - val_acc: 0.8772\n"
          ],
          "name": "stdout"
        }
      ]
    },
    {
      "cell_type": "markdown",
      "metadata": {
        "id": "qh5y7IuHy-J-"
      },
      "source": [
        "Here's how the bigger network fares compared to the reference one. The dots are the validation loss values of the bigger network, and the \n",
        "crosses are the initial network."
      ]
    },
    {
      "cell_type": "code",
      "metadata": {
        "id": "an5YdDL8y-J_",
        "colab": {
          "base_uri": "https://localhost:8080/",
          "height": 280
        },
        "outputId": "240a9406-b4c8-425a-f5df-d744dcc6a2db"
      },
      "source": [
        "bigger_model_val_loss = bigger_model_hist.history['val_loss']\n",
        "\n",
        "plt.plot(epochs, original_val_loss, 'b+', label='Original model')\n",
        "plt.plot(epochs, bigger_model_val_loss, 'bo', label='Bigger model')\n",
        "plt.xlabel('Epochs')\n",
        "plt.ylabel('Validation loss')\n",
        "plt.legend()\n",
        "\n",
        "plt.show()"
      ],
      "execution_count": null,
      "outputs": [
        {
          "output_type": "display_data",
          "data": {
            "image/png": "[encoded data removed]",
            "text/plain": [
              "<Figure size 432x288 with 1 Axes>"
            ]
          },
          "metadata": {
            "tags": [],
            "needs_background": "light"
          }
        }
      ]
    },
    {
      "cell_type": "markdown",
      "metadata": {
        "id": "bDUhBgbxy-KB"
      },
      "source": [
        "\n",
        "The bigger network starts overfitting almost right away, after just one epoch, and overfits much more severely. Its validation loss is also \n",
        "more noisy.\n",
        "\n",
        "Meanwhile, here are the training losses for our two networks:"
      ]
    },
    {
      "cell_type": "code",
      "metadata": {
        "id": "Tgjha38Iy-KC",
        "colab": {
          "base_uri": "https://localhost:8080/",
          "height": 279
        },
        "outputId": "024ad8a7-7df0-4cb3-fa10-e2270435d021"
      },
      "source": [
        "original_train_loss = original_hist.history['loss']\n",
        "bigger_model_train_loss = bigger_model_hist.history['loss']\n",
        "\n",
        "plt.plot(epochs, original_train_loss, 'b+', label='Original model')\n",
        "plt.plot(epochs, bigger_model_train_loss, 'bo', label='Bigger model')\n",
        "plt.xlabel('Epochs')\n",
        "plt.ylabel('Training loss')\n",
        "plt.legend()\n",
        "\n",
        "plt.show()"
      ],
      "execution_count": null,
      "outputs": [
        {
          "output_type": "display_data",
          "data": {
            "image/png": "[encoded data removed]",
            "text/plain": [
              "<Figure size 432x288 with 1 Axes>"
            ]
          },
          "metadata": {
            "tags": [],
            "needs_background": "light"
          }
        }
      ]
    },
    {
      "cell_type": "markdown",
      "metadata": {
        "id": "pYP12UbUy-KF"
      },
      "source": [
        "As you can see, the bigger network gets its training loss near zero very quickly. The more capacity the network has, the quicker it will be \n",
        "able to model the training data (resulting in a low training loss), but the more susceptible it is to overfitting (resulting in a large \n",
        "difference between the training and validation loss)."
      ]
    },
    {
      "cell_type": "markdown",
      "metadata": {
        "id": "hRSlVkBOy-KF"
      },
      "source": [
        "## Adding weight regularization\n",
        "\n",
        "\n",
        "You may be familiar with _Occam's Razor_ principle: given two explanations for something, the explanation most likely to be correct is the \n",
        "\"simplest\" one, the one that makes the least amount of assumptions. This also applies to the models learned by neural networks: given some \n",
        "training data and a network architecture, there are multiple sets of weights values (multiple _models_) that could explain the data, and \n",
        "simpler models are less likely to overfit than complex ones.\n",
        "\n",
        "A \"simple model\" in this context is a model where the distribution of parameter values has less entropy (or a model with fewer \n",
        "parameters altogether, as we saw in the section above). Thus a common way to mitigate overfitting is to put constraints on the complexity \n",
        "of a network by forcing its weights to only take small values, which makes the distribution of weight values more \"regular\". This is called \n",
        "\"weight regularization\", and it is done by adding to the loss function of the network a _cost_ associated with having large weights. This \n",
        "cost comes in two flavors:\n",
        "\n",
        "* L1 regularization, where the cost added is proportional to the _absolute value of the weights coefficients_ (i.e. to what is called the \n",
        "\"L1 norm\" of the weights).\n",
        "* L2 regularization, where the cost added is proportional to the _square of the value of the weights coefficients_ (i.e. to what is called \n",
        "the \"L2 norm\" of the weights). L2 regularization is also called _weight decay_ in the context of neural networks. Don't let the different \n",
        "name confuse you: weight decay is mathematically the exact same as L2 regularization.\n",
        "\n",
        "In Keras, weight regularization is added by passing _weight regularizer instances_ to layers as keyword arguments. Let's add L2 weight \n",
        "regularization to our movie review classification network:"
      ]
    },
    {
      "cell_type": "code",
      "metadata": {
        "id": "btMpe0-5y-KG"
      },
      "source": [
        "from keras import regularizers\n",
        "\n",
        "l2_model = models.Sequential()\n",
        "l2_model.add(layers.Dense(16, kernel_regularizer=regularizers.l2(0.001),\n",
        "                          activation='relu', input_shape=(10000,)))\n",
        "l2_model.add(layers.Dense(16, kernel_regularizer=regularizers.l2(0.001),\n",
        "                          activation='relu'))\n",
        "l2_model.add(layers.Dense(1, activation='sigmoid'))"
      ],
      "execution_count": null,
      "outputs": []
    },
    {
      "cell_type": "code",
      "metadata": {
        "id": "-DRsO4viy-KJ"
      },
      "source": [
        "l2_model.compile(optimizer='rmsprop',\n",
        "                 loss='binary_crossentropy',\n",
        "                 metrics=['acc'])"
      ],
      "execution_count": null,
      "outputs": []
    },
    {
      "cell_type": "markdown",
      "metadata": {
        "id": "qrB_8P3Xy-KM"
      },
      "source": [
        "`l2(0.001)` means that every coefficient in the weight matrix of the layer will add `0.001 * weight_coefficient_value` to the total loss of \n",
        "the network. Note that because this penalty is _only added at training time_, the loss for this network will be much higher at training \n",
        "than at test time.\n",
        "\n",
        "Here's the impact of our L2 regularization penalty:"
      ]
    },
    {
      "cell_type": "code",
      "metadata": {
        "id": "TNxPNT5vy-KM",
        "colab": {
          "base_uri": "https://localhost:8080/",
          "height": 740
        },
        "outputId": "3b96a42c-9fdc-4663-bd06-3410319db48a"
      },
      "source": [
        "l2_model_hist = l2_model.fit(x_train, y_train,\n",
        "                             epochs=20,\n",
        "                             batch_size=512,\n",
        "                             validation_data=(x_test, y_test))"
      ],
      "execution_count": null,
      "outputs": [
        {
          "output_type": "stream",
          "text": [
            "Train on 25000 samples, validate on 25000 samples\n",
            "Epoch 1/20\n",
            "25000/25000 [==============================] - 2s 89us/step - loss: 0.5323 - acc: 0.8120 - val_loss: 0.4149 - val_acc: 0.8635\n",
            "Epoch 2/20\n",
            "25000/25000 [==============================] - 2s 84us/step - loss: 0.3355 - acc: 0.9017 - val_loss: 0.3435 - val_acc: 0.8882\n",
            "Epoch 3/20\n",
            "25000/25000 [==============================] - 2s 83us/step - loss: 0.2833 - acc: 0.9157 - val_loss: 0.3404 - val_acc: 0.8844\n",
            "Epoch 4/20\n",
            "25000/25000 [==============================] - 2s 83us/step - loss: 0.2610 - acc: 0.9242 - val_loss: 0.3608 - val_acc: 0.8762\n",
            "Epoch 5/20\n",
            "25000/25000 [==============================] - 2s 84us/step - loss: 0.2486 - acc: 0.9312 - val_loss: 0.3409 - val_acc: 0.8837\n",
            "Epoch 6/20\n",
            "25000/25000 [==============================] - 2s 83us/step - loss: 0.2403 - acc: 0.9338 - val_loss: 0.3675 - val_acc: 0.8750\n",
            "Epoch 7/20\n",
            "25000/25000 [==============================] - 2s 84us/step - loss: 0.2310 - acc: 0.9376 - val_loss: 0.3854 - val_acc: 0.8706\n",
            "Epoch 8/20\n",
            "25000/25000 [==============================] - 2s 84us/step - loss: 0.2269 - acc: 0.9368 - val_loss: 0.3970 - val_acc: 0.8653\n",
            "Epoch 9/20\n",
            "25000/25000 [==============================] - 2s 83us/step - loss: 0.2262 - acc: 0.9382 - val_loss: 0.3966 - val_acc: 0.8673\n",
            "Epoch 10/20\n",
            "25000/25000 [==============================] - 2s 83us/step - loss: 0.2213 - acc: 0.9406 - val_loss: 0.4098 - val_acc: 0.8672\n",
            "Epoch 11/20\n",
            "25000/25000 [==============================] - 2s 82us/step - loss: 0.2154 - acc: 0.9437 - val_loss: 0.3783 - val_acc: 0.8750\n",
            "Epoch 12/20\n",
            "25000/25000 [==============================] - 2s 83us/step - loss: 0.2151 - acc: 0.9450 - val_loss: 0.3811 - val_acc: 0.8752\n",
            "Epoch 13/20\n",
            "25000/25000 [==============================] - 2s 83us/step - loss: 0.2111 - acc: 0.9442 - val_loss: 0.3859 - val_acc: 0.8752\n",
            "Epoch 14/20\n",
            "25000/25000 [==============================] - 2s 84us/step - loss: 0.2097 - acc: 0.9443 - val_loss: 0.4013 - val_acc: 0.8692\n",
            "Epoch 15/20\n",
            "25000/25000 [==============================] - 2s 83us/step - loss: 0.2074 - acc: 0.9440 - val_loss: 0.3924 - val_acc: 0.8736\n",
            "Epoch 16/20\n",
            "25000/25000 [==============================] - 2s 82us/step - loss: 0.2034 - acc: 0.9474 - val_loss: 0.3961 - val_acc: 0.8730\n",
            "Epoch 17/20\n",
            "25000/25000 [==============================] - 2s 83us/step - loss: 0.2035 - acc: 0.9456 - val_loss: 0.4388 - val_acc: 0.8655\n",
            "Epoch 18/20\n",
            "25000/25000 [==============================] - 2s 82us/step - loss: 0.1981 - acc: 0.9487 - val_loss: 0.4295 - val_acc: 0.8618\n",
            "Epoch 19/20\n",
            "25000/25000 [==============================] - 2s 83us/step - loss: 0.2008 - acc: 0.9485 - val_loss: 0.4296 - val_acc: 0.8666\n",
            "Epoch 20/20\n",
            "25000/25000 [==============================] - 2s 83us/step - loss: 0.1940 - acc: 0.9514 - val_loss: 0.4286 - val_acc: 0.8634\n"
          ],
          "name": "stdout"
        }
      ]
    },
    {
      "cell_type": "code",
      "metadata": {
        "id": "jbvevrXwy-KQ",
        "colab": {
          "base_uri": "https://localhost:8080/",
          "height": 279
        },
        "outputId": "259d9591-c1d2-4e81-a31b-3b76aac20273"
      },
      "source": [
        "l2_model_val_loss = l2_model_hist.history['val_loss']\n",
        "\n",
        "plt.plot(epochs, original_val_loss, 'b+', label='Original model')\n",
        "plt.plot(epochs, l2_model_val_loss, 'bo', label='L2-regularized model')\n",
        "plt.xlabel('Epochs')\n",
        "plt.ylabel('Validation loss')\n",
        "plt.legend()\n",
        "\n",
        "plt.show()"
      ],
      "execution_count": null,
      "outputs": [
        {
          "output_type": "display_data",
          "data": {
            "image/png": "[encoded data removed]",
            "text/plain": [
              "<Figure size 432x288 with 1 Axes>"
            ]
          },
          "metadata": {
            "tags": [],
            "needs_background": "light"
          }
        }
      ]
    },
    {
      "cell_type": "markdown",
      "metadata": {
        "id": "eokyvQA-y-KT"
      },
      "source": [
        "\n",
        "\n",
        "As you can see, the model with L2 regularization (dots) has become much more resistant to overfitting than the reference model (crosses), \n",
        "even though both models have the same number of parameters.\n",
        "\n",
        "As alternatives to L2 regularization, you could use one of the following Keras weight regularizers:"
      ]
    },
    {
      "cell_type": "code",
      "metadata": {
        "id": "PxcxNO_Ty-KT",
        "colab": {
          "base_uri": "https://localhost:8080/",
          "height": 34
        },
        "outputId": "e33bafe9-0829-4d54-92b7-409455c94ab4"
      },
      "source": [
        "from keras import regularizers\n",
        "\n",
        "# L1 regularization\n",
        "regularizers.l1(0.001)\n",
        "\n",
        "# L1 and L2 regularization at the same time\n",
        "regularizers.l1_l2(l1=0.001, l2=0.001)"
      ],
      "execution_count": null,
      "outputs": [
        {
          "output_type": "execute_result",
          "data": {
            "text/plain": [
              "<keras.regularizers.L1L2 at 0x7faea7a967f0>"
            ]
          },
          "metadata": {
            "tags": []
          },
          "execution_count": 20
        }
      ]
    },
    {
      "cell_type": "code",
      "metadata": {
        "id": "Slh75v-2h3AY",
        "colab": {
          "base_uri": "https://localhost:8080/",
          "height": 1000
        },
        "outputId": "5d71f356-080c-4977-ba52-c98b0af0d5df"
      },
      "source": [
        "from keras import regularizers\n",
        "\n",
        "l1_model = models.Sequential()\n",
        "l1_model.add(layers.Dense(16, kernel_regularizer=regularizers.l1(0.001),\n",
        "                          activation='relu', input_shape=(10000,)))\n",
        "l1_model.add(layers.Dense(16, kernel_regularizer=regularizers.l1(0.001),\n",
        "                          activation='relu'))\n",
        "l1_model.add(layers.Dense(1, activation='sigmoid'))\n",
        "\n",
        "l1_model.compile(optimizer='rmsprop',\n",
        "                 loss='binary_crossentropy',\n",
        "                 metrics=['acc'])\n",
        "l1_model_hist = l1_model.fit(x_train, y_train,\n",
        "                             epochs=20,\n",
        "                             batch_size=512,\n",
        "                             validation_data=(x_test, y_test))\n",
        "l1_model_val_loss = l1_model_hist.history['val_loss']\n",
        "\n",
        "plt.plot(epochs, original_val_loss, 'b+', label='Original model')\n",
        "plt.plot(epochs, l1_model_val_loss, 'bo', label='L1-regularized model')\n",
        "plt.xlabel('Epochs')\n",
        "plt.ylabel('Validation loss')\n",
        "plt.legend()\n",
        "\n",
        "plt.show()"
      ],
      "execution_count": null,
      "outputs": [
        {
          "output_type": "stream",
          "text": [
            "Train on 25000 samples, validate on 25000 samples\n",
            "Epoch 1/20\n",
            "25000/25000 [==============================] - 2s 89us/step - loss: 0.9170 - acc: 0.7871 - val_loss: 0.6526 - val_acc: 0.8496\n",
            "Epoch 2/20\n",
            "25000/25000 [==============================] - 2s 84us/step - loss: 0.6176 - acc: 0.8502 - val_loss: 0.6017 - val_acc: 0.8480\n",
            "Epoch 3/20\n",
            "25000/25000 [==============================] - 2s 85us/step - loss: 0.5741 - acc: 0.8582 - val_loss: 0.5731 - val_acc: 0.8545\n",
            "Epoch 4/20\n",
            "25000/25000 [==============================] - 2s 85us/step - loss: 0.5510 - acc: 0.8635 - val_loss: 0.5466 - val_acc: 0.8651\n",
            "Epoch 5/20\n",
            "25000/25000 [==============================] - 2s 85us/step - loss: 0.5393 - acc: 0.8646 - val_loss: 0.5390 - val_acc: 0.8650\n",
            "Epoch 6/20\n",
            "25000/25000 [==============================] - 2s 86us/step - loss: 0.5270 - acc: 0.8704 - val_loss: 0.5258 - val_acc: 0.8676\n",
            "Epoch 7/20\n",
            "25000/25000 [==============================] - 2s 86us/step - loss: 0.5190 - acc: 0.8713 - val_loss: 0.5170 - val_acc: 0.8698\n",
            "Epoch 8/20\n",
            "25000/25000 [==============================] - 2s 87us/step - loss: 0.5119 - acc: 0.8750 - val_loss: 0.5253 - val_acc: 0.8637\n",
            "Epoch 9/20\n",
            "25000/25000 [==============================] - 2s 86us/step - loss: 0.5060 - acc: 0.8764 - val_loss: 0.5109 - val_acc: 0.8711\n",
            "Epoch 10/20\n",
            "25000/25000 [==============================] - 2s 86us/step - loss: 0.5065 - acc: 0.8745 - val_loss: 0.5136 - val_acc: 0.8679\n",
            "Epoch 11/20\n",
            "25000/25000 [==============================] - 2s 84us/step - loss: 0.4977 - acc: 0.8799 - val_loss: 0.5020 - val_acc: 0.8749\n",
            "Epoch 12/20\n",
            "25000/25000 [==============================] - 2s 85us/step - loss: 0.4953 - acc: 0.8798 - val_loss: 0.5032 - val_acc: 0.8739\n",
            "Epoch 13/20\n",
            "25000/25000 [==============================] - 2s 84us/step - loss: 0.4926 - acc: 0.8802 - val_loss: 0.4988 - val_acc: 0.8747\n",
            "Epoch 14/20\n",
            "25000/25000 [==============================] - 2s 85us/step - loss: 0.4863 - acc: 0.8810 - val_loss: 0.4990 - val_acc: 0.8764\n",
            "Epoch 15/20\n",
            "25000/25000 [==============================] - 2s 85us/step - loss: 0.4887 - acc: 0.8810 - val_loss: 0.4946 - val_acc: 0.8771\n",
            "Epoch 16/20\n",
            "25000/25000 [==============================] - 2s 84us/step - loss: 0.4823 - acc: 0.8833 - val_loss: 0.4962 - val_acc: 0.8760\n",
            "Epoch 17/20\n",
            "25000/25000 [==============================] - 2s 85us/step - loss: 0.4823 - acc: 0.8834 - val_loss: 0.4890 - val_acc: 0.8782\n",
            "Epoch 18/20\n",
            "25000/25000 [==============================] - 2s 85us/step - loss: 0.4771 - acc: 0.8860 - val_loss: 0.4886 - val_acc: 0.8785\n",
            "Epoch 19/20\n",
            "25000/25000 [==============================] - 2s 84us/step - loss: 0.4745 - acc: 0.8858 - val_loss: 0.5006 - val_acc: 0.8750\n",
            "Epoch 20/20\n",
            "25000/25000 [==============================] - 2s 84us/step - loss: 0.4728 - acc: 0.8882 - val_loss: 0.4856 - val_acc: 0.8788\n"
          ],
          "name": "stdout"
        },
        {
          "output_type": "display_data",
          "data": {
            "image/png": "[encoded data removed]",
            "text/plain": [
              "<Figure size 432x288 with 1 Axes>"
            ]
          },
          "metadata": {
            "tags": [],
            "needs_background": "light"
          }
        }
      ]
    },
    {
      "cell_type": "code",
      "metadata": {
        "id": "HyvxEwUzikqJ",
        "colab": {
          "base_uri": "https://localhost:8080/",
          "height": 388
        },
        "outputId": "481ad7b9-21f9-4774-a3b2-73bebd31a11a"
      },
      "source": [
        "plt.figure(figsize=(8,6))\n",
        "plt.plot(epochs, original_val_loss, 'b+', label='Original model')\n",
        "plt.plot(epochs, l1_model_val_loss, 'bo', label='L1-regularized model')\n",
        "plt.plot(epochs, l2_model_val_loss, 'b.', c='r', label='L2-regularized model')\n",
        "\n",
        "plt.xlabel('Epochs')\n",
        "plt.ylabel('Validation loss')\n",
        "plt.legend()\n",
        "\n",
        "plt.show()"
      ],
      "execution_count": null,
      "outputs": [
        {
          "output_type": "display_data",
          "data": {
            "image/png": "[encoded data removed]",
            "text/plain": [
              "<Figure size 576x432 with 1 Axes>"
            ]
          },
          "metadata": {
            "tags": [],
            "needs_background": "light"
          }
        }
      ]
    },
    {
      "cell_type": "markdown",
      "metadata": {
        "id": "Yisbktnly-KV"
      },
      "source": [
        "## Adding dropout\n",
        "\n",
        "\n",
        "Dropout is one of the most effective and most commonly used regularization techniques for neural networks, developed by Hinton and his \n",
        "students at the University of Toronto. Dropout, applied to a layer, consists of randomly \"dropping out\" (i.e. setting to zero) a number of \n",
        "output features of the layer during training. Let's say a given layer would normally have returned a vector `[0.2, 0.5, 1.3, 0.8, 1.1]` for a \n",
        "given input sample during training; after applying dropout, this vector will have a few zero entries distributed at random, e.g. `[0, 0.5, \n",
        "1.3, 0, 1.1]`. The \"dropout rate\" is the fraction of the features that are being zeroed-out; it is usually set between 0.2 and 0.5. At test \n",
        "time, no units are dropped out, and instead the layer's output values are scaled down by a factor equal to the dropout rate, so as to \n",
        "balance for the fact that more units are active than at training time.\n",
        "\n",
        "Consider a Numpy matrix containing the output of a layer, `layer_output`, of shape `(batch_size, features)`. At training time, we would be \n",
        "zero-ing out at random a fraction of the values in the matrix:"
      ]
    },
    {
      "cell_type": "code",
      "metadata": {
        "id": "18eK-1wVy-KW"
      },
      "source": [
        "# At training time: we drop out 50% of the units in the output\n",
        "# layer_output *= np.randint(0, high=2, size=layer_output.shape)"
      ],
      "execution_count": null,
      "outputs": []
    },
    {
      "cell_type": "markdown",
      "metadata": {
        "id": "2cCMziPMy-Ka"
      },
      "source": [
        "\n",
        "At test time, we would be scaling the output down by the dropout rate. Here we scale by 0.5 (because we were previous dropping half the \n",
        "units):"
      ]
    },
    {
      "cell_type": "code",
      "metadata": {
        "id": "dRSKJi1vy-Kb"
      },
      "source": [
        "# At test time:\n",
        "#layer_output *= 0.5"
      ],
      "execution_count": null,
      "outputs": []
    },
    {
      "cell_type": "markdown",
      "metadata": {
        "id": "1Ysoc3SKy-Ke"
      },
      "source": [
        "\n",
        "Note that this process can be implemented by doing both operations at training time and leaving the output unchanged at test time, which is \n",
        "often the way it is implemented in practice:"
      ]
    },
    {
      "cell_type": "code",
      "metadata": {
        "id": "Mx-onRddy-Kf"
      },
      "source": [
        "# At training time:\n",
        "#layer_output *= np.randint(0, high=2, size=layer_output.shape)\n",
        "# Note that we are scaling *up* rather scaling *down* in this case\n",
        "#layer_output /= 0.5"
      ],
      "execution_count": null,
      "outputs": []
    },
    {
      "cell_type": "markdown",
      "metadata": {
        "id": "T64B60FSy-Kh"
      },
      "source": [
        "\n",
        "This technique may seem strange and arbitrary. Why would this help reduce overfitting? Geoff Hinton has said that he was inspired, among \n",
        "other things, by a fraud prevention mechanism used by banks -- in his own words: _\"I went to my bank. The tellers kept changing and I asked \n",
        "one of them why. He said he didn’t know but they got moved around a lot. I figured it must be because it would require cooperation \n",
        "between employees to successfully defraud the bank. This made me realize that randomly removing a different subset of neurons on each \n",
        "example would prevent conspiracies and thus reduce overfitting\"_.\n",
        "\n",
        "The core idea is that introducing noise in the output values of a layer can break up happenstance patterns that are not significant (what \n",
        "Hinton refers to as \"conspiracies\"), which the network would start memorizing if no noise was present. \n",
        "\n",
        "In Keras you can introduce dropout in a network via the `Dropout` layer, which gets applied to the output of layer right before it, e.g.:"
      ]
    },
    {
      "cell_type": "code",
      "metadata": {
        "id": "YluhJMziy-Kh"
      },
      "source": [
        "# model.add(layers.Dropout(0.5))"
      ],
      "execution_count": null,
      "outputs": []
    },
    {
      "cell_type": "markdown",
      "metadata": {
        "id": "Ehfv-Xjcy-Kn"
      },
      "source": [
        "Let's add two `Dropout` layers in our IMDB network to see how well they do at reducing overfitting:"
      ]
    },
    {
      "cell_type": "markdown",
      "metadata": {
        "id": "H1AwrYXNkFXj"
      },
      "source": [
        "#觀察 dropout 的強度\n",
        "\n",
        "\n",
        "1.   ## 沒有 dropout 就是 original one, overfitting\n",
        "2.   ## dropout = 0.1 就是每次 10% neurons 不上陣，所以稍稍幫助\n",
        "3.   ## dropout = 0.9 就是每次有 90% neurons 不上陣，所以很有趣，看 train 會很緊張，但是 validation 有一直有長進\n",
        "4.   ## 回來觀察 50% \n",
        "\n"
      ]
    },
    {
      "cell_type": "code",
      "metadata": {
        "id": "EAJBrJhjy-Kq",
        "colab": {
          "base_uri": "https://localhost:8080/",
          "height": 740
        },
        "outputId": "f103c203-e6e9-4b14-a942-916717307b89"
      },
      "source": [
        "dpt_model = models.Sequential()\n",
        "dpt_model.add(layers.Dense(16, activation='relu', input_shape=(10000,)))\n",
        "#dpt_model.add(layers.Dropout(0.5))\n",
        "dpt_model.add(layers.Dense(16, activation='relu'))\n",
        "#dpt_model.add(layers.Dropout(0.5))\n",
        "dpt_model.add(layers.Dense(1, activation='sigmoid'))\n",
        "\n",
        "dpt_model.compile(optimizer='rmsprop',\n",
        "                  loss='binary_crossentropy',\n",
        "                  metrics=['acc'])\n",
        "dpt_model_hist = dpt_model.fit(x_train, y_train,\n",
        "                               epochs=20,\n",
        "                               batch_size=512,\n",
        "                               validation_data=(x_test, y_test))"
      ],
      "execution_count": null,
      "outputs": [
        {
          "output_type": "stream",
          "text": [
            "Train on 25000 samples, validate on 25000 samples\n",
            "Epoch 1/20\n",
            "25000/25000 [==============================] - 2s 87us/step - loss: 0.4543 - acc: 0.8130 - val_loss: 0.3659 - val_acc: 0.8501\n",
            "Epoch 2/20\n",
            "25000/25000 [==============================] - 2s 82us/step - loss: 0.2553 - acc: 0.9102 - val_loss: 0.2858 - val_acc: 0.8881\n",
            "Epoch 3/20\n",
            "25000/25000 [==============================] - 2s 81us/step - loss: 0.1951 - acc: 0.9308 - val_loss: 0.2841 - val_acc: 0.8876\n",
            "Epoch 4/20\n",
            "25000/25000 [==============================] - 2s 82us/step - loss: 0.1662 - acc: 0.9410 - val_loss: 0.3081 - val_acc: 0.8796\n",
            "Epoch 5/20\n",
            "25000/25000 [==============================] - 2s 81us/step - loss: 0.1403 - acc: 0.9507 - val_loss: 0.3208 - val_acc: 0.8776\n",
            "Epoch 6/20\n",
            "25000/25000 [==============================] - 2s 81us/step - loss: 0.1243 - acc: 0.9567 - val_loss: 0.3481 - val_acc: 0.8726\n",
            "Epoch 7/20\n",
            "25000/25000 [==============================] - 2s 83us/step - loss: 0.1090 - acc: 0.9617 - val_loss: 0.3630 - val_acc: 0.8729\n",
            "Epoch 8/20\n",
            "25000/25000 [==============================] - 2s 81us/step - loss: 0.0947 - acc: 0.9685 - val_loss: 0.3883 - val_acc: 0.8691\n",
            "Epoch 9/20\n",
            "25000/25000 [==============================] - 2s 82us/step - loss: 0.0820 - acc: 0.9729 - val_loss: 0.4239 - val_acc: 0.8643\n",
            "Epoch 10/20\n",
            "25000/25000 [==============================] - 2s 83us/step - loss: 0.0729 - acc: 0.9764 - val_loss: 0.4576 - val_acc: 0.8628\n",
            "Epoch 11/20\n",
            "25000/25000 [==============================] - 2s 81us/step - loss: 0.0621 - acc: 0.9811 - val_loss: 0.5176 - val_acc: 0.8560\n",
            "Epoch 12/20\n",
            "25000/25000 [==============================] - 2s 82us/step - loss: 0.0536 - acc: 0.9828 - val_loss: 0.5254 - val_acc: 0.8574\n",
            "Epoch 13/20\n",
            "25000/25000 [==============================] - 2s 81us/step - loss: 0.0470 - acc: 0.9859 - val_loss: 0.5516 - val_acc: 0.8568\n",
            "Epoch 14/20\n",
            "25000/25000 [==============================] - 2s 82us/step - loss: 0.0390 - acc: 0.9888 - val_loss: 0.6196 - val_acc: 0.8532\n",
            "Epoch 15/20\n",
            "25000/25000 [==============================] - 2s 82us/step - loss: 0.0341 - acc: 0.9899 - val_loss: 0.7538 - val_acc: 0.8416\n",
            "Epoch 16/20\n",
            "25000/25000 [==============================] - 2s 81us/step - loss: 0.0275 - acc: 0.9929 - val_loss: 0.6625 - val_acc: 0.8538\n",
            "Epoch 17/20\n",
            "25000/25000 [==============================] - 2s 82us/step - loss: 0.0238 - acc: 0.9938 - val_loss: 0.7275 - val_acc: 0.8509\n",
            "Epoch 18/20\n",
            "25000/25000 [==============================] - 2s 82us/step - loss: 0.0195 - acc: 0.9952 - val_loss: 0.8992 - val_acc: 0.8390\n",
            "Epoch 19/20\n",
            "25000/25000 [==============================] - 2s 81us/step - loss: 0.0158 - acc: 0.9964 - val_loss: 0.7895 - val_acc: 0.8508\n",
            "Epoch 20/20\n",
            "25000/25000 [==============================] - 2s 81us/step - loss: 0.0154 - acc: 0.9962 - val_loss: 0.8394 - val_acc: 0.8498\n"
          ],
          "name": "stdout"
        }
      ]
    },
    {
      "cell_type": "code",
      "metadata": {
        "id": "MVNRjcEJjS4c",
        "colab": {
          "base_uri": "https://localhost:8080/",
          "height": 740
        },
        "outputId": "0eff39d9-5288-4e55-ffcd-3825432ebcd0"
      },
      "source": [
        "dpt_model = models.Sequential()\n",
        "dpt_model.add(layers.Dense(16, activation='relu', input_shape=(10000,)))\n",
        "dpt_model.add(layers.Dropout(0.1))\n",
        "dpt_model.add(layers.Dense(16, activation='relu'))\n",
        "dpt_model.add(layers.Dropout(0.1))\n",
        "dpt_model.add(layers.Dense(1, activation='sigmoid'))\n",
        "\n",
        "dpt_model.compile(optimizer='rmsprop',\n",
        "                  loss='binary_crossentropy',\n",
        "                  metrics=['acc'])\n",
        "dpt_model_hist = dpt_model.fit(x_train, y_train,\n",
        "                               epochs=20,\n",
        "                               batch_size=512,\n",
        "                               validation_data=(x_test, y_test))"
      ],
      "execution_count": null,
      "outputs": [
        {
          "output_type": "stream",
          "text": [
            "Train on 25000 samples, validate on 25000 samples\n",
            "Epoch 1/20\n",
            "25000/25000 [==============================] - 2s 87us/step - loss: 0.5151 - acc: 0.7755 - val_loss: 0.3757 - val_acc: 0.8705\n",
            "Epoch 2/20\n",
            "25000/25000 [==============================] - 2s 83us/step - loss: 0.3188 - acc: 0.8852 - val_loss: 0.3124 - val_acc: 0.8787\n",
            "Epoch 3/20\n",
            "25000/25000 [==============================] - 2s 83us/step - loss: 0.2447 - acc: 0.9113 - val_loss: 0.2826 - val_acc: 0.8884\n",
            "Epoch 4/20\n",
            "25000/25000 [==============================] - 2s 83us/step - loss: 0.2006 - acc: 0.9290 - val_loss: 0.2871 - val_acc: 0.8860\n",
            "Epoch 5/20\n",
            "25000/25000 [==============================] - 2s 83us/step - loss: 0.1690 - acc: 0.9411 - val_loss: 0.3071 - val_acc: 0.8837\n",
            "Epoch 6/20\n",
            "25000/25000 [==============================] - 2s 83us/step - loss: 0.1464 - acc: 0.9488 - val_loss: 0.3189 - val_acc: 0.8805\n",
            "Epoch 7/20\n",
            "25000/25000 [==============================] - 2s 83us/step - loss: 0.1257 - acc: 0.9561 - val_loss: 0.3460 - val_acc: 0.8735\n",
            "Epoch 8/20\n",
            "25000/25000 [==============================] - 2s 83us/step - loss: 0.1075 - acc: 0.9636 - val_loss: 0.3691 - val_acc: 0.8748\n",
            "Epoch 9/20\n",
            "25000/25000 [==============================] - 2s 83us/step - loss: 0.0935 - acc: 0.9700 - val_loss: 0.4065 - val_acc: 0.8714\n",
            "Epoch 10/20\n",
            "25000/25000 [==============================] - 2s 83us/step - loss: 0.0826 - acc: 0.9724 - val_loss: 0.4305 - val_acc: 0.8648\n",
            "Epoch 11/20\n",
            "25000/25000 [==============================] - 2s 83us/step - loss: 0.0685 - acc: 0.9778 - val_loss: 0.4675 - val_acc: 0.8676\n",
            "Epoch 12/20\n",
            "25000/25000 [==============================] - 2s 83us/step - loss: 0.0604 - acc: 0.9804 - val_loss: 0.5025 - val_acc: 0.8658\n",
            "Epoch 13/20\n",
            "25000/25000 [==============================] - 2s 83us/step - loss: 0.0490 - acc: 0.9853 - val_loss: 0.5522 - val_acc: 0.8646\n",
            "Epoch 14/20\n",
            "25000/25000 [==============================] - 2s 84us/step - loss: 0.0404 - acc: 0.9876 - val_loss: 0.5911 - val_acc: 0.8630\n",
            "Epoch 15/20\n",
            "25000/25000 [==============================] - 2s 82us/step - loss: 0.0359 - acc: 0.9898 - val_loss: 0.6650 - val_acc: 0.8554\n",
            "Epoch 16/20\n",
            "25000/25000 [==============================] - 2s 82us/step - loss: 0.0304 - acc: 0.9907 - val_loss: 0.7268 - val_acc: 0.8609\n",
            "Epoch 17/20\n",
            "25000/25000 [==============================] - 2s 83us/step - loss: 0.0266 - acc: 0.9921 - val_loss: 0.7464 - val_acc: 0.8569\n",
            "Epoch 18/20\n",
            "25000/25000 [==============================] - 2s 82us/step - loss: 0.0223 - acc: 0.9938 - val_loss: 0.7684 - val_acc: 0.8592\n",
            "Epoch 19/20\n",
            "25000/25000 [==============================] - 2s 82us/step - loss: 0.0168 - acc: 0.9952 - val_loss: 0.8477 - val_acc: 0.8595\n",
            "Epoch 20/20\n",
            "25000/25000 [==============================] - 2s 82us/step - loss: 0.0169 - acc: 0.9952 - val_loss: 0.8922 - val_acc: 0.8574\n"
          ],
          "name": "stdout"
        }
      ]
    },
    {
      "cell_type": "code",
      "metadata": {
        "id": "uROJJ5PrjbJ8",
        "colab": {
          "base_uri": "https://localhost:8080/",
          "height": 740
        },
        "outputId": "87d42b74-de57-41af-8c8a-c2167d9eadcf"
      },
      "source": [
        "dpt_model = models.Sequential()\n",
        "dpt_model.add(layers.Dense(16, activation='relu', input_shape=(10000,)))\n",
        "dpt_model.add(layers.Dropout(0.9))\n",
        "dpt_model.add(layers.Dense(16, activation='relu'))\n",
        "dpt_model.add(layers.Dropout(0.9))\n",
        "dpt_model.add(layers.Dense(1, activation='sigmoid'))\n",
        "\n",
        "dpt_model.compile(optimizer='rmsprop',\n",
        "                  loss='binary_crossentropy',\n",
        "                  metrics=['acc'])\n",
        "dpt_model_hist = dpt_model.fit(x_train, y_train,\n",
        "                               epochs=20,\n",
        "                               batch_size=512,\n",
        "                               validation_data=(x_test, y_test))"
      ],
      "execution_count": null,
      "outputs": [
        {
          "output_type": "stream",
          "text": [
            "Train on 25000 samples, validate on 25000 samples\n",
            "Epoch 1/20\n",
            "25000/25000 [==============================] - 2s 87us/step - loss: 0.6997 - acc: 0.4993 - val_loss: 0.6930 - val_acc: 0.5128\n",
            "Epoch 2/20\n",
            "25000/25000 [==============================] - 2s 83us/step - loss: 0.6940 - acc: 0.5018 - val_loss: 0.6887 - val_acc: 0.6619\n",
            "Epoch 3/20\n",
            "25000/25000 [==============================] - 2s 82us/step - loss: 0.6920 - acc: 0.5041 - val_loss: 0.6860 - val_acc: 0.7056\n",
            "Epoch 4/20\n",
            "25000/25000 [==============================] - 2s 82us/step - loss: 0.6885 - acc: 0.5126 - val_loss: 0.6801 - val_acc: 0.7704\n",
            "Epoch 5/20\n",
            "25000/25000 [==============================] - 2s 82us/step - loss: 0.6865 - acc: 0.5124 - val_loss: 0.6720 - val_acc: 0.8032\n",
            "Epoch 6/20\n",
            "25000/25000 [==============================] - 2s 84us/step - loss: 0.6846 - acc: 0.5141 - val_loss: 0.6752 - val_acc: 0.8028\n",
            "Epoch 7/20\n",
            "25000/25000 [==============================] - 2s 83us/step - loss: 0.6826 - acc: 0.5158 - val_loss: 0.6694 - val_acc: 0.8192\n",
            "Epoch 8/20\n",
            "25000/25000 [==============================] - 2s 83us/step - loss: 0.6798 - acc: 0.5195 - val_loss: 0.6687 - val_acc: 0.8076\n",
            "Epoch 9/20\n",
            "25000/25000 [==============================] - 2s 83us/step - loss: 0.6793 - acc: 0.5202 - val_loss: 0.6602 - val_acc: 0.8227\n",
            "Epoch 10/20\n",
            "25000/25000 [==============================] - 2s 83us/step - loss: 0.6778 - acc: 0.5245 - val_loss: 0.6559 - val_acc: 0.8317\n",
            "Epoch 11/20\n",
            "25000/25000 [==============================] - 2s 83us/step - loss: 0.6782 - acc: 0.5254 - val_loss: 0.6564 - val_acc: 0.7984\n",
            "Epoch 12/20\n",
            "25000/25000 [==============================] - 2s 84us/step - loss: 0.6776 - acc: 0.5232 - val_loss: 0.6452 - val_acc: 0.8301\n",
            "Epoch 13/20\n",
            "25000/25000 [==============================] - 2s 82us/step - loss: 0.6785 - acc: 0.5277 - val_loss: 0.6489 - val_acc: 0.8210\n",
            "Epoch 14/20\n",
            "25000/25000 [==============================] - 2s 82us/step - loss: 0.6782 - acc: 0.5285 - val_loss: 0.6436 - val_acc: 0.8152\n",
            "Epoch 15/20\n",
            "25000/25000 [==============================] - 2s 83us/step - loss: 0.6770 - acc: 0.5336 - val_loss: 0.6346 - val_acc: 0.8242\n",
            "Epoch 16/20\n",
            "25000/25000 [==============================] - 2s 83us/step - loss: 0.6713 - acc: 0.5420 - val_loss: 0.6166 - val_acc: 0.8431\n",
            "Epoch 17/20\n",
            "25000/25000 [==============================] - 2s 82us/step - loss: 0.6762 - acc: 0.5393 - val_loss: 0.6268 - val_acc: 0.8276\n",
            "Epoch 18/20\n",
            "25000/25000 [==============================] - 2s 83us/step - loss: 0.6727 - acc: 0.5455 - val_loss: 0.6149 - val_acc: 0.8282\n",
            "Epoch 19/20\n",
            "25000/25000 [==============================] - 2s 82us/step - loss: 0.6717 - acc: 0.5479 - val_loss: 0.6150 - val_acc: 0.8272\n",
            "Epoch 20/20\n",
            "25000/25000 [==============================] - 2s 84us/step - loss: 0.6678 - acc: 0.5506 - val_loss: 0.6185 - val_acc: 0.8136\n"
          ],
          "name": "stdout"
        }
      ]
    },
    {
      "cell_type": "markdown",
      "metadata": {
        "id": "ed4pGDvIy-Kt"
      },
      "source": [
        "Let's plot the results:"
      ]
    },
    {
      "cell_type": "code",
      "metadata": {
        "id": "B8NPMQpOkAia",
        "colab": {
          "base_uri": "https://localhost:8080/",
          "height": 740
        },
        "outputId": "f79a9aac-67f6-4bd0-c560-a94335e901b0"
      },
      "source": [
        "dpt_model = models.Sequential()\n",
        "dpt_model.add(layers.Dense(16, activation='relu', input_shape=(10000,)))\n",
        "dpt_model.add(layers.Dropout(0.5))\n",
        "dpt_model.add(layers.Dense(16, activation='relu'))\n",
        "dpt_model.add(layers.Dropout(0.5))\n",
        "dpt_model.add(layers.Dense(1, activation='sigmoid'))\n",
        "\n",
        "dpt_model.compile(optimizer='rmsprop',\n",
        "                  loss='binary_crossentropy',\n",
        "                  metrics=['acc'])\n",
        "dpt_model_hist = dpt_model.fit(x_train, y_train,\n",
        "                               epochs=20,\n",
        "                               batch_size=512,\n",
        "                               validation_data=(x_test, y_test))"
      ],
      "execution_count": null,
      "outputs": [
        {
          "output_type": "stream",
          "text": [
            "Train on 25000 samples, validate on 25000 samples\n",
            "Epoch 1/20\n",
            "25000/25000 [==============================] - 2s 86us/step - loss: 0.5911 - acc: 0.6828 - val_loss: 0.4417 - val_acc: 0.8683\n",
            "Epoch 2/20\n",
            "25000/25000 [==============================] - 2s 83us/step - loss: 0.4423 - acc: 0.8136 - val_loss: 0.3407 - val_acc: 0.8845\n",
            "Epoch 3/20\n",
            "25000/25000 [==============================] - 2s 83us/step - loss: 0.3617 - acc: 0.8606 - val_loss: 0.2938 - val_acc: 0.8872\n",
            "Epoch 4/20\n",
            "25000/25000 [==============================] - 2s 82us/step - loss: 0.3085 - acc: 0.8872 - val_loss: 0.2779 - val_acc: 0.8910\n",
            "Epoch 5/20\n",
            "25000/25000 [==============================] - 2s 82us/step - loss: 0.2680 - acc: 0.9036 - val_loss: 0.2790 - val_acc: 0.8892\n",
            "Epoch 6/20\n",
            "25000/25000 [==============================] - 2s 81us/step - loss: 0.2379 - acc: 0.9161 - val_loss: 0.2911 - val_acc: 0.8889\n",
            "Epoch 7/20\n",
            "25000/25000 [==============================] - 2s 83us/step - loss: 0.2180 - acc: 0.9232 - val_loss: 0.3040 - val_acc: 0.8834\n",
            "Epoch 8/20\n",
            "25000/25000 [==============================] - 2s 83us/step - loss: 0.1986 - acc: 0.9306 - val_loss: 0.3213 - val_acc: 0.8860\n",
            "Epoch 9/20\n",
            "25000/25000 [==============================] - 2s 82us/step - loss: 0.1867 - acc: 0.9330 - val_loss: 0.3499 - val_acc: 0.8754\n",
            "Epoch 10/20\n",
            "25000/25000 [==============================] - 2s 82us/step - loss: 0.1766 - acc: 0.9374 - val_loss: 0.3588 - val_acc: 0.8830\n",
            "Epoch 11/20\n",
            "25000/25000 [==============================] - 2s 82us/step - loss: 0.1583 - acc: 0.9424 - val_loss: 0.3735 - val_acc: 0.8815\n",
            "Epoch 12/20\n",
            "25000/25000 [==============================] - 2s 83us/step - loss: 0.1558 - acc: 0.9444 - val_loss: 0.3933 - val_acc: 0.8800\n",
            "Epoch 13/20\n",
            "25000/25000 [==============================] - 2s 84us/step - loss: 0.1463 - acc: 0.9461 - val_loss: 0.4300 - val_acc: 0.8764\n",
            "Epoch 14/20\n",
            "25000/25000 [==============================] - 2s 84us/step - loss: 0.1450 - acc: 0.9479 - val_loss: 0.4509 - val_acc: 0.8756\n",
            "Epoch 15/20\n",
            "25000/25000 [==============================] - 2s 85us/step - loss: 0.1393 - acc: 0.9472 - val_loss: 0.4648 - val_acc: 0.8768\n",
            "Epoch 16/20\n",
            "25000/25000 [==============================] - 2s 82us/step - loss: 0.1314 - acc: 0.9513 - val_loss: 0.4774 - val_acc: 0.8715\n",
            "Epoch 17/20\n",
            "25000/25000 [==============================] - 2s 82us/step - loss: 0.1292 - acc: 0.9518 - val_loss: 0.4872 - val_acc: 0.8712\n",
            "Epoch 18/20\n",
            "25000/25000 [==============================] - 2s 84us/step - loss: 0.1273 - acc: 0.9524 - val_loss: 0.5260 - val_acc: 0.8732\n",
            "Epoch 19/20\n",
            "25000/25000 [==============================] - 2s 82us/step - loss: 0.1210 - acc: 0.9530 - val_loss: 0.5415 - val_acc: 0.8722\n",
            "Epoch 20/20\n",
            "25000/25000 [==============================] - 2s 82us/step - loss: 0.1245 - acc: 0.9556 - val_loss: 0.5581 - val_acc: 0.8745\n"
          ],
          "name": "stdout"
        }
      ]
    },
    {
      "cell_type": "code",
      "metadata": {
        "id": "0DHWew8uy-Kt",
        "colab": {
          "base_uri": "https://localhost:8080/",
          "height": 279
        },
        "outputId": "2778b6cd-60ba-4610-e118-30fabd2e1048"
      },
      "source": [
        "dpt_model_val_loss = dpt_model_hist.history['val_loss']\n",
        "\n",
        "plt.plot(epochs, original_val_loss, 'b+', label='Original model')\n",
        "plt.plot(epochs, dpt_model_val_loss, 'bo', label='Dropout-regularized model')\n",
        "plt.xlabel('Epochs')\n",
        "plt.ylabel('Validation loss')\n",
        "plt.legend()\n",
        "\n",
        "plt.show()"
      ],
      "execution_count": null,
      "outputs": [
        {
          "output_type": "display_data",
          "data": {
            "image/png": "[encoded data removed]",
            "text/plain": [
              "<Figure size 432x288 with 1 Axes>"
            ]
          },
          "metadata": {
            "tags": [],
            "needs_background": "light"
          }
        }
      ]
    },
    {
      "cell_type": "markdown",
      "metadata": {
        "id": "D9PlUoJay-Kw"
      },
      "source": [
        "\n",
        "Again, a clear improvement over the reference network.\n",
        "\n",
        "To recap: here the most common ways to prevent overfitting in neural networks:\n",
        "\n",
        "* Getting more training data.\n",
        "* Reducing the capacity of the network.\n",
        "* Adding weight regularization.\n",
        "* Adding dropout."
      ]
    }
  ]
}