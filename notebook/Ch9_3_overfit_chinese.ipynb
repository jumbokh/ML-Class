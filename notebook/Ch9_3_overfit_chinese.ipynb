{
  "nbformat": 4,
  "nbformat_minor": 0,
  "metadata": {
    "colab": {
      "name": "Ch9-3-overfit-chinese.ipynb",
      "provenance": [],
      "authorship_tag": "ABX9TyOBn4Jjh7pX5M86O+TEc+Ko",
      "include_colab_link": true
    },
    "kernelspec": {
      "name": "python3",
      "display_name": "Python 3"
    },
    "language_info": {
      "name": "python"
    }
  },
  "cells": [
    {
      "cell_type": "markdown",
      "metadata": {
        "id": "view-in-github",
        "colab_type": "text"
      },
      "source": [
        "<a href=\"https://colab.research.google.com/github/jumbokh/ML-Class/blob/main/notebook/Ch9_3_overfit_chinese.ipynb\" target=\"_parent\"><img src=\"https://colab.research.google.com/assets/colab-badge.svg\" alt=\"Open In Colab\"/></a>"
      ]
    },
    {
      "cell_type": "markdown",
      "metadata": {
        "id": "Y_2DaEUeT_mZ"
      },
      "source": [
        "### 解決過擬合問題"
      ]
    },
    {
      "cell_type": "code",
      "metadata": {
        "colab": {
          "base_uri": "https://localhost:8080/",
          "height": 205
        },
        "id": "ESEcKRtsS_0f",
        "outputId": "7ba2eb02-ee28-48a1-9a5b-b70a8cedab05"
      },
      "source": [
        "import pandas as pd\n",
        "import numpy as np\n",
        "import matplotlib.pyplot as plt\n",
        "import seaborn as sns\n",
        "%matplotlib inline\n",
        "plt.rcParams['font.sans-serif'] = ['DFKai-sb'] \n",
        "plt.rcParams['axes.unicode_minus'] = False\n",
        "%config InlineBackend.figure_format = 'retina'\n",
        "import warnings\n",
        "warnings.filterwarnings('ignore')\n",
        "\n",
        "# 資料載入\n",
        "df = pd.read_csv('titanic_train.csv')\n",
        "df = df.drop(['PassengerId', 'Name', 'Ticket', 'Cabin'], axis=1)\n",
        "# 欄位設定\n",
        "X_col_num = ['Age', 'SibSp', 'Parch', 'Fare']\n",
        "X_col_cat = ['Pclass', 'Sex', 'Embarked']\n",
        "X_cols = X_col_num + X_col_cat\n",
        "y_col = 'Survived'\n",
        "# 資料切割成訓練和測試集\n",
        "from sklearn.model_selection import train_test_split\n",
        "X = df[X_cols]\n",
        "y = df[y_col]\n",
        "X_train, X_test, y_train, y_test = train_test_split(X, y, \n",
        "                                                   test_size=0.33, random_state=42)\n",
        "df.head()"
      ],
      "execution_count": 12,
      "outputs": [
        {
          "output_type": "execute_result",
          "data": {
            "text/html": [
              "<div>\n",
              "<style scoped>\n",
              "    .dataframe tbody tr th:only-of-type {\n",
              "        vertical-align: middle;\n",
              "    }\n",
              "\n",
              "    .dataframe tbody tr th {\n",
              "        vertical-align: top;\n",
              "    }\n",
              "\n",
              "    .dataframe thead th {\n",
              "        text-align: right;\n",
              "    }\n",
              "</style>\n",
              "<table border=\"1\" class=\"dataframe\">\n",
              "  <thead>\n",
              "    <tr style=\"text-align: right;\">\n",
              "      <th></th>\n",
              "      <th>Survived</th>\n",
              "      <th>Pclass</th>\n",
              "      <th>Sex</th>\n",
              "      <th>Age</th>\n",
              "      <th>SibSp</th>\n",
              "      <th>Parch</th>\n",
              "      <th>Fare</th>\n",
              "      <th>Embarked</th>\n",
              "    </tr>\n",
              "  </thead>\n",
              "  <tbody>\n",
              "    <tr>\n",
              "      <th>0</th>\n",
              "      <td>0</td>\n",
              "      <td>3</td>\n",
              "      <td>male</td>\n",
              "      <td>22.0</td>\n",
              "      <td>1</td>\n",
              "      <td>0</td>\n",
              "      <td>7.2500</td>\n",
              "      <td>S</td>\n",
              "    </tr>\n",
              "    <tr>\n",
              "      <th>1</th>\n",
              "      <td>1</td>\n",
              "      <td>1</td>\n",
              "      <td>female</td>\n",
              "      <td>38.0</td>\n",
              "      <td>1</td>\n",
              "      <td>0</td>\n",
              "      <td>71.2833</td>\n",
              "      <td>C</td>\n",
              "    </tr>\n",
              "    <tr>\n",
              "      <th>2</th>\n",
              "      <td>1</td>\n",
              "      <td>3</td>\n",
              "      <td>female</td>\n",
              "      <td>26.0</td>\n",
              "      <td>0</td>\n",
              "      <td>0</td>\n",
              "      <td>7.9250</td>\n",
              "      <td>S</td>\n",
              "    </tr>\n",
              "    <tr>\n",
              "      <th>3</th>\n",
              "      <td>1</td>\n",
              "      <td>1</td>\n",
              "      <td>female</td>\n",
              "      <td>35.0</td>\n",
              "      <td>1</td>\n",
              "      <td>0</td>\n",
              "      <td>53.1000</td>\n",
              "      <td>S</td>\n",
              "    </tr>\n",
              "    <tr>\n",
              "      <th>4</th>\n",
              "      <td>0</td>\n",
              "      <td>3</td>\n",
              "      <td>male</td>\n",
              "      <td>35.0</td>\n",
              "      <td>0</td>\n",
              "      <td>0</td>\n",
              "      <td>8.0500</td>\n",
              "      <td>S</td>\n",
              "    </tr>\n",
              "  </tbody>\n",
              "</table>\n",
              "</div>"
            ],
            "text/plain": [
              "   Survived  Pclass     Sex   Age  SibSp  Parch     Fare Embarked\n",
              "0         0       3    male  22.0      1      0   7.2500        S\n",
              "1         1       1  female  38.0      1      0  71.2833        C\n",
              "2         1       3  female  26.0      0      0   7.9250        S\n",
              "3         1       1  female  35.0      1      0  53.1000        S\n",
              "4         0       3    male  35.0      0      0   8.0500        S"
            ]
          },
          "metadata": {
            "tags": []
          },
          "execution_count": 12
        }
      ]
    },
    {
      "cell_type": "code",
      "metadata": {
        "colab": {
          "base_uri": "https://localhost:8080/"
        },
        "id": "eX7yweQbULex",
        "outputId": "b626df0c-14f4-490e-e694-3837aa5be852"
      },
      "source": [
        "from sklearn.pipeline import make_pipeline\n",
        "from sklearn.impute import SimpleImputer\n",
        "from sklearn.preprocessing import OneHotEncoder\n",
        "from sklearn.compose import ColumnTransformer\n",
        "num_pl = make_pipeline(\n",
        "    SimpleImputer(strategy='median')\n",
        ")\n",
        "cat_pl = make_pipeline(\n",
        "    SimpleImputer(strategy='most_frequent'),\n",
        "    OneHotEncoder(sparse=False)\n",
        ")\n",
        "data_pl = ColumnTransformer([\n",
        "    ('num_pl', num_pl, X_col_num),\n",
        "    ('cat_pl', cat_pl, X_col_cat)    \n",
        "])\n",
        "data_pl.fit_transform(X_train)[:1]"
      ],
      "execution_count": 13,
      "outputs": [
        {
          "output_type": "execute_result",
          "data": {
            "text/plain": [
              "array([[54.    ,  0.    ,  0.    , 51.8625,  1.    ,  0.    ,  0.    ,\n",
              "         0.    ,  1.    ,  0.    ,  0.    ,  1.    ]])"
            ]
          },
          "metadata": {
            "tags": []
          },
          "execution_count": 13
        }
      ]
    },
    {
      "cell_type": "code",
      "metadata": {
        "colab": {
          "base_uri": "https://localhost:8080/"
        },
        "id": "4XepC7iEUOrh",
        "outputId": "c1371025-8a36-484b-d00e-4b40cd50b3e5"
      },
      "source": [
        "from sklearn.tree import DecisionTreeClassifier\n",
        "from sklearn.metrics import confusion_matrix, accuracy_score\n",
        "model_pl_tree = make_pipeline(data_pl, \n",
        "                              DecisionTreeClassifier(random_state=42))\n",
        "model_pl_tree.fit(X_train, y_train)\n",
        "y_pred = model_pl_tree.predict(X_train)\n",
        "print('正確率：', accuracy_score(y_train, y_pred).round(2))\n",
        "print('混亂矩陣')\n",
        "print(confusion_matrix(y_train, y_pred))"
      ],
      "execution_count": 14,
      "outputs": [
        {
          "output_type": "stream",
          "text": [
            "正確率： 0.98\n",
            "混亂矩陣\n",
            "[[373   1]\n",
            " [ 11 211]]\n"
          ],
          "name": "stdout"
        }
      ]
    },
    {
      "cell_type": "markdown",
      "metadata": {
        "id": "kzCGwAoQUR5B"
      },
      "source": [
        "### 決策樹深度為 4"
      ]
    },
    {
      "cell_type": "code",
      "metadata": {
        "colab": {
          "base_uri": "https://localhost:8080/"
        },
        "id": "RqmD9-W9UX3p",
        "outputId": "4d3d9b7a-bdec-4008-cc71-b4687fbf212a"
      },
      "source": [
        "model_pl_tree = make_pipeline(\n",
        "    data_pl, \n",
        "    DecisionTreeClassifier(max_depth=4, random_state=42)\n",
        ")\n",
        "model_pl_tree.fit(X_train, y_train)\n",
        "print('「訓練集」的正確率：', model_pl_tree.score(X_train, y_train).round(2))\n",
        "print('「測試集」的正確率：', model_pl_tree.score(X_test, y_test).round(2))"
      ],
      "execution_count": 15,
      "outputs": [
        {
          "output_type": "stream",
          "text": [
            "「訓練集」的正確率： 0.84\n",
            "「測試集」的正確率： 0.81\n"
          ],
          "name": "stdout"
        }
      ]
    },
    {
      "cell_type": "markdown",
      "metadata": {
        "id": "eUjetEylWUzT"
      },
      "source": [
        "### 解決 matplotlib 中文問題"
      ]
    },
    {
      "cell_type": "code",
      "metadata": {
        "colab": {
          "base_uri": "https://localhost:8080/"
        },
        "id": "1gAhG9hQWbqV",
        "outputId": "bb7cf2d0-29b9-44c7-ba24-12fd54273018"
      },
      "source": [
        "# Colab 進行matplotlib繪圖時顯示繁體中文\n",
        "# 下載台北思源黑體並命名taipei_sans_tc_beta.ttf，移至指定路徑\n",
        "!wget -O taipei_sans_tc_beta.ttf https://drive.google.com/uc?id=1eGAsTN1HBpJAkeVM57_C7ccp7hbgSz3_&export=download\n",
        "!mv taipei_sans_tc_beta.ttf /usr/local/lib/python3.7/dist-packages/matplotlib//mpl-data/fonts/ttf\n",
        "\n",
        "from matplotlib.font_manager import FontProperties\n",
        "import matplotlib.pyplot as plt \n",
        "\n",
        "# 自定義字體變數\n",
        "myfont = FontProperties(fname=r'/usr/local/lib/python3.7/dist-packages/matplotlib/mpl-data/fonts/ttf/taipei_sans_tc_beta.ttf')\n",
        "\n",
        "# !!!!後續在相關函式中增加fontproperties=myfont屬性即可!!!!"
      ],
      "execution_count": 16,
      "outputs": [
        {
          "output_type": "stream",
          "text": [
            "--2021-06-11 14:29:28--  https://drive.google.com/uc?id=1eGAsTN1HBpJAkeVM57_C7ccp7hbgSz3_\n",
            "Resolving drive.google.com (drive.google.com)... 74.125.195.139, 74.125.195.101, 74.125.195.100, ...\n",
            "Connecting to drive.google.com (drive.google.com)|74.125.195.139|:443... connected.\n",
            "HTTP request sent, awaiting response... 302 Moved Temporarily\n",
            "Location: https://doc-0k-9o-docs.googleusercontent.com/docs/securesc/ha0ro937gcuc7l7deffksulhg5h7mbp1/c87r4mgnlpqralibuun7f8ot92hjhr2j/1623421725000/02847987870453524430/*/1eGAsTN1HBpJAkeVM57_C7ccp7hbgSz3_ [following]\n",
            "Warning: wildcards not supported in HTTP.\n",
            "--2021-06-11 14:29:29--  https://doc-0k-9o-docs.googleusercontent.com/docs/securesc/ha0ro937gcuc7l7deffksulhg5h7mbp1/c87r4mgnlpqralibuun7f8ot92hjhr2j/1623421725000/02847987870453524430/*/1eGAsTN1HBpJAkeVM57_C7ccp7hbgSz3_\n",
            "Resolving doc-0k-9o-docs.googleusercontent.com (doc-0k-9o-docs.googleusercontent.com)... 74.125.195.132, 2607:f8b0:400e:c09::84\n",
            "Connecting to doc-0k-9o-docs.googleusercontent.com (doc-0k-9o-docs.googleusercontent.com)|74.125.195.132|:443... connected.\n",
            "HTTP request sent, awaiting response... 200 OK\n",
            "Length: unspecified [application/x-font-ttf]\n",
            "Saving to: ‘taipei_sans_tc_beta.ttf’\n",
            "\n",
            "taipei_sans_tc_beta     [  <=>               ]  19.70M  58.5MB/s    in 0.3s    \n",
            "\n",
            "2021-06-11 14:29:30 (58.5 MB/s) - ‘taipei_sans_tc_beta.ttf’ saved [20659344]\n",
            "\n"
          ],
          "name": "stdout"
        }
      ]
    },
    {
      "cell_type": "code",
      "metadata": {
        "colab": {
          "base_uri": "https://localhost:8080/"
        },
        "id": "5FTz58VDasBc",
        "outputId": "167f717d-5744-464c-e8f5-1848916ae226"
      },
      "source": [
        "import matplotlib.font_manager\n",
        " \n",
        "a = sorted([f.name for f in matplotlib.font_manager.fontManager.ttflist])\n",
        " \n",
        "for i in a:\n",
        "    print(i)"
      ],
      "execution_count": 17,
      "outputs": [
        {
          "output_type": "stream",
          "text": [
            "DejaVu Sans\n",
            "DejaVu Sans\n",
            "DejaVu Sans\n",
            "DejaVu Sans\n",
            "DejaVu Sans Display\n",
            "DejaVu Sans Mono\n",
            "DejaVu Sans Mono\n",
            "DejaVu Sans Mono\n",
            "DejaVu Sans Mono\n",
            "DejaVu Serif\n",
            "DejaVu Serif\n",
            "DejaVu Serif\n",
            "DejaVu Serif\n",
            "DejaVu Serif Display\n",
            "Humor Sans\n",
            "Liberation Mono\n",
            "Liberation Mono\n",
            "Liberation Mono\n",
            "Liberation Mono\n",
            "Liberation Sans\n",
            "Liberation Sans\n",
            "Liberation Sans\n",
            "Liberation Sans\n",
            "Liberation Sans Narrow\n",
            "Liberation Sans Narrow\n",
            "Liberation Sans Narrow\n",
            "Liberation Sans Narrow\n",
            "Liberation Serif\n",
            "Liberation Serif\n",
            "Liberation Serif\n",
            "Liberation Serif\n",
            "STIXGeneral\n",
            "STIXGeneral\n",
            "STIXGeneral\n",
            "STIXGeneral\n",
            "STIXNonUnicode\n",
            "STIXNonUnicode\n",
            "STIXNonUnicode\n",
            "STIXNonUnicode\n",
            "STIXSizeFiveSym\n",
            "STIXSizeFourSym\n",
            "STIXSizeFourSym\n",
            "STIXSizeOneSym\n",
            "STIXSizeOneSym\n",
            "STIXSizeThreeSym\n",
            "STIXSizeThreeSym\n",
            "STIXSizeTwoSym\n",
            "STIXSizeTwoSym\n",
            "cmb10\n",
            "cmex10\n",
            "cmmi10\n",
            "cmr10\n",
            "cmss10\n",
            "cmsy10\n",
            "cmtt10\n"
          ],
          "name": "stdout"
        }
      ]
    },
    {
      "cell_type": "code",
      "metadata": {
        "colab": {
          "base_uri": "https://localhost:8080/"
        },
        "id": "E4-rUTaCbyRl",
        "outputId": "9d1cfad7-54cc-4797-e4a3-05d8c22acfa0"
      },
      "source": [
        "print(plt.rcParams.keys())"
      ],
      "execution_count": 18,
      "outputs": [
        {
          "output_type": "stream",
          "text": [
            "KeysView(RcParams({'_internal.classic_mode': False,\n",
            "          'agg.path.chunksize': 0,\n",
            "          'animation.avconv_args': [],\n",
            "          'animation.avconv_path': 'avconv',\n",
            "          'animation.bitrate': -1,\n",
            "          'animation.codec': 'h264',\n",
            "          'animation.convert_args': [],\n",
            "          'animation.convert_path': 'convert',\n",
            "          'animation.embed_limit': 20.0,\n",
            "          'animation.ffmpeg_args': [],\n",
            "          'animation.ffmpeg_path': 'ffmpeg',\n",
            "          'animation.frame_format': 'png',\n",
            "          'animation.html': 'none',\n",
            "          'animation.html_args': [],\n",
            "          'animation.writer': 'ffmpeg',\n",
            "          'axes.autolimit_mode': 'data',\n",
            "          'axes.axisbelow': 'line',\n",
            "          'axes.edgecolor': 'black',\n",
            "          'axes.facecolor': 'white',\n",
            "          'axes.formatter.limits': [-5, 6],\n",
            "          'axes.formatter.min_exponent': 0,\n",
            "          'axes.formatter.offset_threshold': 4,\n",
            "          'axes.formatter.use_locale': False,\n",
            "          'axes.formatter.use_mathtext': False,\n",
            "          'axes.formatter.useoffset': True,\n",
            "          'axes.grid': False,\n",
            "          'axes.grid.axis': 'both',\n",
            "          'axes.grid.which': 'major',\n",
            "          'axes.labelcolor': 'black',\n",
            "          'axes.labelpad': 4.0,\n",
            "          'axes.labelsize': 'medium',\n",
            "          'axes.labelweight': 'normal',\n",
            "          'axes.linewidth': 0.8,\n",
            "          'axes.prop_cycle': cycler('color', ['#1f77b4', '#ff7f0e', '#2ca02c', '#d62728', '#9467bd', '#8c564b', '#e377c2', '#7f7f7f', '#bcbd22', '#17becf']),\n",
            "          'axes.spines.bottom': True,\n",
            "          'axes.spines.left': True,\n",
            "          'axes.spines.right': True,\n",
            "          'axes.spines.top': True,\n",
            "          'axes.titlecolor': 'auto',\n",
            "          'axes.titlelocation': 'center',\n",
            "          'axes.titlepad': 6.0,\n",
            "          'axes.titlesize': 'large',\n",
            "          'axes.titleweight': 'normal',\n",
            "          'axes.unicode_minus': False,\n",
            "          'axes.xmargin': 0.05,\n",
            "          'axes.ymargin': 0.05,\n",
            "          'axes3d.grid': True,\n",
            "          'backend': 'module://ipykernel.pylab.backend_inline',\n",
            "          'backend_fallback': True,\n",
            "          'boxplot.bootstrap': None,\n",
            "          'boxplot.boxprops.color': 'black',\n",
            "          'boxplot.boxprops.linestyle': '-',\n",
            "          'boxplot.boxprops.linewidth': 1.0,\n",
            "          'boxplot.capprops.color': 'black',\n",
            "          'boxplot.capprops.linestyle': '-',\n",
            "          'boxplot.capprops.linewidth': 1.0,\n",
            "          'boxplot.flierprops.color': 'black',\n",
            "          'boxplot.flierprops.linestyle': 'none',\n",
            "          'boxplot.flierprops.linewidth': 1.0,\n",
            "          'boxplot.flierprops.marker': 'o',\n",
            "          'boxplot.flierprops.markeredgecolor': 'black',\n",
            "          'boxplot.flierprops.markeredgewidth': 1.0,\n",
            "          'boxplot.flierprops.markerfacecolor': 'none',\n",
            "          'boxplot.flierprops.markersize': 6.0,\n",
            "          'boxplot.meanline': False,\n",
            "          'boxplot.meanprops.color': 'C2',\n",
            "          'boxplot.meanprops.linestyle': '--',\n",
            "          'boxplot.meanprops.linewidth': 1.0,\n",
            "          'boxplot.meanprops.marker': '^',\n",
            "          'boxplot.meanprops.markeredgecolor': 'C2',\n",
            "          'boxplot.meanprops.markerfacecolor': 'C2',\n",
            "          'boxplot.meanprops.markersize': 6.0,\n",
            "          'boxplot.medianprops.color': 'C1',\n",
            "          'boxplot.medianprops.linestyle': '-',\n",
            "          'boxplot.medianprops.linewidth': 1.0,\n",
            "          'boxplot.notch': False,\n",
            "          'boxplot.patchartist': False,\n",
            "          'boxplot.showbox': True,\n",
            "          'boxplot.showcaps': True,\n",
            "          'boxplot.showfliers': True,\n",
            "          'boxplot.showmeans': False,\n",
            "          'boxplot.vertical': True,\n",
            "          'boxplot.whiskerprops.color': 'black',\n",
            "          'boxplot.whiskerprops.linestyle': '-',\n",
            "          'boxplot.whiskerprops.linewidth': 1.0,\n",
            "          'boxplot.whiskers': 1.5,\n",
            "          'contour.corner_mask': True,\n",
            "          'contour.negative_linestyle': 'dashed',\n",
            "          'datapath': '/usr/local/lib/python3.7/dist-packages/matplotlib/mpl-data',\n",
            "          'date.autoformatter.day': '%Y-%m-%d',\n",
            "          'date.autoformatter.hour': '%m-%d %H',\n",
            "          'date.autoformatter.microsecond': '%M:%S.%f',\n",
            "          'date.autoformatter.minute': '%d %H:%M',\n",
            "          'date.autoformatter.month': '%Y-%m',\n",
            "          'date.autoformatter.second': '%H:%M:%S',\n",
            "          'date.autoformatter.year': '%Y',\n",
            "          'docstring.hardcopy': False,\n",
            "          'errorbar.capsize': 0.0,\n",
            "          'figure.autolayout': False,\n",
            "          'figure.constrained_layout.h_pad': 0.04167,\n",
            "          'figure.constrained_layout.hspace': 0.02,\n",
            "          'figure.constrained_layout.use': False,\n",
            "          'figure.constrained_layout.w_pad': 0.04167,\n",
            "          'figure.constrained_layout.wspace': 0.02,\n",
            "          'figure.dpi': 72.0,\n",
            "          'figure.edgecolor': (1, 1, 1, 0),\n",
            "          'figure.facecolor': (1, 1, 1, 0),\n",
            "          'figure.figsize': [6.0, 4.0],\n",
            "          'figure.frameon': True,\n",
            "          'figure.max_open_warning': 20,\n",
            "          'figure.subplot.bottom': 0.125,\n",
            "          'figure.subplot.hspace': 0.2,\n",
            "          'figure.subplot.left': 0.125,\n",
            "          'figure.subplot.right': 0.9,\n",
            "          'figure.subplot.top': 0.88,\n",
            "          'figure.subplot.wspace': 0.2,\n",
            "          'figure.titlesize': 'large',\n",
            "          'figure.titleweight': 'normal',\n",
            "          'font.cursive': ['Apple Chancery',\n",
            "                           'Textile',\n",
            "                           'Zapf Chancery',\n",
            "                           'Sand',\n",
            "                           'Script MT',\n",
            "                           'Felipa',\n",
            "                           'cursive'],\n",
            "          'font.family': ['sans-serif'],\n",
            "          'font.fantasy': ['Comic Neue',\n",
            "                           'Comic Sans MS',\n",
            "                           'Chicago',\n",
            "                           'Charcoal',\n",
            "                           'Impact',\n",
            "                           'Western',\n",
            "                           'Humor Sans',\n",
            "                           'xkcd',\n",
            "                           'fantasy'],\n",
            "          'font.monospace': ['DejaVu Sans Mono',\n",
            "                             'Bitstream Vera Sans Mono',\n",
            "                             'Computer Modern Typewriter',\n",
            "                             'Andale Mono',\n",
            "                             'Nimbus Mono L',\n",
            "                             'Courier New',\n",
            "                             'Courier',\n",
            "                             'Fixed',\n",
            "                             'Terminal',\n",
            "                             'monospace'],\n",
            "          'font.sans-serif': ['DFKai-sb'],\n",
            "          'font.serif': ['DejaVu Serif',\n",
            "                         'Bitstream Vera Serif',\n",
            "                         'Computer Modern Roman',\n",
            "                         'New Century Schoolbook',\n",
            "                         'Century Schoolbook L',\n",
            "                         'Utopia',\n",
            "                         'ITC Bookman',\n",
            "                         'Bookman',\n",
            "                         'Nimbus Roman No9 L',\n",
            "                         'Times New Roman',\n",
            "                         'Times',\n",
            "                         'Palatino',\n",
            "                         'Charter',\n",
            "                         'serif',\n",
            "                         'Taipei Sans TC Beta'],\n",
            "          'font.size': 10.0,\n",
            "          'font.stretch': 'normal',\n",
            "          'font.style': 'normal',\n",
            "          'font.variant': 'normal',\n",
            "          'font.weight': 'normal',\n",
            "          'grid.alpha': 1.0,\n",
            "          'grid.color': '#b0b0b0',\n",
            "          'grid.linestyle': '-',\n",
            "          'grid.linewidth': 0.8,\n",
            "          'hatch.color': 'black',\n",
            "          'hatch.linewidth': 1.0,\n",
            "          'hist.bins': 10,\n",
            "          'image.aspect': 'equal',\n",
            "          'image.cmap': 'viridis',\n",
            "          'image.composite_image': True,\n",
            "          'image.interpolation': 'antialiased',\n",
            "          'image.lut': 256,\n",
            "          'image.origin': 'upper',\n",
            "          'image.resample': True,\n",
            "          'interactive': True,\n",
            "          'keymap.all_axes': ['a'],\n",
            "          'keymap.back': ['left', 'c', 'backspace', 'MouseButton.BACK'],\n",
            "          'keymap.copy': ['ctrl+c', 'cmd+c'],\n",
            "          'keymap.forward': ['right', 'v', 'MouseButton.FORWARD'],\n",
            "          'keymap.fullscreen': ['f', 'ctrl+f'],\n",
            "          'keymap.grid': ['g'],\n",
            "          'keymap.grid_minor': ['G'],\n",
            "          'keymap.help': ['f1'],\n",
            "          'keymap.home': ['h', 'r', 'home'],\n",
            "          'keymap.pan': ['p'],\n",
            "          'keymap.quit': ['ctrl+w', 'cmd+w', 'q'],\n",
            "          'keymap.quit_all': ['W', 'cmd+W', 'Q'],\n",
            "          'keymap.save': ['s', 'ctrl+s'],\n",
            "          'keymap.xscale': ['k', 'L'],\n",
            "          'keymap.yscale': ['l'],\n",
            "          'keymap.zoom': ['o'],\n",
            "          'legend.borderaxespad': 0.5,\n",
            "          'legend.borderpad': 0.4,\n",
            "          'legend.columnspacing': 2.0,\n",
            "          'legend.edgecolor': '0.8',\n",
            "          'legend.facecolor': 'inherit',\n",
            "          'legend.fancybox': True,\n",
            "          'legend.fontsize': 'medium',\n",
            "          'legend.framealpha': 0.8,\n",
            "          'legend.frameon': True,\n",
            "          'legend.handleheight': 0.7,\n",
            "          'legend.handlelength': 2.0,\n",
            "          'legend.handletextpad': 0.8,\n",
            "          'legend.labelspacing': 0.5,\n",
            "          'legend.loc': 'best',\n",
            "          'legend.markerscale': 1.0,\n",
            "          'legend.numpoints': 1,\n",
            "          'legend.scatterpoints': 1,\n",
            "          'legend.shadow': False,\n",
            "          'legend.title_fontsize': None,\n",
            "          'lines.antialiased': True,\n",
            "          'lines.color': 'C0',\n",
            "          'lines.dash_capstyle': 'butt',\n",
            "          'lines.dash_joinstyle': 'round',\n",
            "          'lines.dashdot_pattern': [6.4, 1.6, 1.0, 1.6],\n",
            "          'lines.dashed_pattern': [3.7, 1.6],\n",
            "          'lines.dotted_pattern': [1.0, 1.65],\n",
            "          'lines.linestyle': '-',\n",
            "          'lines.linewidth': 1.5,\n",
            "          'lines.marker': 'None',\n",
            "          'lines.markeredgecolor': 'auto',\n",
            "          'lines.markeredgewidth': 1.0,\n",
            "          'lines.markerfacecolor': 'auto',\n",
            "          'lines.markersize': 6.0,\n",
            "          'lines.scale_dashes': True,\n",
            "          'lines.solid_capstyle': 'projecting',\n",
            "          'lines.solid_joinstyle': 'round',\n",
            "          'markers.fillstyle': 'full',\n",
            "          'mathtext.bf': 'sans:bold',\n",
            "          'mathtext.cal': 'cursive',\n",
            "          'mathtext.default': 'it',\n",
            "          'mathtext.fallback_to_cm': True,\n",
            "          'mathtext.fontset': 'dejavusans',\n",
            "          'mathtext.it': 'sans:italic',\n",
            "          'mathtext.rm': 'sans',\n",
            "          'mathtext.sf': 'sans',\n",
            "          'mathtext.tt': 'monospace',\n",
            "          'mpl_toolkits.legacy_colorbar': True,\n",
            "          'patch.antialiased': True,\n",
            "          'patch.edgecolor': 'black',\n",
            "          'patch.facecolor': 'C0',\n",
            "          'patch.force_edgecolor': False,\n",
            "          'patch.linewidth': 1.0,\n",
            "          'path.effects': [],\n",
            "          'path.simplify': True,\n",
            "          'path.simplify_threshold': 0.1111111111111111,\n",
            "          'path.sketch': None,\n",
            "          'path.snap': True,\n",
            "          'pdf.compression': 6,\n",
            "          'pdf.fonttype': 3,\n",
            "          'pdf.inheritcolor': False,\n",
            "          'pdf.use14corefonts': False,\n",
            "          'pgf.preamble': '',\n",
            "          'pgf.rcfonts': True,\n",
            "          'pgf.texsystem': 'xelatex',\n",
            "          'polaraxes.grid': True,\n",
            "          'ps.distiller.res': 6000,\n",
            "          'ps.fonttype': 3,\n",
            "          'ps.papersize': 'letter',\n",
            "          'ps.useafm': False,\n",
            "          'ps.usedistiller': None,\n",
            "          'savefig.bbox': None,\n",
            "          'savefig.directory': '~',\n",
            "          'savefig.dpi': 'figure',\n",
            "          'savefig.edgecolor': 'white',\n",
            "          'savefig.facecolor': 'white',\n",
            "          'savefig.format': 'png',\n",
            "          'savefig.frameon': True,\n",
            "          'savefig.jpeg_quality': 95,\n",
            "          'savefig.orientation': 'portrait',\n",
            "          'savefig.pad_inches': 0.1,\n",
            "          'savefig.transparent': False,\n",
            "          'scatter.edgecolors': 'face',\n",
            "          'scatter.marker': 'o',\n",
            "          'svg.fonttype': 'path',\n",
            "          'svg.hashsalt': None,\n",
            "          'svg.image_inline': True,\n",
            "          'text.antialiased': True,\n",
            "          'text.color': 'black',\n",
            "          'text.hinting': 'auto',\n",
            "          'text.hinting_factor': 8,\n",
            "          'text.kerning_factor': 0,\n",
            "          'text.latex.preamble': '',\n",
            "          'text.latex.preview': False,\n",
            "          'text.latex.unicode': True,\n",
            "          'text.usetex': False,\n",
            "          'timezone': 'UTC',\n",
            "          'tk.window_focus': False,\n",
            "          'toolbar': 'toolbar2',\n",
            "          'verbose.fileo': 'sys.stdout',\n",
            "          'verbose.level': 'silent',\n",
            "          'webagg.address': '127.0.0.1',\n",
            "          'webagg.open_in_browser': True,\n",
            "          'webagg.port': 8988,\n",
            "          'webagg.port_retries': 50,\n",
            "          'xtick.alignment': 'center',\n",
            "          'xtick.bottom': True,\n",
            "          'xtick.color': 'black',\n",
            "          'xtick.direction': 'out',\n",
            "          'xtick.labelbottom': True,\n",
            "          'xtick.labelsize': 'medium',\n",
            "          'xtick.labeltop': False,\n",
            "          'xtick.major.bottom': True,\n",
            "          'xtick.major.pad': 3.5,\n",
            "          'xtick.major.size': 3.5,\n",
            "          'xtick.major.top': True,\n",
            "          'xtick.major.width': 0.8,\n",
            "          'xtick.minor.bottom': True,\n",
            "          'xtick.minor.pad': 3.4,\n",
            "          'xtick.minor.size': 2.0,\n",
            "          'xtick.minor.top': True,\n",
            "          'xtick.minor.visible': False,\n",
            "          'xtick.minor.width': 0.6,\n",
            "          'xtick.top': False,\n",
            "          'ytick.alignment': 'center_baseline',\n",
            "          'ytick.color': 'black',\n",
            "          'ytick.direction': 'out',\n",
            "          'ytick.labelleft': True,\n",
            "          'ytick.labelright': False,\n",
            "          'ytick.labelsize': 'medium',\n",
            "          'ytick.left': True,\n",
            "          'ytick.major.left': True,\n",
            "          'ytick.major.pad': 3.5,\n",
            "          'ytick.major.right': True,\n",
            "          'ytick.major.size': 3.5,\n",
            "          'ytick.major.width': 0.8,\n",
            "          'ytick.minor.left': True,\n",
            "          'ytick.minor.pad': 3.4,\n",
            "          'ytick.minor.right': True,\n",
            "          'ytick.minor.size': 2.0,\n",
            "          'ytick.minor.visible': False,\n",
            "          'ytick.minor.width': 0.6,\n",
            "          'ytick.right': False}))\n"
          ],
          "name": "stdout"
        }
      ]
    },
    {
      "cell_type": "code",
      "metadata": {
        "colab": {
          "base_uri": "https://localhost:8080/"
        },
        "id": "atNajCXja-W_",
        "outputId": "713e4d24-0ad9-42e2-f921-299644b7b6ac"
      },
      "source": [
        "plt.rcParams['font.sans-serif'] = ['Taipei Sans TC Beta']\n",
        "plt.rcParams['font.serif'].append('Taipei Sans TC Beta')\n",
        "print(plt.rcParams['font.serif'])"
      ],
      "execution_count": 19,
      "outputs": [
        {
          "output_type": "stream",
          "text": [
            "['DejaVu Serif', 'Bitstream Vera Serif', 'Computer Modern Roman', 'New Century Schoolbook', 'Century Schoolbook L', 'Utopia', 'ITC Bookman', 'Bookman', 'Nimbus Roman No9 L', 'Times New Roman', 'Times', 'Palatino', 'Charter', 'serif', 'Taipei Sans TC Beta', 'Taipei Sans TC Beta']\n"
          ],
          "name": "stdout"
        }
      ]
    },
    {
      "cell_type": "code",
      "metadata": {
        "colab": {
          "base_uri": "https://localhost:8080/"
        },
        "id": "fXrg9erycq8V",
        "outputId": "70a8276e-7146-4f98-a205-65e614f9be28"
      },
      "source": [
        "print(type(plt.rcParams['font.serif']))"
      ],
      "execution_count": 20,
      "outputs": [
        {
          "output_type": "stream",
          "text": [
            "<class 'list'>\n"
          ],
          "name": "stdout"
        }
      ]
    },
    {
      "cell_type": "markdown",
      "metadata": {
        "id": "cbYgfHNrUeKF"
      },
      "source": [
        "### 設定不同的深度"
      ]
    },
    {
      "cell_type": "code",
      "metadata": {
        "colab": {
          "base_uri": "https://localhost:8080/",
          "height": 283
        },
        "id": "XOcwc3p9Uigx",
        "outputId": "a29fe907-5a37-45d3-ec7b-acfc0a624cbd"
      },
      "source": [
        "acc_train = []\n",
        "acc_test = []\n",
        "n_depth = range(2,25)\n",
        "for n in n_depth:\n",
        "    model_pl_tree = make_pipeline(\n",
        "        data_pl, \n",
        "        DecisionTreeClassifier(max_depth=n, random_state=42)\n",
        "    )\n",
        "    model_pl_tree.fit(X_train, y_train)\n",
        "    acc_train.append(model_pl_tree.score(X_train, y_train))\n",
        "    acc_test.append(model_pl_tree.score(X_test, y_test))\n",
        "# 繪圖開始\n",
        "plt.rcParams['font.sans-serif'] = ['Taipei Sans TC Beta']\n",
        "plt.plot(n_depth, acc_train, marker='o', label='訓練集')\n",
        "plt.plot(n_depth, acc_test, c='green', \n",
        "         marker='+', ls='--', label='測試集')\n",
        "plt.xticks(n_depth, n_depth)\n",
        "plt.legend();"
      ],
      "execution_count": 21,
      "outputs": [
        {
          "output_type": "stream",
          "text": [
            "findfont: Font family ['sans-serif'] not found. Falling back to DejaVu Sans.\n"
          ],
          "name": "stderr"
        },
        {
          "output_type": "display_data",
          "data": {
            "image/png": "[encoded data removed]",
            "text/plain": [
              "<Figure size 432x288 with 1 Axes>"
            ]
          },
          "metadata": {
            "tags": [],
            "image/png": {
              "width": 378,
              "height": 248
            },
            "needs_background": "light"
          }
        }
      ]
    },
    {
      "cell_type": "code",
      "metadata": {
        "id": "gsLb2Rjcekjm"
      },
      "source": [
        ""
      ],
      "execution_count": 21,
      "outputs": []
    },
    {
      "cell_type": "markdown",
      "metadata": {
        "id": "vMmfWcN6VECw"
      },
      "source": [
        "### 透過 min_samples_split 來避免過度擬合發生"
      ]
    },
    {
      "cell_type": "code",
      "metadata": {
        "colab": {
          "base_uri": "https://localhost:8080/",
          "height": 265
        },
        "id": "6RsgF5rqVSE1",
        "outputId": "730c4963-0dc8-4ad9-f97f-0e2b71ce7763"
      },
      "source": [
        "acc_train = []\n",
        "acc_test = []\n",
        "n_range = range(2,100,3)\n",
        "for n in n_range:\n",
        "    model_pl_tree = make_pipeline(data_pl, \n",
        "                                  DecisionTreeClassifier(random_state=42, min_samples_split=n))\n",
        "    model_pl_tree.fit(X_train, y_train)\n",
        "    acc_train.append(model_pl_tree.score(X_train, y_train).round(2))\n",
        "    acc_test.append(model_pl_tree.score(X_test, y_test).round(2))\n",
        "plt.rcParams['font.sans-serif'] = ['Taipei Sans TC Beta']\n",
        "plt.plot(n_range, acc_train, marker='o', label='訓練集')\n",
        "plt.plot(n_range, acc_test, c='green', marker='+', ls='--', label='測試集')\n",
        "plt.legend();"
      ],
      "execution_count": 23,
      "outputs": [
        {
          "output_type": "display_data",
          "data": {
            "image/png": "[encoded data removed]",
            "text/plain": [
              "<Figure size 432x288 with 1 Axes>"
            ]
          },
          "metadata": {
            "tags": [],
            "image/png": {
              "width": 379,
              "height": 248
            },
            "needs_background": "light"
          }
        }
      ]
    }
  ]
}