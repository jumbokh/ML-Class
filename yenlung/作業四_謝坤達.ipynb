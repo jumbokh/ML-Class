{
  "nbformat": 4,
  "nbformat_minor": 0,
  "metadata": {
    "kernelspec": {
      "display_name": "Python 3",
      "language": "python",
      "name": "python3"
    },
    "language_info": {
      "codemirror_mode": {
        "name": "ipython",
        "version": 3
      },
      "file_extension": ".py",
      "mimetype": "text/x-python",
      "name": "python",
      "nbconvert_exporter": "python",
      "pygments_lexer": "ipython3",
      "version": "3.7.3"
    },
    "colab": {
      "name": "作業四_謝坤達.ipynb",
      "provenance": [],
      "collapsed_sections": [],
      "include_colab_link": true
    },
    "widgets": {
      "application/vnd.jupyter.widget-state+json": {
        "7204059f4f5f41f0a4d6c1770a929f59": {
          "model_module": "@jupyter-widgets/controls",
          "model_name": "VBoxModel",
          "model_module_version": "1.5.0",
          "state": {
            "_view_name": "VBoxView",
            "_dom_classes": [
              "widget-interact"
            ],
            "_model_name": "VBoxModel",
            "_view_module": "@jupyter-widgets/controls",
            "_model_module_version": "1.5.0",
            "_view_count": null,
            "_view_module_version": "1.5.0",
            "box_style": "",
            "layout": "IPY_MODEL_44d64f46dc374c8caa4a3dbaee59fbc7",
            "_model_module": "@jupyter-widgets/controls",
            "children": [
              "IPY_MODEL_e0e635d63a7d4da9bdfbf6362ef8e161",
              "IPY_MODEL_883582b9851e437eaeda6a815efc1afe",
              "IPY_MODEL_fee861220a774070ac0b2c1d396e02e4"
            ]
          }
        },
        "44d64f46dc374c8caa4a3dbaee59fbc7": {
          "model_module": "@jupyter-widgets/base",
          "model_name": "LayoutModel",
          "model_module_version": "1.2.0",
          "state": {
            "_view_name": "LayoutView",
            "grid_template_rows": null,
            "right": null,
            "justify_content": null,
            "_view_module": "@jupyter-widgets/base",
            "overflow": null,
            "_model_module_version": "1.2.0",
            "_view_count": null,
            "flex_flow": null,
            "width": null,
            "min_width": null,
            "border": null,
            "align_items": null,
            "bottom": null,
            "_model_module": "@jupyter-widgets/base",
            "top": null,
            "grid_column": null,
            "overflow_y": null,
            "overflow_x": null,
            "grid_auto_flow": null,
            "grid_area": null,
            "grid_template_columns": null,
            "flex": null,
            "_model_name": "LayoutModel",
            "justify_items": null,
            "grid_row": null,
            "max_height": null,
            "align_content": null,
            "visibility": null,
            "align_self": null,
            "height": null,
            "min_height": null,
            "padding": null,
            "grid_auto_rows": null,
            "grid_gap": null,
            "max_width": null,
            "order": null,
            "_view_module_version": "1.2.0",
            "grid_template_areas": null,
            "object_position": null,
            "object_fit": null,
            "grid_auto_columns": null,
            "margin": null,
            "display": null,
            "left": null
          }
        },
        "e0e635d63a7d4da9bdfbf6362ef8e161": {
          "model_module": "@jupyter-widgets/controls",
          "model_name": "IntSliderModel",
          "model_module_version": "1.5.0",
          "state": {
            "_view_name": "IntSliderView",
            "style": "IPY_MODEL_e1ead8d67f7d44f0866a7c771017731f",
            "_dom_classes": [],
            "description": "n",
            "step": 1,
            "_model_name": "IntSliderModel",
            "orientation": "horizontal",
            "max": 9999,
            "_view_module": "@jupyter-widgets/controls",
            "_model_module_version": "1.5.0",
            "value": 1805,
            "_view_count": null,
            "disabled": false,
            "_view_module_version": "1.5.0",
            "min": 0,
            "continuous_update": true,
            "readout_format": "d",
            "description_tooltip": null,
            "readout": true,
            "_model_module": "@jupyter-widgets/controls",
            "layout": "IPY_MODEL_603961d00a7a4b2d825f744ea9f735c2"
          }
        },
        "883582b9851e437eaeda6a815efc1afe": {
          "model_module": "@jupyter-widgets/controls",
          "model_name": "ButtonModel",
          "model_module_version": "1.5.0",
          "state": {
            "_view_name": "ButtonView",
            "style": "IPY_MODEL_1e75169716014230b72594428864cb23",
            "_dom_classes": [],
            "description": "Run Interact",
            "_model_name": "ButtonModel",
            "button_style": "",
            "_view_module": "@jupyter-widgets/controls",
            "_model_module_version": "1.5.0",
            "tooltip": "",
            "_view_count": null,
            "disabled": false,
            "_view_module_version": "1.5.0",
            "layout": "IPY_MODEL_bfef7dc550e2498c9c4fc271a48010b2",
            "_model_module": "@jupyter-widgets/controls",
            "icon": ""
          }
        },
        "fee861220a774070ac0b2c1d396e02e4": {
          "model_module": "@jupyter-widgets/output",
          "model_name": "OutputModel",
          "model_module_version": "1.0.0",
          "state": {
            "_view_name": "OutputView",
            "msg_id": "",
            "_dom_classes": [],
            "_model_name": "OutputModel",
            "outputs": [
              {
                "output_type": "stream",
                "name": "stdout",
                "text": [
                  "我可愛的 CNN 預測是 [0 0 0 0 0 0 0 1 0 0]\n"
                ]
              },
              {
                "output_type": "display_data",
                "data": {
                  "image/png": "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\n",
                  "text/plain": "<Figure size 432x288 with 1 Axes>"
                },
                "metadata": {
                  "needs_background": "light"
                }
              }
            ],
            "_view_module": "@jupyter-widgets/output",
            "_model_module_version": "1.0.0",
            "_view_count": null,
            "_view_module_version": "1.0.0",
            "layout": "IPY_MODEL_615ec86d907245b09348fcf6483302bb",
            "_model_module": "@jupyter-widgets/output"
          }
        },
        "e1ead8d67f7d44f0866a7c771017731f": {
          "model_module": "@jupyter-widgets/controls",
          "model_name": "SliderStyleModel",
          "model_module_version": "1.5.0",
          "state": {
            "_view_name": "StyleView",
            "handle_color": null,
            "_model_name": "SliderStyleModel",
            "description_width": "",
            "_view_module": "@jupyter-widgets/base",
            "_model_module_version": "1.5.0",
            "_view_count": null,
            "_view_module_version": "1.2.0",
            "_model_module": "@jupyter-widgets/controls"
          }
        },
        "603961d00a7a4b2d825f744ea9f735c2": {
          "model_module": "@jupyter-widgets/base",
          "model_name": "LayoutModel",
          "model_module_version": "1.2.0",
          "state": {
            "_view_name": "LayoutView",
            "grid_template_rows": null,
            "right": null,
            "justify_content": null,
            "_view_module": "@jupyter-widgets/base",
            "overflow": null,
            "_model_module_version": "1.2.0",
            "_view_count": null,
            "flex_flow": null,
            "width": null,
            "min_width": null,
            "border": null,
            "align_items": null,
            "bottom": null,
            "_model_module": "@jupyter-widgets/base",
            "top": null,
            "grid_column": null,
            "overflow_y": null,
            "overflow_x": null,
            "grid_auto_flow": null,
            "grid_area": null,
            "grid_template_columns": null,
            "flex": null,
            "_model_name": "LayoutModel",
            "justify_items": null,
            "grid_row": null,
            "max_height": null,
            "align_content": null,
            "visibility": null,
            "align_self": null,
            "height": null,
            "min_height": null,
            "padding": null,
            "grid_auto_rows": null,
            "grid_gap": null,
            "max_width": null,
            "order": null,
            "_view_module_version": "1.2.0",
            "grid_template_areas": null,
            "object_position": null,
            "object_fit": null,
            "grid_auto_columns": null,
            "margin": null,
            "display": null,
            "left": null
          }
        },
        "1e75169716014230b72594428864cb23": {
          "model_module": "@jupyter-widgets/controls",
          "model_name": "ButtonStyleModel",
          "model_module_version": "1.5.0",
          "state": {
            "_view_name": "StyleView",
            "_model_name": "ButtonStyleModel",
            "_view_module": "@jupyter-widgets/base",
            "_model_module_version": "1.5.0",
            "_view_count": null,
            "button_color": null,
            "font_weight": "",
            "_view_module_version": "1.2.0",
            "_model_module": "@jupyter-widgets/controls"
          }
        },
        "bfef7dc550e2498c9c4fc271a48010b2": {
          "model_module": "@jupyter-widgets/base",
          "model_name": "LayoutModel",
          "model_module_version": "1.2.0",
          "state": {
            "_view_name": "LayoutView",
            "grid_template_rows": null,
            "right": null,
            "justify_content": null,
            "_view_module": "@jupyter-widgets/base",
            "overflow": null,
            "_model_module_version": "1.2.0",
            "_view_count": null,
            "flex_flow": null,
            "width": null,
            "min_width": null,
            "border": null,
            "align_items": null,
            "bottom": null,
            "_model_module": "@jupyter-widgets/base",
            "top": null,
            "grid_column": null,
            "overflow_y": null,
            "overflow_x": null,
            "grid_auto_flow": null,
            "grid_area": null,
            "grid_template_columns": null,
            "flex": null,
            "_model_name": "LayoutModel",
            "justify_items": null,
            "grid_row": null,
            "max_height": null,
            "align_content": null,
            "visibility": null,
            "align_self": null,
            "height": null,
            "min_height": null,
            "padding": null,
            "grid_auto_rows": null,
            "grid_gap": null,
            "max_width": null,
            "order": null,
            "_view_module_version": "1.2.0",
            "grid_template_areas": null,
            "object_position": null,
            "object_fit": null,
            "grid_auto_columns": null,
            "margin": null,
            "display": null,
            "left": null
          }
        },
        "615ec86d907245b09348fcf6483302bb": {
          "model_module": "@jupyter-widgets/base",
          "model_name": "LayoutModel",
          "model_module_version": "1.2.0",
          "state": {
            "_view_name": "LayoutView",
            "grid_template_rows": null,
            "right": null,
            "justify_content": null,
            "_view_module": "@jupyter-widgets/base",
            "overflow": null,
            "_model_module_version": "1.2.0",
            "_view_count": null,
            "flex_flow": null,
            "width": null,
            "min_width": null,
            "border": null,
            "align_items": null,
            "bottom": null,
            "_model_module": "@jupyter-widgets/base",
            "top": null,
            "grid_column": null,
            "overflow_y": null,
            "overflow_x": null,
            "grid_auto_flow": null,
            "grid_area": null,
            "grid_template_columns": null,
            "flex": null,
            "_model_name": "LayoutModel",
            "justify_items": null,
            "grid_row": null,
            "max_height": null,
            "align_content": null,
            "visibility": null,
            "align_self": null,
            "height": null,
            "min_height": null,
            "padding": null,
            "grid_auto_rows": null,
            "grid_gap": null,
            "max_width": null,
            "order": null,
            "_view_module_version": "1.2.0",
            "grid_template_areas": null,
            "object_position": null,
            "object_fit": null,
            "grid_auto_columns": null,
            "margin": null,
            "display": null,
            "left": null
          }
        }
      }
    },
    "accelerator": "GPU"
  },
  "cells": [
    {
      "cell_type": "markdown",
      "metadata": {
        "id": "view-in-github",
        "colab_type": "text"
      },
      "source": [
        "<a href=\"https://colab.research.google.com/github/jumbokh/ML-Class/blob/main/yenlung/%E4%BD%9C%E6%A5%AD%E5%9B%9B_%E8%AC%9D%E5%9D%A4%E9%81%94.ipynb\" target=\"_parent\"><img src=\"https://colab.research.google.com/assets/colab-badge.svg\" alt=\"Open In Colab\"/></a>"
      ]
    },
    {
      "cell_type": "code",
      "metadata": {
        "id": "eMZDGeEBDdS5"
      },
      "source": [
        "%matplotlib inline\n",
        "\n",
        "import numpy as np\n",
        "import matplotlib.pyplot as plt\n",
        "import pandas as pd"
      ],
      "execution_count": 1,
      "outputs": []
    },
    {
      "cell_type": "code",
      "metadata": {
        "id": "F_SFKzb2DdS_"
      },
      "source": [
        "import tensorflow as tf  # Basic sources\n",
        "from tensorflow.keras.utils import to_categorical\n",
        "from tensorflow.keras.models import Sequential\n",
        "from tensorflow.keras.layers import Conv2D, MaxPooling2D\n",
        "from tensorflow.keras.layers import Dense, Flatten\n",
        "from tensorflow.keras.optimizers import Adam\n",
        "from tensorflow.keras.layers import Dropout"
      ],
      "execution_count": 32,
      "outputs": []
    },
    {
      "cell_type": "markdown",
      "metadata": {
        "id": "46DJVOHGaX8h"
      },
      "source": [
        "## 掛載我的雲端硬碟"
      ]
    },
    {
      "cell_type": "code",
      "metadata": {
        "colab": {
          "base_uri": "https://localhost:8080/"
        },
        "id": "ZUMb-8VBZ6ln",
        "outputId": "a8028bfc-e2a1-4c85-8b14-9e7a05c644c1"
      },
      "source": [
        "from google.colab import drive\n",
        "drive.mount('/content/gdrive')\n",
        "!ln -fs /content/gdrive/My\\ Drive /app\n",
        "%cd /app/data"
      ],
      "execution_count": 5,
      "outputs": [
        {
          "output_type": "stream",
          "name": "stdout",
          "text": [
            "Mounted at /content/gdrive\n",
            "/content/gdrive/My Drive/data\n"
          ]
        }
      ]
    },
    {
      "cell_type": "markdown",
      "metadata": {
        "id": "hBH26AyLaLm2"
      },
      "source": [
        "## 在虛擬機上安裝、使用預先下載的 cuDNN 驅動程式"
      ]
    },
    {
      "cell_type": "code",
      "metadata": {
        "colab": {
          "base_uri": "https://localhost:8080/"
        },
        "id": "dFgX7kx3Z7hq",
        "outputId": "4f8ce2c1-ff7f-45d3-8133-aee4c31f06f8"
      },
      "source": [
        "!tar -xzvf /app/cuDNN/cudnn-10.0-linux-x64-v7.5.0.56.tgz -C /usr/local/\n",
        "!chmod a+r /usr/local/cuda/include/cudnn.h\n",
        "\n",
        "# 檢查是否安裝成功\n",
        "!cat /usr/local/cuda/include/cudnn.h | grep CUDNN_MAJOR -A 2"
      ],
      "execution_count": 6,
      "outputs": [
        {
          "output_type": "stream",
          "name": "stdout",
          "text": [
            "cuda/include/cudnn.h\n",
            "cuda/NVIDIA_SLA_cuDNN_Support.txt\n",
            "cuda/lib64/libcudnn.so\n",
            "cuda/lib64/libcudnn.so.7\n",
            "cuda/lib64/libcudnn.so.7.5.0\n",
            "cuda/lib64/libcudnn_static.a\n",
            "#define CUDNN_MAJOR 7\n",
            "#define CUDNN_MINOR 5\n",
            "#define CUDNN_PATCHLEVEL 0\n",
            "--\n",
            "#define CUDNN_VERSION (CUDNN_MAJOR * 1000 + CUDNN_MINOR * 100 + CUDNN_PATCHLEVEL)\n",
            "\n",
            "#include \"driver_types.h\"\n"
          ]
        }
      ]
    },
    {
      "cell_type": "markdown",
      "metadata": {
        "id": "an_DiBSJDdTB"
      },
      "source": [
        "### 1. 讀入 MNSIT 數據集"
      ]
    },
    {
      "cell_type": "code",
      "metadata": {
        "id": "q-AVwYfPDdTD"
      },
      "source": [
        "from tensorflow.keras.datasets import mnist"
      ],
      "execution_count": 7,
      "outputs": []
    },
    {
      "cell_type": "code",
      "metadata": {
        "id": "v9AWlO3sDdTE",
        "colab": {
          "base_uri": "https://localhost:8080/"
        },
        "outputId": "20ca8d2a-99a5-4659-db23-89ce6f8d23e5"
      },
      "source": [
        "(x_train, y_train), (x_test, y_test) = mnist.load_data()"
      ],
      "execution_count": 8,
      "outputs": [
        {
          "output_type": "stream",
          "name": "stdout",
          "text": [
            "Downloading data from https://storage.googleapis.com/tensorflow/tf-keras-datasets/mnist.npz\n",
            "11493376/11490434 [==============================] - 0s 0us/step\n",
            "11501568/11490434 [==============================] - 0s 0us/step\n"
          ]
        }
      ]
    },
    {
      "cell_type": "markdown",
      "metadata": {
        "id": "eL0lP4fvDdTF"
      },
      "source": [
        "### 2. 資料整理"
      ]
    },
    {
      "cell_type": "markdown",
      "metadata": {
        "id": "wwdtcZ-ZDdTG"
      },
      "source": [
        "### Channel\n",
        "\n",
        "CNN 要注意一張圖有多少個 channel, 開始我們因為只有灰階, 所以只有一個 channel。因此我們要轉一下我們的資料格式:\n",
        "\n",
        "    (28,28) --> (28, 28, 1)"
      ]
    },
    {
      "cell_type": "code",
      "metadata": {
        "id": "V1Nh-FS7DdTI"
      },
      "source": [
        "x_train = x_train.reshape(60000, 28, 28, 1) / 255. # Normalization 使用浮點數"
      ],
      "execution_count": 12,
      "outputs": []
    },
    {
      "cell_type": "code",
      "metadata": {
        "id": "erfU936SDdTJ"
      },
      "source": [
        "x_test = x_test.reshape(10000, 28, 28, 1) / 255. # Normalization 使用浮點數"
      ],
      "execution_count": 13,
      "outputs": []
    },
    {
      "cell_type": "code",
      "metadata": {
        "id": "kiRS9MVBDdTL"
      },
      "source": [
        "y_train = to_categorical(y_train, 10)\n",
        "y_test = to_categorical(y_test, 10)"
      ],
      "execution_count": 14,
      "outputs": []
    },
    {
      "cell_type": "markdown",
      "metadata": {
        "id": "t6xJzD_Gb1eh"
      },
      "source": [
        "## 檢查訓練集和測試集的筆數及維度"
      ]
    },
    {
      "cell_type": "code",
      "metadata": {
        "colab": {
          "base_uri": "https://localhost:8080/"
        },
        "id": "_Tko65k3bqls",
        "outputId": "1384662b-4af1-4328-f5c3-b6bdead8b9a2"
      },
      "source": [
        "print(x_train.shape, y_train.shape)\n",
        "print(x_test.shape, y_test.shape)"
      ],
      "execution_count": 15,
      "outputs": [
        {
          "output_type": "stream",
          "name": "stdout",
          "text": [
            "(60000, 28, 28, 1) (60000, 10)\n",
            "(10000, 28, 28, 1) (10000, 10)\n"
          ]
        }
      ]
    },
    {
      "cell_type": "markdown",
      "metadata": {
        "id": "3Pmf_aKRDdTM"
      },
      "source": [
        "### 3. step 1: 打造函數學習機 (CNN)"
      ]
    },
    {
      "cell_type": "code",
      "metadata": {
        "id": "k-41V1F4DdTM"
      },
      "source": [
        "model = Sequential()"
      ],
      "execution_count": 16,
      "outputs": []
    },
    {
      "cell_type": "code",
      "metadata": {
        "id": "Z2y3TY1lDdTN"
      },
      "source": [
        "model.add(Conv2D(16, (3,3), padding='same',\n",
        "                input_shape=(28,28,1),\n",
        "                activation='relu'))"
      ],
      "execution_count": 17,
      "outputs": []
    },
    {
      "cell_type": "code",
      "metadata": {
        "id": "UK0fm5mzDdTO"
      },
      "source": [
        "model.add(MaxPooling2D(pool_size=(2,2)))"
      ],
      "execution_count": 18,
      "outputs": []
    },
    {
      "cell_type": "code",
      "metadata": {
        "id": "DMZlqcR5DdTP"
      },
      "source": [
        "model.add(Conv2D(32, (3,3), padding='same',\n",
        "                activation='relu'))"
      ],
      "execution_count": 19,
      "outputs": []
    },
    {
      "cell_type": "code",
      "metadata": {
        "id": "J9LUMJxvcHPa"
      },
      "source": [
        "model.add(Conv2D(32, (3,3), padding='same',\n",
        "                activation='relu'))"
      ],
      "execution_count": 20,
      "outputs": []
    },
    {
      "cell_type": "code",
      "metadata": {
        "id": "AQvMeLWBDdTQ"
      },
      "source": [
        "model.add(MaxPooling2D(pool_size=(2,2)))"
      ],
      "execution_count": 21,
      "outputs": []
    },
    {
      "cell_type": "code",
      "metadata": {
        "id": "zIjYaityH8s6"
      },
      "source": [
        "model.add(Conv2D(32, (3,3), padding='same',\n",
        "                activation='relu'))"
      ],
      "execution_count": 22,
      "outputs": []
    },
    {
      "cell_type": "code",
      "metadata": {
        "id": "8c3-ZyBOcS1Y"
      },
      "source": [
        "model.add(Conv2D(32, (3,3), padding='same',\n",
        "                activation='relu'))"
      ],
      "execution_count": 23,
      "outputs": []
    },
    {
      "cell_type": "code",
      "metadata": {
        "id": "IEa1p6WbH-33"
      },
      "source": [
        "model.add(MaxPooling2D(pool_size=(2,2)))"
      ],
      "execution_count": 24,
      "outputs": []
    },
    {
      "cell_type": "code",
      "metadata": {
        "id": "BQluItjbDdTR"
      },
      "source": [
        "model.add(Conv2D(64, (3,3), padding='same',\n",
        "                activation='relu'))"
      ],
      "execution_count": 25,
      "outputs": []
    },
    {
      "cell_type": "code",
      "metadata": {
        "id": "7Qpa_1MMcXZq"
      },
      "source": [
        "model.add(Conv2D(64, (3,3), padding='same',\n",
        "                activation='relu'))"
      ],
      "execution_count": 26,
      "outputs": []
    },
    {
      "cell_type": "code",
      "metadata": {
        "id": "9vrF_SfsDdTR"
      },
      "source": [
        "model.add(MaxPooling2D(pool_size=(2,2)))"
      ],
      "execution_count": 27,
      "outputs": []
    },
    {
      "cell_type": "code",
      "metadata": {
        "id": "7iuGVkVYDdTS"
      },
      "source": [
        "model.add(Flatten())"
      ],
      "execution_count": 28,
      "outputs": []
    },
    {
      "cell_type": "code",
      "metadata": {
        "id": "Kmg_Epm4DdTS"
      },
      "source": [
        "model.add(Dense(54, activation='relu'))"
      ],
      "execution_count": 29,
      "outputs": []
    },
    {
      "cell_type": "code",
      "metadata": {
        "id": "0Dz6bZjfYhSw"
      },
      "source": [
        "model.add(Dropout(0.2))   # 砍掉 20% 資料"
      ],
      "execution_count": 33,
      "outputs": []
    },
    {
      "cell_type": "code",
      "metadata": {
        "id": "q4RS-i5fDdTT"
      },
      "source": [
        "model.add(Dense(10, activation='softmax'))"
      ],
      "execution_count": 34,
      "outputs": []
    },
    {
      "cell_type": "markdown",
      "metadata": {
        "id": "Kifz7-QdDdTT"
      },
      "source": [
        "#### 看一下我們的神經網路"
      ]
    },
    {
      "cell_type": "markdown",
      "metadata": {
        "id": "VsHdfHdaggDK"
      },
      "source": [
        "# 網路修改如下:\n",
        "## 1. 在原來的基礎上，每個卷積層皆做兩次，\n",
        "## 2. optimizer 改用 Adam\n",
        "## 3. 在輸出前砍掉 20%資料"
      ]
    },
    {
      "cell_type": "code",
      "metadata": {
        "id": "Ow5wNzHGDdTT",
        "colab": {
          "base_uri": "https://localhost:8080/"
        },
        "outputId": "9f093786-d917-40ba-e106-503d6d7408da"
      },
      "source": [
        "model.summary()"
      ],
      "execution_count": 35,
      "outputs": [
        {
          "output_type": "stream",
          "name": "stdout",
          "text": [
            "Model: \"sequential\"\n",
            "_________________________________________________________________\n",
            "Layer (type)                 Output Shape              Param #   \n",
            "=================================================================\n",
            "conv2d (Conv2D)              (None, 28, 28, 16)        160       \n",
            "_________________________________________________________________\n",
            "max_pooling2d (MaxPooling2D) (None, 14, 14, 16)        0         \n",
            "_________________________________________________________________\n",
            "conv2d_1 (Conv2D)            (None, 14, 14, 32)        4640      \n",
            "_________________________________________________________________\n",
            "conv2d_2 (Conv2D)            (None, 14, 14, 32)        9248      \n",
            "_________________________________________________________________\n",
            "max_pooling2d_1 (MaxPooling2 (None, 7, 7, 32)          0         \n",
            "_________________________________________________________________\n",
            "conv2d_3 (Conv2D)            (None, 7, 7, 32)          9248      \n",
            "_________________________________________________________________\n",
            "conv2d_4 (Conv2D)            (None, 7, 7, 32)          9248      \n",
            "_________________________________________________________________\n",
            "max_pooling2d_2 (MaxPooling2 (None, 3, 3, 32)          0         \n",
            "_________________________________________________________________\n",
            "conv2d_5 (Conv2D)            (None, 3, 3, 64)          18496     \n",
            "_________________________________________________________________\n",
            "conv2d_6 (Conv2D)            (None, 3, 3, 64)          36928     \n",
            "_________________________________________________________________\n",
            "max_pooling2d_3 (MaxPooling2 (None, 1, 1, 64)          0         \n",
            "_________________________________________________________________\n",
            "flatten (Flatten)            (None, 64)                0         \n",
            "_________________________________________________________________\n",
            "dense (Dense)                (None, 54)                3510      \n",
            "_________________________________________________________________\n",
            "dropout (Dropout)            (None, 54)                0         \n",
            "_________________________________________________________________\n",
            "dense_1 (Dense)              (None, 10)                550       \n",
            "=================================================================\n",
            "Total params: 92,028\n",
            "Trainable params: 92,028\n",
            "Non-trainable params: 0\n",
            "_________________________________________________________________\n"
          ]
        }
      ]
    },
    {
      "cell_type": "markdown",
      "metadata": {
        "id": "ytS1Z2g3DdTV"
      },
      "source": [
        "#### 組裝"
      ]
    },
    {
      "cell_type": "code",
      "metadata": {
        "id": "v_1hoglSDdTV",
        "colab": {
          "base_uri": "https://localhost:8080/"
        },
        "outputId": "d56eb689-f731-4258-d4f5-75509e88eaab"
      },
      "source": [
        "model.compile(loss='mse', optimizer=Adam(lr=0.001),\n",
        "             metrics=['accuracy'])"
      ],
      "execution_count": 37,
      "outputs": [
        {
          "output_type": "stream",
          "name": "stderr",
          "text": [
            "/usr/local/lib/python3.7/dist-packages/keras/optimizer_v2/optimizer_v2.py:356: UserWarning: The `lr` argument is deprecated, use `learning_rate` instead.\n",
            "  \"The `lr` argument is deprecated, use `learning_rate` instead.\")\n"
          ]
        }
      ]
    },
    {
      "cell_type": "markdown",
      "metadata": {
        "id": "n3Qf5wQTDdTW"
      },
      "source": [
        "### 4. step 2: fit"
      ]
    },
    {
      "cell_type": "code",
      "metadata": {
        "scrolled": true,
        "id": "zWpzoe7ADdTW",
        "colab": {
          "base_uri": "https://localhost:8080/"
        },
        "outputId": "8ec74296-ec23-4ef6-b743-188dc1156e89"
      },
      "source": [
        "model.fit(x_train, y_train, batch_size=128, epochs=15)"
      ],
      "execution_count": 38,
      "outputs": [
        {
          "output_type": "stream",
          "name": "stdout",
          "text": [
            "Epoch 1/15\n",
            "469/469 [==============================] - 36s 12ms/step - loss: 0.0172 - accuracy: 0.8750\n",
            "Epoch 2/15\n",
            "469/469 [==============================] - 5s 12ms/step - loss: 0.0044 - accuracy: 0.9722\n",
            "Epoch 3/15\n",
            "469/469 [==============================] - 5s 12ms/step - loss: 0.0033 - accuracy: 0.9795\n",
            "Epoch 4/15\n",
            "469/469 [==============================] - 5s 12ms/step - loss: 0.0025 - accuracy: 0.9841\n",
            "Epoch 5/15\n",
            "469/469 [==============================] - 5s 12ms/step - loss: 0.0022 - accuracy: 0.9862\n",
            "Epoch 6/15\n",
            "469/469 [==============================] - 5s 12ms/step - loss: 0.0019 - accuracy: 0.9880\n",
            "Epoch 7/15\n",
            "469/469 [==============================] - 6s 12ms/step - loss: 0.0018 - accuracy: 0.9890\n",
            "Epoch 8/15\n",
            "469/469 [==============================] - 6s 12ms/step - loss: 0.0016 - accuracy: 0.9899\n",
            "Epoch 9/15\n",
            "469/469 [==============================] - 6s 12ms/step - loss: 0.0015 - accuracy: 0.9905\n",
            "Epoch 10/15\n",
            "469/469 [==============================] - 6s 12ms/step - loss: 0.0013 - accuracy: 0.9923\n",
            "Epoch 11/15\n",
            "469/469 [==============================] - 6s 12ms/step - loss: 0.0013 - accuracy: 0.9922\n",
            "Epoch 12/15\n",
            "469/469 [==============================] - 5s 12ms/step - loss: 0.0013 - accuracy: 0.9923\n",
            "Epoch 13/15\n",
            "469/469 [==============================] - 5s 12ms/step - loss: 0.0011 - accuracy: 0.9933\n",
            "Epoch 14/15\n",
            "469/469 [==============================] - 5s 12ms/step - loss: 0.0012 - accuracy: 0.9929\n",
            "Epoch 15/15\n",
            "469/469 [==============================] - 5s 12ms/step - loss: 0.0011 - accuracy: 0.9933\n"
          ]
        },
        {
          "output_type": "execute_result",
          "data": {
            "text/plain": [
              "<keras.callbacks.History at 0x7fccb0502850>"
            ]
          },
          "metadata": {},
          "execution_count": 38
        }
      ]
    },
    {
      "cell_type": "markdown",
      "metadata": {
        "id": "FS4-m66MHTCK"
      },
      "source": [
        "## 在第一個 Epoch 就看到明顯的效果，\n",
        "## 36s 12ms/step - loss: 0.0172 - accuracy: 0.8750\n",
        "## 使用 cuDNN driver+GPU 效能明顯增加\n",
        "### 原始:\n",
        "* Epoch 1/12\n",
        "* 469/469 [==============================] - 45s 93ms/step - loss: 0.0895 - accuracy: 0.1921\n",
        "* Epoch 2/12\n",
        "* 469/469 [==============================] - 44s 93ms/step - loss: 0.0879 - accuracy: 0.3694\n",
        "### 改善後:\n",
        "* Epoch 1/15\n",
        "* 469/469 [==============================] - 36s 12ms/step - loss: 0.0172 - accuracy: 0.8750\n",
        "* Epoch 2/15\n",
        "* 469/469 [==============================] - 5s 12ms/step - loss: 0.0044 - accuracy: 0.9722\n",
        "## 原來的結果如下, \n",
        "loss: 0.0065 - accuracy: 0.9593\n",
        "## 修改及增加Layer實驗結果:\n",
        "loss: 0.0011 - accuracy: 0.9933"
      ]
    },
    {
      "cell_type": "markdown",
      "metadata": {
        "id": "dcfxKBGADdTW"
      },
      "source": [
        "### Step 3. 預測"
      ]
    },
    {
      "cell_type": "markdown",
      "metadata": {
        "id": "LGg-ZIEDed54"
      },
      "source": [
        "## tensorflow 2.5 之後取消 predict_classes\n",
        "## 改寫如下"
      ]
    },
    {
      "cell_type": "markdown",
      "metadata": {
        "id": "S63H7tMTeqhr"
      },
      "source": [
        "16\n",
        "\n",
        "This function were removed in TensorFlow version 2.6. \n",
        "According to the keras in [rstudio reference](https://keras.rstudio.com/reference/predict_proba.html#details)"
      ]
    },
    {
      "cell_type": "code",
      "metadata": {
        "id": "NnG1Ui61DdTW",
        "colab": {
          "base_uri": "https://localhost:8080/"
        },
        "outputId": "37502b80-42f1-49be-9371-06414ee7ffbb"
      },
      "source": [
        "result = (model.predict(x_test) > 0.5).astype(\"int32\")\n",
        "result"
      ],
      "execution_count": 40,
      "outputs": [
        {
          "output_type": "execute_result",
          "data": {
            "text/plain": [
              "array([[0, 0, 0, ..., 1, 0, 0],\n",
              "       [0, 0, 1, ..., 0, 0, 0],\n",
              "       [0, 1, 0, ..., 0, 0, 0],\n",
              "       ...,\n",
              "       [0, 0, 0, ..., 0, 0, 0],\n",
              "       [0, 0, 0, ..., 0, 0, 0],\n",
              "       [0, 0, 0, ..., 0, 0, 0]], dtype=int32)"
            ]
          },
          "metadata": {},
          "execution_count": 40
        }
      ]
    },
    {
      "cell_type": "markdown",
      "metadata": {
        "id": "ca01m5F1DdTX"
      },
      "source": [
        "### 看看測試資料表現如何"
      ]
    },
    {
      "cell_type": "code",
      "metadata": {
        "id": "6_rO0zPDDdTX",
        "colab": {
          "base_uri": "https://localhost:8080/"
        },
        "outputId": "dc93b074-4a94-46d0-b7bc-eb814c8c6ce9"
      },
      "source": [
        "loss, acc = model.evaluate(x_test, y_test)"
      ],
      "execution_count": 41,
      "outputs": [
        {
          "output_type": "stream",
          "name": "stdout",
          "text": [
            "313/313 [==============================] - 1s 4ms/step - loss: 0.0018 - accuracy: 0.9890\n"
          ]
        }
      ]
    },
    {
      "cell_type": "code",
      "metadata": {
        "id": "AVn_goVBDdTX",
        "colab": {
          "base_uri": "https://localhost:8080/"
        },
        "outputId": "79bfb6c5-05cf-468f-b96c-c967fe6c3571"
      },
      "source": [
        "print(f'測試資料的正確率為 {acc*100:.2f}%')"
      ],
      "execution_count": 43,
      "outputs": [
        {
          "output_type": "stream",
          "name": "stdout",
          "text": [
            "測試資料的正確率為 98.90%\n"
          ]
        }
      ]
    },
    {
      "cell_type": "code",
      "metadata": {
        "id": "Pr7-m8shDdTX"
      },
      "source": [
        "def my_predict(n):\n",
        "    print('我可愛的 CNN 預測是', result[n])\n",
        "    X = x_test[n].reshape(28,28)\n",
        "    plt.imshow(X, cmap='Greys')"
      ],
      "execution_count": 44,
      "outputs": []
    },
    {
      "cell_type": "code",
      "metadata": {
        "id": "Ki17DtJ5DdTX"
      },
      "source": [
        "from ipywidgets import interact_manual"
      ],
      "execution_count": 45,
      "outputs": []
    },
    {
      "cell_type": "code",
      "metadata": {
        "id": "33Dw7QEmDdTY",
        "colab": {
          "base_uri": "https://localhost:8080/",
          "height": 347,
          "referenced_widgets": [
            "7204059f4f5f41f0a4d6c1770a929f59",
            "44d64f46dc374c8caa4a3dbaee59fbc7",
            "e0e635d63a7d4da9bdfbf6362ef8e161",
            "883582b9851e437eaeda6a815efc1afe",
            "fee861220a774070ac0b2c1d396e02e4",
            "e1ead8d67f7d44f0866a7c771017731f",
            "603961d00a7a4b2d825f744ea9f735c2",
            "1e75169716014230b72594428864cb23",
            "bfef7dc550e2498c9c4fc271a48010b2",
            "615ec86d907245b09348fcf6483302bb"
          ]
        },
        "outputId": "e359d4fd-8ac0-4daf-f579-785f6f99cda6"
      },
      "source": [
        "interact_manual(my_predict, n=(0, 9999));"
      ],
      "execution_count": 46,
      "outputs": [
        {
          "output_type": "display_data",
          "data": {
            "application/vnd.jupyter.widget-view+json": {
              "model_id": "7204059f4f5f41f0a4d6c1770a929f59",
              "version_minor": 0,
              "version_major": 2
            },
            "text/plain": [
              "interactive(children=(IntSlider(value=4999, description='n', max=9999), Button(description='Run Interact', sty…"
            ]
          },
          "metadata": {}
        }
      ]
    },
    {
      "cell_type": "markdown",
      "metadata": {
        "id": "wKIW7_tODdTY"
      },
      "source": [
        "### 把我們的 model 存起來"
      ]
    },
    {
      "cell_type": "code",
      "metadata": {
        "id": "6Yo5Rch8DdTY"
      },
      "source": [
        "#model.save('/app/data/myCNNmodel.h5')\n",
        "model.save('myCNNmodel.h5')"
      ],
      "execution_count": 48,
      "outputs": []
    }
  ]
}