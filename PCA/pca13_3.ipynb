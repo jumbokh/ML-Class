{
  "nbformat": 4,
  "nbformat_minor": 0,
  "metadata": {
    "colab": {
      "name": "pca13-3.ipynb",
      "provenance": []
    },
    "kernelspec": {
      "name": "python3",
      "display_name": "Python 3"
    },
    "language_info": {
      "name": "python"
    }
  },
  "cells": [
    {
      "cell_type": "code",
      "metadata": {
        "id": "BmF5FFQYWxEf"
      },
      "source": [
        "from numpy import *\n",
        "import numpy as np\n",
        "\n",
        "def loadDataSet(fileName, delim='\\t'):\n",
        "    fr = open(fileName)\n",
        "    stringArr = [line.strip().split(delim) for line in fr.readlines()]\n",
        "    #datArr = [map(float,line) for line in stringArr]\n",
        "    #datArr = list(np.float_(stringArr))\n",
        "    datArr = np.array(stringArr,dtype=float)\n",
        "    return mat(datArr)"
      ],
      "execution_count": 1,
      "outputs": []
    },
    {
      "cell_type": "code",
      "metadata": {
        "id": "Vj7WUaEFW2Fn"
      },
      "source": [
        "def pca(dataMat, topNfeat=9999999):\n",
        "    meanVals = mean(dataMat, axis=0)\n",
        "    meanRemoved = dataMat - meanVals #remove mean\n",
        "    covMat = cov(meanRemoved, rowvar=0)\n",
        "    eigVals,eigVects = linalg.eig(mat(covMat))\n",
        "    eigValInd = argsort(eigVals)            #sort, sort goes smallest to largest\n",
        "    eigValInd = eigValInd[:-(topNfeat+1):-1]  #cut off unwanted dimensions\n",
        "    redEigVects = eigVects[:,eigValInd]       #reorganize eig vects largest to smallest\n",
        "    lowDDataMat = meanRemoved * redEigVects#transform data into new dimensions\n",
        "    reconMat = (lowDDataMat * redEigVects.T) + meanVals\n",
        "    return lowDDataMat, reconMat"
      ],
      "execution_count": 2,
      "outputs": []
    },
    {
      "cell_type": "code",
      "metadata": {
        "id": "1-TJOcuPW7hl"
      },
      "source": [
        "def replaceNanWithMean(): \n",
        "    datMat = loadDataSet('secom.data', ' ')\n",
        "    numFeat = shape(datMat)[1]\n",
        "    for i in range(numFeat):\n",
        "        meanVal = mean(datMat[nonzero(~isnan(datMat[:,i].A))[0],i]) #values that are not NaN (a number)\n",
        "        datMat[nonzero(isnan(datMat[:,i].A))[0],i] = meanVal  #set NaN values to mean\n",
        "    return datMat"
      ],
      "execution_count": 3,
      "outputs": []
    },
    {
      "cell_type": "code",
      "metadata": {
        "id": "1-nVgygZW-kF"
      },
      "source": [
        "dataMat = loadDataSet('testSet.txt')"
      ],
      "execution_count": 4,
      "outputs": []
    },
    {
      "cell_type": "code",
      "metadata": {
        "colab": {
          "base_uri": "https://localhost:8080/"
        },
        "id": "q7ytWZNrXnIe",
        "outputId": "fe13c07c-c35f-4b15-f13b-02e77c35b3d5"
      },
      "source": [
        "dataMat[:5]"
      ],
      "execution_count": 5,
      "outputs": [
        {
          "output_type": "execute_result",
          "data": {
            "text/plain": [
              "matrix([[10.235186, 11.321997],\n",
              "        [10.122339, 11.810993],\n",
              "        [ 9.190236,  8.904943],\n",
              "        [ 9.306371,  9.847394],\n",
              "        [ 8.330131,  8.340352]])"
            ]
          },
          "metadata": {
            "tags": []
          },
          "execution_count": 5
        }
      ]
    },
    {
      "cell_type": "code",
      "metadata": {
        "id": "z-KR8V0ZXO9V"
      },
      "source": [
        "lowDMat, reconMat = pca(dataMat,1)"
      ],
      "execution_count": 6,
      "outputs": []
    },
    {
      "cell_type": "code",
      "metadata": {
        "colab": {
          "base_uri": "https://localhost:8080/"
        },
        "id": "UvZNoXt8XWOk",
        "outputId": "c1a15cdf-d9ea-4e62-c9d1-2f1529f37daa"
      },
      "source": [
        "shape(lowDMat)"
      ],
      "execution_count": 7,
      "outputs": [
        {
          "output_type": "execute_result",
          "data": {
            "text/plain": [
              "(1000, 1)"
            ]
          },
          "metadata": {
            "tags": []
          },
          "execution_count": 7
        }
      ]
    },
    {
      "cell_type": "code",
      "metadata": {
        "colab": {
          "base_uri": "https://localhost:8080/",
          "height": 282
        },
        "id": "ze64dtFhakPW",
        "outputId": "c717dfaa-3e02-4236-cd43-66ef2e146fd8"
      },
      "source": [
        "import matplotlib.pyplot as plt\n",
        "fig = plt.figure()\n",
        "ax = fig.add_subplot(111)\n",
        "ax.scatter(dataMat[:,0].flatten().A[0], dataMat[:,1].flatten().A[0],marker='^',s=90)\n",
        "ax.scatter(reconMat[:,0].flatten().A[0], reconMat[:,1].flatten().A[0],marker='o',s=50, c='red')"
      ],
      "execution_count": 8,
      "outputs": [
        {
          "output_type": "execute_result",
          "data": {
            "text/plain": [
              "<matplotlib.collections.PathCollection at 0x7f659986cfd0>"
            ]
          },
          "metadata": {
            "tags": []
          },
          "execution_count": 8
        },
        {
          "output_type": "display_data",
          "data": {
            "image/png": "[encoded data removed]",
            "text/plain": [
              "<Figure size 432x288 with 1 Axes>"
            ]
          },
          "metadata": {
            "tags": [],
            "needs_background": "light"
          }
        }
      ]
    },
    {
      "cell_type": "code",
      "metadata": {
        "id": "cay4MI13bg1d"
      },
      "source": [
        "lowDMat, reconMat = pca(dataMat,2)"
      ],
      "execution_count": 9,
      "outputs": []
    },
    {
      "cell_type": "code",
      "metadata": {
        "colab": {
          "base_uri": "https://localhost:8080/",
          "height": 282
        },
        "id": "GLyvc4TGb1kz",
        "outputId": "279c4b8e-7998-4171-df8d-51b2ce0dbddd"
      },
      "source": [
        "fig1 = plt.figure()\n",
        "ax = fig1.add_subplot(111)\n",
        "ax.scatter(dataMat[:,0].flatten().A[0], dataMat[:,1].flatten().A[0],marker='^',s=90, c='blue')\n",
        "ax.scatter(reconMat[:,0].flatten().A[0], reconMat[:,1].flatten().A[0],marker='o',s=50, c='yellow')"
      ],
      "execution_count": 10,
      "outputs": [
        {
          "output_type": "execute_result",
          "data": {
            "text/plain": [
              "<matplotlib.collections.PathCollection at 0x7f65993620d0>"
            ]
          },
          "metadata": {
            "tags": []
          },
          "execution_count": 10
        },
        {
          "output_type": "display_data",
          "data": {
            "image/png": "[encoded data removed]",
            "text/plain": [
              "<Figure size 432x288 with 1 Axes>"
            ]
          },
          "metadata": {
            "tags": [],
            "needs_background": "light"
          }
        }
      ]
    },
    {
      "cell_type": "code",
      "metadata": {
        "id": "W84b3tjOfntM"
      },
      "source": [
        "dataMat = replaceNanWithMean()"
      ],
      "execution_count": 12,
      "outputs": []
    },
    {
      "cell_type": "code",
      "metadata": {
        "id": "nADSMYk6gZYf"
      },
      "source": [
        "meanVals = mean(dataMat, axis=0)\n",
        "meanRemoved = dataMat - meanVals"
      ],
      "execution_count": 13,
      "outputs": []
    },
    {
      "cell_type": "code",
      "metadata": {
        "id": "hvR683M2gren"
      },
      "source": [
        "covMat = cov(meanRemoved, rowvar=0)"
      ],
      "execution_count": 14,
      "outputs": []
    },
    {
      "cell_type": "code",
      "metadata": {
        "id": "5De3HO4Gg4rA"
      },
      "source": [
        "eigVals, eigVects = linalg.eig(mat(covMat))"
      ],
      "execution_count": 15,
      "outputs": []
    },
    {
      "cell_type": "code",
      "metadata": {
        "colab": {
          "base_uri": "https://localhost:8080/"
        },
        "id": "CwVPd3D6hBgf",
        "outputId": "5fa0acf1-ffb2-427e-b26d-f3a765eb5dc2"
      },
      "source": [
        "eigVals"
      ],
      "execution_count": 16,
      "outputs": [
        {
          "output_type": "execute_result",
          "data": {
            "text/plain": [
              "array([ 5.34151979e+07,  2.17466719e+07,  8.24837662e+06,  2.07388086e+06,\n",
              "        1.31540439e+06,  4.67693557e+05,  2.90863555e+05,  2.83668601e+05,\n",
              "        2.37155830e+05,  2.08513836e+05,  1.96098849e+05,  1.86856549e+05,\n",
              "        1.52422354e+05,  1.13215032e+05,  1.08493848e+05,  1.02849533e+05,\n",
              "        1.00166164e+05,  8.33473762e+04,  8.15850591e+04,  7.76560524e+04,\n",
              "        6.66060410e+04,  6.52620058e+04,  5.96776503e+04,  5.16269933e+04,\n",
              "        5.03324580e+04,  4.54661746e+04,  4.41914029e+04,  4.15532551e+04,\n",
              "        3.55294040e+04,  3.31436743e+04,  2.67385181e+04,  1.47123429e+04,\n",
              "        1.44089194e+04,  1.09321187e+04,  1.04841308e+04,  9.48876548e+03,\n",
              "        8.34665462e+03,  7.22765535e+03,  5.34196392e+03,  4.95614671e+03,\n",
              "        4.23060022e+03,  4.10673182e+03,  3.41199406e+03,  3.24193522e+03,\n",
              "        2.74523635e+03,  2.35027999e+03,  2.16835314e+03,  1.86414157e+03,\n",
              "        1.76741826e+03,  1.70492093e+03,  1.66199683e+03,  1.53948465e+03,\n",
              "        1.33096008e+03,  1.25591691e+03,  1.15509389e+03,  1.12410108e+03,\n",
              "        1.03213798e+03,  1.00972093e+03,  9.50542179e+02,  9.09791361e+02,\n",
              "        8.32001551e+02,  8.08898242e+02,  7.37343627e+02,  6.87596830e+02,\n",
              "        5.64452104e+02,  5.51812250e+02,  5.37209115e+02,  4.93029995e+02,\n",
              "        4.13720573e+02,  3.90222119e+02,  3.37288784e+02,  3.27558605e+02,\n",
              "        3.08869553e+02,  2.46285839e+02,  2.28893093e+02,  1.96447852e+02,\n",
              "        1.75559820e+02,  1.65795169e+02,  1.56428052e+02,  1.39671194e+02,\n",
              "        1.28662864e+02,  1.15624070e+02,  1.10318239e+02,  1.08663541e+02,\n",
              "        1.00695416e+02,  9.80687852e+01,  8.34968275e+01,  7.53025397e+01,\n",
              "        6.89260158e+01,  6.67786503e+01,  6.09412873e+01,  5.30974002e+01,\n",
              "        4.71797825e+01,  4.50701108e+01,  4.41349593e+01,  4.03313416e+01,\n",
              "        3.95741636e+01,  3.74000035e+01,  3.44211326e+01,  3.30031584e+01,\n",
              "        3.03317756e+01,  2.88994580e+01,  2.76478754e+01,  2.57708695e+01,\n",
              "        2.44506430e+01,  2.31640106e+01,  2.26956957e+01,  2.16925102e+01,\n",
              "        2.10114869e+01,  2.00984697e+01,  1.86489543e+01,  1.83733216e+01,\n",
              "        1.72517802e+01,  1.60481189e+01,  1.54406997e+01,  1.48356499e+01,\n",
              "        1.44273357e+01,  1.42318192e+01,  1.35592064e+01,  1.30696836e+01,\n",
              "        1.28193512e+01,  1.22093626e+01,  1.15228376e+01,  1.12141738e+01,\n",
              "        1.02585936e+01,  9.86906139e+00,  9.58794460e+00,  9.41686288e+00,\n",
              "        9.20276340e+00,  8.63791398e+00,  8.20622561e+00,  8.01020114e+00,\n",
              "        7.53391290e+00,  7.33168361e+00,  7.09960245e+00,  7.02149364e+00,\n",
              "        6.76557324e+00,  6.34504733e+00,  6.01919292e+00,  5.81680918e+00,\n",
              "        5.44653788e+00,  5.12338463e+00,  4.79593185e+00,  4.47851795e+00,\n",
              "        4.50369987e+00,  4.27479386e+00,  3.89124198e+00,  3.56466892e+00,\n",
              "        3.32248982e+00,  2.97665360e+00,  2.61425544e+00,  2.31802829e+00,\n",
              "        2.17171124e+00,  1.99239284e+00,  1.96616566e+00,  1.88149281e+00,\n",
              "        1.79228288e+00,  1.71378363e+00,  1.68028783e+00,  1.60686268e+00,\n",
              "        1.47158244e+00,  1.40656712e+00,  1.37808906e+00,  1.27967672e+00,\n",
              "        1.22803716e+00,  1.18531109e+00,  9.38857180e-01,  9.18222054e-01,\n",
              "        8.26265393e-01,  7.96585842e-01,  7.74597255e-01,  7.14002770e-01,\n",
              "        6.79457797e-01,  6.37928310e-01,  6.24646758e-01,  5.34605353e-01,\n",
              "        4.60658687e-01,  4.24265893e-01,  4.08634622e-01,  3.70321764e-01,\n",
              "        3.67016386e-01,  3.35858033e-01,  3.29780397e-01,  2.94348753e-01,\n",
              "        2.84154176e-01,  2.72703994e-01,  2.63265991e-01,  2.45227786e-01,\n",
              "        2.25805135e-01,  2.22331919e-01,  2.13514673e-01,  1.93961935e-01,\n",
              "        1.91647269e-01,  1.83668491e-01,  1.82518017e-01,  1.65310922e-01,\n",
              "        1.57447909e-01,  1.51263974e-01,  1.39427297e-01,  1.32638882e-01,\n",
              "        1.28000027e-01,  1.13559952e-01,  1.12576237e-01,  1.08809771e-01,\n",
              "        1.07136355e-01,  8.60839655e-02,  8.50467792e-02,  8.29254355e-02,\n",
              "        7.03701660e-02,  6.44475619e-02,  6.09866327e-02,  6.05709478e-02,\n",
              "        5.93963958e-02,  5.22163549e-02,  4.92729703e-02,  4.80022983e-02,\n",
              "        4.51487439e-02,  4.30180504e-02,  4.13368324e-02,  4.03281604e-02,\n",
              "        3.91576587e-02,  3.54198873e-02,  3.31199510e-02,  3.13547234e-02,\n",
              "        3.07226509e-02,  2.98354196e-02,  2.81949091e-02,  2.49158051e-02,\n",
              "        2.36374781e-02,  2.28360210e-02,  2.19602047e-02,  2.00166957e-02,\n",
              "        1.86597535e-02,  1.80415918e-02,  1.72261012e-02,  1.60703860e-02,\n",
              "        1.49566735e-02,  1.40165444e-02,  1.31296856e-02,  1.21358005e-02,\n",
              "        1.07166503e-02,  1.01045695e-02,  9.76055340e-03,  9.16740926e-03,\n",
              "        8.78108857e-03,  8.67465278e-03,  8.30918514e-03,  8.05104488e-03,\n",
              "        7.56152126e-03,  7.31508852e-03,  7.26347037e-03,  6.65728354e-03,\n",
              "        6.50769617e-03,  6.28009879e-03,  6.19160730e-03,  5.64130272e-03,\n",
              "        5.30195373e-03,  5.07453702e-03,  4.47372286e-03,  4.32543895e-03,\n",
              "        4.22006582e-03,  3.97065729e-03,  3.75292740e-03,  3.64861290e-03,\n",
              "        3.38915810e-03,  3.27965962e-03,  3.06633825e-03,  2.99206786e-03,\n",
              "        2.83586784e-03,  2.74987243e-03,  2.31066313e-03,  2.26782346e-03,\n",
              "        1.82206662e-03,  1.74955624e-03,  1.69305161e-03,  1.66624597e-03,\n",
              "        1.55346749e-03,  1.51278404e-03,  1.47296800e-03,  1.33617458e-03,\n",
              "        1.30517592e-03,  1.24056353e-03,  1.19823961e-03,  1.14381059e-03,\n",
              "        1.13027458e-03,  1.11081803e-03,  1.08359152e-03,  1.03517496e-03,\n",
              "        1.00164593e-03,  9.50024605e-04,  8.94981182e-04,  8.74363843e-04,\n",
              "        7.98497545e-04,  7.51612221e-04,  6.63964303e-04,  6.21097650e-04,\n",
              "        6.18098605e-04,  5.72611405e-04,  5.57509231e-04,  5.47002382e-04,\n",
              "        5.27195077e-04,  5.11487997e-04,  4.87787872e-04,  4.74249071e-04,\n",
              "        4.52367688e-04,  4.24431101e-04,  4.19119025e-04,  3.72489906e-04,\n",
              "        3.38125455e-04,  3.34002143e-04,  2.97951371e-04,  2.84845900e-04,\n",
              "        2.79038287e-04,  2.77054476e-04,  2.67962796e-04,  2.54815126e-04,\n",
              "        2.29230595e-04,  1.99245436e-04,  1.90381389e-04,  1.84497914e-04,\n",
              "        1.77415682e-04,  1.68160613e-04,  1.63992030e-04,  1.58025552e-04,\n",
              "        1.54226003e-04,  1.46097434e-04,  1.46890640e-04,  1.40079891e-04,\n",
              "        1.35736724e-04,  1.22704035e-04,  1.16752515e-04,  1.14080846e-04,\n",
              "        1.04252870e-04,  9.90265090e-05,  9.66039062e-05,  9.60766569e-05,\n",
              "        9.16166333e-05,  9.07003473e-05,  8.60212633e-05,  8.32654023e-05,\n",
              "        7.70526079e-05,  7.36470021e-05,  7.24998303e-05,  6.80209909e-05,\n",
              "        6.68682705e-05,  6.14500426e-05,  5.99843177e-05,  5.49918005e-05,\n",
              "        5.24646954e-05,  5.13403844e-05,  5.02336259e-05,  4.89288498e-05,\n",
              "        4.51104473e-05,  4.29823762e-05,  4.18869713e-05,  4.14341567e-05,\n",
              "        3.94822844e-05,  3.80307293e-05,  3.57776536e-05,  3.43901591e-05,\n",
              "        2.98089202e-05,  2.72388358e-05,  2.42608885e-05,  2.30962279e-05,\n",
              "        2.27807559e-05,  2.14440814e-05,  1.96208174e-05,  1.88276186e-05,\n",
              "        1.91217363e-05,  1.66549050e-05,  1.46846459e-05,  1.43753346e-05,\n",
              "        1.39779891e-05,  1.21760519e-05,  1.20295834e-05,  1.13426750e-05,\n",
              "        1.09258905e-05,  1.02782987e-05,  1.01021803e-05,  9.72678787e-06,\n",
              "        9.64538287e-06,  9.23630196e-06,  8.93991856e-06,  8.34247911e-06,\n",
              "        7.36188579e-06,  7.20354827e-06,  6.69282813e-06,  6.49477813e-06,\n",
              "        5.09342483e-06,  5.31392220e-06,  5.67034892e-06,  5.91044556e-06,\n",
              "        6.00244889e-06,  4.65422045e-06,  4.45482133e-06,  4.11265576e-06,\n",
              "        3.48065953e-06,  3.65202838e-06,  3.77558985e-06,  2.78847698e-06,\n",
              "        2.66299626e-06,  2.57492503e-06,  2.39210232e-06,  2.06298821e-06,\n",
              "        2.00824520e-06,  1.76373602e-06,  1.58273269e-06,  1.44003524e-06,\n",
              "        1.49813697e-06,  1.32211395e-06,  1.42489428e-06,  1.10002716e-06,\n",
              "        8.49881106e-07,  9.01008863e-07,  7.62521869e-07,  6.57641101e-07,\n",
              "        5.85636641e-07,  5.33937361e-07,  4.16077215e-07,  3.33765858e-07,\n",
              "        2.95575264e-07,  2.54744632e-07,  2.20144573e-07,  1.86314516e-07,\n",
              "        1.77370963e-07,  1.54794343e-07,  1.47331685e-07,  1.39738552e-07,\n",
              "        1.04110968e-07,  1.00786519e-07,  9.38635091e-08,  9.10853314e-08,\n",
              "        8.71546324e-08,  7.48338889e-08,  6.06817432e-08,  5.66479200e-08,\n",
              "        5.24576911e-08,  4.57020638e-08,  2.89942623e-08,  2.60449415e-08,\n",
              "        2.17618742e-08,  2.10987990e-08,  1.75542294e-08,  1.34637035e-08,\n",
              "        1.27167436e-08,  1.23258200e-08,  1.04987512e-08,  9.86367978e-09,\n",
              "        8.49422942e-09,  9.33428108e-09,  7.42190989e-09,  6.46870637e-09,\n",
              "        6.84633842e-09,  5.76456298e-09,  5.01137946e-09,  3.48686366e-09,\n",
              "        2.91267179e-09,  2.77880632e-09,  1.73093444e-09,  1.42391200e-09,\n",
              "        1.16455047e-09,  9.24976182e-10,  6.95075084e-10,  1.11815877e-09,\n",
              "        1.80003583e-10,  1.97062515e-10,  2.61921109e-10,  6.13253993e-10,\n",
              "        5.27593618e-10, -3.59077820e-18,  2.53291849e-17,  3.52548926e-15,\n",
              "       -5.61166974e-16,  4.35343668e-16,  0.00000000e+00,  0.00000000e+00,\n",
              "        0.00000000e+00,  0.00000000e+00,  0.00000000e+00,  0.00000000e+00,\n",
              "        0.00000000e+00,  0.00000000e+00,  0.00000000e+00,  0.00000000e+00,\n",
              "        0.00000000e+00,  0.00000000e+00,  0.00000000e+00,  0.00000000e+00,\n",
              "        0.00000000e+00,  0.00000000e+00,  0.00000000e+00,  0.00000000e+00,\n",
              "        0.00000000e+00,  0.00000000e+00,  0.00000000e+00,  0.00000000e+00,\n",
              "        0.00000000e+00,  0.00000000e+00,  0.00000000e+00,  0.00000000e+00,\n",
              "        0.00000000e+00,  0.00000000e+00,  0.00000000e+00,  0.00000000e+00,\n",
              "        0.00000000e+00,  0.00000000e+00,  0.00000000e+00,  0.00000000e+00,\n",
              "        0.00000000e+00,  0.00000000e+00,  0.00000000e+00,  0.00000000e+00,\n",
              "        0.00000000e+00,  0.00000000e+00,  0.00000000e+00,  0.00000000e+00,\n",
              "        0.00000000e+00,  0.00000000e+00,  0.00000000e+00,  0.00000000e+00,\n",
              "        0.00000000e+00,  0.00000000e+00,  0.00000000e+00,  0.00000000e+00,\n",
              "        0.00000000e+00,  0.00000000e+00,  0.00000000e+00,  0.00000000e+00,\n",
              "        0.00000000e+00,  0.00000000e+00,  0.00000000e+00,  0.00000000e+00,\n",
              "        0.00000000e+00,  0.00000000e+00,  0.00000000e+00,  0.00000000e+00,\n",
              "        0.00000000e+00,  0.00000000e+00,  0.00000000e+00,  0.00000000e+00,\n",
              "        0.00000000e+00,  0.00000000e+00,  0.00000000e+00,  0.00000000e+00,\n",
              "        0.00000000e+00,  0.00000000e+00,  0.00000000e+00,  0.00000000e+00,\n",
              "        0.00000000e+00,  0.00000000e+00,  0.00000000e+00,  0.00000000e+00,\n",
              "        0.00000000e+00,  0.00000000e+00,  0.00000000e+00,  0.00000000e+00,\n",
              "        0.00000000e+00,  0.00000000e+00,  0.00000000e+00,  0.00000000e+00,\n",
              "        0.00000000e+00,  0.00000000e+00,  0.00000000e+00,  0.00000000e+00,\n",
              "        0.00000000e+00,  0.00000000e+00,  0.00000000e+00,  0.00000000e+00,\n",
              "        0.00000000e+00,  0.00000000e+00,  0.00000000e+00,  0.00000000e+00,\n",
              "        0.00000000e+00,  0.00000000e+00,  0.00000000e+00,  0.00000000e+00,\n",
              "        0.00000000e+00,  0.00000000e+00,  0.00000000e+00,  0.00000000e+00,\n",
              "        0.00000000e+00,  0.00000000e+00,  0.00000000e+00,  0.00000000e+00,\n",
              "        0.00000000e+00,  0.00000000e+00,  0.00000000e+00,  0.00000000e+00,\n",
              "        0.00000000e+00,  0.00000000e+00])"
            ]
          },
          "metadata": {
            "tags": []
          },
          "execution_count": 16
        }
      ]
    },
    {
      "cell_type": "code",
      "metadata": {
        "id": "aYZ8n6HfhD1I"
      },
      "source": [
        ""
      ],
      "execution_count": null,
      "outputs": []
    }
  ]
}