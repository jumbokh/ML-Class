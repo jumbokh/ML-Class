{
  "nbformat": 4,
  "nbformat_minor": 0,
  "metadata": {
    "colab": {
      "name": "作業一_謝坤達.ipynb",
      "provenance": [],
      "collapsed_sections": [],
      "authorship_tag": "ABX9TyPfW5CV/yAX8lv8iRsR33pd",
      "include_colab_link": true
    },
    "kernelspec": {
      "name": "python3",
      "display_name": "Python 3"
    },
    "language_info": {
      "name": "python"
    }
  },
  "cells": [
    {
      "cell_type": "markdown",
      "metadata": {
        "id": "view-in-github",
        "colab_type": "text"
      },
      "source": [
        "<a href=\"https://colab.research.google.com/github/jumbokh/ML-Class/blob/main/DL/%E4%BD%9C%E6%A5%AD%E4%B8%80_%E8%AC%9D%E5%9D%A4%E9%81%94.ipynb\" target=\"_parent\"><img src=\"https://colab.research.google.com/assets/colab-badge.svg\" alt=\"Open In Colab\"/></a>"
      ]
    },
    {
      "cell_type": "code",
      "metadata": {
        "id": "Su-_Xq3ha8Ss"
      },
      "source": [
        "%matplotlib inline\n",
        "import numpy as np\n",
        "import pandas as pd\n",
        "import matplotlib.pyplot as plt"
      ],
      "execution_count": 72,
      "outputs": []
    },
    {
      "cell_type": "code",
      "metadata": {
        "id": "ULSfTrRMbF4L"
      },
      "source": [
        "x = np.arange(0, 10, 0.1)"
      ],
      "execution_count": 73,
      "outputs": []
    },
    {
      "cell_type": "code",
      "metadata": {
        "id": "PV5mGLu_bKzL"
      },
      "source": [
        "y = np.sin(x)"
      ],
      "execution_count": 74,
      "outputs": []
    },
    {
      "cell_type": "code",
      "metadata": {
        "id": "8I5NajPelveI",
        "outputId": "17821712-b4a1-4dab-a711-919340714d07",
        "colab": {
          "base_uri": "https://localhost:8080/"
        }
      },
      "source": [
        "max_y = np.argmax(y)\n",
        "yval = y[max_y].round(3)\n",
        "maxstr = '['+str(x[max_y])+', '+str(yval)+']'\n",
        "print(maxstr)"
      ],
      "execution_count": 75,
      "outputs": [
        {
          "output_type": "stream",
          "name": "stdout",
          "text": [
            "[1.6, 1.0]\n"
          ]
        }
      ]
    },
    {
      "cell_type": "code",
      "metadata": {
        "id": "gjZIHnaFrctF",
        "outputId": "5c8f2722-9ea0-4b5d-8b0e-fa1516e62264",
        "colab": {
          "base_uri": "https://localhost:8080/"
        }
      },
      "source": [
        "min_y = np.argmin(y)\n",
        "ymval = y[min_y].round(3)\n",
        "minstr = '['+str(x[min_y])+', '+str(ymval)+']'\n",
        "print(minstr)"
      ],
      "execution_count": 76,
      "outputs": [
        {
          "output_type": "stream",
          "name": "stdout",
          "text": [
            "[4.7, -1.0]\n"
          ]
        }
      ]
    },
    {
      "cell_type": "code",
      "metadata": {
        "id": "AvXARIjsb0nJ",
        "colab": {
          "base_uri": "https://localhost:8080/",
          "height": 294
        },
        "outputId": "7dcb03c8-df67-4775-f1cf-7261502bff4e"
      },
      "source": [
        "# Give a title for the sine wave plot\n",
        "\n",
        "plt.title('Sine wave')\n",
        "# Give x axis label for the sine wave plot\n",
        "\n",
        "plt.xlabel('Time')\n",
        "# Give y axis label for the sine wave plot\n",
        "\n",
        "plt.ylabel('Amplitude = sin(time)')\n",
        "plt.grid(True, which='both')\n",
        "plt.axhline(y=0, color='k')\n",
        "plt.plot(x,y,'r-o')\n",
        "plt.annotate(s=maxstr,xytext=(x[max_y],yval),xy=(x[max_y],yval))\n",
        "plt.annotate(s=minstr,xytext=(x[min_y],ymval),xy=(x[min_y],ymval))\n",
        "plt.plot(x[max_y],y[max_y],'gs')\n",
        "plt.plot(x[min_y],y[min_y],'gs')\n",
        "plt.axhline(max(y))\n",
        "plt.axhline(min(y))\n",
        "plt.show()"
      ],
      "execution_count": 77,
      "outputs": [
        {
          "output_type": "display_data",
          "data": {
            "image/png": "[encoded data removed]",
            "text/plain": [
              "<Figure size 432x288 with 1 Axes>"
            ]
          },
          "metadata": {
            "needs_background": "light"
          }
        }
      ]
    }
  ]
}