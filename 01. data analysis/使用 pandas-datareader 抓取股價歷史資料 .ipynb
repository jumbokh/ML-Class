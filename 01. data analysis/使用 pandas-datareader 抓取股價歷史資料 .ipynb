{
  "nbformat": 4,
  "nbformat_minor": 0,
  "metadata": {
    "anaconda-cloud": {},
    "kernelspec": {
      "display_name": "Python 3",
      "language": "python",
      "name": "python3"
    },
    "language_info": {
      "codemirror_mode": {
        "name": "ipython",
        "version": 3
      },
      "file_extension": ".py",
      "mimetype": "text/x-python",
      "name": "python",
      "nbconvert_exporter": "python",
      "pygments_lexer": "ipython3",
      "version": "3.6.5"
    },
    "colab": {
      "name": "使用 pandas-datareader 抓取股價歷史資料 .ipynb",
      "provenance": []
    }
  },
  "cells": [
    {
      "cell_type": "markdown",
      "metadata": {
        "id": "im_j9BwDSoYy"
      },
      "source": [
        "# 使用 pandas-datareader 抓取股價歷史資料"
      ]
    },
    {
      "cell_type": "markdown",
      "metadata": {
        "id": "9R7QfZU5SoY1"
      },
      "source": [
        "## 匯入需要的模組"
      ]
    },
    {
      "cell_type": "code",
      "metadata": {
        "id": "egn1v30xSoY1"
      },
      "source": [
        "%matplotlib inline\n",
        "\n",
        "import pandas_datareader.data as web\n",
        "import matplotlib.pyplot as plt\n",
        "from datetime import datetime"
      ],
      "execution_count": 1,
      "outputs": []
    },
    {
      "cell_type": "markdown",
      "metadata": {
        "id": "NJIFH3UQSoY2"
      },
      "source": [
        "## 讀取歷史資料"
      ]
    },
    {
      "cell_type": "code",
      "metadata": {
        "id": "ordrcDQ6SoY3"
      },
      "source": [
        "# 讀取指定日期之後的股價資訊\n",
        "df = web.DataReader(\"TSLA\", 'yahoo', datetime(2016,1,1))"
      ],
      "execution_count": 3,
      "outputs": []
    },
    {
      "cell_type": "code",
      "metadata": {
        "id": "XJKeMLOmSoY3",
        "outputId": "6904e2e2-6402-43c5-a1f6-6de290eba5e5",
        "colab": {
          "base_uri": "https://localhost:8080/",
          "height": 228
        }
      },
      "source": [
        "df.head()"
      ],
      "execution_count": 4,
      "outputs": [
        {
          "output_type": "execute_result",
          "data": {
            "text/html": [
              "<div>\n",
              "<style scoped>\n",
              "    .dataframe tbody tr th:only-of-type {\n",
              "        vertical-align: middle;\n",
              "    }\n",
              "\n",
              "    .dataframe tbody tr th {\n",
              "        vertical-align: top;\n",
              "    }\n",
              "\n",
              "    .dataframe thead th {\n",
              "        text-align: right;\n",
              "    }\n",
              "</style>\n",
              "<table border=\"1\" class=\"dataframe\">\n",
              "  <thead>\n",
              "    <tr style=\"text-align: right;\">\n",
              "      <th></th>\n",
              "      <th>High</th>\n",
              "      <th>Low</th>\n",
              "      <th>Open</th>\n",
              "      <th>Close</th>\n",
              "      <th>Volume</th>\n",
              "      <th>Adj Close</th>\n",
              "    </tr>\n",
              "    <tr>\n",
              "      <th>Date</th>\n",
              "      <th></th>\n",
              "      <th></th>\n",
              "      <th></th>\n",
              "      <th></th>\n",
              "      <th></th>\n",
              "      <th></th>\n",
              "    </tr>\n",
              "  </thead>\n",
              "  <tbody>\n",
              "    <tr>\n",
              "      <th>2016-01-04</th>\n",
              "      <td>46.276001</td>\n",
              "      <td>43.799999</td>\n",
              "      <td>46.144001</td>\n",
              "      <td>44.681999</td>\n",
              "      <td>34135500.0</td>\n",
              "      <td>44.681999</td>\n",
              "    </tr>\n",
              "    <tr>\n",
              "      <th>2016-01-05</th>\n",
              "      <td>45.377998</td>\n",
              "      <td>44.000000</td>\n",
              "      <td>45.271999</td>\n",
              "      <td>44.686001</td>\n",
              "      <td>15934000.0</td>\n",
              "      <td>44.686001</td>\n",
              "    </tr>\n",
              "    <tr>\n",
              "      <th>2016-01-06</th>\n",
              "      <td>44.009998</td>\n",
              "      <td>43.195999</td>\n",
              "      <td>44.000000</td>\n",
              "      <td>43.807999</td>\n",
              "      <td>18895500.0</td>\n",
              "      <td>43.807999</td>\n",
              "    </tr>\n",
              "    <tr>\n",
              "      <th>2016-01-07</th>\n",
              "      <td>43.688000</td>\n",
              "      <td>42.734001</td>\n",
              "      <td>42.838001</td>\n",
              "      <td>43.130001</td>\n",
              "      <td>17771500.0</td>\n",
              "      <td>43.130001</td>\n",
              "    </tr>\n",
              "    <tr>\n",
              "      <th>2016-01-08</th>\n",
              "      <td>44.088001</td>\n",
              "      <td>42.153999</td>\n",
              "      <td>43.571999</td>\n",
              "      <td>42.200001</td>\n",
              "      <td>18140500.0</td>\n",
              "      <td>42.200001</td>\n",
              "    </tr>\n",
              "  </tbody>\n",
              "</table>\n",
              "</div>"
            ],
            "text/plain": [
              "                 High        Low       Open      Close      Volume  Adj Close\n",
              "Date                                                                         \n",
              "2016-01-04  46.276001  43.799999  46.144001  44.681999  34135500.0  44.681999\n",
              "2016-01-05  45.377998  44.000000  45.271999  44.686001  15934000.0  44.686001\n",
              "2016-01-06  44.009998  43.195999  44.000000  43.807999  18895500.0  43.807999\n",
              "2016-01-07  43.688000  42.734001  42.838001  43.130001  17771500.0  43.130001\n",
              "2016-01-08  44.088001  42.153999  43.571999  42.200001  18140500.0  42.200001"
            ]
          },
          "metadata": {
            "tags": []
          },
          "execution_count": 4
        }
      ]
    },
    {
      "cell_type": "markdown",
      "metadata": {
        "id": "dk7zT07oSoY3"
      },
      "source": [
        "## 檢視資料"
      ]
    },
    {
      "cell_type": "code",
      "metadata": {
        "id": "w-VkYhALSoY4",
        "outputId": "03aa8d47-e779-463f-c164-4202fac8a1e7",
        "colab": {
          "base_uri": "https://localhost:8080/",
          "height": 228
        }
      },
      "source": [
        "# 檢視最後五筆資料\n",
        "df.tail()"
      ],
      "execution_count": 5,
      "outputs": [
        {
          "output_type": "execute_result",
          "data": {
            "text/html": [
              "<div>\n",
              "<style scoped>\n",
              "    .dataframe tbody tr th:only-of-type {\n",
              "        vertical-align: middle;\n",
              "    }\n",
              "\n",
              "    .dataframe tbody tr th {\n",
              "        vertical-align: top;\n",
              "    }\n",
              "\n",
              "    .dataframe thead th {\n",
              "        text-align: right;\n",
              "    }\n",
              "</style>\n",
              "<table border=\"1\" class=\"dataframe\">\n",
              "  <thead>\n",
              "    <tr style=\"text-align: right;\">\n",
              "      <th></th>\n",
              "      <th>High</th>\n",
              "      <th>Low</th>\n",
              "      <th>Open</th>\n",
              "      <th>Close</th>\n",
              "      <th>Volume</th>\n",
              "      <th>Adj Close</th>\n",
              "    </tr>\n",
              "    <tr>\n",
              "      <th>Date</th>\n",
              "      <th></th>\n",
              "      <th></th>\n",
              "      <th></th>\n",
              "      <th></th>\n",
              "      <th></th>\n",
              "      <th></th>\n",
              "    </tr>\n",
              "  </thead>\n",
              "  <tbody>\n",
              "    <tr>\n",
              "      <th>2021-05-17</th>\n",
              "      <td>589.729980</td>\n",
              "      <td>561.200012</td>\n",
              "      <td>575.549988</td>\n",
              "      <td>576.830017</td>\n",
              "      <td>32390400.0</td>\n",
              "      <td>576.830017</td>\n",
              "    </tr>\n",
              "    <tr>\n",
              "      <th>2021-05-18</th>\n",
              "      <td>596.250000</td>\n",
              "      <td>563.380005</td>\n",
              "      <td>568.000000</td>\n",
              "      <td>577.869995</td>\n",
              "      <td>36830600.0</td>\n",
              "      <td>577.869995</td>\n",
              "    </tr>\n",
              "    <tr>\n",
              "      <th>2021-05-19</th>\n",
              "      <td>566.210022</td>\n",
              "      <td>546.979980</td>\n",
              "      <td>552.549988</td>\n",
              "      <td>563.460022</td>\n",
              "      <td>39578400.0</td>\n",
              "      <td>563.460022</td>\n",
              "    </tr>\n",
              "    <tr>\n",
              "      <th>2021-05-20</th>\n",
              "      <td>588.849976</td>\n",
              "      <td>571.070007</td>\n",
              "      <td>575.000000</td>\n",
              "      <td>586.780029</td>\n",
              "      <td>30821100.0</td>\n",
              "      <td>586.780029</td>\n",
              "    </tr>\n",
              "    <tr>\n",
              "      <th>2021-05-21</th>\n",
              "      <td>596.679993</td>\n",
              "      <td>580.000000</td>\n",
              "      <td>596.109985</td>\n",
              "      <td>580.880005</td>\n",
              "      <td>25943600.0</td>\n",
              "      <td>580.880005</td>\n",
              "    </tr>\n",
              "  </tbody>\n",
              "</table>\n",
              "</div>"
            ],
            "text/plain": [
              "                  High         Low  ...      Volume   Adj Close\n",
              "Date                                ...                        \n",
              "2021-05-17  589.729980  561.200012  ...  32390400.0  576.830017\n",
              "2021-05-18  596.250000  563.380005  ...  36830600.0  577.869995\n",
              "2021-05-19  566.210022  546.979980  ...  39578400.0  563.460022\n",
              "2021-05-20  588.849976  571.070007  ...  30821100.0  586.780029\n",
              "2021-05-21  596.679993  580.000000  ...  25943600.0  580.880005\n",
              "\n",
              "[5 rows x 6 columns]"
            ]
          },
          "metadata": {
            "tags": []
          },
          "execution_count": 5
        }
      ]
    },
    {
      "cell_type": "markdown",
      "metadata": {
        "id": "ffN0D_0HSoY4"
      },
      "source": [
        "## 繪製圖形"
      ]
    },
    {
      "cell_type": "code",
      "metadata": {
        "id": "EgzcqEGrSoY4",
        "outputId": "3ebe9ed5-cf0b-43b5-fc35-c98a45d8fdaf",
        "colab": {
          "base_uri": "https://localhost:8080/",
          "height": 483
        }
      },
      "source": [
        "df[['Close','Volume']].plot(subplots = True, figsize = (10, 8))\n",
        "plt.legend(loc='best')"
      ],
      "execution_count": 6,
      "outputs": [
        {
          "output_type": "execute_result",
          "data": {
            "text/plain": [
              "<matplotlib.legend.Legend at 0x7f39069b4b90>"
            ]
          },
          "metadata": {
            "tags": []
          },
          "execution_count": 6
        },
        {
          "output_type": "display_data",
          "data": {
            "image/png": "[encoded data removed]",
            "text/plain": [
              "<Figure size 720x576 with 2 Axes>"
            ]
          },
          "metadata": {
            "tags": [],
            "needs_background": "light"
          }
        }
      ]
    }
  ]
}