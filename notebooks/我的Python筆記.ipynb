{
  "nbformat": 4,
  "nbformat_minor": 0,
  "metadata": {
    "colab": {
      "name": "我的Python筆記.ipynb",
      "provenance": [],
      "toc_visible": true,
      "include_colab_link": true
    },
    "kernelspec": {
      "name": "python3",
      "display_name": "Python 3"
    },
    "language_info": {
      "name": "python"
    }
  },
  "cells": [
    {
      "cell_type": "markdown",
      "metadata": {
        "id": "view-in-github",
        "colab_type": "text"
      },
      "source": [
        "<a href=\"https://colab.research.google.com/github/jumbokh/ML-Class/blob/main/notebooks/%E6%88%91%E7%9A%84Python%E7%AD%86%E8%A8%98.ipynb\" target=\"_parent\"><img src=\"https://colab.research.google.com/assets/colab-badge.svg\" alt=\"Open In Colab\"/></a>"
      ]
    },
    {
      "cell_type": "markdown",
      "metadata": {
        "id": "bB_xUQRBmgA1"
      },
      "source": [
        "# 我的Python筆記\n"
      ]
    },
    {
      "cell_type": "markdown",
      "metadata": {
        "id": "a0WJUBgPryqC"
      },
      "source": [
        "## Python的變數"
      ]
    },
    {
      "cell_type": "code",
      "metadata": {
        "id": "9FTLTkXWr1O2"
      },
      "source": [
        "_abc = 1"
      ],
      "execution_count": null,
      "outputs": []
    },
    {
      "cell_type": "code",
      "metadata": {
        "id": "M6XklOFdsFrz"
      },
      "source": [
        "abc_ = 2"
      ],
      "execution_count": null,
      "outputs": []
    },
    {
      "cell_type": "code",
      "metadata": {
        "id": "cWJV0mX7sIHU"
      },
      "source": [
        "abc123 = 3"
      ],
      "execution_count": null,
      "outputs": []
    },
    {
      "cell_type": "markdown",
      "metadata": {
        "id": "aLoy19AcrQ-N"
      },
      "source": [
        "## Python的基本資料型態\n",
        "\n",
        "* int (整數)\n",
        "* float (浮點數)\n",
        "* bool (布林變數 boolean)\n",
        "* str (字串)"
      ]
    },
    {
      "cell_type": "markdown",
      "metadata": {
        "id": "ounJqtc6sU4-"
      },
      "source": [
        "### int (整數)"
      ]
    },
    {
      "cell_type": "code",
      "metadata": {
        "id": "hgD7H3G2kXyD"
      },
      "source": [
        "a = 1"
      ],
      "execution_count": null,
      "outputs": []
    },
    {
      "cell_type": "code",
      "metadata": {
        "colab": {
          "base_uri": "https://localhost:8080/"
        },
        "id": "5-0kfHMPsa7r",
        "outputId": "aeeb0ff8-3120-4d46-f1a2-cdac06daba60"
      },
      "source": [
        "type(a)"
      ],
      "execution_count": null,
      "outputs": [
        {
          "output_type": "execute_result",
          "data": {
            "text/plain": [
              "int"
            ]
          },
          "metadata": {},
          "execution_count": 10
        }
      ]
    },
    {
      "cell_type": "markdown",
      "metadata": {
        "id": "vHUSY_KfshO0"
      },
      "source": [
        "### float (浮點數)"
      ]
    },
    {
      "cell_type": "code",
      "metadata": {
        "id": "33bXKqRXskbn"
      },
      "source": [
        "b = 3.14"
      ],
      "execution_count": null,
      "outputs": []
    },
    {
      "cell_type": "code",
      "metadata": {
        "colab": {
          "base_uri": "https://localhost:8080/"
        },
        "id": "SACHc0eOsmBi",
        "outputId": "1a471779-56c6-435e-d119-31f0f1182fc4"
      },
      "source": [
        "type(b)"
      ],
      "execution_count": null,
      "outputs": [
        {
          "output_type": "execute_result",
          "data": {
            "text/plain": [
              "float"
            ]
          },
          "metadata": {},
          "execution_count": 12
        }
      ]
    },
    {
      "cell_type": "markdown",
      "metadata": {
        "id": "EqWcVBmPsrZV"
      },
      "source": [
        "### 應用題：\n",
        "\n",
        "```python\n",
        "a = 4\n",
        "b = 2\n",
        "c = a/b\n",
        "```\n",
        "請問 c 的資料型態？"
      ]
    },
    {
      "cell_type": "code",
      "metadata": {
        "id": "3pRROrQlsn9r"
      },
      "source": [
        "a = 4\n",
        "b = 2\n",
        "c = a/b"
      ],
      "execution_count": null,
      "outputs": []
    },
    {
      "cell_type": "code",
      "metadata": {
        "colab": {
          "base_uri": "https://localhost:8080/"
        },
        "id": "3NjYh1UnseCE",
        "outputId": "ce9ca1fc-9cc6-40d4-f701-0096571e57d7"
      },
      "source": [
        "type(c)"
      ],
      "execution_count": null,
      "outputs": [
        {
          "output_type": "execute_result",
          "data": {
            "text/plain": [
              "float"
            ]
          },
          "metadata": {},
          "execution_count": 14
        }
      ]
    },
    {
      "cell_type": "code",
      "metadata": {
        "colab": {
          "base_uri": "https://localhost:8080/"
        },
        "id": "djYA6ssjtqx-",
        "outputId": "0c2ba386-4016-4bac-eb9b-20bc8925131a"
      },
      "source": [
        "c"
      ],
      "execution_count": null,
      "outputs": [
        {
          "output_type": "execute_result",
          "data": {
            "text/plain": [
              "2.0"
            ]
          },
          "metadata": {},
          "execution_count": 15
        }
      ]
    },
    {
      "cell_type": "code",
      "metadata": {
        "id": "GWXJhJzYty9M"
      },
      "source": [
        "d = a // b"
      ],
      "execution_count": null,
      "outputs": []
    },
    {
      "cell_type": "code",
      "metadata": {
        "colab": {
          "base_uri": "https://localhost:8080/"
        },
        "id": "CfWxg5BNt11s",
        "outputId": "b5c9320b-0f0b-4a31-f404-d81725f6496f"
      },
      "source": [
        "type(d)"
      ],
      "execution_count": null,
      "outputs": [
        {
          "output_type": "execute_result",
          "data": {
            "text/plain": [
              "int"
            ]
          },
          "metadata": {},
          "execution_count": 17
        }
      ]
    },
    {
      "cell_type": "code",
      "metadata": {
        "colab": {
          "base_uri": "https://localhost:8080/"
        },
        "id": "z3fAqZbCt3je",
        "outputId": "186749b7-e5f2-4d61-9b51-801cea7d6c71"
      },
      "source": [
        "d"
      ],
      "execution_count": null,
      "outputs": [
        {
          "output_type": "execute_result",
          "data": {
            "text/plain": [
              "2"
            ]
          },
          "metadata": {},
          "execution_count": 18
        }
      ]
    },
    {
      "cell_type": "code",
      "metadata": {
        "id": "dQ7RwQrYyzw2"
      },
      "source": [
        "a1 = 5\n",
        "b1 = 2\n",
        "c1 = a1/b1\n",
        "d1 = a1//b1"
      ],
      "execution_count": null,
      "outputs": []
    },
    {
      "cell_type": "code",
      "metadata": {
        "colab": {
          "base_uri": "https://localhost:8080/"
        },
        "id": "kpfKJHaVy5LO",
        "outputId": "4be29c70-f82c-4dff-9c56-569abc574db8"
      },
      "source": [
        "c1"
      ],
      "execution_count": null,
      "outputs": [
        {
          "output_type": "execute_result",
          "data": {
            "text/plain": [
              "2.5"
            ]
          },
          "metadata": {},
          "execution_count": 29
        }
      ]
    },
    {
      "cell_type": "code",
      "metadata": {
        "colab": {
          "base_uri": "https://localhost:8080/"
        },
        "id": "CXFbR814y6RM",
        "outputId": "50cbcf2d-97c2-40e7-9715-1336a511e91a"
      },
      "source": [
        "d1"
      ],
      "execution_count": null,
      "outputs": [
        {
          "output_type": "execute_result",
          "data": {
            "text/plain": [
              "2"
            ]
          },
          "metadata": {},
          "execution_count": 30
        }
      ]
    },
    {
      "cell_type": "code",
      "metadata": {
        "id": "BCu6t1w_y7Q_"
      },
      "source": [
        "data = [1, 2, 3, 4, 5]"
      ],
      "execution_count": null,
      "outputs": []
    },
    {
      "cell_type": "code",
      "metadata": {
        "colab": {
          "base_uri": "https://localhost:8080/"
        },
        "id": "2TTSNOcCzF6e",
        "outputId": "f356e3f8-ad57-4a3c-8433-66611e0b9058"
      },
      "source": [
        "type(c)"
      ],
      "execution_count": null,
      "outputs": [
        {
          "output_type": "execute_result",
          "data": {
            "text/plain": [
              "float"
            ]
          },
          "metadata": {},
          "execution_count": 32
        }
      ]
    },
    {
      "cell_type": "code",
      "metadata": {
        "colab": {
          "base_uri": "https://localhost:8080/",
          "height": 166
        },
        "id": "Vgq6v795zH35",
        "outputId": "d2e7a0d1-d8a5-44c0-ab69-9db8241d2bda"
      },
      "source": [
        "data[c]"
      ],
      "execution_count": null,
      "outputs": [
        {
          "output_type": "error",
          "ename": "TypeError",
          "evalue": "ignored",
          "traceback": [
            "\u001b[0;31m---------------------------------------------------------------------------\u001b[0m",
            "\u001b[0;31mTypeError\u001b[0m                                 Traceback (most recent call last)",
            "\u001b[0;32m<ipython-input-33-b2730bb0a717>\u001b[0m in \u001b[0;36m<module>\u001b[0;34m()\u001b[0m\n\u001b[0;32m----> 1\u001b[0;31m \u001b[0mdata\u001b[0m\u001b[0;34m[\u001b[0m\u001b[0mc\u001b[0m\u001b[0;34m]\u001b[0m\u001b[0;34m\u001b[0m\u001b[0;34m\u001b[0m\u001b[0m\n\u001b[0m",
            "\u001b[0;31mTypeError\u001b[0m: list indices must be integers or slices, not float"
          ]
        }
      ]
    },
    {
      "cell_type": "code",
      "metadata": {
        "colab": {
          "base_uri": "https://localhost:8080/"
        },
        "id": "cJY9j5EJzQ3W",
        "outputId": "bd2c54eb-581f-4adf-87a6-da397ff64ff4"
      },
      "source": [
        "data[d]"
      ],
      "execution_count": null,
      "outputs": [
        {
          "output_type": "execute_result",
          "data": {
            "text/plain": [
              "3"
            ]
          },
          "metadata": {},
          "execution_count": 34
        }
      ]
    },
    {
      "cell_type": "code",
      "metadata": {
        "id": "z5lCqbzLzR4w"
      },
      "source": [
        ""
      ],
      "execution_count": null,
      "outputs": []
    },
    {
      "cell_type": "markdown",
      "metadata": {
        "id": "ahiPJ17zuKEl"
      },
      "source": [
        "### bool (布林變數)"
      ]
    },
    {
      "cell_type": "code",
      "metadata": {
        "colab": {
          "base_uri": "https://localhost:8080/"
        },
        "id": "VJmswXeVuPzR",
        "outputId": "6a403c90-ada4-416c-a10e-d2908e7fa23d"
      },
      "source": [
        "3 > 2"
      ],
      "execution_count": null,
      "outputs": [
        {
          "output_type": "execute_result",
          "data": {
            "text/plain": [
              "True"
            ]
          },
          "metadata": {},
          "execution_count": 19
        }
      ]
    },
    {
      "cell_type": "code",
      "metadata": {
        "colab": {
          "base_uri": "https://localhost:8080/"
        },
        "id": "65551dbkuW1t",
        "outputId": "bbea8669-4ac6-4bf1-e83a-b85cbef00da2"
      },
      "source": [
        "3 < 2"
      ],
      "execution_count": null,
      "outputs": [
        {
          "output_type": "execute_result",
          "data": {
            "text/plain": [
              "False"
            ]
          },
          "metadata": {},
          "execution_count": 20
        }
      ]
    },
    {
      "cell_type": "code",
      "metadata": {
        "id": "J5FAUXmXuYTw"
      },
      "source": [
        "e = 3 > 2"
      ],
      "execution_count": null,
      "outputs": []
    },
    {
      "cell_type": "code",
      "metadata": {
        "colab": {
          "base_uri": "https://localhost:8080/"
        },
        "id": "Bl7SgtDUucxz",
        "outputId": "96b39bb3-4f51-4f04-eb27-735ddd228c74"
      },
      "source": [
        "type(e)"
      ],
      "execution_count": null,
      "outputs": [
        {
          "output_type": "execute_result",
          "data": {
            "text/plain": [
              "bool"
            ]
          },
          "metadata": {},
          "execution_count": 22
        }
      ]
    },
    {
      "cell_type": "code",
      "metadata": {
        "colab": {
          "base_uri": "https://localhost:8080/"
        },
        "id": "DFHZu_wpueP4",
        "outputId": "a877389d-22a6-4f6f-dc29-9280ea3f19f8"
      },
      "source": [
        "# 比較是否相等\n",
        "3 == 2"
      ],
      "execution_count": null,
      "outputs": [
        {
          "output_type": "execute_result",
          "data": {
            "text/plain": [
              "False"
            ]
          },
          "metadata": {},
          "execution_count": 24
        }
      ]
    },
    {
      "cell_type": "code",
      "metadata": {
        "id": "ZaTexJtNu417"
      },
      "source": [
        "f = a == b"
      ],
      "execution_count": null,
      "outputs": []
    },
    {
      "cell_type": "code",
      "metadata": {
        "colab": {
          "base_uri": "https://localhost:8080/"
        },
        "id": "Lu9R4zmzvWUJ",
        "outputId": "41bba6c1-a2df-4fec-ec01-5c1edf80fda3"
      },
      "source": [
        "f"
      ],
      "execution_count": null,
      "outputs": [
        {
          "output_type": "execute_result",
          "data": {
            "text/plain": [
              "False"
            ]
          },
          "metadata": {},
          "execution_count": 26
        }
      ]
    },
    {
      "cell_type": "code",
      "metadata": {
        "colab": {
          "base_uri": "https://localhost:8080/"
        },
        "id": "CyrQP108vhAk",
        "outputId": "e39b3f2b-7bb5-4f6b-f4cf-3e6521a57084"
      },
      "source": [
        "type(f)"
      ],
      "execution_count": null,
      "outputs": [
        {
          "output_type": "execute_result",
          "data": {
            "text/plain": [
              "bool"
            ]
          },
          "metadata": {},
          "execution_count": 27
        }
      ]
    },
    {
      "cell_type": "code",
      "metadata": {
        "id": "qaRDBlpiviyl"
      },
      "source": [
        ""
      ],
      "execution_count": null,
      "outputs": []
    },
    {
      "cell_type": "markdown",
      "metadata": {
        "id": "HrVpEM_dzyMp"
      },
      "source": [
        "### str (字串)"
      ]
    },
    {
      "cell_type": "code",
      "metadata": {
        "id": "VOtQ93S7z1VB"
      },
      "source": [
        "g = \"dog\""
      ],
      "execution_count": null,
      "outputs": []
    },
    {
      "cell_type": "code",
      "metadata": {
        "colab": {
          "base_uri": "https://localhost:8080/"
        },
        "id": "EvtRlY9t0dme",
        "outputId": "c2b596b3-476f-4876-8af6-a23bf6eddbc0"
      },
      "source": [
        "type(g)"
      ],
      "execution_count": null,
      "outputs": [
        {
          "output_type": "execute_result",
          "data": {
            "text/plain": [
              "str"
            ]
          },
          "metadata": {},
          "execution_count": 37
        }
      ]
    },
    {
      "cell_type": "markdown",
      "metadata": {
        "id": "T5rJu48b1rrr"
      },
      "source": [
        "### 應用題：\n",
        "\n",
        "畫金字塔"
      ]
    },
    {
      "cell_type": "code",
      "metadata": {
        "colab": {
          "base_uri": "https://localhost:8080/"
        },
        "id": "Pd3GBjoV1vhz",
        "outputId": "29946e75-8bba-4c62-a499-b153a8416449"
      },
      "source": [
        "type('o')"
      ],
      "execution_count": null,
      "outputs": [
        {
          "output_type": "execute_result",
          "data": {
            "text/plain": [
              "str"
            ]
          },
          "metadata": {},
          "execution_count": 38
        }
      ]
    },
    {
      "cell_type": "code",
      "metadata": {
        "colab": {
          "base_uri": "https://localhost:8080/",
          "height": 34
        },
        "id": "Hdq_MNV516Tk",
        "outputId": "52381425-0e33-4999-b436-b840389a81ab"
      },
      "source": [
        "'o' + 'p'"
      ],
      "execution_count": null,
      "outputs": [
        {
          "output_type": "execute_result",
          "data": {
            "application/vnd.google.colaboratory.intrinsic+json": {
              "type": "string"
            },
            "text/plain": [
              "'op'"
            ]
          },
          "metadata": {},
          "execution_count": 39
        }
      ]
    },
    {
      "cell_type": "code",
      "metadata": {
        "colab": {
          "base_uri": "https://localhost:8080/",
          "height": 34
        },
        "id": "MVyvAzdX192L",
        "outputId": "8efd8819-453f-4a4c-e66e-c307cff3ad39"
      },
      "source": [
        "'o' * 5"
      ],
      "execution_count": null,
      "outputs": [
        {
          "output_type": "execute_result",
          "data": {
            "application/vnd.google.colaboratory.intrinsic+json": {
              "type": "string"
            },
            "text/plain": [
              "'ooooo'"
            ]
          },
          "metadata": {},
          "execution_count": 40
        }
      ]
    },
    {
      "cell_type": "code",
      "metadata": {
        "colab": {
          "base_uri": "https://localhost:8080/"
        },
        "id": "XDnPJPPp2qLA",
        "outputId": "440d457c-c314-48eb-e24c-ba6a6a0a486f"
      },
      "source": [
        "for n in range(5):\n",
        "  print(n)"
      ],
      "execution_count": null,
      "outputs": [
        {
          "output_type": "stream",
          "text": [
            "0\n",
            "1\n",
            "2\n",
            "3\n",
            "4\n"
          ],
          "name": "stdout"
        }
      ]
    },
    {
      "cell_type": "code",
      "metadata": {
        "colab": {
          "base_uri": "https://localhost:8080/"
        },
        "id": "W6I6G4sq2CG7",
        "outputId": "45517aa9-e103-43c4-de9b-8633b019049c"
      },
      "source": [
        "for n in range(5):\n",
        "  print(2*n+1)"
      ],
      "execution_count": null,
      "outputs": [
        {
          "output_type": "stream",
          "text": [
            "1\n",
            "3\n",
            "5\n",
            "7\n",
            "9\n"
          ],
          "name": "stdout"
        }
      ]
    },
    {
      "cell_type": "code",
      "metadata": {
        "colab": {
          "base_uri": "https://localhost:8080/"
        },
        "id": "MdoEhQ1A2gYL",
        "outputId": "f74aabbe-53a6-4055-b8ab-b41b72f278a6"
      },
      "source": [
        "for n in range(5):\n",
        "  print((2*n+1)*'*')"
      ],
      "execution_count": null,
      "outputs": [
        {
          "output_type": "stream",
          "text": [
            "*\n",
            "***\n",
            "*****\n",
            "*******\n",
            "*********\n"
          ],
          "name": "stdout"
        }
      ]
    },
    {
      "cell_type": "code",
      "metadata": {
        "colab": {
          "base_uri": "https://localhost:8080/",
          "height": 34
        },
        "id": "2PJNLjCy2zJe",
        "outputId": "5a259bdd-a37e-4f26-917d-de554bb82811"
      },
      "source": [
        "'*' * 3 + ' ' * 3 + '*' * 3 "
      ],
      "execution_count": null,
      "outputs": [
        {
          "output_type": "execute_result",
          "data": {
            "application/vnd.google.colaboratory.intrinsic+json": {
              "type": "string"
            },
            "text/plain": [
              "'***   ***'"
            ]
          },
          "metadata": {},
          "execution_count": 45
        }
      ]
    },
    {
      "cell_type": "code",
      "metadata": {
        "colab": {
          "base_uri": "https://localhost:8080/"
        },
        "id": "dEz-Rvxy3G-S",
        "outputId": "8e5d812c-e55c-495d-a8f5-32f371a80075"
      },
      "source": [
        "for n in range(5):\n",
        "  print((5-n)*' '+(2*n+1)*'*')"
      ],
      "execution_count": null,
      "outputs": [
        {
          "output_type": "stream",
          "text": [
            "     *\n",
            "    ***\n",
            "   *****\n",
            "  *******\n",
            " *********\n"
          ],
          "name": "stdout"
        }
      ]
    },
    {
      "cell_type": "code",
      "metadata": {
        "id": "kWyJJtzp2cbV"
      },
      "source": [
        "def abc():\n",
        "  print(\"Hello World!\")"
      ],
      "execution_count": null,
      "outputs": []
    },
    {
      "cell_type": "code",
      "metadata": {
        "colab": {
          "base_uri": "https://localhost:8080/"
        },
        "id": "Jzg554YR5S2C",
        "outputId": "60e5fa10-ea62-48cc-e8b6-800ae1d40588"
      },
      "source": [
        "abc()"
      ],
      "execution_count": null,
      "outputs": [
        {
          "output_type": "stream",
          "text": [
            "Hello World!\n"
          ],
          "name": "stdout"
        }
      ]
    },
    {
      "cell_type": "code",
      "metadata": {
        "colab": {
          "base_uri": "https://localhost:8080/"
        },
        "id": "uTnC3hDJ5T3W",
        "outputId": "2f62775f-54fb-41e7-f101-ba9f6459dd18"
      },
      "source": [
        "type(abc)"
      ],
      "execution_count": null,
      "outputs": [
        {
          "output_type": "execute_result",
          "data": {
            "text/plain": [
              "function"
            ]
          },
          "metadata": {},
          "execution_count": 48
        }
      ]
    },
    {
      "cell_type": "code",
      "metadata": {
        "id": "kzO9Qt4N5VKm"
      },
      "source": [
        "abc = '123'"
      ],
      "execution_count": null,
      "outputs": []
    },
    {
      "cell_type": "code",
      "metadata": {
        "colab": {
          "base_uri": "https://localhost:8080/"
        },
        "id": "34BHU24A5YXg",
        "outputId": "ba279545-9cc5-452d-deee-0d0dcc53e7ba"
      },
      "source": [
        "type(abc)"
      ],
      "execution_count": null,
      "outputs": [
        {
          "output_type": "execute_result",
          "data": {
            "text/plain": [
              "str"
            ]
          },
          "metadata": {},
          "execution_count": 50
        }
      ]
    },
    {
      "cell_type": "code",
      "metadata": {
        "colab": {
          "base_uri": "https://localhost:8080/",
          "height": 166
        },
        "id": "2Xcyh7X95bQC",
        "outputId": "18bfe672-ea8d-42ad-9967-be4fc5a7ae11"
      },
      "source": [
        "abc()"
      ],
      "execution_count": null,
      "outputs": [
        {
          "output_type": "error",
          "ename": "TypeError",
          "evalue": "ignored",
          "traceback": [
            "\u001b[0;31m---------------------------------------------------------------------------\u001b[0m",
            "\u001b[0;31mTypeError\u001b[0m                                 Traceback (most recent call last)",
            "\u001b[0;32m<ipython-input-51-79c8afb7007d>\u001b[0m in \u001b[0;36m<module>\u001b[0;34m()\u001b[0m\n\u001b[0;32m----> 1\u001b[0;31m \u001b[0mabc\u001b[0m\u001b[0;34m(\u001b[0m\u001b[0;34m)\u001b[0m\u001b[0;34m\u001b[0m\u001b[0;34m\u001b[0m\u001b[0m\n\u001b[0m",
            "\u001b[0;31mTypeError\u001b[0m: 'str' object is not callable"
          ]
        }
      ]
    },
    {
      "cell_type": "code",
      "metadata": {
        "id": "OfGfSRRC5cEG"
      },
      "source": [
        "h = \"It's my book!\""
      ],
      "execution_count": null,
      "outputs": []
    },
    {
      "cell_type": "code",
      "metadata": {
        "id": "eo6m7J6Q7Kh_"
      },
      "source": [
        "i = 'It\\'s my book!'"
      ],
      "execution_count": null,
      "outputs": []
    },
    {
      "cell_type": "code",
      "metadata": {
        "colab": {
          "base_uri": "https://localhost:8080/",
          "height": 34
        },
        "id": "mJYGb3r37nSh",
        "outputId": "60b7306c-a9a6-4392-9f9b-7321d13ced23"
      },
      "source": [
        "i"
      ],
      "execution_count": null,
      "outputs": [
        {
          "output_type": "execute_result",
          "data": {
            "application/vnd.google.colaboratory.intrinsic+json": {
              "type": "string"
            },
            "text/plain": [
              "\"It's my book!\""
            ]
          },
          "metadata": {},
          "execution_count": 57
        }
      ]
    },
    {
      "cell_type": "code",
      "metadata": {
        "colab": {
          "base_uri": "https://localhost:8080/"
        },
        "id": "FJfX9VUX7oKm",
        "outputId": "ba5b9892-4c6c-489d-b3a8-da7b8a30996d"
      },
      "source": [
        "type(i)"
      ],
      "execution_count": null,
      "outputs": [
        {
          "output_type": "execute_result",
          "data": {
            "text/plain": [
              "str"
            ]
          },
          "metadata": {},
          "execution_count": 58
        }
      ]
    },
    {
      "cell_type": "code",
      "metadata": {
        "id": "C5xRWzze7qUX"
      },
      "source": [
        ""
      ],
      "execution_count": null,
      "outputs": []
    },
    {
      "cell_type": "code",
      "metadata": {
        "id": "GH3dNuL-7RQj"
      },
      "source": [
        ""
      ],
      "execution_count": null,
      "outputs": []
    },
    {
      "cell_type": "markdown",
      "metadata": {
        "id": "rSCrl0vW1Ejo"
      },
      "source": [
        "## Python的容器型別\n",
        "\n",
        "* list\n",
        "* tuple\n",
        "* dict\n",
        "* set"
      ]
    },
    {
      "cell_type": "markdown",
      "metadata": {
        "id": "0Y1DCwoY835w"
      },
      "source": [
        "### list ==> [ ]"
      ]
    },
    {
      "cell_type": "code",
      "metadata": {
        "id": "zS72nHfI0ez4"
      },
      "source": [
        "x = ['a', 'b', 'c', 'd', 'e']"
      ],
      "execution_count": null,
      "outputs": []
    },
    {
      "cell_type": "code",
      "metadata": {
        "colab": {
          "base_uri": "https://localhost:8080/"
        },
        "id": "nioLDvhl0Qtv",
        "outputId": "c1c8aa43-05f7-4404-c494-e058ebf4f908"
      },
      "source": [
        "type(x)"
      ],
      "execution_count": null,
      "outputs": [
        {
          "output_type": "execute_result",
          "data": {
            "text/plain": [
              "list"
            ]
          },
          "metadata": {},
          "execution_count": 61
        }
      ]
    },
    {
      "cell_type": "markdown",
      "metadata": {
        "id": "WUw-3N9gEiF3"
      },
      "source": [
        "#### indexing"
      ]
    },
    {
      "cell_type": "code",
      "metadata": {
        "colab": {
          "base_uri": "https://localhost:8080/",
          "height": 34
        },
        "id": "VJbp2ccJ81mm",
        "outputId": "e1b7fcd5-3908-49c8-8ce8-3379388415ab"
      },
      "source": [
        "x[2]"
      ],
      "execution_count": null,
      "outputs": [
        {
          "output_type": "execute_result",
          "data": {
            "application/vnd.google.colaboratory.intrinsic+json": {
              "type": "string"
            },
            "text/plain": [
              "'c'"
            ]
          },
          "metadata": {},
          "execution_count": 62
        }
      ]
    },
    {
      "cell_type": "markdown",
      "metadata": {
        "id": "u048gfw2EmJi"
      },
      "source": [
        "#### slicing"
      ]
    },
    {
      "cell_type": "code",
      "metadata": {
        "colab": {
          "base_uri": "https://localhost:8080/"
        },
        "id": "2M8ahKl5-lNR",
        "outputId": "c81f6afd-e43e-427e-ab1a-0466c1f57beb"
      },
      "source": [
        "x[1:3]"
      ],
      "execution_count": null,
      "outputs": [
        {
          "output_type": "execute_result",
          "data": {
            "text/plain": [
              "['b', 'c']"
            ]
          },
          "metadata": {},
          "execution_count": 63
        }
      ]
    },
    {
      "cell_type": "code",
      "metadata": {
        "colab": {
          "base_uri": "https://localhost:8080/"
        },
        "id": "RLBoCo1w-yFl",
        "outputId": "60c78d0a-0227-41fe-95bb-2dd800529833"
      },
      "source": [
        "x[:3]"
      ],
      "execution_count": null,
      "outputs": [
        {
          "output_type": "execute_result",
          "data": {
            "text/plain": [
              "['a', 'b', 'c']"
            ]
          },
          "metadata": {},
          "execution_count": 64
        }
      ]
    },
    {
      "cell_type": "code",
      "metadata": {
        "colab": {
          "base_uri": "https://localhost:8080/"
        },
        "id": "RdS82_2T-87L",
        "outputId": "4ae92afc-6200-420e-b0c3-7073dd63ba72"
      },
      "source": [
        "x[-3:]"
      ],
      "execution_count": null,
      "outputs": [
        {
          "output_type": "execute_result",
          "data": {
            "text/plain": [
              "['c', 'd', 'e']"
            ]
          },
          "metadata": {},
          "execution_count": 65
        }
      ]
    },
    {
      "cell_type": "code",
      "metadata": {
        "id": "tAeR7Xb4_Cgy"
      },
      "source": [
        "x.append?"
      ],
      "execution_count": null,
      "outputs": []
    },
    {
      "cell_type": "code",
      "metadata": {
        "id": "CoX3hCBF_eJR"
      },
      "source": [
        "x.append(1)"
      ],
      "execution_count": null,
      "outputs": []
    },
    {
      "cell_type": "code",
      "metadata": {
        "colab": {
          "base_uri": "https://localhost:8080/"
        },
        "id": "8y_lj_RB_Uie",
        "outputId": "0e9f5853-4328-425f-9387-a8cb29d6f0e9"
      },
      "source": [
        "x"
      ],
      "execution_count": null,
      "outputs": [
        {
          "output_type": "execute_result",
          "data": {
            "text/plain": [
              "['a', 'b', 'c', 'd', 'e', 1]"
            ]
          },
          "metadata": {},
          "execution_count": 69
        }
      ]
    },
    {
      "cell_type": "code",
      "metadata": {
        "id": "dJyvnkBf_mOj"
      },
      "source": [
        "x.clear?"
      ],
      "execution_count": null,
      "outputs": []
    },
    {
      "cell_type": "code",
      "metadata": {
        "id": "t2xAu3i__q5G"
      },
      "source": [
        "y = list(range(5))"
      ],
      "execution_count": null,
      "outputs": []
    },
    {
      "cell_type": "code",
      "metadata": {
        "colab": {
          "base_uri": "https://localhost:8080/"
        },
        "id": "TkorI2E__8Di",
        "outputId": "89c3b09f-afe6-4d50-a75a-9a1e37508410"
      },
      "source": [
        "y"
      ],
      "execution_count": null,
      "outputs": [
        {
          "output_type": "execute_result",
          "data": {
            "text/plain": [
              "[0, 1, 2, 3, 4]"
            ]
          },
          "metadata": {},
          "execution_count": 72
        }
      ]
    },
    {
      "cell_type": "code",
      "metadata": {
        "id": "n094czFt_8yJ"
      },
      "source": [
        "y.reverse()"
      ],
      "execution_count": null,
      "outputs": []
    },
    {
      "cell_type": "code",
      "metadata": {
        "colab": {
          "base_uri": "https://localhost:8080/"
        },
        "id": "EPlfaDIrAHte",
        "outputId": "91747e5b-6854-4a39-f5de-9d9596baf698"
      },
      "source": [
        "y"
      ],
      "execution_count": null,
      "outputs": [
        {
          "output_type": "execute_result",
          "data": {
            "text/plain": [
              "[4, 3, 2, 1, 0]"
            ]
          },
          "metadata": {},
          "execution_count": 75
        }
      ]
    },
    {
      "cell_type": "markdown",
      "metadata": {
        "id": "vtXWJprMBmis"
      },
      "source": [
        "### 應用題：\n",
        "\n",
        "請寫一個程式取出底下連結的圖片檔名：\n",
        "https://imgcdn.cna.com.tw/www/WebPhotos/1024/20210604/615x615_934339607507.jpg"
      ]
    },
    {
      "cell_type": "code",
      "metadata": {
        "id": "oxba6GsQAIRG"
      },
      "source": [
        "url = \"https://imgcdn.cna.com.tw/www/WebPhotos/1024/20210604/615x615_934339607507.jpg\""
      ],
      "execution_count": null,
      "outputs": []
    },
    {
      "cell_type": "code",
      "metadata": {
        "colab": {
          "base_uri": "https://localhost:8080/"
        },
        "id": "0eh3KM-oCRnf",
        "outputId": "b8290f9b-0507-4c88-d20d-b80c962058c8"
      },
      "source": [
        "type(url)"
      ],
      "execution_count": null,
      "outputs": [
        {
          "output_type": "execute_result",
          "data": {
            "text/plain": [
              "str"
            ]
          },
          "metadata": {},
          "execution_count": 77
        }
      ]
    },
    {
      "cell_type": "code",
      "metadata": {
        "colab": {
          "base_uri": "https://localhost:8080/",
          "height": 34
        },
        "id": "gI-M2PmXCScL",
        "outputId": "5fa5ca9f-e70a-41c4-b445-6ea4482bafd8"
      },
      "source": [
        "url[-24:]"
      ],
      "execution_count": null,
      "outputs": [
        {
          "output_type": "execute_result",
          "data": {
            "application/vnd.google.colaboratory.intrinsic+json": {
              "type": "string"
            },
            "text/plain": [
              "'615x615_934339607507.jpg'"
            ]
          },
          "metadata": {},
          "execution_count": 78
        }
      ]
    },
    {
      "cell_type": "code",
      "metadata": {
        "colab": {
          "base_uri": "https://localhost:8080/",
          "height": 34
        },
        "id": "16oMPwWnCkx1",
        "outputId": "b52fb248-6ab9-48da-882a-e46df3ba81d2"
      },
      "source": [
        "url.split('/')[-1]"
      ],
      "execution_count": null,
      "outputs": [
        {
          "output_type": "execute_result",
          "data": {
            "application/vnd.google.colaboratory.intrinsic+json": {
              "type": "string"
            },
            "text/plain": [
              "'615x615_934339607507.jpg'"
            ]
          },
          "metadata": {},
          "execution_count": 81
        }
      ]
    },
    {
      "cell_type": "code",
      "metadata": {
        "colab": {
          "base_uri": "https://localhost:8080/"
        },
        "id": "c6MZWkkFCs7Y",
        "outputId": "1fda4b6a-4a15-4f41-a8ee-f89388469e41"
      },
      "source": [
        "for i in y:\n",
        "  print(i)"
      ],
      "execution_count": null,
      "outputs": [
        {
          "output_type": "stream",
          "text": [
            "4\n",
            "3\n",
            "2\n",
            "1\n",
            "0\n"
          ],
          "name": "stdout"
        }
      ]
    },
    {
      "cell_type": "code",
      "metadata": {
        "colab": {
          "base_uri": "https://localhost:8080/"
        },
        "id": "_YscshkcD-Im",
        "outputId": "eee6eb49-2df4-4e4d-ccc3-4fc971d402bb"
      },
      "source": [
        "for i in x:\n",
        "  print(i)"
      ],
      "execution_count": null,
      "outputs": [
        {
          "output_type": "stream",
          "text": [
            "a\n",
            "b\n",
            "c\n",
            "d\n",
            "e\n",
            "1\n"
          ],
          "name": "stdout"
        }
      ]
    },
    {
      "cell_type": "markdown",
      "metadata": {
        "id": "UrayfLRWENDd"
      },
      "source": [
        "### tuple ==> ( )"
      ]
    },
    {
      "cell_type": "code",
      "metadata": {
        "id": "Jn0EDfUwEDEi"
      },
      "source": [
        "x1 = ('a', 'b', 'c', 'd', 'e')"
      ],
      "execution_count": null,
      "outputs": []
    },
    {
      "cell_type": "code",
      "metadata": {
        "colab": {
          "base_uri": "https://localhost:8080/"
        },
        "id": "DmQdOgDgEbpr",
        "outputId": "e210bcf4-4198-412c-f388-888fe2ed257a"
      },
      "source": [
        "type(x1)"
      ],
      "execution_count": null,
      "outputs": [
        {
          "output_type": "execute_result",
          "data": {
            "text/plain": [
              "tuple"
            ]
          },
          "metadata": {},
          "execution_count": 85
        }
      ]
    },
    {
      "cell_type": "markdown",
      "metadata": {
        "id": "0sqerUhOEyZz"
      },
      "source": [
        "#### indexing"
      ]
    },
    {
      "cell_type": "code",
      "metadata": {
        "colab": {
          "base_uri": "https://localhost:8080/",
          "height": 34
        },
        "id": "mucbzL5iEck8",
        "outputId": "6a35e921-dd41-472e-e5e3-fd2702341bb8"
      },
      "source": [
        "x1[2]"
      ],
      "execution_count": null,
      "outputs": [
        {
          "output_type": "execute_result",
          "data": {
            "application/vnd.google.colaboratory.intrinsic+json": {
              "type": "string"
            },
            "text/plain": [
              "'c'"
            ]
          },
          "metadata": {},
          "execution_count": 87
        }
      ]
    },
    {
      "cell_type": "markdown",
      "metadata": {
        "id": "Umn6j1USE0n1"
      },
      "source": [
        "#### slicing"
      ]
    },
    {
      "cell_type": "code",
      "metadata": {
        "colab": {
          "base_uri": "https://localhost:8080/"
        },
        "id": "nXf6GHdUE15B",
        "outputId": "e5b991d4-37ba-4089-ab3f-9011974b3439"
      },
      "source": [
        "x1[1:3]"
      ],
      "execution_count": null,
      "outputs": [
        {
          "output_type": "execute_result",
          "data": {
            "text/plain": [
              "('b', 'c')"
            ]
          },
          "metadata": {},
          "execution_count": 88
        }
      ]
    },
    {
      "cell_type": "code",
      "metadata": {
        "colab": {
          "base_uri": "https://localhost:8080/"
        },
        "id": "htI1wHgoFAxe",
        "outputId": "a9d06d3f-a4e3-4278-d2e2-ea7da0d4fd19"
      },
      "source": [
        "x1[:3]"
      ],
      "execution_count": null,
      "outputs": [
        {
          "output_type": "execute_result",
          "data": {
            "text/plain": [
              "('a', 'b', 'c')"
            ]
          },
          "metadata": {},
          "execution_count": 90
        }
      ]
    },
    {
      "cell_type": "code",
      "metadata": {
        "colab": {
          "base_uri": "https://localhost:8080/"
        },
        "id": "I3-E4zIMFIOi",
        "outputId": "cf77f89f-8e83-4557-dfd8-52ae8160748a"
      },
      "source": [
        "type(x)"
      ],
      "execution_count": null,
      "outputs": [
        {
          "output_type": "execute_result",
          "data": {
            "text/plain": [
              "list"
            ]
          },
          "metadata": {},
          "execution_count": 91
        }
      ]
    },
    {
      "cell_type": "code",
      "metadata": {
        "colab": {
          "base_uri": "https://localhost:8080/"
        },
        "id": "-Y-xct_CFNZJ",
        "outputId": "160fc3bc-c12b-456f-b8ca-cb5daf0d3e68"
      },
      "source": [
        "type(x1)"
      ],
      "execution_count": null,
      "outputs": [
        {
          "output_type": "execute_result",
          "data": {
            "text/plain": [
              "tuple"
            ]
          },
          "metadata": {},
          "execution_count": 92
        }
      ]
    },
    {
      "cell_type": "code",
      "metadata": {
        "id": "Fng8eHHaFO5Q"
      },
      "source": [
        "x[2] = 'cc'"
      ],
      "execution_count": null,
      "outputs": []
    },
    {
      "cell_type": "code",
      "metadata": {
        "colab": {
          "base_uri": "https://localhost:8080/"
        },
        "id": "TQaUciMMFkXZ",
        "outputId": "465fd070-3914-4dd1-fd4a-9d6206d8903a"
      },
      "source": [
        "x"
      ],
      "execution_count": null,
      "outputs": [
        {
          "output_type": "execute_result",
          "data": {
            "text/plain": [
              "['a', 'b', 'cc', 'd', 'e', 1]"
            ]
          },
          "metadata": {},
          "execution_count": 96
        }
      ]
    },
    {
      "cell_type": "code",
      "metadata": {
        "colab": {
          "base_uri": "https://localhost:8080/",
          "height": 166
        },
        "id": "Wnb79LimFphO",
        "outputId": "ea9d0fc2-b1c6-47c5-ed68-e2ee28c07e50"
      },
      "source": [
        "x1[2] = 'cc'"
      ],
      "execution_count": null,
      "outputs": [
        {
          "output_type": "error",
          "ename": "TypeError",
          "evalue": "ignored",
          "traceback": [
            "\u001b[0;31m---------------------------------------------------------------------------\u001b[0m",
            "\u001b[0;31mTypeError\u001b[0m                                 Traceback (most recent call last)",
            "\u001b[0;32m<ipython-input-98-d8d1381d39d7>\u001b[0m in \u001b[0;36m<module>\u001b[0;34m()\u001b[0m\n\u001b[0;32m----> 1\u001b[0;31m \u001b[0mx1\u001b[0m\u001b[0;34m[\u001b[0m\u001b[0;36m2\u001b[0m\u001b[0;34m]\u001b[0m \u001b[0;34m=\u001b[0m \u001b[0;34m'cc'\u001b[0m\u001b[0;34m\u001b[0m\u001b[0;34m\u001b[0m\u001b[0m\n\u001b[0m",
            "\u001b[0;31mTypeError\u001b[0m: 'tuple' object does not support item assignment"
          ]
        }
      ]
    },
    {
      "cell_type": "markdown",
      "metadata": {
        "id": "aVgWCItBGILH"
      },
      "source": [
        "### dict ==> { }"
      ]
    },
    {
      "cell_type": "code",
      "metadata": {
        "id": "_W9yBombFswC"
      },
      "source": [
        "m = {}"
      ],
      "execution_count": null,
      "outputs": []
    },
    {
      "cell_type": "code",
      "metadata": {
        "colab": {
          "base_uri": "https://localhost:8080/"
        },
        "id": "yoQRVBDnGVFw",
        "outputId": "257d1f05-ff88-472e-b8ef-6f22a376e359"
      },
      "source": [
        "type(m)"
      ],
      "execution_count": null,
      "outputs": [
        {
          "output_type": "execute_result",
          "data": {
            "text/plain": [
              "dict"
            ]
          },
          "metadata": {},
          "execution_count": 100
        }
      ]
    },
    {
      "cell_type": "code",
      "metadata": {
        "id": "kBWebdsuGWZa"
      },
      "source": [
        "m['dog'] = '狗狗'"
      ],
      "execution_count": null,
      "outputs": []
    },
    {
      "cell_type": "code",
      "metadata": {
        "colab": {
          "base_uri": "https://localhost:8080/"
        },
        "id": "HfIIqA8sGe64",
        "outputId": "50d34301-47ae-44c6-c44f-5f34726c9a49"
      },
      "source": [
        "m"
      ],
      "execution_count": null,
      "outputs": [
        {
          "output_type": "execute_result",
          "data": {
            "text/plain": [
              "{'dog': '狗狗'}"
            ]
          },
          "metadata": {},
          "execution_count": 102
        }
      ]
    },
    {
      "cell_type": "code",
      "metadata": {
        "id": "Y1-qTEgqGgY2"
      },
      "source": [
        "m['cat'] = '貓咪'"
      ],
      "execution_count": null,
      "outputs": []
    },
    {
      "cell_type": "code",
      "metadata": {
        "colab": {
          "base_uri": "https://localhost:8080/"
        },
        "id": "1Mbh_KohGvZw",
        "outputId": "99463249-2716-4fc4-f924-c82db6d2a37f"
      },
      "source": [
        "m"
      ],
      "execution_count": null,
      "outputs": [
        {
          "output_type": "execute_result",
          "data": {
            "text/plain": [
              "{'cat': '貓咪', 'dog': '狗狗'}"
            ]
          },
          "metadata": {},
          "execution_count": 104
        }
      ]
    },
    {
      "cell_type": "code",
      "metadata": {
        "colab": {
          "base_uri": "https://localhost:8080/",
          "height": 34
        },
        "id": "GCbEYZMdGwaN",
        "outputId": "a2adb5f4-cc10-4797-d1e0-8e52dd6380c4"
      },
      "source": [
        "m['cat']"
      ],
      "execution_count": null,
      "outputs": [
        {
          "output_type": "execute_result",
          "data": {
            "application/vnd.google.colaboratory.intrinsic+json": {
              "type": "string"
            },
            "text/plain": [
              "'貓咪'"
            ]
          },
          "metadata": {},
          "execution_count": 105
        }
      ]
    },
    {
      "cell_type": "code",
      "metadata": {
        "colab": {
          "base_uri": "https://localhost:8080/",
          "height": 34
        },
        "id": "VYLMNZDyHEQf",
        "outputId": "c2bed048-06c7-47d9-c15d-89fcae42137e"
      },
      "source": [
        "m['dog']"
      ],
      "execution_count": null,
      "outputs": [
        {
          "output_type": "execute_result",
          "data": {
            "application/vnd.google.colaboratory.intrinsic+json": {
              "type": "string"
            },
            "text/plain": [
              "'狗狗'"
            ]
          },
          "metadata": {},
          "execution_count": 106
        }
      ]
    },
    {
      "cell_type": "code",
      "metadata": {
        "colab": {
          "base_uri": "https://localhost:8080/"
        },
        "id": "r9tTRQZvHGOh",
        "outputId": "cf1117ba-06d9-47e3-b60c-55828abd4b69"
      },
      "source": [
        "m.keys()"
      ],
      "execution_count": null,
      "outputs": [
        {
          "output_type": "execute_result",
          "data": {
            "text/plain": [
              "dict_keys(['dog', 'cat'])"
            ]
          },
          "metadata": {},
          "execution_count": 107
        }
      ]
    },
    {
      "cell_type": "code",
      "metadata": {
        "colab": {
          "base_uri": "https://localhost:8080/"
        },
        "id": "ZfB18koJHKLG",
        "outputId": "ecadb98d-f4f9-4e07-b514-7682ef679eb1"
      },
      "source": [
        "m.values()"
      ],
      "execution_count": null,
      "outputs": [
        {
          "output_type": "execute_result",
          "data": {
            "text/plain": [
              "dict_values(['狗狗', '貓咪'])"
            ]
          },
          "metadata": {},
          "execution_count": 108
        }
      ]
    },
    {
      "cell_type": "markdown",
      "metadata": {
        "id": "bUmU0DYMHQML"
      },
      "source": [
        "### 應用題：\n",
        "\n",
        "如何使用 for 迴圈，印出字典的內容"
      ]
    },
    {
      "cell_type": "code",
      "metadata": {
        "colab": {
          "base_uri": "https://localhost:8080/"
        },
        "id": "XuHNPV2VHNd6",
        "outputId": "38bc3f95-bc40-4c58-df16-1d74f21e65bd"
      },
      "source": [
        "for i in m:\n",
        "  print(i)"
      ],
      "execution_count": null,
      "outputs": [
        {
          "output_type": "stream",
          "text": [
            "dog\n",
            "cat\n"
          ],
          "name": "stdout"
        }
      ]
    },
    {
      "cell_type": "code",
      "metadata": {
        "colab": {
          "base_uri": "https://localhost:8080/"
        },
        "id": "f9kLQN3jHcH6",
        "outputId": "ef0404a4-82ac-4428-a3c4-19aefeacad6a"
      },
      "source": [
        "for i in m:\n",
        "  print(i, \"==>\", m[i])"
      ],
      "execution_count": null,
      "outputs": [
        {
          "output_type": "stream",
          "text": [
            "dog ==> 狗狗\n",
            "cat ==> 貓咪\n"
          ],
          "name": "stdout"
        }
      ]
    },
    {
      "cell_type": "markdown",
      "metadata": {
        "id": "5IadDqXfJAEY"
      },
      "source": [
        "### set ==> { }"
      ]
    },
    {
      "cell_type": "code",
      "metadata": {
        "id": "Ma412BzUHsze"
      },
      "source": [
        "u = set()"
      ],
      "execution_count": null,
      "outputs": []
    },
    {
      "cell_type": "code",
      "metadata": {
        "colab": {
          "base_uri": "https://localhost:8080/"
        },
        "id": "7UWx9y4pJdtB",
        "outputId": "48abd2cf-eb4c-49f3-bdca-5cd4fc5e3e89"
      },
      "source": [
        "type(u)"
      ],
      "execution_count": null,
      "outputs": [
        {
          "output_type": "execute_result",
          "data": {
            "text/plain": [
              "set"
            ]
          },
          "metadata": {},
          "execution_count": 112
        }
      ]
    },
    {
      "cell_type": "code",
      "metadata": {
        "colab": {
          "base_uri": "https://localhost:8080/"
        },
        "id": "ddHYEPARJr3k",
        "outputId": "e16333f2-8a2b-4928-cbba-a65278fa0eda"
      },
      "source": [
        "type([1])"
      ],
      "execution_count": null,
      "outputs": [
        {
          "output_type": "execute_result",
          "data": {
            "text/plain": [
              "list"
            ]
          },
          "metadata": {},
          "execution_count": 113
        }
      ]
    },
    {
      "cell_type": "code",
      "metadata": {
        "colab": {
          "base_uri": "https://localhost:8080/"
        },
        "id": "Cz8scF0PJuHy",
        "outputId": "94b55836-67da-4ea5-ba1e-1c85e25cb704"
      },
      "source": [
        "[1] + [2]"
      ],
      "execution_count": null,
      "outputs": [
        {
          "output_type": "execute_result",
          "data": {
            "text/plain": [
              "[1, 2]"
            ]
          },
          "metadata": {},
          "execution_count": 114
        }
      ]
    },
    {
      "cell_type": "code",
      "metadata": {
        "colab": {
          "base_uri": "https://localhost:8080/"
        },
        "id": "6RkAquoAJyKc",
        "outputId": "a1626e18-5de7-4bc5-c281-765146971c13"
      },
      "source": [
        "[1] * 3"
      ],
      "execution_count": null,
      "outputs": [
        {
          "output_type": "execute_result",
          "data": {
            "text/plain": [
              "[1, 1, 1]"
            ]
          },
          "metadata": {},
          "execution_count": 115
        }
      ]
    },
    {
      "cell_type": "code",
      "metadata": {
        "colab": {
          "base_uri": "https://localhost:8080/"
        },
        "id": "yhA_vCJaJ4e2",
        "outputId": "eb15f5f4-2705-4e16-f4ba-c5263e9ff519"
      },
      "source": [
        "[1] * 3 + [2] * 4"
      ],
      "execution_count": null,
      "outputs": [
        {
          "output_type": "execute_result",
          "data": {
            "text/plain": [
              "[1, 1, 1, 2, 2, 2, 2]"
            ]
          },
          "metadata": {},
          "execution_count": 116
        }
      ]
    },
    {
      "cell_type": "code",
      "metadata": {
        "id": "lMubQ3oZJfjg"
      },
      "source": [
        "p = [1] * 3 + [2] * 4 + [3] * 5"
      ],
      "execution_count": null,
      "outputs": []
    },
    {
      "cell_type": "code",
      "metadata": {
        "colab": {
          "base_uri": "https://localhost:8080/"
        },
        "id": "ztt7bg7YKBK8",
        "outputId": "aaeaea32-593a-4aaa-f729-1d446e62df38"
      },
      "source": [
        "p"
      ],
      "execution_count": null,
      "outputs": [
        {
          "output_type": "execute_result",
          "data": {
            "text/plain": [
              "[1, 1, 1, 2, 2, 2, 2, 3, 3, 3, 3, 3]"
            ]
          },
          "metadata": {},
          "execution_count": 118
        }
      ]
    },
    {
      "cell_type": "code",
      "metadata": {
        "colab": {
          "base_uri": "https://localhost:8080/"
        },
        "id": "rzJ5tcxzKB5H",
        "outputId": "1b2fc791-e7ae-434c-8e9f-06084b72ba8b"
      },
      "source": [
        "set(p)"
      ],
      "execution_count": null,
      "outputs": [
        {
          "output_type": "execute_result",
          "data": {
            "text/plain": [
              "{1, 2, 3}"
            ]
          },
          "metadata": {},
          "execution_count": 119
        }
      ]
    },
    {
      "cell_type": "code",
      "metadata": {
        "id": "PmX9MGgAKMlO"
      },
      "source": [
        "p = set('abcde')"
      ],
      "execution_count": null,
      "outputs": []
    },
    {
      "cell_type": "code",
      "metadata": {
        "colab": {
          "base_uri": "https://localhost:8080/"
        },
        "id": "UuW0fF1JKWSC",
        "outputId": "949c4da8-e67e-41ee-aa0a-5bb12b1843d4"
      },
      "source": [
        "p"
      ],
      "execution_count": null,
      "outputs": [
        {
          "output_type": "execute_result",
          "data": {
            "text/plain": [
              "{'a', 'b', 'c', 'd', 'e'}"
            ]
          },
          "metadata": {},
          "execution_count": 121
        }
      ]
    },
    {
      "cell_type": "code",
      "metadata": {
        "id": "Z9p-TPKzKXF0"
      },
      "source": [
        "q = set('cdefg')"
      ],
      "execution_count": null,
      "outputs": []
    },
    {
      "cell_type": "code",
      "metadata": {
        "colab": {
          "base_uri": "https://localhost:8080/"
        },
        "id": "FHExoih_KeNK",
        "outputId": "ca7a6541-0a64-4a2f-d672-67bbade6ed4e"
      },
      "source": [
        "q"
      ],
      "execution_count": null,
      "outputs": [
        {
          "output_type": "execute_result",
          "data": {
            "text/plain": [
              "{'c', 'd', 'e', 'f', 'g'}"
            ]
          },
          "metadata": {},
          "execution_count": 123
        }
      ]
    },
    {
      "cell_type": "markdown",
      "metadata": {
        "id": "QAhQ-1ptKhtv"
      },
      "source": [
        "#### 交集 (intersection)"
      ]
    },
    {
      "cell_type": "code",
      "metadata": {
        "colab": {
          "base_uri": "https://localhost:8080/"
        },
        "id": "0klkcMrMKfAB",
        "outputId": "753ee4cb-e5bf-406c-d2aa-3bbb9a6f9ae8"
      },
      "source": [
        "p & q"
      ],
      "execution_count": null,
      "outputs": [
        {
          "output_type": "execute_result",
          "data": {
            "text/plain": [
              "{'c', 'd', 'e'}"
            ]
          },
          "metadata": {},
          "execution_count": 124
        }
      ]
    },
    {
      "cell_type": "code",
      "metadata": {
        "colab": {
          "base_uri": "https://localhost:8080/"
        },
        "id": "zW1oXGkWLB9t",
        "outputId": "4c79b370-a0f8-420f-9a76-eb5a239deff4"
      },
      "source": [
        "p.intersection(q)"
      ],
      "execution_count": null,
      "outputs": [
        {
          "output_type": "execute_result",
          "data": {
            "text/plain": [
              "{'c', 'd', 'e'}"
            ]
          },
          "metadata": {},
          "execution_count": 127
        }
      ]
    },
    {
      "cell_type": "markdown",
      "metadata": {
        "id": "0ix5PVxFK4j7"
      },
      "source": [
        "#### 聯集 (union)"
      ]
    },
    {
      "cell_type": "code",
      "metadata": {
        "colab": {
          "base_uri": "https://localhost:8080/"
        },
        "id": "S1Xp-RMnKqYc",
        "outputId": "6b6baef2-48da-45fe-b5fe-6f5eead73581"
      },
      "source": [
        "p | q"
      ],
      "execution_count": null,
      "outputs": [
        {
          "output_type": "execute_result",
          "data": {
            "text/plain": [
              "{'a', 'b', 'c', 'd', 'e', 'f', 'g'}"
            ]
          },
          "metadata": {},
          "execution_count": 125
        }
      ]
    },
    {
      "cell_type": "code",
      "metadata": {
        "id": "Tg6ARdJKLGyE",
        "colab": {
          "base_uri": "https://localhost:8080/"
        },
        "outputId": "f49c0475-486f-4dd3-c02f-a19e7e8f5c62"
      },
      "source": [
        "p.union(q)"
      ],
      "execution_count": null,
      "outputs": [
        {
          "output_type": "execute_result",
          "data": {
            "text/plain": [
              "{'a', 'b', 'c', 'd', 'e', 'f', 'g'}"
            ]
          },
          "metadata": {},
          "execution_count": 128
        }
      ]
    },
    {
      "cell_type": "markdown",
      "metadata": {
        "id": "8PDg9QXaK8tK"
      },
      "source": [
        "#### 差集 (difference)"
      ]
    },
    {
      "cell_type": "code",
      "metadata": {
        "colab": {
          "base_uri": "https://localhost:8080/"
        },
        "id": "edsbPW4jKull",
        "outputId": "ab924da8-6efb-44bf-eb0e-e12bbc6242e5"
      },
      "source": [
        "p - q"
      ],
      "execution_count": null,
      "outputs": [
        {
          "output_type": "execute_result",
          "data": {
            "text/plain": [
              "{'a', 'b'}"
            ]
          },
          "metadata": {},
          "execution_count": 126
        }
      ]
    },
    {
      "cell_type": "code",
      "metadata": {
        "colab": {
          "base_uri": "https://localhost:8080/"
        },
        "id": "bgZ99hv-K0uG",
        "outputId": "2bd49f67-3569-4835-a57f-af8dc12b4723"
      },
      "source": [
        "p.difference(q)"
      ],
      "execution_count": null,
      "outputs": [
        {
          "output_type": "execute_result",
          "data": {
            "text/plain": [
              "{'a', 'b'}"
            ]
          },
          "metadata": {},
          "execution_count": 129
        }
      ]
    },
    {
      "cell_type": "code",
      "metadata": {
        "id": "mx7fkP_LLLxs"
      },
      "source": [
        ""
      ],
      "execution_count": null,
      "outputs": []
    },
    {
      "cell_type": "markdown",
      "metadata": {
        "id": "vL84KCUJsiu2"
      },
      "source": [
        "### 綜合練習:\n",
        "\n",
        "Python裡面，多行字串需用(''') (\"\"\") 括起來。"
      ]
    },
    {
      "cell_type": "code",
      "metadata": {
        "id": "N9CGRp7usnzA"
      },
      "source": [
        "s = \"\"\"{\n",
        "     \"firstName\": \"John\",\n",
        "     \"lastName\": \"Smith\",\n",
        "     \"sex\": \"male\",\n",
        "     \"age\": 25,\n",
        "     \"address\": \n",
        "     {\n",
        "         \"streetAddress\": \"21 2nd Street\",\n",
        "         \"city\": \"New York\",\n",
        "         \"state\": \"NY\",\n",
        "         \"postalCode\": \"10021\"\n",
        "     },\n",
        "     \"phoneNumber\": \n",
        "     [\n",
        "         {\n",
        "           \"type\": \"home\",\n",
        "           \"number\": \"212 555-1234\"\n",
        "         },\n",
        "         {\n",
        "           \"type\": \"fax\",\n",
        "           \"number\": \"646 555-4567\"\n",
        "         }\n",
        "     ]\n",
        " }\"\"\""
      ],
      "execution_count": null,
      "outputs": []
    },
    {
      "cell_type": "code",
      "metadata": {
        "colab": {
          "base_uri": "https://localhost:8080/"
        },
        "id": "OHtMXavruDF2",
        "outputId": "86f397ae-17a2-40cf-e683-7e70004d24fa"
      },
      "source": [
        "type(s)"
      ],
      "execution_count": null,
      "outputs": [
        {
          "output_type": "execute_result",
          "data": {
            "text/plain": [
              "str"
            ]
          },
          "metadata": {},
          "execution_count": 4
        }
      ]
    },
    {
      "cell_type": "code",
      "metadata": {
        "id": "g5eCxGxwubHh"
      },
      "source": [
        "import json"
      ],
      "execution_count": null,
      "outputs": []
    },
    {
      "cell_type": "code",
      "metadata": {
        "id": "o4GXC8OmusuY"
      },
      "source": [
        "data = json.loads(s)"
      ],
      "execution_count": null,
      "outputs": []
    },
    {
      "cell_type": "code",
      "metadata": {
        "colab": {
          "base_uri": "https://localhost:8080/"
        },
        "id": "NNkKlZIbux8U",
        "outputId": "486d2787-0da8-40c3-9245-e8979557574c"
      },
      "source": [
        "type(data)"
      ],
      "execution_count": null,
      "outputs": [
        {
          "output_type": "execute_result",
          "data": {
            "text/plain": [
              "dict"
            ]
          },
          "metadata": {},
          "execution_count": 7
        }
      ]
    },
    {
      "cell_type": "code",
      "metadata": {
        "colab": {
          "base_uri": "https://localhost:8080/"
        },
        "id": "WdGSrglBuzEV",
        "outputId": "5feddec1-8948-44ff-c7ea-828dac4b6ac6"
      },
      "source": [
        "data"
      ],
      "execution_count": null,
      "outputs": [
        {
          "output_type": "execute_result",
          "data": {
            "text/plain": [
              "{'address': {'city': 'New York',\n",
              "  'postalCode': '10021',\n",
              "  'state': 'NY',\n",
              "  'streetAddress': '21 2nd Street'},\n",
              " 'age': 25,\n",
              " 'firstName': 'John',\n",
              " 'lastName': 'Smith',\n",
              " 'phoneNumber': [{'number': '212 555-1234', 'type': 'home'},\n",
              "  {'number': '646 555-4567', 'type': 'fax'}],\n",
              " 'sex': 'male'}"
            ]
          },
          "metadata": {},
          "execution_count": 8
        }
      ]
    },
    {
      "cell_type": "code",
      "metadata": {
        "colab": {
          "base_uri": "https://localhost:8080/"
        },
        "id": "06Pw5kqvu395",
        "outputId": "627976d5-15b1-4894-823c-0f2d686b009c"
      },
      "source": [
        "data.keys()"
      ],
      "execution_count": null,
      "outputs": [
        {
          "output_type": "execute_result",
          "data": {
            "text/plain": [
              "dict_keys(['firstName', 'lastName', 'sex', 'age', 'address', 'phoneNumber'])"
            ]
          },
          "metadata": {},
          "execution_count": 9
        }
      ]
    },
    {
      "cell_type": "code",
      "metadata": {
        "colab": {
          "base_uri": "https://localhost:8080/",
          "height": 34
        },
        "id": "fqQ_nOILv46z",
        "outputId": "b3e2765b-d4bd-4741-aaec-ef643b560c67"
      },
      "source": [
        "data['firstName']"
      ],
      "execution_count": null,
      "outputs": [
        {
          "output_type": "execute_result",
          "data": {
            "application/vnd.google.colaboratory.intrinsic+json": {
              "type": "string"
            },
            "text/plain": [
              "'John'"
            ]
          },
          "metadata": {},
          "execution_count": 10
        }
      ]
    },
    {
      "cell_type": "code",
      "metadata": {
        "id": "QNLKYc5Qv-xz"
      },
      "source": [
        ""
      ],
      "execution_count": null,
      "outputs": []
    }
  ]
}