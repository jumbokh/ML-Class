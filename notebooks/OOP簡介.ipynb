{
  "nbformat": 4,
  "nbformat_minor": 0,
  "metadata": {
    "colab": {
      "name": "OOP簡介.ipynb",
      "provenance": [],
      "include_colab_link": true
    },
    "kernelspec": {
      "name": "python3",
      "display_name": "Python 3"
    },
    "language_info": {
      "name": "python"
    }
  },
  "cells": [
    {
      "cell_type": "markdown",
      "metadata": {
        "id": "view-in-github",
        "colab_type": "text"
      },
      "source": [
        "<a href=\"https://colab.research.google.com/github/jumbokh/ML-Class/blob/main/notebooks/OOP%E7%B0%A1%E4%BB%8B.ipynb\" target=\"_parent\"><img src=\"https://colab.research.google.com/assets/colab-badge.svg\" alt=\"Open In Colab\"/></a>"
      ]
    },
    {
      "cell_type": "markdown",
      "metadata": {
        "id": "L0kLfQXKT-il"
      },
      "source": [
        "## 類別一"
      ]
    },
    {
      "cell_type": "code",
      "metadata": {
        "id": "2VD11WK-RpYr"
      },
      "source": [
        "class Person:\n",
        "  pass"
      ],
      "execution_count": null,
      "outputs": []
    },
    {
      "cell_type": "code",
      "metadata": {
        "id": "3q_VI-ERRq7B"
      },
      "source": [
        "p1 = Person()\n",
        "p2 = Person()"
      ],
      "execution_count": null,
      "outputs": []
    },
    {
      "cell_type": "code",
      "metadata": {
        "colab": {
          "base_uri": "https://localhost:8080/"
        },
        "id": "jBOT2eaiRuph",
        "outputId": "6edbdc6c-dc40-4485-c945-0b69b9471289"
      },
      "source": [
        "type(p1)"
      ],
      "execution_count": null,
      "outputs": [
        {
          "output_type": "execute_result",
          "data": {
            "text/plain": [
              "__main__.Person"
            ]
          },
          "metadata": {},
          "execution_count": 3
        }
      ]
    },
    {
      "cell_type": "code",
      "metadata": {
        "id": "MxCcfaSORx0T"
      },
      "source": [
        "p1.name = \"John\"\n",
        "p2.name = \"Mary\""
      ],
      "execution_count": null,
      "outputs": []
    },
    {
      "cell_type": "markdown",
      "metadata": {
        "id": "bi-yp9wsUCUy"
      },
      "source": [
        "## 類別二"
      ]
    },
    {
      "cell_type": "code",
      "metadata": {
        "id": "YyDRYxVgTEvk"
      },
      "source": [
        "class Person:\n",
        "  def __init__(self):\n",
        "    print(\"造出一個人！\")"
      ],
      "execution_count": null,
      "outputs": []
    },
    {
      "cell_type": "code",
      "metadata": {
        "colab": {
          "base_uri": "https://localhost:8080/"
        },
        "id": "-8Lb8MCfTRNm",
        "outputId": "8cee6f16-67f1-4c99-bffd-239a11403f15"
      },
      "source": [
        "p1 = Person()"
      ],
      "execution_count": null,
      "outputs": [
        {
          "output_type": "stream",
          "name": "stdout",
          "text": [
            "造出一個人！\n"
          ]
        }
      ]
    },
    {
      "cell_type": "markdown",
      "metadata": {
        "id": "nbGe7YJsUEzW"
      },
      "source": [
        "## 類別三"
      ]
    },
    {
      "cell_type": "code",
      "metadata": {
        "id": "3lu1I52oPonl"
      },
      "source": [
        "class Person:\n",
        "  def __init__(self, name):\n",
        "    self.name = name"
      ],
      "execution_count": null,
      "outputs": []
    },
    {
      "cell_type": "code",
      "metadata": {
        "id": "tmqc7C6yTfKC"
      },
      "source": [
        "p1 = Person(\"John\")"
      ],
      "execution_count": null,
      "outputs": []
    },
    {
      "cell_type": "markdown",
      "metadata": {
        "id": "SIO3S7XdUlXb"
      },
      "source": [
        "## 類別四"
      ]
    },
    {
      "cell_type": "code",
      "metadata": {
        "id": "ivtnLCicThpv"
      },
      "source": [
        "class Person:\n",
        "  def __init__(self, name,nationality=\"台灣\", hair_color=\"black\", eye_color=\"black\"):\n",
        "    self.name = name\n",
        "    self.nationality = nationality\n",
        "    self.hair_color = hair_color\n",
        "    self.eye_color = eye_color"
      ],
      "execution_count": null,
      "outputs": []
    },
    {
      "cell_type": "code",
      "metadata": {
        "id": "NT0_mlTVVO8K"
      },
      "source": [
        "p1 = Person(\"John\")"
      ],
      "execution_count": null,
      "outputs": []
    },
    {
      "cell_type": "code",
      "metadata": {
        "colab": {
          "base_uri": "https://localhost:8080/",
          "height": 35
        },
        "id": "CI6V-0_7VSYj",
        "outputId": "45339243-3d9c-4331-9ca5-e0f432cd416a"
      },
      "source": [
        "p1.hair_color"
      ],
      "execution_count": null,
      "outputs": [
        {
          "output_type": "execute_result",
          "data": {
            "application/vnd.google.colaboratory.intrinsic+json": {
              "type": "string"
            },
            "text/plain": [
              "'black'"
            ]
          },
          "metadata": {},
          "execution_count": 19
        }
      ]
    },
    {
      "cell_type": "code",
      "metadata": {
        "colab": {
          "base_uri": "https://localhost:8080/",
          "height": 35
        },
        "id": "1HoN66HDVW6r",
        "outputId": "85404bc8-4fcd-4492-935f-4a259acc3453"
      },
      "source": [
        "p1.nationality"
      ],
      "execution_count": null,
      "outputs": [
        {
          "output_type": "execute_result",
          "data": {
            "application/vnd.google.colaboratory.intrinsic+json": {
              "type": "string"
            },
            "text/plain": [
              "'台灣'"
            ]
          },
          "metadata": {},
          "execution_count": 20
        }
      ]
    },
    {
      "cell_type": "markdown",
      "metadata": {
        "id": "TyitRZ07Voqg"
      },
      "source": [
        "## 類別五"
      ]
    },
    {
      "cell_type": "code",
      "metadata": {
        "id": "OxJBZr9LVm6A"
      },
      "source": [
        "class Person:\n",
        "  # 物件初始化\n",
        "  def __init__(self, name,nationality=\"台灣\", hair_color=\"black\", eye_color=\"black\"):\n",
        "    self.name = name\n",
        "    self.nationality = nationality\n",
        "    self.hair_color = hair_color\n",
        "    self.eye_color = eye_color\n",
        "\n",
        "  # 物件方法\n",
        "  def greetings(self):\n",
        "    print(\"Hey \")"
      ],
      "execution_count": null,
      "outputs": []
    }
  ]
}