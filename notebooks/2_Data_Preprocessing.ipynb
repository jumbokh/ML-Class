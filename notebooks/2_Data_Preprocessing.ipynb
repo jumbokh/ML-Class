{
  "nbformat": 4,
  "nbformat_minor": 0,
  "metadata": {
    "kernelspec": {
      "display_name": "Python 3",
      "language": "python",
      "name": "python3"
    },
    "language_info": {
      "codemirror_mode": {
        "name": "ipython",
        "version": 3
      },
      "file_extension": ".py",
      "mimetype": "text/x-python",
      "name": "python",
      "nbconvert_exporter": "python",
      "pygments_lexer": "ipython3",
      "version": "3.6.6"
    },
    "colab": {
      "name": "2 Data Preprocessing.ipynb",
      "provenance": [],
      "include_colab_link": true
    }
  },
  "cells": [
    {
      "cell_type": "markdown",
      "metadata": {
        "id": "view-in-github",
        "colab_type": "text"
      },
      "source": [
        "<a href=\"https://colab.research.google.com/github/jumbokh/ML-Class/blob/main/notebooks/2_Data_Preprocessing.ipynb\" target=\"_parent\"><img src=\"https://colab.research.google.com/assets/colab-badge.svg\" alt=\"Open In Colab\"/></a>"
      ]
    },
    {
      "cell_type": "markdown",
      "metadata": {
        "id": "Vsv1bopN263h"
      },
      "source": [
        "## 習題"
      ]
    },
    {
      "cell_type": "raw",
      "metadata": {
        "id": "7_jnFa9Z263k"
      },
      "source": [
        "1. 假設有一筆資料\n",
        "data = {\n",
        "    'size': ['S','M',np.nan,'XL','XL'],\n",
        "    'color': ['red', 'blue', 'blue', 'black', np.nan],\n",
        "    'price': [2100, np.nan, 4500, 7300, 3200],\n",
        "    'quantity': [np.nan, 350, np.nan, 200, 10]\n",
        "}\n",
        "df = pd.DataFrame(data)\n",
        "(1) 請用ColumnTransformer水平合併器，將數值和類別管道器結合起來。其中數值管道器要做遺漏值處理，用中位數median，再做MinMaxScaler轉換。類別管道器的遺漏值用眾數處理後，再做獨熱編碼。\n",
        "(2) 請將獨熱編碼的欄位和數值型資料欄位取出，並整合到DataFrame裡"
      ]
    },
    {
      "cell_type": "code",
      "metadata": {
        "colab": {
          "base_uri": "https://localhost:8080/",
          "height": 615
        },
        "id": "cYHCboKz263l",
        "outputId": "474d3147-798c-4f2c-ec0b-805f19786d3e"
      },
      "source": [
        "import pandas as pd\n",
        "import numpy as np\n",
        "from IPython.display import display\n",
        "data = {\n",
        "    'size': ['S','M',np.nan,'XL','XL'],\n",
        "    'color': ['red', 'blue', 'blue', 'black', np.nan],\n",
        "    'price': [2100, np.nan, 4500, 7300, 3200],\n",
        "    'quantity': [np.nan, 350, np.nan, 200, 10]\n",
        "}\n",
        "df = pd.DataFrame(data)\n",
        "print('原始資料')\n",
        "display(df)\n",
        "from sklearn.pipeline import make_pipeline\n",
        "from sklearn.impute import SimpleImputer\n",
        "from sklearn.preprocessing import MinMaxScaler, OneHotEncoder\n",
        "from sklearn.compose import ColumnTransformer\n",
        "\n",
        "num_pl = make_pipeline(SimpleImputer(strategy='median'), MinMaxScaler())\n",
        "cat_pl = make_pipeline(SimpleImputer(strategy='most_frequent'), OneHotEncoder())\n",
        "\n",
        "data_pl = ColumnTransformer([\n",
        "    ('num_pl', num_pl, ['price', 'quantity']),\n",
        "    ('cat_pl', cat_pl, ['size','color'])\n",
        "])\n",
        "print('轉換後資料')\n",
        "display(data_pl.fit_transform(df))\n",
        "\n",
        "print('結合後資料')\n",
        "cat_cols = data_pl.named_transformers_['cat_pl']\\\n",
        ".named_steps['onehotencoder'].get_feature_names(['size','color'])\n",
        "display(\n",
        "    pd.DataFrame(data_pl.fit_transform(df), columns=['price', 'quantity']+cat_cols.tolist()).round(2)\n",
        ")\n"
      ],
      "execution_count": 1,
      "outputs": [
        {
          "output_type": "stream",
          "text": [
            "原始資料\n"
          ],
          "name": "stdout"
        },
        {
          "output_type": "display_data",
          "data": {
            "text/html": [
              "<div>\n",
              "<style scoped>\n",
              "    .dataframe tbody tr th:only-of-type {\n",
              "        vertical-align: middle;\n",
              "    }\n",
              "\n",
              "    .dataframe tbody tr th {\n",
              "        vertical-align: top;\n",
              "    }\n",
              "\n",
              "    .dataframe thead th {\n",
              "        text-align: right;\n",
              "    }\n",
              "</style>\n",
              "<table border=\"1\" class=\"dataframe\">\n",
              "  <thead>\n",
              "    <tr style=\"text-align: right;\">\n",
              "      <th></th>\n",
              "      <th>size</th>\n",
              "      <th>color</th>\n",
              "      <th>price</th>\n",
              "      <th>quantity</th>\n",
              "    </tr>\n",
              "  </thead>\n",
              "  <tbody>\n",
              "    <tr>\n",
              "      <th>0</th>\n",
              "      <td>S</td>\n",
              "      <td>red</td>\n",
              "      <td>2100.0</td>\n",
              "      <td>NaN</td>\n",
              "    </tr>\n",
              "    <tr>\n",
              "      <th>1</th>\n",
              "      <td>M</td>\n",
              "      <td>blue</td>\n",
              "      <td>NaN</td>\n",
              "      <td>350.0</td>\n",
              "    </tr>\n",
              "    <tr>\n",
              "      <th>2</th>\n",
              "      <td>NaN</td>\n",
              "      <td>blue</td>\n",
              "      <td>4500.0</td>\n",
              "      <td>NaN</td>\n",
              "    </tr>\n",
              "    <tr>\n",
              "      <th>3</th>\n",
              "      <td>XL</td>\n",
              "      <td>black</td>\n",
              "      <td>7300.0</td>\n",
              "      <td>200.0</td>\n",
              "    </tr>\n",
              "    <tr>\n",
              "      <th>4</th>\n",
              "      <td>XL</td>\n",
              "      <td>NaN</td>\n",
              "      <td>3200.0</td>\n",
              "      <td>10.0</td>\n",
              "    </tr>\n",
              "  </tbody>\n",
              "</table>\n",
              "</div>"
            ],
            "text/plain": [
              "  size  color   price  quantity\n",
              "0    S    red  2100.0       NaN\n",
              "1    M   blue     NaN     350.0\n",
              "2  NaN   blue  4500.0       NaN\n",
              "3   XL  black  7300.0     200.0\n",
              "4   XL    NaN  3200.0      10.0"
            ]
          },
          "metadata": {
            "tags": []
          }
        },
        {
          "output_type": "stream",
          "text": [
            "轉換後資料\n"
          ],
          "name": "stdout"
        },
        {
          "output_type": "display_data",
          "data": {
            "text/plain": [
              "array([[0.        , 0.55882353, 0.        , 1.        , 0.        ,\n",
              "        0.        , 0.        , 1.        ],\n",
              "       [0.33653846, 1.        , 1.        , 0.        , 0.        ,\n",
              "        0.        , 1.        , 0.        ],\n",
              "       [0.46153846, 0.55882353, 0.        , 0.        , 1.        ,\n",
              "        0.        , 1.        , 0.        ],\n",
              "       [1.        , 0.55882353, 0.        , 0.        , 1.        ,\n",
              "        1.        , 0.        , 0.        ],\n",
              "       [0.21153846, 0.        , 0.        , 0.        , 1.        ,\n",
              "        0.        , 1.        , 0.        ]])"
            ]
          },
          "metadata": {
            "tags": []
          }
        },
        {
          "output_type": "stream",
          "text": [
            "結合後資料\n"
          ],
          "name": "stdout"
        },
        {
          "output_type": "display_data",
          "data": {
            "text/html": [
              "<div>\n",
              "<style scoped>\n",
              "    .dataframe tbody tr th:only-of-type {\n",
              "        vertical-align: middle;\n",
              "    }\n",
              "\n",
              "    .dataframe tbody tr th {\n",
              "        vertical-align: top;\n",
              "    }\n",
              "\n",
              "    .dataframe thead th {\n",
              "        text-align: right;\n",
              "    }\n",
              "</style>\n",
              "<table border=\"1\" class=\"dataframe\">\n",
              "  <thead>\n",
              "    <tr style=\"text-align: right;\">\n",
              "      <th></th>\n",
              "      <th>price</th>\n",
              "      <th>quantity</th>\n",
              "      <th>size_M</th>\n",
              "      <th>size_S</th>\n",
              "      <th>size_XL</th>\n",
              "      <th>color_black</th>\n",
              "      <th>color_blue</th>\n",
              "      <th>color_red</th>\n",
              "    </tr>\n",
              "  </thead>\n",
              "  <tbody>\n",
              "    <tr>\n",
              "      <th>0</th>\n",
              "      <td>0.00</td>\n",
              "      <td>0.56</td>\n",
              "      <td>0.0</td>\n",
              "      <td>1.0</td>\n",
              "      <td>0.0</td>\n",
              "      <td>0.0</td>\n",
              "      <td>0.0</td>\n",
              "      <td>1.0</td>\n",
              "    </tr>\n",
              "    <tr>\n",
              "      <th>1</th>\n",
              "      <td>0.34</td>\n",
              "      <td>1.00</td>\n",
              "      <td>1.0</td>\n",
              "      <td>0.0</td>\n",
              "      <td>0.0</td>\n",
              "      <td>0.0</td>\n",
              "      <td>1.0</td>\n",
              "      <td>0.0</td>\n",
              "    </tr>\n",
              "    <tr>\n",
              "      <th>2</th>\n",
              "      <td>0.46</td>\n",
              "      <td>0.56</td>\n",
              "      <td>0.0</td>\n",
              "      <td>0.0</td>\n",
              "      <td>1.0</td>\n",
              "      <td>0.0</td>\n",
              "      <td>1.0</td>\n",
              "      <td>0.0</td>\n",
              "    </tr>\n",
              "    <tr>\n",
              "      <th>3</th>\n",
              "      <td>1.00</td>\n",
              "      <td>0.56</td>\n",
              "      <td>0.0</td>\n",
              "      <td>0.0</td>\n",
              "      <td>1.0</td>\n",
              "      <td>1.0</td>\n",
              "      <td>0.0</td>\n",
              "      <td>0.0</td>\n",
              "    </tr>\n",
              "    <tr>\n",
              "      <th>4</th>\n",
              "      <td>0.21</td>\n",
              "      <td>0.00</td>\n",
              "      <td>0.0</td>\n",
              "      <td>0.0</td>\n",
              "      <td>1.0</td>\n",
              "      <td>0.0</td>\n",
              "      <td>1.0</td>\n",
              "      <td>0.0</td>\n",
              "    </tr>\n",
              "  </tbody>\n",
              "</table>\n",
              "</div>"
            ],
            "text/plain": [
              "   price  quantity  size_M  size_S  size_XL  color_black  color_blue  color_red\n",
              "0   0.00      0.56     0.0     1.0      0.0          0.0         0.0        1.0\n",
              "1   0.34      1.00     1.0     0.0      0.0          0.0         1.0        0.0\n",
              "2   0.46      0.56     0.0     0.0      1.0          0.0         1.0        0.0\n",
              "3   1.00      0.56     0.0     0.0      1.0          1.0         0.0        0.0\n",
              "4   0.21      0.00     0.0     0.0      1.0          0.0         1.0        0.0"
            ]
          },
          "metadata": {
            "tags": []
          }
        }
      ]
    }
  ]
}