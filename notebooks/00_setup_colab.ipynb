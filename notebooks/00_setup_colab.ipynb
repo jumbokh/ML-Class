{
  "nbformat": 4,
  "nbformat_minor": 0,
  "metadata": {
    "colab": {
      "name": "00_setup_colab.ipynb",
      "provenance": [],
      "collapsed_sections": [],
      "include_colab_link": true
    },
    "kernelspec": {
      "name": "python3",
      "display_name": "Python 3"
    }
  },
  "cells": [
    {
      "cell_type": "markdown",
      "metadata": {
        "id": "view-in-github",
        "colab_type": "text"
      },
      "source": [
        "<a href=\"https://colab.research.google.com/github/jumbokh/ML-Class/blob/main/notebooks/00_setup_colab.ipynb\" target=\"_parent\"><img src=\"https://colab.research.google.com/assets/colab-badge.svg\" alt=\"Open In Colab\"/></a>"
      ]
    },
    {
      "cell_type": "markdown",
      "metadata": {
        "id": "mgajdtvLbXS_"
      },
      "source": [
        "## 將 github 程式下載到 Google Drive"
      ]
    },
    {
      "cell_type": "code",
      "metadata": {
        "id": "n9AL0_wWbWIH"
      },
      "source": [
        "from google.colab import drive\n",
        "drive.mount('/content/drive/')"
      ],
      "execution_count": null,
      "outputs": []
    },
    {
      "cell_type": "code",
      "metadata": {
        "id": "SxJ3Ozo1axZf"
      },
      "source": [
        "!git clone https://github.com/twcmchang/hands-on-DL.git drive/My\\ Drive/hands-on-DL/"
      ],
      "execution_count": null,
      "outputs": []
    },
    {
      "cell_type": "code",
      "metadata": {
        "id": "pmOBonSbbPMh"
      },
      "source": [
        "!pip install -q keras"
      ],
      "execution_count": null,
      "outputs": []
    },
    {
      "cell_type": "markdown",
      "metadata": {
        "id": "v_kp3wlabEI_"
      },
      "source": [
        "## 接著，請在每一個 ipynb 最上方加入"
      ]
    },
    {
      "cell_type": "code",
      "metadata": {
        "id": "9WNCa-4gbHhV"
      },
      "source": [
        "import os \n",
        "os.chdir(\"drive/My Drive/hands-on-DL/\")"
      ],
      "execution_count": null,
      "outputs": []
    }
  ]
}