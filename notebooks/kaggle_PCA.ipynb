{
  "nbformat": 4,
  "nbformat_minor": 0,
  "metadata": {
    "colab": {
      "name": "kaggle-PCA.ipynb",
      "provenance": [],
      "authorship_tag": "ABX9TyONw1X/ufkCnXVFjaZoHn4e",
      "include_colab_link": true
    },
    "kernelspec": {
      "name": "python3",
      "display_name": "Python 3"
    },
    "language_info": {
      "name": "python"
    }
  },
  "cells": [
    {
      "cell_type": "markdown",
      "metadata": {
        "id": "view-in-github",
        "colab_type": "text"
      },
      "source": [
        "<a href=\"https://colab.research.google.com/github/jumbokh/ML-Class/blob/main/kaggle_PCA.ipynb\" target=\"_parent\"><img src=\"https://colab.research.google.com/assets/colab-badge.svg\" alt=\"Open In Colab\"/></a>"
      ]
    },
    {
      "cell_type": "markdown",
      "metadata": {
        "id": "6v0hMAV6e3hj"
      },
      "source": [
        "　Ｆrom kaggle, Machine Learning Tutorial for Beginners"
      ]
    },
    {
      "cell_type": "markdown",
      "metadata": {
        "id": "WLY5yYPefTUx"
      },
      "source": [
        "## PRINCIPLE COMPONENT ANALYSIS (PCA)\n",
        "* Fundemental dimension reduction technique\n",
        "* first step is decorrelation:\n",
        "    * rotates data samples to be aligned with axes\n",
        "    * shifts data asmples so they have mean zero\n",
        "    * no information lost\n",
        "    * fit() : learn how to shift samples\n",
        "    * transform(): apply the learned transformation. \n",
        "      It can also be applies test data\n",
        "* Resulting PCA features are not linearly correlated\n",
        "* Principle components: directions of variance"
      ]
    },
    {
      "cell_type": "code",
      "metadata": {
        "id": "AIAldz0zgV1f"
      },
      "source": [
        "import numpy as np\n",
        "import pandas as pd\n",
        "data = pd.read_csv('column_2C_weka.csv')\n",
        "data3 = data.drop('class',axis = 1)"
      ],
      "execution_count": 3,
      "outputs": []
    },
    {
      "cell_type": "markdown",
      "metadata": {
        "id": "9_wIrLAshGer"
      },
      "source": [
        "### PCA"
      ]
    },
    {
      "cell_type": "code",
      "metadata": {
        "colab": {
          "base_uri": "https://localhost:8080/"
        },
        "id": "NYz9YDB2e1zf",
        "outputId": "a504a2d1-9bbc-4258-92ff-e0c1513e6b6b"
      },
      "source": [
        "\n",
        "from sklearn.decomposition import PCA\n",
        "model = PCA()\n",
        "model.fit(data3)\n",
        "transformed = model.transform(data3)\n",
        "print('Principle components: ',model.components_)"
      ],
      "execution_count": 4,
      "outputs": [
        {
          "output_type": "stream",
          "text": [
            "Principle components:  [[ 3.23645647e-01  1.13192291e-01  3.03674740e-01  2.10453357e-01\n",
            "  -2.99598300e-02  8.63153779e-01]\n",
            " [-4.76634849e-01 -9.85632787e-02 -5.32783979e-01 -3.78071570e-01\n",
            "   3.21809199e-01  4.82438036e-01]\n",
            " [-1.54481282e-03 -2.64657410e-01 -4.96541893e-01  2.63112598e-01\n",
            "  -7.74612852e-01  1.18940778e-01]\n",
            " [ 3.73677251e-01  7.54113757e-01 -3.39411757e-01 -3.80436506e-01\n",
            "  -1.75106042e-01 -3.29143086e-02]\n",
            " [-4.41703869e-01  7.35414748e-02  5.12024113e-01 -5.15245344e-01\n",
            "  -5.14639730e-01  8.35992525e-02]\n",
            " [ 5.77350269e-01 -5.77350269e-01 -1.08931753e-11 -5.77350269e-01\n",
            "  -3.59057228e-12  3.06721315e-12]]\n"
          ],
          "name": "stdout"
        }
      ]
    },
    {
      "cell_type": "markdown",
      "metadata": {
        "id": "u0XpmHl1e2Uz"
      },
      "source": [
        "### PCA variance"
      ]
    },
    {
      "cell_type": "code",
      "metadata": {
        "colab": {
          "base_uri": "https://localhost:8080/",
          "height": 279
        },
        "id": "SNO9ZfQ0g-hx",
        "outputId": "42a4b438-0173-4b60-8efd-d83a60ec81ce"
      },
      "source": [
        "from sklearn.preprocessing import StandardScaler\n",
        "from sklearn.pipeline import make_pipeline\n",
        "import matplotlib.pyplot as plt\n",
        "\n",
        "scaler = StandardScaler()\n",
        "pca = PCA()\n",
        "pipeline = make_pipeline(scaler,pca)\n",
        "pipeline.fit(data3)\n",
        "\n",
        "plt.bar(range(pca.n_components_), pca.explained_variance_)\n",
        "plt.xlabel('PCA feature')\n",
        "plt.ylabel('variance')\n",
        "plt.show()"
      ],
      "execution_count": 7,
      "outputs": [
        {
          "output_type": "display_data",
          "data": {
            "image/png": "[encoded data removed]",
            "text/plain": [
              "<Figure size 432x288 with 1 Axes>"
            ]
          },
          "metadata": {
            "tags": [],
            "needs_background": "light"
          }
        }
      ]
    },
    {
      "cell_type": "markdown",
      "metadata": {
        "id": "1KPk6lIthjsJ"
      },
      "source": [
        "* Second step: intrinsic dimension: number of feature needed to approximate the data essential idea behind dimension reduction\n",
        "* PCA identifies intrinsic dimension when samples have any number of features\n",
        "* intrinsic dimension = number of PCA feature with significant variance\n",
        "* In order to choose intrinsic dimension try all of them and find best accuracy\n",
        "* Also check intuitive way of PCA with this example: https://www.kaggle.com/kanncaa1/tutorial-pca-intuition-and-image-completion"
      ]
    },
    {
      "cell_type": "code",
      "metadata": {
        "colab": {
          "base_uri": "https://localhost:8080/",
          "height": 265
        },
        "id": "lxjkZwMxhVd8",
        "outputId": "e3a71ebc-f2b5-4bb0-a967-67c275880cf0"
      },
      "source": [
        "# apply PCA\n",
        "color_list = ['red' if i=='Abnormal' else 'green' for i in data.loc[:,'class']]\n",
        "pca = PCA(n_components = 2)\n",
        "pca.fit(data3)\n",
        "transformed = pca.transform(data3)\n",
        "x = transformed[:,0]\n",
        "y = transformed[:,1]\n",
        "plt.scatter(x,y,c = color_list)\n",
        "plt.show()"
      ],
      "execution_count": 9,
      "outputs": [
        {
          "output_type": "display_data",
          "data": {
            "image/png": "[encoded data removed]",
            "text/plain": [
              "<Figure size 432x288 with 1 Axes>"
            ]
          },
          "metadata": {
            "tags": [],
            "needs_background": "light"
          }
        }
      ]
    },
    {
      "cell_type": "code",
      "metadata": {
        "id": "zFlYCi_Whwck"
      },
      "source": [
        ""
      ],
      "execution_count": null,
      "outputs": []
    }
  ]
}