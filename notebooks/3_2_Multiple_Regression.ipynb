{
  "nbformat": 4,
  "nbformat_minor": 0,
  "metadata": {
    "kernelspec": {
      "display_name": "Python 3",
      "language": "python",
      "name": "python3"
    },
    "language_info": {
      "codemirror_mode": {
        "name": "ipython",
        "version": 3
      },
      "file_extension": ".py",
      "mimetype": "text/x-python",
      "name": "python",
      "nbconvert_exporter": "python",
      "pygments_lexer": "ipython3",
      "version": "3.6.6"
    },
    "colab": {
      "name": "3-2 Multiple Regression.ipynb",
      "provenance": [],
      "include_colab_link": true
    }
  },
  "cells": [
    {
      "cell_type": "markdown",
      "metadata": {
        "id": "view-in-github",
        "colab_type": "text"
      },
      "source": [
        "<a href=\"https://colab.research.google.com/github/jumbokh/ML-Class/blob/main/notebooks/3_2_Multiple_Regression.ipynb\" target=\"_parent\"><img src=\"https://colab.research.google.com/assets/colab-badge.svg\" alt=\"Open In Colab\"/></a>"
      ]
    },
    {
      "cell_type": "markdown",
      "metadata": {
        "id": "xujGjkvx3r4b"
      },
      "source": [
        "## 作業"
      ]
    },
    {
      "cell_type": "markdown",
      "metadata": {
        "id": "nqOSiN7U3r4e"
      },
      "source": [
        "1. 請選取['PTRATIO', 'B', 'LSTAT']欄位來進行多元線性迴歸，並輸出殘差值和R平方。"
      ]
    },
    {
      "cell_type": "code",
      "metadata": {
        "id": "LOFC4I0W3r4f"
      },
      "source": [
        "import pandas as pd\n",
        "import numpy as np\n",
        "import matplotlib.pyplot as plt\n",
        "import seaborn as sns\n",
        "%matplotlib inline\n",
        "plt.rcParams['font.sans-serif'] = ['DFKai-sb'] \n",
        "plt.rcParams['axes.unicode_minus'] = False\n",
        "%config InlineBackend.figure_format = 'retina'\n",
        "import warnings\n",
        "warnings.filterwarnings('ignore')\n",
        "\n",
        "from sklearn.datasets import load_boston\n",
        "boston = load_boston()\n",
        "df = pd.DataFrame(data = boston['data'], columns = boston['feature_names'])\n",
        "df['target'] = boston['target']\n",
        "X = df.drop('target', axis=1)\n",
        "y = df['target']\n",
        "from sklearn.model_selection import train_test_split\n",
        "X_train, X_test, y_train, y_test = train_test_split(X, y, \n",
        "                                                   test_size=0.33, random_state=42)"
      ],
      "execution_count": 1,
      "outputs": []
    },
    {
      "cell_type": "code",
      "metadata": {
        "colab": {
          "base_uri": "https://localhost:8080/"
        },
        "id": "6jyeZiZV3r4g",
        "outputId": "26ebb0d4-37c5-44da-afb6-de6809ef588a"
      },
      "source": [
        "from sklearn.compose import ColumnTransformer\n",
        "from sklearn.preprocessing import StandardScaler\n",
        "from sklearn.pipeline import make_pipeline\n",
        "from sklearn.linear_model import LinearRegression\n",
        "from sklearn.metrics import mean_squared_error, mean_absolute_error, r2_score\n",
        "data_pl = ColumnTransformer([\n",
        "    ('column_sel',StandardScaler(),['PTRATIO', 'B', 'LSTAT'])\n",
        "])\n",
        "model_pl = make_pipeline(data_pl, LinearRegression())\n",
        "model_pl.fit(X_train, y_train)\n",
        "y_pred = model_pl.predict(X_test)\n",
        "\n",
        "print('Mean Squred Error:',mean_squared_error(y_test, y_pred))\n",
        "print('Mean Absolute Error:', mean_absolute_error(y_test, y_pred))\n",
        "print('R2 Score:', r2_score(y_test, y_pred))"
      ],
      "execution_count": 2,
      "outputs": [
        {
          "output_type": "stream",
          "text": [
            "Mean Squred Error: 32.31745512355719\n",
            "Mean Absolute Error: 4.150221892175874\n",
            "R2 Score: 0.5729638992817323\n"
          ],
          "name": "stdout"
        }
      ]
    },
    {
      "cell_type": "markdown",
      "metadata": {
        "id": "Hg7azH0Z3r4i"
      },
      "source": [
        "2. 請選取['RM']欄位來進行多元線性迴歸，而且要做log轉換，再輸出殘差值和R平方。再對照前一章的結果。"
      ]
    },
    {
      "cell_type": "code",
      "metadata": {
        "colab": {
          "base_uri": "https://localhost:8080/"
        },
        "id": "sFCwR5C_3r4i",
        "outputId": "f841d179-0cce-446d-86f3-ba6f735bd326"
      },
      "source": [
        "from sklearn.compose import ColumnTransformer\n",
        "from sklearn.preprocessing import FunctionTransformer\n",
        "data_pl = ColumnTransformer([\n",
        "    ('column_sel','passthrough',['RM'])\n",
        "])\n",
        "model_pl = make_pipeline(data_pl, \n",
        "                         FunctionTransformer(np.log1p),\n",
        "                         LinearRegression())\n",
        "model_pl.fit(X_train, y_train)\n",
        "y_pred = model_pl.predict(X_test)\n",
        "\n",
        "print('Mean Squred Error:',mean_squared_error(y_test, y_pred))\n",
        "print('Mean Absolute Error:', mean_absolute_error(y_test, y_pred))\n",
        "print('R2 Score:', r2_score(y_test, y_pred))"
      ],
      "execution_count": 3,
      "outputs": [
        {
          "output_type": "stream",
          "text": [
            "Mean Squred Error: 43.315599693479086\n",
            "Mean Absolute Error: 4.466298530595191\n",
            "R2 Score: 0.42763671450437224\n"
          ],
          "name": "stdout"
        }
      ]
    },
    {
      "cell_type": "code",
      "metadata": {
        "id": "Zp5WZQKm3r4j"
      },
      "source": [
        ""
      ],
      "execution_count": 3,
      "outputs": []
    }
  ]
}