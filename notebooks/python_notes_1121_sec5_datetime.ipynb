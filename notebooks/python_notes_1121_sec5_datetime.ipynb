{
  "nbformat": 4,
  "nbformat_minor": 0,
  "metadata": {
    "colab": {
      "name": "python-notes-1121-sec5-datetime.ipynb",
      "provenance": [],
      "collapsed_sections": [],
      "authorship_tag": "ABX9TyNjc+RoeOXuJwEdZpehXPKW",
      "include_colab_link": true
    },
    "kernelspec": {
      "name": "python3",
      "display_name": "Python 3"
    },
    "language_info": {
      "name": "python"
    }
  },
  "cells": [
    {
      "cell_type": "markdown",
      "metadata": {
        "id": "view-in-github",
        "colab_type": "text"
      },
      "source": [
        "<a href=\"https://colab.research.google.com/github/jumbokh/ML-Class/blob/main/notebooks/python_notes_1121_sec5_datetime.ipynb\" target=\"_parent\"><img src=\"https://colab.research.google.com/assets/colab-badge.svg\" alt=\"Open In Colab\"/></a>"
      ]
    },
    {
      "cell_type": "markdown",
      "metadata": {
        "id": "z0Ip5fIKHkd2"
      },
      "source": [
        "## Reference. python notes, https://drive.google.com/file/d/1r1CjRmJEOpg_y7wlAs3RK3gEkGn1u3i8/view?usp=sharing"
      ]
    },
    {
      "cell_type": "markdown",
      "metadata": {
        "id": "idtbGThEr6Of"
      },
      "source": [
        "## Chapter 5: Date and Time , page 67\n",
        "### Date & Time"
      ]
    },
    {
      "cell_type": "code",
      "metadata": {
        "id": "p7oyU-2ZrtHA"
      },
      "source": [
        "import datetime\n",
        "dt = datetime.datetime.strptime(\"2016-04-15T08:27:18-0500\", \"%Y-%m-%dT%H:%M:%S%z\")"
      ],
      "execution_count": 1,
      "outputs": []
    },
    {
      "cell_type": "code",
      "metadata": {
        "colab": {
          "base_uri": "https://localhost:8080/"
        },
        "id": "6nVRGVrvsGA4",
        "outputId": "427f6434-efcf-4968-f158-edfc50735406"
      },
      "source": [
        "print(dt)"
      ],
      "execution_count": 3,
      "outputs": [
        {
          "output_type": "stream",
          "name": "stdout",
          "text": [
            "2016-04-15 08:27:18-05:00\n"
          ]
        }
      ]
    },
    {
      "cell_type": "code",
      "metadata": {
        "colab": {
          "base_uri": "https://localhost:8080/"
        },
        "id": "HszIwuffsIfW",
        "outputId": "9bc85266-466d-4911-8b76-b76217566c42"
      },
      "source": [
        "import dateutil.parser\n",
        "dt = dateutil.parser.parse(\"2016-04-15T08:27:18-0500\")\n",
        "print(dt)"
      ],
      "execution_count": 4,
      "outputs": [
        {
          "output_type": "stream",
          "name": "stdout",
          "text": [
            "2016-04-15 08:27:18-05:00\n"
          ]
        }
      ]
    },
    {
      "cell_type": "code",
      "metadata": {
        "colab": {
          "base_uri": "https://localhost:8080/"
        },
        "id": "fycMzj8WCvWg",
        "outputId": "b3f5e6db-d470-41f1-90eb-677d4127a812"
      },
      "source": [
        "from dateutil.tz import tzoffset\n",
        "dt = datetime.datetime(2016, 4, 15, 8, 27, 18, tzinfo=tzoffset(None, -18000))\n",
        "print(dt)"
      ],
      "execution_count": 6,
      "outputs": [
        {
          "output_type": "stream",
          "name": "stdout",
          "text": [
            "2016-04-15 08:27:18-05:00\n"
          ]
        }
      ]
    },
    {
      "cell_type": "code",
      "metadata": {
        "colab": {
          "base_uri": "https://localhost:8080/"
        },
        "id": "Wp4DnmHNDF4z",
        "outputId": "8353198b-d023-4af9-9ac5-75136e6ad74c"
      },
      "source": [
        "from datetime import datetime, timedelta, timezone\n",
        "JST = timezone(timedelta(hours=+9))\n",
        "dt = datetime(2015, 1, 1, 12, 0, 0, tzinfo=JST)\n",
        "print(dt)\n",
        "# 2015-01-01 12:00:00+09:00"
      ],
      "execution_count": 7,
      "outputs": [
        {
          "output_type": "stream",
          "name": "stdout",
          "text": [
            "2015-01-01 12:00:00+09:00\n"
          ]
        }
      ]
    },
    {
      "cell_type": "code",
      "metadata": {
        "colab": {
          "base_uri": "https://localhost:8080/"
        },
        "id": "3dzMv8xSDd57",
        "outputId": "8b7c435a-a8ab-49e2-80dc-a5b4f9b64e6c"
      },
      "source": [
        "print(dt.tzname())\n",
        "# UTC+09:00"
      ],
      "execution_count": 8,
      "outputs": [
        {
          "output_type": "stream",
          "name": "stdout",
          "text": [
            "UTC+09:00\n"
          ]
        }
      ]
    },
    {
      "cell_type": "code",
      "metadata": {
        "colab": {
          "base_uri": "https://localhost:8080/"
        },
        "id": "NkHpSAbWDgpL",
        "outputId": "f18b5580-6f2f-4ba9-b7ec-f5215d7c37c7"
      },
      "source": [
        "dt = datetime(2015, 1, 1, 12, 0, 0, tzinfo=timezone(timedelta(hours=-8), 'ROC'))\n",
        "print(dt.tzname())\n",
        "# 'ROC'"
      ],
      "execution_count": 11,
      "outputs": [
        {
          "output_type": "stream",
          "name": "stdout",
          "text": [
            "ROC\n"
          ]
        }
      ]
    },
    {
      "cell_type": "markdown",
      "metadata": {
        "id": "I0YZWGVBD7pK"
      },
      "source": [
        "### Zones with daylight savings time"
      ]
    },
    {
      "cell_type": "code",
      "metadata": {
        "colab": {
          "base_uri": "https://localhost:8080/"
        },
        "id": "-wL8eRp-Djuq",
        "outputId": "e0209c31-4688-4835-d2b7-27b19c727e4b"
      },
      "source": [
        "from datetime import datetime\n",
        "from dateutil import tz\n",
        "local = tz.gettz() # Local time\n",
        "PT = tz.gettz('US/Pacific') # Pacific time\n",
        "dt_l = datetime(2015, 1, 1, 12, tzinfo=local) # I am in EST\n",
        "dt_pst = datetime(2015, 1, 1, 12, tzinfo=PT)\n",
        "dt_pdt = datetime(2015, 7, 1, 12, tzinfo=PT) # DST is handled automatically\n",
        "print(dt_l)\n",
        "# 2015-01-01 12:00:00-05:00\n",
        "print(dt_pst)\n",
        "# 2015-01-01 12:00:00-08:00\n",
        "print(dt_pdt)\n",
        "# 2015-07-01 12:00:00-07:00"
      ],
      "execution_count": 12,
      "outputs": [
        {
          "output_type": "stream",
          "name": "stdout",
          "text": [
            "2015-01-01 12:00:00+00:00\n",
            "2015-01-01 12:00:00-08:00\n",
            "2015-07-01 12:00:00-07:00\n"
          ]
        }
      ]
    },
    {
      "cell_type": "code",
      "metadata": {
        "colab": {
          "base_uri": "https://localhost:8080/"
        },
        "id": "Y8F_ZREMEBWl",
        "outputId": "19b5fee3-2ec0-4274-9642-7eec62ec3308"
      },
      "source": [
        "from datetime import datetime, timedelta\n",
        "import pytz\n",
        "PT = pytz.timezone('US/Pacific')\n",
        "dt_pst = PT.localize(datetime(2015, 1, 1, 12))\n",
        "dt_pdt = PT.localize(datetime(2015, 11, 1, 0, 30))\n",
        "print(dt_pst)\n",
        "# 2015-01-01 12:00:00-08:00\n",
        "print(dt_pdt)\n",
        "# 2015-11-01 00:30:00-07:00"
      ],
      "execution_count": 13,
      "outputs": [
        {
          "output_type": "stream",
          "name": "stdout",
          "text": [
            "2015-01-01 12:00:00-08:00\n",
            "2015-11-01 00:30:00-07:00\n"
          ]
        }
      ]
    },
    {
      "cell_type": "code",
      "metadata": {
        "colab": {
          "base_uri": "https://localhost:8080/"
        },
        "id": "jOZpidpSEMkT",
        "outputId": "87bc3d2d-4971-4cab-c191-ceb8dc424060"
      },
      "source": [
        "dt_new = dt_pdt + timedelta(hours=3) # This should be 2:30 AM PST\n",
        "print(dt_new)\n",
        "# 2015-11-01 03:30:00-07:00\n",
        "dt_corrected = PT.normalize(dt_new)\n",
        "print(dt_corrected)\n",
        "# 2015-11-01 02:30:00-08:00"
      ],
      "execution_count": 14,
      "outputs": [
        {
          "output_type": "stream",
          "name": "stdout",
          "text": [
            "2015-11-01 03:30:00-07:00\n",
            "2015-11-01 02:30:00-08:00\n"
          ]
        }
      ]
    },
    {
      "cell_type": "markdown",
      "metadata": {
        "id": "lnZQZLdWETVu"
      },
      "source": [
        "## Section 5.3: Computing time differences"
      ]
    },
    {
      "cell_type": "code",
      "metadata": {
        "id": "wWqJAhlCEQW6"
      },
      "source": [
        "from datetime import datetime, timedelta\n",
        "now = datetime.now()\n",
        "then = datetime(2016, 5, 23)     # datetime.datetime(2016, 05, 23, 0, 0, 0)"
      ],
      "execution_count": 15,
      "outputs": []
    },
    {
      "cell_type": "code",
      "metadata": {
        "id": "ny3rAGtCEfdQ"
      },
      "source": [
        "delta = now-then"
      ],
      "execution_count": 16,
      "outputs": []
    },
    {
      "cell_type": "markdown",
      "metadata": {
        "id": "7gT-AugSEtgM"
      },
      "source": [
        "#### delta is of type timedelta"
      ]
    },
    {
      "cell_type": "code",
      "metadata": {
        "colab": {
          "base_uri": "https://localhost:8080/"
        },
        "id": "ECH_XpmcEkNB",
        "outputId": "4b1577f4-e099-4e55-faf2-fa25f6ec5ce8"
      },
      "source": [
        "print(delta.days)\n",
        "# 60\n",
        "print(delta.seconds)\n",
        "# 40826"
      ],
      "execution_count": 17,
      "outputs": [
        {
          "output_type": "stream",
          "name": "stdout",
          "text": [
            "2008\n",
            "4657\n"
          ]
        }
      ]
    },
    {
      "cell_type": "markdown",
      "metadata": {
        "id": "iYfqTcNtE0BV"
      },
      "source": [
        "#### To get n day's after and n day's before date \n",
        "#### we could use:\n",
        "####   n day's after date:"
      ]
    },
    {
      "cell_type": "code",
      "metadata": {
        "id": "OPJrtwSqFiNq"
      },
      "source": [
        "from datetime import datetime, timedelta"
      ],
      "execution_count": 21,
      "outputs": []
    },
    {
      "cell_type": "code",
      "metadata": {
        "id": "D7DhjTOaEmsg"
      },
      "source": [
        "def get_n_days_after_date(date_format=\"%d %B %Y\", add_days=120):\n",
        "    date_n_days_after = datetime.now() + timedelta(days=add_days)\n",
        "    return date_n_days_after.strftime(date_format)"
      ],
      "execution_count": 25,
      "outputs": []
    },
    {
      "cell_type": "code",
      "metadata": {
        "id": "oUmS0jjcFAJa"
      },
      "source": [
        " def get_n_days_before_date(self, date_format=\"%d %B %Y\", days_before=120):\n",
        "        date_n_days_ago = datetime.now() - timedelta(days=days_before)\n",
        "        return date_n_days_ago.strftime(date_format)"
      ],
      "execution_count": 26,
      "outputs": []
    },
    {
      "cell_type": "code",
      "metadata": {
        "colab": {
          "base_uri": "https://localhost:8080/"
        },
        "id": "wet97_3tFDPo",
        "outputId": "25ab170c-0cd3-404c-eb3d-0e5250fabcdb"
      },
      "source": [
        "print(get_n_days_after_date(add_days=60))"
      ],
      "execution_count": 28,
      "outputs": [
        {
          "output_type": "stream",
          "name": "stdout",
          "text": [
            "20 January 2022\n"
          ]
        }
      ]
    },
    {
      "cell_type": "code",
      "metadata": {
        "colab": {
          "base_uri": "https://localhost:8080/"
        },
        "id": "JA64ubUsFP8Y",
        "outputId": "ee625261-38b1-4225-dedd-89b31459e14b"
      },
      "source": [
        "print(get_n_days_before_date(datetime.now(),days_before=60))"
      ],
      "execution_count": 30,
      "outputs": [
        {
          "output_type": "stream",
          "name": "stdout",
          "text": [
            "22 September 2021\n"
          ]
        }
      ]
    },
    {
      "cell_type": "markdown",
      "metadata": {
        "id": "sQSMOx_6GRoK"
      },
      "source": [
        "### Section 5.4: Basic datetime objects usage"
      ]
    },
    {
      "cell_type": "code",
      "metadata": {
        "id": "8MbsO6_tF-ga"
      },
      "source": [
        "import datetime\n",
        "# Date object\n",
        "today = datetime.date.today()\n",
        "new_year = datetime.date(2017, 1, 1) #datetime.date(2017, 1, 1)\n",
        "# Time object\n",
        "noon = datetime.time(12, 0, 0) #datetime.time(12, 0)\n",
        "# Current datetime\n",
        "now = datetime.datetime.now()\n",
        "# Datetime object\n",
        "millenium_turn = datetime.datetime(2000, 1, 1, 0, 0, 0) #datetime.datetime(2000, 1, 1, 0, 0)"
      ],
      "execution_count": 32,
      "outputs": []
    },
    {
      "cell_type": "code",
      "metadata": {
        "colab": {
          "base_uri": "https://localhost:8080/"
        },
        "id": "AzOFYaM1Gd5h",
        "outputId": "a768e582-71fb-4680-bb91-bf78fbbf00a0"
      },
      "source": [
        "# subtraction of noon from today\n",
        "'''noon-today\n",
        "\n",
        "Traceback (most recent call last):\n",
        "  File \"<stdin>\", line 1, in <module>\n",
        "TypeError: unsupported operand type(s) for -: 'datetime.time' and 'datetime.date'\n",
        "However, it is straightforward to convert between types.\n",
        "'''\n",
        "# Do this instead\n",
        "print('Time since the millenium at midnight: ',\n",
        "      datetime.datetime(today.year, today.month, today.day) - millenium_turn)\n",
        "# Or this\n",
        "print('Time since the millenium at noon: ',\n",
        "      datetime.datetime.combine(today, noon) - millenium_turn)"
      ],
      "execution_count": 35,
      "outputs": [
        {
          "output_type": "stream",
          "name": "stdout",
          "text": [
            "Time since the millenium at midnight:  7995 days, 0:00:00\n",
            "Time since the millenium at noon:  7995 days, 12:00:00\n"
          ]
        }
      ]
    },
    {
      "cell_type": "markdown",
      "metadata": {
        "id": "Jy5tZTE0IMvC"
      },
      "source": [
        "## Section 5.6: Simple date arithmetic"
      ]
    },
    {
      "cell_type": "code",
      "metadata": {
        "colab": {
          "base_uri": "https://localhost:8080/"
        },
        "id": "8qZLG_fIGnC1",
        "outputId": "0d5c1fea-7405-49da-95d0-ef448f172dac"
      },
      "source": [
        "import datetime\n",
        "today = datetime.date.today()\n",
        "print('Today:', today)\n",
        "yesterday = today - datetime.timedelta(days=1)\n",
        "print('Yesterday:', yesterday)\n",
        "tomorrow = today + datetime.timedelta(days=1)\n",
        "print('Tomorrow:', tomorrow)\n",
        "print('Time between tomorrow and yesterday:', tomorrow - yesterday)"
      ],
      "execution_count": 36,
      "outputs": [
        {
          "output_type": "stream",
          "name": "stdout",
          "text": [
            "Today: 2021-11-21\n",
            "Yesterday: 2021-11-20\n",
            "Tomorrow: 2021-11-22\n",
            "Time between tomorrow and yesterday: 2 days, 0:00:00\n"
          ]
        }
      ]
    },
    {
      "cell_type": "markdown",
      "metadata": {
        "id": "fmDV9WFAIT0V"
      },
      "source": [
        "#### Section 5.7: Converting timestamp to datetime"
      ]
    },
    {
      "cell_type": "markdown",
      "metadata": {
        "id": "gasYAXAQIcFC"
      },
      "source": [
        "#### The datetime module can convert a POSIX timestamp to a ITC datetime object.\n",
        "The Epoch is January 1st, 1970 midnight."
      ]
    },
    {
      "cell_type": "code",
      "metadata": {
        "id": "8KePUQGhIQ8r"
      },
      "source": [
        "import time\n",
        "from datetime import datetime\n",
        "seconds_since_epoch=time.time()  #1469182681.709\n",
        "utc_date=datetime.utcfromtimestamp(seconds_since_epoch) \n",
        "#datetime.datetime(2016, 7, 22, 10, 18, 1, 709000)"
      ],
      "execution_count": 38,
      "outputs": []
    },
    {
      "cell_type": "code",
      "metadata": {
        "colab": {
          "base_uri": "https://localhost:8080/"
        },
        "id": "R5xn8xfiIgQq",
        "outputId": "386d3210-4603-4ae0-f2d9-410bb934a775"
      },
      "source": [
        "print(utc_date)"
      ],
      "execution_count": 39,
      "outputs": [
        {
          "output_type": "stream",
          "name": "stdout",
          "text": [
            "2021-11-21 01:35:25.124203\n"
          ]
        }
      ]
    },
    {
      "cell_type": "markdown",
      "metadata": {
        "id": "Z68MM2aLI3CL"
      },
      "source": [
        "### Section 5.8: Subtracting months from a date accurately"
      ]
    },
    {
      "cell_type": "code",
      "metadata": {
        "id": "_CYnrmrMIqpr"
      },
      "source": [
        "# Using the calendar module\n",
        "import calendar\n",
        "from datetime import date\n",
        "def monthdelta(date, delta):\n",
        "    m, y = (date.month+delta) % 12, date.year + ((date.month)+delta-1) // 12\n",
        "    if not m: m = 12\n",
        "    d = min(date.day, calendar.monthrange(y, m)[1])\n",
        "    return date.replace(day=d,month=m, year=y)\n",
        "next_month = monthdelta(date.today(), 1) #datetime.date(2016, 10, 23)"
      ],
      "execution_count": 40,
      "outputs": []
    },
    {
      "cell_type": "code",
      "metadata": {
        "id": "drh8hBlQI_O0"
      },
      "source": [
        "# Using the dateutils module\n",
        "import datetime\n",
        "import dateutil.relativedelta\n",
        "d = datetime.datetime.strptime(\"2013-03-31\", \"%Y-%m-%d\")\n",
        "d2 = d - dateutil.relativedelta.relativedelta(months=1)  \n",
        "#datetime.datetime(2013, 2, 28, 0, 0)"
      ],
      "execution_count": 41,
      "outputs": []
    },
    {
      "cell_type": "code",
      "metadata": {
        "colab": {
          "base_uri": "https://localhost:8080/"
        },
        "id": "L8pYgZcbJEFK",
        "outputId": "893ed702-0f70-4bdd-cc5a-d24d79ad4aab"
      },
      "source": [
        "print(next_month)\n",
        "print(d2)"
      ],
      "execution_count": 42,
      "outputs": [
        {
          "output_type": "stream",
          "name": "stdout",
          "text": [
            "2021-12-21\n",
            "2013-02-28 00:00:00\n"
          ]
        }
      ]
    },
    {
      "cell_type": "markdown",
      "metadata": {
        "id": "Y-5aqflXJcRY"
      },
      "source": [
        "### Section 5.13: Iterate over dates"
      ]
    },
    {
      "cell_type": "code",
      "metadata": {
        "colab": {
          "base_uri": "https://localhost:8080/"
        },
        "id": "dcJYGyt5JK-5",
        "outputId": "f1032f40-a423-4e29-b139-64c91650e248"
      },
      "source": [
        "import datetime\n",
        "# The size of each step in days\n",
        "day_delta = datetime.timedelta(days=1)\n",
        "start_date = datetime.date.today()\n",
        "end_date = start_date + 7*day_delta\n",
        "for i in range((end_date - start_date).days):\n",
        "    print(start_date + i*day_delta)"
      ],
      "execution_count": 43,
      "outputs": [
        {
          "output_type": "stream",
          "name": "stdout",
          "text": [
            "2021-11-21\n",
            "2021-11-22\n",
            "2021-11-23\n",
            "2021-11-24\n",
            "2021-11-25\n",
            "2021-11-26\n",
            "2021-11-27\n"
          ]
        }
      ]
    },
    {
      "cell_type": "markdown",
      "metadata": {
        "id": "IsNi5syBJvBB"
      },
      "source": [
        "## Chapter 6: Date Formatting\n",
        "### Section 6.1: Time between two date-times"
      ]
    },
    {
      "cell_type": "code",
      "metadata": {
        "colab": {
          "base_uri": "https://localhost:8080/"
        },
        "id": "JfMJivoEJj6c",
        "outputId": "e1d6afa5-ad30-49e3-c556-982ccd897360"
      },
      "source": [
        "from datetime import datetime\n",
        "a = datetime(2016,10,6,0,0,0)\n",
        "b = datetime(2016,10,1,23,59,59)\n",
        "a-b\n",
        "# datetime.timedelta(4, 1)\n",
        "(a-b).days\n",
        "# 4\n",
        "(a-b).total_seconds()\n",
        "# 518399.0"
      ],
      "execution_count": 45,
      "outputs": [
        {
          "output_type": "execute_result",
          "data": {
            "text/plain": [
              "345601.0"
            ]
          },
          "metadata": {},
          "execution_count": 45
        }
      ]
    },
    {
      "cell_type": "markdown",
      "metadata": {
        "id": "C5eU81m5J_H9"
      },
      "source": [
        "### Section 6.2: Outputting datetime object to string"
      ]
    },
    {
      "cell_type": "code",
      "metadata": {
        "colab": {
          "base_uri": "https://localhost:8080/",
          "height": 38
        },
        "id": "uWFr8T-IJ1Xr",
        "outputId": "1835ef6d-7d6d-40df-b499-5e6cffd42deb"
      },
      "source": [
        "# Uses C standard format codes.\n",
        "from datetime import datetime\n",
        "datetime_for_string = datetime(2016,10,1,0,0)\n",
        "datetime_string_format = '%b %d %Y, %H:%M:%S'\n",
        "datetime.strftime(datetime_for_string,datetime_string_format)\n",
        "# Oct 01 2016, 00:00:00"
      ],
      "execution_count": 46,
      "outputs": [
        {
          "output_type": "execute_result",
          "data": {
            "application/vnd.google.colaboratory.intrinsic+json": {
              "type": "string"
            },
            "text/plain": [
              "'Oct 01 2016, 00:00:00'"
            ]
          },
          "metadata": {},
          "execution_count": 46
        }
      ]
    },
    {
      "cell_type": "markdown",
      "metadata": {
        "id": "P6MrypLaKF7c"
      },
      "source": [
        "### Section 6.3: Parsing string to datetime object"
      ]
    },
    {
      "cell_type": "code",
      "metadata": {
        "colab": {
          "base_uri": "https://localhost:8080/"
        },
        "id": "HThGhmNIKDeh",
        "outputId": "8cac0bb2-7574-4a98-ecd1-d54df2267872"
      },
      "source": [
        "# Uses C standard format codes.\n",
        "from datetime import datetime\n",
        "datetime_string = 'Oct 1 2016, 00:00:00'\n",
        "datetime_string_format = '%b %d %Y, %H:%M:%S'\n",
        "datetime.strptime(datetime_string, datetime_string_format)\n",
        "# datetime.datetime(2016, 10, 1, 0, 0)"
      ],
      "execution_count": 47,
      "outputs": [
        {
          "output_type": "execute_result",
          "data": {
            "text/plain": [
              "datetime.datetime(2016, 10, 1, 0, 0)"
            ]
          },
          "metadata": {},
          "execution_count": 47
        }
      ]
    },
    {
      "cell_type": "code",
      "metadata": {
        "id": "rVI_aoVxKKSo"
      },
      "source": [
        ""
      ],
      "execution_count": null,
      "outputs": []
    }
  ]
}