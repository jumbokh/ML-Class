{
  "nbformat": 4,
  "nbformat_minor": 0,
  "metadata": {
    "colab": {
      "name": "immp-tpc-som.ipynb",
      "provenance": [],
      "authorship_tag": "ABX9TyPzKZ4Z1kdHruEUzPodWsGx",
      "include_colab_link": true
    },
    "kernelspec": {
      "name": "python3",
      "display_name": "Python 3"
    },
    "language_info": {
      "name": "python"
    }
  },
  "cells": [
    {
      "cell_type": "markdown",
      "metadata": {
        "id": "view-in-github",
        "colab_type": "text"
      },
      "source": [
        "<a href=\"https://colab.research.google.com/github/jumbokh/ML-Class/blob/main/notebooks/immp_tpc_som.ipynb\" target=\"_parent\"><img src=\"https://colab.research.google.com/assets/colab-badge.svg\" alt=\"Open In Colab\"/></a>"
      ]
    },
    {
      "cell_type": "code",
      "metadata": {
        "id": "ah13Doaiyv9k"
      },
      "source": [
        "import numpy as np\n",
        "import pylab as pl\n",
        "import csv"
      ],
      "execution_count": 6,
      "outputs": []
    },
    {
      "cell_type": "code",
      "metadata": {
        "id": "Ckp2RR7Gzbwb"
      },
      "source": [
        "class SOM(object):\n",
        "    def __init__(self, X, output, iteration, batch_size):\n",
        "        \"\"\"\n",
        "        :param X:  形状是N*D， 输入样本有N个,每个D维\n",
        "        :param output: (n,m)一个元组，为输出层的形状是一个n*m的二维矩阵\n",
        "        :param iteration:迭代次数\n",
        "        :param batch_size:每次迭代时的样本数量\n",
        "        初始化一个权值矩阵，形状为D*(n*m)，即有n*m权值向量，每个D维\n",
        "        \"\"\"\n",
        "        self.X = X\n",
        "        self.output = output\n",
        "        self.iteration = iteration\n",
        "        self.batch_size = batch_size\n",
        "        self.W = np.random.rand(X.shape[1], output[0] * output[1])\n",
        "        print (self.W.shape)\n",
        "\n",
        "    def GetN(self, t):\n",
        "        \"\"\"\n",
        "        :param t:时间t, 这里用迭代次数来表示时间\n",
        "        :return: 返回一个整数，表示拓扑距离，时间越大，拓扑邻域越小\n",
        "        \"\"\"\n",
        "        a = min(self.output)\n",
        "        return int(a-float(a)*t/self.iteration)\n",
        "\n",
        "    def Geteta(self, t, n):\n",
        "        \"\"\"\n",
        "        :param t: 时间t, 这里用迭代次数来表示时间\n",
        "        :param n: 拓扑距离\n",
        "        :return: 返回学习率，\n",
        "        \"\"\"\n",
        "        return np.power(np.e, -n)/(t+2)\n",
        "\n",
        "    def updata_W(self, X, t, winner):\n",
        "        N = self.GetN(t)\n",
        "        for x, i in enumerate(winner):\n",
        "            to_update = self.getneighbor(i, N)   ## change i[0] to i\n",
        "            for j in range(N+1):\n",
        "                e = self.Geteta(t, j)\n",
        "                for w in to_update[j]:\n",
        "                    self.W[:, w] = np.add(self.W[:,w], e*(X[x,:] - self.W[:,w]))\n",
        "\n",
        "    def getneighbor(self, index, N):\n",
        "        \"\"\"\n",
        "        :param index:获胜神经元的下标\n",
        "        :param N: 邻域半径\n",
        "        :return ans: 返回一个集合列表，分别是不同邻域半径内需要更新的神经元坐标\n",
        "        \"\"\"\n",
        "        a, b = self.output\n",
        "        length = a*b\n",
        "        def distence(index1, index2):\n",
        "            i1_a, i1_b = index1 // a, index1 % b\n",
        "            i2_a, i2_b = index2 // a, index2 % b\n",
        "            return np.abs(i1_a - i2_a), np.abs(i1_b - i2_b)\n",
        "\n",
        "        ans = [set() for i in range(N+1)]\n",
        "        for i in range(length):\n",
        "            dist_a, dist_b = distence(i, index)\n",
        "            if dist_a <= N and dist_b <= N: ans[max(dist_a, dist_b)].add(i)\n",
        "        return ans\n",
        "\n",
        "\n",
        "\n",
        "\n",
        "    def train(self):\n",
        "        \"\"\"\n",
        "        train_Y:训练样本与形状为batch_size*(n*m)\n",
        "        winner:一个一维向量，batch_size个获胜神经元的下标\n",
        "        :return:返回值是调整后的W\n",
        "        \"\"\"\n",
        "        count = 0\n",
        "        while self.iteration > count:\n",
        "            train_X = self.X[np.random.choice(self.X.shape[0], self.batch_size)]\n",
        "            normal_W(self.W)\n",
        "            normal_X(train_X)\n",
        "            train_Y = train_X.dot(self.W)\n",
        "            winner = np.argmax(train_Y, axis=1).tolist()\n",
        "            self.updata_W(train_X, count, winner)\n",
        "            count += 1\n",
        "        return self.W\n",
        "\n",
        "    def train_result(self):\n",
        "        normal_X(self.X)\n",
        "        train_Y = self.X.dot(self.W)\n",
        "        winner = np.argmax(train_Y, axis=1).tolist()\n",
        "        print (winner)\n",
        "        return winner\n",
        "\n",
        "def normal_X(X):\n",
        "    \"\"\"\n",
        "    :param X:二维矩阵，N*D，N个D维的数据\n",
        "    :return: 将X归一化的结果\n",
        "    \"\"\"\n",
        "    N, D = X.shape\n",
        "    for i in range(N):\n",
        "        temp = np.sum(np.multiply(X[i], X[i]))\n",
        "        X[i] /= np.sqrt(temp)\n",
        "    return X\n",
        "def normal_W(W):\n",
        "    \"\"\"\n",
        "    :param W:二维矩阵，D*(n*m)，D个n*m维的数据\n",
        "    :return: 将W归一化的结果\n",
        "    \"\"\"\n",
        "    for i in range(W.shape[1]):\n",
        "        temp = np.sum(np.multiply(W[:,i], W[:,i]))\n",
        "        W[:, i] /= np.sqrt(temp)\n",
        "    return W\n",
        "\n",
        "#画图\n",
        "def draw(C):\n",
        "    colValue = ['r', 'y', 'g', 'b', 'c', 'k', 'm']\n",
        "    for i in range(len(C)):\n",
        "        coo_X = []    #x坐标列表\n",
        "        coo_Y = []    #y坐标列表\n",
        "        for j in range(len(C[i])):\n",
        "            coo_X.append(C[i][j][0])\n",
        "            coo_Y.append(C[i][j][1])\n",
        "        pl.scatter(coo_X, coo_Y, marker='x', color=colValue[i%len(colValue)], label=i)\n",
        "\n",
        "    pl.legend(loc='upper center')\n",
        "    pl.show()\n"
      ],
      "execution_count": 3,
      "outputs": []
    },
    {
      "cell_type": "code",
      "metadata": {
        "colab": {
          "base_uri": "https://localhost:8080/"
        },
        "id": "_cjiVbNkzmRp",
        "outputId": "dcac2245-437f-4ef5-ebe1-155dfa61e94f"
      },
      "source": [
        "print(\"\\nLoading TPC data into memory \\n\")\n",
        "data_file = \"vTestData102-nohead.csv\"\n",
        "#dataset = np.loadtxt(data_file, delimiter=\",\", usecols=range(0,15),dtype=np.float64)\n",
        "with open(data_file, 'r') as f:\n",
        "    data = list(csv.reader(f, delimiter=\",\"))\n",
        "dataset = np.array(data, dtype=np.float)\n",
        "print(dataset.shape)\n",
        "dataset_old = dataset.copy()"
      ],
      "execution_count": 7,
      "outputs": [
        {
          "output_type": "stream",
          "text": [
            "\n",
            "Loading TPC data into memory \n",
            "\n",
            "(195, 15)\n"
          ],
          "name": "stdout"
        }
      ]
    },
    {
      "cell_type": "code",
      "metadata": {
        "colab": {
          "base_uri": "https://localhost:8080/"
        },
        "id": "ibE6-diMz-5D",
        "outputId": "da6326d0-5826-4c09-eb50-15d73c365d97"
      },
      "source": [
        "som = SOM(dataset, (5, 5), 1, 30)\n",
        "som.train()\n",
        "res = som.train_result()"
      ],
      "execution_count": 8,
      "outputs": [
        {
          "output_type": "stream",
          "text": [
            "(15, 25)\n",
            "[22, 22, 22, 22, 22, 22, 22, 22, 22, 22, 22, 22, 22, 22, 22, 22, 22, 22, 22, 22, 22, 22, 22, 22, 22, 22, 22, 22, 22, 22, 22, 22, 22, 22, 22, 22, 22, 22, 22, 1, 22, 22, 22, 22, 22, 22, 22, 22, 22, 22, 22, 22, 22, 22, 22, 22, 22, 22, 22, 22, 22, 22, 22, 22, 22, 22, 22, 22, 22, 22, 22, 22, 22, 22, 22, 22, 22, 22, 22, 22, 22, 22, 22, 22, 22, 22, 22, 22, 22, 22, 22, 22, 22, 22, 22, 22, 22, 22, 22, 22, 22, 22, 22, 22, 22, 22, 22, 22, 22, 22, 22, 22, 22, 22, 22, 22, 22, 22, 22, 22, 22, 22, 22, 22, 22, 22, 22, 22, 22, 22, 22, 22, 22, 22, 22, 22, 22, 22, 22, 22, 3, 22, 22, 22, 22, 22, 22, 22, 22, 22, 22, 22, 22, 22, 22, 22, 22, 22, 22, 22, 22, 22, 22, 22, 22, 22, 22, 22, 22, 22, 22, 22, 22, 22, 22, 22, 22, 22, 3, 0, 3, 22, 22, 22, 22, 22, 22, 22, 22, 22, 22, 22, 22, 22, 22]\n"
          ],
          "name": "stdout"
        }
      ]
    },
    {
      "cell_type": "code",
      "metadata": {
        "id": "pqHi0e4g0G_t"
      },
      "source": [
        "classify = {}\n",
        "for i, win in enumerate(res):\n",
        "    if not classify.get(win):   # change win[0] to win ==> three lines\n",
        "        classify.setdefault(win, [i])\n",
        "    else:\n",
        "        classify[win].append(i)"
      ],
      "execution_count": 9,
      "outputs": []
    },
    {
      "cell_type": "code",
      "metadata": {
        "id": "XjdNMQkD0One"
      },
      "source": [
        "C = []#未归一化的数据分类结果\n",
        "D = []#归一化的数据分类结果\n",
        "for i in classify.values():\n",
        "    C.append(dataset_old[i].tolist())\n",
        "    D.append(dataset[i].tolist())"
      ],
      "execution_count": 10,
      "outputs": []
    },
    {
      "cell_type": "code",
      "metadata": {
        "colab": {
          "base_uri": "https://localhost:8080/",
          "height": 513
        },
        "id": "mcIEv_XK0UZV",
        "outputId": "54790af5-a9a2-4b5e-b5b3-f22bead62247"
      },
      "source": [
        "draw(C)\n",
        "draw(D)"
      ],
      "execution_count": 11,
      "outputs": [
        {
          "output_type": "display_data",
          "data": {
            "image/png": "[encoded data removed]",
            "text/plain": [
              "<Figure size 432x288 with 1 Axes>"
            ]
          },
          "metadata": {
            "tags": [],
            "needs_background": "light"
          }
        },
        {
          "output_type": "display_data",
          "data": {
            "image/png": "[encoded data removed]",
            "text/plain": [
              "<Figure size 432x288 with 1 Axes>"
            ]
          },
          "metadata": {
            "tags": [],
            "needs_background": "light"
          }
        }
      ]
    },
    {
      "cell_type": "code",
      "metadata": {
        "colab": {
          "base_uri": "https://localhost:8080/"
        },
        "id": "JPeg6vti0ZP1",
        "outputId": "884edfca-ec34-4f81-abfd-4d34e234afe5"
      },
      "source": [
        "print('--------------------------------------------------------')\n",
        "print(np.unique(res))\n",
        "print(len(classify))"
      ],
      "execution_count": 12,
      "outputs": [
        {
          "output_type": "stream",
          "text": [
            "--------------------------------------------------------\n",
            "[ 0  1  3 22]\n",
            "4\n"
          ],
          "name": "stdout"
        }
      ]
    },
    {
      "cell_type": "code",
      "metadata": {
        "colab": {
          "base_uri": "https://localhost:8080/"
        },
        "id": "U3eljdFW0gcd",
        "outputId": "7bd39bad-1cb5-436f-b88a-11c50ec7f439"
      },
      "source": [
        "values, counts = np.unique(res, return_counts=True)\n",
        "print(values)\n",
        "print(counts)\n",
        "print('--------------------------------------------------------')"
      ],
      "execution_count": 13,
      "outputs": [
        {
          "output_type": "stream",
          "text": [
            "[ 0  1  3 22]\n",
            "[  1   1   3 190]\n",
            "--------------------------------------------------------\n"
          ],
          "name": "stdout"
        }
      ]
    },
    {
      "cell_type": "code",
      "metadata": {
        "colab": {
          "base_uri": "https://localhost:8080/"
        },
        "id": "kzEjigMn0ksM",
        "outputId": "3dd3429d-8935-4172-e0ae-43564af2f6e0"
      },
      "source": [
        "bb=dict(zip(list(res),[list(res).count(i) for i in list(res)]))\n",
        "print(bb)"
      ],
      "execution_count": 14,
      "outputs": [
        {
          "output_type": "stream",
          "text": [
            "{22: 190, 1: 1, 3: 3, 0: 1}\n"
          ],
          "name": "stdout"
        }
      ]
    },
    {
      "cell_type": "code",
      "metadata": {
        "id": "078xWfpq0n4M"
      },
      "source": [
        ""
      ],
      "execution_count": null,
      "outputs": []
    }
  ]
}