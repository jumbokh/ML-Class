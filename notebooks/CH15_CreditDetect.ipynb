{
  "nbformat": 4,
  "nbformat_minor": 0,
  "metadata": {
    "colab": {
      "name": "CH15-CreditDetect.ipynb",
      "provenance": [],
      "authorship_tag": "ABX9TyPk26kW9g59qXuk4hSYwoQ3",
      "include_colab_link": true
    },
    "kernelspec": {
      "name": "python3",
      "display_name": "Python 3"
    },
    "language_info": {
      "name": "python"
    }
  },
  "cells": [
    {
      "cell_type": "markdown",
      "metadata": {
        "id": "view-in-github",
        "colab_type": "text"
      },
      "source": [
        "<a href=\"https://colab.research.google.com/github/jumbokh/ML-Class/blob/main/notebooks/CH15_CreditDetect.ipynb\" target=\"_parent\"><img src=\"https://colab.research.google.com/assets/colab-badge.svg\" alt=\"Open In Colab\"/></a>"
      ]
    },
    {
      "cell_type": "markdown",
      "metadata": {
        "id": "bhvaTiOgnNJU"
      },
      "source": [
        "### Data File: [creditcard.csv](https://drive.google.com/file/d/117FaJ-jjj0vMFCtApU6g1Th80hD8cnWd/view?usp=sharing)"
      ]
    },
    {
      "cell_type": "code",
      "metadata": {
        "colab": {
          "base_uri": "https://localhost:8080/",
          "height": 224
        },
        "id": "WM_tYegim5ta",
        "outputId": "17ed8231-2275-4ac7-dda3-2dd69cc1a7ed"
      },
      "source": [
        "import pandas as pd\n",
        "import numpy as np\n",
        "import matplotlib.pyplot as plt\n",
        "import seaborn as sns\n",
        "%matplotlib inline\n",
        "# plt.rcParams['font.sans-serif'] = ['DFKai-sb'] \n",
        "# plt.rcParams['axes.unicode_minus'] = False\n",
        "%config InlineBackend.figure_format = 'retina'\n",
        "import warnings\n",
        "warnings.filterwarnings('ignore')\n",
        "\n",
        "df = pd.read_csv('creditcard.csv')\n",
        "df.head()"
      ],
      "execution_count": null,
      "outputs": [
        {
          "output_type": "execute_result",
          "data": {
            "text/html": [
              "<div>\n",
              "<style scoped>\n",
              "    .dataframe tbody tr th:only-of-type {\n",
              "        vertical-align: middle;\n",
              "    }\n",
              "\n",
              "    .dataframe tbody tr th {\n",
              "        vertical-align: top;\n",
              "    }\n",
              "\n",
              "    .dataframe thead th {\n",
              "        text-align: right;\n",
              "    }\n",
              "</style>\n",
              "<table border=\"1\" class=\"dataframe\">\n",
              "  <thead>\n",
              "    <tr style=\"text-align: right;\">\n",
              "      <th></th>\n",
              "      <th>Time</th>\n",
              "      <th>V1</th>\n",
              "      <th>V2</th>\n",
              "      <th>V3</th>\n",
              "      <th>V4</th>\n",
              "      <th>V5</th>\n",
              "      <th>V6</th>\n",
              "      <th>V7</th>\n",
              "      <th>V8</th>\n",
              "      <th>V9</th>\n",
              "      <th>V10</th>\n",
              "      <th>V11</th>\n",
              "      <th>V12</th>\n",
              "      <th>V13</th>\n",
              "      <th>V14</th>\n",
              "      <th>V15</th>\n",
              "      <th>V16</th>\n",
              "      <th>V17</th>\n",
              "      <th>V18</th>\n",
              "      <th>V19</th>\n",
              "      <th>V20</th>\n",
              "      <th>V21</th>\n",
              "      <th>V22</th>\n",
              "      <th>V23</th>\n",
              "      <th>V24</th>\n",
              "      <th>V25</th>\n",
              "      <th>V26</th>\n",
              "      <th>V27</th>\n",
              "      <th>V28</th>\n",
              "      <th>Amount</th>\n",
              "      <th>Class</th>\n",
              "    </tr>\n",
              "  </thead>\n",
              "  <tbody>\n",
              "    <tr>\n",
              "      <th>0</th>\n",
              "      <td>0.0</td>\n",
              "      <td>-1.359807</td>\n",
              "      <td>-0.072781</td>\n",
              "      <td>2.536347</td>\n",
              "      <td>1.378155</td>\n",
              "      <td>-0.338321</td>\n",
              "      <td>0.462388</td>\n",
              "      <td>0.239599</td>\n",
              "      <td>0.098698</td>\n",
              "      <td>0.363787</td>\n",
              "      <td>0.090794</td>\n",
              "      <td>-0.551600</td>\n",
              "      <td>-0.617801</td>\n",
              "      <td>-0.991390</td>\n",
              "      <td>-0.311169</td>\n",
              "      <td>1.468177</td>\n",
              "      <td>-0.470401</td>\n",
              "      <td>0.207971</td>\n",
              "      <td>0.025791</td>\n",
              "      <td>0.403993</td>\n",
              "      <td>0.251412</td>\n",
              "      <td>-0.018307</td>\n",
              "      <td>0.277838</td>\n",
              "      <td>-0.110474</td>\n",
              "      <td>0.066928</td>\n",
              "      <td>0.128539</td>\n",
              "      <td>-0.189115</td>\n",
              "      <td>0.133558</td>\n",
              "      <td>-0.021053</td>\n",
              "      <td>149.62</td>\n",
              "      <td>0</td>\n",
              "    </tr>\n",
              "    <tr>\n",
              "      <th>1</th>\n",
              "      <td>0.0</td>\n",
              "      <td>1.191857</td>\n",
              "      <td>0.266151</td>\n",
              "      <td>0.166480</td>\n",
              "      <td>0.448154</td>\n",
              "      <td>0.060018</td>\n",
              "      <td>-0.082361</td>\n",
              "      <td>-0.078803</td>\n",
              "      <td>0.085102</td>\n",
              "      <td>-0.255425</td>\n",
              "      <td>-0.166974</td>\n",
              "      <td>1.612727</td>\n",
              "      <td>1.065235</td>\n",
              "      <td>0.489095</td>\n",
              "      <td>-0.143772</td>\n",
              "      <td>0.635558</td>\n",
              "      <td>0.463917</td>\n",
              "      <td>-0.114805</td>\n",
              "      <td>-0.183361</td>\n",
              "      <td>-0.145783</td>\n",
              "      <td>-0.069083</td>\n",
              "      <td>-0.225775</td>\n",
              "      <td>-0.638672</td>\n",
              "      <td>0.101288</td>\n",
              "      <td>-0.339846</td>\n",
              "      <td>0.167170</td>\n",
              "      <td>0.125895</td>\n",
              "      <td>-0.008983</td>\n",
              "      <td>0.014724</td>\n",
              "      <td>2.69</td>\n",
              "      <td>0</td>\n",
              "    </tr>\n",
              "    <tr>\n",
              "      <th>2</th>\n",
              "      <td>1.0</td>\n",
              "      <td>-1.358354</td>\n",
              "      <td>-1.340163</td>\n",
              "      <td>1.773209</td>\n",
              "      <td>0.379780</td>\n",
              "      <td>-0.503198</td>\n",
              "      <td>1.800499</td>\n",
              "      <td>0.791461</td>\n",
              "      <td>0.247676</td>\n",
              "      <td>-1.514654</td>\n",
              "      <td>0.207643</td>\n",
              "      <td>0.624501</td>\n",
              "      <td>0.066084</td>\n",
              "      <td>0.717293</td>\n",
              "      <td>-0.165946</td>\n",
              "      <td>2.345865</td>\n",
              "      <td>-2.890083</td>\n",
              "      <td>1.109969</td>\n",
              "      <td>-0.121359</td>\n",
              "      <td>-2.261857</td>\n",
              "      <td>0.524980</td>\n",
              "      <td>0.247998</td>\n",
              "      <td>0.771679</td>\n",
              "      <td>0.909412</td>\n",
              "      <td>-0.689281</td>\n",
              "      <td>-0.327642</td>\n",
              "      <td>-0.139097</td>\n",
              "      <td>-0.055353</td>\n",
              "      <td>-0.059752</td>\n",
              "      <td>378.66</td>\n",
              "      <td>0</td>\n",
              "    </tr>\n",
              "    <tr>\n",
              "      <th>3</th>\n",
              "      <td>1.0</td>\n",
              "      <td>-0.966272</td>\n",
              "      <td>-0.185226</td>\n",
              "      <td>1.792993</td>\n",
              "      <td>-0.863291</td>\n",
              "      <td>-0.010309</td>\n",
              "      <td>1.247203</td>\n",
              "      <td>0.237609</td>\n",
              "      <td>0.377436</td>\n",
              "      <td>-1.387024</td>\n",
              "      <td>-0.054952</td>\n",
              "      <td>-0.226487</td>\n",
              "      <td>0.178228</td>\n",
              "      <td>0.507757</td>\n",
              "      <td>-0.287924</td>\n",
              "      <td>-0.631418</td>\n",
              "      <td>-1.059647</td>\n",
              "      <td>-0.684093</td>\n",
              "      <td>1.965775</td>\n",
              "      <td>-1.232622</td>\n",
              "      <td>-0.208038</td>\n",
              "      <td>-0.108300</td>\n",
              "      <td>0.005274</td>\n",
              "      <td>-0.190321</td>\n",
              "      <td>-1.175575</td>\n",
              "      <td>0.647376</td>\n",
              "      <td>-0.221929</td>\n",
              "      <td>0.062723</td>\n",
              "      <td>0.061458</td>\n",
              "      <td>123.50</td>\n",
              "      <td>0</td>\n",
              "    </tr>\n",
              "    <tr>\n",
              "      <th>4</th>\n",
              "      <td>2.0</td>\n",
              "      <td>-1.158233</td>\n",
              "      <td>0.877737</td>\n",
              "      <td>1.548718</td>\n",
              "      <td>0.403034</td>\n",
              "      <td>-0.407193</td>\n",
              "      <td>0.095921</td>\n",
              "      <td>0.592941</td>\n",
              "      <td>-0.270533</td>\n",
              "      <td>0.817739</td>\n",
              "      <td>0.753074</td>\n",
              "      <td>-0.822843</td>\n",
              "      <td>0.538196</td>\n",
              "      <td>1.345852</td>\n",
              "      <td>-1.119670</td>\n",
              "      <td>0.175121</td>\n",
              "      <td>-0.451449</td>\n",
              "      <td>-0.237033</td>\n",
              "      <td>-0.038195</td>\n",
              "      <td>0.803487</td>\n",
              "      <td>0.408542</td>\n",
              "      <td>-0.009431</td>\n",
              "      <td>0.798278</td>\n",
              "      <td>-0.137458</td>\n",
              "      <td>0.141267</td>\n",
              "      <td>-0.206010</td>\n",
              "      <td>0.502292</td>\n",
              "      <td>0.219422</td>\n",
              "      <td>0.215153</td>\n",
              "      <td>69.99</td>\n",
              "      <td>0</td>\n",
              "    </tr>\n",
              "  </tbody>\n",
              "</table>\n",
              "</div>"
            ],
            "text/plain": [
              "   Time        V1        V2        V3  ...       V27       V28  Amount  Class\n",
              "0   0.0 -1.359807 -0.072781  2.536347  ...  0.133558 -0.021053  149.62      0\n",
              "1   0.0  1.191857  0.266151  0.166480  ... -0.008983  0.014724    2.69      0\n",
              "2   1.0 -1.358354 -1.340163  1.773209  ... -0.055353 -0.059752  378.66      0\n",
              "3   1.0 -0.966272 -0.185226  1.792993  ...  0.062723  0.061458  123.50      0\n",
              "4   2.0 -1.158233  0.877737  1.548718  ...  0.219422  0.215153   69.99      0\n",
              "\n",
              "[5 rows x 31 columns]"
            ]
          },
          "metadata": {
            "tags": []
          },
          "execution_count": 1
        }
      ]
    },
    {
      "cell_type": "code",
      "metadata": {
        "colab": {
          "base_uri": "https://localhost:8080/"
        },
        "id": "mA3N3qR8nuSw",
        "outputId": "b814befd-7b61-4eb9-f25d-0c2bb72bbe02"
      },
      "source": [
        "df.drop('Time', axis=1, inplace=True)\n",
        "df.dtypes.tail()"
      ],
      "execution_count": null,
      "outputs": [
        {
          "output_type": "execute_result",
          "data": {
            "text/plain": [
              "V26       float64\n",
              "V27       float64\n",
              "V28       float64\n",
              "Amount    float64\n",
              "Class       int64\n",
              "dtype: object"
            ]
          },
          "metadata": {
            "tags": []
          },
          "execution_count": 2
        }
      ]
    },
    {
      "cell_type": "code",
      "metadata": {
        "colab": {
          "base_uri": "https://localhost:8080/"
        },
        "id": "8wyNaUoAnvTs",
        "outputId": "954e10a1-696b-4f5b-d1bd-398b19268ad9"
      },
      "source": [
        "df.isnull().sum().sum()"
      ],
      "execution_count": null,
      "outputs": [
        {
          "output_type": "execute_result",
          "data": {
            "text/plain": [
              "0"
            ]
          },
          "metadata": {
            "tags": []
          },
          "execution_count": 3
        }
      ]
    },
    {
      "cell_type": "code",
      "metadata": {
        "colab": {
          "base_uri": "https://localhost:8080/",
          "height": 111
        },
        "id": "vgup5Q5Jnz0N",
        "outputId": "9773d74e-5c5e-4013-873b-5265fe95cd65"
      },
      "source": [
        "size = df['Class'].value_counts()\n",
        "pct = df['Class'].value_counts(normalize=True).round(3)\n",
        "pd.DataFrame(zip(size, pct), columns=['次數', '百分比'], index=['No','Yes'])"
      ],
      "execution_count": null,
      "outputs": [
        {
          "output_type": "execute_result",
          "data": {
            "text/html": [
              "<div>\n",
              "<style scoped>\n",
              "    .dataframe tbody tr th:only-of-type {\n",
              "        vertical-align: middle;\n",
              "    }\n",
              "\n",
              "    .dataframe tbody tr th {\n",
              "        vertical-align: top;\n",
              "    }\n",
              "\n",
              "    .dataframe thead th {\n",
              "        text-align: right;\n",
              "    }\n",
              "</style>\n",
              "<table border=\"1\" class=\"dataframe\">\n",
              "  <thead>\n",
              "    <tr style=\"text-align: right;\">\n",
              "      <th></th>\n",
              "      <th>次數</th>\n",
              "      <th>百分比</th>\n",
              "    </tr>\n",
              "  </thead>\n",
              "  <tbody>\n",
              "    <tr>\n",
              "      <th>No</th>\n",
              "      <td>284315</td>\n",
              "      <td>0.998</td>\n",
              "    </tr>\n",
              "    <tr>\n",
              "      <th>Yes</th>\n",
              "      <td>492</td>\n",
              "      <td>0.002</td>\n",
              "    </tr>\n",
              "  </tbody>\n",
              "</table>\n",
              "</div>"
            ],
            "text/plain": [
              "         次數    百分比\n",
              "No   284315  0.998\n",
              "Yes     492  0.002"
            ]
          },
          "metadata": {
            "tags": []
          },
          "execution_count": 4
        }
      ]
    },
    {
      "cell_type": "code",
      "metadata": {
        "colab": {
          "base_uri": "https://localhost:8080/",
          "height": 353
        },
        "id": "DwKbMwwKn4XH",
        "outputId": "922fd83c-a536-41d7-9e22-ca38c4698a58"
      },
      "source": [
        "plt.figure(figsize=(7,5))\n",
        "sns.heatmap(df.corr(), cmap='coolwarm');"
      ],
      "execution_count": null,
      "outputs": [
        {
          "output_type": "display_data",
          "data": {
            "image/png": "[encoded data removed]",
            "text/plain": [
              "<Figure size 504x360 with 2 Axes>"
            ]
          },
          "metadata": {
            "tags": [],
            "image/png": {
              "width": 437,
              "height": 336
            },
            "needs_background": "light"
          }
        }
      ]
    },
    {
      "cell_type": "code",
      "metadata": {
        "colab": {
          "base_uri": "https://localhost:8080/"
        },
        "id": "_wOSnn5bn83w",
        "outputId": "15e7a2e6-53ca-448b-ca62-33b86b6a4e36"
      },
      "source": [
        "# ch15-6\n",
        "df_corr = df.drop('Class',axis=1).corrwith(df['Class']).\\\n",
        "sort_values(ascending=False)\n",
        "print(df_corr[:3])\n",
        "print(df_corr[-3:])"
      ],
      "execution_count": null,
      "outputs": [
        {
          "output_type": "stream",
          "text": [
            "V11    0.154876\n",
            "V4     0.133447\n",
            "V2     0.091289\n",
            "dtype: float64\n",
            "V12   -0.260593\n",
            "V14   -0.302544\n",
            "V17   -0.326481\n",
            "dtype: float64\n"
          ],
          "name": "stdout"
        }
      ]
    },
    {
      "cell_type": "code",
      "metadata": {
        "colab": {
          "base_uri": "https://localhost:8080/",
          "height": 142
        },
        "id": "gqoUL6SioD4O",
        "outputId": "1417a8ac-9e8c-41d1-8290-16f788ecad23"
      },
      "source": [
        "df.groupby('Class')['Amount'].describe()"
      ],
      "execution_count": null,
      "outputs": [
        {
          "output_type": "execute_result",
          "data": {
            "text/html": [
              "<div>\n",
              "<style scoped>\n",
              "    .dataframe tbody tr th:only-of-type {\n",
              "        vertical-align: middle;\n",
              "    }\n",
              "\n",
              "    .dataframe tbody tr th {\n",
              "        vertical-align: top;\n",
              "    }\n",
              "\n",
              "    .dataframe thead th {\n",
              "        text-align: right;\n",
              "    }\n",
              "</style>\n",
              "<table border=\"1\" class=\"dataframe\">\n",
              "  <thead>\n",
              "    <tr style=\"text-align: right;\">\n",
              "      <th></th>\n",
              "      <th>count</th>\n",
              "      <th>mean</th>\n",
              "      <th>std</th>\n",
              "      <th>min</th>\n",
              "      <th>25%</th>\n",
              "      <th>50%</th>\n",
              "      <th>75%</th>\n",
              "      <th>max</th>\n",
              "    </tr>\n",
              "    <tr>\n",
              "      <th>Class</th>\n",
              "      <th></th>\n",
              "      <th></th>\n",
              "      <th></th>\n",
              "      <th></th>\n",
              "      <th></th>\n",
              "      <th></th>\n",
              "      <th></th>\n",
              "      <th></th>\n",
              "    </tr>\n",
              "  </thead>\n",
              "  <tbody>\n",
              "    <tr>\n",
              "      <th>0</th>\n",
              "      <td>284315.0</td>\n",
              "      <td>88.291022</td>\n",
              "      <td>250.105092</td>\n",
              "      <td>0.0</td>\n",
              "      <td>5.65</td>\n",
              "      <td>22.00</td>\n",
              "      <td>77.05</td>\n",
              "      <td>25691.16</td>\n",
              "    </tr>\n",
              "    <tr>\n",
              "      <th>1</th>\n",
              "      <td>492.0</td>\n",
              "      <td>122.211321</td>\n",
              "      <td>256.683288</td>\n",
              "      <td>0.0</td>\n",
              "      <td>1.00</td>\n",
              "      <td>9.25</td>\n",
              "      <td>105.89</td>\n",
              "      <td>2125.87</td>\n",
              "    </tr>\n",
              "  </tbody>\n",
              "</table>\n",
              "</div>"
            ],
            "text/plain": [
              "          count        mean         std  min   25%    50%     75%       max\n",
              "Class                                                                      \n",
              "0      284315.0   88.291022  250.105092  0.0  5.65  22.00   77.05  25691.16\n",
              "1         492.0  122.211321  256.683288  0.0  1.00   9.25  105.89   2125.87"
            ]
          },
          "metadata": {
            "tags": []
          },
          "execution_count": 7
        }
      ]
    },
    {
      "cell_type": "code",
      "metadata": {
        "colab": {
          "base_uri": "https://localhost:8080/",
          "height": 278
        },
        "id": "l5kmfM3-oIcn",
        "outputId": "6cffe90d-aa10-4229-f3dd-397548b3dd5c"
      },
      "source": [
        "sns.violinplot(x='Class', y='Amount', data=df);"
      ],
      "execution_count": null,
      "outputs": [
        {
          "output_type": "display_data",
          "data": {
            "image/png": "[encoded data removed]",
            "text/plain": [
              "<Figure size 432x288 with 1 Axes>"
            ]
          },
          "metadata": {
            "tags": [],
            "image/png": {
              "width": 401,
              "height": 261
            },
            "needs_background": "light"
          }
        }
      ]
    },
    {
      "cell_type": "code",
      "metadata": {
        "id": "gxXogyUpoNQ3"
      },
      "source": [
        "# ch15-9\n",
        "from sklearn.model_selection import train_test_split\n",
        "X = df.drop('Class', axis=1)\n",
        "y = df['Class']\n",
        "X_train, X_test, y_train, y_test = train_test_split(X, y, \n",
        "                                                    test_size=0.3, random_state=42)"
      ],
      "execution_count": null,
      "outputs": []
    },
    {
      "cell_type": "code",
      "metadata": {
        "colab": {
          "base_uri": "https://localhost:8080/"
        },
        "id": "UnqVtwglog5r",
        "outputId": "4127193b-af92-45dc-cf05-8281d2196bf8"
      },
      "source": [
        "# ch15-10\n",
        "from sklearn.metrics import confusion_matrix, classification_report, accuracy_score\n",
        "from sklearn.dummy import DummyClassifier\n",
        "dmy = DummyClassifier(strategy='most_frequent')\n",
        "dmy.fit(X_train, y_train)\n",
        "dmy.score(X_train, y_train)\n",
        "y_pred = dmy.predict(X_test)\n",
        "print(accuracy_score(y_test, y_pred))\n",
        "print(confusion_matrix(y_test, y_pred))\n",
        "print(classification_report(y_test, y_pred))"
      ],
      "execution_count": null,
      "outputs": [
        {
          "output_type": "stream",
          "text": [
            "0.9984082955888721\n",
            "[[85307     0]\n",
            " [  136     0]]\n",
            "              precision    recall  f1-score   support\n",
            "\n",
            "           0       1.00      1.00      1.00     85307\n",
            "           1       0.00      0.00      0.00       136\n",
            "\n",
            "    accuracy                           1.00     85443\n",
            "   macro avg       0.50      0.50      0.50     85443\n",
            "weighted avg       1.00      1.00      1.00     85443\n",
            "\n"
          ],
          "name": "stdout"
        }
      ]
    },
    {
      "cell_type": "code",
      "metadata": {
        "colab": {
          "base_uri": "https://localhost:8080/"
        },
        "id": "ORYJ4ebyom3o",
        "outputId": "39d37f3c-b5cb-4808-d3c7-f3d6a9e4e4bd"
      },
      "source": [
        "# ch15-11\n",
        "# 載入所有模型\n",
        "from sklearn.linear_model import LogisticRegression\n",
        "from sklearn.svm import SVC\n",
        "from sklearn.neighbors import KNeighborsClassifier\n",
        "from sklearn.tree import DecisionTreeClassifier\n",
        "from sklearn.ensemble import RandomForestClassifier, AdaBoostClassifier, BaggingClassifier\n",
        "from xgboost import XGBClassifier\n",
        "from sklearn.preprocessing import StandardScaler\n",
        "from sklearn.pipeline import Pipeline, make_pipeline\n",
        "from sklearn.metrics import recall_score\n",
        "\n",
        "models = [LogisticRegression(), SVC(), KNeighborsClassifier(), RandomForestClassifier()]\n",
        "model_results = {}\n",
        "for model in models:\n",
        "    model_pl = make_pipeline(StandardScaler(), model)\n",
        "    model_pl.fit(X_train, y_train)\n",
        "    y_pred = model_pl.predict(X_test)\n",
        "    score = accuracy_score(y_test, y_pred)\n",
        "    recall = recall_score(y_test, y_pred, pos_label=1)\n",
        "    model_results[model.__class__.__name__] = [score, recall]\n",
        "    print(f'模型名稱{model.__class__.__name__:-^50}')\n",
        "    print('混亂矩陣\\n',confusion_matrix(y_test, y_pred))\n",
        "    print(f'正確率: {score:.3f}， 召回率: {recall:.3f}\\n')"
      ],
      "execution_count": null,
      "outputs": [
        {
          "output_type": "stream",
          "text": [
            "模型名稱----------------LogisticRegression----------------\n",
            "混亂矩陣\n",
            " [[85295    12]\n",
            " [   51    85]]\n",
            "正確率: 0.999， 召回率: 0.625\n",
            "\n",
            "模型名稱-----------------------SVC------------------------\n",
            "混亂矩陣\n",
            " [[85301     6]\n",
            " [   49    87]]\n",
            "正確率: 0.999， 召回率: 0.640\n",
            "\n",
            "模型名稱---------------KNeighborsClassifier---------------\n",
            "混亂矩陣\n",
            " [[85291    16]\n",
            " [   31   105]]\n",
            "正確率: 0.999， 召回率: 0.772\n",
            "\n",
            "模型名稱--------------RandomForestClassifier--------------\n",
            "混亂矩陣\n",
            " [[85299     8]\n",
            " [   23   113]]\n",
            "正確率: 1.000， 召回率: 0.831\n",
            "\n"
          ],
          "name": "stdout"
        }
      ]
    },
    {
      "cell_type": "code",
      "metadata": {
        "colab": {
          "base_uri": "https://localhost:8080/",
          "height": 193
        },
        "id": "LJInPb2ioxwI",
        "outputId": "e8372795-8b3d-47a5-86bd-141f2fa7aa54"
      },
      "source": [
        "# ch15-12\n",
        "df_orig = pd.DataFrame(model_results.values(), index=model_results.keys(),\n",
        "             columns=['prec','recall']).sort_values(by='recall', ascending=False)\n",
        "df_orig"
      ],
      "execution_count": null,
      "outputs": [
        {
          "output_type": "execute_result",
          "data": {
            "text/html": [
              "<div>\n",
              "<style scoped>\n",
              "    .dataframe tbody tr th:only-of-type {\n",
              "        vertical-align: middle;\n",
              "    }\n",
              "\n",
              "    .dataframe tbody tr th {\n",
              "        vertical-align: top;\n",
              "    }\n",
              "\n",
              "    .dataframe thead th {\n",
              "        text-align: right;\n",
              "    }\n",
              "</style>\n",
              "<table border=\"1\" class=\"dataframe\">\n",
              "  <thead>\n",
              "    <tr style=\"text-align: right;\">\n",
              "      <th></th>\n",
              "      <th>prec</th>\n",
              "      <th>recall</th>\n",
              "    </tr>\n",
              "  </thead>\n",
              "  <tbody>\n",
              "    <tr>\n",
              "      <th>RandomForestClassifier</th>\n",
              "      <td>0.999637</td>\n",
              "      <td>0.830882</td>\n",
              "    </tr>\n",
              "    <tr>\n",
              "      <th>KNeighborsClassifier</th>\n",
              "      <td>0.999450</td>\n",
              "      <td>0.772059</td>\n",
              "    </tr>\n",
              "    <tr>\n",
              "      <th>SVC</th>\n",
              "      <td>0.999356</td>\n",
              "      <td>0.639706</td>\n",
              "    </tr>\n",
              "    <tr>\n",
              "      <th>LogisticRegression</th>\n",
              "      <td>0.999263</td>\n",
              "      <td>0.625000</td>\n",
              "    </tr>\n",
              "  </tbody>\n",
              "</table>\n",
              "</div>"
            ],
            "text/plain": [
              "                            prec    recall\n",
              "RandomForestClassifier  0.999637  0.830882\n",
              "KNeighborsClassifier    0.999450  0.772059\n",
              "SVC                     0.999356  0.639706\n",
              "LogisticRegression      0.999263  0.625000"
            ]
          },
          "metadata": {
            "tags": []
          },
          "execution_count": 12
        }
      ]
    },
    {
      "cell_type": "code",
      "metadata": {
        "colab": {
          "base_uri": "https://localhost:8080/"
        },
        "id": "y61lv6RWo4GQ",
        "outputId": "277a89db-4738-4e9f-97b8-94713f563939"
      },
      "source": [
        "# ch15-13\n",
        "models = [LogisticRegression(class_weight='balanced'), SVC(class_weight='balanced'), \n",
        "          RandomForestClassifier(class_weight='balanced')]\n",
        "model_results = {}\n",
        "for model in models:\n",
        "    model_pl = make_pipeline(StandardScaler(), model)\n",
        "    model_pl.fit(X_train, y_train)\n",
        "    y_pred = model_pl.predict(X_test)\n",
        "    score = accuracy_score(y_test, y_pred)\n",
        "    recall = recall_score(y_test, y_pred, pos_label=1)\n",
        "    model_results[model.__class__.__name__] = [score, recall]\n",
        "    print(f'{model.__class__.__name__:-^50}')\n",
        "    print(confusion_matrix(y_test, y_pred))\n",
        "    print(f'正確率: {score:.3f}， 召回率: {recall:.3f}')\n",
        "    print()"
      ],
      "execution_count": null,
      "outputs": [
        {
          "output_type": "stream",
          "text": [
            "----------------LogisticRegression----------------\n",
            "[[83114  2193]\n",
            " [   10   126]]\n",
            "正確率: 0.974， 召回率: 0.926\n",
            "\n",
            "-----------------------SVC------------------------\n",
            "[[85080   227]\n",
            " [   31   105]]\n",
            "正確率: 0.997， 召回率: 0.772\n",
            "\n",
            "--------------RandomForestClassifier--------------\n",
            "[[85303     4]\n",
            " [   29   107]]\n",
            "正確率: 1.000， 召回率: 0.787\n",
            "\n"
          ],
          "name": "stdout"
        }
      ]
    },
    {
      "cell_type": "code",
      "metadata": {
        "colab": {
          "base_uri": "https://localhost:8080/",
          "height": 162
        },
        "id": "yTKaXLB0o_Et",
        "outputId": "7e8b84fa-e44c-49a4-eca8-c8d90b346202"
      },
      "source": [
        "# ch15-14\n",
        "df_weight = pd.DataFrame(model_results.values(), index=model_results.keys(),\n",
        "             columns=['prec','recall']).sort_values(by='recall', ascending=False)\n",
        "df_weight"
      ],
      "execution_count": null,
      "outputs": [
        {
          "output_type": "execute_result",
          "data": {
            "text/html": [
              "<div>\n",
              "<style scoped>\n",
              "    .dataframe tbody tr th:only-of-type {\n",
              "        vertical-align: middle;\n",
              "    }\n",
              "\n",
              "    .dataframe tbody tr th {\n",
              "        vertical-align: top;\n",
              "    }\n",
              "\n",
              "    .dataframe thead th {\n",
              "        text-align: right;\n",
              "    }\n",
              "</style>\n",
              "<table border=\"1\" class=\"dataframe\">\n",
              "  <thead>\n",
              "    <tr style=\"text-align: right;\">\n",
              "      <th></th>\n",
              "      <th>prec</th>\n",
              "      <th>recall</th>\n",
              "    </tr>\n",
              "  </thead>\n",
              "  <tbody>\n",
              "    <tr>\n",
              "      <th>LogisticRegression</th>\n",
              "      <td>0.974217</td>\n",
              "      <td>0.926471</td>\n",
              "    </tr>\n",
              "    <tr>\n",
              "      <th>RandomForestClassifier</th>\n",
              "      <td>0.999614</td>\n",
              "      <td>0.786765</td>\n",
              "    </tr>\n",
              "    <tr>\n",
              "      <th>SVC</th>\n",
              "      <td>0.996980</td>\n",
              "      <td>0.772059</td>\n",
              "    </tr>\n",
              "  </tbody>\n",
              "</table>\n",
              "</div>"
            ],
            "text/plain": [
              "                            prec    recall\n",
              "LogisticRegression      0.974217  0.926471\n",
              "RandomForestClassifier  0.999614  0.786765\n",
              "SVC                     0.996980  0.772059"
            ]
          },
          "metadata": {
            "tags": []
          },
          "execution_count": 14
        }
      ]
    },
    {
      "cell_type": "code",
      "metadata": {
        "colab": {
          "base_uri": "https://localhost:8080/"
        },
        "id": "LmpCn6vMpFnN",
        "outputId": "019cc028-84c8-4ced-b889-ee3acd50dfd0"
      },
      "source": [
        "# ch15-15\n",
        "from imblearn.under_sampling import RandomUnderSampler\n",
        "from imblearn.pipeline import make_pipeline\n",
        "np.random.seed(42)\n",
        "models = [LogisticRegression(), SVC(), KNeighborsClassifier(), RandomForestClassifier()]\n",
        "model_results = {}\n",
        "for model in models:\n",
        "    model_pl = make_pipeline(StandardScaler(), RandomUnderSampler(), model)\n",
        "    model_pl.fit(X_train, y_train)\n",
        "    y_pred = model_pl.predict(X_test)\n",
        "    score = accuracy_score(y_test, y_pred)\n",
        "    recall = recall_score(y_test, y_pred, pos_label=1)\n",
        "    model_results[model.__class__.__name__] = [score, recall]\n",
        "    print(f'{model.__class__.__name__:-^50}')\n",
        "    print(confusion_matrix(y_test, y_pred))\n",
        "    print(f'正確率: {score:.3f}， 召回率: {recall:.3f}')\n",
        "    print()"
      ],
      "execution_count": null,
      "outputs": [
        {
          "output_type": "stream",
          "text": [
            "----------------LogisticRegression----------------\n",
            "[[81974  3333]\n",
            " [    9   127]]\n",
            "正確率: 0.961， 召回率: 0.934\n",
            "\n",
            "-----------------------SVC------------------------\n",
            "[[83857  1450]\n",
            " [   13   123]]\n",
            "正確率: 0.983， 召回率: 0.904\n",
            "\n",
            "---------------KNeighborsClassifier---------------\n",
            "[[82633  2674]\n",
            " [   11   125]]\n",
            "正確率: 0.969， 召回率: 0.919\n",
            "\n",
            "--------------RandomForestClassifier--------------\n",
            "[[83018  2289]\n",
            " [    8   128]]\n",
            "正確率: 0.973， 召回率: 0.941\n",
            "\n"
          ],
          "name": "stdout"
        }
      ]
    }
  ]
}