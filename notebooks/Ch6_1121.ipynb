{
  "nbformat": 4,
  "nbformat_minor": 0,
  "metadata": {
    "colab": {
      "name": "Ch6_1121.ipynb",
      "provenance": [],
      "collapsed_sections": [],
      "include_colab_link": true
    },
    "kernelspec": {
      "name": "python3",
      "display_name": "Python 3"
    },
    "language_info": {
      "name": "python"
    }
  },
  "cells": [
    {
      "cell_type": "markdown",
      "metadata": {
        "id": "view-in-github",
        "colab_type": "text"
      },
      "source": [
        "<a href=\"https://colab.research.google.com/github/jumbokh/ML-Class/blob/main/notebooks/Ch6_1121.ipynb\" target=\"_parent\"><img src=\"https://colab.research.google.com/assets/colab-badge.svg\" alt=\"Open In Colab\"/></a>"
      ]
    },
    {
      "cell_type": "code",
      "metadata": {
        "colab": {
          "base_uri": "https://localhost:8080/"
        },
        "id": "AB128wDprfET",
        "outputId": "0b405b68-9dce-4009-9570-5ee27fc3435f"
      },
      "source": [
        "def myfun(x):\n",
        "  return x**2\n",
        "print(myfun(8))"
      ],
      "execution_count": null,
      "outputs": [
        {
          "output_type": "stream",
          "name": "stdout",
          "text": [
            "64\n"
          ]
        }
      ]
    },
    {
      "cell_type": "code",
      "metadata": {
        "colab": {
          "base_uri": "https://localhost:8080/"
        },
        "id": "WzozxsiVskw-",
        "outputId": "237d3259-83be-467c-b69b-fc823b18cb76"
      },
      "source": [
        "\n",
        "def myfun1(x):\n",
        "  return x**2+b\n",
        "b = 10\n",
        "print(myfun1(8))"
      ],
      "execution_count": null,
      "outputs": [
        {
          "output_type": "stream",
          "name": "stdout",
          "text": [
            "74\n"
          ]
        }
      ]
    },
    {
      "cell_type": "code",
      "metadata": {
        "colab": {
          "base_uri": "https://localhost:8080/"
        },
        "id": "iLIMeDXt2viY",
        "outputId": "53807fc7-c81e-42c9-b74c-62dfac56f5fc"
      },
      "source": [
        "#sumn_def.py功能: 主程式呼叫1層自訂函數\n",
        "def sumnfunc(n):\n",
        "#A_func功能: 計算累加\n",
        "    sumn=0\n",
        "    for i in range(n+1):\n",
        "        sumn=sumn+i\n",
        "    return(sumn)\n",
        "num=int(input('輸入一個正整數n = '))    \n",
        "result=sumnfunc(num)\n",
        "print('1累加到n的結果 = ', result)"
      ],
      "execution_count": null,
      "outputs": [
        {
          "output_type": "stream",
          "name": "stdout",
          "text": [
            "輸入一個正整數n = 10\n",
            "1累加到n的結果 =  55\n"
          ]
        }
      ]
    },
    {
      "cell_type": "code",
      "metadata": {
        "colab": {
          "base_uri": "https://localhost:8080/"
        },
        "id": "qkprxDRe3FbC",
        "outputId": "7d0765ec-7dde-4ee5-d9f3-d8f6088c096f"
      },
      "source": [
        "#E_6_2.py功能: 主程式呼叫2層的自訂函數\n",
        "def callfunc(n):\n",
        "#callfunc功能: 檢查數值型別與呼叫函數\n",
        "    if n.isdigit():\n",
        "        number=int(n)        \n",
        "        print('1累加到n的結果 = ', sumnfunc(number))        \n",
        "        print('1累乘到n的結果 = ', prodnfunc(number))        \n",
        "    else:\n",
        "        print('請輸入數值資料')    \n",
        "def sumnfunc(n):\n",
        "#sumnfunc: 計算累加    \n",
        "    sumn=0\n",
        "    for i in range(1,n+1):\n",
        "        sumn=sumn+i\n",
        "    return(sumn)   \n",
        "def prodnfunc(n):\n",
        "#prodnfunc功能: 計算累乘\n",
        "    prodn=1\n",
        "    for i in range(1,n+1):\n",
        "        prodn=prodn*i\n",
        "    return(prodn)    \n",
        "num=input('輸入一個正整數n = ')\n",
        "callfunc(num)\n"
      ],
      "execution_count": null,
      "outputs": [
        {
          "output_type": "stream",
          "name": "stdout",
          "text": [
            "輸入一個正整數n = 10\n",
            "1累加到n的結果 =  55\n",
            "1累乘到n的結果 =  3628800\n"
          ]
        }
      ]
    },
    {
      "cell_type": "code",
      "metadata": {
        "colab": {
          "base_uri": "https://localhost:8080/"
        },
        "id": "FkOgE4vbv5XN",
        "outputId": "f00b1aa3-f094-43a2-bd30-b9fee150f8a5"
      },
      "source": [
        "#lambda x: x**2\n",
        "num = range(1,10)\n",
        "print(num)\n",
        "lis0 = []\n",
        "for i in num:\n",
        "  lamx = (lambda x:x**2)\n",
        "  #print(lamx(i))\n",
        "  lis0.append(lamx(i))\n",
        "print(lis0)"
      ],
      "execution_count": null,
      "outputs": [
        {
          "output_type": "stream",
          "name": "stdout",
          "text": [
            "range(1, 10)\n",
            "[1, 4, 9, 16, 25, 36, 49, 64, 81]\n"
          ]
        }
      ]
    },
    {
      "cell_type": "code",
      "metadata": {
        "colab": {
          "base_uri": "https://localhost:8080/"
        },
        "id": "kD57PypUybtu",
        "outputId": "5600e070-3e65-4bec-9bfc-d55d70fe9e0b"
      },
      "source": [
        "num = range(1,10)\n",
        "print(num)\n",
        "lis0 = []\n",
        "for i in num:\n",
        "  #lamx = i**2\n",
        "  #print(lamx)\n",
        "  lis0.append(i**2)\n",
        "print(lis0)"
      ],
      "execution_count": null,
      "outputs": [
        {
          "output_type": "stream",
          "name": "stdout",
          "text": [
            "range(1, 10)\n",
            "[1, 4, 9, 16, 25, 36, 49, 64, 81]\n"
          ]
        }
      ]
    },
    {
      "cell_type": "code",
      "metadata": {
        "colab": {
          "base_uri": "https://localhost:8080/"
        },
        "id": "QiN1mMF_zYpA",
        "outputId": "06255d41-3568-47fe-e5f2-1e4b05cb1b29"
      },
      "source": [
        "num = range(1,10)\n",
        "print(num)\n",
        "lis0 = []\n",
        "for i in num:\n",
        "  lamx = (lambda x:[x**2,x**3])\n",
        "  print(lamx(i))\n",
        "  lis0.append(lamx(i))\n",
        "print(lis0)"
      ],
      "execution_count": null,
      "outputs": [
        {
          "output_type": "stream",
          "name": "stdout",
          "text": [
            "range(1, 10)\n",
            "[1, 1]\n",
            "[4, 8]\n",
            "[9, 27]\n",
            "[16, 64]\n",
            "[25, 125]\n",
            "[36, 216]\n",
            "[49, 343]\n",
            "[64, 512]\n",
            "[81, 729]\n",
            "[[1, 1], [4, 8], [9, 27], [16, 64], [25, 125], [36, 216], [49, 343], [64, 512], [81, 729]]\n"
          ]
        }
      ]
    },
    {
      "cell_type": "code",
      "metadata": {
        "colab": {
          "base_uri": "https://localhost:8080/"
        },
        "id": "doD_I5ab0sxT",
        "outputId": "09d85372-fc2e-4d9c-b658-c3047cf69089"
      },
      "source": [
        "from random import randint as ri\n",
        "num = range(1,10)\n",
        "print(num)\n",
        "v = 12\n",
        "lis1 = []\n",
        "for i in num:\n",
        "  lamx = (lambda x:[x,ri(1,6),x+v])\n",
        "  print(lamx(i))\n",
        "  lis1.append(lamx(i))\n",
        "print(lis1)"
      ],
      "execution_count": null,
      "outputs": [
        {
          "output_type": "stream",
          "name": "stdout",
          "text": [
            "range(1, 10)\n",
            "[1, 5, 13]\n",
            "[2, 5, 14]\n",
            "[3, 1, 15]\n",
            "[4, 6, 16]\n",
            "[5, 6, 17]\n",
            "[6, 6, 18]\n",
            "[7, 1, 19]\n",
            "[8, 4, 20]\n",
            "[9, 5, 21]\n",
            "[[1, 6, 13], [2, 4, 14], [3, 4, 15], [4, 1, 16], [5, 5, 17], [6, 1, 18], [7, 6, 19], [8, 1, 20], [9, 2, 21]]\n"
          ]
        }
      ]
    },
    {
      "cell_type": "code",
      "metadata": {
        "id": "GXFRNuc75uRp"
      },
      "source": [
        ""
      ],
      "execution_count": null,
      "outputs": []
    },
    {
      "cell_type": "code",
      "metadata": {
        "colab": {
          "base_uri": "https://localhost:8080/"
        },
        "id": "zLBf_fEe1aDu",
        "outputId": "4f58526f-eda8-4612-b076-b8f48652d55a"
      },
      "source": [
        "for i in range(10):\n",
        "  print(i,ri(1,6))"
      ],
      "execution_count": null,
      "outputs": [
        {
          "output_type": "stream",
          "name": "stdout",
          "text": [
            "0 1\n",
            "1 6\n",
            "2 6\n",
            "3 5\n",
            "4 3\n",
            "5 6\n",
            "6 1\n",
            "7 1\n",
            "8 3\n",
            "9 3\n"
          ]
        }
      ]
    },
    {
      "cell_type": "markdown",
      "metadata": {
        "id": "2yj6qhve60_5"
      },
      "source": [
        "## f(x,y,z) = (x-y)**z / 2\n",
        "### input 3,1,2"
      ]
    },
    {
      "cell_type": "code",
      "metadata": {
        "colab": {
          "base_uri": "https://localhost:8080/"
        },
        "id": "DOXRRXbA7EHx",
        "outputId": "d8c06f8e-9660-4ed6-e814-4d7444d6d170"
      },
      "source": [
        "lambret2 = lambda x,y,z:((x-y)**z)/2\n",
        "print(lambret2(3,1,2))"
      ],
      "execution_count": null,
      "outputs": [
        {
          "output_type": "stream",
          "name": "stdout",
          "text": [
            "2.0\n"
          ]
        }
      ]
    },
    {
      "cell_type": "markdown",
      "metadata": {
        "id": "9ilu8AnO7aOi"
      },
      "source": [
        "## y = int(input('y'))\n",
        "## x = int(input('x'))\n",
        "## n = f(x)\n",
        "##    f(x) return x**2 if x>y\n",
        "##    f(x) return 1/x**2 if x<y\n",
        "##\n",
        "## x,y: x**2 if x>y else 1/(x**2)"
      ]
    },
    {
      "cell_type": "code",
      "metadata": {
        "colab": {
          "base_uri": "https://localhost:8080/"
        },
        "id": "Pv04mX9I9uHm",
        "outputId": "e0b6c4e0-2636-4557-8903-4f830f684526"
      },
      "source": [
        "y = int(input('y= '))\n",
        "x = int(input('x= '))\n",
        "if x>y:\n",
        "  print(x**2)\n",
        "else:\n",
        "  print(1/(x**2))"
      ],
      "execution_count": null,
      "outputs": [
        {
          "output_type": "stream",
          "name": "stdout",
          "text": [
            "y= 4\n",
            "x= 3\n",
            "0.1111111111111111\n"
          ]
        }
      ]
    },
    {
      "cell_type": "code",
      "metadata": {
        "colab": {
          "base_uri": "https://localhost:8080/"
        },
        "id": "jwtg0_z4-Too",
        "outputId": "1091044a-c95a-453d-aa2c-349218101080"
      },
      "source": [
        "y = int(input('y= '))\n",
        "x = int(input('x= '))\n",
        "n = lambda x,y: x**2 if x>y else 1/(x**2)\n",
        "print(n(x,y))"
      ],
      "execution_count": null,
      "outputs": [
        {
          "output_type": "stream",
          "name": "stdout",
          "text": [
            "y= 3\n",
            "x= 4\n",
            "16\n"
          ]
        }
      ]
    },
    {
      "cell_type": "code",
      "metadata": {
        "colab": {
          "base_uri": "https://localhost:8080/"
        },
        "id": "fiSY884I_Fea",
        "outputId": "92cc35ea-c484-46af-8150-90f1b6b39ae7"
      },
      "source": [
        "def myfunc2(x,y):\n",
        "  if x.isdigit() and y.isdigit():\n",
        "    x1 = int(x)\n",
        "    y1 = int(y)\n",
        "    if x1>y1:\n",
        "      return x1**2\n",
        "    else:\n",
        "      return 1/(x1**2)\n",
        "n1 = input('y= ')\n",
        "n2 = input('x= ')\n",
        "print(myfunc2(n1,n2))"
      ],
      "execution_count": null,
      "outputs": [
        {
          "output_type": "stream",
          "name": "stdout",
          "text": [
            "y= 4\n",
            "x= 3\n",
            "16\n"
          ]
        }
      ]
    },
    {
      "cell_type": "code",
      "metadata": {
        "colab": {
          "base_uri": "https://localhost:8080/"
        },
        "id": "1SRRXdQd3XnZ",
        "outputId": "8ee9dd96-bd5b-43d2-8f4a-49cd2be46c0a"
      },
      "source": [
        "#descrip_stat.py功能: 以自訂函數寫法計算敍述統計並回傳\n",
        "import math\n",
        "def depsta(sample):\n",
        "#depsta功能: 計算樣本的敍述統計    \n",
        "    maxv=max(sample)\n",
        "    minv=min(sample)\n",
        "    meanv=sum(sample)/len(sample)\n",
        "    sumi=0\n",
        "    for i in range(0, len(sample)):\n",
        "        sumi=sumi+((sample[i]-meanv)**2)\n",
        "    varv=sumi/(len(sample)-1)    \n",
        "    stdv=math.sqrt(varv)\n",
        "    return(maxv, minv, meanv, varv, stdv)\n",
        "sample=[5,8,9,6,4,1,5,3,6,2]\n",
        "print('max=%2.1f\\nmin=%2.1f\\nmean=%2.1f\\nvar=%2.1f\\nstd=%2.1f\\n'%(depsta(sample)))"
      ],
      "execution_count": null,
      "outputs": [
        {
          "output_type": "stream",
          "name": "stdout",
          "text": [
            "max=9.0\n",
            "min=1.0\n",
            "mean=4.9\n",
            "var=6.3\n",
            "std=2.5\n",
            "\n"
          ]
        }
      ]
    },
    {
      "cell_type": "code",
      "metadata": {
        "colab": {
          "base_uri": "https://localhost:8080/"
        },
        "id": "2OwCotoA4F_U",
        "outputId": "8d47e59a-537d-4888-be57-700effa8dbc7"
      },
      "source": [
        "#E_6_4.py 功能: 傳址的操作範例\n",
        "def callbyreference(number):\n",
        "#callbyreference函數功能: 計算平均新增到傳入參數之後    \n",
        "    n=len(number)\n",
        "    meanv=sum(number)/n\n",
        "    number.append(meanv)\n",
        "    return number\n",
        "sample=[5,8,9,6,4,1,5,3,6,2]\n",
        "print('呼叫函數前的原始值', sample)\n",
        "print('呼叫函數後的內容值', callbyreference(sample))\n",
        "print('呼叫函數後的原始值也會被改變', sample)"
      ],
      "execution_count": null,
      "outputs": [
        {
          "output_type": "stream",
          "name": "stdout",
          "text": [
            "呼叫函數前的原始值 [5, 8, 9, 6, 4, 1, 5, 3, 6, 2]\n",
            "呼叫函數後的內容值 [5, 8, 9, 6, 4, 1, 5, 3, 6, 2, 4.9]\n",
            "呼叫函數後的原始值也會被改變 [5, 8, 9, 6, 4, 1, 5, 3, 6, 2, 4.9]\n"
          ]
        }
      ]
    },
    {
      "cell_type": "code",
      "metadata": {
        "colab": {
          "base_uri": "https://localhost:8080/"
        },
        "id": "Dtvv9eY_E1Dt",
        "outputId": "fff3ce42-d338-43ad-f0fa-67401dc383d6"
      },
      "source": [
        "#E_6_4.py 功能: 傳址的操作範例\n",
        "def callbyreference():\n",
        "#callbyreference函數功能: 計算平均新增到傳入參數之後    \n",
        "    n=len(sample)\n",
        "    meanv=sum(sample)/n\n",
        "    sample.append(meanv)\n",
        "    return sample\n",
        "sample=[5,8,9,6,4,1,5,3,6,2]\n",
        "print('呼叫函數前的原始值', sample)\n",
        "print('呼叫函數後的內容值', callbyreference())\n",
        "print('呼叫函數後的原始值也會被改變', sample)"
      ],
      "execution_count": null,
      "outputs": [
        {
          "output_type": "stream",
          "name": "stdout",
          "text": [
            "呼叫函數前的原始值 [5, 8, 9, 6, 4, 1, 5, 3, 6, 2]\n",
            "呼叫函數後的內容值 [5, 8, 9, 6, 4, 1, 5, 3, 6, 2, 4.9]\n",
            "呼叫函數後的原始值也會被改變 [5, 8, 9, 6, 4, 1, 5, 3, 6, 2, 4.9]\n"
          ]
        }
      ]
    },
    {
      "cell_type": "code",
      "metadata": {
        "colab": {
          "base_uri": "https://localhost:8080/"
        },
        "id": "XNzVMdco4Y2W",
        "outputId": "ed831259-3fe4-40bb-b4d9-96fd8cdcff96"
      },
      "source": [
        "#E_6_5.py 功能: 傳值的操作範例\n",
        "def callbyvalue(number):\n",
        "#callbyvalue函數功能: 計算參數乘上自己後回傳    \n",
        "    number*=number\n",
        "    return number\n",
        "sample=4\n",
        "print('呼叫函數前的原始值', sample)\n",
        "print('呼叫函數後的內容值', callbyvalue(sample))\n",
        "print('呼叫函數前的原始值不會被改變', sample)"
      ],
      "execution_count": null,
      "outputs": [
        {
          "output_type": "stream",
          "name": "stdout",
          "text": [
            "呼叫函數前的原始值 4\n",
            "呼叫函數後的內容值 16\n",
            "呼叫函數前的原始值不會被改變 4\n"
          ]
        }
      ]
    },
    {
      "cell_type": "code",
      "metadata": {
        "colab": {
          "base_uri": "https://localhost:8080/"
        },
        "id": "dpZPT2fU4srD",
        "outputId": "54365f86-1407-4db6-d630-1863689a3aef"
      },
      "source": [
        "#E_6_6.py 功能: 實際參數與形式參數的函數傳遞參數範例\n",
        "def polyequ(x):\n",
        "#polyequ: 計算(x**2)+(4*x)+6的結果    \n",
        "    return (x**2)+(4*x)+6\n",
        "sample=4    \n",
        "result=polyequ(sample)\n",
        "print('呼叫函數(x**2)+(4*x)+6 =', result)"
      ],
      "execution_count": null,
      "outputs": [
        {
          "output_type": "stream",
          "name": "stdout",
          "text": [
            "呼叫函數(x**2)+(4*x)+6 = 38\n"
          ]
        }
      ]
    },
    {
      "cell_type": "code",
      "metadata": {
        "colab": {
          "base_uri": "https://localhost:8080/"
        },
        "id": "FlnPM5fQ41mt",
        "outputId": "22281fad-f218-4bab-f54b-e6b009c50a39"
      },
      "source": [
        "#E_6_7.py 功能: 位置參數的使用範例\n",
        "def polyequ(x):\n",
        "#polyequ: 計算(x**2)+(4*x)+6的結果    \n",
        "    return (x**2)+(4*x)+6\n",
        "result=polyequ(4)\n",
        "print('呼叫函數(x**2)+(4*x)+6 =', result)\n",
        "\n",
        "\n",
        "#sample=4    \n",
        "#result=polyequ(sample)"
      ],
      "execution_count": null,
      "outputs": [
        {
          "output_type": "stream",
          "name": "stdout",
          "text": [
            "呼叫函數(x**2)+(4*x)+6 = 38\n"
          ]
        }
      ]
    },
    {
      "cell_type": "markdown",
      "metadata": {
        "id": "R7anueImHOid"
      },
      "source": [
        "## 6-8\n",
        "## 若形式參數<50, 則回傳 開根號*10\n",
        "## 否則回傳原始值\n",
        "\n"
      ]
    },
    {
      "cell_type": "code",
      "metadata": {
        "colab": {
          "base_uri": "https://localhost:8080/"
        },
        "id": "rCpv1KL9Hi7w",
        "outputId": "f8a11e70-5731-4d18-b8cb-ba8f86dfe308"
      },
      "source": [
        "import math\n",
        "def defaultscore(score=40):\n",
        "  if score<50:\n",
        "    return math.sqrt(score)*10\n",
        "  else:\n",
        "    return score\n",
        "\n",
        "name = ['Jack','Mary','John','Joe','Michael']\n",
        "ss = [16,'',36,55,'']\n",
        "for idx,ii in enumerate(ss):\n",
        "  if type(ii) is int:\n",
        "    result = defaultscore(ii)\n",
        "  else:\n",
        "    result=defaultscore()\n",
        "  print('%s\\t的成績 = %4.2f'%(name[idx],result))"
      ],
      "execution_count": null,
      "outputs": [
        {
          "output_type": "stream",
          "name": "stdout",
          "text": [
            "Jack\t的成績 = 40.00\n",
            "Mary\t的成績 = 63.25\n",
            "John\t的成績 = 60.00\n",
            "Joe\t的成績 = 55.00\n",
            "Michael\t的成績 = 63.25\n"
          ]
        }
      ]
    },
    {
      "cell_type": "code",
      "metadata": {
        "colab": {
          "base_uri": "https://localhost:8080/"
        },
        "id": "0ops4k6mIQUc",
        "outputId": "3f76b878-de39-4a3f-bc1d-442ff235cd28"
      },
      "source": [
        "# 6_9\n",
        "def showinf(name,  weight,height=180, age=35):\n",
        "  print('Name = ',name)\n",
        "  print('Age = ',age)\n",
        "showinf(name='Jeremy',age=50,height=180,weight=80)"
      ],
      "execution_count": null,
      "outputs": [
        {
          "output_type": "stream",
          "name": "stdout",
          "text": [
            "Name =  Jeremy\n",
            "Age =  50\n"
          ]
        }
      ]
    },
    {
      "cell_type": "code",
      "metadata": {
        "colab": {
          "base_uri": "https://localhost:8080/"
        },
        "id": "dz4wJwRhLM1T",
        "outputId": "f319ceed-73cf-4ffc-be03-7c31cab9f7e3"
      },
      "source": [
        "# 6-10\n",
        "def func1(x,coe1,coe2):\n",
        "  return (x*coe1)+(x*coe2)\n",
        "print('result=',func1(3,*range(1,3)))"
      ],
      "execution_count": null,
      "outputs": [
        {
          "output_type": "stream",
          "name": "stdout",
          "text": [
            "result= 9\n"
          ]
        }
      ]
    },
    {
      "cell_type": "code",
      "metadata": {
        "colab": {
          "base_uri": "https://localhost:8080/",
          "height": 200
        },
        "id": "ohK0ZbS-MoW9",
        "outputId": "8d87fae7-3530-4193-f1ca-f3c34233bbf2"
      },
      "source": [
        "# 6-10\n",
        "def func1(x,coe1,coe2):\n",
        "  return (x*coe1)+(x*coe2)\n",
        "print('result=',func1(3,range(1,3)))"
      ],
      "execution_count": null,
      "outputs": [
        {
          "output_type": "error",
          "ename": "TypeError",
          "evalue": "ignored",
          "traceback": [
            "\u001b[0;31m---------------------------------------------------------------------------\u001b[0m",
            "\u001b[0;31mTypeError\u001b[0m                                 Traceback (most recent call last)",
            "\u001b[0;32m<ipython-input-85-8ac899c75e60>\u001b[0m in \u001b[0;36m<module>\u001b[0;34m()\u001b[0m\n\u001b[1;32m      2\u001b[0m \u001b[0;32mdef\u001b[0m \u001b[0mfunc1\u001b[0m\u001b[0;34m(\u001b[0m\u001b[0mx\u001b[0m\u001b[0;34m,\u001b[0m\u001b[0mcoe1\u001b[0m\u001b[0;34m,\u001b[0m\u001b[0mcoe2\u001b[0m\u001b[0;34m)\u001b[0m\u001b[0;34m:\u001b[0m\u001b[0;34m\u001b[0m\u001b[0;34m\u001b[0m\u001b[0m\n\u001b[1;32m      3\u001b[0m   \u001b[0;32mreturn\u001b[0m \u001b[0;34m(\u001b[0m\u001b[0mx\u001b[0m\u001b[0;34m*\u001b[0m\u001b[0mcoe1\u001b[0m\u001b[0;34m)\u001b[0m\u001b[0;34m+\u001b[0m\u001b[0;34m(\u001b[0m\u001b[0mx\u001b[0m\u001b[0;34m*\u001b[0m\u001b[0mcoe2\u001b[0m\u001b[0;34m)\u001b[0m\u001b[0;34m\u001b[0m\u001b[0;34m\u001b[0m\u001b[0m\n\u001b[0;32m----> 4\u001b[0;31m \u001b[0mprint\u001b[0m\u001b[0;34m(\u001b[0m\u001b[0;34m'result='\u001b[0m\u001b[0;34m,\u001b[0m\u001b[0mfunc1\u001b[0m\u001b[0;34m(\u001b[0m\u001b[0;36m3\u001b[0m\u001b[0;34m,\u001b[0m\u001b[0mrange\u001b[0m\u001b[0;34m(\u001b[0m\u001b[0;36m1\u001b[0m\u001b[0;34m,\u001b[0m\u001b[0;36m3\u001b[0m\u001b[0;34m)\u001b[0m\u001b[0;34m)\u001b[0m\u001b[0;34m)\u001b[0m\u001b[0;34m\u001b[0m\u001b[0;34m\u001b[0m\u001b[0m\n\u001b[0m",
            "\u001b[0;31mTypeError\u001b[0m: func1() missing 1 required positional argument: 'coe2'"
          ]
        }
      ]
    },
    {
      "cell_type": "code",
      "metadata": {
        "id": "0EtfMvMlMuM3",
        "colab": {
          "base_uri": "https://localhost:8080/"
        },
        "outputId": "f72c1970-3dff-43b5-fcc8-68c4d3e4aea3"
      },
      "source": [
        "def function_calculate(n):\n",
        "    result = 0\n",
        "    for x in range(1,n+1,1):\n",
        "        print('1/2**%d'%x)\n",
        "        result += 1/(2**x)\n",
        "    return(result)\n",
        "n = int(input('請輸入n值:'))\n",
        "print('輸出值為 : %f' %(function_calculate(n)))"
      ],
      "execution_count": 3,
      "outputs": [
        {
          "output_type": "stream",
          "name": "stdout",
          "text": [
            "請輸入n值:10\n",
            "1/2**1\n",
            "1/2**2\n",
            "1/2**3\n",
            "1/2**4\n",
            "1/2**5\n",
            "1/2**6\n",
            "1/2**7\n",
            "1/2**8\n",
            "1/2**9\n",
            "1/2**10\n",
            "輸出值為 : 0.999023\n"
          ]
        }
      ]
    },
    {
      "cell_type": "code",
      "metadata": {
        "colab": {
          "base_uri": "https://localhost:8080/"
        },
        "id": "A6ZkhewswLWp",
        "outputId": "e2460bd0-d4ba-4ccc-9f6f-b1b76ba84603"
      },
      "source": [
        "#E_6_14.py 功能: 變數命名空間的範圍\n",
        "def func2(x):\n",
        "#func2: 在自訂函數內印出x    \n",
        "    x=5\n",
        "    print('x = %d %s'  %(x, 'in func2'))\n",
        "x=10    \n",
        "print('x = %d %s'  %(x, 'in global'))\n",
        "func2(x)    \n",
        "print('x = %d %s'  %(x, 'in global'))"
      ],
      "execution_count": 5,
      "outputs": [
        {
          "output_type": "stream",
          "name": "stdout",
          "text": [
            "x = 10 in global\n",
            "x = 5 in func2\n",
            "x = 10 in global\n"
          ]
        }
      ]
    },
    {
      "cell_type": "code",
      "metadata": {
        "colab": {
          "base_uri": "https://localhost:8080/"
        },
        "id": "ZXaDM_17yEDA",
        "outputId": "35582cac-dc86-4168-8ac6-02a93e880cc1"
      },
      "source": [
        "#E_6_16.py 功能: 印出變數所屬區域變數範圍或全域變數範圍\n",
        "def func4():\n",
        "#func4: 在函數內印出全域變數  \n",
        "     print(global_var, 'print inside func4')\n",
        "global_var='global variable'    \n",
        "func4()\n",
        "print(global_var, 'print outside func4')"
      ],
      "execution_count": 6,
      "outputs": [
        {
          "output_type": "stream",
          "name": "stdout",
          "text": [
            "global variable print inside func4\n",
            "global variable print outside func4\n"
          ]
        }
      ]
    },
    {
      "cell_type": "markdown",
      "metadata": {
        "id": "DXiW6yt4zs3h"
      },
      "source": [
        "## Cm choose n: m!/(n!*(m-n)!)"
      ]
    },
    {
      "cell_type": "code",
      "metadata": {
        "colab": {
          "base_uri": "https://localhost:8080/"
        },
        "id": "9nitvYbpzRtD",
        "outputId": "b2aa24e8-fb87-4b32-a69e-4ec16d30b577"
      },
      "source": [
        "#RC_6_1 功能: 以自訂函數撰寫排列組合\n",
        "def fact(m):\n",
        "#fact: 計算階層\n",
        "    prodi=1\n",
        "    for i in range(m, 1, -1):\n",
        "        prodi*=i\n",
        "    return (prodi)\n",
        "m=int(input('輸入 m= '))\n",
        "n=int(input('輸入 n= '))\n",
        "number=fact(m)/(fact(n)*fact(m-n))\n",
        "print('%s %d %s' %('排列組合共有', number, '方法'))   "
      ],
      "execution_count": 7,
      "outputs": [
        {
          "output_type": "stream",
          "name": "stdout",
          "text": [
            "輸入 m= 4\n",
            "輸入 n= 2\n",
            "排列組合共有 6 方法\n"
          ]
        }
      ]
    },
    {
      "cell_type": "markdown",
      "metadata": {
        "id": "ETAYWO780owV"
      },
      "source": [
        "## y = 1000 / (1+ 25*exp(-0.3t))"
      ]
    },
    {
      "cell_type": "code",
      "metadata": {
        "colab": {
          "base_uri": "https://localhost:8080/"
        },
        "id": "FI_1VsZg0nH4",
        "outputId": "9d869a43-a11c-45c2-b4ed-ffb12b2ab02a"
      },
      "source": [
        "#RC_6_2 功能: 水族箱中的5到30個月後魚群數目估計\n",
        "import math\n",
        "def fishev(t):\n",
        "#fishev: 計算魚群數目    \n",
        "    expv=25*math.exp(-0.3*t)\n",
        "    return(1000/(1+expv))\n",
        "n = 30\n",
        "for t in range(5, n+1,5):\n",
        "    result=round(fishev(t),2)\n",
        "    print('%2d個月後的魚群數目 = %10.2f' %(t, result))"
      ],
      "execution_count": 8,
      "outputs": [
        {
          "output_type": "stream",
          "name": "stdout",
          "text": [
            " 5個月後的魚群數目 =     152.02\n",
            "10個月後的魚群數目 =     445.50\n",
            "15個月後的魚群數目 =     782.64\n",
            "20個月後的魚群數目 =     941.65\n",
            "25個月後的魚群數目 =     986.36\n",
            "30個月後的魚群數目 =     996.92\n"
          ]
        }
      ]
    },
    {
      "cell_type": "code",
      "metadata": {
        "colab": {
          "base_uri": "https://localhost:8080/"
        },
        "id": "eNuImqVW1N7w",
        "outputId": "f1cc92a5-d32c-4f96-a622-d873e7dba27f"
      },
      "source": [
        "#RC_6_3 功能: 以自訂函數撰寫直線法折舊費用\n",
        "import numpy as np\n",
        "def straightline(cost,salvage,n):\n",
        "#straightline: 直線法公式\n",
        "    return ((cost-salvage)/n)\n",
        "def slinetable(exp_list,n,cost):\n",
        "    #slinetable: 計算折舊費用分攤表    \n",
        "    acm_exp=0\n",
        "    sline_result=[]\n",
        "    row=[]\n",
        "    for i in range(0,n):\n",
        "        acm_exp=acm_exp+exp_list[i]\n",
        "        balance=cost-acm_exp\n",
        "        row.append(i+1)\n",
        "        row.append(exp_list[i])\n",
        "        row.append(acm_exp)\n",
        "        row.append(balance)\n",
        "        sline_result.append(row)\n",
        "        row=[]\n",
        "    return (sline_result)\n",
        "cost=100000\n",
        "salvage=10000\n",
        "n=10\n",
        "sline_exp=straightline(cost,salvage,n)\n",
        "sline_exp_list=list(np.linspace(sline_exp,sline_exp, n))\n",
        "slt=slinetable(sline_exp_list,n,cost)\n",
        "print('%3s%8s%8s%8s' %('年度','折舊費用','累計折舊','期末帳面價值'))\n",
        "for i in range(0, n):\n",
        "    print('%4d%10d%12d%14d' %(slt[i][0],slt[i][1],slt[i][2],slt[i][3]))"
      ],
      "execution_count": 9,
      "outputs": [
        {
          "output_type": "stream",
          "name": "stdout",
          "text": [
            " 年度    折舊費用    累計折舊  期末帳面價值\n",
            "   1      9000        9000         91000\n",
            "   2      9000       18000         82000\n",
            "   3      9000       27000         73000\n",
            "   4      9000       36000         64000\n",
            "   5      9000       45000         55000\n",
            "   6      9000       54000         46000\n",
            "   7      9000       63000         37000\n",
            "   8      9000       72000         28000\n",
            "   9      9000       81000         19000\n",
            "  10      9000       90000         10000\n"
          ]
        }
      ]
    },
    {
      "cell_type": "code",
      "metadata": {
        "colab": {
          "base_uri": "https://localhost:8080/"
        },
        "id": "txyOK3ah25ie",
        "outputId": "61e676c5-af2b-4a11-ab32-1192ceeacec5"
      },
      "source": [
        "#RC_6_4 功能: 終值\n",
        "def fvfix(pv, i, n):\n",
        "#fvfix: 計算終值公式    \n",
        "    result=pv*(1+i)**n\n",
        "    return(result)\n",
        "pv=100\n",
        "i=0.03\n",
        "n=int(input('計算終值的年數 = '))\n",
        "print('%d年後的終值 = %6.2f' %(n, fvfix(pv, i, n)))"
      ],
      "execution_count": 11,
      "outputs": [
        {
          "output_type": "stream",
          "name": "stdout",
          "text": [
            "計算終值的年數 = 5\n",
            "5年後的終值 = 115.93\n"
          ]
        }
      ]
    },
    {
      "cell_type": "code",
      "metadata": {
        "colab": {
          "base_uri": "https://localhost:8080/"
        },
        "id": "Bntwet3Z6RmV",
        "outputId": "09e7d207-c10e-4e9c-b134-aac41e94bca6"
      },
      "source": [
        "#RC_6_5 功能: 計算退休金\n",
        "def FVOA(PMT, i, n):\n",
        "#FVOA: 計算普通年金終值公式    \n",
        "    FVIFA=0\n",
        "    #計算年金終值複利因子\n",
        "    for t in range(1, n+1):\n",
        "        FVIFA=FVIFA+((1+i)**(n-t))\n",
        "    print('FVIFA =', round(FVIFA,2))        \n",
        "    #計算退休金=年金乘上複利因子        \n",
        "    fv=PMT*FVIFA\n",
        "    return(fv)\n",
        "PMT=int(input('輸入每個月存入金額 = '))    \n",
        "i=0.025\n",
        "n=int(input('輸入預計幾年後退休 = '))\n",
        "print('%d年後的終值 = %10.2f' %(n, FVOA(PMT, i/12,n*12 )))"
      ],
      "execution_count": 13,
      "outputs": [
        {
          "output_type": "stream",
          "name": "stdout",
          "text": [
            "輸入每個月存入金額 = 10000\n",
            "輸入預計幾年後退休 = 20\n",
            "FVIFA = 310.97\n",
            "20年後的終值 = 3109747.08\n"
          ]
        }
      ]
    },
    {
      "cell_type": "code",
      "metadata": {
        "colab": {
          "base_uri": "https://localhost:8080/"
        },
        "id": "wJ1RzcfN91ar",
        "outputId": "ff31f2b3-3f7a-4ecb-a93d-98dfb11e2e35"
      },
      "source": [
        "#RC_6_6 功能: 現值\n",
        "def pvfix(fv, i, n):\n",
        "#fvfix: 計算現值公式    \n",
        "    result=fv/((1+i)**(n))\n",
        "    return(result)\n",
        "fv=float(input('輸入終值 = '))    \n",
        "i=0.03\n",
        "n=int(input('輸入n年前 = '))\n",
        "print('%d年前的現值 = %6.2f' %(n, pvfix(fv, i, n)))"
      ],
      "execution_count": 14,
      "outputs": [
        {
          "output_type": "stream",
          "name": "stdout",
          "text": [
            "輸入終值 = 103\n",
            "輸入n年前 = 5\n",
            "5年前的現值 =  88.85\n"
          ]
        }
      ]
    },
    {
      "cell_type": "code",
      "metadata": {
        "colab": {
          "base_uri": "https://localhost:8080/"
        },
        "id": "HMasCAsm-ZFC",
        "outputId": "931a1acb-f96a-457d-fbce-d86299caeea5"
      },
      "source": [
        "#RC_6_7 功能: 教育基金\n",
        "def PVOA(PMT, i, n):\n",
        "#PVOA: 計算普通年金現值公式    \n",
        "    PVIFA=0\n",
        "    #計算年金現值複利因子\n",
        "    for t in range(1, n+1):\n",
        "        PVIFA=PVIFA+((1+i)**(-t))\n",
        "    PVA=PMT*PVIFA\n",
        "    return(PVA)\n",
        "cash=int(input('原始投資金額 = '))    \n",
        "PMT=int(input('輸入每年領回金額 = '))    \n",
        "n=int(input('輸入可以領回總年數 = '))\n",
        "i=float(input('年利率 = '))\n",
        "investment=round(PVOA(PMT, i, n),2)\n",
        "print('本教育基金之投資方案現值 = ', investment)\n",
        "payoff=round(investment-cash,2)\n",
        "print('投資方案現值-原始投資金額= ', payoff)\n",
        "if payoff<0:\n",
        "    print('負報酬, 不建議購買')\n",
        "else: \n",
        "    print('正報酬, 建議購買')  \n",
        "    "
      ],
      "execution_count": 15,
      "outputs": [
        {
          "output_type": "stream",
          "name": "stdout",
          "text": [
            "原始投資金額 = 300000\n",
            "輸入每年領回金額 = 32500\n",
            "輸入可以領回總年數 = 10\n",
            "年利率 = 0.02\n",
            "本教育基金之投資方案現值 =  291934.01\n",
            "投資方案現值-原始投資金額=  -8065.99\n",
            "負報酬, 不建議購買\n"
          ]
        }
      ]
    },
    {
      "cell_type": "code",
      "metadata": {
        "colab": {
          "base_uri": "https://localhost:8080/"
        },
        "id": "pmX6U9Ni_ADB",
        "outputId": "0a264c38-809f-427b-9c18-22e638c9b709"
      },
      "source": [
        "#RC_6_8 功能: 年金給付金額\n",
        "def annuity(pv, i, n):\n",
        "#annuity: 計算年金公式 \n",
        "    up=i*((1+i)**n)\n",
        "    down=((1+i)**n)-1\n",
        "    result=pv*(up/down)\n",
        "    return(result)\n",
        "i=0.03\n",
        "n=int(input('輸入貸款年數 = '))\n",
        "pv=1000000\n",
        "print('每年應付貸款金額 = %10.2f' %(annuity(pv, i,n)))"
      ],
      "execution_count": 16,
      "outputs": [
        {
          "output_type": "stream",
          "name": "stdout",
          "text": [
            "輸入貸款年數 = 20\n",
            "每年應付貸款金額 =   67215.71\n"
          ]
        }
      ]
    },
    {
      "cell_type": "code",
      "metadata": {
        "colab": {
          "base_uri": "https://localhost:8080/"
        },
        "id": "oyuNYdo8_aIM",
        "outputId": "93bdde9f-3a0d-4e13-f3a9-43d73b80cd5e"
      },
      "source": [
        "se = 56000\n",
        "total = se * 8\n",
        "i = 0.00575\n",
        "n = 20\n",
        "yp = annuity(total, i,n)\n",
        "print('每年應付貸款金額 = %10.2f' %yp)\n",
        "print('每月應付貸款金額 = %10.2f' %(yp/12))"
      ],
      "execution_count": 18,
      "outputs": [
        {
          "output_type": "stream",
          "name": "stdout",
          "text": [
            "每年應付貸款金額 =   23776.95\n",
            "每月應付貸款金額 =    1981.41\n"
          ]
        }
      ]
    },
    {
      "cell_type": "code",
      "metadata": {
        "colab": {
          "base_uri": "https://localhost:8080/"
        },
        "id": "T8yIhax2_wl4",
        "outputId": "ff3360b9-3386-4e3b-87f3-e3e87eff655d"
      },
      "source": [
        "se = 170000\n",
        "total = se * 30 * 0.9\n",
        "i = 0.0119\n",
        "n = 30\n",
        "yp = annuity(total, i,n)\n",
        "print('每年應付貸款金額 = %10.2f' %yp)\n",
        "print('每月應付貸款金額 = %10.2f' %(yp/12))"
      ],
      "execution_count": 21,
      "outputs": [
        {
          "output_type": "stream",
          "name": "stdout",
          "text": [
            "每年應付貸款金額 =  182831.06\n",
            "每月應付貸款金額 =   15235.92\n"
          ]
        }
      ]
    },
    {
      "cell_type": "code",
      "metadata": {
        "id": "9lUjPX5MArB1"
      },
      "source": [
        ""
      ],
      "execution_count": null,
      "outputs": []
    }
  ]
}