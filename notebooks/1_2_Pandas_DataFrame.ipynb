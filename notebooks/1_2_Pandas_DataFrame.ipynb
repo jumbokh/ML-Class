{
  "nbformat": 4,
  "nbformat_minor": 0,
  "metadata": {
    "kernelspec": {
      "display_name": "Python 3",
      "language": "python",
      "name": "python3"
    },
    "language_info": {
      "codemirror_mode": {
        "name": "ipython",
        "version": 3
      },
      "file_extension": ".py",
      "mimetype": "text/x-python",
      "name": "python",
      "nbconvert_exporter": "python",
      "pygments_lexer": "ipython3",
      "version": "3.6.6"
    },
    "colab": {
      "name": "1-2 Pandas - DataFrame.ipynb",
      "provenance": [],
      "include_colab_link": true
    }
  },
  "cells": [
    {
      "cell_type": "markdown",
      "metadata": {
        "id": "view-in-github",
        "colab_type": "text"
      },
      "source": [
        "<a href=\"https://colab.research.google.com/github/jumbokh/ML-Class/blob/main/notebooks/1_2_Pandas_DataFrame.ipynb\" target=\"_parent\"><img src=\"https://colab.research.google.com/assets/colab-badge.svg\" alt=\"Open In Colab\"/></a>"
      ]
    },
    {
      "cell_type": "markdown",
      "metadata": {
        "id": "E_lVy8EE2nW0"
      },
      "source": [
        "## 習題"
      ]
    },
    {
      "cell_type": "markdown",
      "metadata": {
        "id": "SxV2EWzC2nW3"
      },
      "source": [
        "1. 請將串列[8, 2, 4]轉換成Seires的資料型態，請問這是一維還是二維的資料型態？"
      ]
    },
    {
      "cell_type": "code",
      "metadata": {
        "colab": {
          "base_uri": "https://localhost:8080/"
        },
        "id": "Yp82Jcdt2nW4",
        "outputId": "7e5566ce-9cbc-4311-e622-b0f237ed1836"
      },
      "source": [
        "import pandas as pd\n",
        "s = pd.Series([8, 2, 4])\n",
        "print(f'{s.shape}為一維')"
      ],
      "execution_count": 1,
      "outputs": [
        {
          "output_type": "stream",
          "text": [
            "(3,)為一維\n"
          ],
          "name": "stdout"
        }
      ]
    },
    {
      "cell_type": "markdown",
      "metadata": {
        "id": "-S3zNtxw2nW5"
      },
      "source": [
        "2. 請將上例結果轉換成二維的Data Frame。"
      ]
    },
    {
      "cell_type": "code",
      "metadata": {
        "colab": {
          "base_uri": "https://localhost:8080/",
          "height": 143
        },
        "id": "3ysXJyqE2nW5",
        "outputId": "18ffaebc-4c9e-4123-e7ae-84560f9c390b"
      },
      "source": [
        "s.to_frame()"
      ],
      "execution_count": 2,
      "outputs": [
        {
          "output_type": "execute_result",
          "data": {
            "text/html": [
              "<div>\n",
              "<style scoped>\n",
              "    .dataframe tbody tr th:only-of-type {\n",
              "        vertical-align: middle;\n",
              "    }\n",
              "\n",
              "    .dataframe tbody tr th {\n",
              "        vertical-align: top;\n",
              "    }\n",
              "\n",
              "    .dataframe thead th {\n",
              "        text-align: right;\n",
              "    }\n",
              "</style>\n",
              "<table border=\"1\" class=\"dataframe\">\n",
              "  <thead>\n",
              "    <tr style=\"text-align: right;\">\n",
              "      <th></th>\n",
              "      <th>0</th>\n",
              "    </tr>\n",
              "  </thead>\n",
              "  <tbody>\n",
              "    <tr>\n",
              "      <th>0</th>\n",
              "      <td>8</td>\n",
              "    </tr>\n",
              "    <tr>\n",
              "      <th>1</th>\n",
              "      <td>2</td>\n",
              "    </tr>\n",
              "    <tr>\n",
              "      <th>2</th>\n",
              "      <td>4</td>\n",
              "    </tr>\n",
              "  </tbody>\n",
              "</table>\n",
              "</div>"
            ],
            "text/plain": [
              "   0\n",
              "0  8\n",
              "1  2\n",
              "2  4"
            ]
          },
          "metadata": {
            "tags": []
          },
          "execution_count": 2
        }
      ]
    },
    {
      "cell_type": "raw",
      "metadata": {
        "id": "a5dz8Qy52nW6"
      },
      "source": [
        "3. 假設有一筆資料scores = {'Math':[90,np.nan,70,80],\n",
        "                        'English':[60,70,'90',50],\n",
        "                        'History':[33,np.nan,188,60]}\n",
        "請先將它匯入至df\n",
        "df = pd.DataFrame(scores, index=['Simon','Allen','Jimmy','Peter'])\n",
        "(1) 請將English裡有問題的'90'改為數字90\n",
        "(2) 請將History裡的188，改成88\n",
        "(3) 請將遺漏值nan，設為各自欄位的平均值"
      ]
    },
    {
      "cell_type": "code",
      "metadata": {
        "colab": {
          "base_uri": "https://localhost:8080/",
          "height": 396
        },
        "id": "08cPGPBY2nW6",
        "outputId": "524769bc-aba0-4c08-dac8-09120c882fcd"
      },
      "source": [
        "import numpy as np\n",
        "from IPython.display import display\n",
        "scores = {'Math':[90,np.nan,70,80],\n",
        "          'English':[60,70,'90',50],\n",
        "          'History':[33,np.nan,188,60]}\n",
        "df = pd.DataFrame(scores, index=['Simon','Allen','Jimmy','Peter'])\n",
        "print(\"答案1\")\n",
        "df['English'] = df['English'].replace('90',90).astype(int)\n",
        "display(df['English'])\n",
        "print(\"答案2\")\n",
        "df['History'] = df['History'].replace(188, 88)\n",
        "display(df['History'])\n",
        "print(\"答案3\")\n",
        "display(df.fillna(df.mean()))"
      ],
      "execution_count": 3,
      "outputs": [
        {
          "output_type": "stream",
          "text": [
            "答案1\n"
          ],
          "name": "stdout"
        },
        {
          "output_type": "display_data",
          "data": {
            "text/plain": [
              "Simon    60\n",
              "Allen    70\n",
              "Jimmy    90\n",
              "Peter    50\n",
              "Name: English, dtype: int64"
            ]
          },
          "metadata": {
            "tags": []
          }
        },
        {
          "output_type": "stream",
          "text": [
            "答案2\n"
          ],
          "name": "stdout"
        },
        {
          "output_type": "display_data",
          "data": {
            "text/plain": [
              "Simon    33.0\n",
              "Allen     NaN\n",
              "Jimmy    88.0\n",
              "Peter    60.0\n",
              "Name: History, dtype: float64"
            ]
          },
          "metadata": {
            "tags": []
          }
        },
        {
          "output_type": "stream",
          "text": [
            "答案3\n"
          ],
          "name": "stdout"
        },
        {
          "output_type": "display_data",
          "data": {
            "text/html": [
              "<div>\n",
              "<style scoped>\n",
              "    .dataframe tbody tr th:only-of-type {\n",
              "        vertical-align: middle;\n",
              "    }\n",
              "\n",
              "    .dataframe tbody tr th {\n",
              "        vertical-align: top;\n",
              "    }\n",
              "\n",
              "    .dataframe thead th {\n",
              "        text-align: right;\n",
              "    }\n",
              "</style>\n",
              "<table border=\"1\" class=\"dataframe\">\n",
              "  <thead>\n",
              "    <tr style=\"text-align: right;\">\n",
              "      <th></th>\n",
              "      <th>Math</th>\n",
              "      <th>English</th>\n",
              "      <th>History</th>\n",
              "    </tr>\n",
              "  </thead>\n",
              "  <tbody>\n",
              "    <tr>\n",
              "      <th>Simon</th>\n",
              "      <td>90.0</td>\n",
              "      <td>60</td>\n",
              "      <td>33.000000</td>\n",
              "    </tr>\n",
              "    <tr>\n",
              "      <th>Allen</th>\n",
              "      <td>80.0</td>\n",
              "      <td>70</td>\n",
              "      <td>60.333333</td>\n",
              "    </tr>\n",
              "    <tr>\n",
              "      <th>Jimmy</th>\n",
              "      <td>70.0</td>\n",
              "      <td>90</td>\n",
              "      <td>88.000000</td>\n",
              "    </tr>\n",
              "    <tr>\n",
              "      <th>Peter</th>\n",
              "      <td>80.0</td>\n",
              "      <td>50</td>\n",
              "      <td>60.000000</td>\n",
              "    </tr>\n",
              "  </tbody>\n",
              "</table>\n",
              "</div>"
            ],
            "text/plain": [
              "       Math  English    History\n",
              "Simon  90.0       60  33.000000\n",
              "Allen  80.0       70  60.333333\n",
              "Jimmy  70.0       90  88.000000\n",
              "Peter  80.0       50  60.000000"
            ]
          },
          "metadata": {
            "tags": []
          }
        }
      ]
    }
  ]
}