{
  "nbformat": 4,
  "nbformat_minor": 0,
  "metadata": {
    "colab": {
      "name": "simple-k-means-clustering-on-the-tpc-dataset.ipynb",
      "provenance": [],
      "collapsed_sections": [],
      "authorship_tag": "ABX9TyNQAhtSQYBgD6Z+PbVuN5rZ",
      "include_colab_link": true
    },
    "kernelspec": {
      "name": "python3",
      "display_name": "Python 3"
    },
    "language_info": {
      "name": "python"
    }
  },
  "cells": [
    {
      "cell_type": "markdown",
      "metadata": {
        "id": "view-in-github",
        "colab_type": "text"
      },
      "source": [
        "<a href=\"https://colab.research.google.com/github/jumbokh/ML-Class/blob/main/notebooks/simple_k_means_clustering_on_the_tpc_dataset.ipynb\" target=\"_parent\"><img src=\"https://colab.research.google.com/assets/colab-badge.svg\" alt=\"Open In Colab\"/></a>"
      ]
    },
    {
      "cell_type": "code",
      "metadata": {
        "colab": {
          "base_uri": "https://localhost:8080/"
        },
        "id": "TzMRYM_vMwrd",
        "outputId": "a9d76345-5a2b-441b-9cc2-ee74c7144673"
      },
      "source": [
        "#importing the libraries\n",
        "import numpy as np\n",
        "import matplotlib.pyplot as plt\n",
        "import pandas as pd\n",
        "print(\"\\nLoading TPC data into memory \\n\")\n",
        "data_file = \"vTestData102.csv\"\n"
      ],
      "execution_count": 1,
      "outputs": [
        {
          "output_type": "stream",
          "text": [
            "\n",
            "Loading TPC data into memory \n",
            "\n"
          ],
          "name": "stdout"
        }
      ]
    },
    {
      "cell_type": "code",
      "metadata": {
        "id": "5O6-1XjHNEkw"
      },
      "source": [
        "df = pd.read_csv(data_file)\n",
        "#x = dataset.iloc[:, [1, 2, 3, 4]].values"
      ],
      "execution_count": 2,
      "outputs": []
    },
    {
      "cell_type": "code",
      "metadata": {
        "id": "Ag41uPS1NLdc"
      },
      "source": [
        "cusid = df['CustomID']\n",
        "df_old = df.copy()"
      ],
      "execution_count": 3,
      "outputs": []
    },
    {
      "cell_type": "code",
      "metadata": {
        "id": "3_z6CIvQNPZ8"
      },
      "source": [
        "df = df.drop('CustomID', axis=1)"
      ],
      "execution_count": 4,
      "outputs": []
    },
    {
      "cell_type": "code",
      "metadata": {
        "colab": {
          "base_uri": "https://localhost:8080/"
        },
        "id": "ZxA6YWPfNV4N",
        "outputId": "e5ee8897-e067-4811-bc48-93ee57b1f63d"
      },
      "source": [
        "dataset = np.array(df, dtype=np.float)\n",
        "dataset_old = dataset.copy()\n",
        "print(dataset.shape)"
      ],
      "execution_count": 5,
      "outputs": [
        {
          "output_type": "stream",
          "text": [
            "(195, 15)\n"
          ],
          "name": "stdout"
        }
      ]
    },
    {
      "cell_type": "code",
      "metadata": {
        "colab": {
          "base_uri": "https://localhost:8080/"
        },
        "id": "BuWGULCyNcGR",
        "outputId": "56fb8163-a436-49cb-fd07-47fdb1159e4b"
      },
      "source": [
        "print(type(dataset))"
      ],
      "execution_count": 6,
      "outputs": [
        {
          "output_type": "stream",
          "text": [
            "<class 'numpy.ndarray'>\n"
          ],
          "name": "stdout"
        }
      ]
    },
    {
      "cell_type": "code",
      "metadata": {
        "colab": {
          "base_uri": "https://localhost:8080/"
        },
        "id": "Fz4TUze7OwCe",
        "outputId": "3251033d-8fd4-44e9-eb69-35e48e7d60c2"
      },
      "source": [
        "dataset"
      ],
      "execution_count": 7,
      "outputs": [
        {
          "output_type": "execute_result",
          "data": {
            "text/plain": [
              "array([[1., 1., 1., ..., 0., 0., 0.],\n",
              "       [1., 1., 1., ..., 0., 0., 0.],\n",
              "       [1., 1., 1., ..., 0., 0., 0.],\n",
              "       ...,\n",
              "       [1., 1., 1., ..., 0., 0., 0.],\n",
              "       [1., 1., 1., ..., 0., 0., 0.],\n",
              "       [1., 1., 1., ..., 0., 0., 0.]])"
            ]
          },
          "metadata": {
            "tags": []
          },
          "execution_count": 7
        }
      ]
    },
    {
      "cell_type": "code",
      "metadata": {
        "colab": {
          "base_uri": "https://localhost:8080/",
          "height": 460
        },
        "id": "GLE31jylO5Sk",
        "outputId": "8f036e16-42b2-4b52-f295-ea7a16800af0"
      },
      "source": [
        "#Finding the optimum number of clusters for k-means classification\n",
        "from sklearn.cluster import KMeans\n",
        "wcss = []\n",
        "\n",
        "for i in range(1, 11):\n",
        "    kmeans = KMeans(n_clusters = i, init = 'k-means++', max_iter = 300, n_init = 10, random_state = 0)\n",
        "    kmeans.fit(dataset)\n",
        "    wcss.append(kmeans.inertia_)\n",
        "    \n",
        "#Plotting the results onto a line graph, allowing us to observe 'The elbow'\n",
        "plt.plot(range(1, 11), wcss)\n",
        "plt.title('The elbow method')\n",
        "plt.xlabel('Number of clusters')\n",
        "plt.ylabel('WCSS') #within cluster sum of squares\n",
        "plt.show()"
      ],
      "execution_count": 8,
      "outputs": [
        {
          "output_type": "stream",
          "text": [
            "/usr/local/lib/python3.7/dist-packages/ipykernel_launcher.py:7: ConvergenceWarning: Number of distinct clusters (6) found smaller than n_clusters (7). Possibly due to duplicate points in X.\n",
            "  import sys\n",
            "/usr/local/lib/python3.7/dist-packages/ipykernel_launcher.py:7: ConvergenceWarning: Number of distinct clusters (6) found smaller than n_clusters (8). Possibly due to duplicate points in X.\n",
            "  import sys\n",
            "/usr/local/lib/python3.7/dist-packages/ipykernel_launcher.py:7: ConvergenceWarning: Number of distinct clusters (6) found smaller than n_clusters (9). Possibly due to duplicate points in X.\n",
            "  import sys\n",
            "/usr/local/lib/python3.7/dist-packages/ipykernel_launcher.py:7: ConvergenceWarning: Number of distinct clusters (6) found smaller than n_clusters (10). Possibly due to duplicate points in X.\n",
            "  import sys\n"
          ],
          "name": "stderr"
        },
        {
          "output_type": "display_data",
          "data": {
            "image/png": "[encoded data removed]",
            "text/plain": [
              "<Figure size 432x288 with 1 Axes>"
            ]
          },
          "metadata": {
            "tags": [],
            "needs_background": "light"
          }
        }
      ]
    },
    {
      "cell_type": "code",
      "metadata": {
        "id": "1CFdlTmlPQXF"
      },
      "source": [
        "#Applying kmeans to the dataset / Creating the kmeans classifier\n",
        "kmeans = KMeans(n_clusters = 3, init = 'k-means++', max_iter = 300, n_init = 10, random_state = 0)\n",
        "y_kmeans = kmeans.fit_predict(dataset)\n"
      ],
      "execution_count": 14,
      "outputs": []
    },
    {
      "cell_type": "code",
      "metadata": {
        "colab": {
          "base_uri": "https://localhost:8080/",
          "height": 283
        },
        "id": "eGdAFY8YPZ85",
        "outputId": "e0f8be94-bc64-49f0-ccf4-75cbdad0ab1f"
      },
      "source": [
        "#Plotting the centroids of the clusters\n",
        "plt.scatter(kmeans.cluster_centers_[:, 0], kmeans.cluster_centers_[:,1], s = 100, c = 'yellow', label = 'Centroids')\n",
        "\n",
        "plt.legend()"
      ],
      "execution_count": 15,
      "outputs": [
        {
          "output_type": "execute_result",
          "data": {
            "text/plain": [
              "<matplotlib.legend.Legend at 0x7f5570ccd690>"
            ]
          },
          "metadata": {
            "tags": []
          },
          "execution_count": 15
        },
        {
          "output_type": "display_data",
          "data": {
            "image/png": "[encoded data removed]",
            "text/plain": [
              "<Figure size 432x288 with 1 Axes>"
            ]
          },
          "metadata": {
            "tags": [],
            "needs_background": "light"
          }
        }
      ]
    },
    {
      "cell_type": "code",
      "metadata": {
        "colab": {
          "base_uri": "https://localhost:8080/"
        },
        "id": "fRM0BPvXP4EU",
        "outputId": "cfa00b91-606c-4128-e659-d5914569d132"
      },
      "source": [
        "print(len(y_kmeans))"
      ],
      "execution_count": 16,
      "outputs": [
        {
          "output_type": "stream",
          "text": [
            "195\n"
          ],
          "name": "stdout"
        }
      ]
    },
    {
      "cell_type": "code",
      "metadata": {
        "colab": {
          "base_uri": "https://localhost:8080/"
        },
        "id": "LuPtvfStP78z",
        "outputId": "2dd3847b-08a6-430f-da24-0b512c74c949"
      },
      "source": [
        "print(y_kmeans)"
      ],
      "execution_count": 17,
      "outputs": [
        {
          "output_type": "stream",
          "text": [
            "[0 0 0 0 0 0 0 0 0 0 0 0 0 0 0 0 0 0 0 0 0 0 0 0 0 0 0 0 0 0 0 0 0 0 0 0 0\n",
            " 0 0 2 0 0 0 0 0 0 0 0 0 0 0 0 0 0 0 0 0 0 0 0 0 0 0 0 0 0 0 0 0 0 0 0 0 0\n",
            " 0 0 0 0 0 0 0 0 0 0 0 0 0 0 0 0 0 0 0 0 0 0 0 0 0 0 0 0 0 0 0 0 0 0 0 0 0\n",
            " 0 0 0 0 0 0 0 0 0 0 0 0 0 0 0 0 0 0 0 0 0 0 0 0 0 0 0 0 0 2 0 0 0 0 0 0 0\n",
            " 0 0 0 0 0 0 0 0 0 0 0 0 0 0 0 0 0 0 0 0 0 0 0 0 0 0 0 0 0 0 1 1 1 0 0 0 0\n",
            " 0 0 0 0 0 0 0 0 0 0]\n"
          ],
          "name": "stdout"
        }
      ]
    },
    {
      "cell_type": "code",
      "metadata": {
        "colab": {
          "base_uri": "https://localhost:8080/"
        },
        "id": "NYQzHHgvQKW0",
        "outputId": "867cfcf9-0a7c-4599-aa1d-ed8e33c8f19c"
      },
      "source": [
        "bb=dict(zip(list(y_kmeans),[list(y_kmeans).count(i) for i in list(y_kmeans)]))\n",
        "print(bb)"
      ],
      "execution_count": 18,
      "outputs": [
        {
          "output_type": "stream",
          "text": [
            "{0: 190, 2: 2, 1: 3}\n"
          ],
          "name": "stdout"
        }
      ]
    },
    {
      "cell_type": "code",
      "metadata": {
        "colab": {
          "base_uri": "https://localhost:8080/"
        },
        "id": "alUJ8eteQiv_",
        "outputId": "fd86fa82-3eeb-4b06-8a49-263536364605"
      },
      "source": [
        "max_key = max(bb, key=bb.get)\n",
        "print(max_key)"
      ],
      "execution_count": 19,
      "outputs": [
        {
          "output_type": "stream",
          "text": [
            "0\n"
          ],
          "name": "stdout"
        }
      ]
    },
    {
      "cell_type": "code",
      "metadata": {
        "id": "Fw292PNGQpvk"
      },
      "source": [
        "df_out = list(zip(cusid,y_kmeans))"
      ],
      "execution_count": 20,
      "outputs": []
    },
    {
      "cell_type": "code",
      "metadata": {
        "colab": {
          "base_uri": "https://localhost:8080/"
        },
        "id": "p3AJCpk4QwBV",
        "outputId": "49d0e6c5-d406-4ffc-8d19-1707050c401d"
      },
      "source": [
        "df_out"
      ],
      "execution_count": 21,
      "outputs": [
        {
          "output_type": "execute_result",
          "data": {
            "text/plain": [
              "[('C00001', 0),\n",
              " ('C00002', 0),\n",
              " ('C00003', 0),\n",
              " ('C00004', 0),\n",
              " ('C00005', 0),\n",
              " ('C00006', 0),\n",
              " ('C00007', 0),\n",
              " ('C00008', 0),\n",
              " ('C00009', 0),\n",
              " ('C00010', 0),\n",
              " ('C00011', 0),\n",
              " ('C00012', 0),\n",
              " ('C00013', 0),\n",
              " ('C00014', 0),\n",
              " ('C00015', 0),\n",
              " ('C00016', 0),\n",
              " ('C00017', 0),\n",
              " ('C00018', 0),\n",
              " ('C00019', 0),\n",
              " ('C00020', 0),\n",
              " ('C00021', 0),\n",
              " ('C00022', 0),\n",
              " ('C00023', 0),\n",
              " ('C00024', 0),\n",
              " ('C00025', 0),\n",
              " ('C00026', 0),\n",
              " ('C00027', 0),\n",
              " ('C00028', 0),\n",
              " ('C00029', 0),\n",
              " ('C00030', 0),\n",
              " ('C00031', 0),\n",
              " ('C00032', 0),\n",
              " ('C00033', 0),\n",
              " ('C00034', 0),\n",
              " ('C00035', 0),\n",
              " ('C00036', 0),\n",
              " ('C00037', 0),\n",
              " ('C00038', 0),\n",
              " ('C00039', 0),\n",
              " ('C00040', 2),\n",
              " ('C00041', 0),\n",
              " ('C00042', 0),\n",
              " ('C00043', 0),\n",
              " ('C00044', 0),\n",
              " ('C00045', 0),\n",
              " ('C00046', 0),\n",
              " ('C00047', 0),\n",
              " ('C00048', 0),\n",
              " ('C00049', 0),\n",
              " ('C00050', 0),\n",
              " ('C00051', 0),\n",
              " ('C00052', 0),\n",
              " ('C00053', 0),\n",
              " ('C00054', 0),\n",
              " ('C00055', 0),\n",
              " ('C00056', 0),\n",
              " ('C00057', 0),\n",
              " ('C00058', 0),\n",
              " ('C00059', 0),\n",
              " ('C00060', 0),\n",
              " ('C00061', 0),\n",
              " ('C00062', 0),\n",
              " ('C00063', 0),\n",
              " ('C00064', 0),\n",
              " ('C00065', 0),\n",
              " ('C00066', 0),\n",
              " ('C00067', 0),\n",
              " ('C00068', 0),\n",
              " ('C00069', 0),\n",
              " ('C00070', 0),\n",
              " ('C00071', 0),\n",
              " ('C00072', 0),\n",
              " ('C00073', 0),\n",
              " ('C00074', 0),\n",
              " ('C00075', 0),\n",
              " ('C00076', 0),\n",
              " ('C00077', 0),\n",
              " ('C00078', 0),\n",
              " ('C00079', 0),\n",
              " ('C00080', 0),\n",
              " ('C00081', 0),\n",
              " ('C00082', 0),\n",
              " ('C00083', 0),\n",
              " ('C00084', 0),\n",
              " ('C00085', 0),\n",
              " ('C00086', 0),\n",
              " ('C00087', 0),\n",
              " ('C00088', 0),\n",
              " ('C00089', 0),\n",
              " ('C00090', 0),\n",
              " ('C00091', 0),\n",
              " ('C00092', 0),\n",
              " ('C00093', 0),\n",
              " ('C00094', 0),\n",
              " ('C00095', 0),\n",
              " ('C00096', 0),\n",
              " ('C00097', 0),\n",
              " ('C00098', 0),\n",
              " ('C00099', 0),\n",
              " ('C00100', 0),\n",
              " ('C00101', 0),\n",
              " ('C00102', 0),\n",
              " ('C00103', 0),\n",
              " ('C00104', 0),\n",
              " ('C00105', 0),\n",
              " ('C00106', 0),\n",
              " ('C00107', 0),\n",
              " ('C00108', 0),\n",
              " ('C00109', 0),\n",
              " ('C00110', 0),\n",
              " ('C00111', 0),\n",
              " ('C00112', 0),\n",
              " ('C00113', 0),\n",
              " ('C00114', 0),\n",
              " ('C00115', 0),\n",
              " ('C00116', 0),\n",
              " ('C00117', 0),\n",
              " ('C00118', 0),\n",
              " ('C00119', 0),\n",
              " ('C00120', 0),\n",
              " ('C00121', 0),\n",
              " ('C00122', 0),\n",
              " ('C00123', 0),\n",
              " ('C00124', 0),\n",
              " ('C00125', 0),\n",
              " ('C00126', 0),\n",
              " ('C00127', 0),\n",
              " ('C00128', 0),\n",
              " ('C00129', 0),\n",
              " ('C00130', 0),\n",
              " ('C00131', 0),\n",
              " ('C00132', 0),\n",
              " ('C00133', 0),\n",
              " ('C00134', 0),\n",
              " ('C00135', 0),\n",
              " ('C00136', 0),\n",
              " ('C00137', 0),\n",
              " ('C00138', 0),\n",
              " ('C00139', 0),\n",
              " ('C00140', 0),\n",
              " ('C00141', 2),\n",
              " ('C00142', 0),\n",
              " ('C00143', 0),\n",
              " ('C00144', 0),\n",
              " ('C00145', 0),\n",
              " ('C00146', 0),\n",
              " ('C00147', 0),\n",
              " ('C00148', 0),\n",
              " ('C00149', 0),\n",
              " ('C00150', 0),\n",
              " ('C00151', 0),\n",
              " ('C00152', 0),\n",
              " ('C00153', 0),\n",
              " ('C00154', 0),\n",
              " ('C00155', 0),\n",
              " ('C00156', 0),\n",
              " ('C00157', 0),\n",
              " ('C00158', 0),\n",
              " ('C00159', 0),\n",
              " ('C00160', 0),\n",
              " ('C00161', 0),\n",
              " ('C00162', 0),\n",
              " ('C00163', 0),\n",
              " ('C00164', 0),\n",
              " ('C00165', 0),\n",
              " ('C00166', 0),\n",
              " ('C00167', 0),\n",
              " ('C00168', 0),\n",
              " ('C00169', 0),\n",
              " ('C00170', 0),\n",
              " ('C00171', 0),\n",
              " ('C00172', 0),\n",
              " ('C00173', 0),\n",
              " ('C00174', 0),\n",
              " ('C00175', 0),\n",
              " ('C00176', 0),\n",
              " ('C00177', 0),\n",
              " ('C00178', 0),\n",
              " ('C00179', 1),\n",
              " ('C00180', 1),\n",
              " ('C00181', 1),\n",
              " ('C00182', 0),\n",
              " ('C00183', 0),\n",
              " ('C00184', 0),\n",
              " ('C00185', 0),\n",
              " ('C00186', 0),\n",
              " ('C00187', 0),\n",
              " ('C00188', 0),\n",
              " ('C00189', 0),\n",
              " ('C00190', 0),\n",
              " ('C00191', 0),\n",
              " ('C00192', 0),\n",
              " ('C00193', 0),\n",
              " ('C00194', 0),\n",
              " ('C00195', 0)]"
            ]
          },
          "metadata": {
            "tags": []
          },
          "execution_count": 21
        }
      ]
    },
    {
      "cell_type": "code",
      "metadata": {
        "id": "TiJ1sKdXQy36"
      },
      "source": [
        "check = []\n",
        "for id,_group in df_out:\n",
        "  if _group != max_key:\n",
        "    check.append([id,_group])"
      ],
      "execution_count": 22,
      "outputs": []
    },
    {
      "cell_type": "code",
      "metadata": {
        "colab": {
          "base_uri": "https://localhost:8080/"
        },
        "id": "b6L5968GQ3vx",
        "outputId": "3c1be156-5c07-47d4-fa9d-17eb15b518dd"
      },
      "source": [
        "check"
      ],
      "execution_count": 23,
      "outputs": [
        {
          "output_type": "execute_result",
          "data": {
            "text/plain": [
              "[['C00040', 2], ['C00141', 2], ['C00179', 1], ['C00180', 1], ['C00181', 1]]"
            ]
          },
          "metadata": {
            "tags": []
          },
          "execution_count": 23
        }
      ]
    },
    {
      "cell_type": "code",
      "metadata": {
        "colab": {
          "base_uri": "https://localhost:8080/"
        },
        "id": "9MWcfLTIQ6AF",
        "outputId": "caa95f03-89a7-4be0-bdd1-df1d7f7e7db3"
      },
      "source": [
        "out_v = []\n",
        "d = []\n",
        "for id,_group in check:\n",
        "  v = df.loc[df_old['CustomID'] == id]\n",
        "  d.append([id,_group])\n",
        "  #v['custid']=id\n",
        "  #v['group']=_group\n",
        "  out_v.append(v)\n",
        "for x,y in zip(d,out_v):\n",
        "  print(x)\n",
        "  print(y.items)"
      ],
      "execution_count": 24,
      "outputs": [
        {
          "output_type": "stream",
          "text": [
            "['C00040', 2]\n",
            "<bound method DataFrame.items of     A  B  C  D  A1  A2  A3  A4  B1  B2  B3  B4  C1  D1  D2\n",
            "39  0  0  0  0   0   0   1   0   0   1   0   1   1   1   0>\n",
            "['C00141', 2]\n",
            "<bound method DataFrame.items of      A  B  C  D  A1  A2  A3  A4  B1  B2  B3  B4  C1  D1  D2\n",
            "140  0  0  0  0   0   0   0   1   1   1   1   1   1   1   1>\n",
            "['C00179', 1]\n",
            "<bound method DataFrame.items of      A  B  C  D  A1  A2  A3  A4  B1  B2  B3  B4  C1  D1  D2\n",
            "178  0  0  0  0   0   0   1   0   1   0   1   0   1   1   1>\n",
            "['C00180', 1]\n",
            "<bound method DataFrame.items of      A  B  C  D  A1  A2  A3  A4  B1  B2  B3  B4  C1  D1  D2\n",
            "179  0  0  0  0   0   1   1   0   1   0   1   0   1   1   1>\n",
            "['C00181', 1]\n",
            "<bound method DataFrame.items of      A  B  C  D  A1  A2  A3  A4  B1  B2  B3  B4  C1  D1  D2\n",
            "180  0  0  0  0   0   0   1   0   1   0   1   0   1   1   1>\n"
          ],
          "name": "stdout"
        }
      ]
    },
    {
      "cell_type": "code",
      "metadata": {
        "id": "4poFELRlQ966"
      },
      "source": [
        ""
      ],
      "execution_count": null,
      "outputs": []
    }
  ]
}