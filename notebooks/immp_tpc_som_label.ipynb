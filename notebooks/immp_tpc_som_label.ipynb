{
  "nbformat": 4,
  "nbformat_minor": 0,
  "metadata": {
    "colab": {
      "name": "immp_tpc_som-label.ipynb",
      "provenance": [],
      "collapsed_sections": [],
      "include_colab_link": true
    },
    "kernelspec": {
      "name": "python3",
      "display_name": "Python 3"
    },
    "language_info": {
      "name": "python"
    }
  },
  "cells": [
    {
      "cell_type": "markdown",
      "metadata": {
        "id": "view-in-github",
        "colab_type": "text"
      },
      "source": [
        "<a href=\"https://colab.research.google.com/github/jumbokh/ML-Class/blob/main/notebooks/immp_tpc_som_label.ipynb\" target=\"_parent\"><img src=\"https://colab.research.google.com/assets/colab-badge.svg\" alt=\"Open In Colab\"/></a>"
      ]
    },
    {
      "cell_type": "code",
      "metadata": {
        "id": "ah13Doaiyv9k"
      },
      "source": [
        "import numpy as np\n",
        "import pandas as pd\n",
        "import pylab as pl\n",
        "import csv"
      ],
      "execution_count": 1,
      "outputs": []
    },
    {
      "cell_type": "code",
      "metadata": {
        "id": "Ckp2RR7Gzbwb"
      },
      "source": [
        "class SOM(object):\n",
        "    def __init__(self, X, output, iteration, batch_size):\n",
        "        \"\"\"\n",
        "        :param X:  形状是N*D， 输入样本有N个,每个D维\n",
        "        :param output: (n,m)一个元组，为输出层的形状是一个n*m的二维矩阵\n",
        "        :param iteration:迭代次数\n",
        "        :param batch_size:每次迭代时的样本数量\n",
        "        初始化一个权值矩阵，形状为D*(n*m)，即有n*m权值向量，每个D维\n",
        "        \"\"\"\n",
        "        self.X = X\n",
        "        self.output = output\n",
        "        self.iteration = iteration\n",
        "        self.batch_size = batch_size\n",
        "        self.W = np.random.rand(X.shape[1], output[0] * output[1])\n",
        "        print (self.W.shape)\n",
        "\n",
        "    def GetN(self, t):\n",
        "        \"\"\"\n",
        "        :param t:时间t, 这里用迭代次数来表示时间\n",
        "        :return: 返回一个整数，表示拓扑距离，时间越大，拓扑邻域越小\n",
        "        \"\"\"\n",
        "        a = min(self.output)\n",
        "        return int(a-float(a)*t/self.iteration)\n",
        "\n",
        "    def Geteta(self, t, n):\n",
        "        \"\"\"\n",
        "        :param t: 时间t, 这里用迭代次数来表示时间\n",
        "        :param n: 拓扑距离\n",
        "        :return: 返回学习率，\n",
        "        \"\"\"\n",
        "        return np.power(np.e, -n)/(t+2)\n",
        "\n",
        "    def updata_W(self, X, t, winner):\n",
        "        N = self.GetN(t)\n",
        "        for x, i in enumerate(winner):\n",
        "            to_update = self.getneighbor(i, N)   ## change i[0] to i\n",
        "            for j in range(N+1):\n",
        "                e = self.Geteta(t, j)\n",
        "                for w in to_update[j]:\n",
        "                    self.W[:, w] = np.add(self.W[:,w], e*(X[x,:] - self.W[:,w]))\n",
        "\n",
        "    def getneighbor(self, index, N):\n",
        "        \"\"\"\n",
        "        :param index:获胜神经元的下标\n",
        "        :param N: 邻域半径\n",
        "        :return ans: 返回一个集合列表，分别是不同邻域半径内需要更新的神经元坐标\n",
        "        \"\"\"\n",
        "        a, b = self.output\n",
        "        length = a*b\n",
        "        def distence(index1, index2):\n",
        "            i1_a, i1_b = index1 // a, index1 % b\n",
        "            i2_a, i2_b = index2 // a, index2 % b\n",
        "            return np.abs(i1_a - i2_a), np.abs(i1_b - i2_b)\n",
        "\n",
        "        ans = [set() for i in range(N+1)]\n",
        "        for i in range(length):\n",
        "            dist_a, dist_b = distence(i, index)\n",
        "            if dist_a <= N and dist_b <= N: ans[max(dist_a, dist_b)].add(i)\n",
        "        return ans\n",
        "\n",
        "\n",
        "\n",
        "\n",
        "    def train(self):\n",
        "        \"\"\"\n",
        "        train_Y:训练样本与形状为batch_size*(n*m)\n",
        "        winner:一个一维向量，batch_size个获胜神经元的下标\n",
        "        :return:返回值是调整后的W\n",
        "        \"\"\"\n",
        "        count = 0\n",
        "        while self.iteration > count:\n",
        "            train_X = self.X[np.random.choice(self.X.shape[0], self.batch_size)]\n",
        "            normal_W(self.W)\n",
        "            normal_X(train_X)\n",
        "            train_Y = train_X.dot(self.W)\n",
        "            winner = np.argmax(train_Y, axis=1).tolist()\n",
        "            self.updata_W(train_X, count, winner)\n",
        "            count += 1\n",
        "        return self.W\n",
        "\n",
        "    def train_result(self):\n",
        "        normal_X(self.X)\n",
        "        train_Y = self.X.dot(self.W)\n",
        "        winner = np.argmax(train_Y, axis=1).tolist()\n",
        "        print (winner)\n",
        "        return winner\n",
        "\n",
        "def normal_X(X):\n",
        "    \"\"\"\n",
        "    :param X:二维矩阵，N*D，N个D维的数据\n",
        "    :return: 将X归一化的结果\n",
        "    \"\"\"\n",
        "    N, D = X.shape\n",
        "    for i in range(N):\n",
        "        temp = np.sum(np.multiply(X[i], X[i]))\n",
        "        X[i] /= np.sqrt(temp)\n",
        "    return X\n",
        "def normal_W(W):\n",
        "    \"\"\"\n",
        "    :param W:二维矩阵，D*(n*m)，D个n*m维的数据\n",
        "    :return: 将W归一化的结果\n",
        "    \"\"\"\n",
        "    for i in range(W.shape[1]):\n",
        "        temp = np.sum(np.multiply(W[:,i], W[:,i]))\n",
        "        W[:, i] /= np.sqrt(temp)\n",
        "    return W\n",
        "\n",
        "#画图\n",
        "def draw(C):\n",
        "    colValue = ['r', 'y', 'g', 'b', 'c', 'k', 'm']\n",
        "    for i in range(len(C)):\n",
        "        coo_X = []    #x坐标列表\n",
        "        coo_Y = []    #y坐标列表\n",
        "        for j in range(len(C[i])):\n",
        "            coo_X.append(C[i][j][0])\n",
        "            coo_Y.append(C[i][j][1])\n",
        "        pl.scatter(coo_X, coo_Y, marker='x', color=colValue[i%len(colValue)], label=i)\n",
        "\n",
        "    pl.legend(loc='upper center')\n",
        "    pl.show()\n"
      ],
      "execution_count": 2,
      "outputs": []
    },
    {
      "cell_type": "code",
      "metadata": {
        "colab": {
          "base_uri": "https://localhost:8080/"
        },
        "id": "_cjiVbNkzmRp",
        "outputId": "cb263f1f-031a-4cf8-bc06-c5bbed1d0dd1"
      },
      "source": [
        "print(\"\\nLoading TPC data into memory \\n\")\n",
        "data_file = \"vTestData102.csv\"\n",
        "#dataset = np.loadtxt(data_file, delimiter=\",\", usecols=range(0,15),dtype=np.float64)\n",
        "#with open(data_file, 'r') as f:\n",
        "#    data = list(csv.reader(f, delimiter=\",\"))\n",
        "#dataset = np.array(data, dtype=np.float)\n",
        "#print(dataset.shape)\n",
        "#dataset_old = dataset.copy()"
      ],
      "execution_count": 3,
      "outputs": [
        {
          "output_type": "stream",
          "text": [
            "\n",
            "Loading TPC data into memory \n",
            "\n"
          ],
          "name": "stdout"
        }
      ]
    },
    {
      "cell_type": "code",
      "metadata": {
        "id": "Pst_Eq6b5cgA"
      },
      "source": [
        "df = pd.read_csv(data_file)"
      ],
      "execution_count": 4,
      "outputs": []
    },
    {
      "cell_type": "code",
      "metadata": {
        "colab": {
          "base_uri": "https://localhost:8080/",
          "height": 402
        },
        "id": "2Kic0YdP5orO",
        "outputId": "abbde34e-4f6f-410f-e4e7-20c07ef790d2"
      },
      "source": [
        "df"
      ],
      "execution_count": 5,
      "outputs": [
        {
          "output_type": "execute_result",
          "data": {
            "text/html": [
              "<div>\n",
              "<style scoped>\n",
              "    .dataframe tbody tr th:only-of-type {\n",
              "        vertical-align: middle;\n",
              "    }\n",
              "\n",
              "    .dataframe tbody tr th {\n",
              "        vertical-align: top;\n",
              "    }\n",
              "\n",
              "    .dataframe thead th {\n",
              "        text-align: right;\n",
              "    }\n",
              "</style>\n",
              "<table border=\"1\" class=\"dataframe\">\n",
              "  <thead>\n",
              "    <tr style=\"text-align: right;\">\n",
              "      <th></th>\n",
              "      <th>CustomID</th>\n",
              "      <th>A</th>\n",
              "      <th>B</th>\n",
              "      <th>C</th>\n",
              "      <th>D</th>\n",
              "      <th>A1</th>\n",
              "      <th>A2</th>\n",
              "      <th>A3</th>\n",
              "      <th>A4</th>\n",
              "      <th>B1</th>\n",
              "      <th>B2</th>\n",
              "      <th>B3</th>\n",
              "      <th>B4</th>\n",
              "      <th>C1</th>\n",
              "      <th>D1</th>\n",
              "      <th>D2</th>\n",
              "    </tr>\n",
              "  </thead>\n",
              "  <tbody>\n",
              "    <tr>\n",
              "      <th>0</th>\n",
              "      <td>C00001</td>\n",
              "      <td>1</td>\n",
              "      <td>1</td>\n",
              "      <td>1</td>\n",
              "      <td>1</td>\n",
              "      <td>0</td>\n",
              "      <td>0</td>\n",
              "      <td>0</td>\n",
              "      <td>0</td>\n",
              "      <td>0</td>\n",
              "      <td>0</td>\n",
              "      <td>0</td>\n",
              "      <td>0</td>\n",
              "      <td>0</td>\n",
              "      <td>0</td>\n",
              "      <td>0</td>\n",
              "    </tr>\n",
              "    <tr>\n",
              "      <th>1</th>\n",
              "      <td>C00002</td>\n",
              "      <td>1</td>\n",
              "      <td>1</td>\n",
              "      <td>1</td>\n",
              "      <td>1</td>\n",
              "      <td>0</td>\n",
              "      <td>0</td>\n",
              "      <td>0</td>\n",
              "      <td>0</td>\n",
              "      <td>0</td>\n",
              "      <td>0</td>\n",
              "      <td>0</td>\n",
              "      <td>0</td>\n",
              "      <td>0</td>\n",
              "      <td>0</td>\n",
              "      <td>0</td>\n",
              "    </tr>\n",
              "    <tr>\n",
              "      <th>2</th>\n",
              "      <td>C00003</td>\n",
              "      <td>1</td>\n",
              "      <td>1</td>\n",
              "      <td>1</td>\n",
              "      <td>1</td>\n",
              "      <td>0</td>\n",
              "      <td>0</td>\n",
              "      <td>0</td>\n",
              "      <td>0</td>\n",
              "      <td>0</td>\n",
              "      <td>0</td>\n",
              "      <td>0</td>\n",
              "      <td>0</td>\n",
              "      <td>0</td>\n",
              "      <td>0</td>\n",
              "      <td>0</td>\n",
              "    </tr>\n",
              "    <tr>\n",
              "      <th>3</th>\n",
              "      <td>C00004</td>\n",
              "      <td>1</td>\n",
              "      <td>1</td>\n",
              "      <td>1</td>\n",
              "      <td>1</td>\n",
              "      <td>0</td>\n",
              "      <td>0</td>\n",
              "      <td>0</td>\n",
              "      <td>0</td>\n",
              "      <td>0</td>\n",
              "      <td>0</td>\n",
              "      <td>0</td>\n",
              "      <td>0</td>\n",
              "      <td>0</td>\n",
              "      <td>0</td>\n",
              "      <td>0</td>\n",
              "    </tr>\n",
              "    <tr>\n",
              "      <th>4</th>\n",
              "      <td>C00005</td>\n",
              "      <td>1</td>\n",
              "      <td>1</td>\n",
              "      <td>1</td>\n",
              "      <td>1</td>\n",
              "      <td>0</td>\n",
              "      <td>0</td>\n",
              "      <td>0</td>\n",
              "      <td>0</td>\n",
              "      <td>0</td>\n",
              "      <td>0</td>\n",
              "      <td>0</td>\n",
              "      <td>0</td>\n",
              "      <td>0</td>\n",
              "      <td>0</td>\n",
              "      <td>0</td>\n",
              "    </tr>\n",
              "    <tr>\n",
              "      <th>...</th>\n",
              "      <td>...</td>\n",
              "      <td>...</td>\n",
              "      <td>...</td>\n",
              "      <td>...</td>\n",
              "      <td>...</td>\n",
              "      <td>...</td>\n",
              "      <td>...</td>\n",
              "      <td>...</td>\n",
              "      <td>...</td>\n",
              "      <td>...</td>\n",
              "      <td>...</td>\n",
              "      <td>...</td>\n",
              "      <td>...</td>\n",
              "      <td>...</td>\n",
              "      <td>...</td>\n",
              "      <td>...</td>\n",
              "    </tr>\n",
              "    <tr>\n",
              "      <th>190</th>\n",
              "      <td>C00191</td>\n",
              "      <td>1</td>\n",
              "      <td>1</td>\n",
              "      <td>1</td>\n",
              "      <td>1</td>\n",
              "      <td>0</td>\n",
              "      <td>0</td>\n",
              "      <td>0</td>\n",
              "      <td>0</td>\n",
              "      <td>0</td>\n",
              "      <td>0</td>\n",
              "      <td>0</td>\n",
              "      <td>0</td>\n",
              "      <td>0</td>\n",
              "      <td>0</td>\n",
              "      <td>0</td>\n",
              "    </tr>\n",
              "    <tr>\n",
              "      <th>191</th>\n",
              "      <td>C00192</td>\n",
              "      <td>1</td>\n",
              "      <td>1</td>\n",
              "      <td>1</td>\n",
              "      <td>1</td>\n",
              "      <td>0</td>\n",
              "      <td>0</td>\n",
              "      <td>0</td>\n",
              "      <td>0</td>\n",
              "      <td>0</td>\n",
              "      <td>0</td>\n",
              "      <td>0</td>\n",
              "      <td>0</td>\n",
              "      <td>0</td>\n",
              "      <td>0</td>\n",
              "      <td>0</td>\n",
              "    </tr>\n",
              "    <tr>\n",
              "      <th>192</th>\n",
              "      <td>C00193</td>\n",
              "      <td>1</td>\n",
              "      <td>1</td>\n",
              "      <td>1</td>\n",
              "      <td>1</td>\n",
              "      <td>0</td>\n",
              "      <td>0</td>\n",
              "      <td>0</td>\n",
              "      <td>0</td>\n",
              "      <td>0</td>\n",
              "      <td>0</td>\n",
              "      <td>0</td>\n",
              "      <td>0</td>\n",
              "      <td>0</td>\n",
              "      <td>0</td>\n",
              "      <td>0</td>\n",
              "    </tr>\n",
              "    <tr>\n",
              "      <th>193</th>\n",
              "      <td>C00194</td>\n",
              "      <td>1</td>\n",
              "      <td>1</td>\n",
              "      <td>1</td>\n",
              "      <td>1</td>\n",
              "      <td>0</td>\n",
              "      <td>0</td>\n",
              "      <td>0</td>\n",
              "      <td>0</td>\n",
              "      <td>0</td>\n",
              "      <td>0</td>\n",
              "      <td>0</td>\n",
              "      <td>0</td>\n",
              "      <td>0</td>\n",
              "      <td>0</td>\n",
              "      <td>0</td>\n",
              "    </tr>\n",
              "    <tr>\n",
              "      <th>194</th>\n",
              "      <td>C00195</td>\n",
              "      <td>1</td>\n",
              "      <td>1</td>\n",
              "      <td>1</td>\n",
              "      <td>1</td>\n",
              "      <td>0</td>\n",
              "      <td>0</td>\n",
              "      <td>0</td>\n",
              "      <td>0</td>\n",
              "      <td>0</td>\n",
              "      <td>0</td>\n",
              "      <td>0</td>\n",
              "      <td>0</td>\n",
              "      <td>0</td>\n",
              "      <td>0</td>\n",
              "      <td>0</td>\n",
              "    </tr>\n",
              "  </tbody>\n",
              "</table>\n",
              "<p>195 rows × 16 columns</p>\n",
              "</div>"
            ],
            "text/plain": [
              "    CustomID  A  B  C  D  A1  A2  A3  A4  B1  B2  B3  B4  C1  D1  D2\n",
              "0     C00001  1  1  1  1   0   0   0   0   0   0   0   0   0   0   0\n",
              "1     C00002  1  1  1  1   0   0   0   0   0   0   0   0   0   0   0\n",
              "2     C00003  1  1  1  1   0   0   0   0   0   0   0   0   0   0   0\n",
              "3     C00004  1  1  1  1   0   0   0   0   0   0   0   0   0   0   0\n",
              "4     C00005  1  1  1  1   0   0   0   0   0   0   0   0   0   0   0\n",
              "..       ... .. .. .. ..  ..  ..  ..  ..  ..  ..  ..  ..  ..  ..  ..\n",
              "190   C00191  1  1  1  1   0   0   0   0   0   0   0   0   0   0   0\n",
              "191   C00192  1  1  1  1   0   0   0   0   0   0   0   0   0   0   0\n",
              "192   C00193  1  1  1  1   0   0   0   0   0   0   0   0   0   0   0\n",
              "193   C00194  1  1  1  1   0   0   0   0   0   0   0   0   0   0   0\n",
              "194   C00195  1  1  1  1   0   0   0   0   0   0   0   0   0   0   0\n",
              "\n",
              "[195 rows x 16 columns]"
            ]
          },
          "metadata": {
            "tags": []
          },
          "execution_count": 5
        }
      ]
    },
    {
      "cell_type": "code",
      "metadata": {
        "id": "d2QaEW685v4e"
      },
      "source": [
        "cusid = df['CustomID']\n",
        "df_old = df.copy()"
      ],
      "execution_count": 6,
      "outputs": []
    },
    {
      "cell_type": "code",
      "metadata": {
        "id": "IimCVOIb5zQN"
      },
      "source": [
        "df = df.drop('CustomID', axis=1)"
      ],
      "execution_count": 7,
      "outputs": []
    },
    {
      "cell_type": "code",
      "metadata": {
        "colab": {
          "base_uri": "https://localhost:8080/"
        },
        "id": "VMRw4que50LD",
        "outputId": "19bf6a9d-0809-45ca-dfdc-93d295064e19"
      },
      "source": [
        "dataset = np.array(df, dtype=np.float)\n",
        "dataset_old = dataset.copy()\n",
        "print(dataset.shape)"
      ],
      "execution_count": 8,
      "outputs": [
        {
          "output_type": "stream",
          "text": [
            "(195, 15)\n"
          ],
          "name": "stdout"
        }
      ]
    },
    {
      "cell_type": "code",
      "metadata": {
        "colab": {
          "base_uri": "https://localhost:8080/"
        },
        "id": "ibE6-diMz-5D",
        "outputId": "25067f2c-0a62-4ee8-88d6-01a4e4cb61fa"
      },
      "source": [
        "som = SOM(dataset, (5, 5), 1, 30)\n",
        "som.train()\n",
        "res = som.train_result()"
      ],
      "execution_count": 9,
      "outputs": [
        {
          "output_type": "stream",
          "text": [
            "(15, 25)\n",
            "[13, 13, 13, 13, 13, 13, 13, 13, 13, 13, 13, 13, 13, 13, 13, 13, 13, 13, 13, 13, 13, 13, 13, 13, 13, 13, 13, 13, 13, 13, 13, 13, 13, 13, 13, 13, 13, 13, 13, 15, 13, 13, 13, 13, 13, 13, 13, 13, 13, 13, 13, 13, 13, 13, 13, 13, 13, 13, 13, 13, 13, 13, 13, 13, 13, 13, 13, 13, 13, 13, 13, 13, 13, 13, 13, 13, 13, 13, 13, 13, 13, 13, 13, 13, 13, 13, 13, 13, 13, 13, 13, 13, 13, 13, 13, 13, 13, 13, 13, 13, 13, 13, 13, 13, 13, 13, 13, 13, 13, 13, 13, 13, 13, 13, 13, 13, 13, 13, 13, 13, 13, 13, 13, 13, 13, 13, 13, 13, 13, 13, 13, 13, 13, 13, 13, 13, 13, 13, 13, 13, 10, 13, 13, 13, 13, 13, 13, 13, 13, 13, 13, 13, 13, 13, 13, 13, 13, 13, 13, 13, 13, 13, 13, 13, 13, 13, 13, 13, 13, 13, 13, 13, 13, 13, 13, 13, 13, 13, 20, 20, 20, 13, 13, 13, 13, 13, 13, 13, 13, 13, 13, 13, 13, 13, 13]\n"
          ],
          "name": "stdout"
        }
      ]
    },
    {
      "cell_type": "code",
      "metadata": {
        "id": "pqHi0e4g0G_t"
      },
      "source": [
        "classify = {}\n",
        "for i, win in enumerate(res):\n",
        "    if not classify.get(win):   # change win[0] to win ==> three lines\n",
        "        classify.setdefault(win, [i])\n",
        "    else:\n",
        "        classify[win].append(i)"
      ],
      "execution_count": 10,
      "outputs": []
    },
    {
      "cell_type": "code",
      "metadata": {
        "id": "XjdNMQkD0One"
      },
      "source": [
        "C = []#未归一化的数据分类结果\n",
        "D = []#归一化的数据分类结果\n",
        "for i in classify.values():\n",
        "    C.append(dataset_old[i].tolist())\n",
        "    D.append(dataset[i].tolist())"
      ],
      "execution_count": 11,
      "outputs": []
    },
    {
      "cell_type": "code",
      "metadata": {
        "colab": {
          "base_uri": "https://localhost:8080/",
          "height": 513
        },
        "id": "mcIEv_XK0UZV",
        "outputId": "92f6c639-298b-4a57-9851-6a91740e330d"
      },
      "source": [
        "draw(C)\n",
        "draw(D)"
      ],
      "execution_count": 12,
      "outputs": [
        {
          "output_type": "display_data",
          "data": {
            "image/png": "[encoded data removed]",
            "text/plain": [
              "<Figure size 432x288 with 1 Axes>"
            ]
          },
          "metadata": {
            "tags": [],
            "needs_background": "light"
          }
        },
        {
          "output_type": "display_data",
          "data": {
            "image/png": "[encoded data removed]",
            "text/plain": [
              "<Figure size 432x288 with 1 Axes>"
            ]
          },
          "metadata": {
            "tags": [],
            "needs_background": "light"
          }
        }
      ]
    },
    {
      "cell_type": "code",
      "metadata": {
        "colab": {
          "base_uri": "https://localhost:8080/"
        },
        "id": "JPeg6vti0ZP1",
        "outputId": "72824f31-b7d4-4db6-a936-d91d4f7016d6"
      },
      "source": [
        "print('--------------------------------------------------------')\n",
        "print(np.unique(res))\n",
        "print(len(classify))"
      ],
      "execution_count": 13,
      "outputs": [
        {
          "output_type": "stream",
          "text": [
            "--------------------------------------------------------\n",
            "[10 13 15 20]\n",
            "4\n"
          ],
          "name": "stdout"
        }
      ]
    },
    {
      "cell_type": "code",
      "metadata": {
        "colab": {
          "base_uri": "https://localhost:8080/"
        },
        "id": "U3eljdFW0gcd",
        "outputId": "31903fff-8b7f-48ce-99b1-216ae945b975"
      },
      "source": [
        "values, counts = np.unique(res, return_counts=True)\n",
        "print(values)\n",
        "print(counts)\n",
        "print('--------------------------------------------------------')"
      ],
      "execution_count": 14,
      "outputs": [
        {
          "output_type": "stream",
          "text": [
            "[10 13 15 20]\n",
            "[  1 190   1   3]\n",
            "--------------------------------------------------------\n"
          ],
          "name": "stdout"
        }
      ]
    },
    {
      "cell_type": "code",
      "metadata": {
        "colab": {
          "base_uri": "https://localhost:8080/"
        },
        "id": "kzEjigMn0ksM",
        "outputId": "36fc14dd-c161-44df-d303-a6a2c6123b88"
      },
      "source": [
        "bb=dict(zip(list(res),[list(res).count(i) for i in list(res)]))\n",
        "print(bb)"
      ],
      "execution_count": 15,
      "outputs": [
        {
          "output_type": "stream",
          "text": [
            "{13: 190, 15: 1, 10: 1, 20: 3}\n"
          ],
          "name": "stdout"
        }
      ]
    },
    {
      "cell_type": "code",
      "metadata": {
        "id": "1WmV63JPDNTK"
      },
      "source": [
        "max_key = max(bb, key=bb.get)"
      ],
      "execution_count": 16,
      "outputs": []
    },
    {
      "cell_type": "code",
      "metadata": {
        "colab": {
          "base_uri": "https://localhost:8080/"
        },
        "id": "QT9ynugTDix_",
        "outputId": "31b5375e-4437-4659-b9ba-b89d4050a43e"
      },
      "source": [
        "print(max_key)"
      ],
      "execution_count": 17,
      "outputs": [
        {
          "output_type": "stream",
          "text": [
            "13\n"
          ],
          "name": "stdout"
        }
      ]
    },
    {
      "cell_type": "code",
      "metadata": {
        "id": "078xWfpq0n4M"
      },
      "source": [
        "df_out = list(zip(cusid,res))"
      ],
      "execution_count": 18,
      "outputs": []
    },
    {
      "cell_type": "code",
      "metadata": {
        "colab": {
          "base_uri": "https://localhost:8080/"
        },
        "id": "B98ybYbA7oT-",
        "outputId": "8c96b1c4-c281-4fd2-82d9-9131545ac079"
      },
      "source": [
        "df_out"
      ],
      "execution_count": 19,
      "outputs": [
        {
          "output_type": "execute_result",
          "data": {
            "text/plain": [
              "[('C00001', 13),\n",
              " ('C00002', 13),\n",
              " ('C00003', 13),\n",
              " ('C00004', 13),\n",
              " ('C00005', 13),\n",
              " ('C00006', 13),\n",
              " ('C00007', 13),\n",
              " ('C00008', 13),\n",
              " ('C00009', 13),\n",
              " ('C00010', 13),\n",
              " ('C00011', 13),\n",
              " ('C00012', 13),\n",
              " ('C00013', 13),\n",
              " ('C00014', 13),\n",
              " ('C00015', 13),\n",
              " ('C00016', 13),\n",
              " ('C00017', 13),\n",
              " ('C00018', 13),\n",
              " ('C00019', 13),\n",
              " ('C00020', 13),\n",
              " ('C00021', 13),\n",
              " ('C00022', 13),\n",
              " ('C00023', 13),\n",
              " ('C00024', 13),\n",
              " ('C00025', 13),\n",
              " ('C00026', 13),\n",
              " ('C00027', 13),\n",
              " ('C00028', 13),\n",
              " ('C00029', 13),\n",
              " ('C00030', 13),\n",
              " ('C00031', 13),\n",
              " ('C00032', 13),\n",
              " ('C00033', 13),\n",
              " ('C00034', 13),\n",
              " ('C00035', 13),\n",
              " ('C00036', 13),\n",
              " ('C00037', 13),\n",
              " ('C00038', 13),\n",
              " ('C00039', 13),\n",
              " ('C00040', 15),\n",
              " ('C00041', 13),\n",
              " ('C00042', 13),\n",
              " ('C00043', 13),\n",
              " ('C00044', 13),\n",
              " ('C00045', 13),\n",
              " ('C00046', 13),\n",
              " ('C00047', 13),\n",
              " ('C00048', 13),\n",
              " ('C00049', 13),\n",
              " ('C00050', 13),\n",
              " ('C00051', 13),\n",
              " ('C00052', 13),\n",
              " ('C00053', 13),\n",
              " ('C00054', 13),\n",
              " ('C00055', 13),\n",
              " ('C00056', 13),\n",
              " ('C00057', 13),\n",
              " ('C00058', 13),\n",
              " ('C00059', 13),\n",
              " ('C00060', 13),\n",
              " ('C00061', 13),\n",
              " ('C00062', 13),\n",
              " ('C00063', 13),\n",
              " ('C00064', 13),\n",
              " ('C00065', 13),\n",
              " ('C00066', 13),\n",
              " ('C00067', 13),\n",
              " ('C00068', 13),\n",
              " ('C00069', 13),\n",
              " ('C00070', 13),\n",
              " ('C00071', 13),\n",
              " ('C00072', 13),\n",
              " ('C00073', 13),\n",
              " ('C00074', 13),\n",
              " ('C00075', 13),\n",
              " ('C00076', 13),\n",
              " ('C00077', 13),\n",
              " ('C00078', 13),\n",
              " ('C00079', 13),\n",
              " ('C00080', 13),\n",
              " ('C00081', 13),\n",
              " ('C00082', 13),\n",
              " ('C00083', 13),\n",
              " ('C00084', 13),\n",
              " ('C00085', 13),\n",
              " ('C00086', 13),\n",
              " ('C00087', 13),\n",
              " ('C00088', 13),\n",
              " ('C00089', 13),\n",
              " ('C00090', 13),\n",
              " ('C00091', 13),\n",
              " ('C00092', 13),\n",
              " ('C00093', 13),\n",
              " ('C00094', 13),\n",
              " ('C00095', 13),\n",
              " ('C00096', 13),\n",
              " ('C00097', 13),\n",
              " ('C00098', 13),\n",
              " ('C00099', 13),\n",
              " ('C00100', 13),\n",
              " ('C00101', 13),\n",
              " ('C00102', 13),\n",
              " ('C00103', 13),\n",
              " ('C00104', 13),\n",
              " ('C00105', 13),\n",
              " ('C00106', 13),\n",
              " ('C00107', 13),\n",
              " ('C00108', 13),\n",
              " ('C00109', 13),\n",
              " ('C00110', 13),\n",
              " ('C00111', 13),\n",
              " ('C00112', 13),\n",
              " ('C00113', 13),\n",
              " ('C00114', 13),\n",
              " ('C00115', 13),\n",
              " ('C00116', 13),\n",
              " ('C00117', 13),\n",
              " ('C00118', 13),\n",
              " ('C00119', 13),\n",
              " ('C00120', 13),\n",
              " ('C00121', 13),\n",
              " ('C00122', 13),\n",
              " ('C00123', 13),\n",
              " ('C00124', 13),\n",
              " ('C00125', 13),\n",
              " ('C00126', 13),\n",
              " ('C00127', 13),\n",
              " ('C00128', 13),\n",
              " ('C00129', 13),\n",
              " ('C00130', 13),\n",
              " ('C00131', 13),\n",
              " ('C00132', 13),\n",
              " ('C00133', 13),\n",
              " ('C00134', 13),\n",
              " ('C00135', 13),\n",
              " ('C00136', 13),\n",
              " ('C00137', 13),\n",
              " ('C00138', 13),\n",
              " ('C00139', 13),\n",
              " ('C00140', 13),\n",
              " ('C00141', 10),\n",
              " ('C00142', 13),\n",
              " ('C00143', 13),\n",
              " ('C00144', 13),\n",
              " ('C00145', 13),\n",
              " ('C00146', 13),\n",
              " ('C00147', 13),\n",
              " ('C00148', 13),\n",
              " ('C00149', 13),\n",
              " ('C00150', 13),\n",
              " ('C00151', 13),\n",
              " ('C00152', 13),\n",
              " ('C00153', 13),\n",
              " ('C00154', 13),\n",
              " ('C00155', 13),\n",
              " ('C00156', 13),\n",
              " ('C00157', 13),\n",
              " ('C00158', 13),\n",
              " ('C00159', 13),\n",
              " ('C00160', 13),\n",
              " ('C00161', 13),\n",
              " ('C00162', 13),\n",
              " ('C00163', 13),\n",
              " ('C00164', 13),\n",
              " ('C00165', 13),\n",
              " ('C00166', 13),\n",
              " ('C00167', 13),\n",
              " ('C00168', 13),\n",
              " ('C00169', 13),\n",
              " ('C00170', 13),\n",
              " ('C00171', 13),\n",
              " ('C00172', 13),\n",
              " ('C00173', 13),\n",
              " ('C00174', 13),\n",
              " ('C00175', 13),\n",
              " ('C00176', 13),\n",
              " ('C00177', 13),\n",
              " ('C00178', 13),\n",
              " ('C00179', 20),\n",
              " ('C00180', 20),\n",
              " ('C00181', 20),\n",
              " ('C00182', 13),\n",
              " ('C00183', 13),\n",
              " ('C00184', 13),\n",
              " ('C00185', 13),\n",
              " ('C00186', 13),\n",
              " ('C00187', 13),\n",
              " ('C00188', 13),\n",
              " ('C00189', 13),\n",
              " ('C00190', 13),\n",
              " ('C00191', 13),\n",
              " ('C00192', 13),\n",
              " ('C00193', 13),\n",
              " ('C00194', 13),\n",
              " ('C00195', 13)]"
            ]
          },
          "metadata": {
            "tags": []
          },
          "execution_count": 19
        }
      ]
    },
    {
      "cell_type": "code",
      "metadata": {
        "id": "WkBw_Prk-lU_"
      },
      "source": [
        "check = []\n",
        "for id,_group in df_out:\n",
        "  if _group != max_key:\n",
        "    check.append([id,_group])"
      ],
      "execution_count": 20,
      "outputs": []
    },
    {
      "cell_type": "code",
      "metadata": {
        "colab": {
          "base_uri": "https://localhost:8080/"
        },
        "id": "awEvAt0m-NYC",
        "outputId": "8d8a8bc9-e120-4dc8-87c0-6d201427129a"
      },
      "source": [
        "check"
      ],
      "execution_count": 21,
      "outputs": [
        {
          "output_type": "execute_result",
          "data": {
            "text/plain": [
              "[['C00040', 15],\n",
              " ['C00141', 10],\n",
              " ['C00179', 20],\n",
              " ['C00180', 20],\n",
              " ['C00181', 20]]"
            ]
          },
          "metadata": {
            "tags": []
          },
          "execution_count": 21
        }
      ]
    },
    {
      "cell_type": "code",
      "metadata": {
        "colab": {
          "base_uri": "https://localhost:8080/"
        },
        "id": "hoSzyMcvEcDa",
        "outputId": "fabd204e-540d-41c9-b553-d6e9f56c513f"
      },
      "source": [
        "for id,_group in check:\n",
        "  v = df.loc[df_old['CustomID'] == id]\n",
        "  print(id,v)"
      ],
      "execution_count": 24,
      "outputs": [
        {
          "output_type": "stream",
          "text": [
            "C00040     A  B  C  D  A1  A2  A3  A4  B1  B2  B3  B4  C1  D1  D2\n",
            "39  0  0  0  0   0   0   1   0   0   1   0   1   1   1   0\n",
            "C00141      A  B  C  D  A1  A2  A3  A4  B1  B2  B3  B4  C1  D1  D2\n",
            "140  0  0  0  0   0   0   0   1   1   1   1   1   1   1   1\n",
            "C00179      A  B  C  D  A1  A2  A3  A4  B1  B2  B3  B4  C1  D1  D2\n",
            "178  0  0  0  0   0   0   1   0   1   0   1   0   1   1   1\n",
            "C00180      A  B  C  D  A1  A2  A3  A4  B1  B2  B3  B4  C1  D1  D2\n",
            "179  0  0  0  0   0   1   1   0   1   0   1   0   1   1   1\n",
            "C00181      A  B  C  D  A1  A2  A3  A4  B1  B2  B3  B4  C1  D1  D2\n",
            "180  0  0  0  0   0   0   1   0   1   0   1   0   1   1   1\n"
          ],
          "name": "stdout"
        }
      ]
    },
    {
      "cell_type": "code",
      "metadata": {
        "id": "9053lWGWFYUL"
      },
      "source": [
        ""
      ],
      "execution_count": null,
      "outputs": []
    }
  ]
}