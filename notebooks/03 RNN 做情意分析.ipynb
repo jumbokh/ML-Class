{
  "nbformat": 4,
  "nbformat_minor": 0,
  "metadata": {
    "kernelspec": {
      "display_name": "Python 3",
      "language": "python",
      "name": "python3"
    },
    "language_info": {
      "codemirror_mode": {
        "name": "ipython",
        "version": 3
      },
      "file_extension": ".py",
      "mimetype": "text/x-python",
      "name": "python",
      "nbconvert_exporter": "python",
      "pygments_lexer": "ipython3",
      "version": "3.7.3"
    },
    "colab": {
      "name": "03 RNN 做情意分析.ipynb",
      "provenance": []
    }
  },
  "cells": [
    {
      "cell_type": "code",
      "metadata": {
        "id": "WntIBzjSd198"
      },
      "source": [
        "%matplotlib inline\n",
        "\n",
        "import numpy as np\n",
        "import matplotlib.pyplot as plt\n",
        "import pandas as pd"
      ],
      "execution_count": null,
      "outputs": []
    },
    {
      "cell_type": "markdown",
      "metadata": {
        "id": "sxIw1cPad1-H"
      },
      "source": [
        "### 1. 讀入深度學習套件"
      ]
    },
    {
      "cell_type": "code",
      "metadata": {
        "id": "CHTLzsBqd1-K"
      },
      "source": [
        "from tensorflow.keras.preprocessing import sequence\n",
        "from tensorflow.keras.models import Sequential\n",
        "from tensorflow.keras.layers import Dense, Embedding\n",
        "from tensorflow.keras.layers import LSTM\n",
        "from tensorflow.keras.datasets import imdb"
      ],
      "execution_count": null,
      "outputs": []
    },
    {
      "cell_type": "markdown",
      "metadata": {
        "id": "fKTHpkAvd1-M"
      },
      "source": [
        "### 2. 讀入數據"
      ]
    },
    {
      "cell_type": "code",
      "metadata": {
        "id": "w4QoUPlzd1-O"
      },
      "source": [
        "(x_train, y_train), (x_test, y_test) = imdb.load_data(num_words=10000)"
      ],
      "execution_count": null,
      "outputs": []
    },
    {
      "cell_type": "code",
      "metadata": {
        "id": "AS0A-ZePd1-P",
        "outputId": "8500ffb0-4088-436b-af53-1596317a203f"
      },
      "source": [
        "len(x_train)"
      ],
      "execution_count": null,
      "outputs": [
        {
          "data": {
            "text/plain": [
              "25000"
            ]
          },
          "execution_count": 4,
          "metadata": {},
          "output_type": "execute_result"
        }
      ]
    },
    {
      "cell_type": "code",
      "metadata": {
        "id": "8mpWID_Gd1-S",
        "outputId": "21a02d04-4bb7-45f2-8a1c-7b80b27471f1"
      },
      "source": [
        "len(x_test)"
      ],
      "execution_count": null,
      "outputs": [
        {
          "data": {
            "text/plain": [
              "25000"
            ]
          },
          "execution_count": 5,
          "metadata": {},
          "output_type": "execute_result"
        }
      ]
    },
    {
      "cell_type": "code",
      "metadata": {
        "id": "vR77WSTLd1-U",
        "outputId": "a13bb49d-b63d-4023-df9d-a8dff4ae41c7"
      },
      "source": [
        "len(x_train[0])"
      ],
      "execution_count": null,
      "outputs": [
        {
          "data": {
            "text/plain": [
              "218"
            ]
          },
          "execution_count": 6,
          "metadata": {},
          "output_type": "execute_result"
        }
      ]
    },
    {
      "cell_type": "code",
      "metadata": {
        "id": "HP3qmlBUd1-V",
        "outputId": "240c311e-8bd0-465a-d00a-5bf432600c08"
      },
      "source": [
        "len(x_train[1])"
      ],
      "execution_count": null,
      "outputs": [
        {
          "data": {
            "text/plain": [
              "189"
            ]
          },
          "execution_count": 7,
          "metadata": {},
          "output_type": "execute_result"
        }
      ]
    },
    {
      "cell_type": "code",
      "metadata": {
        "id": "NYHK8LdXd1-W",
        "outputId": "d76b32c5-1057-468f-cab4-5d77a303cb25"
      },
      "source": [
        "y_train[0]"
      ],
      "execution_count": null,
      "outputs": [
        {
          "data": {
            "text/plain": [
              "1"
            ]
          },
          "execution_count": 8,
          "metadata": {},
          "output_type": "execute_result"
        }
      ]
    },
    {
      "cell_type": "code",
      "metadata": {
        "id": "UFj_8ST4d1-X",
        "outputId": "091b8c5d-a4db-49dc-b8be-22301daf770a"
      },
      "source": [
        "y_train[1]"
      ],
      "execution_count": null,
      "outputs": [
        {
          "data": {
            "text/plain": [
              "0"
            ]
          },
          "execution_count": 9,
          "metadata": {},
          "output_type": "execute_result"
        }
      ]
    },
    {
      "cell_type": "markdown",
      "metadata": {
        "id": "aBu-rzcBd1-Y"
      },
      "source": [
        "### 3. 資料處理"
      ]
    },
    {
      "cell_type": "code",
      "metadata": {
        "id": "OEjHgBOKd1-Y"
      },
      "source": [
        "x_train = sequence.pad_sequences(x_train, maxlen=100)\n",
        "x_test = sequence.pad_sequences(x_test, maxlen=100)"
      ],
      "execution_count": null,
      "outputs": []
    },
    {
      "cell_type": "markdown",
      "metadata": {
        "id": "yXiHCO74d1-Z"
      },
      "source": [
        "### 4. step 01: 打造一個函數學習機"
      ]
    },
    {
      "cell_type": "code",
      "metadata": {
        "id": "kB0FKyBCd1-Z"
      },
      "source": [
        "model = Sequential()"
      ],
      "execution_count": null,
      "outputs": []
    },
    {
      "cell_type": "code",
      "metadata": {
        "id": "C7hiRGzid1-a"
      },
      "source": [
        "model.add(Embedding(10000, 128))"
      ],
      "execution_count": null,
      "outputs": []
    },
    {
      "cell_type": "code",
      "metadata": {
        "id": "ZlbFJdqfd1-a"
      },
      "source": [
        "model.add(LSTM(128, dropout=0.2, recurrent_dropout=0.2))"
      ],
      "execution_count": null,
      "outputs": []
    },
    {
      "cell_type": "code",
      "metadata": {
        "id": "iRZNOnE-d1-b"
      },
      "source": [
        "model.add(Dense(1, activation='sigmoid'))"
      ],
      "execution_count": null,
      "outputs": []
    },
    {
      "cell_type": "code",
      "metadata": {
        "id": "bfJAzQ_kd1-b"
      },
      "source": [
        "model.compile(loss='binary_crossentropy',\n",
        "             optimizer='adam',\n",
        "             metrics=['accuracy'])"
      ],
      "execution_count": null,
      "outputs": []
    },
    {
      "cell_type": "code",
      "metadata": {
        "id": "ThASFQ87d1-c",
        "outputId": "7ba0e3ee-566a-4a4e-82c6-5628d8270243"
      },
      "source": [
        "model.summary()"
      ],
      "execution_count": null,
      "outputs": [
        {
          "name": "stdout",
          "output_type": "stream",
          "text": [
            "Model: \"sequential\"\n",
            "_________________________________________________________________\n",
            "Layer (type)                 Output Shape              Param #   \n",
            "=================================================================\n",
            "embedding (Embedding)        (None, None, 128)         1280000   \n",
            "_________________________________________________________________\n",
            "lstm (LSTM)                  (None, 128)               131584    \n",
            "_________________________________________________________________\n",
            "dense (Dense)                (None, 1)                 129       \n",
            "=================================================================\n",
            "Total params: 1,411,713\n",
            "Trainable params: 1,411,713\n",
            "Non-trainable params: 0\n",
            "_________________________________________________________________\n"
          ]
        }
      ]
    },
    {
      "cell_type": "markdown",
      "metadata": {
        "id": "3GxZbYhyd1-c"
      },
      "source": [
        "### 5. step 02: 訓練"
      ]
    },
    {
      "cell_type": "code",
      "metadata": {
        "id": "xMHxAsA6d1-d",
        "outputId": "dad7a7da-6ee3-403a-b7c4-b120cef5c439"
      },
      "source": [
        "model.fit(x_train, y_train, batch_size=32, epochs=10,\n",
        "         validation_data=(x_test, y_test))"
      ],
      "execution_count": null,
      "outputs": [
        {
          "name": "stdout",
          "output_type": "stream",
          "text": [
            "Train on 25000 samples, validate on 25000 samples\n",
            "Epoch 1/10\n",
            "25000/25000 [==============================] - 56s 2ms/sample - loss: 0.4650 - accuracy: 0.7825 - val_loss: 0.3699 - val_accuracy: 0.8407\n",
            "Epoch 2/10\n",
            "25000/25000 [==============================] - 55s 2ms/sample - loss: 0.3338 - accuracy: 0.8605 - val_loss: 0.3968 - val_accuracy: 0.8246\n",
            "Epoch 3/10\n",
            "25000/25000 [==============================] - 55s 2ms/sample - loss: 0.2651 - accuracy: 0.8946 - val_loss: 0.3817 - val_accuracy: 0.8421\n",
            "Epoch 4/10\n",
            "25000/25000 [==============================] - 55s 2ms/sample - loss: 0.2111 - accuracy: 0.9174 - val_loss: 0.4227 - val_accuracy: 0.8417\n",
            "Epoch 5/10\n",
            "25000/25000 [==============================] - 55s 2ms/sample - loss: 0.1767 - accuracy: 0.9317 - val_loss: 0.4423 - val_accuracy: 0.8346\n",
            "Epoch 6/10\n",
            "25000/25000 [==============================] - 55s 2ms/sample - loss: 0.1407 - accuracy: 0.9488 - val_loss: 0.5240 - val_accuracy: 0.8298\n",
            "Epoch 7/10\n",
            "25000/25000 [==============================] - 54s 2ms/sample - loss: 0.1140 - accuracy: 0.9600 - val_loss: 0.5509 - val_accuracy: 0.8305\n",
            "Epoch 8/10\n",
            "25000/25000 [==============================] - 54s 2ms/sample - loss: 0.0905 - accuracy: 0.9678 - val_loss: 0.5966 - val_accuracy: 0.8280\n",
            "Epoch 9/10\n",
            "25000/25000 [==============================] - 54s 2ms/sample - loss: 0.0735 - accuracy: 0.9745 - val_loss: 0.6462 - val_accuracy: 0.8071\n",
            "Epoch 10/10\n",
            "25000/25000 [==============================] - 53s 2ms/sample - loss: 0.0537 - accuracy: 0.9820 - val_loss: 0.6997 - val_accuracy: 0.8206\n"
          ]
        },
        {
          "data": {
            "text/plain": [
              "<tensorflow.python.keras.callbacks.History at 0x7ff0ae1d90f0>"
            ]
          },
          "execution_count": 17,
          "metadata": {},
          "output_type": "execute_result"
        }
      ]
    },
    {
      "cell_type": "markdown",
      "metadata": {
        "id": "Jf3Dt0W5d1-d"
      },
      "source": [
        "### 換個存檔方式\n",
        "\n",
        "這次是把 model 和訓練權重分開存, 使用上更有彈性。"
      ]
    },
    {
      "cell_type": "code",
      "metadata": {
        "id": "bCD3Oined1-e"
      },
      "source": [
        "model_json = model.to_json()\n",
        "open('imdb_model_architecture.json', 'w').write(model_json)\n",
        "model.save_weights('imdb_model_weights.h5')"
      ],
      "execution_count": null,
      "outputs": []
    }
  ]
}