{
  "nbformat": 4,
  "nbformat_minor": 0,
  "metadata": {
    "kernelspec": {
      "display_name": "Python 3",
      "language": "python",
      "name": "python3"
    },
    "language_info": {
      "codemirror_mode": {
        "name": "ipython",
        "version": 3
      },
      "file_extension": ".py",
      "mimetype": "text/x-python",
      "name": "python",
      "nbconvert_exporter": "python",
      "pygments_lexer": "ipython3",
      "version": "3.6.6"
    },
    "colab": {
      "name": "5-3 TripAdvisor.ipynb",
      "provenance": [],
      "include_colab_link": true
    }
  },
  "cells": [
    {
      "cell_type": "markdown",
      "metadata": {
        "id": "view-in-github",
        "colab_type": "text"
      },
      "source": [
        "<a href=\"https://colab.research.google.com/github/jumbokh/ML-Class/blob/main/notebooks/5_3_TripAdvisor.ipynb\" target=\"_parent\"><img src=\"https://colab.research.google.com/assets/colab-badge.svg\" alt=\"Open In Colab\"/></a>"
      ]
    },
    {
      "cell_type": "markdown",
      "metadata": {
        "id": "mmclGOQEzQCE"
      },
      "source": [
        "## 作業\n",
        "1. 如果只用title這個欄位來預測消費者滿意或不滿意的正確率會是如何？請特別留意類別0的召回率情況。"
      ]
    },
    {
      "cell_type": "code",
      "metadata": {
        "id": "zttzdZBYzQCK"
      },
      "source": [
        "import pandas as pd\n",
        "import numpy as np\n",
        "import matplotlib.pyplot as plt\n",
        "import seaborn as sns\n",
        "%matplotlib inline\n",
        "plt.rcParams['font.sans-serif'] = ['DFKai-sb'] \n",
        "plt.rcParams['axes.unicode_minus'] = False\n",
        "%config InlineBackend.figure_format = 'retina'\n",
        "import warnings\n",
        "warnings.filterwarnings('ignore')\n",
        "\n",
        "df = pd.read_excel('tripadvisor.xlsx', parse_dates=['date'])\n",
        "import jieba\n",
        "# 載入繁體字典\n",
        "jieba.set_dictionary('dict.txt.big')\n",
        "df['rating'] = (df['rating'] > 3).map({True:1 , False:0})\n",
        "\n",
        "def preprocessor(s):\n",
        "    return ' '.join(jieba.cut(s))\n",
        "\n",
        "from sklearn.naive_bayes import MultinomialNB\n",
        "from sklearn.pipeline import make_pipeline\n",
        "from sklearn.feature_extraction.text import CountVectorizer\n",
        "from sklearn.model_selection import train_test_split\n",
        "from sklearn.metrics import confusion_matrix, accuracy_score, classification_report\n",
        "\n",
        "with open('stop.text','r', encoding='utf-8') as f:\n",
        "    stops = f.read()\n",
        "stops = stops.split('\\n')"
      ],
      "execution_count": 1,
      "outputs": []
    },
    {
      "cell_type": "code",
      "metadata": {
        "colab": {
          "base_uri": "https://localhost:8080/"
        },
        "id": "Vl9HMJwmzQCM",
        "outputId": "3d8787e7-8b6d-4849-f76b-d876fe27e88b"
      },
      "source": [
        "from sklearn.compose import ColumnTransformer\n",
        "y = df['rating']\n",
        "X = df[['title', 'content']]\n",
        "cv = CountVectorizer(preprocessor=preprocessor,    \n",
        "    token_pattern='(?u)\\\\b\\\\w+\\\\b',\n",
        "    stop_words=stops)\n",
        "data_pl = ColumnTransformer([\n",
        "    ('title', cv, 'title'),\n",
        "])\n",
        "\n",
        "X_train, X_test, y_train, y_test = train_test_split(X, y, test_size=0.2, random_state=42)\n",
        "model_pl = make_pipeline(data_pl, \n",
        "                         MultinomialNB())\n",
        "model_pl.fit(X_train, y_train)\n",
        "y_pred = model_pl.predict(X_test)\n",
        "score = model_pl.score(X_test, y_test)\n",
        "print('測試集的結果', score.round(3))\n",
        "print(confusion_matrix(y_test, y_pred))\n",
        "print('綜合報告')\n",
        "print(classification_report(y_test, y_pred))"
      ],
      "execution_count": 2,
      "outputs": [
        {
          "output_type": "stream",
          "text": [
            "Building prefix dict from /content/dict.txt.big ...\n",
            "Dumping model to file cache /tmp/jieba.u501edca284da514cb68b53a20324f4e3.cache\n",
            "Loading model cost 1.699 seconds.\n",
            "Prefix dict has been built successfully.\n"
          ],
          "name": "stderr"
        },
        {
          "output_type": "stream",
          "text": [
            "測試集的結果 0.83\n",
            "[[  8  79]\n",
            " [  8 417]]\n",
            "綜合報告\n",
            "              precision    recall  f1-score   support\n",
            "\n",
            "           0       0.50      0.09      0.16        87\n",
            "           1       0.84      0.98      0.91       425\n",
            "\n",
            "    accuracy                           0.83       512\n",
            "   macro avg       0.67      0.54      0.53       512\n",
            "weighted avg       0.78      0.83      0.78       512\n",
            "\n"
          ],
          "name": "stdout"
        }
      ]
    },
    {
      "cell_type": "markdown",
      "metadata": {
        "id": "jHW2h1l2zQCO"
      },
      "source": [
        "2. 請用向下取樣的做法，將整個結果再做一次"
      ]
    },
    {
      "cell_type": "code",
      "metadata": {
        "colab": {
          "base_uri": "https://localhost:8080/"
        },
        "id": "zIvJH6bNzQCP",
        "outputId": "317aa1bb-c9d0-42b7-8d56-61d39c198a01"
      },
      "source": [
        "X = df[['title', 'content']]\n",
        "cv = CountVectorizer(preprocessor=preprocessor,    \n",
        "    token_pattern='(?u)\\\\b\\\\w+\\\\b',\n",
        "    stop_words=stops)\n",
        "data_pl = ColumnTransformer([\n",
        "    ('title', cv, 'title'),\n",
        "])\n",
        "\n",
        "from imblearn.under_sampling import RandomUnderSampler\n",
        "from imblearn.pipeline import make_pipeline\n",
        "\n",
        "X_train, X_test, y_train, y_test = train_test_split(X, y, test_size=0.2, random_state=42)\n",
        "model_pl = make_pipeline(data_pl, \n",
        "                         RandomUnderSampler(),\n",
        "                         MultinomialNB())\n",
        "model_pl.fit(X_train, y_train)\n",
        "y_pred = model_pl.predict(X_test)\n",
        "score = model_pl.score(X_test, y_test)\n",
        "print('測試集的結果', score.round(3))\n",
        "print(confusion_matrix(y_test, y_pred))\n",
        "print('綜合報告')\n",
        "print(classification_report(y_test, y_pred))"
      ],
      "execution_count": 3,
      "outputs": [
        {
          "output_type": "stream",
          "text": [
            "測試集的結果 0.74\n",
            "[[ 51  36]\n",
            " [ 97 328]]\n",
            "綜合報告\n",
            "              precision    recall  f1-score   support\n",
            "\n",
            "           0       0.34      0.59      0.43        87\n",
            "           1       0.90      0.77      0.83       425\n",
            "\n",
            "    accuracy                           0.74       512\n",
            "   macro avg       0.62      0.68      0.63       512\n",
            "weighted avg       0.81      0.74      0.76       512\n",
            "\n"
          ],
          "name": "stdout"
        }
      ]
    }
  ]
}