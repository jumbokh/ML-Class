{
  "nbformat": 4,
  "nbformat_minor": 0,
  "metadata": {
    "colab": {
      "name": "imdb-ana.v2ipynb",
      "provenance": [],
      "collapsed_sections": [],
      "include_colab_link": true
    },
    "kernelspec": {
      "name": "python3",
      "display_name": "Python 3"
    },
    "language_info": {
      "name": "python"
    },
    "accelerator": "GPU"
  },
  "cells": [
    {
      "cell_type": "markdown",
      "metadata": {
        "id": "view-in-github",
        "colab_type": "text"
      },
      "source": [
        "<a href=\"https://colab.research.google.com/github/jumbokh/ML-Class/blob/main/imdb_ana_v2-1.ipynb\" target=\"_parent\"><img src=\"https://colab.research.google.com/assets/colab-badge.svg\" alt=\"Open In Colab\"/></a>"
      ]
    },
    {
      "cell_type": "code",
      "metadata": {
        "colab": {
          "base_uri": "https://localhost:8080/"
        },
        "id": "0wm4d3-ZD7Gr",
        "outputId": "5103dbb8-4a24-4dc0-f336-c3afd45d1ea8"
      },
      "source": [
        "from tensorflow.keras.datasets import imdb    #← 從 keras.datasets 套件中匯入 imdb\n",
        "(a_train, b_train),(a_test, b_test)= imdb.load_data(num_words=10000) # 載入 IMDB"
      ],
      "execution_count": null,
      "outputs": [
        {
          "output_type": "stream",
          "text": [
            "<string>:6: VisibleDeprecationWarning: Creating an ndarray from ragged nested sequences (which is a list-or-tuple of lists-or-tuples-or ndarrays with different lengths or shapes) is deprecated. If you meant to do this, you must specify 'dtype=object' when creating the ndarray\n",
            "/usr/local/lib/python3.7/dist-packages/tensorflow/python/keras/datasets/imdb.py:159: VisibleDeprecationWarning: Creating an ndarray from ragged nested sequences (which is a list-or-tuple of lists-or-tuples-or ndarrays with different lengths or shapes) is deprecated. If you meant to do this, you must specify 'dtype=object' when creating the ndarray\n",
            "  x_train, y_train = np.array(xs[:idx]), np.array(labels[:idx])\n",
            "/usr/local/lib/python3.7/dist-packages/tensorflow/python/keras/datasets/imdb.py:160: VisibleDeprecationWarning: Creating an ndarray from ragged nested sequences (which is a list-or-tuple of lists-or-tuples-or ndarrays with different lengths or shapes) is deprecated. If you meant to do this, you must specify 'dtype=object' when creating the ndarray\n",
            "  x_test, y_test = np.array(xs[idx:]), np.array(labels[idx:])\n"
          ],
          "name": "stderr"
        }
      ]
    },
    {
      "cell_type": "code",
      "metadata": {
        "id": "_TBFv-RAEAuQ"
      },
      "source": [
        "from tensorflow.keras.preprocessing.text import Tokenizer\n",
        "\n",
        "tok = Tokenizer(num_words=10000)           #←指定字典的總字數\n",
        "x_train = tok.sequences_to_matrix(a_train) #←將訓練樣本做 k-hot 編碼\n",
        "x_test  = tok.sequences_to_matrix(a_test)  #←將測試樣本做 k-hot 編碼\n",
        "\n",
        "y_train = b_train.astype('float32')   #←將訓練標籤轉為浮點向量\n",
        "y_test  = b_test.astype('float32')    #←將測試標籤轉為浮點向量"
      ],
      "execution_count": null,
      "outputs": []
    },
    {
      "cell_type": "code",
      "metadata": {
        "id": "70x61TuzEHlY"
      },
      "source": [
        "from tensorflow.keras.models import Sequential\n",
        "from tensorflow.keras.layers import Dense\n",
        "from tensorflow import keras\n",
        "from tensorflow.keras import layers\n",
        "model = Sequential()                       #←建立模型物件\n",
        "model.add(Dense(16, activation='relu', input_dim=10000))  #←輸入層\n",
        "model.add(layers.Dropout(0.3))\n",
        "#model.add(Dense(8,kernel_regularizer=keras.regularizers.l2(0.001), activation='relu'))    #←隱藏層\n",
        "model.add(layers.Dropout(0.3))\n",
        "model.add(Dense(16, activation='relu'))    #←隱藏層\n",
        "model.add(Dense(1, activation='sigmoid'))  #←輸出層"
      ],
      "execution_count": null,
      "outputs": []
    },
    {
      "cell_type": "code",
      "metadata": {
        "id": "og_OZQMAEM2u"
      },
      "source": [
        "model.compile(loss='binary_crossentropy',\n",
        "              optimizer='rmsprop',\n",
        "              metrics=['acc'])"
      ],
      "execution_count": null,
      "outputs": []
    },
    {
      "cell_type": "code",
      "metadata": {
        "colab": {
          "base_uri": "https://localhost:8080/"
        },
        "id": "aTl0QQMxEQho",
        "outputId": "73ca5345-7678-43ca-9f43-ad1e49fa2e7d"
      },
      "source": [
        "history = model.fit(x_train, y_train,\n",
        "                    batch_size=512,  #←每批次 512 筆樣本\n",
        "                    epochs=6,       #←共訓練 10 週期\n",
        "                    verbose = 2,     #←顯示精簡訊息 (無進度條)\n",
        "                    validation_split=0.2)\n",
        "                             #↑由訓練資料後面切出 20% 做為驗證用"
      ],
      "execution_count": null,
      "outputs": [
        {
          "output_type": "stream",
          "text": [
            "Epoch 1/6\n",
            "40/40 - 2s - loss: 0.5562 - acc: 0.7409 - val_loss: 0.4153 - val_acc: 0.8644\n",
            "Epoch 2/6\n",
            "40/40 - 1s - loss: 0.3863 - acc: 0.8522 - val_loss: 0.3229 - val_acc: 0.8836\n",
            "Epoch 3/6\n",
            "40/40 - 1s - loss: 0.3048 - acc: 0.8873 - val_loss: 0.2898 - val_acc: 0.8886\n",
            "Epoch 4/6\n",
            "40/40 - 1s - loss: 0.2565 - acc: 0.9070 - val_loss: 0.2678 - val_acc: 0.8926\n",
            "Epoch 5/6\n",
            "40/40 - 1s - loss: 0.2189 - acc: 0.9207 - val_loss: 0.2680 - val_acc: 0.8936\n",
            "Epoch 6/6\n",
            "40/40 - 0s - loss: 0.1891 - acc: 0.9304 - val_loss: 0.2815 - val_acc: 0.8946\n"
          ],
          "name": "stdout"
        }
      ]
    },
    {
      "cell_type": "code",
      "metadata": {
        "colab": {
          "base_uri": "https://localhost:8080/"
        },
        "id": "LCdHvXeRUxKS",
        "outputId": "9c556575-fc5e-41cb-99eb-80c7dbc2dc9e"
      },
      "source": [
        "results = model.evaluate(x_test, y_test)"
      ],
      "execution_count": null,
      "outputs": [
        {
          "output_type": "stream",
          "text": [
            "782/782 [==============================] - 2s 2ms/step - loss: 0.2991 - acc: 0.8850\n"
          ],
          "name": "stdout"
        }
      ]
    },
    {
      "cell_type": "code",
      "metadata": {
        "colab": {
          "base_uri": "https://localhost:8080/"
        },
        "id": "KcBh2Bg5U3fD",
        "outputId": "de257aa8-341c-4a02-c129-374a6b3a8f3c"
      },
      "source": [
        "results"
      ],
      "execution_count": null,
      "outputs": [
        {
          "output_type": "execute_result",
          "data": {
            "text/plain": [
              "[0.29910939931869507, 0.8849599957466125]"
            ]
          },
          "metadata": {
            "tags": []
          },
          "execution_count": 7
        }
      ]
    },
    {
      "cell_type": "code",
      "metadata": {
        "colab": {
          "base_uri": "https://localhost:8080/"
        },
        "id": "cBg7Xyi3FuB0",
        "outputId": "917dddb7-9990-4fc1-979b-67fb5ff0af85"
      },
      "source": [
        "history_dict = history.history\n",
        "history_dict.keys()"
      ],
      "execution_count": null,
      "outputs": [
        {
          "output_type": "execute_result",
          "data": {
            "text/plain": [
              "dict_keys(['loss', 'acc', 'val_loss', 'val_acc'])"
            ]
          },
          "metadata": {
            "tags": []
          },
          "execution_count": 8
        }
      ]
    },
    {
      "cell_type": "code",
      "metadata": {
        "colab": {
          "base_uri": "https://localhost:8080/",
          "height": 295
        },
        "id": "IWoTdMn9FqQn",
        "outputId": "b74e7cfd-41ad-4b5e-dc7b-0d4682d71ca1"
      },
      "source": [
        "import matplotlib.pyplot as plt\n",
        "\n",
        "acc = history.history['acc']\n",
        "val_acc = history.history['val_acc']\n",
        "loss = history.history['loss']\n",
        "val_loss = history.history['val_loss']\n",
        "\n",
        "epochs = range(1, len(acc) + 1)\n",
        "\n",
        "# \"bo\" is for \"blue dot\"\n",
        "plt.plot(epochs, loss, 'bo', label='Training loss')\n",
        "# b is for \"solid blue line\"\n",
        "plt.plot(epochs, val_loss, 'b', label='Validation loss')\n",
        "plt.title('Training and validation loss')\n",
        "plt.xlabel('Epochs')\n",
        "plt.ylabel('Loss')\n",
        "plt.legend()\n",
        "\n",
        "plt.show()"
      ],
      "execution_count": null,
      "outputs": [
        {
          "output_type": "display_data",
          "data": {
            "image/png": "[encoded data removed]",
            "text/plain": [
              "<Figure size 432x288 with 1 Axes>"
            ]
          },
          "metadata": {
            "tags": [],
            "needs_background": "light"
          }
        }
      ]
    },
    {
      "cell_type": "code",
      "metadata": {
        "colab": {
          "base_uri": "https://localhost:8080/",
          "height": 295
        },
        "id": "4w4sZydQHRUa",
        "outputId": "3e99c552-60a3-489a-bdd5-ac7c3c948ae0"
      },
      "source": [
        "plt.clf()   # clear figure\n",
        "acc_values = history_dict['acc']\n",
        "val_acc_values = history_dict['val_acc']\n",
        "\n",
        "plt.plot(epochs, acc, 'bo', label='Training acc')\n",
        "plt.plot(epochs, val_acc, 'b', label='Validation acc')\n",
        "plt.title('Training and validation accuracy')\n",
        "plt.xlabel('Epochs')\n",
        "plt.ylabel('Loss')\n",
        "plt.legend()\n",
        "\n",
        "plt.show()"
      ],
      "execution_count": null,
      "outputs": [
        {
          "output_type": "display_data",
          "data": {
            "image/png": "[encoded data removed]",
            "text/plain": [
              "<Figure size 432x288 with 1 Axes>"
            ]
          },
          "metadata": {
            "tags": [],
            "needs_background": "light"
          }
        }
      ]
    },
    {
      "cell_type": "code",
      "metadata": {
        "id": "2KROpB_hxOTL"
      },
      "source": [
        "model.save_weights('IMDB.weight')"
      ],
      "execution_count": null,
      "outputs": []
    }
  ]
}