{
  "nbformat": 4,
  "nbformat_minor": 0,
  "metadata": {
    "kernelspec": {
      "display_name": "Python 3",
      "language": "python",
      "name": "python3"
    },
    "language_info": {
      "codemirror_mode": {
        "name": "ipython",
        "version": 3
      },
      "file_extension": ".py",
      "mimetype": "text/x-python",
      "name": "python",
      "nbconvert_exporter": "python",
      "pygments_lexer": "ipython3",
      "version": "3.7.4"
    },
    "colab": {
      "name": "DL_TF2-Ch05-Workshop-CNNs-MNIST_Digit Recognition.ipynb",
      "provenance": []
    },
    "accelerator": "GPU"
  },
  "cells": [
    {
      "cell_type": "markdown",
      "metadata": {
        "id": "JHNGBkqVmfnY"
      },
      "source": [
        "# Ch 5. Workshop : CNNs - MNIST - Digit Recognition\n",
        "2020/02/04\n",
        "\n",
        "> **[ Reference ] :**\n",
        "+ FRANÇOIS CHOLLET, **Deep Learning with Python**, Chapter 5, Section 1, Manning, 2018. \n",
        "  (https://tanthiamhuat.files.wordpress.com/2018/03/deeplearningwithpython.pdf)\n",
        "+ 李飛飛教授：Convolutional Neural Networks (教學投影片)\n",
        "  (http://cs231n.stanford.edu/slides/2017/cs231n_2017_lecture5.pdf)\n",
        "+ 李飛飛教授：Convolutional Neural Networks (CNNs / ConvNets)\n",
        "  (https://cs231n.github.io/convolutional-networks/)\n",
        "+ `tf.keras.layers.Conv2D`\n",
        "  (https://www.tensorflow.org/api_docs/python/tf/keras/layers/Conv2D)\n",
        "  \n",
        "----"
      ]
    },
    {
      "cell_type": "code",
      "metadata": {
        "colab": {
          "base_uri": "https://localhost:8080/",
          "height": 35
        },
        "id": "ULxEW52Amfnd",
        "outputId": "f04894eb-064a-4fc8-9714-d8096b482b61"
      },
      "source": [
        "import tensorflow as tf\n",
        "\n",
        "tf.__version__"
      ],
      "execution_count": 1,
      "outputs": [
        {
          "output_type": "execute_result",
          "data": {
            "application/vnd.google.colaboratory.intrinsic+json": {
              "type": "string"
            },
            "text/plain": [
              "'2.4.1'"
            ]
          },
          "metadata": {
            "tags": []
          },
          "execution_count": 1
        }
      ]
    },
    {
      "cell_type": "markdown",
      "metadata": {
        "collapsed": true,
        "id": "y-NR69k1mfnf"
      },
      "source": [
        "### Using Convnet (Convolutional Neural Network, CNN) to classify MNIST digits :\n",
        "\n",
        "+ **The 6 lines of code below show you what a basic convnet looks like. It's a stack of `Conv2D` and `MaxPooling2D` layers.** \n",
        "+ Importantly, a convnet takes as input tensors of shape `(image_height, image_width, image_channels)` (not including the batch dimension). \n",
        "+ In our case, we will configure our convnet to process inputs of size `(28, 28, 1)`, which is the format of MNIST images. We do this via passing the argument `input_shape=(28, 28, 1)` to our first layer."
      ]
    },
    {
      "cell_type": "code",
      "metadata": {
        "id": "kG4eyp-jmfnf"
      },
      "source": [
        "from tensorflow.keras import models, layers\n",
        "\n",
        "model = models.Sequential()\n",
        "model.add(layers.Conv2D(32, (3, 3), activation='relu', input_shape=(28, 28, 1), padding='same'))\n",
        "model.add(layers.MaxPooling2D((2, 2)))\n",
        "model.add(layers.Conv2D(64, (3, 3), activation='relu'))\n",
        "model.add(layers.MaxPooling2D((2, 2)))\n",
        "model.add(layers.Conv2D(64, (3, 3), activation='relu'))\n",
        "model.add(layers.MaxPooling2D((2, 2)))"
      ],
      "execution_count": 2,
      "outputs": []
    },
    {
      "cell_type": "markdown",
      "metadata": {
        "id": "jKqDxzzTmfnf"
      },
      "source": [
        "Let's display the architecture of our convnet so far:"
      ]
    },
    {
      "cell_type": "code",
      "metadata": {
        "colab": {
          "base_uri": "https://localhost:8080/"
        },
        "id": "z-klAz02mfng",
        "outputId": "06dfd862-6f74-4765-da37-0c9ac7b2fd5f"
      },
      "source": [
        "model.summary()"
      ],
      "execution_count": 3,
      "outputs": [
        {
          "output_type": "stream",
          "text": [
            "Model: \"sequential\"\n",
            "_________________________________________________________________\n",
            "Layer (type)                 Output Shape              Param #   \n",
            "=================================================================\n",
            "conv2d (Conv2D)              (None, 28, 28, 32)        320       \n",
            "_________________________________________________________________\n",
            "max_pooling2d (MaxPooling2D) (None, 14, 14, 32)        0         \n",
            "_________________________________________________________________\n",
            "conv2d_1 (Conv2D)            (None, 12, 12, 64)        18496     \n",
            "_________________________________________________________________\n",
            "max_pooling2d_1 (MaxPooling2 (None, 6, 6, 64)          0         \n",
            "_________________________________________________________________\n",
            "conv2d_2 (Conv2D)            (None, 4, 4, 64)          36928     \n",
            "_________________________________________________________________\n",
            "max_pooling2d_2 (MaxPooling2 (None, 2, 2, 64)          0         \n",
            "=================================================================\n",
            "Total params: 55,744\n",
            "Trainable params: 55,744\n",
            "Non-trainable params: 0\n",
            "_________________________________________________________________\n"
          ],
          "name": "stdout"
        }
      ]
    },
    {
      "cell_type": "markdown",
      "metadata": {
        "collapsed": true,
        "id": "tZc0bPxKmfng"
      },
      "source": [
        "You can see above that the output of every `Conv2D` and `MaxPooling2D` layer is a 3D tensor of shape `(height, width, channels)`. The width \n",
        "and height dimensions tend to shrink as we go deeper in the network. The number of channels is controlled by the first argument passed to \n",
        "the `Conv2D` layers (e.g. 32 or 64).\n",
        "\n",
        "The next step would be to feed our last output tensor (of shape `(3, 3, 64)`) into a densely-connected classifier network like those you are \n",
        "already familiar with: a stack of `Dense` layers. These classifiers process vectors, which are 1D, whereas our current output is a 3D tensor. \n",
        "So first, we will have to flatten our 3D outputs to 1D, and then add a few `Dense` layers on top:"
      ]
    },
    {
      "cell_type": "code",
      "metadata": {
        "id": "Mv04wFLymfng"
      },
      "source": [
        "model.add(layers.Flatten())\n",
        "model.add(layers.Dense(128, activation='relu'))\n",
        "model.add(layers.Dense(64, activation='relu'))\n",
        "model.add(layers.Dense(10, activation='softmax'))"
      ],
      "execution_count": 4,
      "outputs": []
    },
    {
      "cell_type": "markdown",
      "metadata": {
        "id": "-WzGHG2gmfng"
      },
      "source": [
        "We are going to do 10-way classification, so we use a final layer with 10 outputs and a softmax activation. Now here's what our network \n",
        "looks like:"
      ]
    },
    {
      "cell_type": "code",
      "metadata": {
        "colab": {
          "base_uri": "https://localhost:8080/"
        },
        "id": "4M-kvEE-mfnh",
        "outputId": "98b76046-0026-4b5a-abc8-02075fd8c22e"
      },
      "source": [
        "model.summary()"
      ],
      "execution_count": 5,
      "outputs": [
        {
          "output_type": "stream",
          "text": [
            "Model: \"sequential\"\n",
            "_________________________________________________________________\n",
            "Layer (type)                 Output Shape              Param #   \n",
            "=================================================================\n",
            "conv2d (Conv2D)              (None, 28, 28, 32)        320       \n",
            "_________________________________________________________________\n",
            "max_pooling2d (MaxPooling2D) (None, 14, 14, 32)        0         \n",
            "_________________________________________________________________\n",
            "conv2d_1 (Conv2D)            (None, 12, 12, 64)        18496     \n",
            "_________________________________________________________________\n",
            "max_pooling2d_1 (MaxPooling2 (None, 6, 6, 64)          0         \n",
            "_________________________________________________________________\n",
            "conv2d_2 (Conv2D)            (None, 4, 4, 64)          36928     \n",
            "_________________________________________________________________\n",
            "max_pooling2d_2 (MaxPooling2 (None, 2, 2, 64)          0         \n",
            "_________________________________________________________________\n",
            "flatten (Flatten)            (None, 256)               0         \n",
            "_________________________________________________________________\n",
            "dense (Dense)                (None, 128)               32896     \n",
            "_________________________________________________________________\n",
            "dense_1 (Dense)              (None, 64)                8256      \n",
            "_________________________________________________________________\n",
            "dense_2 (Dense)              (None, 10)                650       \n",
            "=================================================================\n",
            "Total params: 97,546\n",
            "Trainable params: 97,546\n",
            "Non-trainable params: 0\n",
            "_________________________________________________________________\n"
          ],
          "name": "stdout"
        }
      ]
    },
    {
      "cell_type": "markdown",
      "metadata": {
        "id": "jOEobUMKmfnh"
      },
      "source": [
        "As you can see, our `(3, 3, 64)` outputs were flattened into vectors of shape `(576,)`, before going through two `Dense` layers.\n",
        "\n",
        "Now, let's train our convnet on the MNIST digits. We will reuse a lot of the code we have already covered in the MNIST example from Chapter \n",
        "2."
      ]
    },
    {
      "cell_type": "code",
      "metadata": {
        "id": "TRumBMRsmfnh"
      },
      "source": [
        "mnist = tf.keras.datasets.mnist\n",
        "(train_images, train_labels), (test_images, test_labels) = mnist.load_data()\n",
        "\n",
        "# Reshape the datasets into 4D-Tensor format...\n",
        "train_images = train_images.reshape((60000, 28, 28, 1))\n",
        "train_images = train_images.astype('float32') / 255\n",
        "\n",
        "test_images = test_images.reshape((10000, 28, 28, 1))\n",
        "test_images = test_images.astype('float32') / 255"
      ],
      "execution_count": 6,
      "outputs": []
    },
    {
      "cell_type": "markdown",
      "metadata": {
        "id": "uT34eTXsmfni"
      },
      "source": [
        "#### [ About **Loss Function** ]:  `categorical_crossentropy` vs. `sparse_categorical_crossentropy`\n",
        "> + If the targets are **one-hot encoded**, use **`categorical_crossentropy`**.\n",
        "        - Examples of one-hot encodings:\n",
        "                [1,0,0]\n",
        "                [0,1,0]\n",
        "                [0,0,1]\n",
        "+ But if the targets are **integers**, use **`sparse_categorical_crossentropy`**.\n",
        "        - Examples of integer encodings (for the sake of completion):\n",
        "                    1\n",
        "                    2\n",
        "                    3"
      ]
    },
    {
      "cell_type": "code",
      "metadata": {
        "id": "9aIn3Zh-mfni"
      },
      "source": [
        "model.compile(optimizer='rmsprop',\n",
        "              loss='sparse_categorical_crossentropy',\n",
        "              metrics=['accuracy'])"
      ],
      "execution_count": 7,
      "outputs": []
    },
    {
      "cell_type": "code",
      "metadata": {
        "colab": {
          "base_uri": "https://localhost:8080/"
        },
        "id": "55S59gSGmfni",
        "outputId": "acd7347a-d7c2-434b-fc52-1da779cce3c4"
      },
      "source": [
        "# validation_split: Float between 0 and 1. \n",
        "#                   Fraction of the training data to be used as validation data.\n",
        "\n",
        "history = model.fit(train_images, \n",
        "                    train_labels, \n",
        "                    epochs=15, \n",
        "                    batch_size=512,\n",
        "                    validation_split=0.1)"
      ],
      "execution_count": 8,
      "outputs": [
        {
          "output_type": "stream",
          "text": [
            "Epoch 1/15\n",
            "106/106 [==============================] - 5s 18ms/step - loss: 1.2090 - accuracy: 0.6044 - val_loss: 0.1527 - val_accuracy: 0.9555\n",
            "Epoch 2/15\n",
            "106/106 [==============================] - 1s 12ms/step - loss: 0.1743 - accuracy: 0.9457 - val_loss: 0.0969 - val_accuracy: 0.9693\n",
            "Epoch 3/15\n",
            "106/106 [==============================] - 1s 13ms/step - loss: 0.0933 - accuracy: 0.9699 - val_loss: 0.0637 - val_accuracy: 0.9808\n",
            "Epoch 4/15\n",
            "106/106 [==============================] - 1s 13ms/step - loss: 0.0678 - accuracy: 0.9786 - val_loss: 0.0817 - val_accuracy: 0.9768\n",
            "Epoch 5/15\n",
            "106/106 [==============================] - 1s 12ms/step - loss: 0.0461 - accuracy: 0.9855 - val_loss: 0.0646 - val_accuracy: 0.9782\n",
            "Epoch 6/15\n",
            "106/106 [==============================] - 1s 12ms/step - loss: 0.0381 - accuracy: 0.9880 - val_loss: 0.0441 - val_accuracy: 0.9870\n",
            "Epoch 7/15\n",
            "106/106 [==============================] - 1s 12ms/step - loss: 0.0286 - accuracy: 0.9908 - val_loss: 0.0339 - val_accuracy: 0.9907\n",
            "Epoch 8/15\n",
            "106/106 [==============================] - 1s 13ms/step - loss: 0.0241 - accuracy: 0.9918 - val_loss: 0.0295 - val_accuracy: 0.9923\n",
            "Epoch 9/15\n",
            "106/106 [==============================] - 1s 13ms/step - loss: 0.0190 - accuracy: 0.9937 - val_loss: 0.0335 - val_accuracy: 0.9913\n",
            "Epoch 10/15\n",
            "106/106 [==============================] - 1s 13ms/step - loss: 0.0158 - accuracy: 0.9948 - val_loss: 0.0341 - val_accuracy: 0.9917\n",
            "Epoch 11/15\n",
            "106/106 [==============================] - 1s 13ms/step - loss: 0.0122 - accuracy: 0.9963 - val_loss: 0.0300 - val_accuracy: 0.9927\n",
            "Epoch 12/15\n",
            "106/106 [==============================] - 1s 13ms/step - loss: 0.0119 - accuracy: 0.9959 - val_loss: 0.0272 - val_accuracy: 0.9935\n",
            "Epoch 13/15\n",
            "106/106 [==============================] - 1s 13ms/step - loss: 0.0106 - accuracy: 0.9962 - val_loss: 0.0375 - val_accuracy: 0.9902\n",
            "Epoch 14/15\n",
            "106/106 [==============================] - 1s 13ms/step - loss: 0.0075 - accuracy: 0.9980 - val_loss: 0.0392 - val_accuracy: 0.9908\n",
            "Epoch 15/15\n",
            "106/106 [==============================] - 1s 13ms/step - loss: 0.0088 - accuracy: 0.9971 - val_loss: 0.0322 - val_accuracy: 0.9925\n"
          ],
          "name": "stdout"
        }
      ]
    },
    {
      "cell_type": "markdown",
      "metadata": {
        "id": "HP9l-zVHmfni"
      },
      "source": [
        "Let's evaluate the model on the test data:"
      ]
    },
    {
      "cell_type": "code",
      "metadata": {
        "id": "P4BrOfgumfni"
      },
      "source": [
        "# verbose: 0 or 1. Verbosity mode. 0 = silent, 1 = progress bar\n",
        "test_loss, test_acc = model.evaluate(test_images, test_labels, verbose=0)"
      ],
      "execution_count": 9,
      "outputs": []
    },
    {
      "cell_type": "code",
      "metadata": {
        "colab": {
          "base_uri": "https://localhost:8080/"
        },
        "id": "tckWHO_bmfnj",
        "outputId": "1b71139d-a096-4c35-a5c1-3847b855d0cd"
      },
      "source": [
        "test_acc"
      ],
      "execution_count": 10,
      "outputs": [
        {
          "output_type": "execute_result",
          "data": {
            "text/plain": [
              "0.9921000003814697"
            ]
          },
          "metadata": {
            "tags": []
          },
          "execution_count": 10
        }
      ]
    },
    {
      "cell_type": "code",
      "metadata": {
        "colab": {
          "base_uri": "https://localhost:8080/"
        },
        "id": "DLFcXuNxmfnj",
        "outputId": "7e0eaff1-ceec-4ebf-d99a-309fee99c596"
      },
      "source": [
        "test_loss"
      ],
      "execution_count": 11,
      "outputs": [
        {
          "output_type": "execute_result",
          "data": {
            "text/plain": [
              "0.027171920984983444"
            ]
          },
          "metadata": {
            "tags": []
          },
          "execution_count": 11
        }
      ]
    },
    {
      "cell_type": "markdown",
      "metadata": {
        "id": "vNubsCp6mfnj"
      },
      "source": [
        "**Note that the call to model.fit() returns a History object. This object has a member history, which is a dictionary containing data about everything that happened during training. Let's take a look at it:**"
      ]
    },
    {
      "cell_type": "code",
      "metadata": {
        "colab": {
          "base_uri": "https://localhost:8080/"
        },
        "id": "P0aP140smfnk",
        "outputId": "4e52f9e5-c78e-4e25-e022-993c8fde0902"
      },
      "source": [
        "history_dict = history.history\n",
        "history_dict.keys()"
      ],
      "execution_count": 12,
      "outputs": [
        {
          "output_type": "execute_result",
          "data": {
            "text/plain": [
              "dict_keys(['loss', 'accuracy', 'val_loss', 'val_accuracy'])"
            ]
          },
          "metadata": {
            "tags": []
          },
          "execution_count": 12
        }
      ]
    },
    {
      "cell_type": "code",
      "metadata": {
        "colab": {
          "base_uri": "https://localhost:8080/",
          "height": 295
        },
        "id": "k2eBNIULmfnk",
        "outputId": "62b9ddfe-39d0-4802-d8c1-2a5dcf59a730"
      },
      "source": [
        "import matplotlib.pyplot as plt\n",
        "%matplotlib inline\n",
        "\n",
        "acc = history.history['accuracy']          \n",
        "val_acc = history.history['val_accuracy']  \n",
        "loss = history.history['loss']\n",
        "val_loss = history.history['val_loss']\n",
        "\n",
        "epochs = range(1, len(acc) + 1)\n",
        "\n",
        "# \"bo\" is for \"blue dot\"\n",
        "plt.plot(epochs, loss, 'bo', label='Training loss')\n",
        "# b is for \"solid blue line\"\n",
        "plt.plot(epochs, val_loss, 'b', label='Validation loss')\n",
        "plt.title('Training and validation loss')\n",
        "plt.xlabel('Epochs')\n",
        "plt.ylabel('Loss')\n",
        "plt.legend()\n",
        "\n",
        "plt.show()"
      ],
      "execution_count": 13,
      "outputs": [
        {
          "output_type": "display_data",
          "data": {
            "image/png": "[encoded data removed]",
            "text/plain": [
              "<Figure size 432x288 with 1 Axes>"
            ]
          },
          "metadata": {
            "tags": [],
            "needs_background": "light"
          }
        }
      ]
    },
    {
      "cell_type": "code",
      "metadata": {
        "colab": {
          "base_uri": "https://localhost:8080/",
          "height": 295
        },
        "id": "HMh0e4TDmfnk",
        "outputId": "ee0ffcd9-303a-4186-ad4c-a449b8e38eb2"
      },
      "source": [
        "plt.clf()   # clear figure\n",
        "acc_values = history_dict['accuracy']          \n",
        "val_acc_values = history_dict['val_accuracy']  \n",
        "\n",
        "plt.plot(epochs, acc, 'bo', label='Training acc')\n",
        "plt.plot(epochs, val_acc, 'b', label='Validation acc')\n",
        "plt.title('Training and validation accuracy')\n",
        "plt.xlabel('Epochs')\n",
        "plt.ylabel('Accuracy')\n",
        "plt.legend()\n",
        "\n",
        "plt.show()"
      ],
      "execution_count": 14,
      "outputs": [
        {
          "output_type": "display_data",
          "data": {
            "image/png": "[encoded data removed]",
            "text/plain": [
              "<Figure size 432x288 with 1 Axes>"
            ]
          },
          "metadata": {
            "tags": [],
            "needs_background": "light"
          }
        }
      ]
    },
    {
      "cell_type": "markdown",
      "metadata": {
        "id": "s1Y8w4OGmfnk"
      },
      "source": [
        "## Prediction"
      ]
    },
    {
      "cell_type": "code",
      "metadata": {
        "colab": {
          "base_uri": "https://localhost:8080/"
        },
        "id": "h7ZL-vWVmfnl",
        "outputId": "b70d61d8-20d4-45a7-caa3-16f76c1f80c7"
      },
      "source": [
        "test_predict = model.predict(test_images)\n",
        "test_predict"
      ],
      "execution_count": 15,
      "outputs": [
        {
          "output_type": "execute_result",
          "data": {
            "text/plain": [
              "array([[7.9132593e-13, 3.3090374e-11, 1.7445494e-10, ..., 1.0000000e+00,\n",
              "        1.5394713e-10, 1.7254635e-08],\n",
              "       [1.3188677e-11, 2.6950948e-09, 1.0000000e+00, ..., 5.5632412e-11,\n",
              "        8.2519609e-11, 5.3065909e-14],\n",
              "       [4.4537520e-09, 9.9996185e-01, 4.5026454e-06, ..., 1.1004537e-05,\n",
              "        1.7563514e-05, 2.8338056e-07],\n",
              "       ...,\n",
              "       [1.6610883e-15, 1.2394248e-11, 2.6030236e-13, ..., 6.5873457e-12,\n",
              "        2.4893481e-09, 1.4880008e-09],\n",
              "       [9.2007730e-12, 1.9117177e-12, 6.7162733e-15, ..., 1.2800091e-13,\n",
              "        5.2367568e-08, 1.9034496e-10],\n",
              "       [2.1641036e-09, 6.8054663e-12, 3.4046259e-09, ..., 3.4456598e-12,\n",
              "        2.7393645e-09, 1.1198589e-12]], dtype=float32)"
            ]
          },
          "metadata": {
            "tags": []
          },
          "execution_count": 15
        }
      ]
    },
    {
      "cell_type": "code",
      "metadata": {
        "colab": {
          "base_uri": "https://localhost:8080/"
        },
        "id": "8XjnvjBBmfnl",
        "outputId": "32f69210-164d-4991-e736-e6a7762aebc4"
      },
      "source": [
        "import numpy as np\n",
        "test_predict_result = np.array([np.argmax(test_predict[i]) for i in range(len(test_predict))])\n",
        "test_predict_result"
      ],
      "execution_count": 16,
      "outputs": [
        {
          "output_type": "execute_result",
          "data": {
            "text/plain": [
              "array([7, 2, 1, ..., 4, 5, 6])"
            ]
          },
          "metadata": {
            "tags": []
          },
          "execution_count": 16
        }
      ]
    },
    {
      "cell_type": "code",
      "metadata": {
        "colab": {
          "base_uri": "https://localhost:8080/"
        },
        "id": "ckTz766Emfnl",
        "outputId": "15df566b-8971-4901-c03a-89a94f47674a"
      },
      "source": [
        "test_labels"
      ],
      "execution_count": 17,
      "outputs": [
        {
          "output_type": "execute_result",
          "data": {
            "text/plain": [
              "array([7, 2, 1, ..., 4, 5, 6], dtype=uint8)"
            ]
          },
          "metadata": {
            "tags": []
          },
          "execution_count": 17
        }
      ]
    },
    {
      "cell_type": "markdown",
      "metadata": {
        "id": "NzVpTItMmfnl"
      },
      "source": [
        "## Confusion Matrix"
      ]
    },
    {
      "cell_type": "code",
      "metadata": {
        "colab": {
          "base_uri": "https://localhost:8080/",
          "height": 667
        },
        "id": "CKfyCijjmfnl",
        "outputId": "3bbd1444-916b-4323-ece1-d3e15405075d"
      },
      "source": [
        "import matplotlib.pyplot as plt\n",
        "import seaborn as sns\n",
        "%matplotlib inline\n",
        "\n",
        "from sklearn.metrics import confusion_matrix\n",
        "\n",
        "mat = confusion_matrix(test_predict_result, test_labels)\n",
        "\n",
        "plt.figure(figsize=(10,8))\n",
        "sns.heatmap(mat, square=False, annot=True, fmt ='d', cbar=True)\n",
        "plt.xlim((0, 10))\n",
        "plt.ylim((10, 0))\n",
        "plt.xlabel('predicted value')\n",
        "plt.ylabel('true value')\n",
        "plt.show()\n",
        "\n",
        "mat"
      ],
      "execution_count": 18,
      "outputs": [
        {
          "output_type": "display_data",
          "data": {
            "image/png": "[encoded data removed]",
            "text/plain": [
              "<Figure size 720x576 with 2 Axes>"
            ]
          },
          "metadata": {
            "tags": [],
            "needs_background": "light"
          }
        },
        {
          "output_type": "execute_result",
          "data": {
            "text/plain": [
              "array([[ 974,    0,    1,    0,    0,    1,    3,    0,    1,    0],\n",
              "       [   0, 1133,    0,    0,    0,    1,    1,    2,    0,    0],\n",
              "       [   0,    0, 1023,    0,    0,    0,    0,    2,    2,    0],\n",
              "       [   0,    0,    1, 1006,    0,    4,    0,    0,    0,    1],\n",
              "       [   0,    0,    0,    0,  970,    0,    0,    0,    0,    3],\n",
              "       [   0,    0,    0,    3,    0,  884,    3,    0,    1,    3],\n",
              "       [   3,    1,    0,    0,    4,    1,  949,    0,    0,    0],\n",
              "       [   2,    1,    7,    1,    2,    0,    0, 1021,    2,    4],\n",
              "       [   1,    0,    0,    0,    0,    0,    2,    1,  964,    1],\n",
              "       [   0,    0,    0,    0,    6,    1,    0,    2,    4,  997]])"
            ]
          },
          "metadata": {
            "tags": []
          },
          "execution_count": 18
        }
      ]
    },
    {
      "cell_type": "code",
      "metadata": {
        "id": "ctsD34k8mfnm"
      },
      "source": [
        ""
      ],
      "execution_count": 18,
      "outputs": []
    }
  ]
}