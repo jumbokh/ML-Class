{
  "nbformat": 4,
  "nbformat_minor": 0,
  "metadata": {
    "colab": {
      "name": "ch5_1031.ipynb",
      "provenance": [],
      "collapsed_sections": [],
      "include_colab_link": true
    },
    "kernelspec": {
      "name": "python3",
      "display_name": "Python 3"
    },
    "language_info": {
      "name": "python"
    }
  },
  "cells": [
    {
      "cell_type": "markdown",
      "metadata": {
        "id": "view-in-github",
        "colab_type": "text"
      },
      "source": [
        "<a href=\"https://colab.research.google.com/github/jumbokh/ML-Class/blob/main/notebooks/ch5_1031.ipynb\" target=\"_parent\"><img src=\"https://colab.research.google.com/assets/colab-badge.svg\" alt=\"Open In Colab\"/></a>"
      ]
    },
    {
      "cell_type": "code",
      "metadata": {
        "colab": {
          "base_uri": "https://localhost:8080/"
        },
        "id": "oJ7F1Ue4AHTP",
        "outputId": "2b8a157e-06b6-4f95-dd02-811fd8ed9634"
      },
      "source": [
        "import math\n",
        "num = int(input('Please input a number:'))\n",
        "tt = num\n",
        "if num < 50:\n",
        "  num = math.sqrt(num)*10\n",
        "print('%d, %5.2f'%(tt,num))"
      ],
      "execution_count": null,
      "outputs": [
        {
          "name": "stdout",
          "output_type": "stream",
          "text": [
            "Please input a number:70\n"
          ]
        }
      ]
    },
    {
      "cell_type": "markdown",
      "metadata": {
        "id": "_J2MzqixCNRG"
      },
      "source": [
        "### Q. 輸入一個值, 如果小於50, 者將該數 開根號乘與10\n",
        "###   否則該數加 10"
      ]
    },
    {
      "cell_type": "code",
      "metadata": {
        "colab": {
          "base_uri": "https://localhost:8080/"
        },
        "id": "Bdy6FGztBBCx",
        "outputId": "2ceb5f98-5102-497e-e418-12fbe512b857"
      },
      "source": [
        "import math\n",
        "num = int(input('Please input a number:'))\n",
        "tt = num\n",
        "if num < 50:\n",
        "  num = math.sqrt(num)*10\n",
        "else:\n",
        "  num = num+10\n",
        "print('%d, %d'%(tt,round(num)))\n",
        "print('%d, %5.2f'%(tt,num))"
      ],
      "execution_count": null,
      "outputs": [
        {
          "output_type": "stream",
          "name": "stdout",
          "text": [
            "Please input a number:45\n",
            "45, 67\n",
            "45, 67.08\n"
          ]
        }
      ]
    },
    {
      "cell_type": "markdown",
      "metadata": {
        "id": "-ZadxXNoEbXr"
      },
      "source": [
        "#A: 90~100\n",
        "#B: 80~89\n",
        "#C: 70:79\n",
        "#D: 60:69\n",
        "#E: others"
      ]
    },
    {
      "cell_type": "code",
      "metadata": {
        "colab": {
          "base_uri": "https://localhost:8080/"
        },
        "id": "u6F8MHa7C2-h",
        "outputId": "fd6d3f14-2812-423e-dd87-200f0f27586d"
      },
      "source": [
        "num=int(input('your score:'))\n",
        "grade=''\n",
        "if num>=90:\n",
        "  grade='A'\n",
        "elif num>=80:\n",
        "  grade='B'\n",
        "elif num>=70:\n",
        "  grade='C'\n",
        "elif num>=60:\n",
        "  grade='D'\n",
        "else:\n",
        "  grade='E'\n",
        "print('Your score:%d, Got grade:%s'%(num,grade))"
      ],
      "execution_count": null,
      "outputs": [
        {
          "output_type": "stream",
          "name": "stdout",
          "text": [
            "your score:85\n",
            "Your score:85, Got grade:B\n"
          ]
        }
      ]
    },
    {
      "cell_type": "code",
      "metadata": {
        "id": "oNel0Od4FgRN"
      },
      "source": [
        "a=566\n",
        "b=1000\n",
        "n=1000-566"
      ],
      "execution_count": null,
      "outputs": []
    },
    {
      "cell_type": "code",
      "metadata": {
        "colab": {
          "base_uri": "https://localhost:8080/"
        },
        "id": "DC6ZYTJNnQa3",
        "outputId": "1841df71-fc86-4659-9bbe-a0e6fec7acb8"
      },
      "source": [
        "print(n)"
      ],
      "execution_count": null,
      "outputs": [
        {
          "output_type": "stream",
          "name": "stdout",
          "text": [
            "434\n"
          ]
        }
      ]
    },
    {
      "cell_type": "code",
      "metadata": {
        "colab": {
          "base_uri": "https://localhost:8080/"
        },
        "id": "1c7kN0rWnVo5",
        "outputId": "03efef11-ba16-4c3e-f09d-7afc0a789763"
      },
      "source": [
        "a1=int(n/100)\n",
        "a2=n%100\n",
        "print(a1,a2)"
      ],
      "execution_count": null,
      "outputs": [
        {
          "output_type": "stream",
          "name": "stdout",
          "text": [
            "4 34\n"
          ]
        }
      ]
    },
    {
      "cell_type": "code",
      "metadata": {
        "colab": {
          "base_uri": "https://localhost:8080/"
        },
        "id": "A2XQV2JRnl9H",
        "outputId": "79bc0093-fe01-4053-b5ac-8c0eebc3e147"
      },
      "source": [
        "a3=int(a2/10)\n",
        "a4=a2%10\n",
        "print(a3,a4)"
      ],
      "execution_count": null,
      "outputs": [
        {
          "output_type": "stream",
          "name": "stdout",
          "text": [
            "3 4\n"
          ]
        }
      ]
    },
    {
      "cell_type": "code",
      "metadata": {
        "colab": {
          "base_uri": "https://localhost:8080/"
        },
        "id": "c2jwu2IZn5tU",
        "outputId": "a0bf18ca-693b-4a4e-e740-e4c1ecbd2ab5"
      },
      "source": [
        "n1=int(input('You buy: '))\n",
        "n2=int(input('You pay: '))"
      ],
      "execution_count": null,
      "outputs": [
        {
          "name": "stdout",
          "output_type": "stream",
          "text": [
            "You buy: 434\n",
            "You pay: 1000\n"
          ]
        }
      ]
    },
    {
      "cell_type": "code",
      "metadata": {
        "id": "t56idP8boipX"
      },
      "source": [
        "if n2>n1:\n",
        "  print(\"找零:\")\n",
        "  pass\n",
        "elif n2==n1:\n",
        "  print('Welcome again!')\n",
        "elif n2<n1:\n",
        "  print('Not enough!')"
      ],
      "execution_count": null,
      "outputs": []
    },
    {
      "cell_type": "code",
      "metadata": {
        "colab": {
          "base_uri": "https://localhost:8080/"
        },
        "id": "mrX53P3GpOPs",
        "outputId": "fd0dfb5a-ab20-43da-ff56-6e081cd26799"
      },
      "source": [
        "#E_5_4 功能: 猜數字遊戲\n",
        "num=int(input('請輸入0-30的數值: '))\n",
        "sex=input('請輸入性別: 1. 男  2. 女: ')\n",
        "nmax=30   #設定最大值\n",
        "nmin=0   #設定最小值\n",
        "bingo=18  #答案\n",
        "diff=0   #計算差額\n",
        "if num==bingo:  #條件1\n",
        "    if sex=='1':\n",
        "        print('帥哥，你猜對了，真棒!')\n",
        "    else:\n",
        "        print('美女，妳猜對了，了不起')\n",
        "elif (num < bingo) & (num>=nmin):  #條件2\n",
        "    diff=abs(num-bingo)\n",
        "    if diff<3:\n",
        "        print('你猜的數字比較小，已經接近了')\n",
        "    else:\n",
        "        print('你猜的數字比較小，還差很多')\n",
        "elif (num> bingo) & (num<=nmax):  #條件3\n",
        "    diff=num-bingo\n",
        "    if diff<3:\n",
        "        print('你猜的數字比較大，已經接近了')\n",
        "    else:\n",
        "        print('你猜的數字比較大，還差很多')\n",
        "else:  #條件4\n",
        "    if num<0 or num>30:\n",
        "        print('輸入超過數值範圍')"
      ],
      "execution_count": null,
      "outputs": [
        {
          "output_type": "stream",
          "name": "stdout",
          "text": [
            "請輸入0-30的數值: 18\n",
            "請輸入性別: 1. 男  2. 女: 1\n",
            "帥哥，你猜對了，真棒!\n"
          ]
        }
      ]
    },
    {
      "cell_type": "code",
      "metadata": {
        "colab": {
          "base_uri": "https://localhost:8080/"
        },
        "id": "cUQU2wassDCs",
        "outputId": "34116080-fb4e-4c2f-96a3-b165606c609c"
      },
      "source": [
        "for i in range(0,10,2):\n",
        "  print(i)"
      ],
      "execution_count": null,
      "outputs": [
        {
          "output_type": "stream",
          "name": "stdout",
          "text": [
            "0\n",
            "2\n",
            "4\n",
            "6\n",
            "8\n"
          ]
        }
      ]
    },
    {
      "cell_type": "code",
      "metadata": {
        "colab": {
          "base_uri": "https://localhost:8080/"
        },
        "id": "vVqh-VLQtZTi",
        "outputId": "825f895e-3866-463f-bc80-9532025ea4c4"
      },
      "source": [
        "sumi=0\n",
        "n=10\n",
        "for i in range(1,n+1):\n",
        "  o = sumi\n",
        "  sumi = sumi + i\n",
        "  print('%2d + %2d = %2d'%(o,i,sumi))\n",
        "print('total= %d'%sumi)"
      ],
      "execution_count": null,
      "outputs": [
        {
          "output_type": "stream",
          "name": "stdout",
          "text": [
            " 0 +  1 =  1\n",
            " 1 +  2 =  3\n",
            " 3 +  3 =  6\n",
            " 6 +  4 = 10\n",
            "10 +  5 = 15\n",
            "15 +  6 = 21\n",
            "21 +  7 = 28\n",
            "28 +  8 = 36\n",
            "36 +  9 = 45\n",
            "45 + 10 = 55\n",
            "total= 55\n"
          ]
        }
      ]
    },
    {
      "cell_type": "code",
      "metadata": {
        "colab": {
          "base_uri": "https://localhost:8080/"
        },
        "id": "SuPxBfC8xXoE",
        "outputId": "e37099a4-cb17-4545-efff-10bc1af11ff4"
      },
      "source": [
        "n=100\n",
        "count=0\n",
        "total=0\n",
        "lis=[]\n",
        "for i in range(1,n+1):\n",
        "  if i%7 == 0:\n",
        "    count = count+1\n",
        "    total = total+i\n",
        "    lis.append(i)\n",
        "print('#%2d, 1~100'%count)\n",
        "print('total=%3d'%total)\n",
        "print(lis)"
      ],
      "execution_count": null,
      "outputs": [
        {
          "output_type": "stream",
          "name": "stdout",
          "text": [
            "#14, 1~100\n",
            "total=735\n",
            "[7, 14, 21, 28, 35, 42, 49, 56, 63, 70, 77, 84, 91, 98]\n"
          ]
        }
      ]
    },
    {
      "cell_type": "code",
      "metadata": {
        "colab": {
          "base_uri": "https://localhost:8080/"
        },
        "id": "gEX8eWyn0S5k",
        "outputId": "f8fa5d9c-83f9-4f73-e981-0b24fec265f7"
      },
      "source": [
        "n=100   #最大值\n",
        "count=0  #累計個數\n",
        "total=0  #累計值\n",
        "lis=[]   #空白 list\n",
        "qrlist=[] #空白 list\n",
        "for i in range(1,n+1):   # 1~100\n",
        "  (q,r) = divmod(i,7)   # (商,餘數) = i/7\n",
        "  if r == 0:       # 如果餘數等於 0\n",
        "    count = count+1   # 個數加1\n",
        "    total = total+i   # 累計\n",
        "    lis.append(i)     #新增一筆符合餘數為0的數字至 list\n",
        "    qrlist.append((q,r)) #新增一筆符合餘數為0的商與餘數至 list\n",
        "print('#%2d, 1~100'%count)  #輸出\n",
        "print('total=%3d'%total)\n",
        "print(lis)\n",
        "print(qrlist)"
      ],
      "execution_count": null,
      "outputs": [
        {
          "output_type": "stream",
          "name": "stdout",
          "text": [
            "#14, 1~100\n",
            "total=735\n",
            "[7, 14, 21, 28, 35, 42, 49, 56, 63, 70, 77, 84, 91, 98]\n",
            "[(1, 0), (2, 0), (3, 0), (4, 0), (5, 0), (6, 0), (7, 0), (8, 0), (9, 0), (10, 0), (11, 0), (12, 0), (13, 0), (14, 0)]\n"
          ]
        }
      ]
    },
    {
      "cell_type": "markdown",
      "metadata": {
        "id": "UtVzoXAk4Gfi"
      },
      "source": [
        "## Q. 輸入一數值, 計算如下公式:\n",
        "### result = (1-1/2) + (1-1/3) + (1-1/4) + ... \n",
        "### + (1-1/n)"
      ]
    },
    {
      "cell_type": "code",
      "metadata": {
        "colab": {
          "base_uri": "https://localhost:8080/"
        },
        "id": "GU-DrjYa1hIN",
        "outputId": "72955006-46fc-4af3-a803-9814772e051a"
      },
      "source": [
        "n = int(input('Input a number:'))"
      ],
      "execution_count": null,
      "outputs": [
        {
          "name": "stdout",
          "output_type": "stream",
          "text": [
            "Input a number:100\n"
          ]
        }
      ]
    },
    {
      "cell_type": "code",
      "metadata": {
        "colab": {
          "base_uri": "https://localhost:8080/"
        },
        "id": "fnM08IJG4vBk",
        "outputId": "9df177e5-97f8-4ef8-e00e-986dc2fc0d71"
      },
      "source": [
        "result=0\n",
        "for i in range(2,n+1):\n",
        "  result = result + (1-1/i)\n",
        "print('%8.2f'%result)"
      ],
      "execution_count": null,
      "outputs": [
        {
          "output_type": "stream",
          "name": "stdout",
          "text": [
            "   94.81\n"
          ]
        }
      ]
    },
    {
      "cell_type": "markdown",
      "metadata": {
        "id": "YqBoA4Vg6njk"
      },
      "source": [
        "## 產生一個 9X9 的二維陣列\n",
        "## 陣列中元素的值為 0~9"
      ]
    },
    {
      "cell_type": "code",
      "metadata": {
        "id": "GrFDSLIX5UZa"
      },
      "source": [
        "import random as rd"
      ],
      "execution_count": null,
      "outputs": []
    },
    {
      "cell_type": "code",
      "metadata": {
        "colab": {
          "base_uri": "https://localhost:8080/"
        },
        "id": "xZ8QDqat6diK",
        "outputId": "7907fa44-7aa5-4860-c17e-c7bbe16ec703"
      },
      "source": [
        "n = rd.randint(0,9)\n",
        "n"
      ],
      "execution_count": null,
      "outputs": [
        {
          "output_type": "execute_result",
          "data": {
            "text/plain": [
              "1"
            ]
          },
          "metadata": {},
          "execution_count": 53
        }
      ]
    },
    {
      "cell_type": "code",
      "metadata": {
        "colab": {
          "base_uri": "https://localhost:8080/"
        },
        "id": "qBBxoicn66by",
        "outputId": "b49c1503-3438-4e65-dfcd-5cdbf333c9d4"
      },
      "source": [
        "m = 9\n",
        "lis0=[]\n",
        "for i in range(0,m):\n",
        "  lis1=[]\n",
        "  for j in range(0,m):\n",
        "    x = rd.randint(0,9)\n",
        "    lis1.append(x)\n",
        "  lis0.append(lis1)\n",
        "  print(lis1)"
      ],
      "execution_count": null,
      "outputs": [
        {
          "output_type": "stream",
          "name": "stdout",
          "text": [
            "[4, 4, 4, 3, 5, 2, 2, 5, 5]\n",
            "[5, 1, 2, 3, 6, 4, 5, 7, 1]\n",
            "[9, 5, 7, 5, 9, 8, 4, 4, 2]\n",
            "[1, 7, 4, 4, 7, 3, 3, 0, 6]\n",
            "[7, 0, 8, 2, 8, 2, 8, 5, 2]\n",
            "[3, 1, 3, 8, 7, 3, 2, 4, 7]\n",
            "[2, 6, 1, 5, 9, 7, 1, 0, 3]\n",
            "[7, 0, 0, 8, 9, 6, 4, 5, 4]\n",
            "[1, 0, 6, 3, 8, 3, 2, 8, 1]\n"
          ]
        }
      ]
    },
    {
      "cell_type": "code",
      "metadata": {
        "id": "4pqxs-wTq0pf",
        "colab": {
          "base_uri": "https://localhost:8080/"
        },
        "outputId": "1d75bd93-5f08-40bf-f40e-d275c99522f3"
      },
      "source": [
        "# E_5_9 功能: 以雙迴圈(9列，9行)產生亂數(0到9)模擬二維陣列\n",
        "from random import randint as ri\n",
        "## 印表頭\n",
        "print(\"i/j\",end=\" \")\n",
        "for i in range(1,10):\n",
        "  print(\"%3d\"%i,end=\"\")\n",
        "print()\n",
        "##\n",
        "for i in range(1, 10):  #外圈\n",
        "    print(\"%3d \"%i,end=\"\") # 印 index\n",
        "    for j in range(1, 10):  #內圈\n",
        "        num=ri(0,9)  \n",
        "        print('%3d'%(num), end='')\n",
        "    print()"
      ],
      "execution_count": null,
      "outputs": [
        {
          "output_type": "stream",
          "name": "stdout",
          "text": [
            "i/j   1  2  3  4  5  6  7  8  9\n",
            "  1   6  1  3  0  3  0  2  8  5\n",
            "  2   8  1  0  1  1  6  6  7  3\n",
            "  3   0  6  1  1  2  9  4  9  4\n",
            "  4   0  9  4  8  0  7  9  0  8\n",
            "  5   4  4  6  2  1  7  0  0  8\n",
            "  6   3  5  1  4  0  8  8  6  7\n",
            "  7   3  0  7  7  2  9  4  1  2\n",
            "  8   4  9  4  3  6  7  2  2  8\n",
            "  9   0  5  1  0  0  6  2  5  4\n"
          ]
        }
      ]
    },
    {
      "cell_type": "markdown",
      "metadata": {
        "id": "WQmLjrKhBmo3"
      },
      "source": [
        "## 九九乘法表 1~9"
      ]
    },
    {
      "cell_type": "code",
      "metadata": {
        "colab": {
          "base_uri": "https://localhost:8080/"
        },
        "id": "_HT0lzHy_ALp",
        "outputId": "4baa6711-ddca-4889-c7f2-930618eb487e"
      },
      "source": [
        "n = 9\n",
        "m = 9\n",
        "for i in range(1,n+1):\n",
        "  for j in range(1,m+1):\n",
        "    print(\"%2d *%2d =%3d\"%(i,j,i*j),end=\", \")\n",
        "  print()"
      ],
      "execution_count": null,
      "outputs": [
        {
          "output_type": "stream",
          "name": "stdout",
          "text": [
            " 1 * 1 =  1,  1 * 2 =  2,  1 * 3 =  3,  1 * 4 =  4,  1 * 5 =  5,  1 * 6 =  6,  1 * 7 =  7,  1 * 8 =  8,  1 * 9 =  9, \n",
            " 2 * 1 =  2,  2 * 2 =  4,  2 * 3 =  6,  2 * 4 =  8,  2 * 5 = 10,  2 * 6 = 12,  2 * 7 = 14,  2 * 8 = 16,  2 * 9 = 18, \n",
            " 3 * 1 =  3,  3 * 2 =  6,  3 * 3 =  9,  3 * 4 = 12,  3 * 5 = 15,  3 * 6 = 18,  3 * 7 = 21,  3 * 8 = 24,  3 * 9 = 27, \n",
            " 4 * 1 =  4,  4 * 2 =  8,  4 * 3 = 12,  4 * 4 = 16,  4 * 5 = 20,  4 * 6 = 24,  4 * 7 = 28,  4 * 8 = 32,  4 * 9 = 36, \n",
            " 5 * 1 =  5,  5 * 2 = 10,  5 * 3 = 15,  5 * 4 = 20,  5 * 5 = 25,  5 * 6 = 30,  5 * 7 = 35,  5 * 8 = 40,  5 * 9 = 45, \n",
            " 6 * 1 =  6,  6 * 2 = 12,  6 * 3 = 18,  6 * 4 = 24,  6 * 5 = 30,  6 * 6 = 36,  6 * 7 = 42,  6 * 8 = 48,  6 * 9 = 54, \n",
            " 7 * 1 =  7,  7 * 2 = 14,  7 * 3 = 21,  7 * 4 = 28,  7 * 5 = 35,  7 * 6 = 42,  7 * 7 = 49,  7 * 8 = 56,  7 * 9 = 63, \n",
            " 8 * 1 =  8,  8 * 2 = 16,  8 * 3 = 24,  8 * 4 = 32,  8 * 5 = 40,  8 * 6 = 48,  8 * 7 = 56,  8 * 8 = 64,  8 * 9 = 72, \n",
            " 9 * 1 =  9,  9 * 2 = 18,  9 * 3 = 27,  9 * 4 = 36,  9 * 5 = 45,  9 * 6 = 54,  9 * 7 = 63,  9 * 8 = 72,  9 * 9 = 81, \n"
          ]
        }
      ]
    },
    {
      "cell_type": "markdown",
      "metadata": {
        "id": "P6gdY6bKDgWN"
      },
      "source": [
        "## 重複亂數產生 0~9 , 遇到 0 時停止\n",
        "## 並印出累計次數"
      ]
    },
    {
      "cell_type": "code",
      "metadata": {
        "colab": {
          "base_uri": "https://localhost:8080/"
        },
        "id": "ecKHteoKCSao",
        "outputId": "a0994760-0ec5-4b8d-e1c8-d2f3f393fa34"
      },
      "source": [
        "from random import randint as ri\n",
        "count=0\n",
        "num=1\n",
        "while num!=0:\n",
        "  num = ri(0,9)\n",
        "  if num!=0:\n",
        "   print(num,end=\", \")\n",
        "   count = count + 1\n",
        "   if count%10 == 0:\n",
        "     print()\n",
        "\n",
        "print('\\nCount:%3d'%count)"
      ],
      "execution_count": null,
      "outputs": [
        {
          "output_type": "stream",
          "name": "stdout",
          "text": [
            "3, 8, 8, 7, 6, 2, 4, 3, 4, 5, \n",
            "1, 4, 7, 7, 8, 3, 9, 6, 3, 6, \n",
            "\n",
            "Count: 20\n"
          ]
        }
      ]
    },
    {
      "cell_type": "code",
      "metadata": {
        "colab": {
          "base_uri": "https://localhost:8080/"
        },
        "id": "XD2AuKvrEVk-",
        "outputId": "f366859f-1ea3-4619-b09e-2ebfb3258dc0"
      },
      "source": [
        "max=9\n",
        "n = 1\n",
        "m = 1\n",
        "\n",
        "while True:\n",
        "  if m > max:\n",
        "    n = n + 1\n",
        "    m = 1\n",
        "    print()\n",
        "    continue\n",
        "  if n > max:\n",
        "    break\n",
        "  print(\"%2d *%2d =%3d\"%(n,m,n*m),end=\", \")\n",
        "  m = m + 1\n",
        "  \n"
      ],
      "execution_count": null,
      "outputs": [
        {
          "output_type": "stream",
          "name": "stdout",
          "text": [
            " 1 * 1 =  1,  1 * 2 =  2,  1 * 3 =  3,  1 * 4 =  4,  1 * 5 =  5,  1 * 6 =  6,  1 * 7 =  7,  1 * 8 =  8,  1 * 9 =  9, \n",
            " 2 * 1 =  2,  2 * 2 =  4,  2 * 3 =  6,  2 * 4 =  8,  2 * 5 = 10,  2 * 6 = 12,  2 * 7 = 14,  2 * 8 = 16,  2 * 9 = 18, \n",
            " 3 * 1 =  3,  3 * 2 =  6,  3 * 3 =  9,  3 * 4 = 12,  3 * 5 = 15,  3 * 6 = 18,  3 * 7 = 21,  3 * 8 = 24,  3 * 9 = 27, \n",
            " 4 * 1 =  4,  4 * 2 =  8,  4 * 3 = 12,  4 * 4 = 16,  4 * 5 = 20,  4 * 6 = 24,  4 * 7 = 28,  4 * 8 = 32,  4 * 9 = 36, \n",
            " 5 * 1 =  5,  5 * 2 = 10,  5 * 3 = 15,  5 * 4 = 20,  5 * 5 = 25,  5 * 6 = 30,  5 * 7 = 35,  5 * 8 = 40,  5 * 9 = 45, \n",
            " 6 * 1 =  6,  6 * 2 = 12,  6 * 3 = 18,  6 * 4 = 24,  6 * 5 = 30,  6 * 6 = 36,  6 * 7 = 42,  6 * 8 = 48,  6 * 9 = 54, \n",
            " 7 * 1 =  7,  7 * 2 = 14,  7 * 3 = 21,  7 * 4 = 28,  7 * 5 = 35,  7 * 6 = 42,  7 * 7 = 49,  7 * 8 = 56,  7 * 9 = 63, \n",
            " 8 * 1 =  8,  8 * 2 = 16,  8 * 3 = 24,  8 * 4 = 32,  8 * 5 = 40,  8 * 6 = 48,  8 * 7 = 56,  8 * 8 = 64,  8 * 9 = 72, \n",
            " 9 * 1 =  9,  9 * 2 = 18,  9 * 3 = 27,  9 * 4 = 36,  9 * 5 = 45,  9 * 6 = 54,  9 * 7 = 63,  9 * 8 = 72,  9 * 9 = 81, \n"
          ]
        }
      ]
    },
    {
      "cell_type": "code",
      "metadata": {
        "id": "oAd3Oy9IHha9"
      },
      "source": [
        ""
      ],
      "execution_count": null,
      "outputs": []
    }
  ]
}