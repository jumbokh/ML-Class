{
  "nbformat": 4,
  "nbformat_minor": 0,
  "metadata": {
    "kernelspec": {
      "display_name": "Python 3",
      "language": "python",
      "name": "python3"
    },
    "language_info": {
      "codemirror_mode": {
        "name": "ipython",
        "version": 3
      },
      "file_extension": ".py",
      "mimetype": "text/x-python",
      "name": "python",
      "nbconvert_exporter": "python",
      "pygments_lexer": "ipython3",
      "version": "3.8.5"
    },
    "colab": {
      "name": "Python_Data_Analysis-PART_II-Pandas_Programming.ipynb",
      "provenance": [],
      "include_colab_link": true
    }
  },
  "cells": [
    {
      "cell_type": "markdown",
      "metadata": {
        "id": "view-in-github",
        "colab_type": "text"
      },
      "source": [
        "<a href=\"https://colab.research.google.com/github/jumbokh/ML-Class/blob/main/notebooks/Python_Data_Analysis_PART_II_Pandas_Programming.ipynb\" target=\"_parent\"><img src=\"https://colab.research.google.com/assets/colab-badge.svg\" alt=\"Open In Colab\"/></a>"
      ]
    },
    {
      "cell_type": "markdown",
      "metadata": {
        "id": "UMmbMQfjL97u"
      },
      "source": [
        "## <<  Data Analysis with Python PART II >> \n",
        "# Pandas Programming\n",
        "**C. Alex Hu @ 2021/05/17**"
      ]
    },
    {
      "cell_type": "markdown",
      "metadata": {
        "id": "P2mLw2BPL97x"
      },
      "source": [
        "## <  CONTENTS  >"
      ]
    },
    {
      "cell_type": "markdown",
      "metadata": {
        "id": "Z7GHuzxAL97y"
      },
      "source": [
        "[Intro to Pandas](#Intro_to_Pandas)\n",
        " \n",
        "[1. Pandas 資料結構](#Data_Structure)\n",
        "\n",
        "[2. Series (序列)](#Series)\n",
        "- [2.1 Using a list, ndarray or dictionary to create a Series](#2.1)\n",
        "- [2.2 Using a scalar value to create a Series](#scalar_value)\n",
        "- [2.3 Series is ndarray-like](#Series_is_ndarray-like)\n",
        "- [2.4 Series is dict-like](#Series_is_dict-like)\n",
        "- [2.5 A key difference between Series and ndarray](#key_difference)\n",
        "- [2.6 Series can also have a name attribute](#name_attribute)\n",
        "- [2.7 Time Series (時間序列)](#Time_Series)\n",
        "- [2.8 建立依時間序列排序的資料表](#2.8)\n",
        "\n",
        "[3. DataFrame (資料框)](#DataFrame)\n",
        "- [3.1 Creating DataFrame (產生資料框)](#Creating_DataFrame)\n",
        "- [3.2 Merge, Join, and Concatenate DataFrames](#Merge_Join_and_Concatenate_DataFrames)\n",
        "\n",
        "[4. Data Analysis & Manipulation](#Data_Analysis_&_Manipulation)\n",
        "- [4.1 Summarizing](#Summarizing)\n",
        "- [4.2 Manipulation of DataFrame](#Manipulation_of_DataFrame)\n",
        "- [4.3 Quality check](#Quality_check)\n",
        "- [4.4 Rename Columns](#Rename_Columns)\n",
        "- [4.5 Dealing with outliers](#Dealing_with_outliers)\n",
        "    - [Boxplot](#Boxplot)\n",
        "    - [Histogram](#Histogram)\n",
        "- [4.6 Groupby](#Groupby)\n",
        "- [4.7  Pivot Tables (樞紐分析表 或 透視表)](#Pivot_Tables)\n",
        "     - [Pivot Tables using Pandas `groupby`](#Pivot_Tables_using_groupby)\n",
        "     - [Pivot Tables using Pandas `pivot_table`](#Pivot_Tables_using_pivot_table)\n",
        "\n",
        "[5. File I/O](#File_I/O)\n",
        "- [5.1 Write to .csv files](#Write_to_csv_files)\n",
        "- [5.2 Read from .csv files](#Read_from_csv_files)\n",
        "- [5.3 Read csv from url](#Read_csv_from_url)"
      ]
    },
    {
      "cell_type": "markdown",
      "metadata": {
        "id": "rD2-e0cnL97z"
      },
      "source": [
        "<a id='Intro_to_Pandas'></a>\n",
        "# Intro to Pandas\n",
        "- Python 標準程式庫的延伸，應用於資料的處理 (Data Manipulation)\n",
        "- 一般而言，資料分析的前 80% 時間花在清理和準備資料 (cleansing & preparing data) ; 這就需要用到 Pandas library 來進行這些前置處理 (preprocessing) 作業。\n",
        "- Ref. :  http://pandas.pydata.org/pandas-docs/stable/index.html\n"
      ]
    },
    {
      "cell_type": "markdown",
      "metadata": {
        "id": "UxYyG5fzL97z"
      },
      "source": [
        "<a id=\"Data_Structure\"></a>\n",
        "#   1. Pandas 資料結構 \n",
        ">- Pandas 有兩個主要的資料結構：Series (序列) 和 DataFrame (資料框)。 \n",
        ">    - 其中，Series 是一維序列資料結構；DataFrame 是二維的資料結構。\n",
        ">\n",
        ">\n",
        ">- R 語言的使用者對於 DataFrame 並不陌生，因為 DataFrame 是 R 語言的產物。\n",
        ">- 目前，DataFrame 的資料格式已廣泛被資料科學領域的研發人員採用，因此，舉凡 Python、Scala、Java 等程式語言也都接受 DataFrame 資料格式分享資料。\n",
        ">\n",
        ">\n",
        ">- **Pandas 是以 NumPy 為基礎**，所以，能夠有效整合科學運算的開發環境。\n"
      ]
    },
    {
      "cell_type": "markdown",
      "metadata": {
        "id": "FsE6LadqL970"
      },
      "source": [
        "+ **Import Libraries**"
      ]
    },
    {
      "cell_type": "code",
      "metadata": {
        "id": "4kz7lwpyL970"
      },
      "source": [
        "import pandas as pd\n",
        "import numpy as np"
      ],
      "execution_count": null,
      "outputs": []
    },
    {
      "cell_type": "markdown",
      "metadata": {
        "id": "RKRu1xglL971"
      },
      "source": [
        "<a id=\"Series\"></a>\n",
        "#  2.  Series (序列)\n",
        "\n",
        "- Series 是一維具有標籤的陣列 (labeled array)，能夠儲存任何 Python 資料型別的資料 (例如：整數、浮點數、字串、物件等)。 \n",
        "- 通常，axis labels 指的是 \"索引 (index)\"。"
      ]
    },
    {
      "cell_type": "markdown",
      "metadata": {
        "id": "Z4XbH_HiL972"
      },
      "source": [
        "<a id='2.1'></a>\n",
        "### 2.1 Using a list, ndarray or dictionary to create a Series"
      ]
    },
    {
      "cell_type": "code",
      "metadata": {
        "id": "GXu6VbX_L972",
        "outputId": "ebd79c53-d455-48c2-b62c-6f5b209f2f80"
      },
      "source": [
        "#  Using pd.Series(data, index=index) to create Series\n",
        "s = pd.Series([1,1,2,3,5,8, np.nan, 2021, 517])    \n",
        "s"
      ],
      "execution_count": null,
      "outputs": [
        {
          "output_type": "execute_result",
          "data": {
            "text/plain": [
              "0       1.0\n",
              "1       1.0\n",
              "2       2.0\n",
              "3       3.0\n",
              "4       5.0\n",
              "5       8.0\n",
              "6       NaN\n",
              "7    2021.0\n",
              "8     517.0\n",
              "dtype: float64"
            ]
          },
          "metadata": {
            "tags": []
          },
          "execution_count": 2
        }
      ]
    },
    {
      "cell_type": "code",
      "metadata": {
        "id": "BAdqayETL973",
        "outputId": "7e849d84-f8b5-479c-a763-a51291845875"
      },
      "source": [
        "s = pd.Series(np.random.randn(5), index=['a', 'b', 'c', 'd', 'e'])\n",
        "s"
      ],
      "execution_count": null,
      "outputs": [
        {
          "output_type": "execute_result",
          "data": {
            "text/plain": [
              "a   -0.284063\n",
              "b   -1.555630\n",
              "c   -1.743534\n",
              "d   -1.482500\n",
              "e    1.016748\n",
              "dtype: float64"
            ]
          },
          "metadata": {
            "tags": []
          },
          "execution_count": 3
        }
      ]
    },
    {
      "cell_type": "code",
      "metadata": {
        "id": "oEJEDYsiL974",
        "outputId": "e13b7849-7796-4bdc-daee-be3e673df141"
      },
      "source": [
        "s.index"
      ],
      "execution_count": null,
      "outputs": [
        {
          "output_type": "execute_result",
          "data": {
            "text/plain": [
              "Index(['a', 'b', 'c', 'd', 'e'], dtype='object')"
            ]
          },
          "metadata": {
            "tags": []
          },
          "execution_count": 4
        }
      ]
    },
    {
      "cell_type": "code",
      "metadata": {
        "id": "XuMJP0-bL974",
        "outputId": "a4fdd28a-d750-4848-839b-c043c32f4360"
      },
      "source": [
        "#  Using a dictionary to create a Series\n",
        "d = {'a' : 0., 'b' : 1., 'c' : 2.}   \n",
        "pd.Series(d)"
      ],
      "execution_count": null,
      "outputs": [
        {
          "output_type": "execute_result",
          "data": {
            "text/plain": [
              "a    0.0\n",
              "b    1.0\n",
              "c    2.0\n",
              "dtype: float64"
            ]
          },
          "metadata": {
            "tags": []
          },
          "execution_count": 5
        }
      ]
    },
    {
      "cell_type": "code",
      "metadata": {
        "id": "zKftU9X3L974",
        "outputId": "ccce45c5-2cbb-4a1f-eac3-267d3543c33a"
      },
      "source": [
        "pd.Series(d, index=['b', 'c', 'd', 'a'])   #  NaN (not a number) is the standard missing data marker used in pandas"
      ],
      "execution_count": null,
      "outputs": [
        {
          "output_type": "execute_result",
          "data": {
            "text/plain": [
              "b    1.0\n",
              "c    2.0\n",
              "d    NaN\n",
              "a    0.0\n",
              "dtype: float64"
            ]
          },
          "metadata": {
            "tags": []
          },
          "execution_count": 6
        }
      ]
    },
    {
      "cell_type": "markdown",
      "metadata": {
        "id": "n8ij0D-zL975"
      },
      "source": [
        "<a id='scalar_value'></a>\n",
        "### 2.2 Using a scalar value to create a Series"
      ]
    },
    {
      "cell_type": "code",
      "metadata": {
        "id": "dehQ12cZL975",
        "outputId": "16f2e5c0-eca8-47a6-f37f-bdb41399fe7b"
      },
      "source": [
        "pd.Series(5., index=['a', 'b', 'c', 'd', 'e'])"
      ],
      "execution_count": null,
      "outputs": [
        {
          "output_type": "execute_result",
          "data": {
            "text/plain": [
              "a    5.0\n",
              "b    5.0\n",
              "c    5.0\n",
              "d    5.0\n",
              "e    5.0\n",
              "dtype: float64"
            ]
          },
          "metadata": {
            "tags": []
          },
          "execution_count": 7
        }
      ]
    },
    {
      "cell_type": "markdown",
      "metadata": {
        "id": "bdeNyQd9L975"
      },
      "source": [
        "<a id='Series_is_ndarray-like'></a>\n",
        "\n",
        "### 2.3 Series is ndarray-like\n",
        "- 大部份的情況下，Series 的運算很像 ndarray，可以採用 NumPy 函數。"
      ]
    },
    {
      "cell_type": "code",
      "metadata": {
        "id": "-aw2xmTdL975",
        "outputId": "a371ed32-24b6-4cf1-f31e-edf757c243c2"
      },
      "source": [
        "s[0]"
      ],
      "execution_count": null,
      "outputs": [
        {
          "output_type": "execute_result",
          "data": {
            "text/plain": [
              "-0.2840626758626949"
            ]
          },
          "metadata": {
            "tags": []
          },
          "execution_count": 8
        }
      ]
    },
    {
      "cell_type": "code",
      "metadata": {
        "id": "sVY8l9klL976",
        "outputId": "7904cb48-aaac-4a1d-bbb3-d3324d214575"
      },
      "source": [
        "s[:3]"
      ],
      "execution_count": null,
      "outputs": [
        {
          "output_type": "execute_result",
          "data": {
            "text/plain": [
              "a   -0.284063\n",
              "b   -1.555630\n",
              "c   -1.743534\n",
              "dtype: float64"
            ]
          },
          "metadata": {
            "tags": []
          },
          "execution_count": 9
        }
      ]
    },
    {
      "cell_type": "markdown",
      "metadata": {
        "id": "JBwn7O40L976"
      },
      "source": [
        "+ **Fancy Indexing**"
      ]
    },
    {
      "cell_type": "code",
      "metadata": {
        "id": "wwdQh13xL976",
        "outputId": "179e5930-cebd-4541-c082-b410daa453c0"
      },
      "source": [
        "s > s.median()"
      ],
      "execution_count": null,
      "outputs": [
        {
          "output_type": "execute_result",
          "data": {
            "text/plain": [
              "a     True\n",
              "b    False\n",
              "c    False\n",
              "d    False\n",
              "e     True\n",
              "dtype: bool"
            ]
          },
          "metadata": {
            "tags": []
          },
          "execution_count": 10
        }
      ]
    },
    {
      "cell_type": "code",
      "metadata": {
        "id": "PC6VFAICL977",
        "outputId": "8bdc9b75-e61e-4b9a-a5a4-1536e5e4572f"
      },
      "source": [
        "s[s > s.median()]"
      ],
      "execution_count": null,
      "outputs": [
        {
          "output_type": "execute_result",
          "data": {
            "text/plain": [
              "a   -0.284063\n",
              "e    1.016748\n",
              "dtype: float64"
            ]
          },
          "metadata": {
            "tags": []
          },
          "execution_count": 11
        }
      ]
    },
    {
      "cell_type": "code",
      "metadata": {
        "id": "DPq3R6yZL977",
        "outputId": "5e648d38-53e1-4ac1-a826-efc20c234c2d"
      },
      "source": [
        "s[[4, 3, 1]]"
      ],
      "execution_count": null,
      "outputs": [
        {
          "output_type": "execute_result",
          "data": {
            "text/plain": [
              "e    1.016748\n",
              "d   -1.482500\n",
              "b   -1.555630\n",
              "dtype: float64"
            ]
          },
          "metadata": {
            "tags": []
          },
          "execution_count": 12
        }
      ]
    },
    {
      "cell_type": "markdown",
      "metadata": {
        "id": "P1nhdP0oL977"
      },
      "source": [
        "+ **Vectorization**"
      ]
    },
    {
      "cell_type": "code",
      "metadata": {
        "id": "0h33fgqLL977",
        "outputId": "6141caa1-8623-4571-9727-2810c939bbdd"
      },
      "source": [
        "np.exp(s)  "
      ],
      "execution_count": null,
      "outputs": [
        {
          "output_type": "execute_result",
          "data": {
            "text/plain": [
              "a    0.752719\n",
              "b    0.211056\n",
              "c    0.174901\n",
              "d    0.227069\n",
              "e    2.764191\n",
              "dtype: float64"
            ]
          },
          "metadata": {
            "tags": []
          },
          "execution_count": 13
        }
      ]
    },
    {
      "cell_type": "markdown",
      "metadata": {
        "id": "TY1YdYISL978"
      },
      "source": [
        "<a id='Series is dict-like'></a>\n",
        "### 2.4 Series is dict-like\n",
        "- Series 也可以像 dictionary，利用 索引標籤 (index label) 擷取和設定其值。"
      ]
    },
    {
      "cell_type": "code",
      "metadata": {
        "id": "DzKZjjJiL978",
        "outputId": "90cd19e2-2ea3-493d-c2f9-5f036511e33b"
      },
      "source": [
        "s['a']"
      ],
      "execution_count": null,
      "outputs": [
        {
          "output_type": "execute_result",
          "data": {
            "text/plain": [
              "-0.2840626758626949"
            ]
          },
          "metadata": {
            "tags": []
          },
          "execution_count": 14
        }
      ]
    },
    {
      "cell_type": "code",
      "metadata": {
        "id": "yf4D0ubeL978",
        "outputId": "69c8d606-21df-4b7e-88e0-375b376bb312"
      },
      "source": [
        "s['e'] = 2021\n",
        "s"
      ],
      "execution_count": null,
      "outputs": [
        {
          "output_type": "execute_result",
          "data": {
            "text/plain": [
              "a      -0.284063\n",
              "b      -1.555630\n",
              "c      -1.743534\n",
              "d      -1.482500\n",
              "e    2021.000000\n",
              "dtype: float64"
            ]
          },
          "metadata": {
            "tags": []
          },
          "execution_count": 15
        }
      ]
    },
    {
      "cell_type": "code",
      "metadata": {
        "id": "9gZDBtEsL978",
        "outputId": "8818db10-914c-4099-ea95-1f433ee0a5b6"
      },
      "source": [
        "'e' in s"
      ],
      "execution_count": null,
      "outputs": [
        {
          "output_type": "execute_result",
          "data": {
            "text/plain": [
              "True"
            ]
          },
          "metadata": {
            "tags": []
          },
          "execution_count": 16
        }
      ]
    },
    {
      "cell_type": "code",
      "metadata": {
        "id": "mPRhZDpZL979",
        "outputId": "56398e1c-a045-49bc-ce43-7e3cd60e2021"
      },
      "source": [
        "'f' in s"
      ],
      "execution_count": null,
      "outputs": [
        {
          "output_type": "execute_result",
          "data": {
            "text/plain": [
              "False"
            ]
          },
          "metadata": {
            "tags": []
          },
          "execution_count": 17
        }
      ]
    },
    {
      "cell_type": "code",
      "metadata": {
        "id": "L_XKh9mML979",
        "outputId": "764b1116-fd83-45ee-8121-ef8f8e0edaa4"
      },
      "source": [
        "s['f']   # If a label is not contained, an exception is raised"
      ],
      "execution_count": null,
      "outputs": [
        {
          "output_type": "error",
          "ename": "KeyError",
          "evalue": "'f'",
          "traceback": [
            "\u001b[1;31m-------------------------------------------------------\u001b[0m",
            "\u001b[1;31mKeyError\u001b[0m              Traceback (most recent call last)",
            "\u001b[1;32m~\\anaconda3\\lib\\site-packages\\pandas\\core\\indexes\\base.py\u001b[0m in \u001b[0;36mget_loc\u001b[1;34m(self, key, method, tolerance)\u001b[0m\n\u001b[0;32m   2894\u001b[0m             \u001b[1;32mtry\u001b[0m\u001b[1;33m:\u001b[0m\u001b[1;33m\u001b[0m\u001b[1;33m\u001b[0m\u001b[0m\n\u001b[1;32m-> 2895\u001b[1;33m                 \u001b[1;32mreturn\u001b[0m \u001b[0mself\u001b[0m\u001b[1;33m.\u001b[0m\u001b[0m_engine\u001b[0m\u001b[1;33m.\u001b[0m\u001b[0mget_loc\u001b[0m\u001b[1;33m(\u001b[0m\u001b[0mcasted_key\u001b[0m\u001b[1;33m)\u001b[0m\u001b[1;33m\u001b[0m\u001b[1;33m\u001b[0m\u001b[0m\n\u001b[0m\u001b[0;32m   2896\u001b[0m             \u001b[1;32mexcept\u001b[0m \u001b[0mKeyError\u001b[0m \u001b[1;32mas\u001b[0m \u001b[0merr\u001b[0m\u001b[1;33m:\u001b[0m\u001b[1;33m\u001b[0m\u001b[1;33m\u001b[0m\u001b[0m\n",
            "\u001b[1;32mpandas\\_libs\\index.pyx\u001b[0m in \u001b[0;36mpandas._libs.index.IndexEngine.get_loc\u001b[1;34m()\u001b[0m\n",
            "\u001b[1;32mpandas\\_libs\\index.pyx\u001b[0m in \u001b[0;36mpandas._libs.index.IndexEngine.get_loc\u001b[1;34m()\u001b[0m\n",
            "\u001b[1;32mpandas\\_libs\\hashtable_class_helper.pxi\u001b[0m in \u001b[0;36mpandas._libs.hashtable.PyObjectHashTable.get_item\u001b[1;34m()\u001b[0m\n",
            "\u001b[1;32mpandas\\_libs\\hashtable_class_helper.pxi\u001b[0m in \u001b[0;36mpandas._libs.hashtable.PyObjectHashTable.get_item\u001b[1;34m()\u001b[0m\n",
            "\u001b[1;31mKeyError\u001b[0m: 'f'",
            "\nThe above exception was the direct cause of the following exception:\n",
            "\u001b[1;31mKeyError\u001b[0m              Traceback (most recent call last)",
            "\u001b[1;32m<ipython-input-18-6a2458924842>\u001b[0m in \u001b[0;36m<module>\u001b[1;34m\u001b[0m\n\u001b[1;32m----> 1\u001b[1;33m \u001b[0ms\u001b[0m\u001b[1;33m[\u001b[0m\u001b[1;34m'f'\u001b[0m\u001b[1;33m]\u001b[0m   \u001b[1;31m# If a label is not contained, an exception is raised\u001b[0m\u001b[1;33m\u001b[0m\u001b[1;33m\u001b[0m\u001b[0m\n\u001b[0m",
            "\u001b[1;32m~\\anaconda3\\lib\\site-packages\\pandas\\core\\series.py\u001b[0m in \u001b[0;36m__getitem__\u001b[1;34m(self, key)\u001b[0m\n\u001b[0;32m    880\u001b[0m \u001b[1;33m\u001b[0m\u001b[0m\n\u001b[0;32m    881\u001b[0m         \u001b[1;32melif\u001b[0m \u001b[0mkey_is_scalar\u001b[0m\u001b[1;33m:\u001b[0m\u001b[1;33m\u001b[0m\u001b[1;33m\u001b[0m\u001b[0m\n\u001b[1;32m--> 882\u001b[1;33m             \u001b[1;32mreturn\u001b[0m \u001b[0mself\u001b[0m\u001b[1;33m.\u001b[0m\u001b[0m_get_value\u001b[0m\u001b[1;33m(\u001b[0m\u001b[0mkey\u001b[0m\u001b[1;33m)\u001b[0m\u001b[1;33m\u001b[0m\u001b[1;33m\u001b[0m\u001b[0m\n\u001b[0m\u001b[0;32m    883\u001b[0m \u001b[1;33m\u001b[0m\u001b[0m\n\u001b[0;32m    884\u001b[0m         \u001b[1;32mif\u001b[0m \u001b[0mis_hashable\u001b[0m\u001b[1;33m(\u001b[0m\u001b[0mkey\u001b[0m\u001b[1;33m)\u001b[0m\u001b[1;33m:\u001b[0m\u001b[1;33m\u001b[0m\u001b[1;33m\u001b[0m\u001b[0m\n",
            "\u001b[1;32m~\\anaconda3\\lib\\site-packages\\pandas\\core\\series.py\u001b[0m in \u001b[0;36m_get_value\u001b[1;34m(self, label, takeable)\u001b[0m\n\u001b[0;32m    987\u001b[0m \u001b[1;33m\u001b[0m\u001b[0m\n\u001b[0;32m    988\u001b[0m         \u001b[1;31m# Similar to Index.get_value, but we do not fall back to positional\u001b[0m\u001b[1;33m\u001b[0m\u001b[1;33m\u001b[0m\u001b[1;33m\u001b[0m\u001b[0m\n\u001b[1;32m--> 989\u001b[1;33m         \u001b[0mloc\u001b[0m \u001b[1;33m=\u001b[0m \u001b[0mself\u001b[0m\u001b[1;33m.\u001b[0m\u001b[0mindex\u001b[0m\u001b[1;33m.\u001b[0m\u001b[0mget_loc\u001b[0m\u001b[1;33m(\u001b[0m\u001b[0mlabel\u001b[0m\u001b[1;33m)\u001b[0m\u001b[1;33m\u001b[0m\u001b[1;33m\u001b[0m\u001b[0m\n\u001b[0m\u001b[0;32m    990\u001b[0m         \u001b[1;32mreturn\u001b[0m \u001b[0mself\u001b[0m\u001b[1;33m.\u001b[0m\u001b[0mindex\u001b[0m\u001b[1;33m.\u001b[0m\u001b[0m_get_values_for_loc\u001b[0m\u001b[1;33m(\u001b[0m\u001b[0mself\u001b[0m\u001b[1;33m,\u001b[0m \u001b[0mloc\u001b[0m\u001b[1;33m,\u001b[0m \u001b[0mlabel\u001b[0m\u001b[1;33m)\u001b[0m\u001b[1;33m\u001b[0m\u001b[1;33m\u001b[0m\u001b[0m\n\u001b[0;32m    991\u001b[0m \u001b[1;33m\u001b[0m\u001b[0m\n",
            "\u001b[1;32m~\\anaconda3\\lib\\site-packages\\pandas\\core\\indexes\\base.py\u001b[0m in \u001b[0;36mget_loc\u001b[1;34m(self, key, method, tolerance)\u001b[0m\n\u001b[0;32m   2895\u001b[0m                 \u001b[1;32mreturn\u001b[0m \u001b[0mself\u001b[0m\u001b[1;33m.\u001b[0m\u001b[0m_engine\u001b[0m\u001b[1;33m.\u001b[0m\u001b[0mget_loc\u001b[0m\u001b[1;33m(\u001b[0m\u001b[0mcasted_key\u001b[0m\u001b[1;33m)\u001b[0m\u001b[1;33m\u001b[0m\u001b[1;33m\u001b[0m\u001b[0m\n\u001b[0;32m   2896\u001b[0m             \u001b[1;32mexcept\u001b[0m \u001b[0mKeyError\u001b[0m \u001b[1;32mas\u001b[0m \u001b[0merr\u001b[0m\u001b[1;33m:\u001b[0m\u001b[1;33m\u001b[0m\u001b[1;33m\u001b[0m\u001b[0m\n\u001b[1;32m-> 2897\u001b[1;33m                 \u001b[1;32mraise\u001b[0m \u001b[0mKeyError\u001b[0m\u001b[1;33m(\u001b[0m\u001b[0mkey\u001b[0m\u001b[1;33m)\u001b[0m \u001b[1;32mfrom\u001b[0m \u001b[0merr\u001b[0m\u001b[1;33m\u001b[0m\u001b[1;33m\u001b[0m\u001b[0m\n\u001b[0m\u001b[0;32m   2898\u001b[0m \u001b[1;33m\u001b[0m\u001b[0m\n\u001b[0;32m   2899\u001b[0m         \u001b[1;32mif\u001b[0m \u001b[0mtolerance\u001b[0m \u001b[1;32mis\u001b[0m \u001b[1;32mnot\u001b[0m \u001b[1;32mNone\u001b[0m\u001b[1;33m:\u001b[0m\u001b[1;33m\u001b[0m\u001b[1;33m\u001b[0m\u001b[0m\n",
            "\u001b[1;31mKeyError\u001b[0m: 'f'"
          ]
        }
      ]
    },
    {
      "cell_type": "markdown",
      "metadata": {
        "id": "Hcki0YdVL979"
      },
      "source": [
        "+ 利用 **`get`** 方法擷取一個遺失標籤 (a missing label)，將回傳 **`None`** 或預設的值"
      ]
    },
    {
      "cell_type": "code",
      "metadata": {
        "id": "2V2qEcJ3L979"
      },
      "source": [
        "s.get('f')  "
      ],
      "execution_count": null,
      "outputs": []
    },
    {
      "cell_type": "code",
      "metadata": {
        "id": "321oGRupL979",
        "outputId": "ed697e01-59eb-4c3b-9122-56833928eb5e"
      },
      "source": [
        "print(s.get('f'))"
      ],
      "execution_count": null,
      "outputs": [
        {
          "output_type": "stream",
          "text": [
            "None\n"
          ],
          "name": "stdout"
        }
      ]
    },
    {
      "cell_type": "code",
      "metadata": {
        "id": "fvslgFdRL97-",
        "outputId": "11af44e0-392a-47fd-cf8f-f347eb95e840"
      },
      "source": [
        "s.get('f', 'Not available!')"
      ],
      "execution_count": null,
      "outputs": [
        {
          "output_type": "execute_result",
          "data": {
            "text/plain": [
              "'Not available!'"
            ]
          },
          "metadata": {
            "tags": []
          },
          "execution_count": 22
        }
      ]
    },
    {
      "cell_type": "markdown",
      "metadata": {
        "id": "_DkKNn1lL97-"
      },
      "source": [
        "<a id='key_difference'></a>\n",
        "###  2.5 A key difference between Series and ndarray \n",
        "- 兩個 Series 之間的運算會自動進行 **\"標籤對齊 (Label Allignment)\"**。 "
      ]
    },
    {
      "cell_type": "code",
      "metadata": {
        "id": "-Xuv8XkyL97-",
        "outputId": "5c01a1d2-ef47-45a3-8f24-0e90bd3affbb"
      },
      "source": [
        "s[1:]"
      ],
      "execution_count": null,
      "outputs": [
        {
          "output_type": "execute_result",
          "data": {
            "text/plain": [
              "b      -1.555630\n",
              "c      -1.743534\n",
              "d      -1.482500\n",
              "e    2021.000000\n",
              "dtype: float64"
            ]
          },
          "metadata": {
            "tags": []
          },
          "execution_count": 23
        }
      ]
    },
    {
      "cell_type": "code",
      "metadata": {
        "id": "HFnwo2TfL97-",
        "outputId": "23834a72-32ae-440b-916d-11ba5928b516"
      },
      "source": [
        "s[:-1]"
      ],
      "execution_count": null,
      "outputs": [
        {
          "output_type": "execute_result",
          "data": {
            "text/plain": [
              "a   -0.284063\n",
              "b   -1.555630\n",
              "c   -1.743534\n",
              "d   -1.482500\n",
              "dtype: float64"
            ]
          },
          "metadata": {
            "tags": []
          },
          "execution_count": 24
        }
      ]
    },
    {
      "cell_type": "markdown",
      "metadata": {
        "id": "lC3f7xh0L97_"
      },
      "source": [
        "+ **Operation between Two `Series` Data** "
      ]
    },
    {
      "cell_type": "code",
      "metadata": {
        "id": "fBV7lnaFL97_",
        "outputId": "2cd0bb5f-58fb-4799-d968-e7b6af2b1ee6"
      },
      "source": [
        "s[1:] + s[:-1]"
      ],
      "execution_count": null,
      "outputs": [
        {
          "output_type": "execute_result",
          "data": {
            "text/plain": [
              "a         NaN\n",
              "b   -3.111260\n",
              "c   -3.487068\n",
              "d   -2.965000\n",
              "e         NaN\n",
              "dtype: float64"
            ]
          },
          "metadata": {
            "tags": []
          },
          "execution_count": 25
        }
      ]
    },
    {
      "cell_type": "markdown",
      "metadata": {
        "id": "qM0cSyH4L97_"
      },
      "source": [
        "+ **Operation between Two `Ndarray` Data** "
      ]
    },
    {
      "cell_type": "code",
      "metadata": {
        "id": "Mlj5J6RML97_",
        "outputId": "7fbc7d7e-8661-47c5-f3b6-647641fa5689"
      },
      "source": [
        "np.array(s[1:]) + np.array(s[:-1])"
      ],
      "execution_count": null,
      "outputs": [
        {
          "output_type": "execute_result",
          "data": {
            "text/plain": [
              "array([-1.83969282e+00, -3.29916438e+00, -3.22603432e+00,  2.01951750e+03])"
            ]
          },
          "metadata": {
            "tags": []
          },
          "execution_count": 26
        }
      ]
    },
    {
      "cell_type": "markdown",
      "metadata": {
        "id": "7ii1Cf77L97_"
      },
      "source": [
        "<a id='name_attribute'></a>\n",
        "### 2.6 Series can also have a name attribute"
      ]
    },
    {
      "cell_type": "code",
      "metadata": {
        "id": "VQrZSeMqL98A",
        "outputId": "d6c6d1db-04b2-4f27-f62a-57ef7db0a4f0"
      },
      "source": [
        "s = pd.Series(np.random.randn(5), name='something')\n",
        "s"
      ],
      "execution_count": null,
      "outputs": [
        {
          "output_type": "execute_result",
          "data": {
            "text/plain": [
              "0   -0.164391\n",
              "1    0.953828\n",
              "2   -0.038112\n",
              "3   -1.131585\n",
              "4    1.489758\n",
              "Name: something, dtype: float64"
            ]
          },
          "metadata": {
            "tags": []
          },
          "execution_count": 27
        }
      ]
    },
    {
      "cell_type": "code",
      "metadata": {
        "id": "ECOj-Bc-L98A",
        "outputId": "113c4fe7-e199-4a7e-beb4-6cb1f69180a3"
      },
      "source": [
        "s.name"
      ],
      "execution_count": null,
      "outputs": [
        {
          "output_type": "execute_result",
          "data": {
            "text/plain": [
              "'something'"
            ]
          },
          "metadata": {
            "tags": []
          },
          "execution_count": 28
        }
      ]
    },
    {
      "cell_type": "code",
      "metadata": {
        "id": "5Xg_IGSYL98A",
        "outputId": "4b0584bd-7aef-4fdb-ad0f-592e3715b2c7"
      },
      "source": [
        "s2 = s.rename(\"different\")\n",
        "s2.name"
      ],
      "execution_count": null,
      "outputs": [
        {
          "output_type": "execute_result",
          "data": {
            "text/plain": [
              "'different'"
            ]
          },
          "metadata": {
            "tags": []
          },
          "execution_count": 29
        }
      ]
    },
    {
      "cell_type": "markdown",
      "metadata": {
        "id": "ZpJSFQ_QL98A"
      },
      "source": [
        "<a id='Time_Series'></a>\n",
        "### 2.7 Time Series (時間序列)"
      ]
    },
    {
      "cell_type": "code",
      "metadata": {
        "id": "9SfVGMzCL98B",
        "outputId": "68077f3e-3af0-445f-e2dd-dc848c08e1a5"
      },
      "source": [
        "dates = pd.date_range('20210501',periods=31)   # pd.date_range()\n",
        "dates"
      ],
      "execution_count": null,
      "outputs": [
        {
          "output_type": "execute_result",
          "data": {
            "text/plain": [
              "DatetimeIndex(['2021-05-01', '2021-05-02', '2021-05-03', '2021-05-04',\n",
              "               '2021-05-05', '2021-05-06', '2021-05-07', '2021-05-08',\n",
              "               '2021-05-09', '2021-05-10', '2021-05-11', '2021-05-12',\n",
              "               '2021-05-13', '2021-05-14', '2021-05-15', '2021-05-16',\n",
              "               '2021-05-17', '2021-05-18', '2021-05-19', '2021-05-20',\n",
              "               '2021-05-21', '2021-05-22', '2021-05-23', '2021-05-24',\n",
              "               '2021-05-25', '2021-05-26', '2021-05-27', '2021-05-28',\n",
              "               '2021-05-29', '2021-05-30', '2021-05-31'],\n",
              "              dtype='datetime64[ns]', freq='D')"
            ]
          },
          "metadata": {
            "tags": []
          },
          "execution_count": 30
        }
      ]
    },
    {
      "cell_type": "code",
      "metadata": {
        "id": "9iHjJB7OL98B",
        "outputId": "04bc989a-85d3-433a-89a8-818a27d7160f"
      },
      "source": [
        "rng = pd.date_range('5/1/2021', periods=48, freq='H')  #  48 hours starting with midnight March 1st, 2018\n",
        "rng[:18]"
      ],
      "execution_count": null,
      "outputs": [
        {
          "output_type": "execute_result",
          "data": {
            "text/plain": [
              "DatetimeIndex(['2021-05-01 00:00:00', '2021-05-01 01:00:00',\n",
              "               '2021-05-01 02:00:00', '2021-05-01 03:00:00',\n",
              "               '2021-05-01 04:00:00', '2021-05-01 05:00:00',\n",
              "               '2021-05-01 06:00:00', '2021-05-01 07:00:00',\n",
              "               '2021-05-01 08:00:00', '2021-05-01 09:00:00',\n",
              "               '2021-05-01 10:00:00', '2021-05-01 11:00:00',\n",
              "               '2021-05-01 12:00:00', '2021-05-01 13:00:00',\n",
              "               '2021-05-01 14:00:00', '2021-05-01 15:00:00',\n",
              "               '2021-05-01 16:00:00', '2021-05-01 17:00:00'],\n",
              "              dtype='datetime64[ns]', freq='H')"
            ]
          },
          "metadata": {
            "tags": []
          },
          "execution_count": 31
        }
      ]
    },
    {
      "cell_type": "code",
      "metadata": {
        "id": "JX6AqbFdL98B",
        "outputId": "d5a271f3-2107-4b05-f1ad-b274eccf8aec"
      },
      "source": [
        "rng[24:]"
      ],
      "execution_count": null,
      "outputs": [
        {
          "output_type": "execute_result",
          "data": {
            "text/plain": [
              "DatetimeIndex(['2021-05-02 00:00:00', '2021-05-02 01:00:00',\n",
              "               '2021-05-02 02:00:00', '2021-05-02 03:00:00',\n",
              "               '2021-05-02 04:00:00', '2021-05-02 05:00:00',\n",
              "               '2021-05-02 06:00:00', '2021-05-02 07:00:00',\n",
              "               '2021-05-02 08:00:00', '2021-05-02 09:00:00',\n",
              "               '2021-05-02 10:00:00', '2021-05-02 11:00:00',\n",
              "               '2021-05-02 12:00:00', '2021-05-02 13:00:00',\n",
              "               '2021-05-02 14:00:00', '2021-05-02 15:00:00',\n",
              "               '2021-05-02 16:00:00', '2021-05-02 17:00:00',\n",
              "               '2021-05-02 18:00:00', '2021-05-02 19:00:00',\n",
              "               '2021-05-02 20:00:00', '2021-05-02 21:00:00',\n",
              "               '2021-05-02 22:00:00', '2021-05-02 23:00:00'],\n",
              "              dtype='datetime64[ns]', freq='H')"
            ]
          },
          "metadata": {
            "tags": []
          },
          "execution_count": 32
        }
      ]
    },
    {
      "cell_type": "markdown",
      "metadata": {
        "id": "Ybc_vtgGL98B"
      },
      "source": [
        "<a id='2.8'></a>\n",
        "### 2.8 建立依時間序列排序的資料表"
      ]
    },
    {
      "cell_type": "code",
      "metadata": {
        "id": "rqplFKy7L98B",
        "outputId": "709b35b6-f50f-4da1-9fb3-98f99fd7c976"
      },
      "source": [
        "ts = pd.Series(np.random.randn(len(rng)), index=rng)   #  Index pandas objects with dates\n",
        "ts.head()"
      ],
      "execution_count": null,
      "outputs": [
        {
          "output_type": "execute_result",
          "data": {
            "text/plain": [
              "2021-05-01 00:00:00    0.837273\n",
              "2021-05-01 01:00:00    0.716302\n",
              "2021-05-01 02:00:00   -0.793441\n",
              "2021-05-01 03:00:00    0.862851\n",
              "2021-05-01 04:00:00   -0.413387\n",
              "Freq: H, dtype: float64"
            ]
          },
          "metadata": {
            "tags": []
          },
          "execution_count": 33
        }
      ]
    },
    {
      "cell_type": "code",
      "metadata": {
        "id": "WjwWTnNlL98C",
        "outputId": "e3901c1e-ad99-4ef4-8dbc-fe1f35faabd4"
      },
      "source": [
        "ts[:12]"
      ],
      "execution_count": null,
      "outputs": [
        {
          "output_type": "execute_result",
          "data": {
            "text/plain": [
              "2021-05-01 00:00:00    0.837273\n",
              "2021-05-01 01:00:00    0.716302\n",
              "2021-05-01 02:00:00   -0.793441\n",
              "2021-05-01 03:00:00    0.862851\n",
              "2021-05-01 04:00:00   -0.413387\n",
              "2021-05-01 05:00:00    0.884830\n",
              "2021-05-01 06:00:00   -0.158478\n",
              "2021-05-01 07:00:00   -0.407269\n",
              "2021-05-01 08:00:00    1.513611\n",
              "2021-05-01 09:00:00   -0.970418\n",
              "2021-05-01 10:00:00    1.489655\n",
              "2021-05-01 11:00:00    0.241408\n",
              "Freq: H, dtype: float64"
            ]
          },
          "metadata": {
            "tags": []
          },
          "execution_count": 34
        }
      ]
    },
    {
      "cell_type": "code",
      "metadata": {
        "id": "K_MbsXEeL98C",
        "outputId": "7f1b4d1c-c6c5-468d-d23a-92b08c96d51a"
      },
      "source": [
        "converted = ts.asfreq('20Min', method='pad')         \n",
        "converted.head()\n",
        "# Q: Change the frequency to 45 minute?"
      ],
      "execution_count": null,
      "outputs": [
        {
          "output_type": "execute_result",
          "data": {
            "text/plain": [
              "2021-05-01 00:00:00    0.837273\n",
              "2021-05-01 00:20:00    0.837273\n",
              "2021-05-01 00:40:00    0.837273\n",
              "2021-05-01 01:00:00    0.716302\n",
              "2021-05-01 01:20:00    0.716302\n",
              "Freq: 20T, dtype: float64"
            ]
          },
          "metadata": {
            "tags": []
          },
          "execution_count": 35
        }
      ]
    },
    {
      "cell_type": "code",
      "metadata": {
        "scrolled": true,
        "id": "OSsBNYuRL98D",
        "outputId": "19c36c7f-06a8-4778-b58a-39ba9ad76e37"
      },
      "source": [
        "day = ts.resample('D').sum()     #  Resample for daily means\n",
        "pd.Series(day)"
      ],
      "execution_count": null,
      "outputs": [
        {
          "output_type": "execute_result",
          "data": {
            "text/plain": [
              "2021-05-01    6.323313\n",
              "2021-05-02    2.093663\n",
              "Freq: D, dtype: float64"
            ]
          },
          "metadata": {
            "tags": []
          },
          "execution_count": 36
        }
      ]
    },
    {
      "cell_type": "markdown",
      "metadata": {
        "id": "CCz5hn4RL98D"
      },
      "source": [
        "> **[ Reference ]** - \n",
        "**More on `Time Series`:**\n",
        "https://pandas.pydata.org/docs/getting_started/intro_tutorials/09_timeseries.html"
      ]
    },
    {
      "cell_type": "markdown",
      "metadata": {
        "id": "nR9UALVCL98D"
      },
      "source": [
        "<a id='DataFrame'></a>\n",
        "#  3. DataFrame (資料框)\n",
        "\n",
        "> - DataFrame 是一個二維標籤化的資料結構；其中，每一行的資料型別必須相同。 \n",
        "> - 可以將 DataFrame 視為 試算表(spreadsheet) 或 SQL 資料表，或者視為一個 dictionary 儲存 Series 物件。 \n",
        "> - 一般而言，DataFrame 是使用最廣泛的 pandas 物件。\n",
        "\n",
        "<a id='Creating_DataFrame'></a>\n",
        "## 3.1 Creating DataFrame (產生資料框)\n",
        "\n",
        "### 3.1.1  From dict of Series or dicts"
      ]
    },
    {
      "cell_type": "code",
      "metadata": {
        "id": "kA3dF_88L98E",
        "outputId": "11a60466-da82-4196-a10b-4d1f07abf840"
      },
      "source": [
        "d = {'one' : pd.Series([1., 2., 3.], index=['a', 'b', 'c']),\n",
        "     'two' : pd.Series([1., 2., 3., 4.], index=['a', 'b', 'c', 'd'])}\n",
        "df = pd.DataFrame(d)\n",
        "df"
      ],
      "execution_count": null,
      "outputs": [
        {
          "output_type": "execute_result",
          "data": {
            "text/html": [
              "<div>\n",
              "<style scoped>\n",
              "    .dataframe tbody tr th:only-of-type {\n",
              "        vertical-align: middle;\n",
              "    }\n",
              "\n",
              "    .dataframe tbody tr th {\n",
              "        vertical-align: top;\n",
              "    }\n",
              "\n",
              "    .dataframe thead th {\n",
              "        text-align: right;\n",
              "    }\n",
              "</style>\n",
              "<table border=\"1\" class=\"dataframe\">\n",
              "  <thead>\n",
              "    <tr style=\"text-align: right;\">\n",
              "      <th></th>\n",
              "      <th>one</th>\n",
              "      <th>two</th>\n",
              "    </tr>\n",
              "  </thead>\n",
              "  <tbody>\n",
              "    <tr>\n",
              "      <th>a</th>\n",
              "      <td>1.0</td>\n",
              "      <td>1.0</td>\n",
              "    </tr>\n",
              "    <tr>\n",
              "      <th>b</th>\n",
              "      <td>2.0</td>\n",
              "      <td>2.0</td>\n",
              "    </tr>\n",
              "    <tr>\n",
              "      <th>c</th>\n",
              "      <td>3.0</td>\n",
              "      <td>3.0</td>\n",
              "    </tr>\n",
              "    <tr>\n",
              "      <th>d</th>\n",
              "      <td>NaN</td>\n",
              "      <td>4.0</td>\n",
              "    </tr>\n",
              "  </tbody>\n",
              "</table>\n",
              "</div>"
            ],
            "text/plain": [
              "   one  two\n",
              "a  1.0  1.0\n",
              "b  2.0  2.0\n",
              "c  3.0  3.0\n",
              "d  NaN  4.0"
            ]
          },
          "metadata": {
            "tags": []
          },
          "execution_count": 37
        }
      ]
    },
    {
      "cell_type": "code",
      "metadata": {
        "id": "xgRRhenaL98E",
        "outputId": "3937acf0-1720-4f08-ad05-26e4a0d19f1b"
      },
      "source": [
        "pd.DataFrame(d, index=['d', 'b', 'a'])"
      ],
      "execution_count": null,
      "outputs": [
        {
          "output_type": "execute_result",
          "data": {
            "text/html": [
              "<div>\n",
              "<style scoped>\n",
              "    .dataframe tbody tr th:only-of-type {\n",
              "        vertical-align: middle;\n",
              "    }\n",
              "\n",
              "    .dataframe tbody tr th {\n",
              "        vertical-align: top;\n",
              "    }\n",
              "\n",
              "    .dataframe thead th {\n",
              "        text-align: right;\n",
              "    }\n",
              "</style>\n",
              "<table border=\"1\" class=\"dataframe\">\n",
              "  <thead>\n",
              "    <tr style=\"text-align: right;\">\n",
              "      <th></th>\n",
              "      <th>one</th>\n",
              "      <th>two</th>\n",
              "    </tr>\n",
              "  </thead>\n",
              "  <tbody>\n",
              "    <tr>\n",
              "      <th>d</th>\n",
              "      <td>NaN</td>\n",
              "      <td>4.0</td>\n",
              "    </tr>\n",
              "    <tr>\n",
              "      <th>b</th>\n",
              "      <td>2.0</td>\n",
              "      <td>2.0</td>\n",
              "    </tr>\n",
              "    <tr>\n",
              "      <th>a</th>\n",
              "      <td>1.0</td>\n",
              "      <td>1.0</td>\n",
              "    </tr>\n",
              "  </tbody>\n",
              "</table>\n",
              "</div>"
            ],
            "text/plain": [
              "   one  two\n",
              "d  NaN  4.0\n",
              "b  2.0  2.0\n",
              "a  1.0  1.0"
            ]
          },
          "metadata": {
            "tags": []
          },
          "execution_count": 38
        }
      ]
    },
    {
      "cell_type": "code",
      "metadata": {
        "id": "EYVGnSaoL98E",
        "outputId": "f7cfa2bf-522d-4f39-dcca-6cd5e43cd7fa"
      },
      "source": [
        "pd.DataFrame(d, index=['d', 'b', 'a'], columns=['two', 'three'])"
      ],
      "execution_count": null,
      "outputs": [
        {
          "output_type": "execute_result",
          "data": {
            "text/html": [
              "<div>\n",
              "<style scoped>\n",
              "    .dataframe tbody tr th:only-of-type {\n",
              "        vertical-align: middle;\n",
              "    }\n",
              "\n",
              "    .dataframe tbody tr th {\n",
              "        vertical-align: top;\n",
              "    }\n",
              "\n",
              "    .dataframe thead th {\n",
              "        text-align: right;\n",
              "    }\n",
              "</style>\n",
              "<table border=\"1\" class=\"dataframe\">\n",
              "  <thead>\n",
              "    <tr style=\"text-align: right;\">\n",
              "      <th></th>\n",
              "      <th>two</th>\n",
              "      <th>three</th>\n",
              "    </tr>\n",
              "  </thead>\n",
              "  <tbody>\n",
              "    <tr>\n",
              "      <th>d</th>\n",
              "      <td>4.0</td>\n",
              "      <td>NaN</td>\n",
              "    </tr>\n",
              "    <tr>\n",
              "      <th>b</th>\n",
              "      <td>2.0</td>\n",
              "      <td>NaN</td>\n",
              "    </tr>\n",
              "    <tr>\n",
              "      <th>a</th>\n",
              "      <td>1.0</td>\n",
              "      <td>NaN</td>\n",
              "    </tr>\n",
              "  </tbody>\n",
              "</table>\n",
              "</div>"
            ],
            "text/plain": [
              "   two three\n",
              "d  4.0   NaN\n",
              "b  2.0   NaN\n",
              "a  1.0   NaN"
            ]
          },
          "metadata": {
            "tags": []
          },
          "execution_count": 39
        }
      ]
    },
    {
      "cell_type": "markdown",
      "metadata": {
        "id": "PLjqINOoL98F"
      },
      "source": [
        "+ #### 透過呼叫 `index` 和 `columns` 兩個屬性，可以存取 列(row) 與 行(column)的標籤"
      ]
    },
    {
      "cell_type": "code",
      "metadata": {
        "id": "1dsMlxHfL98F",
        "outputId": "bb79a55a-5358-4578-aede-0591349b7919"
      },
      "source": [
        "df.index"
      ],
      "execution_count": null,
      "outputs": [
        {
          "output_type": "execute_result",
          "data": {
            "text/plain": [
              "Index(['a', 'b', 'c', 'd'], dtype='object')"
            ]
          },
          "metadata": {
            "tags": []
          },
          "execution_count": 40
        }
      ]
    },
    {
      "cell_type": "code",
      "metadata": {
        "id": "NJAt48-yL98F",
        "outputId": "659a3b99-e6b9-40b6-d488-c0972b80aee0"
      },
      "source": [
        "df.columns"
      ],
      "execution_count": null,
      "outputs": [
        {
          "output_type": "execute_result",
          "data": {
            "text/plain": [
              "Index(['one', 'two'], dtype='object')"
            ]
          },
          "metadata": {
            "tags": []
          },
          "execution_count": 41
        }
      ]
    },
    {
      "cell_type": "markdown",
      "metadata": {
        "id": "QDjt57qsL98F"
      },
      "source": [
        "### 3.1.2  From dict of ndarrays / lists\n",
        "- `ndarrays`/`lists` 資料長度必須相同，否則，會有錯誤訊息。 \n",
        "- 如果設定 `index` 時，其長度必須與 ndarrays 資料長度相同。\n",
        "- 如果未設定 `index` 時， `index` 即為 `range(n)`，其中，n 為 ndarrays/lists 資料長度。"
      ]
    },
    {
      "cell_type": "code",
      "metadata": {
        "id": "nfogfAxML98G",
        "outputId": "aa46c283-ae5b-41cd-b16c-0a641aa27b91"
      },
      "source": [
        "d = {'one' : [1., 2., 3., 4.],\n",
        "     'two' : [4., 3., 2., 1.]}\n",
        "pd.DataFrame(d)"
      ],
      "execution_count": null,
      "outputs": [
        {
          "output_type": "execute_result",
          "data": {
            "text/html": [
              "<div>\n",
              "<style scoped>\n",
              "    .dataframe tbody tr th:only-of-type {\n",
              "        vertical-align: middle;\n",
              "    }\n",
              "\n",
              "    .dataframe tbody tr th {\n",
              "        vertical-align: top;\n",
              "    }\n",
              "\n",
              "    .dataframe thead th {\n",
              "        text-align: right;\n",
              "    }\n",
              "</style>\n",
              "<table border=\"1\" class=\"dataframe\">\n",
              "  <thead>\n",
              "    <tr style=\"text-align: right;\">\n",
              "      <th></th>\n",
              "      <th>one</th>\n",
              "      <th>two</th>\n",
              "    </tr>\n",
              "  </thead>\n",
              "  <tbody>\n",
              "    <tr>\n",
              "      <th>0</th>\n",
              "      <td>1.0</td>\n",
              "      <td>4.0</td>\n",
              "    </tr>\n",
              "    <tr>\n",
              "      <th>1</th>\n",
              "      <td>2.0</td>\n",
              "      <td>3.0</td>\n",
              "    </tr>\n",
              "    <tr>\n",
              "      <th>2</th>\n",
              "      <td>3.0</td>\n",
              "      <td>2.0</td>\n",
              "    </tr>\n",
              "    <tr>\n",
              "      <th>3</th>\n",
              "      <td>4.0</td>\n",
              "      <td>1.0</td>\n",
              "    </tr>\n",
              "  </tbody>\n",
              "</table>\n",
              "</div>"
            ],
            "text/plain": [
              "   one  two\n",
              "0  1.0  4.0\n",
              "1  2.0  3.0\n",
              "2  3.0  2.0\n",
              "3  4.0  1.0"
            ]
          },
          "metadata": {
            "tags": []
          },
          "execution_count": 42
        }
      ]
    },
    {
      "cell_type": "code",
      "metadata": {
        "id": "EaQKQRRBL98G",
        "outputId": "cdce73cb-60ad-48f4-b00e-a62495293abf"
      },
      "source": [
        "pd.DataFrame(d, index=['a', 'b', 'c', 'd'])"
      ],
      "execution_count": null,
      "outputs": [
        {
          "output_type": "execute_result",
          "data": {
            "text/html": [
              "<div>\n",
              "<style scoped>\n",
              "    .dataframe tbody tr th:only-of-type {\n",
              "        vertical-align: middle;\n",
              "    }\n",
              "\n",
              "    .dataframe tbody tr th {\n",
              "        vertical-align: top;\n",
              "    }\n",
              "\n",
              "    .dataframe thead th {\n",
              "        text-align: right;\n",
              "    }\n",
              "</style>\n",
              "<table border=\"1\" class=\"dataframe\">\n",
              "  <thead>\n",
              "    <tr style=\"text-align: right;\">\n",
              "      <th></th>\n",
              "      <th>one</th>\n",
              "      <th>two</th>\n",
              "    </tr>\n",
              "  </thead>\n",
              "  <tbody>\n",
              "    <tr>\n",
              "      <th>a</th>\n",
              "      <td>1.0</td>\n",
              "      <td>4.0</td>\n",
              "    </tr>\n",
              "    <tr>\n",
              "      <th>b</th>\n",
              "      <td>2.0</td>\n",
              "      <td>3.0</td>\n",
              "    </tr>\n",
              "    <tr>\n",
              "      <th>c</th>\n",
              "      <td>3.0</td>\n",
              "      <td>2.0</td>\n",
              "    </tr>\n",
              "    <tr>\n",
              "      <th>d</th>\n",
              "      <td>4.0</td>\n",
              "      <td>1.0</td>\n",
              "    </tr>\n",
              "  </tbody>\n",
              "</table>\n",
              "</div>"
            ],
            "text/plain": [
              "   one  two\n",
              "a  1.0  4.0\n",
              "b  2.0  3.0\n",
              "c  3.0  2.0\n",
              "d  4.0  1.0"
            ]
          },
          "metadata": {
            "tags": []
          },
          "execution_count": 43
        }
      ]
    },
    {
      "cell_type": "markdown",
      "metadata": {
        "id": "orPTW5YmL98G"
      },
      "source": [
        "### 3.1.3  From structured or record array"
      ]
    },
    {
      "cell_type": "code",
      "metadata": {
        "id": "2lEREjCcL98H",
        "outputId": "557ab956-fa1e-42ba-96f3-bc6f8b2f77f5"
      },
      "source": [
        "data = np.zeros((2,), dtype=[('A', 'i4'),('B', 'f4'),('C', 'a10')])\n",
        "data"
      ],
      "execution_count": null,
      "outputs": [
        {
          "output_type": "execute_result",
          "data": {
            "text/plain": [
              "array([(0, 0., b''), (0, 0., b'')],\n",
              "      dtype=[('A', '<i4'), ('B', '<f4'), ('C', 'S10')])"
            ]
          },
          "metadata": {
            "tags": []
          },
          "execution_count": 44
        }
      ]
    },
    {
      "cell_type": "code",
      "metadata": {
        "id": "F5vYDn2PL98H",
        "outputId": "82c9db77-7462-4805-b549-a41ed1751384"
      },
      "source": [
        "data[:] = [(1,2.,'Hello'), (2,3.,\"World\")]\n",
        "data"
      ],
      "execution_count": null,
      "outputs": [
        {
          "output_type": "execute_result",
          "data": {
            "text/plain": [
              "array([(1, 2., b'Hello'), (2, 3., b'World')],\n",
              "      dtype=[('A', '<i4'), ('B', '<f4'), ('C', 'S10')])"
            ]
          },
          "metadata": {
            "tags": []
          },
          "execution_count": 45
        }
      ]
    },
    {
      "cell_type": "code",
      "metadata": {
        "id": "mCIr14q8L98K",
        "outputId": "74adeb74-1bd4-49e0-918b-ad6cde93e511"
      },
      "source": [
        "pd.DataFrame(data)"
      ],
      "execution_count": null,
      "outputs": [
        {
          "output_type": "execute_result",
          "data": {
            "text/html": [
              "<div>\n",
              "<style scoped>\n",
              "    .dataframe tbody tr th:only-of-type {\n",
              "        vertical-align: middle;\n",
              "    }\n",
              "\n",
              "    .dataframe tbody tr th {\n",
              "        vertical-align: top;\n",
              "    }\n",
              "\n",
              "    .dataframe thead th {\n",
              "        text-align: right;\n",
              "    }\n",
              "</style>\n",
              "<table border=\"1\" class=\"dataframe\">\n",
              "  <thead>\n",
              "    <tr style=\"text-align: right;\">\n",
              "      <th></th>\n",
              "      <th>A</th>\n",
              "      <th>B</th>\n",
              "      <th>C</th>\n",
              "    </tr>\n",
              "  </thead>\n",
              "  <tbody>\n",
              "    <tr>\n",
              "      <th>0</th>\n",
              "      <td>1</td>\n",
              "      <td>2.0</td>\n",
              "      <td>b'Hello'</td>\n",
              "    </tr>\n",
              "    <tr>\n",
              "      <th>1</th>\n",
              "      <td>2</td>\n",
              "      <td>3.0</td>\n",
              "      <td>b'World'</td>\n",
              "    </tr>\n",
              "  </tbody>\n",
              "</table>\n",
              "</div>"
            ],
            "text/plain": [
              "   A    B         C\n",
              "0  1  2.0  b'Hello'\n",
              "1  2  3.0  b'World'"
            ]
          },
          "metadata": {
            "tags": []
          },
          "execution_count": 46
        }
      ]
    },
    {
      "cell_type": "markdown",
      "metadata": {
        "id": "p4NCxoKwL98K"
      },
      "source": [
        "####  [NOTE]: b'Hello' is a bytes literal of the string, 'Hello'.\n",
        "> **[ Ref ]: Bytes Objects -** https://docs.python.org/3/library/stdtypes.html#binary-sequence-types-bytes-bytearray-memoryview"
      ]
    },
    {
      "cell_type": "code",
      "metadata": {
        "id": "4eixDjz0L98L",
        "outputId": "8674865d-4109-4090-e78a-397b607091cf"
      },
      "source": [
        "pd.DataFrame(data, index=['first', 'second'])"
      ],
      "execution_count": null,
      "outputs": [
        {
          "output_type": "execute_result",
          "data": {
            "text/html": [
              "<div>\n",
              "<style scoped>\n",
              "    .dataframe tbody tr th:only-of-type {\n",
              "        vertical-align: middle;\n",
              "    }\n",
              "\n",
              "    .dataframe tbody tr th {\n",
              "        vertical-align: top;\n",
              "    }\n",
              "\n",
              "    .dataframe thead th {\n",
              "        text-align: right;\n",
              "    }\n",
              "</style>\n",
              "<table border=\"1\" class=\"dataframe\">\n",
              "  <thead>\n",
              "    <tr style=\"text-align: right;\">\n",
              "      <th></th>\n",
              "      <th>A</th>\n",
              "      <th>B</th>\n",
              "      <th>C</th>\n",
              "    </tr>\n",
              "  </thead>\n",
              "  <tbody>\n",
              "    <tr>\n",
              "      <th>first</th>\n",
              "      <td>1</td>\n",
              "      <td>2.0</td>\n",
              "      <td>b'Hello'</td>\n",
              "    </tr>\n",
              "    <tr>\n",
              "      <th>second</th>\n",
              "      <td>2</td>\n",
              "      <td>3.0</td>\n",
              "      <td>b'World'</td>\n",
              "    </tr>\n",
              "  </tbody>\n",
              "</table>\n",
              "</div>"
            ],
            "text/plain": [
              "        A    B         C\n",
              "first   1  2.0  b'Hello'\n",
              "second  2  3.0  b'World'"
            ]
          },
          "metadata": {
            "tags": []
          },
          "execution_count": 47
        }
      ]
    },
    {
      "cell_type": "code",
      "metadata": {
        "id": "NhGlOQRcL98M",
        "outputId": "78bbe88c-af78-4b62-b44c-cd1e5e95fb0e"
      },
      "source": [
        "pd.DataFrame(data, columns=['C', 'A', 'B'])"
      ],
      "execution_count": null,
      "outputs": [
        {
          "output_type": "execute_result",
          "data": {
            "text/html": [
              "<div>\n",
              "<style scoped>\n",
              "    .dataframe tbody tr th:only-of-type {\n",
              "        vertical-align: middle;\n",
              "    }\n",
              "\n",
              "    .dataframe tbody tr th {\n",
              "        vertical-align: top;\n",
              "    }\n",
              "\n",
              "    .dataframe thead th {\n",
              "        text-align: right;\n",
              "    }\n",
              "</style>\n",
              "<table border=\"1\" class=\"dataframe\">\n",
              "  <thead>\n",
              "    <tr style=\"text-align: right;\">\n",
              "      <th></th>\n",
              "      <th>C</th>\n",
              "      <th>A</th>\n",
              "      <th>B</th>\n",
              "    </tr>\n",
              "  </thead>\n",
              "  <tbody>\n",
              "    <tr>\n",
              "      <th>0</th>\n",
              "      <td>b'Hello'</td>\n",
              "      <td>1</td>\n",
              "      <td>2.0</td>\n",
              "    </tr>\n",
              "    <tr>\n",
              "      <th>1</th>\n",
              "      <td>b'World'</td>\n",
              "      <td>2</td>\n",
              "      <td>3.0</td>\n",
              "    </tr>\n",
              "  </tbody>\n",
              "</table>\n",
              "</div>"
            ],
            "text/plain": [
              "          C  A    B\n",
              "0  b'Hello'  1  2.0\n",
              "1  b'World'  2  3.0"
            ]
          },
          "metadata": {
            "tags": []
          },
          "execution_count": 48
        }
      ]
    },
    {
      "cell_type": "markdown",
      "metadata": {
        "id": "p8b42ke8L98M"
      },
      "source": [
        "\n",
        ">    **[ Note ]:**    `DataFrame` is *not* intended to work exactly like a 2-dimensional `NumPy` `ndarray`.  "
      ]
    },
    {
      "cell_type": "markdown",
      "metadata": {
        "id": "pmRO0iL6L98N"
      },
      "source": [
        "### 3.1.4 From a list of dicts"
      ]
    },
    {
      "cell_type": "code",
      "metadata": {
        "id": "8k8By5ILL98N",
        "outputId": "c62428ae-7e3c-4e96-fc71-1f69807d96cc"
      },
      "source": [
        "data2 = [{'a': 1, 'b': 2}, {'a': 5, 'b': 10, 'c': 20}]\n",
        "data2"
      ],
      "execution_count": null,
      "outputs": [
        {
          "output_type": "execute_result",
          "data": {
            "text/plain": [
              "[{'a': 1, 'b': 2}, {'a': 5, 'b': 10, 'c': 20}]"
            ]
          },
          "metadata": {
            "tags": []
          },
          "execution_count": 49
        }
      ]
    },
    {
      "cell_type": "code",
      "metadata": {
        "id": "5h6Fn4w6L98O",
        "outputId": "f7499063-115a-4db3-8956-22ae7f647343"
      },
      "source": [
        "pd.DataFrame(data2)"
      ],
      "execution_count": null,
      "outputs": [
        {
          "output_type": "execute_result",
          "data": {
            "text/html": [
              "<div>\n",
              "<style scoped>\n",
              "    .dataframe tbody tr th:only-of-type {\n",
              "        vertical-align: middle;\n",
              "    }\n",
              "\n",
              "    .dataframe tbody tr th {\n",
              "        vertical-align: top;\n",
              "    }\n",
              "\n",
              "    .dataframe thead th {\n",
              "        text-align: right;\n",
              "    }\n",
              "</style>\n",
              "<table border=\"1\" class=\"dataframe\">\n",
              "  <thead>\n",
              "    <tr style=\"text-align: right;\">\n",
              "      <th></th>\n",
              "      <th>a</th>\n",
              "      <th>b</th>\n",
              "      <th>c</th>\n",
              "    </tr>\n",
              "  </thead>\n",
              "  <tbody>\n",
              "    <tr>\n",
              "      <th>0</th>\n",
              "      <td>1</td>\n",
              "      <td>2</td>\n",
              "      <td>NaN</td>\n",
              "    </tr>\n",
              "    <tr>\n",
              "      <th>1</th>\n",
              "      <td>5</td>\n",
              "      <td>10</td>\n",
              "      <td>20.0</td>\n",
              "    </tr>\n",
              "  </tbody>\n",
              "</table>\n",
              "</div>"
            ],
            "text/plain": [
              "   a   b     c\n",
              "0  1   2   NaN\n",
              "1  5  10  20.0"
            ]
          },
          "metadata": {
            "tags": []
          },
          "execution_count": 50
        }
      ]
    },
    {
      "cell_type": "code",
      "metadata": {
        "id": "EhMmRlmWL98O",
        "outputId": "7d92e38d-cede-4e30-c11c-8abfb6f498cf"
      },
      "source": [
        "pd.DataFrame(data2, index=['first', 'second'])"
      ],
      "execution_count": null,
      "outputs": [
        {
          "output_type": "execute_result",
          "data": {
            "text/html": [
              "<div>\n",
              "<style scoped>\n",
              "    .dataframe tbody tr th:only-of-type {\n",
              "        vertical-align: middle;\n",
              "    }\n",
              "\n",
              "    .dataframe tbody tr th {\n",
              "        vertical-align: top;\n",
              "    }\n",
              "\n",
              "    .dataframe thead th {\n",
              "        text-align: right;\n",
              "    }\n",
              "</style>\n",
              "<table border=\"1\" class=\"dataframe\">\n",
              "  <thead>\n",
              "    <tr style=\"text-align: right;\">\n",
              "      <th></th>\n",
              "      <th>a</th>\n",
              "      <th>b</th>\n",
              "      <th>c</th>\n",
              "    </tr>\n",
              "  </thead>\n",
              "  <tbody>\n",
              "    <tr>\n",
              "      <th>first</th>\n",
              "      <td>1</td>\n",
              "      <td>2</td>\n",
              "      <td>NaN</td>\n",
              "    </tr>\n",
              "    <tr>\n",
              "      <th>second</th>\n",
              "      <td>5</td>\n",
              "      <td>10</td>\n",
              "      <td>20.0</td>\n",
              "    </tr>\n",
              "  </tbody>\n",
              "</table>\n",
              "</div>"
            ],
            "text/plain": [
              "        a   b     c\n",
              "first   1   2   NaN\n",
              "second  5  10  20.0"
            ]
          },
          "metadata": {
            "tags": []
          },
          "execution_count": 51
        }
      ]
    },
    {
      "cell_type": "code",
      "metadata": {
        "id": "BK5-DfGGL98P",
        "outputId": "5e32a15f-0d4f-46bb-b467-9821e187c1f5"
      },
      "source": [
        "pd.DataFrame(data2, columns=['a', 'b'])  #  Picking two columns out of data2"
      ],
      "execution_count": null,
      "outputs": [
        {
          "output_type": "execute_result",
          "data": {
            "text/html": [
              "<div>\n",
              "<style scoped>\n",
              "    .dataframe tbody tr th:only-of-type {\n",
              "        vertical-align: middle;\n",
              "    }\n",
              "\n",
              "    .dataframe tbody tr th {\n",
              "        vertical-align: top;\n",
              "    }\n",
              "\n",
              "    .dataframe thead th {\n",
              "        text-align: right;\n",
              "    }\n",
              "</style>\n",
              "<table border=\"1\" class=\"dataframe\">\n",
              "  <thead>\n",
              "    <tr style=\"text-align: right;\">\n",
              "      <th></th>\n",
              "      <th>a</th>\n",
              "      <th>b</th>\n",
              "    </tr>\n",
              "  </thead>\n",
              "  <tbody>\n",
              "    <tr>\n",
              "      <th>0</th>\n",
              "      <td>1</td>\n",
              "      <td>2</td>\n",
              "    </tr>\n",
              "    <tr>\n",
              "      <th>1</th>\n",
              "      <td>5</td>\n",
              "      <td>10</td>\n",
              "    </tr>\n",
              "  </tbody>\n",
              "</table>\n",
              "</div>"
            ],
            "text/plain": [
              "   a   b\n",
              "0  1   2\n",
              "1  5  10"
            ]
          },
          "metadata": {
            "tags": []
          },
          "execution_count": 52
        }
      ]
    },
    {
      "cell_type": "code",
      "metadata": {
        "id": "rPbEiARZL98P",
        "outputId": "3001b774-9506-43bb-aa08-73d9beae544d"
      },
      "source": [
        "pd.DataFrame(data2)   #  Checking data2..."
      ],
      "execution_count": null,
      "outputs": [
        {
          "output_type": "execute_result",
          "data": {
            "text/html": [
              "<div>\n",
              "<style scoped>\n",
              "    .dataframe tbody tr th:only-of-type {\n",
              "        vertical-align: middle;\n",
              "    }\n",
              "\n",
              "    .dataframe tbody tr th {\n",
              "        vertical-align: top;\n",
              "    }\n",
              "\n",
              "    .dataframe thead th {\n",
              "        text-align: right;\n",
              "    }\n",
              "</style>\n",
              "<table border=\"1\" class=\"dataframe\">\n",
              "  <thead>\n",
              "    <tr style=\"text-align: right;\">\n",
              "      <th></th>\n",
              "      <th>a</th>\n",
              "      <th>b</th>\n",
              "      <th>c</th>\n",
              "    </tr>\n",
              "  </thead>\n",
              "  <tbody>\n",
              "    <tr>\n",
              "      <th>0</th>\n",
              "      <td>1</td>\n",
              "      <td>2</td>\n",
              "      <td>NaN</td>\n",
              "    </tr>\n",
              "    <tr>\n",
              "      <th>1</th>\n",
              "      <td>5</td>\n",
              "      <td>10</td>\n",
              "      <td>20.0</td>\n",
              "    </tr>\n",
              "  </tbody>\n",
              "</table>\n",
              "</div>"
            ],
            "text/plain": [
              "   a   b     c\n",
              "0  1   2   NaN\n",
              "1  5  10  20.0"
            ]
          },
          "metadata": {
            "tags": []
          },
          "execution_count": 53
        }
      ]
    },
    {
      "cell_type": "markdown",
      "metadata": {
        "id": "b2mmFO4XL98Q"
      },
      "source": [
        "### 3.1.5  From a dict of tuples\n",
        "- You can automatically create a multi-indexed frame by passing a tuples dictionary"
      ]
    },
    {
      "cell_type": "code",
      "metadata": {
        "id": "oqrmtrsvL98Q",
        "outputId": "52ebdcc0-5e29-4463-a600-ddfcfdadf3b0"
      },
      "source": [
        "pd.DataFrame({('a', 'b'): {('A', 'B'): 1, ('A', 'C'): 2},\n",
        "              ('a', 'a'): {('A', 'C'): 3, ('A', 'B'): 4},\n",
        "              ('a', 'c'): {('A', 'B'): 5, ('A', 'C'): 6},\n",
        "              ('b', 'a'): {('A', 'C'): 7, ('A', 'B'): 8},\n",
        "              ('b', 'b'): {('A', 'D'): 9, ('A', 'B'): 10}})"
      ],
      "execution_count": null,
      "outputs": [
        {
          "output_type": "execute_result",
          "data": {
            "text/html": [
              "<div>\n",
              "<style scoped>\n",
              "    .dataframe tbody tr th:only-of-type {\n",
              "        vertical-align: middle;\n",
              "    }\n",
              "\n",
              "    .dataframe tbody tr th {\n",
              "        vertical-align: top;\n",
              "    }\n",
              "\n",
              "    .dataframe thead tr th {\n",
              "        text-align: left;\n",
              "    }\n",
              "</style>\n",
              "<table border=\"1\" class=\"dataframe\">\n",
              "  <thead>\n",
              "    <tr>\n",
              "      <th></th>\n",
              "      <th></th>\n",
              "      <th colspan=\"3\" halign=\"left\">a</th>\n",
              "      <th colspan=\"2\" halign=\"left\">b</th>\n",
              "    </tr>\n",
              "    <tr>\n",
              "      <th></th>\n",
              "      <th></th>\n",
              "      <th>b</th>\n",
              "      <th>a</th>\n",
              "      <th>c</th>\n",
              "      <th>a</th>\n",
              "      <th>b</th>\n",
              "    </tr>\n",
              "  </thead>\n",
              "  <tbody>\n",
              "    <tr>\n",
              "      <th rowspan=\"3\" valign=\"top\">A</th>\n",
              "      <th>B</th>\n",
              "      <td>1.0</td>\n",
              "      <td>4.0</td>\n",
              "      <td>5.0</td>\n",
              "      <td>8.0</td>\n",
              "      <td>10.0</td>\n",
              "    </tr>\n",
              "    <tr>\n",
              "      <th>C</th>\n",
              "      <td>2.0</td>\n",
              "      <td>3.0</td>\n",
              "      <td>6.0</td>\n",
              "      <td>7.0</td>\n",
              "      <td>NaN</td>\n",
              "    </tr>\n",
              "    <tr>\n",
              "      <th>D</th>\n",
              "      <td>NaN</td>\n",
              "      <td>NaN</td>\n",
              "      <td>NaN</td>\n",
              "      <td>NaN</td>\n",
              "      <td>9.0</td>\n",
              "    </tr>\n",
              "  </tbody>\n",
              "</table>\n",
              "</div>"
            ],
            "text/plain": [
              "       a              b      \n",
              "       b    a    c    a     b\n",
              "A B  1.0  4.0  5.0  8.0  10.0\n",
              "  C  2.0  3.0  6.0  7.0   NaN\n",
              "  D  NaN  NaN  NaN  NaN   9.0"
            ]
          },
          "metadata": {
            "tags": []
          },
          "execution_count": 54
        }
      ]
    },
    {
      "cell_type": "code",
      "metadata": {
        "id": "mJea0e2JL98R",
        "outputId": "84356d2d-cba7-4ed0-9285-dbbb3f7c656d"
      },
      "source": [
        "dftu = pd.DataFrame({('a', 'b'): {('A', 'B'): 1, ('A', 'C'): 2},\n",
        "                     ('a', 'a'): {('A', 'C'): 3, ('A', 'B'): 4},\n",
        "                     ('a', 'c'): {('A', 'B'): 5, ('A', 'C'): 6},\n",
        "                     ('b', 'a'): {('A', 'C'): 7, ('A', 'B'): 8},\n",
        "                     ('b', 'b'): {('A', 'D'): 9, ('A', 'B'): 10}})\n",
        "dftu"
      ],
      "execution_count": null,
      "outputs": [
        {
          "output_type": "execute_result",
          "data": {
            "text/html": [
              "<div>\n",
              "<style scoped>\n",
              "    .dataframe tbody tr th:only-of-type {\n",
              "        vertical-align: middle;\n",
              "    }\n",
              "\n",
              "    .dataframe tbody tr th {\n",
              "        vertical-align: top;\n",
              "    }\n",
              "\n",
              "    .dataframe thead tr th {\n",
              "        text-align: left;\n",
              "    }\n",
              "</style>\n",
              "<table border=\"1\" class=\"dataframe\">\n",
              "  <thead>\n",
              "    <tr>\n",
              "      <th></th>\n",
              "      <th></th>\n",
              "      <th colspan=\"3\" halign=\"left\">a</th>\n",
              "      <th colspan=\"2\" halign=\"left\">b</th>\n",
              "    </tr>\n",
              "    <tr>\n",
              "      <th></th>\n",
              "      <th></th>\n",
              "      <th>b</th>\n",
              "      <th>a</th>\n",
              "      <th>c</th>\n",
              "      <th>a</th>\n",
              "      <th>b</th>\n",
              "    </tr>\n",
              "  </thead>\n",
              "  <tbody>\n",
              "    <tr>\n",
              "      <th rowspan=\"3\" valign=\"top\">A</th>\n",
              "      <th>B</th>\n",
              "      <td>1.0</td>\n",
              "      <td>4.0</td>\n",
              "      <td>5.0</td>\n",
              "      <td>8.0</td>\n",
              "      <td>10.0</td>\n",
              "    </tr>\n",
              "    <tr>\n",
              "      <th>C</th>\n",
              "      <td>2.0</td>\n",
              "      <td>3.0</td>\n",
              "      <td>6.0</td>\n",
              "      <td>7.0</td>\n",
              "      <td>NaN</td>\n",
              "    </tr>\n",
              "    <tr>\n",
              "      <th>D</th>\n",
              "      <td>NaN</td>\n",
              "      <td>NaN</td>\n",
              "      <td>NaN</td>\n",
              "      <td>NaN</td>\n",
              "      <td>9.0</td>\n",
              "    </tr>\n",
              "  </tbody>\n",
              "</table>\n",
              "</div>"
            ],
            "text/plain": [
              "       a              b      \n",
              "       b    a    c    a     b\n",
              "A B  1.0  4.0  5.0  8.0  10.0\n",
              "  C  2.0  3.0  6.0  7.0   NaN\n",
              "  D  NaN  NaN  NaN  NaN   9.0"
            ]
          },
          "metadata": {
            "tags": []
          },
          "execution_count": 55
        }
      ]
    },
    {
      "cell_type": "code",
      "metadata": {
        "id": "gkmvg7XnL98S",
        "outputId": "3f344950-d210-4436-b8bd-9c76df1ee023"
      },
      "source": [
        "dfAB_values = pd.DataFrame(dftu, index=[('A','B')]).values\n",
        "dfAB_values   #  datatype : an ndarray in NumPy"
      ],
      "execution_count": null,
      "outputs": [
        {
          "output_type": "execute_result",
          "data": {
            "text/plain": [
              "array([[ 1.,  4.,  5.,  8., 10.]])"
            ]
          },
          "metadata": {
            "tags": []
          },
          "execution_count": 56
        }
      ]
    },
    {
      "cell_type": "code",
      "metadata": {
        "id": "H-3OgO4rL98U",
        "outputId": "11be6920-e2ec-4141-b310-7d0d88b7f28e"
      },
      "source": [
        "print(dfAB_values)\n",
        "dfAB_values.sum()"
      ],
      "execution_count": null,
      "outputs": [
        {
          "output_type": "stream",
          "text": [
            "[[ 1.  4.  5.  8. 10.]]\n"
          ],
          "name": "stdout"
        },
        {
          "output_type": "execute_result",
          "data": {
            "text/plain": [
              "28.0"
            ]
          },
          "metadata": {
            "tags": []
          },
          "execution_count": 57
        }
      ]
    },
    {
      "cell_type": "code",
      "metadata": {
        "id": "vykvAsKGL98V",
        "outputId": "c0090fa7-5aec-4a88-a70d-de04d2c5801c"
      },
      "source": [
        "dfAB_values.mean()"
      ],
      "execution_count": null,
      "outputs": [
        {
          "output_type": "execute_result",
          "data": {
            "text/plain": [
              "5.6"
            ]
          },
          "metadata": {
            "tags": []
          },
          "execution_count": 58
        }
      ]
    },
    {
      "cell_type": "markdown",
      "metadata": {
        "id": "hEFIlmyHL98W"
      },
      "source": [
        "<a id='Merge_Join_and_Concatenate_DataFrames'></a>\n",
        "## 3.2  Merge, Join, and Concatenate DataFrames\n",
        "-  https://pandas.pydata.org/pandas-docs/stable/merging.html\n",
        "\n",
        "### 3.2.1  Concatenate DataFrame"
      ]
    },
    {
      "cell_type": "code",
      "metadata": {
        "id": "hwSHcpcCL98W",
        "outputId": "641b0d1d-45cd-4b0d-ef92-6103f9764f83"
      },
      "source": [
        "columns = ['name', 'age', 'gender', 'job']\n",
        "\n",
        "user1 = pd.DataFrame([['alice', 19, \"F\", \"student\"], \n",
        "                      ['john', 26, \"M\", \"student\"]], \n",
        "                     columns=columns)\n",
        "\n",
        "user2 = pd.DataFrame([['eric', 22, \"M\", \"student\"],\n",
        "                      ['paul', 58, \"M\", \"manager\"],\n",
        "                      ['bill', 33, \"M\", \"engineer\"]],\n",
        "                     columns=columns)\n",
        "\n",
        "user3 = pd.DataFrame(dict(name=['peter', 'julie', 'lucy'],\n",
        "                          age=[48, 44, 52], gender=['M', 'F', 'F'],\n",
        "                          job=['CTO', 'CFO', 'CEO']))\n",
        "\n",
        "print('user1 : \\n', user1, end='\\n\\n')\n",
        "print('user2 : \\n', user2, end='\\n\\n')\n",
        "print('user3 : \\n', user3, end='\\n\\n')"
      ],
      "execution_count": null,
      "outputs": [
        {
          "output_type": "stream",
          "text": [
            "user1 : \n",
            "     name  age gender      job\n",
            "0  alice   19      F  student\n",
            "1   john   26      M  student\n",
            "\n",
            "user2 : \n",
            "    name  age gender       job\n",
            "0  eric   22      M   student\n",
            "1  paul   58      M   manager\n",
            "2  bill   33      M  engineer\n",
            "\n",
            "user3 : \n",
            "     name  age gender  job\n",
            "0  peter   48      M  CTO\n",
            "1  julie   44      F  CFO\n",
            "2   lucy   52      F  CEO\n",
            "\n"
          ],
          "name": "stdout"
        }
      ]
    },
    {
      "cell_type": "markdown",
      "metadata": {
        "id": "Xs3bYCJGL98X"
      },
      "source": [
        "+ #### Method 1 : Using `append()`"
      ]
    },
    {
      "cell_type": "code",
      "metadata": {
        "id": "p872i3I1L98X",
        "outputId": "59c50ed6-088b-4e93-b6c3-e8f97a64a1af"
      },
      "source": [
        "user1.append(user2)    "
      ],
      "execution_count": null,
      "outputs": [
        {
          "output_type": "execute_result",
          "data": {
            "text/html": [
              "<div>\n",
              "<style scoped>\n",
              "    .dataframe tbody tr th:only-of-type {\n",
              "        vertical-align: middle;\n",
              "    }\n",
              "\n",
              "    .dataframe tbody tr th {\n",
              "        vertical-align: top;\n",
              "    }\n",
              "\n",
              "    .dataframe thead th {\n",
              "        text-align: right;\n",
              "    }\n",
              "</style>\n",
              "<table border=\"1\" class=\"dataframe\">\n",
              "  <thead>\n",
              "    <tr style=\"text-align: right;\">\n",
              "      <th></th>\n",
              "      <th>name</th>\n",
              "      <th>age</th>\n",
              "      <th>gender</th>\n",
              "      <th>job</th>\n",
              "    </tr>\n",
              "  </thead>\n",
              "  <tbody>\n",
              "    <tr>\n",
              "      <th>0</th>\n",
              "      <td>alice</td>\n",
              "      <td>19</td>\n",
              "      <td>F</td>\n",
              "      <td>student</td>\n",
              "    </tr>\n",
              "    <tr>\n",
              "      <th>1</th>\n",
              "      <td>john</td>\n",
              "      <td>26</td>\n",
              "      <td>M</td>\n",
              "      <td>student</td>\n",
              "    </tr>\n",
              "    <tr>\n",
              "      <th>0</th>\n",
              "      <td>eric</td>\n",
              "      <td>22</td>\n",
              "      <td>M</td>\n",
              "      <td>student</td>\n",
              "    </tr>\n",
              "    <tr>\n",
              "      <th>1</th>\n",
              "      <td>paul</td>\n",
              "      <td>58</td>\n",
              "      <td>M</td>\n",
              "      <td>manager</td>\n",
              "    </tr>\n",
              "    <tr>\n",
              "      <th>2</th>\n",
              "      <td>bill</td>\n",
              "      <td>33</td>\n",
              "      <td>M</td>\n",
              "      <td>engineer</td>\n",
              "    </tr>\n",
              "  </tbody>\n",
              "</table>\n",
              "</div>"
            ],
            "text/plain": [
              "    name  age gender       job\n",
              "0  alice   19      F   student\n",
              "1   john   26      M   student\n",
              "0   eric   22      M   student\n",
              "1   paul   58      M   manager\n",
              "2   bill   33      M  engineer"
            ]
          },
          "metadata": {
            "tags": []
          },
          "execution_count": 60
        }
      ]
    },
    {
      "cell_type": "markdown",
      "metadata": {
        "id": "8zU8-T9TL98Y"
      },
      "source": [
        "+ #### Method 2 : Using `concat()`"
      ]
    },
    {
      "cell_type": "code",
      "metadata": {
        "id": "g5rksQE_L98Y",
        "outputId": "a7bb0fa9-ee2c-46f5-ae4d-f2eb2d993c27"
      },
      "source": [
        "Users = pd.concat([user1, user2, user3])   \n",
        "Users"
      ],
      "execution_count": null,
      "outputs": [
        {
          "output_type": "execute_result",
          "data": {
            "text/html": [
              "<div>\n",
              "<style scoped>\n",
              "    .dataframe tbody tr th:only-of-type {\n",
              "        vertical-align: middle;\n",
              "    }\n",
              "\n",
              "    .dataframe tbody tr th {\n",
              "        vertical-align: top;\n",
              "    }\n",
              "\n",
              "    .dataframe thead th {\n",
              "        text-align: right;\n",
              "    }\n",
              "</style>\n",
              "<table border=\"1\" class=\"dataframe\">\n",
              "  <thead>\n",
              "    <tr style=\"text-align: right;\">\n",
              "      <th></th>\n",
              "      <th>name</th>\n",
              "      <th>age</th>\n",
              "      <th>gender</th>\n",
              "      <th>job</th>\n",
              "    </tr>\n",
              "  </thead>\n",
              "  <tbody>\n",
              "    <tr>\n",
              "      <th>0</th>\n",
              "      <td>alice</td>\n",
              "      <td>19</td>\n",
              "      <td>F</td>\n",
              "      <td>student</td>\n",
              "    </tr>\n",
              "    <tr>\n",
              "      <th>1</th>\n",
              "      <td>john</td>\n",
              "      <td>26</td>\n",
              "      <td>M</td>\n",
              "      <td>student</td>\n",
              "    </tr>\n",
              "    <tr>\n",
              "      <th>0</th>\n",
              "      <td>eric</td>\n",
              "      <td>22</td>\n",
              "      <td>M</td>\n",
              "      <td>student</td>\n",
              "    </tr>\n",
              "    <tr>\n",
              "      <th>1</th>\n",
              "      <td>paul</td>\n",
              "      <td>58</td>\n",
              "      <td>M</td>\n",
              "      <td>manager</td>\n",
              "    </tr>\n",
              "    <tr>\n",
              "      <th>2</th>\n",
              "      <td>bill</td>\n",
              "      <td>33</td>\n",
              "      <td>M</td>\n",
              "      <td>engineer</td>\n",
              "    </tr>\n",
              "    <tr>\n",
              "      <th>0</th>\n",
              "      <td>peter</td>\n",
              "      <td>48</td>\n",
              "      <td>M</td>\n",
              "      <td>CTO</td>\n",
              "    </tr>\n",
              "    <tr>\n",
              "      <th>1</th>\n",
              "      <td>julie</td>\n",
              "      <td>44</td>\n",
              "      <td>F</td>\n",
              "      <td>CFO</td>\n",
              "    </tr>\n",
              "    <tr>\n",
              "      <th>2</th>\n",
              "      <td>lucy</td>\n",
              "      <td>52</td>\n",
              "      <td>F</td>\n",
              "      <td>CEO</td>\n",
              "    </tr>\n",
              "  </tbody>\n",
              "</table>\n",
              "</div>"
            ],
            "text/plain": [
              "    name  age gender       job\n",
              "0  alice   19      F   student\n",
              "1   john   26      M   student\n",
              "0   eric   22      M   student\n",
              "1   paul   58      M   manager\n",
              "2   bill   33      M  engineer\n",
              "0  peter   48      M       CTO\n",
              "1  julie   44      F       CFO\n",
              "2   lucy   52      F       CEO"
            ]
          },
          "metadata": {
            "tags": []
          },
          "execution_count": 61
        }
      ]
    },
    {
      "cell_type": "code",
      "metadata": {
        "id": "N-BZ68neL98Z",
        "outputId": "8288c091-df54-4ee3-ce8a-fc0660c04a10"
      },
      "source": [
        "Users2 = pd.concat([user3, user2, user1])  \n",
        "Users2"
      ],
      "execution_count": null,
      "outputs": [
        {
          "output_type": "execute_result",
          "data": {
            "text/html": [
              "<div>\n",
              "<style scoped>\n",
              "    .dataframe tbody tr th:only-of-type {\n",
              "        vertical-align: middle;\n",
              "    }\n",
              "\n",
              "    .dataframe tbody tr th {\n",
              "        vertical-align: top;\n",
              "    }\n",
              "\n",
              "    .dataframe thead th {\n",
              "        text-align: right;\n",
              "    }\n",
              "</style>\n",
              "<table border=\"1\" class=\"dataframe\">\n",
              "  <thead>\n",
              "    <tr style=\"text-align: right;\">\n",
              "      <th></th>\n",
              "      <th>name</th>\n",
              "      <th>age</th>\n",
              "      <th>gender</th>\n",
              "      <th>job</th>\n",
              "    </tr>\n",
              "  </thead>\n",
              "  <tbody>\n",
              "    <tr>\n",
              "      <th>0</th>\n",
              "      <td>peter</td>\n",
              "      <td>48</td>\n",
              "      <td>M</td>\n",
              "      <td>CTO</td>\n",
              "    </tr>\n",
              "    <tr>\n",
              "      <th>1</th>\n",
              "      <td>julie</td>\n",
              "      <td>44</td>\n",
              "      <td>F</td>\n",
              "      <td>CFO</td>\n",
              "    </tr>\n",
              "    <tr>\n",
              "      <th>2</th>\n",
              "      <td>lucy</td>\n",
              "      <td>52</td>\n",
              "      <td>F</td>\n",
              "      <td>CEO</td>\n",
              "    </tr>\n",
              "    <tr>\n",
              "      <th>0</th>\n",
              "      <td>eric</td>\n",
              "      <td>22</td>\n",
              "      <td>M</td>\n",
              "      <td>student</td>\n",
              "    </tr>\n",
              "    <tr>\n",
              "      <th>1</th>\n",
              "      <td>paul</td>\n",
              "      <td>58</td>\n",
              "      <td>M</td>\n",
              "      <td>manager</td>\n",
              "    </tr>\n",
              "    <tr>\n",
              "      <th>2</th>\n",
              "      <td>bill</td>\n",
              "      <td>33</td>\n",
              "      <td>M</td>\n",
              "      <td>engineer</td>\n",
              "    </tr>\n",
              "    <tr>\n",
              "      <th>0</th>\n",
              "      <td>alice</td>\n",
              "      <td>19</td>\n",
              "      <td>F</td>\n",
              "      <td>student</td>\n",
              "    </tr>\n",
              "    <tr>\n",
              "      <th>1</th>\n",
              "      <td>john</td>\n",
              "      <td>26</td>\n",
              "      <td>M</td>\n",
              "      <td>student</td>\n",
              "    </tr>\n",
              "  </tbody>\n",
              "</table>\n",
              "</div>"
            ],
            "text/plain": [
              "    name  age gender       job\n",
              "0  peter   48      M       CTO\n",
              "1  julie   44      F       CFO\n",
              "2   lucy   52      F       CEO\n",
              "0   eric   22      M   student\n",
              "1   paul   58      M   manager\n",
              "2   bill   33      M  engineer\n",
              "0  alice   19      F   student\n",
              "1   john   26      M   student"
            ]
          },
          "metadata": {
            "tags": []
          },
          "execution_count": 62
        }
      ]
    },
    {
      "cell_type": "markdown",
      "metadata": {
        "id": "R7_P2wXAL98Z"
      },
      "source": [
        "### [ Ex 3.2.1 ]  Run the following code segment:"
      ]
    },
    {
      "cell_type": "code",
      "metadata": {
        "id": "tJIvuxA8L98Z",
        "outputId": "c674fa18-c915-48b8-fd60-577426686645"
      },
      "source": [
        "df1 = pd.DataFrame({'A': ['A0', 'A1', 'A2', 'A3'],\n",
        "                    'B': ['B0', 'B1', 'B2', 'B3'],\n",
        "                    'C': ['C0', 'C1', 'C2', 'C3'],\n",
        "                    'D': ['D0', 'D1', 'D2', 'D3']},\n",
        "                    index=[0, 1, 2, 3])\n",
        "\n",
        "df2 = pd.DataFrame({'A': ['A4', 'A5', 'A6', 'A7'],\n",
        "                    'B': ['B4', 'B5', 'B6', 'B7'],\n",
        "                    'C': ['C4', 'C5', 'C6', 'C7'],\n",
        "                    'D': ['D4', 'D5', 'D6', 'D7']},\n",
        "                    index=[4, 5, 6, 7])\n",
        " \n",
        "\n",
        "df3 = pd.DataFrame({'A': ['A8', 'A9', 'A10', 'A11'],\n",
        "                    'B': ['B8', 'B9', 'B10', 'B11'],\n",
        "                    'C': ['C8', 'C9', 'C10', 'C11'],\n",
        "                    'D': ['D8', 'D9', 'D10', 'D11']},\n",
        "                    index=[8, 9, 10, 11])\n",
        "\n",
        "\n",
        "frames = [df1, df2, df3]\n",
        "\n",
        "result = pd.concat(frames)\n",
        "result"
      ],
      "execution_count": null,
      "outputs": [
        {
          "output_type": "execute_result",
          "data": {
            "text/html": [
              "<div>\n",
              "<style scoped>\n",
              "    .dataframe tbody tr th:only-of-type {\n",
              "        vertical-align: middle;\n",
              "    }\n",
              "\n",
              "    .dataframe tbody tr th {\n",
              "        vertical-align: top;\n",
              "    }\n",
              "\n",
              "    .dataframe thead th {\n",
              "        text-align: right;\n",
              "    }\n",
              "</style>\n",
              "<table border=\"1\" class=\"dataframe\">\n",
              "  <thead>\n",
              "    <tr style=\"text-align: right;\">\n",
              "      <th></th>\n",
              "      <th>A</th>\n",
              "      <th>B</th>\n",
              "      <th>C</th>\n",
              "      <th>D</th>\n",
              "    </tr>\n",
              "  </thead>\n",
              "  <tbody>\n",
              "    <tr>\n",
              "      <th>0</th>\n",
              "      <td>A0</td>\n",
              "      <td>B0</td>\n",
              "      <td>C0</td>\n",
              "      <td>D0</td>\n",
              "    </tr>\n",
              "    <tr>\n",
              "      <th>1</th>\n",
              "      <td>A1</td>\n",
              "      <td>B1</td>\n",
              "      <td>C1</td>\n",
              "      <td>D1</td>\n",
              "    </tr>\n",
              "    <tr>\n",
              "      <th>2</th>\n",
              "      <td>A2</td>\n",
              "      <td>B2</td>\n",
              "      <td>C2</td>\n",
              "      <td>D2</td>\n",
              "    </tr>\n",
              "    <tr>\n",
              "      <th>3</th>\n",
              "      <td>A3</td>\n",
              "      <td>B3</td>\n",
              "      <td>C3</td>\n",
              "      <td>D3</td>\n",
              "    </tr>\n",
              "    <tr>\n",
              "      <th>4</th>\n",
              "      <td>A4</td>\n",
              "      <td>B4</td>\n",
              "      <td>C4</td>\n",
              "      <td>D4</td>\n",
              "    </tr>\n",
              "    <tr>\n",
              "      <th>5</th>\n",
              "      <td>A5</td>\n",
              "      <td>B5</td>\n",
              "      <td>C5</td>\n",
              "      <td>D5</td>\n",
              "    </tr>\n",
              "    <tr>\n",
              "      <th>6</th>\n",
              "      <td>A6</td>\n",
              "      <td>B6</td>\n",
              "      <td>C6</td>\n",
              "      <td>D6</td>\n",
              "    </tr>\n",
              "    <tr>\n",
              "      <th>7</th>\n",
              "      <td>A7</td>\n",
              "      <td>B7</td>\n",
              "      <td>C7</td>\n",
              "      <td>D7</td>\n",
              "    </tr>\n",
              "    <tr>\n",
              "      <th>8</th>\n",
              "      <td>A8</td>\n",
              "      <td>B8</td>\n",
              "      <td>C8</td>\n",
              "      <td>D8</td>\n",
              "    </tr>\n",
              "    <tr>\n",
              "      <th>9</th>\n",
              "      <td>A9</td>\n",
              "      <td>B9</td>\n",
              "      <td>C9</td>\n",
              "      <td>D9</td>\n",
              "    </tr>\n",
              "    <tr>\n",
              "      <th>10</th>\n",
              "      <td>A10</td>\n",
              "      <td>B10</td>\n",
              "      <td>C10</td>\n",
              "      <td>D10</td>\n",
              "    </tr>\n",
              "    <tr>\n",
              "      <th>11</th>\n",
              "      <td>A11</td>\n",
              "      <td>B11</td>\n",
              "      <td>C11</td>\n",
              "      <td>D11</td>\n",
              "    </tr>\n",
              "  </tbody>\n",
              "</table>\n",
              "</div>"
            ],
            "text/plain": [
              "      A    B    C    D\n",
              "0    A0   B0   C0   D0\n",
              "1    A1   B1   C1   D1\n",
              "2    A2   B2   C2   D2\n",
              "3    A3   B3   C3   D3\n",
              "4    A4   B4   C4   D4\n",
              "5    A5   B5   C5   D5\n",
              "6    A6   B6   C6   D6\n",
              "7    A7   B7   C7   D7\n",
              "8    A8   B8   C8   D8\n",
              "9    A9   B9   C9   D9\n",
              "10  A10  B10  C10  D10\n",
              "11  A11  B11  C11  D11"
            ]
          },
          "metadata": {
            "tags": []
          },
          "execution_count": 63
        }
      ]
    },
    {
      "cell_type": "markdown",
      "metadata": {
        "id": "QxyGSMHsL98a"
      },
      "source": [
        "+ ####  Using the `keys` argument for the chopped-up DataFrame"
      ]
    },
    {
      "cell_type": "code",
      "metadata": {
        "id": "5S17ed8fL98a",
        "outputId": "5c8a0503-92a9-4cc7-96e6-c2a14f83f598"
      },
      "source": [
        "result = pd.concat(frames, keys=['x', 'y', 'z'])\n",
        "result"
      ],
      "execution_count": null,
      "outputs": [
        {
          "output_type": "execute_result",
          "data": {
            "text/html": [
              "<div>\n",
              "<style scoped>\n",
              "    .dataframe tbody tr th:only-of-type {\n",
              "        vertical-align: middle;\n",
              "    }\n",
              "\n",
              "    .dataframe tbody tr th {\n",
              "        vertical-align: top;\n",
              "    }\n",
              "\n",
              "    .dataframe thead th {\n",
              "        text-align: right;\n",
              "    }\n",
              "</style>\n",
              "<table border=\"1\" class=\"dataframe\">\n",
              "  <thead>\n",
              "    <tr style=\"text-align: right;\">\n",
              "      <th></th>\n",
              "      <th></th>\n",
              "      <th>A</th>\n",
              "      <th>B</th>\n",
              "      <th>C</th>\n",
              "      <th>D</th>\n",
              "    </tr>\n",
              "  </thead>\n",
              "  <tbody>\n",
              "    <tr>\n",
              "      <th rowspan=\"4\" valign=\"top\">x</th>\n",
              "      <th>0</th>\n",
              "      <td>A0</td>\n",
              "      <td>B0</td>\n",
              "      <td>C0</td>\n",
              "      <td>D0</td>\n",
              "    </tr>\n",
              "    <tr>\n",
              "      <th>1</th>\n",
              "      <td>A1</td>\n",
              "      <td>B1</td>\n",
              "      <td>C1</td>\n",
              "      <td>D1</td>\n",
              "    </tr>\n",
              "    <tr>\n",
              "      <th>2</th>\n",
              "      <td>A2</td>\n",
              "      <td>B2</td>\n",
              "      <td>C2</td>\n",
              "      <td>D2</td>\n",
              "    </tr>\n",
              "    <tr>\n",
              "      <th>3</th>\n",
              "      <td>A3</td>\n",
              "      <td>B3</td>\n",
              "      <td>C3</td>\n",
              "      <td>D3</td>\n",
              "    </tr>\n",
              "    <tr>\n",
              "      <th rowspan=\"4\" valign=\"top\">y</th>\n",
              "      <th>4</th>\n",
              "      <td>A4</td>\n",
              "      <td>B4</td>\n",
              "      <td>C4</td>\n",
              "      <td>D4</td>\n",
              "    </tr>\n",
              "    <tr>\n",
              "      <th>5</th>\n",
              "      <td>A5</td>\n",
              "      <td>B5</td>\n",
              "      <td>C5</td>\n",
              "      <td>D5</td>\n",
              "    </tr>\n",
              "    <tr>\n",
              "      <th>6</th>\n",
              "      <td>A6</td>\n",
              "      <td>B6</td>\n",
              "      <td>C6</td>\n",
              "      <td>D6</td>\n",
              "    </tr>\n",
              "    <tr>\n",
              "      <th>7</th>\n",
              "      <td>A7</td>\n",
              "      <td>B7</td>\n",
              "      <td>C7</td>\n",
              "      <td>D7</td>\n",
              "    </tr>\n",
              "    <tr>\n",
              "      <th rowspan=\"4\" valign=\"top\">z</th>\n",
              "      <th>8</th>\n",
              "      <td>A8</td>\n",
              "      <td>B8</td>\n",
              "      <td>C8</td>\n",
              "      <td>D8</td>\n",
              "    </tr>\n",
              "    <tr>\n",
              "      <th>9</th>\n",
              "      <td>A9</td>\n",
              "      <td>B9</td>\n",
              "      <td>C9</td>\n",
              "      <td>D9</td>\n",
              "    </tr>\n",
              "    <tr>\n",
              "      <th>10</th>\n",
              "      <td>A10</td>\n",
              "      <td>B10</td>\n",
              "      <td>C10</td>\n",
              "      <td>D10</td>\n",
              "    </tr>\n",
              "    <tr>\n",
              "      <th>11</th>\n",
              "      <td>A11</td>\n",
              "      <td>B11</td>\n",
              "      <td>C11</td>\n",
              "      <td>D11</td>\n",
              "    </tr>\n",
              "  </tbody>\n",
              "</table>\n",
              "</div>"
            ],
            "text/plain": [
              "        A    B    C    D\n",
              "x 0    A0   B0   C0   D0\n",
              "  1    A1   B1   C1   D1\n",
              "  2    A2   B2   C2   D2\n",
              "  3    A3   B3   C3   D3\n",
              "y 4    A4   B4   C4   D4\n",
              "  5    A5   B5   C5   D5\n",
              "  6    A6   B6   C6   D6\n",
              "  7    A7   B7   C7   D7\n",
              "z 8    A8   B8   C8   D8\n",
              "  9    A9   B9   C9   D9\n",
              "  10  A10  B10  C10  D10\n",
              "  11  A11  B11  C11  D11"
            ]
          },
          "metadata": {
            "tags": []
          },
          "execution_count": 64
        }
      ]
    },
    {
      "cell_type": "markdown",
      "metadata": {
        "id": "6Eqpnki1L98b"
      },
      "source": [
        "+ ####  Select out the chunk of data `y` by key:"
      ]
    },
    {
      "cell_type": "code",
      "metadata": {
        "id": "DiemcibYL98b",
        "outputId": "7bd0b490-53c8-4e9f-a7ed-ffe1a0749caf"
      },
      "source": [
        "result.loc['y']"
      ],
      "execution_count": null,
      "outputs": [
        {
          "output_type": "execute_result",
          "data": {
            "text/html": [
              "<div>\n",
              "<style scoped>\n",
              "    .dataframe tbody tr th:only-of-type {\n",
              "        vertical-align: middle;\n",
              "    }\n",
              "\n",
              "    .dataframe tbody tr th {\n",
              "        vertical-align: top;\n",
              "    }\n",
              "\n",
              "    .dataframe thead th {\n",
              "        text-align: right;\n",
              "    }\n",
              "</style>\n",
              "<table border=\"1\" class=\"dataframe\">\n",
              "  <thead>\n",
              "    <tr style=\"text-align: right;\">\n",
              "      <th></th>\n",
              "      <th>A</th>\n",
              "      <th>B</th>\n",
              "      <th>C</th>\n",
              "      <th>D</th>\n",
              "    </tr>\n",
              "  </thead>\n",
              "  <tbody>\n",
              "    <tr>\n",
              "      <th>4</th>\n",
              "      <td>A4</td>\n",
              "      <td>B4</td>\n",
              "      <td>C4</td>\n",
              "      <td>D4</td>\n",
              "    </tr>\n",
              "    <tr>\n",
              "      <th>5</th>\n",
              "      <td>A5</td>\n",
              "      <td>B5</td>\n",
              "      <td>C5</td>\n",
              "      <td>D5</td>\n",
              "    </tr>\n",
              "    <tr>\n",
              "      <th>6</th>\n",
              "      <td>A6</td>\n",
              "      <td>B6</td>\n",
              "      <td>C6</td>\n",
              "      <td>D6</td>\n",
              "    </tr>\n",
              "    <tr>\n",
              "      <th>7</th>\n",
              "      <td>A7</td>\n",
              "      <td>B7</td>\n",
              "      <td>C7</td>\n",
              "      <td>D7</td>\n",
              "    </tr>\n",
              "  </tbody>\n",
              "</table>\n",
              "</div>"
            ],
            "text/plain": [
              "    A   B   C   D\n",
              "4  A4  B4  C4  D4\n",
              "5  A5  B5  C5  D5\n",
              "6  A6  B6  C6  D6\n",
              "7  A7  B7  C7  D7"
            ]
          },
          "metadata": {
            "tags": []
          },
          "execution_count": 65
        }
      ]
    },
    {
      "cell_type": "markdown",
      "metadata": {
        "id": "Pwq-Z68_L98b"
      },
      "source": [
        "+ ####  Note：如果你要串接數個 dataframes，可以利用 list comprehension 精簡程式，如下：\n",
        "\n",
        "      frames = [ process_your_file(f) for f in files ]\n",
        "      result = pd.concat(frames)"
      ]
    },
    {
      "cell_type": "markdown",
      "metadata": {
        "id": "c-Ez4HwmL98c"
      },
      "source": [
        "###  3.2.2 Join DataFrame\n",
        "- 結合兩個 DataFrame 的運算，如同結合兩個 SQL 資料表的運算"
      ]
    },
    {
      "cell_type": "code",
      "metadata": {
        "id": "EgDPZyjsL98c",
        "outputId": "90654c77-70c0-4d3e-e67a-09003e75b899"
      },
      "source": [
        "user4=pd.DataFrame(dict(name=['alice', 'john', 'eric', 'julie', 'paul'],\n",
        "                        height=[165, 180, 171, 175, 192]))\n",
        "user4"
      ],
      "execution_count": null,
      "outputs": [
        {
          "output_type": "execute_result",
          "data": {
            "text/html": [
              "<div>\n",
              "<style scoped>\n",
              "    .dataframe tbody tr th:only-of-type {\n",
              "        vertical-align: middle;\n",
              "    }\n",
              "\n",
              "    .dataframe tbody tr th {\n",
              "        vertical-align: top;\n",
              "    }\n",
              "\n",
              "    .dataframe thead th {\n",
              "        text-align: right;\n",
              "    }\n",
              "</style>\n",
              "<table border=\"1\" class=\"dataframe\">\n",
              "  <thead>\n",
              "    <tr style=\"text-align: right;\">\n",
              "      <th></th>\n",
              "      <th>name</th>\n",
              "      <th>height</th>\n",
              "    </tr>\n",
              "  </thead>\n",
              "  <tbody>\n",
              "    <tr>\n",
              "      <th>0</th>\n",
              "      <td>alice</td>\n",
              "      <td>165</td>\n",
              "    </tr>\n",
              "    <tr>\n",
              "      <th>1</th>\n",
              "      <td>john</td>\n",
              "      <td>180</td>\n",
              "    </tr>\n",
              "    <tr>\n",
              "      <th>2</th>\n",
              "      <td>eric</td>\n",
              "      <td>171</td>\n",
              "    </tr>\n",
              "    <tr>\n",
              "      <th>3</th>\n",
              "      <td>julie</td>\n",
              "      <td>175</td>\n",
              "    </tr>\n",
              "    <tr>\n",
              "      <th>4</th>\n",
              "      <td>paul</td>\n",
              "      <td>192</td>\n",
              "    </tr>\n",
              "  </tbody>\n",
              "</table>\n",
              "</div>"
            ],
            "text/plain": [
              "    name  height\n",
              "0  alice     165\n",
              "1   john     180\n",
              "2   eric     171\n",
              "3  julie     175\n",
              "4   paul     192"
            ]
          },
          "metadata": {
            "tags": []
          },
          "execution_count": 66
        }
      ]
    },
    {
      "cell_type": "code",
      "metadata": {
        "id": "dPowFHULL98c",
        "outputId": "3653ac95-9b95-41a2-91de-41dceacb4bb6"
      },
      "source": [
        "Users"
      ],
      "execution_count": null,
      "outputs": [
        {
          "output_type": "execute_result",
          "data": {
            "text/html": [
              "<div>\n",
              "<style scoped>\n",
              "    .dataframe tbody tr th:only-of-type {\n",
              "        vertical-align: middle;\n",
              "    }\n",
              "\n",
              "    .dataframe tbody tr th {\n",
              "        vertical-align: top;\n",
              "    }\n",
              "\n",
              "    .dataframe thead th {\n",
              "        text-align: right;\n",
              "    }\n",
              "</style>\n",
              "<table border=\"1\" class=\"dataframe\">\n",
              "  <thead>\n",
              "    <tr style=\"text-align: right;\">\n",
              "      <th></th>\n",
              "      <th>name</th>\n",
              "      <th>age</th>\n",
              "      <th>gender</th>\n",
              "      <th>job</th>\n",
              "    </tr>\n",
              "  </thead>\n",
              "  <tbody>\n",
              "    <tr>\n",
              "      <th>0</th>\n",
              "      <td>alice</td>\n",
              "      <td>19</td>\n",
              "      <td>F</td>\n",
              "      <td>student</td>\n",
              "    </tr>\n",
              "    <tr>\n",
              "      <th>1</th>\n",
              "      <td>john</td>\n",
              "      <td>26</td>\n",
              "      <td>M</td>\n",
              "      <td>student</td>\n",
              "    </tr>\n",
              "    <tr>\n",
              "      <th>0</th>\n",
              "      <td>eric</td>\n",
              "      <td>22</td>\n",
              "      <td>M</td>\n",
              "      <td>student</td>\n",
              "    </tr>\n",
              "    <tr>\n",
              "      <th>1</th>\n",
              "      <td>paul</td>\n",
              "      <td>58</td>\n",
              "      <td>M</td>\n",
              "      <td>manager</td>\n",
              "    </tr>\n",
              "    <tr>\n",
              "      <th>2</th>\n",
              "      <td>bill</td>\n",
              "      <td>33</td>\n",
              "      <td>M</td>\n",
              "      <td>engineer</td>\n",
              "    </tr>\n",
              "    <tr>\n",
              "      <th>0</th>\n",
              "      <td>peter</td>\n",
              "      <td>48</td>\n",
              "      <td>M</td>\n",
              "      <td>CTO</td>\n",
              "    </tr>\n",
              "    <tr>\n",
              "      <th>1</th>\n",
              "      <td>julie</td>\n",
              "      <td>44</td>\n",
              "      <td>F</td>\n",
              "      <td>CFO</td>\n",
              "    </tr>\n",
              "    <tr>\n",
              "      <th>2</th>\n",
              "      <td>lucy</td>\n",
              "      <td>52</td>\n",
              "      <td>F</td>\n",
              "      <td>CEO</td>\n",
              "    </tr>\n",
              "  </tbody>\n",
              "</table>\n",
              "</div>"
            ],
            "text/plain": [
              "    name  age gender       job\n",
              "0  alice   19      F   student\n",
              "1   john   26      M   student\n",
              "0   eric   22      M   student\n",
              "1   paul   58      M   manager\n",
              "2   bill   33      M  engineer\n",
              "0  peter   48      M       CTO\n",
              "1  julie   44      F       CFO\n",
              "2   lucy   52      F       CEO"
            ]
          },
          "metadata": {
            "tags": []
          },
          "execution_count": 67
        }
      ]
    },
    {
      "cell_type": "markdown",
      "metadata": {
        "id": "2Q0rEll9L98d"
      },
      "source": [
        "+ ### Use *intersection of keys* from both frames"
      ]
    },
    {
      "cell_type": "code",
      "metadata": {
        "id": "kNsxJvAJL98d",
        "outputId": "75486790-aed9-4f89-d9d1-cc85e2509fd9"
      },
      "source": [
        "merge_inter = pd.merge(Users, user4, on=\"name\")\n",
        "merge_inter"
      ],
      "execution_count": null,
      "outputs": [
        {
          "output_type": "execute_result",
          "data": {
            "text/html": [
              "<div>\n",
              "<style scoped>\n",
              "    .dataframe tbody tr th:only-of-type {\n",
              "        vertical-align: middle;\n",
              "    }\n",
              "\n",
              "    .dataframe tbody tr th {\n",
              "        vertical-align: top;\n",
              "    }\n",
              "\n",
              "    .dataframe thead th {\n",
              "        text-align: right;\n",
              "    }\n",
              "</style>\n",
              "<table border=\"1\" class=\"dataframe\">\n",
              "  <thead>\n",
              "    <tr style=\"text-align: right;\">\n",
              "      <th></th>\n",
              "      <th>name</th>\n",
              "      <th>age</th>\n",
              "      <th>gender</th>\n",
              "      <th>job</th>\n",
              "      <th>height</th>\n",
              "    </tr>\n",
              "  </thead>\n",
              "  <tbody>\n",
              "    <tr>\n",
              "      <th>0</th>\n",
              "      <td>alice</td>\n",
              "      <td>19</td>\n",
              "      <td>F</td>\n",
              "      <td>student</td>\n",
              "      <td>165</td>\n",
              "    </tr>\n",
              "    <tr>\n",
              "      <th>1</th>\n",
              "      <td>john</td>\n",
              "      <td>26</td>\n",
              "      <td>M</td>\n",
              "      <td>student</td>\n",
              "      <td>180</td>\n",
              "    </tr>\n",
              "    <tr>\n",
              "      <th>2</th>\n",
              "      <td>eric</td>\n",
              "      <td>22</td>\n",
              "      <td>M</td>\n",
              "      <td>student</td>\n",
              "      <td>171</td>\n",
              "    </tr>\n",
              "    <tr>\n",
              "      <th>3</th>\n",
              "      <td>paul</td>\n",
              "      <td>58</td>\n",
              "      <td>M</td>\n",
              "      <td>manager</td>\n",
              "      <td>192</td>\n",
              "    </tr>\n",
              "    <tr>\n",
              "      <th>4</th>\n",
              "      <td>julie</td>\n",
              "      <td>44</td>\n",
              "      <td>F</td>\n",
              "      <td>CFO</td>\n",
              "      <td>175</td>\n",
              "    </tr>\n",
              "  </tbody>\n",
              "</table>\n",
              "</div>"
            ],
            "text/plain": [
              "    name  age gender      job  height\n",
              "0  alice   19      F  student     165\n",
              "1   john   26      M  student     180\n",
              "2   eric   22      M  student     171\n",
              "3   paul   58      M  manager     192\n",
              "4  julie   44      F      CFO     175"
            ]
          },
          "metadata": {
            "tags": []
          },
          "execution_count": 68
        }
      ]
    },
    {
      "cell_type": "markdown",
      "metadata": {
        "id": "9stuJrEGL98d"
      },
      "source": [
        "+ ### Use *union of keys* from both frames"
      ]
    },
    {
      "cell_type": "code",
      "metadata": {
        "id": "k7ErIf9yL98e",
        "outputId": "31eea199-3e34-4e52-9457-9ab79460a559"
      },
      "source": [
        "merge_union = pd.merge(Users, user4, on=\"name\", how='outer')\n",
        "merge_union"
      ],
      "execution_count": null,
      "outputs": [
        {
          "output_type": "execute_result",
          "data": {
            "text/html": [
              "<div>\n",
              "<style scoped>\n",
              "    .dataframe tbody tr th:only-of-type {\n",
              "        vertical-align: middle;\n",
              "    }\n",
              "\n",
              "    .dataframe tbody tr th {\n",
              "        vertical-align: top;\n",
              "    }\n",
              "\n",
              "    .dataframe thead th {\n",
              "        text-align: right;\n",
              "    }\n",
              "</style>\n",
              "<table border=\"1\" class=\"dataframe\">\n",
              "  <thead>\n",
              "    <tr style=\"text-align: right;\">\n",
              "      <th></th>\n",
              "      <th>name</th>\n",
              "      <th>age</th>\n",
              "      <th>gender</th>\n",
              "      <th>job</th>\n",
              "      <th>height</th>\n",
              "    </tr>\n",
              "  </thead>\n",
              "  <tbody>\n",
              "    <tr>\n",
              "      <th>0</th>\n",
              "      <td>alice</td>\n",
              "      <td>19</td>\n",
              "      <td>F</td>\n",
              "      <td>student</td>\n",
              "      <td>165.0</td>\n",
              "    </tr>\n",
              "    <tr>\n",
              "      <th>1</th>\n",
              "      <td>john</td>\n",
              "      <td>26</td>\n",
              "      <td>M</td>\n",
              "      <td>student</td>\n",
              "      <td>180.0</td>\n",
              "    </tr>\n",
              "    <tr>\n",
              "      <th>2</th>\n",
              "      <td>eric</td>\n",
              "      <td>22</td>\n",
              "      <td>M</td>\n",
              "      <td>student</td>\n",
              "      <td>171.0</td>\n",
              "    </tr>\n",
              "    <tr>\n",
              "      <th>3</th>\n",
              "      <td>paul</td>\n",
              "      <td>58</td>\n",
              "      <td>M</td>\n",
              "      <td>manager</td>\n",
              "      <td>192.0</td>\n",
              "    </tr>\n",
              "    <tr>\n",
              "      <th>4</th>\n",
              "      <td>bill</td>\n",
              "      <td>33</td>\n",
              "      <td>M</td>\n",
              "      <td>engineer</td>\n",
              "      <td>NaN</td>\n",
              "    </tr>\n",
              "    <tr>\n",
              "      <th>5</th>\n",
              "      <td>peter</td>\n",
              "      <td>48</td>\n",
              "      <td>M</td>\n",
              "      <td>CTO</td>\n",
              "      <td>NaN</td>\n",
              "    </tr>\n",
              "    <tr>\n",
              "      <th>6</th>\n",
              "      <td>julie</td>\n",
              "      <td>44</td>\n",
              "      <td>F</td>\n",
              "      <td>CFO</td>\n",
              "      <td>175.0</td>\n",
              "    </tr>\n",
              "    <tr>\n",
              "      <th>7</th>\n",
              "      <td>lucy</td>\n",
              "      <td>52</td>\n",
              "      <td>F</td>\n",
              "      <td>CEO</td>\n",
              "      <td>NaN</td>\n",
              "    </tr>\n",
              "  </tbody>\n",
              "</table>\n",
              "</div>"
            ],
            "text/plain": [
              "    name  age gender       job  height\n",
              "0  alice   19      F   student   165.0\n",
              "1   john   26      M   student   180.0\n",
              "2   eric   22      M   student   171.0\n",
              "3   paul   58      M   manager   192.0\n",
              "4   bill   33      M  engineer     NaN\n",
              "5  peter   48      M       CTO     NaN\n",
              "6  julie   44      F       CFO   175.0\n",
              "7   lucy   52      F       CEO     NaN"
            ]
          },
          "metadata": {
            "tags": []
          },
          "execution_count": 69
        }
      ]
    },
    {
      "cell_type": "markdown",
      "metadata": {
        "id": "MBLfZA4hL98e"
      },
      "source": [
        "+ ### < `how` 的設定選項 > :  如何進行 `merge`\n",
        "\n",
        ">+ **`how = 'left'`** : 僅使用 前一項 (`left`) dataframe 中的 `keys` \n",
        ">\n",
        ">\n",
        ">+ **`how = 'right'`** : 僅使用 後一項 (`right`) dataframe 中的 `keys`\n",
        ">\n",
        ">\n",
        ">+ **`how = 'outer'`** : 使用兩個 dataframes 聯集 (union) 的 `keys` \n",
        ">\n",
        ">\n",
        ">+ **`how = 'inner'` (default)** : 使用兩個 dataframes 交集 (intersection) 的 `keys` "
      ]
    },
    {
      "cell_type": "markdown",
      "metadata": {
        "id": "VYBIkYWvL98e"
      },
      "source": [
        "+ ###  `merge` 方法基本運作：\n",
        ">   - one-to-one joins\n",
        ">   - many-to-one joins\n",
        ">   - many-to-many joins"
      ]
    },
    {
      "cell_type": "markdown",
      "metadata": {
        "id": "OipwRH_PL98f"
      },
      "source": [
        "### [ Ex 3.2.2 ] : Join 2 DataFrames"
      ]
    },
    {
      "cell_type": "code",
      "metadata": {
        "id": "I9AOjn1DL98f",
        "outputId": "4d7484e5-c385-41b9-a78b-b2a206d4ca47"
      },
      "source": [
        "#　a very basic example with one unique key combination:\n",
        "left = pd.DataFrame({'key': ['K0', 'K1', 'K2', 'K3'],\n",
        "                     'A': ['A0', 'A1', 'A2', 'A3'],\n",
        "                     'B': ['B0', 'B1', 'B2', 'B3']})\n",
        "\n",
        "\n",
        "right = pd.DataFrame({'key': ['K0', 'K1', 'K2', 'K3'],\n",
        "                      'C': ['C0', 'C1', 'C2', 'C3'],\n",
        "                      'D': ['D0', 'D1', 'D2', 'D3']})\n",
        "\n",
        "\n",
        "result = pd.merge(left, right, on='key')\n",
        "result"
      ],
      "execution_count": null,
      "outputs": [
        {
          "output_type": "execute_result",
          "data": {
            "text/html": [
              "<div>\n",
              "<style scoped>\n",
              "    .dataframe tbody tr th:only-of-type {\n",
              "        vertical-align: middle;\n",
              "    }\n",
              "\n",
              "    .dataframe tbody tr th {\n",
              "        vertical-align: top;\n",
              "    }\n",
              "\n",
              "    .dataframe thead th {\n",
              "        text-align: right;\n",
              "    }\n",
              "</style>\n",
              "<table border=\"1\" class=\"dataframe\">\n",
              "  <thead>\n",
              "    <tr style=\"text-align: right;\">\n",
              "      <th></th>\n",
              "      <th>key</th>\n",
              "      <th>A</th>\n",
              "      <th>B</th>\n",
              "      <th>C</th>\n",
              "      <th>D</th>\n",
              "    </tr>\n",
              "  </thead>\n",
              "  <tbody>\n",
              "    <tr>\n",
              "      <th>0</th>\n",
              "      <td>K0</td>\n",
              "      <td>A0</td>\n",
              "      <td>B0</td>\n",
              "      <td>C0</td>\n",
              "      <td>D0</td>\n",
              "    </tr>\n",
              "    <tr>\n",
              "      <th>1</th>\n",
              "      <td>K1</td>\n",
              "      <td>A1</td>\n",
              "      <td>B1</td>\n",
              "      <td>C1</td>\n",
              "      <td>D1</td>\n",
              "    </tr>\n",
              "    <tr>\n",
              "      <th>2</th>\n",
              "      <td>K2</td>\n",
              "      <td>A2</td>\n",
              "      <td>B2</td>\n",
              "      <td>C2</td>\n",
              "      <td>D2</td>\n",
              "    </tr>\n",
              "    <tr>\n",
              "      <th>3</th>\n",
              "      <td>K3</td>\n",
              "      <td>A3</td>\n",
              "      <td>B3</td>\n",
              "      <td>C3</td>\n",
              "      <td>D3</td>\n",
              "    </tr>\n",
              "  </tbody>\n",
              "</table>\n",
              "</div>"
            ],
            "text/plain": [
              "  key   A   B   C   D\n",
              "0  K0  A0  B0  C0  D0\n",
              "1  K1  A1  B1  C1  D1\n",
              "2  K2  A2  B2  C2  D2\n",
              "3  K3  A3  B3  C3  D3"
            ]
          },
          "metadata": {
            "tags": []
          },
          "execution_count": 70
        }
      ]
    },
    {
      "cell_type": "code",
      "metadata": {
        "id": "SusGco9LL98f",
        "outputId": "8a8ee168-104a-4bd7-a1fd-432b6e9302dc"
      },
      "source": [
        "#　a more complicated example with multiple join keys:\n",
        "left = pd.DataFrame({'key1': ['K0', 'K0', 'K1', 'K2'],\n",
        "                     'key2': ['K0', 'K1', 'K0', 'K1'],\n",
        "                     'A': ['A0', 'A1', 'A2', 'A3'],\n",
        "                     'B': ['B0', 'B1', 'B2', 'B3']})\n",
        "\n",
        "\n",
        "right = pd.DataFrame({'key1': ['K0', 'K1', 'K1', 'K2'],\n",
        "                      'key2': ['K0', 'K0', 'K0', 'K0'],\n",
        "                      'C': ['C0', 'C1', 'C2', 'C3'],\n",
        "                      'D': ['D0', 'D1', 'D2', 'D3']})\n",
        "\n",
        "\n",
        "result = pd.merge(left, right, on=['key1', 'key2'], how='inner')\n",
        "result"
      ],
      "execution_count": null,
      "outputs": [
        {
          "output_type": "execute_result",
          "data": {
            "text/html": [
              "<div>\n",
              "<style scoped>\n",
              "    .dataframe tbody tr th:only-of-type {\n",
              "        vertical-align: middle;\n",
              "    }\n",
              "\n",
              "    .dataframe tbody tr th {\n",
              "        vertical-align: top;\n",
              "    }\n",
              "\n",
              "    .dataframe thead th {\n",
              "        text-align: right;\n",
              "    }\n",
              "</style>\n",
              "<table border=\"1\" class=\"dataframe\">\n",
              "  <thead>\n",
              "    <tr style=\"text-align: right;\">\n",
              "      <th></th>\n",
              "      <th>key1</th>\n",
              "      <th>key2</th>\n",
              "      <th>A</th>\n",
              "      <th>B</th>\n",
              "      <th>C</th>\n",
              "      <th>D</th>\n",
              "    </tr>\n",
              "  </thead>\n",
              "  <tbody>\n",
              "    <tr>\n",
              "      <th>0</th>\n",
              "      <td>K0</td>\n",
              "      <td>K0</td>\n",
              "      <td>A0</td>\n",
              "      <td>B0</td>\n",
              "      <td>C0</td>\n",
              "      <td>D0</td>\n",
              "    </tr>\n",
              "    <tr>\n",
              "      <th>1</th>\n",
              "      <td>K1</td>\n",
              "      <td>K0</td>\n",
              "      <td>A2</td>\n",
              "      <td>B2</td>\n",
              "      <td>C1</td>\n",
              "      <td>D1</td>\n",
              "    </tr>\n",
              "    <tr>\n",
              "      <th>2</th>\n",
              "      <td>K1</td>\n",
              "      <td>K0</td>\n",
              "      <td>A2</td>\n",
              "      <td>B2</td>\n",
              "      <td>C2</td>\n",
              "      <td>D2</td>\n",
              "    </tr>\n",
              "  </tbody>\n",
              "</table>\n",
              "</div>"
            ],
            "text/plain": [
              "  key1 key2   A   B   C   D\n",
              "0   K0   K0  A0  B0  C0  D0\n",
              "1   K1   K0  A2  B2  C1  D1\n",
              "2   K1   K0  A2  B2  C2  D2"
            ]
          },
          "metadata": {
            "tags": []
          },
          "execution_count": 71
        }
      ]
    },
    {
      "cell_type": "code",
      "metadata": {
        "id": "-2gwhbTtL98g",
        "outputId": "ad2ec5f1-e8d6-41bb-fd87-f707f6c802e4"
      },
      "source": [
        "left "
      ],
      "execution_count": null,
      "outputs": [
        {
          "output_type": "execute_result",
          "data": {
            "text/html": [
              "<div>\n",
              "<style scoped>\n",
              "    .dataframe tbody tr th:only-of-type {\n",
              "        vertical-align: middle;\n",
              "    }\n",
              "\n",
              "    .dataframe tbody tr th {\n",
              "        vertical-align: top;\n",
              "    }\n",
              "\n",
              "    .dataframe thead th {\n",
              "        text-align: right;\n",
              "    }\n",
              "</style>\n",
              "<table border=\"1\" class=\"dataframe\">\n",
              "  <thead>\n",
              "    <tr style=\"text-align: right;\">\n",
              "      <th></th>\n",
              "      <th>key1</th>\n",
              "      <th>key2</th>\n",
              "      <th>A</th>\n",
              "      <th>B</th>\n",
              "    </tr>\n",
              "  </thead>\n",
              "  <tbody>\n",
              "    <tr>\n",
              "      <th>0</th>\n",
              "      <td>K0</td>\n",
              "      <td>K0</td>\n",
              "      <td>A0</td>\n",
              "      <td>B0</td>\n",
              "    </tr>\n",
              "    <tr>\n",
              "      <th>1</th>\n",
              "      <td>K0</td>\n",
              "      <td>K1</td>\n",
              "      <td>A1</td>\n",
              "      <td>B1</td>\n",
              "    </tr>\n",
              "    <tr>\n",
              "      <th>2</th>\n",
              "      <td>K1</td>\n",
              "      <td>K0</td>\n",
              "      <td>A2</td>\n",
              "      <td>B2</td>\n",
              "    </tr>\n",
              "    <tr>\n",
              "      <th>3</th>\n",
              "      <td>K2</td>\n",
              "      <td>K1</td>\n",
              "      <td>A3</td>\n",
              "      <td>B3</td>\n",
              "    </tr>\n",
              "  </tbody>\n",
              "</table>\n",
              "</div>"
            ],
            "text/plain": [
              "  key1 key2   A   B\n",
              "0   K0   K0  A0  B0\n",
              "1   K0   K1  A1  B1\n",
              "2   K1   K0  A2  B2\n",
              "3   K2   K1  A3  B3"
            ]
          },
          "metadata": {
            "tags": []
          },
          "execution_count": 72
        }
      ]
    },
    {
      "cell_type": "code",
      "metadata": {
        "id": "oFgroSyoL98g",
        "outputId": "54654842-0982-45f2-f2bf-81f5c7f98920"
      },
      "source": [
        "right"
      ],
      "execution_count": null,
      "outputs": [
        {
          "output_type": "execute_result",
          "data": {
            "text/html": [
              "<div>\n",
              "<style scoped>\n",
              "    .dataframe tbody tr th:only-of-type {\n",
              "        vertical-align: middle;\n",
              "    }\n",
              "\n",
              "    .dataframe tbody tr th {\n",
              "        vertical-align: top;\n",
              "    }\n",
              "\n",
              "    .dataframe thead th {\n",
              "        text-align: right;\n",
              "    }\n",
              "</style>\n",
              "<table border=\"1\" class=\"dataframe\">\n",
              "  <thead>\n",
              "    <tr style=\"text-align: right;\">\n",
              "      <th></th>\n",
              "      <th>key1</th>\n",
              "      <th>key2</th>\n",
              "      <th>C</th>\n",
              "      <th>D</th>\n",
              "    </tr>\n",
              "  </thead>\n",
              "  <tbody>\n",
              "    <tr>\n",
              "      <th>0</th>\n",
              "      <td>K0</td>\n",
              "      <td>K0</td>\n",
              "      <td>C0</td>\n",
              "      <td>D0</td>\n",
              "    </tr>\n",
              "    <tr>\n",
              "      <th>1</th>\n",
              "      <td>K1</td>\n",
              "      <td>K0</td>\n",
              "      <td>C1</td>\n",
              "      <td>D1</td>\n",
              "    </tr>\n",
              "    <tr>\n",
              "      <th>2</th>\n",
              "      <td>K1</td>\n",
              "      <td>K0</td>\n",
              "      <td>C2</td>\n",
              "      <td>D2</td>\n",
              "    </tr>\n",
              "    <tr>\n",
              "      <th>3</th>\n",
              "      <td>K2</td>\n",
              "      <td>K0</td>\n",
              "      <td>C3</td>\n",
              "      <td>D3</td>\n",
              "    </tr>\n",
              "  </tbody>\n",
              "</table>\n",
              "</div>"
            ],
            "text/plain": [
              "  key1 key2   C   D\n",
              "0   K0   K0  C0  D0\n",
              "1   K1   K0  C1  D1\n",
              "2   K1   K0  C2  D2\n",
              "3   K2   K0  C3  D3"
            ]
          },
          "metadata": {
            "tags": []
          },
          "execution_count": 73
        }
      ]
    },
    {
      "cell_type": "code",
      "metadata": {
        "id": "wm8ZvlIQL98g",
        "outputId": "3233bc05-13f8-4336-d082-ae296304517b"
      },
      "source": [
        "# Use keys from left frame only\n",
        "result = pd.merge(left, right, how='left', on=['key1', 'key2'])\n",
        "result"
      ],
      "execution_count": null,
      "outputs": [
        {
          "output_type": "execute_result",
          "data": {
            "text/html": [
              "<div>\n",
              "<style scoped>\n",
              "    .dataframe tbody tr th:only-of-type {\n",
              "        vertical-align: middle;\n",
              "    }\n",
              "\n",
              "    .dataframe tbody tr th {\n",
              "        vertical-align: top;\n",
              "    }\n",
              "\n",
              "    .dataframe thead th {\n",
              "        text-align: right;\n",
              "    }\n",
              "</style>\n",
              "<table border=\"1\" class=\"dataframe\">\n",
              "  <thead>\n",
              "    <tr style=\"text-align: right;\">\n",
              "      <th></th>\n",
              "      <th>key1</th>\n",
              "      <th>key2</th>\n",
              "      <th>A</th>\n",
              "      <th>B</th>\n",
              "      <th>C</th>\n",
              "      <th>D</th>\n",
              "    </tr>\n",
              "  </thead>\n",
              "  <tbody>\n",
              "    <tr>\n",
              "      <th>0</th>\n",
              "      <td>K0</td>\n",
              "      <td>K0</td>\n",
              "      <td>A0</td>\n",
              "      <td>B0</td>\n",
              "      <td>C0</td>\n",
              "      <td>D0</td>\n",
              "    </tr>\n",
              "    <tr>\n",
              "      <th>1</th>\n",
              "      <td>K0</td>\n",
              "      <td>K1</td>\n",
              "      <td>A1</td>\n",
              "      <td>B1</td>\n",
              "      <td>NaN</td>\n",
              "      <td>NaN</td>\n",
              "    </tr>\n",
              "    <tr>\n",
              "      <th>2</th>\n",
              "      <td>K1</td>\n",
              "      <td>K0</td>\n",
              "      <td>A2</td>\n",
              "      <td>B2</td>\n",
              "      <td>C1</td>\n",
              "      <td>D1</td>\n",
              "    </tr>\n",
              "    <tr>\n",
              "      <th>3</th>\n",
              "      <td>K1</td>\n",
              "      <td>K0</td>\n",
              "      <td>A2</td>\n",
              "      <td>B2</td>\n",
              "      <td>C2</td>\n",
              "      <td>D2</td>\n",
              "    </tr>\n",
              "    <tr>\n",
              "      <th>4</th>\n",
              "      <td>K2</td>\n",
              "      <td>K1</td>\n",
              "      <td>A3</td>\n",
              "      <td>B3</td>\n",
              "      <td>NaN</td>\n",
              "      <td>NaN</td>\n",
              "    </tr>\n",
              "  </tbody>\n",
              "</table>\n",
              "</div>"
            ],
            "text/plain": [
              "  key1 key2   A   B    C    D\n",
              "0   K0   K0  A0  B0   C0   D0\n",
              "1   K0   K1  A1  B1  NaN  NaN\n",
              "2   K1   K0  A2  B2   C1   D1\n",
              "3   K1   K0  A2  B2   C2   D2\n",
              "4   K2   K1  A3  B3  NaN  NaN"
            ]
          },
          "metadata": {
            "tags": []
          },
          "execution_count": 74
        }
      ]
    },
    {
      "cell_type": "markdown",
      "metadata": {
        "id": "cByG56EuL98h"
      },
      "source": [
        "### [ Ex 3.2.3 ] : Join with *duplicate join keys* in DataFrames"
      ]
    },
    {
      "cell_type": "code",
      "metadata": {
        "id": "mWivbzIxL98h",
        "outputId": "eb92c359-d586-4b38-bcfd-a31432540517"
      },
      "source": [
        "left = pd.DataFrame({'A' : [1,2], 'B' : [2, 2]})\n",
        "left"
      ],
      "execution_count": null,
      "outputs": [
        {
          "output_type": "execute_result",
          "data": {
            "text/html": [
              "<div>\n",
              "<style scoped>\n",
              "    .dataframe tbody tr th:only-of-type {\n",
              "        vertical-align: middle;\n",
              "    }\n",
              "\n",
              "    .dataframe tbody tr th {\n",
              "        vertical-align: top;\n",
              "    }\n",
              "\n",
              "    .dataframe thead th {\n",
              "        text-align: right;\n",
              "    }\n",
              "</style>\n",
              "<table border=\"1\" class=\"dataframe\">\n",
              "  <thead>\n",
              "    <tr style=\"text-align: right;\">\n",
              "      <th></th>\n",
              "      <th>A</th>\n",
              "      <th>B</th>\n",
              "    </tr>\n",
              "  </thead>\n",
              "  <tbody>\n",
              "    <tr>\n",
              "      <th>0</th>\n",
              "      <td>1</td>\n",
              "      <td>2</td>\n",
              "    </tr>\n",
              "    <tr>\n",
              "      <th>1</th>\n",
              "      <td>2</td>\n",
              "      <td>2</td>\n",
              "    </tr>\n",
              "  </tbody>\n",
              "</table>\n",
              "</div>"
            ],
            "text/plain": [
              "   A  B\n",
              "0  1  2\n",
              "1  2  2"
            ]
          },
          "metadata": {
            "tags": []
          },
          "execution_count": 75
        }
      ]
    },
    {
      "cell_type": "code",
      "metadata": {
        "id": "tn0JHFy0L98h",
        "outputId": "13f9f1a3-00d7-4253-bd31-77cce64d8d88"
      },
      "source": [
        "right = pd.DataFrame({'A' : [4,5,6], 'B': [2,2,2]})\n",
        "right"
      ],
      "execution_count": null,
      "outputs": [
        {
          "output_type": "execute_result",
          "data": {
            "text/html": [
              "<div>\n",
              "<style scoped>\n",
              "    .dataframe tbody tr th:only-of-type {\n",
              "        vertical-align: middle;\n",
              "    }\n",
              "\n",
              "    .dataframe tbody tr th {\n",
              "        vertical-align: top;\n",
              "    }\n",
              "\n",
              "    .dataframe thead th {\n",
              "        text-align: right;\n",
              "    }\n",
              "</style>\n",
              "<table border=\"1\" class=\"dataframe\">\n",
              "  <thead>\n",
              "    <tr style=\"text-align: right;\">\n",
              "      <th></th>\n",
              "      <th>A</th>\n",
              "      <th>B</th>\n",
              "    </tr>\n",
              "  </thead>\n",
              "  <tbody>\n",
              "    <tr>\n",
              "      <th>0</th>\n",
              "      <td>4</td>\n",
              "      <td>2</td>\n",
              "    </tr>\n",
              "    <tr>\n",
              "      <th>1</th>\n",
              "      <td>5</td>\n",
              "      <td>2</td>\n",
              "    </tr>\n",
              "    <tr>\n",
              "      <th>2</th>\n",
              "      <td>6</td>\n",
              "      <td>2</td>\n",
              "    </tr>\n",
              "  </tbody>\n",
              "</table>\n",
              "</div>"
            ],
            "text/plain": [
              "   A  B\n",
              "0  4  2\n",
              "1  5  2\n",
              "2  6  2"
            ]
          },
          "metadata": {
            "tags": []
          },
          "execution_count": 76
        }
      ]
    },
    {
      "cell_type": "code",
      "metadata": {
        "id": "fo_YEkA2L98t",
        "outputId": "a8ffaa8f-a26f-4cdc-e8c9-4b3b4e3a0d02"
      },
      "source": [
        "result = pd.merge(left, right, on='B', how='outer')\n",
        "result"
      ],
      "execution_count": null,
      "outputs": [
        {
          "output_type": "execute_result",
          "data": {
            "text/html": [
              "<div>\n",
              "<style scoped>\n",
              "    .dataframe tbody tr th:only-of-type {\n",
              "        vertical-align: middle;\n",
              "    }\n",
              "\n",
              "    .dataframe tbody tr th {\n",
              "        vertical-align: top;\n",
              "    }\n",
              "\n",
              "    .dataframe thead th {\n",
              "        text-align: right;\n",
              "    }\n",
              "</style>\n",
              "<table border=\"1\" class=\"dataframe\">\n",
              "  <thead>\n",
              "    <tr style=\"text-align: right;\">\n",
              "      <th></th>\n",
              "      <th>A_x</th>\n",
              "      <th>B</th>\n",
              "      <th>A_y</th>\n",
              "    </tr>\n",
              "  </thead>\n",
              "  <tbody>\n",
              "    <tr>\n",
              "      <th>0</th>\n",
              "      <td>1</td>\n",
              "      <td>2</td>\n",
              "      <td>4</td>\n",
              "    </tr>\n",
              "    <tr>\n",
              "      <th>1</th>\n",
              "      <td>1</td>\n",
              "      <td>2</td>\n",
              "      <td>5</td>\n",
              "    </tr>\n",
              "    <tr>\n",
              "      <th>2</th>\n",
              "      <td>1</td>\n",
              "      <td>2</td>\n",
              "      <td>6</td>\n",
              "    </tr>\n",
              "    <tr>\n",
              "      <th>3</th>\n",
              "      <td>2</td>\n",
              "      <td>2</td>\n",
              "      <td>4</td>\n",
              "    </tr>\n",
              "    <tr>\n",
              "      <th>4</th>\n",
              "      <td>2</td>\n",
              "      <td>2</td>\n",
              "      <td>5</td>\n",
              "    </tr>\n",
              "    <tr>\n",
              "      <th>5</th>\n",
              "      <td>2</td>\n",
              "      <td>2</td>\n",
              "      <td>6</td>\n",
              "    </tr>\n",
              "  </tbody>\n",
              "</table>\n",
              "</div>"
            ],
            "text/plain": [
              "   A_x  B  A_y\n",
              "0    1  2    4\n",
              "1    1  2    5\n",
              "2    1  2    6\n",
              "3    2  2    4\n",
              "4    2  2    5\n",
              "5    2  2    6"
            ]
          },
          "metadata": {
            "tags": []
          },
          "execution_count": 77
        }
      ]
    },
    {
      "cell_type": "markdown",
      "metadata": {
        "id": "NzUSK9W-L98u"
      },
      "source": [
        "+ #### Checking for duplicate keys\n",
        "> - 使用 `validate` 引數設定，來檢查是否存在重複的 keys \n",
        "> - 檢查 key 的 唯一性 (uniqueness)，可避免記憶體溢位 (memory overflows)；同時，也可確保資料結構如預期方式建立。 "
      ]
    },
    {
      "cell_type": "code",
      "metadata": {
        "id": "KEoGyI6VL98u",
        "outputId": "a8d21c24-d077-44ca-e5a1-7a0db6cb4a89"
      },
      "source": [
        "left = pd.DataFrame({'A' : [1,2], 'B' : [1, 2]})\n",
        "\n",
        "right = pd.DataFrame({'A' : [4,5,6], 'B': [2, 2, 2]})\n",
        "\n",
        "result = pd.merge(left, right, on='B', how='outer', \n",
        "                  validate=\"one_to_one\")\n",
        "\n",
        "# MergeError: Merge keys are not unique in right dataset; not a one-to-one merge"
      ],
      "execution_count": null,
      "outputs": [
        {
          "output_type": "error",
          "ename": "MergeError",
          "evalue": "Merge keys are not unique in right dataset; not a one-to-one merge",
          "traceback": [
            "\u001b[1;31m-------------------------------------------------------\u001b[0m",
            "\u001b[1;31mMergeError\u001b[0m            Traceback (most recent call last)",
            "\u001b[1;32m<ipython-input-78-ec17baac666a>\u001b[0m in \u001b[0;36m<module>\u001b[1;34m\u001b[0m\n\u001b[0;32m      3\u001b[0m \u001b[0mright\u001b[0m \u001b[1;33m=\u001b[0m \u001b[0mpd\u001b[0m\u001b[1;33m.\u001b[0m\u001b[0mDataFrame\u001b[0m\u001b[1;33m(\u001b[0m\u001b[1;33m{\u001b[0m\u001b[1;34m'A'\u001b[0m \u001b[1;33m:\u001b[0m \u001b[1;33m[\u001b[0m\u001b[1;36m4\u001b[0m\u001b[1;33m,\u001b[0m\u001b[1;36m5\u001b[0m\u001b[1;33m,\u001b[0m\u001b[1;36m6\u001b[0m\u001b[1;33m]\u001b[0m\u001b[1;33m,\u001b[0m \u001b[1;34m'B'\u001b[0m\u001b[1;33m:\u001b[0m \u001b[1;33m[\u001b[0m\u001b[1;36m2\u001b[0m\u001b[1;33m,\u001b[0m \u001b[1;36m2\u001b[0m\u001b[1;33m,\u001b[0m \u001b[1;36m2\u001b[0m\u001b[1;33m]\u001b[0m\u001b[1;33m}\u001b[0m\u001b[1;33m)\u001b[0m\u001b[1;33m\u001b[0m\u001b[1;33m\u001b[0m\u001b[0m\n\u001b[0;32m      4\u001b[0m \u001b[1;33m\u001b[0m\u001b[0m\n\u001b[1;32m----> 5\u001b[1;33m result = pd.merge(left, right, on='B', how='outer', \n\u001b[0m\u001b[0;32m      6\u001b[0m                   validate=\"one_to_one\")\n\u001b[0;32m      7\u001b[0m \u001b[1;33m\u001b[0m\u001b[0m\n",
            "\u001b[1;32m~\\anaconda3\\lib\\site-packages\\pandas\\core\\reshape\\merge.py\u001b[0m in \u001b[0;36mmerge\u001b[1;34m(left, right, how, on, left_on, right_on, left_index, right_index, sort, suffixes, copy, indicator, validate)\u001b[0m\n\u001b[0;32m     72\u001b[0m     \u001b[0mvalidate\u001b[0m\u001b[1;33m=\u001b[0m\u001b[1;32mNone\u001b[0m\u001b[1;33m,\u001b[0m\u001b[1;33m\u001b[0m\u001b[1;33m\u001b[0m\u001b[0m\n\u001b[0;32m     73\u001b[0m ) -> \"DataFrame\":\n\u001b[1;32m---> 74\u001b[1;33m     op = _MergeOperation(\n\u001b[0m\u001b[0;32m     75\u001b[0m         \u001b[0mleft\u001b[0m\u001b[1;33m,\u001b[0m\u001b[1;33m\u001b[0m\u001b[1;33m\u001b[0m\u001b[0m\n\u001b[0;32m     76\u001b[0m         \u001b[0mright\u001b[0m\u001b[1;33m,\u001b[0m\u001b[1;33m\u001b[0m\u001b[1;33m\u001b[0m\u001b[0m\n",
            "\u001b[1;32m~\\anaconda3\\lib\\site-packages\\pandas\\core\\reshape\\merge.py\u001b[0m in \u001b[0;36m__init__\u001b[1;34m(self, left, right, how, on, left_on, right_on, axis, left_index, right_index, sort, suffixes, copy, indicator, validate)\u001b[0m\n\u001b[0;32m    660\u001b[0m         \u001b[1;31m# are in fact unique.\u001b[0m\u001b[1;33m\u001b[0m\u001b[1;33m\u001b[0m\u001b[1;33m\u001b[0m\u001b[0m\n\u001b[0;32m    661\u001b[0m         \u001b[1;32mif\u001b[0m \u001b[0mvalidate\u001b[0m \u001b[1;32mis\u001b[0m \u001b[1;32mnot\u001b[0m \u001b[1;32mNone\u001b[0m\u001b[1;33m:\u001b[0m\u001b[1;33m\u001b[0m\u001b[1;33m\u001b[0m\u001b[0m\n\u001b[1;32m--> 662\u001b[1;33m             \u001b[0mself\u001b[0m\u001b[1;33m.\u001b[0m\u001b[0m_validate\u001b[0m\u001b[1;33m(\u001b[0m\u001b[0mvalidate\u001b[0m\u001b[1;33m)\u001b[0m\u001b[1;33m\u001b[0m\u001b[1;33m\u001b[0m\u001b[0m\n\u001b[0m\u001b[0;32m    663\u001b[0m \u001b[1;33m\u001b[0m\u001b[0m\n\u001b[0;32m    664\u001b[0m     \u001b[1;32mdef\u001b[0m \u001b[0mget_result\u001b[0m\u001b[1;33m(\u001b[0m\u001b[0mself\u001b[0m\u001b[1;33m)\u001b[0m\u001b[1;33m:\u001b[0m\u001b[1;33m\u001b[0m\u001b[1;33m\u001b[0m\u001b[0m\n",
            "\u001b[1;32m~\\anaconda3\\lib\\site-packages\\pandas\\core\\reshape\\merge.py\u001b[0m in \u001b[0;36m_validate\u001b[1;34m(self, validate)\u001b[0m\n\u001b[0;32m   1275\u001b[0m                 )\n\u001b[0;32m   1276\u001b[0m             \u001b[1;32melif\u001b[0m \u001b[1;32mnot\u001b[0m \u001b[0mright_unique\u001b[0m\u001b[1;33m:\u001b[0m\u001b[1;33m\u001b[0m\u001b[1;33m\u001b[0m\u001b[0m\n\u001b[1;32m-> 1277\u001b[1;33m                 raise MergeError(\n\u001b[0m\u001b[0;32m   1278\u001b[0m                     \u001b[1;34m\"Merge keys are not unique in right dataset; not a one-to-one merge\"\u001b[0m\u001b[1;33m\u001b[0m\u001b[1;33m\u001b[0m\u001b[0m\n\u001b[0;32m   1279\u001b[0m                 )\n",
            "\u001b[1;31mMergeError\u001b[0m: Merge keys are not unique in right dataset; not a one-to-one merge"
          ]
        }
      ]
    },
    {
      "cell_type": "markdown",
      "metadata": {
        "id": "yAN5VeKfL98v"
      },
      "source": [
        "> + **假設使用者已知後一項 (`right`) 的 DataFrame 存在重複的 keys，但是不知道前一項 (`left`) DataFrame 是否也有重複的 keys。**\n",
        ">\n",
        ">\n",
        "> + **此時，可以設定 `validate='one_to_many'` 來進行檢查。**"
      ]
    },
    {
      "cell_type": "code",
      "metadata": {
        "id": "PvSwGbe1L98v",
        "outputId": "3be764da-8e6a-463b-8d60-a6c2754844d6"
      },
      "source": [
        "pd.merge(left, right, on='B', how='outer', validate=\"one_to_many\")"
      ],
      "execution_count": null,
      "outputs": [
        {
          "output_type": "execute_result",
          "data": {
            "text/html": [
              "<div>\n",
              "<style scoped>\n",
              "    .dataframe tbody tr th:only-of-type {\n",
              "        vertical-align: middle;\n",
              "    }\n",
              "\n",
              "    .dataframe tbody tr th {\n",
              "        vertical-align: top;\n",
              "    }\n",
              "\n",
              "    .dataframe thead th {\n",
              "        text-align: right;\n",
              "    }\n",
              "</style>\n",
              "<table border=\"1\" class=\"dataframe\">\n",
              "  <thead>\n",
              "    <tr style=\"text-align: right;\">\n",
              "      <th></th>\n",
              "      <th>A_x</th>\n",
              "      <th>B</th>\n",
              "      <th>A_y</th>\n",
              "    </tr>\n",
              "  </thead>\n",
              "  <tbody>\n",
              "    <tr>\n",
              "      <th>0</th>\n",
              "      <td>1</td>\n",
              "      <td>1</td>\n",
              "      <td>NaN</td>\n",
              "    </tr>\n",
              "    <tr>\n",
              "      <th>1</th>\n",
              "      <td>2</td>\n",
              "      <td>2</td>\n",
              "      <td>4.0</td>\n",
              "    </tr>\n",
              "    <tr>\n",
              "      <th>2</th>\n",
              "      <td>2</td>\n",
              "      <td>2</td>\n",
              "      <td>5.0</td>\n",
              "    </tr>\n",
              "    <tr>\n",
              "      <th>3</th>\n",
              "      <td>2</td>\n",
              "      <td>2</td>\n",
              "      <td>6.0</td>\n",
              "    </tr>\n",
              "  </tbody>\n",
              "</table>\n",
              "</div>"
            ],
            "text/plain": [
              "   A_x  B  A_y\n",
              "0    1  1  NaN\n",
              "1    2  2  4.0\n",
              "2    2  2  5.0\n",
              "3    2  2  6.0"
            ]
          },
          "metadata": {
            "tags": []
          },
          "execution_count": 79
        }
      ]
    },
    {
      "cell_type": "markdown",
      "metadata": {
        "id": "b2QSogUWL98v"
      },
      "source": [
        "<a id='Data_Analysis_&_Manipulation'></a>\n",
        "## 4. Data Analysis & Manipulation\n",
        "\n",
        "<a id='Summarizing'></a>\n",
        "### 4.1 Summarizing \n",
        "+ ### Examine the `users` data"
      ]
    },
    {
      "cell_type": "code",
      "metadata": {
        "id": "7p1aWmlyL98w",
        "outputId": "05e9200a-b50d-40f2-bf2c-da785f398f86"
      },
      "source": [
        "users = pd.merge(Users, user4, on=\"name\", how='outer')\n",
        "users # print the first 30 and last 30 rows\n",
        "\n",
        "type(users) # DataFrame\n",
        "users.head() # print the first 5 rows\n",
        "users.tail() # print the last 5 rows\n",
        "users.describe() # summarize all numeric columns\n",
        "users.describe(include='all')\n",
        "users.describe(include='object')\n",
        "\n",
        "users.index # \"the index\" (aka \"the labels\")\n",
        "users.columns # column names (which is \"an index\")\n",
        "\n",
        "users.dtypes # data types of each column\n",
        "users.shape # number of rows and columns\n",
        "users.values # underlying numpy array\n",
        "users.info() # concise summary (includes memory usage as of pandas 0.15.0)"
      ],
      "execution_count": null,
      "outputs": [
        {
          "output_type": "stream",
          "text": [
            "<class 'pandas.core.frame.DataFrame'>\n",
            "Int64Index: 8 entries, 0 to 7\n",
            "Data columns (total 5 columns):\n",
            " #   Column  Non-Null Count  Dtype  \n",
            "---  ------  --------------  -----  \n",
            " 0   name    8 non-null      object \n",
            " 1   age     8 non-null      int64  \n",
            " 2   gender  8 non-null      object \n",
            " 3   job     8 non-null      object \n",
            " 4   height  5 non-null      float64\n",
            "dtypes: float64(1), int64(1), object(3)\n",
            "memory usage: 384.0+ bytes\n"
          ],
          "name": "stdout"
        }
      ]
    },
    {
      "cell_type": "markdown",
      "metadata": {
        "id": "ONptbwBhL98w"
      },
      "source": [
        "<a id='Manipulation_of_DataFrame'></a>\n",
        "## 4.2 Manipulation of DataFrame\n",
        "\n",
        "###  4.2.1  Columns selection"
      ]
    },
    {
      "cell_type": "code",
      "metadata": {
        "id": "m0XZ-KsYL98w",
        "outputId": "2a4af585-a250-4a40-bb42-8094fb9853db"
      },
      "source": [
        "users"
      ],
      "execution_count": null,
      "outputs": [
        {
          "output_type": "execute_result",
          "data": {
            "text/html": [
              "<div>\n",
              "<style scoped>\n",
              "    .dataframe tbody tr th:only-of-type {\n",
              "        vertical-align: middle;\n",
              "    }\n",
              "\n",
              "    .dataframe tbody tr th {\n",
              "        vertical-align: top;\n",
              "    }\n",
              "\n",
              "    .dataframe thead th {\n",
              "        text-align: right;\n",
              "    }\n",
              "</style>\n",
              "<table border=\"1\" class=\"dataframe\">\n",
              "  <thead>\n",
              "    <tr style=\"text-align: right;\">\n",
              "      <th></th>\n",
              "      <th>name</th>\n",
              "      <th>age</th>\n",
              "      <th>gender</th>\n",
              "      <th>job</th>\n",
              "      <th>height</th>\n",
              "    </tr>\n",
              "  </thead>\n",
              "  <tbody>\n",
              "    <tr>\n",
              "      <th>0</th>\n",
              "      <td>alice</td>\n",
              "      <td>19</td>\n",
              "      <td>F</td>\n",
              "      <td>student</td>\n",
              "      <td>165.0</td>\n",
              "    </tr>\n",
              "    <tr>\n",
              "      <th>1</th>\n",
              "      <td>john</td>\n",
              "      <td>26</td>\n",
              "      <td>M</td>\n",
              "      <td>student</td>\n",
              "      <td>180.0</td>\n",
              "    </tr>\n",
              "    <tr>\n",
              "      <th>2</th>\n",
              "      <td>eric</td>\n",
              "      <td>22</td>\n",
              "      <td>M</td>\n",
              "      <td>student</td>\n",
              "      <td>171.0</td>\n",
              "    </tr>\n",
              "    <tr>\n",
              "      <th>3</th>\n",
              "      <td>paul</td>\n",
              "      <td>58</td>\n",
              "      <td>M</td>\n",
              "      <td>manager</td>\n",
              "      <td>192.0</td>\n",
              "    </tr>\n",
              "    <tr>\n",
              "      <th>4</th>\n",
              "      <td>bill</td>\n",
              "      <td>33</td>\n",
              "      <td>M</td>\n",
              "      <td>engineer</td>\n",
              "      <td>NaN</td>\n",
              "    </tr>\n",
              "    <tr>\n",
              "      <th>5</th>\n",
              "      <td>peter</td>\n",
              "      <td>48</td>\n",
              "      <td>M</td>\n",
              "      <td>CTO</td>\n",
              "      <td>NaN</td>\n",
              "    </tr>\n",
              "    <tr>\n",
              "      <th>6</th>\n",
              "      <td>julie</td>\n",
              "      <td>44</td>\n",
              "      <td>F</td>\n",
              "      <td>CFO</td>\n",
              "      <td>175.0</td>\n",
              "    </tr>\n",
              "    <tr>\n",
              "      <th>7</th>\n",
              "      <td>lucy</td>\n",
              "      <td>52</td>\n",
              "      <td>F</td>\n",
              "      <td>CEO</td>\n",
              "      <td>NaN</td>\n",
              "    </tr>\n",
              "  </tbody>\n",
              "</table>\n",
              "</div>"
            ],
            "text/plain": [
              "    name  age gender       job  height\n",
              "0  alice   19      F   student   165.0\n",
              "1   john   26      M   student   180.0\n",
              "2   eric   22      M   student   171.0\n",
              "3   paul   58      M   manager   192.0\n",
              "4   bill   33      M  engineer     NaN\n",
              "5  peter   48      M       CTO     NaN\n",
              "6  julie   44      F       CFO   175.0\n",
              "7   lucy   52      F       CEO     NaN"
            ]
          },
          "metadata": {
            "tags": []
          },
          "execution_count": 81
        }
      ]
    },
    {
      "cell_type": "code",
      "metadata": {
        "id": "PCfUmvR2L98w",
        "outputId": "914e6eb6-ed4c-4e24-8953-2569189179e6"
      },
      "source": [
        "users['gender'] # select one column"
      ],
      "execution_count": null,
      "outputs": [
        {
          "output_type": "execute_result",
          "data": {
            "text/plain": [
              "0    F\n",
              "1    M\n",
              "2    M\n",
              "3    M\n",
              "4    M\n",
              "5    M\n",
              "6    F\n",
              "7    F\n",
              "Name: gender, dtype: object"
            ]
          },
          "metadata": {
            "tags": []
          },
          "execution_count": 82
        }
      ]
    },
    {
      "cell_type": "code",
      "metadata": {
        "id": "xSMMh3e7L98w",
        "outputId": "4ab9bea2-3bc1-440b-d275-5d92b26c08b0"
      },
      "source": [
        "type(users['gender']) # Series"
      ],
      "execution_count": null,
      "outputs": [
        {
          "output_type": "execute_result",
          "data": {
            "text/plain": [
              "pandas.core.series.Series"
            ]
          },
          "metadata": {
            "tags": []
          },
          "execution_count": 83
        }
      ]
    },
    {
      "cell_type": "code",
      "metadata": {
        "id": "Ee2SLuS7L98x",
        "outputId": "0eba1112-c683-455d-aed1-0fe7ff764ad3"
      },
      "source": [
        "users.gender # select one column using the DataFrame"
      ],
      "execution_count": null,
      "outputs": [
        {
          "output_type": "execute_result",
          "data": {
            "text/plain": [
              "0    F\n",
              "1    M\n",
              "2    M\n",
              "3    M\n",
              "4    M\n",
              "5    M\n",
              "6    F\n",
              "7    F\n",
              "Name: gender, dtype: object"
            ]
          },
          "metadata": {
            "tags": []
          },
          "execution_count": 84
        }
      ]
    },
    {
      "cell_type": "code",
      "metadata": {
        "id": "s8sY3d9kL98x",
        "outputId": "08965c6d-8573-466f-cb60-2ec1fd82dfc5"
      },
      "source": [
        "# select multiple columns\n",
        "users[['age', 'gender']] # select two columns"
      ],
      "execution_count": null,
      "outputs": [
        {
          "output_type": "execute_result",
          "data": {
            "text/html": [
              "<div>\n",
              "<style scoped>\n",
              "    .dataframe tbody tr th:only-of-type {\n",
              "        vertical-align: middle;\n",
              "    }\n",
              "\n",
              "    .dataframe tbody tr th {\n",
              "        vertical-align: top;\n",
              "    }\n",
              "\n",
              "    .dataframe thead th {\n",
              "        text-align: right;\n",
              "    }\n",
              "</style>\n",
              "<table border=\"1\" class=\"dataframe\">\n",
              "  <thead>\n",
              "    <tr style=\"text-align: right;\">\n",
              "      <th></th>\n",
              "      <th>age</th>\n",
              "      <th>gender</th>\n",
              "    </tr>\n",
              "  </thead>\n",
              "  <tbody>\n",
              "    <tr>\n",
              "      <th>0</th>\n",
              "      <td>19</td>\n",
              "      <td>F</td>\n",
              "    </tr>\n",
              "    <tr>\n",
              "      <th>1</th>\n",
              "      <td>26</td>\n",
              "      <td>M</td>\n",
              "    </tr>\n",
              "    <tr>\n",
              "      <th>2</th>\n",
              "      <td>22</td>\n",
              "      <td>M</td>\n",
              "    </tr>\n",
              "    <tr>\n",
              "      <th>3</th>\n",
              "      <td>58</td>\n",
              "      <td>M</td>\n",
              "    </tr>\n",
              "    <tr>\n",
              "      <th>4</th>\n",
              "      <td>33</td>\n",
              "      <td>M</td>\n",
              "    </tr>\n",
              "    <tr>\n",
              "      <th>5</th>\n",
              "      <td>48</td>\n",
              "      <td>M</td>\n",
              "    </tr>\n",
              "    <tr>\n",
              "      <th>6</th>\n",
              "      <td>44</td>\n",
              "      <td>F</td>\n",
              "    </tr>\n",
              "    <tr>\n",
              "      <th>7</th>\n",
              "      <td>52</td>\n",
              "      <td>F</td>\n",
              "    </tr>\n",
              "  </tbody>\n",
              "</table>\n",
              "</div>"
            ],
            "text/plain": [
              "   age gender\n",
              "0   19      F\n",
              "1   26      M\n",
              "2   22      M\n",
              "3   58      M\n",
              "4   33      M\n",
              "5   48      M\n",
              "6   44      F\n",
              "7   52      F"
            ]
          },
          "metadata": {
            "tags": []
          },
          "execution_count": 85
        }
      ]
    },
    {
      "cell_type": "code",
      "metadata": {
        "id": "eEG6KCaJL98x",
        "outputId": "4f1b0417-3029-41ab-a0a0-72b1afb49abd"
      },
      "source": [
        "my_cols = ['age', 'gender'] # or, create a list...\n",
        "users[my_cols] # ...and use that list to select columns"
      ],
      "execution_count": null,
      "outputs": [
        {
          "output_type": "execute_result",
          "data": {
            "text/html": [
              "<div>\n",
              "<style scoped>\n",
              "    .dataframe tbody tr th:only-of-type {\n",
              "        vertical-align: middle;\n",
              "    }\n",
              "\n",
              "    .dataframe tbody tr th {\n",
              "        vertical-align: top;\n",
              "    }\n",
              "\n",
              "    .dataframe thead th {\n",
              "        text-align: right;\n",
              "    }\n",
              "</style>\n",
              "<table border=\"1\" class=\"dataframe\">\n",
              "  <thead>\n",
              "    <tr style=\"text-align: right;\">\n",
              "      <th></th>\n",
              "      <th>age</th>\n",
              "      <th>gender</th>\n",
              "    </tr>\n",
              "  </thead>\n",
              "  <tbody>\n",
              "    <tr>\n",
              "      <th>0</th>\n",
              "      <td>19</td>\n",
              "      <td>F</td>\n",
              "    </tr>\n",
              "    <tr>\n",
              "      <th>1</th>\n",
              "      <td>26</td>\n",
              "      <td>M</td>\n",
              "    </tr>\n",
              "    <tr>\n",
              "      <th>2</th>\n",
              "      <td>22</td>\n",
              "      <td>M</td>\n",
              "    </tr>\n",
              "    <tr>\n",
              "      <th>3</th>\n",
              "      <td>58</td>\n",
              "      <td>M</td>\n",
              "    </tr>\n",
              "    <tr>\n",
              "      <th>4</th>\n",
              "      <td>33</td>\n",
              "      <td>M</td>\n",
              "    </tr>\n",
              "    <tr>\n",
              "      <th>5</th>\n",
              "      <td>48</td>\n",
              "      <td>M</td>\n",
              "    </tr>\n",
              "    <tr>\n",
              "      <th>6</th>\n",
              "      <td>44</td>\n",
              "      <td>F</td>\n",
              "    </tr>\n",
              "    <tr>\n",
              "      <th>7</th>\n",
              "      <td>52</td>\n",
              "      <td>F</td>\n",
              "    </tr>\n",
              "  </tbody>\n",
              "</table>\n",
              "</div>"
            ],
            "text/plain": [
              "   age gender\n",
              "0   19      F\n",
              "1   26      M\n",
              "2   22      M\n",
              "3   58      M\n",
              "4   33      M\n",
              "5   48      M\n",
              "6   44      F\n",
              "7   52      F"
            ]
          },
          "metadata": {
            "tags": []
          },
          "execution_count": 86
        }
      ]
    },
    {
      "cell_type": "code",
      "metadata": {
        "id": "HmKvsS7UL98x",
        "outputId": "c8f8cac5-df99-4457-e478-7f8d0c9cc2dd"
      },
      "source": [
        "type(users[my_cols]) # DataFrame"
      ],
      "execution_count": null,
      "outputs": [
        {
          "output_type": "execute_result",
          "data": {
            "text/plain": [
              "pandas.core.frame.DataFrame"
            ]
          },
          "metadata": {
            "tags": []
          },
          "execution_count": 87
        }
      ]
    },
    {
      "cell_type": "markdown",
      "metadata": {
        "id": "BVufuNLtL98y"
      },
      "source": [
        "### 4.2.2 Rows selection"
      ]
    },
    {
      "cell_type": "code",
      "metadata": {
        "id": "kintzoc7L98y",
        "outputId": "4caaaa2a-30af-41bb-d249-cc9daf5a4a7d"
      },
      "source": [
        "# iloc is strictly integer position based\n",
        "df = users.copy()\n",
        "print(df)\n",
        "df.iloc[0] # first row"
      ],
      "execution_count": null,
      "outputs": [
        {
          "output_type": "stream",
          "text": [
            "    name  age gender       job  height\n",
            "0  alice   19      F   student   165.0\n",
            "1   john   26      M   student   180.0\n",
            "2   eric   22      M   student   171.0\n",
            "3   paul   58      M   manager   192.0\n",
            "4   bill   33      M  engineer     NaN\n",
            "5  peter   48      M       CTO     NaN\n",
            "6  julie   44      F       CFO   175.0\n",
            "7   lucy   52      F       CEO     NaN\n"
          ],
          "name": "stdout"
        },
        {
          "output_type": "execute_result",
          "data": {
            "text/plain": [
              "name        alice\n",
              "age            19\n",
              "gender          F\n",
              "job       student\n",
              "height        165\n",
              "Name: 0, dtype: object"
            ]
          },
          "metadata": {
            "tags": []
          },
          "execution_count": 88
        }
      ]
    },
    {
      "cell_type": "code",
      "metadata": {
        "id": "UkRPJ6oqL98y",
        "outputId": "8a9531e3-9abe-4e6d-c36f-64b51a0278d2"
      },
      "source": [
        "type(df.iloc[0])"
      ],
      "execution_count": null,
      "outputs": [
        {
          "output_type": "execute_result",
          "data": {
            "text/plain": [
              "pandas.core.series.Series"
            ]
          },
          "metadata": {
            "tags": []
          },
          "execution_count": 89
        }
      ]
    },
    {
      "cell_type": "code",
      "metadata": {
        "id": "FT9r6rauL98y",
        "outputId": "b1a3a68e-825c-4863-81aa-e675c76e44bd"
      },
      "source": [
        "df.iloc[0, 0] # first item of first row"
      ],
      "execution_count": null,
      "outputs": [
        {
          "output_type": "execute_result",
          "data": {
            "text/plain": [
              "'alice'"
            ]
          },
          "metadata": {
            "tags": []
          },
          "execution_count": 90
        }
      ]
    },
    {
      "cell_type": "code",
      "metadata": {
        "id": "3dycyiNfL98z",
        "outputId": "ed759d4b-2d1d-4ac0-d8d3-a53f3eabf781"
      },
      "source": [
        "df.iloc[0, 0] = 'jenifer'\n",
        "df.iloc[0, 0]"
      ],
      "execution_count": null,
      "outputs": [
        {
          "output_type": "execute_result",
          "data": {
            "text/plain": [
              "'jenifer'"
            ]
          },
          "metadata": {
            "tags": []
          },
          "execution_count": 91
        }
      ]
    },
    {
      "cell_type": "code",
      "metadata": {
        "id": "JErz9AR-L98z",
        "outputId": "bef5f506-a340-4724-b9d1-cee8377f9ba1"
      },
      "source": [
        "users.shape[0]"
      ],
      "execution_count": null,
      "outputs": [
        {
          "output_type": "execute_result",
          "data": {
            "text/plain": [
              "8"
            ]
          },
          "metadata": {
            "tags": []
          },
          "execution_count": 92
        }
      ]
    },
    {
      "cell_type": "code",
      "metadata": {
        "id": "TOG-O2MuL98z",
        "outputId": "59649b9f-89a5-495a-f581-aae51398f591"
      },
      "source": [
        "for i in range(users.shape[0]):\n",
        "    # row = df.iloc[i]     # [SettingWithCopyWarning] : A value is trying to be set on a copy of a slice from a DataFrame.\n",
        "    row = df.iloc[i][:]\n",
        "    row.age *= 100       # setting a copy, and not the original frame data.\n",
        "df                # df is not modified"
      ],
      "execution_count": null,
      "outputs": [
        {
          "output_type": "execute_result",
          "data": {
            "text/html": [
              "<div>\n",
              "<style scoped>\n",
              "    .dataframe tbody tr th:only-of-type {\n",
              "        vertical-align: middle;\n",
              "    }\n",
              "\n",
              "    .dataframe tbody tr th {\n",
              "        vertical-align: top;\n",
              "    }\n",
              "\n",
              "    .dataframe thead th {\n",
              "        text-align: right;\n",
              "    }\n",
              "</style>\n",
              "<table border=\"1\" class=\"dataframe\">\n",
              "  <thead>\n",
              "    <tr style=\"text-align: right;\">\n",
              "      <th></th>\n",
              "      <th>name</th>\n",
              "      <th>age</th>\n",
              "      <th>gender</th>\n",
              "      <th>job</th>\n",
              "      <th>height</th>\n",
              "    </tr>\n",
              "  </thead>\n",
              "  <tbody>\n",
              "    <tr>\n",
              "      <th>0</th>\n",
              "      <td>jenifer</td>\n",
              "      <td>19</td>\n",
              "      <td>F</td>\n",
              "      <td>student</td>\n",
              "      <td>165.0</td>\n",
              "    </tr>\n",
              "    <tr>\n",
              "      <th>1</th>\n",
              "      <td>john</td>\n",
              "      <td>26</td>\n",
              "      <td>M</td>\n",
              "      <td>student</td>\n",
              "      <td>180.0</td>\n",
              "    </tr>\n",
              "    <tr>\n",
              "      <th>2</th>\n",
              "      <td>eric</td>\n",
              "      <td>22</td>\n",
              "      <td>M</td>\n",
              "      <td>student</td>\n",
              "      <td>171.0</td>\n",
              "    </tr>\n",
              "    <tr>\n",
              "      <th>3</th>\n",
              "      <td>paul</td>\n",
              "      <td>58</td>\n",
              "      <td>M</td>\n",
              "      <td>manager</td>\n",
              "      <td>192.0</td>\n",
              "    </tr>\n",
              "    <tr>\n",
              "      <th>4</th>\n",
              "      <td>bill</td>\n",
              "      <td>33</td>\n",
              "      <td>M</td>\n",
              "      <td>engineer</td>\n",
              "      <td>NaN</td>\n",
              "    </tr>\n",
              "    <tr>\n",
              "      <th>5</th>\n",
              "      <td>peter</td>\n",
              "      <td>48</td>\n",
              "      <td>M</td>\n",
              "      <td>CTO</td>\n",
              "      <td>NaN</td>\n",
              "    </tr>\n",
              "    <tr>\n",
              "      <th>6</th>\n",
              "      <td>julie</td>\n",
              "      <td>44</td>\n",
              "      <td>F</td>\n",
              "      <td>CFO</td>\n",
              "      <td>175.0</td>\n",
              "    </tr>\n",
              "    <tr>\n",
              "      <th>7</th>\n",
              "      <td>lucy</td>\n",
              "      <td>52</td>\n",
              "      <td>F</td>\n",
              "      <td>CEO</td>\n",
              "      <td>NaN</td>\n",
              "    </tr>\n",
              "  </tbody>\n",
              "</table>\n",
              "</div>"
            ],
            "text/plain": [
              "      name  age gender       job  height\n",
              "0  jenifer   19      F   student   165.0\n",
              "1     john   26      M   student   180.0\n",
              "2     eric   22      M   student   171.0\n",
              "3     paul   58      M   manager   192.0\n",
              "4     bill   33      M  engineer     NaN\n",
              "5    peter   48      M       CTO     NaN\n",
              "6    julie   44      F       CFO   175.0\n",
              "7     lucy   52      F       CEO     NaN"
            ]
          },
          "metadata": {
            "tags": []
          },
          "execution_count": 93
        }
      ]
    },
    {
      "cell_type": "code",
      "metadata": {
        "id": "SmmgmSvKL98z",
        "outputId": "6f6d8cc2-983e-4e6a-f374-acbe1d3ad679"
      },
      "source": [
        "# loc supports mixed integer and label based access.\n",
        "df = users.copy()\n",
        "print(df.iloc[0]) # first row\n",
        "print(df.loc[0, \"age\"]) # first item of first row\n",
        "df.loc[0, \"age\"] = 55\n",
        "\n",
        "for i in range(df.shape[0]):\n",
        "    df.loc[i, \"age\"] *= 10\n",
        "df   # df is modified"
      ],
      "execution_count": null,
      "outputs": [
        {
          "output_type": "stream",
          "text": [
            "name        alice\n",
            "age            19\n",
            "gender          F\n",
            "job       student\n",
            "height        165\n",
            "Name: 0, dtype: object\n",
            "19\n"
          ],
          "name": "stdout"
        },
        {
          "output_type": "execute_result",
          "data": {
            "text/html": [
              "<div>\n",
              "<style scoped>\n",
              "    .dataframe tbody tr th:only-of-type {\n",
              "        vertical-align: middle;\n",
              "    }\n",
              "\n",
              "    .dataframe tbody tr th {\n",
              "        vertical-align: top;\n",
              "    }\n",
              "\n",
              "    .dataframe thead th {\n",
              "        text-align: right;\n",
              "    }\n",
              "</style>\n",
              "<table border=\"1\" class=\"dataframe\">\n",
              "  <thead>\n",
              "    <tr style=\"text-align: right;\">\n",
              "      <th></th>\n",
              "      <th>name</th>\n",
              "      <th>age</th>\n",
              "      <th>gender</th>\n",
              "      <th>job</th>\n",
              "      <th>height</th>\n",
              "    </tr>\n",
              "  </thead>\n",
              "  <tbody>\n",
              "    <tr>\n",
              "      <th>0</th>\n",
              "      <td>alice</td>\n",
              "      <td>550</td>\n",
              "      <td>F</td>\n",
              "      <td>student</td>\n",
              "      <td>165.0</td>\n",
              "    </tr>\n",
              "    <tr>\n",
              "      <th>1</th>\n",
              "      <td>john</td>\n",
              "      <td>260</td>\n",
              "      <td>M</td>\n",
              "      <td>student</td>\n",
              "      <td>180.0</td>\n",
              "    </tr>\n",
              "    <tr>\n",
              "      <th>2</th>\n",
              "      <td>eric</td>\n",
              "      <td>220</td>\n",
              "      <td>M</td>\n",
              "      <td>student</td>\n",
              "      <td>171.0</td>\n",
              "    </tr>\n",
              "    <tr>\n",
              "      <th>3</th>\n",
              "      <td>paul</td>\n",
              "      <td>580</td>\n",
              "      <td>M</td>\n",
              "      <td>manager</td>\n",
              "      <td>192.0</td>\n",
              "    </tr>\n",
              "    <tr>\n",
              "      <th>4</th>\n",
              "      <td>bill</td>\n",
              "      <td>330</td>\n",
              "      <td>M</td>\n",
              "      <td>engineer</td>\n",
              "      <td>NaN</td>\n",
              "    </tr>\n",
              "    <tr>\n",
              "      <th>5</th>\n",
              "      <td>peter</td>\n",
              "      <td>480</td>\n",
              "      <td>M</td>\n",
              "      <td>CTO</td>\n",
              "      <td>NaN</td>\n",
              "    </tr>\n",
              "    <tr>\n",
              "      <th>6</th>\n",
              "      <td>julie</td>\n",
              "      <td>440</td>\n",
              "      <td>F</td>\n",
              "      <td>CFO</td>\n",
              "      <td>175.0</td>\n",
              "    </tr>\n",
              "    <tr>\n",
              "      <th>7</th>\n",
              "      <td>lucy</td>\n",
              "      <td>520</td>\n",
              "      <td>F</td>\n",
              "      <td>CEO</td>\n",
              "      <td>NaN</td>\n",
              "    </tr>\n",
              "  </tbody>\n",
              "</table>\n",
              "</div>"
            ],
            "text/plain": [
              "    name  age gender       job  height\n",
              "0  alice  550      F   student   165.0\n",
              "1   john  260      M   student   180.0\n",
              "2   eric  220      M   student   171.0\n",
              "3   paul  580      M   manager   192.0\n",
              "4   bill  330      M  engineer     NaN\n",
              "5  peter  480      M       CTO     NaN\n",
              "6  julie  440      F       CFO   175.0\n",
              "7   lucy  520      F       CEO     NaN"
            ]
          },
          "metadata": {
            "tags": []
          },
          "execution_count": 94
        }
      ]
    },
    {
      "cell_type": "markdown",
      "metadata": {
        "id": "Ayn22qW4L980"
      },
      "source": [
        "### 4.2.3 Rows selction / filtering"
      ]
    },
    {
      "cell_type": "code",
      "metadata": {
        "id": "QJnTsIxoL980",
        "outputId": "8eaffb6a-8d95-4de9-f17e-f7a70459ed0c"
      },
      "source": [
        "users   #   raw data"
      ],
      "execution_count": null,
      "outputs": [
        {
          "output_type": "execute_result",
          "data": {
            "text/html": [
              "<div>\n",
              "<style scoped>\n",
              "    .dataframe tbody tr th:only-of-type {\n",
              "        vertical-align: middle;\n",
              "    }\n",
              "\n",
              "    .dataframe tbody tr th {\n",
              "        vertical-align: top;\n",
              "    }\n",
              "\n",
              "    .dataframe thead th {\n",
              "        text-align: right;\n",
              "    }\n",
              "</style>\n",
              "<table border=\"1\" class=\"dataframe\">\n",
              "  <thead>\n",
              "    <tr style=\"text-align: right;\">\n",
              "      <th></th>\n",
              "      <th>name</th>\n",
              "      <th>age</th>\n",
              "      <th>gender</th>\n",
              "      <th>job</th>\n",
              "      <th>height</th>\n",
              "    </tr>\n",
              "  </thead>\n",
              "  <tbody>\n",
              "    <tr>\n",
              "      <th>0</th>\n",
              "      <td>alice</td>\n",
              "      <td>19</td>\n",
              "      <td>F</td>\n",
              "      <td>student</td>\n",
              "      <td>165.0</td>\n",
              "    </tr>\n",
              "    <tr>\n",
              "      <th>1</th>\n",
              "      <td>john</td>\n",
              "      <td>26</td>\n",
              "      <td>M</td>\n",
              "      <td>student</td>\n",
              "      <td>180.0</td>\n",
              "    </tr>\n",
              "    <tr>\n",
              "      <th>2</th>\n",
              "      <td>eric</td>\n",
              "      <td>22</td>\n",
              "      <td>M</td>\n",
              "      <td>student</td>\n",
              "      <td>171.0</td>\n",
              "    </tr>\n",
              "    <tr>\n",
              "      <th>3</th>\n",
              "      <td>paul</td>\n",
              "      <td>58</td>\n",
              "      <td>M</td>\n",
              "      <td>manager</td>\n",
              "      <td>192.0</td>\n",
              "    </tr>\n",
              "    <tr>\n",
              "      <th>4</th>\n",
              "      <td>bill</td>\n",
              "      <td>33</td>\n",
              "      <td>M</td>\n",
              "      <td>engineer</td>\n",
              "      <td>NaN</td>\n",
              "    </tr>\n",
              "    <tr>\n",
              "      <th>5</th>\n",
              "      <td>peter</td>\n",
              "      <td>48</td>\n",
              "      <td>M</td>\n",
              "      <td>CTO</td>\n",
              "      <td>NaN</td>\n",
              "    </tr>\n",
              "    <tr>\n",
              "      <th>6</th>\n",
              "      <td>julie</td>\n",
              "      <td>44</td>\n",
              "      <td>F</td>\n",
              "      <td>CFO</td>\n",
              "      <td>175.0</td>\n",
              "    </tr>\n",
              "    <tr>\n",
              "      <th>7</th>\n",
              "      <td>lucy</td>\n",
              "      <td>52</td>\n",
              "      <td>F</td>\n",
              "      <td>CEO</td>\n",
              "      <td>NaN</td>\n",
              "    </tr>\n",
              "  </tbody>\n",
              "</table>\n",
              "</div>"
            ],
            "text/plain": [
              "    name  age gender       job  height\n",
              "0  alice   19      F   student   165.0\n",
              "1   john   26      M   student   180.0\n",
              "2   eric   22      M   student   171.0\n",
              "3   paul   58      M   manager   192.0\n",
              "4   bill   33      M  engineer     NaN\n",
              "5  peter   48      M       CTO     NaN\n",
              "6  julie   44      F       CFO   175.0\n",
              "7   lucy   52      F       CEO     NaN"
            ]
          },
          "metadata": {
            "tags": []
          },
          "execution_count": 95
        }
      ]
    },
    {
      "cell_type": "code",
      "metadata": {
        "id": "qSe8nz2hL980",
        "outputId": "3c7c2a52-74ef-408f-ac34-c2b78d929051"
      },
      "source": [
        "# logical filtering...\n",
        "users[users.age < 40]          # only show users with age < 20"
      ],
      "execution_count": null,
      "outputs": [
        {
          "output_type": "execute_result",
          "data": {
            "text/html": [
              "<div>\n",
              "<style scoped>\n",
              "    .dataframe tbody tr th:only-of-type {\n",
              "        vertical-align: middle;\n",
              "    }\n",
              "\n",
              "    .dataframe tbody tr th {\n",
              "        vertical-align: top;\n",
              "    }\n",
              "\n",
              "    .dataframe thead th {\n",
              "        text-align: right;\n",
              "    }\n",
              "</style>\n",
              "<table border=\"1\" class=\"dataframe\">\n",
              "  <thead>\n",
              "    <tr style=\"text-align: right;\">\n",
              "      <th></th>\n",
              "      <th>name</th>\n",
              "      <th>age</th>\n",
              "      <th>gender</th>\n",
              "      <th>job</th>\n",
              "      <th>height</th>\n",
              "    </tr>\n",
              "  </thead>\n",
              "  <tbody>\n",
              "    <tr>\n",
              "      <th>0</th>\n",
              "      <td>alice</td>\n",
              "      <td>19</td>\n",
              "      <td>F</td>\n",
              "      <td>student</td>\n",
              "      <td>165.0</td>\n",
              "    </tr>\n",
              "    <tr>\n",
              "      <th>1</th>\n",
              "      <td>john</td>\n",
              "      <td>26</td>\n",
              "      <td>M</td>\n",
              "      <td>student</td>\n",
              "      <td>180.0</td>\n",
              "    </tr>\n",
              "    <tr>\n",
              "      <th>2</th>\n",
              "      <td>eric</td>\n",
              "      <td>22</td>\n",
              "      <td>M</td>\n",
              "      <td>student</td>\n",
              "      <td>171.0</td>\n",
              "    </tr>\n",
              "    <tr>\n",
              "      <th>4</th>\n",
              "      <td>bill</td>\n",
              "      <td>33</td>\n",
              "      <td>M</td>\n",
              "      <td>engineer</td>\n",
              "      <td>NaN</td>\n",
              "    </tr>\n",
              "  </tbody>\n",
              "</table>\n",
              "</div>"
            ],
            "text/plain": [
              "    name  age gender       job  height\n",
              "0  alice   19      F   student   165.0\n",
              "1   john   26      M   student   180.0\n",
              "2   eric   22      M   student   171.0\n",
              "4   bill   33      M  engineer     NaN"
            ]
          },
          "metadata": {
            "tags": []
          },
          "execution_count": 96
        }
      ]
    },
    {
      "cell_type": "code",
      "metadata": {
        "id": "KaD7W-B-L981",
        "outputId": "5f7e1f71-2995-4433-f508-0f83d7dde5a2"
      },
      "source": [
        "users.age < 40"
      ],
      "execution_count": null,
      "outputs": [
        {
          "output_type": "execute_result",
          "data": {
            "text/plain": [
              "0     True\n",
              "1     True\n",
              "2     True\n",
              "3    False\n",
              "4     True\n",
              "5    False\n",
              "6    False\n",
              "7    False\n",
              "Name: age, dtype: bool"
            ]
          },
          "metadata": {
            "tags": []
          },
          "execution_count": 97
        }
      ]
    },
    {
      "cell_type": "code",
      "metadata": {
        "id": "bFtNUyGBL981",
        "outputId": "efaaf4dc-3bca-49c4-d2da-f272195ea9ed"
      },
      "source": [
        "# Equivalent to the following statements...\n",
        "young_bool = users.age < 40    # or, create a Series of booleans...\n",
        "young = users[young_bool]      # ...and use that Series to filter rows\n",
        "young"
      ],
      "execution_count": null,
      "outputs": [
        {
          "output_type": "execute_result",
          "data": {
            "text/html": [
              "<div>\n",
              "<style scoped>\n",
              "    .dataframe tbody tr th:only-of-type {\n",
              "        vertical-align: middle;\n",
              "    }\n",
              "\n",
              "    .dataframe tbody tr th {\n",
              "        vertical-align: top;\n",
              "    }\n",
              "\n",
              "    .dataframe thead th {\n",
              "        text-align: right;\n",
              "    }\n",
              "</style>\n",
              "<table border=\"1\" class=\"dataframe\">\n",
              "  <thead>\n",
              "    <tr style=\"text-align: right;\">\n",
              "      <th></th>\n",
              "      <th>name</th>\n",
              "      <th>age</th>\n",
              "      <th>gender</th>\n",
              "      <th>job</th>\n",
              "      <th>height</th>\n",
              "    </tr>\n",
              "  </thead>\n",
              "  <tbody>\n",
              "    <tr>\n",
              "      <th>0</th>\n",
              "      <td>alice</td>\n",
              "      <td>19</td>\n",
              "      <td>F</td>\n",
              "      <td>student</td>\n",
              "      <td>165.0</td>\n",
              "    </tr>\n",
              "    <tr>\n",
              "      <th>1</th>\n",
              "      <td>john</td>\n",
              "      <td>26</td>\n",
              "      <td>M</td>\n",
              "      <td>student</td>\n",
              "      <td>180.0</td>\n",
              "    </tr>\n",
              "    <tr>\n",
              "      <th>2</th>\n",
              "      <td>eric</td>\n",
              "      <td>22</td>\n",
              "      <td>M</td>\n",
              "      <td>student</td>\n",
              "      <td>171.0</td>\n",
              "    </tr>\n",
              "    <tr>\n",
              "      <th>4</th>\n",
              "      <td>bill</td>\n",
              "      <td>33</td>\n",
              "      <td>M</td>\n",
              "      <td>engineer</td>\n",
              "      <td>NaN</td>\n",
              "    </tr>\n",
              "  </tbody>\n",
              "</table>\n",
              "</div>"
            ],
            "text/plain": [
              "    name  age gender       job  height\n",
              "0  alice   19      F   student   165.0\n",
              "1   john   26      M   student   180.0\n",
              "2   eric   22      M   student   171.0\n",
              "4   bill   33      M  engineer     NaN"
            ]
          },
          "metadata": {
            "tags": []
          },
          "execution_count": 98
        }
      ]
    },
    {
      "cell_type": "code",
      "metadata": {
        "id": "TzIf07s-L982",
        "outputId": "410d09a1-45a8-4a66-b056-a403d14086c3"
      },
      "source": [
        "users[users.age < 40].job      # select one column from the filtered results"
      ],
      "execution_count": null,
      "outputs": [
        {
          "output_type": "execute_result",
          "data": {
            "text/plain": [
              "0     student\n",
              "1     student\n",
              "2     student\n",
              "4    engineer\n",
              "Name: job, dtype: object"
            ]
          },
          "metadata": {
            "tags": []
          },
          "execution_count": 99
        }
      ]
    },
    {
      "cell_type": "code",
      "metadata": {
        "id": "1pKuVpU3L982",
        "outputId": "d77a124a-8098-4b84-ccfc-a43f07956168"
      },
      "source": [
        "users[users.age < 20][['age', 'job']]     # select multiple columns"
      ],
      "execution_count": null,
      "outputs": [
        {
          "output_type": "execute_result",
          "data": {
            "text/html": [
              "<div>\n",
              "<style scoped>\n",
              "    .dataframe tbody tr th:only-of-type {\n",
              "        vertical-align: middle;\n",
              "    }\n",
              "\n",
              "    .dataframe tbody tr th {\n",
              "        vertical-align: top;\n",
              "    }\n",
              "\n",
              "    .dataframe thead th {\n",
              "        text-align: right;\n",
              "    }\n",
              "</style>\n",
              "<table border=\"1\" class=\"dataframe\">\n",
              "  <thead>\n",
              "    <tr style=\"text-align: right;\">\n",
              "      <th></th>\n",
              "      <th>age</th>\n",
              "      <th>job</th>\n",
              "    </tr>\n",
              "  </thead>\n",
              "  <tbody>\n",
              "    <tr>\n",
              "      <th>0</th>\n",
              "      <td>19</td>\n",
              "      <td>student</td>\n",
              "    </tr>\n",
              "  </tbody>\n",
              "</table>\n",
              "</div>"
            ],
            "text/plain": [
              "   age      job\n",
              "0   19  student"
            ]
          },
          "metadata": {
            "tags": []
          },
          "execution_count": 100
        }
      ]
    },
    {
      "cell_type": "code",
      "metadata": {
        "id": "U_2qat-XL982",
        "outputId": "8043fbed-1a39-423c-9ce5-f50eafd38858"
      },
      "source": [
        "users[(users.age > 20) & (users.gender=='M')]    # use multiple conditions"
      ],
      "execution_count": null,
      "outputs": [
        {
          "output_type": "execute_result",
          "data": {
            "text/html": [
              "<div>\n",
              "<style scoped>\n",
              "    .dataframe tbody tr th:only-of-type {\n",
              "        vertical-align: middle;\n",
              "    }\n",
              "\n",
              "    .dataframe tbody tr th {\n",
              "        vertical-align: top;\n",
              "    }\n",
              "\n",
              "    .dataframe thead th {\n",
              "        text-align: right;\n",
              "    }\n",
              "</style>\n",
              "<table border=\"1\" class=\"dataframe\">\n",
              "  <thead>\n",
              "    <tr style=\"text-align: right;\">\n",
              "      <th></th>\n",
              "      <th>name</th>\n",
              "      <th>age</th>\n",
              "      <th>gender</th>\n",
              "      <th>job</th>\n",
              "      <th>height</th>\n",
              "    </tr>\n",
              "  </thead>\n",
              "  <tbody>\n",
              "    <tr>\n",
              "      <th>1</th>\n",
              "      <td>john</td>\n",
              "      <td>26</td>\n",
              "      <td>M</td>\n",
              "      <td>student</td>\n",
              "      <td>180.0</td>\n",
              "    </tr>\n",
              "    <tr>\n",
              "      <th>2</th>\n",
              "      <td>eric</td>\n",
              "      <td>22</td>\n",
              "      <td>M</td>\n",
              "      <td>student</td>\n",
              "      <td>171.0</td>\n",
              "    </tr>\n",
              "    <tr>\n",
              "      <th>3</th>\n",
              "      <td>paul</td>\n",
              "      <td>58</td>\n",
              "      <td>M</td>\n",
              "      <td>manager</td>\n",
              "      <td>192.0</td>\n",
              "    </tr>\n",
              "    <tr>\n",
              "      <th>4</th>\n",
              "      <td>bill</td>\n",
              "      <td>33</td>\n",
              "      <td>M</td>\n",
              "      <td>engineer</td>\n",
              "      <td>NaN</td>\n",
              "    </tr>\n",
              "    <tr>\n",
              "      <th>5</th>\n",
              "      <td>peter</td>\n",
              "      <td>48</td>\n",
              "      <td>M</td>\n",
              "      <td>CTO</td>\n",
              "      <td>NaN</td>\n",
              "    </tr>\n",
              "  </tbody>\n",
              "</table>\n",
              "</div>"
            ],
            "text/plain": [
              "    name  age gender       job  height\n",
              "1   john   26      M   student   180.0\n",
              "2   eric   22      M   student   171.0\n",
              "3   paul   58      M   manager   192.0\n",
              "4   bill   33      M  engineer     NaN\n",
              "5  peter   48      M       CTO     NaN"
            ]
          },
          "metadata": {
            "tags": []
          },
          "execution_count": 101
        }
      ]
    },
    {
      "cell_type": "code",
      "metadata": {
        "id": "JEEehXy4L983",
        "outputId": "1e773544-c5b1-4c2f-9b02-ba69839da5ae"
      },
      "source": [
        "users[(users.age < 20) | (users.age > 50)]       # use multiple conditions"
      ],
      "execution_count": null,
      "outputs": [
        {
          "output_type": "execute_result",
          "data": {
            "text/html": [
              "<div>\n",
              "<style scoped>\n",
              "    .dataframe tbody tr th:only-of-type {\n",
              "        vertical-align: middle;\n",
              "    }\n",
              "\n",
              "    .dataframe tbody tr th {\n",
              "        vertical-align: top;\n",
              "    }\n",
              "\n",
              "    .dataframe thead th {\n",
              "        text-align: right;\n",
              "    }\n",
              "</style>\n",
              "<table border=\"1\" class=\"dataframe\">\n",
              "  <thead>\n",
              "    <tr style=\"text-align: right;\">\n",
              "      <th></th>\n",
              "      <th>name</th>\n",
              "      <th>age</th>\n",
              "      <th>gender</th>\n",
              "      <th>job</th>\n",
              "      <th>height</th>\n",
              "    </tr>\n",
              "  </thead>\n",
              "  <tbody>\n",
              "    <tr>\n",
              "      <th>0</th>\n",
              "      <td>alice</td>\n",
              "      <td>19</td>\n",
              "      <td>F</td>\n",
              "      <td>student</td>\n",
              "      <td>165.0</td>\n",
              "    </tr>\n",
              "    <tr>\n",
              "      <th>3</th>\n",
              "      <td>paul</td>\n",
              "      <td>58</td>\n",
              "      <td>M</td>\n",
              "      <td>manager</td>\n",
              "      <td>192.0</td>\n",
              "    </tr>\n",
              "    <tr>\n",
              "      <th>7</th>\n",
              "      <td>lucy</td>\n",
              "      <td>52</td>\n",
              "      <td>F</td>\n",
              "      <td>CEO</td>\n",
              "      <td>NaN</td>\n",
              "    </tr>\n",
              "  </tbody>\n",
              "</table>\n",
              "</div>"
            ],
            "text/plain": [
              "    name  age gender      job  height\n",
              "0  alice   19      F  student   165.0\n",
              "3   paul   58      M  manager   192.0\n",
              "7   lucy   52      F      CEO     NaN"
            ]
          },
          "metadata": {
            "tags": []
          },
          "execution_count": 102
        }
      ]
    },
    {
      "cell_type": "code",
      "metadata": {
        "id": "EhUJ5R5tL983",
        "outputId": "1f10a8a4-7d94-4c08-90d7-72be07db7edd"
      },
      "source": [
        "users[users.job.isin(['student', 'engineer'])]   # filter specific values"
      ],
      "execution_count": null,
      "outputs": [
        {
          "output_type": "execute_result",
          "data": {
            "text/html": [
              "<div>\n",
              "<style scoped>\n",
              "    .dataframe tbody tr th:only-of-type {\n",
              "        vertical-align: middle;\n",
              "    }\n",
              "\n",
              "    .dataframe tbody tr th {\n",
              "        vertical-align: top;\n",
              "    }\n",
              "\n",
              "    .dataframe thead th {\n",
              "        text-align: right;\n",
              "    }\n",
              "</style>\n",
              "<table border=\"1\" class=\"dataframe\">\n",
              "  <thead>\n",
              "    <tr style=\"text-align: right;\">\n",
              "      <th></th>\n",
              "      <th>name</th>\n",
              "      <th>age</th>\n",
              "      <th>gender</th>\n",
              "      <th>job</th>\n",
              "      <th>height</th>\n",
              "    </tr>\n",
              "  </thead>\n",
              "  <tbody>\n",
              "    <tr>\n",
              "      <th>0</th>\n",
              "      <td>alice</td>\n",
              "      <td>19</td>\n",
              "      <td>F</td>\n",
              "      <td>student</td>\n",
              "      <td>165.0</td>\n",
              "    </tr>\n",
              "    <tr>\n",
              "      <th>1</th>\n",
              "      <td>john</td>\n",
              "      <td>26</td>\n",
              "      <td>M</td>\n",
              "      <td>student</td>\n",
              "      <td>180.0</td>\n",
              "    </tr>\n",
              "    <tr>\n",
              "      <th>2</th>\n",
              "      <td>eric</td>\n",
              "      <td>22</td>\n",
              "      <td>M</td>\n",
              "      <td>student</td>\n",
              "      <td>171.0</td>\n",
              "    </tr>\n",
              "    <tr>\n",
              "      <th>4</th>\n",
              "      <td>bill</td>\n",
              "      <td>33</td>\n",
              "      <td>M</td>\n",
              "      <td>engineer</td>\n",
              "      <td>NaN</td>\n",
              "    </tr>\n",
              "  </tbody>\n",
              "</table>\n",
              "</div>"
            ],
            "text/plain": [
              "    name  age gender       job  height\n",
              "0  alice   19      F   student   165.0\n",
              "1   john   26      M   student   180.0\n",
              "2   eric   22      M   student   171.0\n",
              "4   bill   33      M  engineer     NaN"
            ]
          },
          "metadata": {
            "tags": []
          },
          "execution_count": 103
        }
      ]
    },
    {
      "cell_type": "markdown",
      "metadata": {
        "id": "c-WD1zpzL985"
      },
      "source": [
        "### 4.2.4 Sorting"
      ]
    },
    {
      "cell_type": "code",
      "metadata": {
        "id": "S8G5tW7sL986",
        "outputId": "2cb51058-794a-41fe-baaf-a39969ff77fe"
      },
      "source": [
        "df = users.copy()\n",
        "df.age.sort_values() # only works for a Series"
      ],
      "execution_count": null,
      "outputs": [
        {
          "output_type": "execute_result",
          "data": {
            "text/plain": [
              "0    19\n",
              "2    22\n",
              "1    26\n",
              "4    33\n",
              "6    44\n",
              "5    48\n",
              "7    52\n",
              "3    58\n",
              "Name: age, dtype: int64"
            ]
          },
          "metadata": {
            "tags": []
          },
          "execution_count": 104
        }
      ]
    },
    {
      "cell_type": "code",
      "metadata": {
        "id": "RwHVXRn9L986",
        "outputId": "01855d42-49aa-4a46-8f62-393fe2b5155c"
      },
      "source": [
        "df.sort_values(by='age') # sort rows by a specific column"
      ],
      "execution_count": null,
      "outputs": [
        {
          "output_type": "execute_result",
          "data": {
            "text/html": [
              "<div>\n",
              "<style scoped>\n",
              "    .dataframe tbody tr th:only-of-type {\n",
              "        vertical-align: middle;\n",
              "    }\n",
              "\n",
              "    .dataframe tbody tr th {\n",
              "        vertical-align: top;\n",
              "    }\n",
              "\n",
              "    .dataframe thead th {\n",
              "        text-align: right;\n",
              "    }\n",
              "</style>\n",
              "<table border=\"1\" class=\"dataframe\">\n",
              "  <thead>\n",
              "    <tr style=\"text-align: right;\">\n",
              "      <th></th>\n",
              "      <th>name</th>\n",
              "      <th>age</th>\n",
              "      <th>gender</th>\n",
              "      <th>job</th>\n",
              "      <th>height</th>\n",
              "    </tr>\n",
              "  </thead>\n",
              "  <tbody>\n",
              "    <tr>\n",
              "      <th>0</th>\n",
              "      <td>alice</td>\n",
              "      <td>19</td>\n",
              "      <td>F</td>\n",
              "      <td>student</td>\n",
              "      <td>165.0</td>\n",
              "    </tr>\n",
              "    <tr>\n",
              "      <th>2</th>\n",
              "      <td>eric</td>\n",
              "      <td>22</td>\n",
              "      <td>M</td>\n",
              "      <td>student</td>\n",
              "      <td>171.0</td>\n",
              "    </tr>\n",
              "    <tr>\n",
              "      <th>1</th>\n",
              "      <td>john</td>\n",
              "      <td>26</td>\n",
              "      <td>M</td>\n",
              "      <td>student</td>\n",
              "      <td>180.0</td>\n",
              "    </tr>\n",
              "    <tr>\n",
              "      <th>4</th>\n",
              "      <td>bill</td>\n",
              "      <td>33</td>\n",
              "      <td>M</td>\n",
              "      <td>engineer</td>\n",
              "      <td>NaN</td>\n",
              "    </tr>\n",
              "    <tr>\n",
              "      <th>6</th>\n",
              "      <td>julie</td>\n",
              "      <td>44</td>\n",
              "      <td>F</td>\n",
              "      <td>CFO</td>\n",
              "      <td>175.0</td>\n",
              "    </tr>\n",
              "    <tr>\n",
              "      <th>5</th>\n",
              "      <td>peter</td>\n",
              "      <td>48</td>\n",
              "      <td>M</td>\n",
              "      <td>CTO</td>\n",
              "      <td>NaN</td>\n",
              "    </tr>\n",
              "    <tr>\n",
              "      <th>7</th>\n",
              "      <td>lucy</td>\n",
              "      <td>52</td>\n",
              "      <td>F</td>\n",
              "      <td>CEO</td>\n",
              "      <td>NaN</td>\n",
              "    </tr>\n",
              "    <tr>\n",
              "      <th>3</th>\n",
              "      <td>paul</td>\n",
              "      <td>58</td>\n",
              "      <td>M</td>\n",
              "      <td>manager</td>\n",
              "      <td>192.0</td>\n",
              "    </tr>\n",
              "  </tbody>\n",
              "</table>\n",
              "</div>"
            ],
            "text/plain": [
              "    name  age gender       job  height\n",
              "0  alice   19      F   student   165.0\n",
              "2   eric   22      M   student   171.0\n",
              "1   john   26      M   student   180.0\n",
              "4   bill   33      M  engineer     NaN\n",
              "6  julie   44      F       CFO   175.0\n",
              "5  peter   48      M       CTO     NaN\n",
              "7   lucy   52      F       CEO     NaN\n",
              "3   paul   58      M   manager   192.0"
            ]
          },
          "metadata": {
            "tags": []
          },
          "execution_count": 105
        }
      ]
    },
    {
      "cell_type": "code",
      "metadata": {
        "id": "iLbj5b8QL987",
        "outputId": "dfd7b345-dd0b-4e37-993a-150508fce398"
      },
      "source": [
        "df.sort_values(by='age', ascending=False) # use descending order instead"
      ],
      "execution_count": null,
      "outputs": [
        {
          "output_type": "execute_result",
          "data": {
            "text/html": [
              "<div>\n",
              "<style scoped>\n",
              "    .dataframe tbody tr th:only-of-type {\n",
              "        vertical-align: middle;\n",
              "    }\n",
              "\n",
              "    .dataframe tbody tr th {\n",
              "        vertical-align: top;\n",
              "    }\n",
              "\n",
              "    .dataframe thead th {\n",
              "        text-align: right;\n",
              "    }\n",
              "</style>\n",
              "<table border=\"1\" class=\"dataframe\">\n",
              "  <thead>\n",
              "    <tr style=\"text-align: right;\">\n",
              "      <th></th>\n",
              "      <th>name</th>\n",
              "      <th>age</th>\n",
              "      <th>gender</th>\n",
              "      <th>job</th>\n",
              "      <th>height</th>\n",
              "    </tr>\n",
              "  </thead>\n",
              "  <tbody>\n",
              "    <tr>\n",
              "      <th>3</th>\n",
              "      <td>paul</td>\n",
              "      <td>58</td>\n",
              "      <td>M</td>\n",
              "      <td>manager</td>\n",
              "      <td>192.0</td>\n",
              "    </tr>\n",
              "    <tr>\n",
              "      <th>7</th>\n",
              "      <td>lucy</td>\n",
              "      <td>52</td>\n",
              "      <td>F</td>\n",
              "      <td>CEO</td>\n",
              "      <td>NaN</td>\n",
              "    </tr>\n",
              "    <tr>\n",
              "      <th>5</th>\n",
              "      <td>peter</td>\n",
              "      <td>48</td>\n",
              "      <td>M</td>\n",
              "      <td>CTO</td>\n",
              "      <td>NaN</td>\n",
              "    </tr>\n",
              "    <tr>\n",
              "      <th>6</th>\n",
              "      <td>julie</td>\n",
              "      <td>44</td>\n",
              "      <td>F</td>\n",
              "      <td>CFO</td>\n",
              "      <td>175.0</td>\n",
              "    </tr>\n",
              "    <tr>\n",
              "      <th>4</th>\n",
              "      <td>bill</td>\n",
              "      <td>33</td>\n",
              "      <td>M</td>\n",
              "      <td>engineer</td>\n",
              "      <td>NaN</td>\n",
              "    </tr>\n",
              "    <tr>\n",
              "      <th>1</th>\n",
              "      <td>john</td>\n",
              "      <td>26</td>\n",
              "      <td>M</td>\n",
              "      <td>student</td>\n",
              "      <td>180.0</td>\n",
              "    </tr>\n",
              "    <tr>\n",
              "      <th>2</th>\n",
              "      <td>eric</td>\n",
              "      <td>22</td>\n",
              "      <td>M</td>\n",
              "      <td>student</td>\n",
              "      <td>171.0</td>\n",
              "    </tr>\n",
              "    <tr>\n",
              "      <th>0</th>\n",
              "      <td>alice</td>\n",
              "      <td>19</td>\n",
              "      <td>F</td>\n",
              "      <td>student</td>\n",
              "      <td>165.0</td>\n",
              "    </tr>\n",
              "  </tbody>\n",
              "</table>\n",
              "</div>"
            ],
            "text/plain": [
              "    name  age gender       job  height\n",
              "3   paul   58      M   manager   192.0\n",
              "7   lucy   52      F       CEO     NaN\n",
              "5  peter   48      M       CTO     NaN\n",
              "6  julie   44      F       CFO   175.0\n",
              "4   bill   33      M  engineer     NaN\n",
              "1   john   26      M   student   180.0\n",
              "2   eric   22      M   student   171.0\n",
              "0  alice   19      F   student   165.0"
            ]
          },
          "metadata": {
            "tags": []
          },
          "execution_count": 106
        }
      ]
    },
    {
      "cell_type": "code",
      "metadata": {
        "id": "ILtY6Hc6L987",
        "outputId": "90ab4e85-fac6-45c2-91ab-9b4ed64cc805"
      },
      "source": [
        "df.sort_values(by=['job', 'age']) # sort by multiple columns"
      ],
      "execution_count": null,
      "outputs": [
        {
          "output_type": "execute_result",
          "data": {
            "text/html": [
              "<div>\n",
              "<style scoped>\n",
              "    .dataframe tbody tr th:only-of-type {\n",
              "        vertical-align: middle;\n",
              "    }\n",
              "\n",
              "    .dataframe tbody tr th {\n",
              "        vertical-align: top;\n",
              "    }\n",
              "\n",
              "    .dataframe thead th {\n",
              "        text-align: right;\n",
              "    }\n",
              "</style>\n",
              "<table border=\"1\" class=\"dataframe\">\n",
              "  <thead>\n",
              "    <tr style=\"text-align: right;\">\n",
              "      <th></th>\n",
              "      <th>name</th>\n",
              "      <th>age</th>\n",
              "      <th>gender</th>\n",
              "      <th>job</th>\n",
              "      <th>height</th>\n",
              "    </tr>\n",
              "  </thead>\n",
              "  <tbody>\n",
              "    <tr>\n",
              "      <th>7</th>\n",
              "      <td>lucy</td>\n",
              "      <td>52</td>\n",
              "      <td>F</td>\n",
              "      <td>CEO</td>\n",
              "      <td>NaN</td>\n",
              "    </tr>\n",
              "    <tr>\n",
              "      <th>6</th>\n",
              "      <td>julie</td>\n",
              "      <td>44</td>\n",
              "      <td>F</td>\n",
              "      <td>CFO</td>\n",
              "      <td>175.0</td>\n",
              "    </tr>\n",
              "    <tr>\n",
              "      <th>5</th>\n",
              "      <td>peter</td>\n",
              "      <td>48</td>\n",
              "      <td>M</td>\n",
              "      <td>CTO</td>\n",
              "      <td>NaN</td>\n",
              "    </tr>\n",
              "    <tr>\n",
              "      <th>4</th>\n",
              "      <td>bill</td>\n",
              "      <td>33</td>\n",
              "      <td>M</td>\n",
              "      <td>engineer</td>\n",
              "      <td>NaN</td>\n",
              "    </tr>\n",
              "    <tr>\n",
              "      <th>3</th>\n",
              "      <td>paul</td>\n",
              "      <td>58</td>\n",
              "      <td>M</td>\n",
              "      <td>manager</td>\n",
              "      <td>192.0</td>\n",
              "    </tr>\n",
              "    <tr>\n",
              "      <th>0</th>\n",
              "      <td>alice</td>\n",
              "      <td>19</td>\n",
              "      <td>F</td>\n",
              "      <td>student</td>\n",
              "      <td>165.0</td>\n",
              "    </tr>\n",
              "    <tr>\n",
              "      <th>2</th>\n",
              "      <td>eric</td>\n",
              "      <td>22</td>\n",
              "      <td>M</td>\n",
              "      <td>student</td>\n",
              "      <td>171.0</td>\n",
              "    </tr>\n",
              "    <tr>\n",
              "      <th>1</th>\n",
              "      <td>john</td>\n",
              "      <td>26</td>\n",
              "      <td>M</td>\n",
              "      <td>student</td>\n",
              "      <td>180.0</td>\n",
              "    </tr>\n",
              "  </tbody>\n",
              "</table>\n",
              "</div>"
            ],
            "text/plain": [
              "    name  age gender       job  height\n",
              "7   lucy   52      F       CEO     NaN\n",
              "6  julie   44      F       CFO   175.0\n",
              "5  peter   48      M       CTO     NaN\n",
              "4   bill   33      M  engineer     NaN\n",
              "3   paul   58      M   manager   192.0\n",
              "0  alice   19      F   student   165.0\n",
              "2   eric   22      M   student   171.0\n",
              "1   john   26      M   student   180.0"
            ]
          },
          "metadata": {
            "tags": []
          },
          "execution_count": 107
        }
      ]
    },
    {
      "cell_type": "code",
      "metadata": {
        "id": "SG6nMpbEL988",
        "outputId": "1c68b0c3-ef55-4496-fc34-c2d2a98031fd"
      },
      "source": [
        "df   #  df remains unchanged."
      ],
      "execution_count": null,
      "outputs": [
        {
          "output_type": "execute_result",
          "data": {
            "text/html": [
              "<div>\n",
              "<style scoped>\n",
              "    .dataframe tbody tr th:only-of-type {\n",
              "        vertical-align: middle;\n",
              "    }\n",
              "\n",
              "    .dataframe tbody tr th {\n",
              "        vertical-align: top;\n",
              "    }\n",
              "\n",
              "    .dataframe thead th {\n",
              "        text-align: right;\n",
              "    }\n",
              "</style>\n",
              "<table border=\"1\" class=\"dataframe\">\n",
              "  <thead>\n",
              "    <tr style=\"text-align: right;\">\n",
              "      <th></th>\n",
              "      <th>name</th>\n",
              "      <th>age</th>\n",
              "      <th>gender</th>\n",
              "      <th>job</th>\n",
              "      <th>height</th>\n",
              "    </tr>\n",
              "  </thead>\n",
              "  <tbody>\n",
              "    <tr>\n",
              "      <th>0</th>\n",
              "      <td>alice</td>\n",
              "      <td>19</td>\n",
              "      <td>F</td>\n",
              "      <td>student</td>\n",
              "      <td>165.0</td>\n",
              "    </tr>\n",
              "    <tr>\n",
              "      <th>1</th>\n",
              "      <td>john</td>\n",
              "      <td>26</td>\n",
              "      <td>M</td>\n",
              "      <td>student</td>\n",
              "      <td>180.0</td>\n",
              "    </tr>\n",
              "    <tr>\n",
              "      <th>2</th>\n",
              "      <td>eric</td>\n",
              "      <td>22</td>\n",
              "      <td>M</td>\n",
              "      <td>student</td>\n",
              "      <td>171.0</td>\n",
              "    </tr>\n",
              "    <tr>\n",
              "      <th>3</th>\n",
              "      <td>paul</td>\n",
              "      <td>58</td>\n",
              "      <td>M</td>\n",
              "      <td>manager</td>\n",
              "      <td>192.0</td>\n",
              "    </tr>\n",
              "    <tr>\n",
              "      <th>4</th>\n",
              "      <td>bill</td>\n",
              "      <td>33</td>\n",
              "      <td>M</td>\n",
              "      <td>engineer</td>\n",
              "      <td>NaN</td>\n",
              "    </tr>\n",
              "    <tr>\n",
              "      <th>5</th>\n",
              "      <td>peter</td>\n",
              "      <td>48</td>\n",
              "      <td>M</td>\n",
              "      <td>CTO</td>\n",
              "      <td>NaN</td>\n",
              "    </tr>\n",
              "    <tr>\n",
              "      <th>6</th>\n",
              "      <td>julie</td>\n",
              "      <td>44</td>\n",
              "      <td>F</td>\n",
              "      <td>CFO</td>\n",
              "      <td>175.0</td>\n",
              "    </tr>\n",
              "    <tr>\n",
              "      <th>7</th>\n",
              "      <td>lucy</td>\n",
              "      <td>52</td>\n",
              "      <td>F</td>\n",
              "      <td>CEO</td>\n",
              "      <td>NaN</td>\n",
              "    </tr>\n",
              "  </tbody>\n",
              "</table>\n",
              "</div>"
            ],
            "text/plain": [
              "    name  age gender       job  height\n",
              "0  alice   19      F   student   165.0\n",
              "1   john   26      M   student   180.0\n",
              "2   eric   22      M   student   171.0\n",
              "3   paul   58      M   manager   192.0\n",
              "4   bill   33      M  engineer     NaN\n",
              "5  peter   48      M       CTO     NaN\n",
              "6  julie   44      F       CFO   175.0\n",
              "7   lucy   52      F       CEO     NaN"
            ]
          },
          "metadata": {
            "tags": []
          },
          "execution_count": 108
        }
      ]
    },
    {
      "cell_type": "code",
      "metadata": {
        "id": "RcNfLZayL988",
        "outputId": "b9c1cb94-3eb7-4c5f-c648-3152a3328dd2"
      },
      "source": [
        "df.sort_values(by=['job', 'age'], inplace=True)  # modify df\n",
        "df    #  df changes its rows' order."
      ],
      "execution_count": null,
      "outputs": [
        {
          "output_type": "execute_result",
          "data": {
            "text/html": [
              "<div>\n",
              "<style scoped>\n",
              "    .dataframe tbody tr th:only-of-type {\n",
              "        vertical-align: middle;\n",
              "    }\n",
              "\n",
              "    .dataframe tbody tr th {\n",
              "        vertical-align: top;\n",
              "    }\n",
              "\n",
              "    .dataframe thead th {\n",
              "        text-align: right;\n",
              "    }\n",
              "</style>\n",
              "<table border=\"1\" class=\"dataframe\">\n",
              "  <thead>\n",
              "    <tr style=\"text-align: right;\">\n",
              "      <th></th>\n",
              "      <th>name</th>\n",
              "      <th>age</th>\n",
              "      <th>gender</th>\n",
              "      <th>job</th>\n",
              "      <th>height</th>\n",
              "    </tr>\n",
              "  </thead>\n",
              "  <tbody>\n",
              "    <tr>\n",
              "      <th>7</th>\n",
              "      <td>lucy</td>\n",
              "      <td>52</td>\n",
              "      <td>F</td>\n",
              "      <td>CEO</td>\n",
              "      <td>NaN</td>\n",
              "    </tr>\n",
              "    <tr>\n",
              "      <th>6</th>\n",
              "      <td>julie</td>\n",
              "      <td>44</td>\n",
              "      <td>F</td>\n",
              "      <td>CFO</td>\n",
              "      <td>175.0</td>\n",
              "    </tr>\n",
              "    <tr>\n",
              "      <th>5</th>\n",
              "      <td>peter</td>\n",
              "      <td>48</td>\n",
              "      <td>M</td>\n",
              "      <td>CTO</td>\n",
              "      <td>NaN</td>\n",
              "    </tr>\n",
              "    <tr>\n",
              "      <th>4</th>\n",
              "      <td>bill</td>\n",
              "      <td>33</td>\n",
              "      <td>M</td>\n",
              "      <td>engineer</td>\n",
              "      <td>NaN</td>\n",
              "    </tr>\n",
              "    <tr>\n",
              "      <th>3</th>\n",
              "      <td>paul</td>\n",
              "      <td>58</td>\n",
              "      <td>M</td>\n",
              "      <td>manager</td>\n",
              "      <td>192.0</td>\n",
              "    </tr>\n",
              "    <tr>\n",
              "      <th>0</th>\n",
              "      <td>alice</td>\n",
              "      <td>19</td>\n",
              "      <td>F</td>\n",
              "      <td>student</td>\n",
              "      <td>165.0</td>\n",
              "    </tr>\n",
              "    <tr>\n",
              "      <th>2</th>\n",
              "      <td>eric</td>\n",
              "      <td>22</td>\n",
              "      <td>M</td>\n",
              "      <td>student</td>\n",
              "      <td>171.0</td>\n",
              "    </tr>\n",
              "    <tr>\n",
              "      <th>1</th>\n",
              "      <td>john</td>\n",
              "      <td>26</td>\n",
              "      <td>M</td>\n",
              "      <td>student</td>\n",
              "      <td>180.0</td>\n",
              "    </tr>\n",
              "  </tbody>\n",
              "</table>\n",
              "</div>"
            ],
            "text/plain": [
              "    name  age gender       job  height\n",
              "7   lucy   52      F       CEO     NaN\n",
              "6  julie   44      F       CFO   175.0\n",
              "5  peter   48      M       CTO     NaN\n",
              "4   bill   33      M  engineer     NaN\n",
              "3   paul   58      M   manager   192.0\n",
              "0  alice   19      F   student   165.0\n",
              "2   eric   22      M   student   171.0\n",
              "1   john   26      M   student   180.0"
            ]
          },
          "metadata": {
            "tags": []
          },
          "execution_count": 109
        }
      ]
    },
    {
      "cell_type": "markdown",
      "metadata": {
        "id": "_idbGVaYL989"
      },
      "source": [
        "### 4.2.5 Reshaping by pivoting\n",
        "\n",
        "+ **`unpivot (列轉行)` : 將一個 DataFrame 從 \"寬的格式 [wide format]\" 轉換成 \"長的格式 [long (stacked) format]**"
      ]
    },
    {
      "cell_type": "code",
      "metadata": {
        "id": "PmwqYkOLL989",
        "outputId": "70c6fd56-457b-4b3b-d4c9-b756b775af3d"
      },
      "source": [
        "stacked = pd.melt(users, id_vars=\"name\", var_name=\"variable\", \n",
        "                  value_name=\"value\")\n",
        "stacked"
      ],
      "execution_count": null,
      "outputs": [
        {
          "output_type": "execute_result",
          "data": {
            "text/html": [
              "<div>\n",
              "<style scoped>\n",
              "    .dataframe tbody tr th:only-of-type {\n",
              "        vertical-align: middle;\n",
              "    }\n",
              "\n",
              "    .dataframe tbody tr th {\n",
              "        vertical-align: top;\n",
              "    }\n",
              "\n",
              "    .dataframe thead th {\n",
              "        text-align: right;\n",
              "    }\n",
              "</style>\n",
              "<table border=\"1\" class=\"dataframe\">\n",
              "  <thead>\n",
              "    <tr style=\"text-align: right;\">\n",
              "      <th></th>\n",
              "      <th>name</th>\n",
              "      <th>variable</th>\n",
              "      <th>value</th>\n",
              "    </tr>\n",
              "  </thead>\n",
              "  <tbody>\n",
              "    <tr>\n",
              "      <th>0</th>\n",
              "      <td>alice</td>\n",
              "      <td>age</td>\n",
              "      <td>19</td>\n",
              "    </tr>\n",
              "    <tr>\n",
              "      <th>1</th>\n",
              "      <td>john</td>\n",
              "      <td>age</td>\n",
              "      <td>26</td>\n",
              "    </tr>\n",
              "    <tr>\n",
              "      <th>2</th>\n",
              "      <td>eric</td>\n",
              "      <td>age</td>\n",
              "      <td>22</td>\n",
              "    </tr>\n",
              "    <tr>\n",
              "      <th>3</th>\n",
              "      <td>paul</td>\n",
              "      <td>age</td>\n",
              "      <td>58</td>\n",
              "    </tr>\n",
              "    <tr>\n",
              "      <th>4</th>\n",
              "      <td>bill</td>\n",
              "      <td>age</td>\n",
              "      <td>33</td>\n",
              "    </tr>\n",
              "    <tr>\n",
              "      <th>5</th>\n",
              "      <td>peter</td>\n",
              "      <td>age</td>\n",
              "      <td>48</td>\n",
              "    </tr>\n",
              "    <tr>\n",
              "      <th>6</th>\n",
              "      <td>julie</td>\n",
              "      <td>age</td>\n",
              "      <td>44</td>\n",
              "    </tr>\n",
              "    <tr>\n",
              "      <th>7</th>\n",
              "      <td>lucy</td>\n",
              "      <td>age</td>\n",
              "      <td>52</td>\n",
              "    </tr>\n",
              "    <tr>\n",
              "      <th>8</th>\n",
              "      <td>alice</td>\n",
              "      <td>gender</td>\n",
              "      <td>F</td>\n",
              "    </tr>\n",
              "    <tr>\n",
              "      <th>9</th>\n",
              "      <td>john</td>\n",
              "      <td>gender</td>\n",
              "      <td>M</td>\n",
              "    </tr>\n",
              "    <tr>\n",
              "      <th>10</th>\n",
              "      <td>eric</td>\n",
              "      <td>gender</td>\n",
              "      <td>M</td>\n",
              "    </tr>\n",
              "    <tr>\n",
              "      <th>11</th>\n",
              "      <td>paul</td>\n",
              "      <td>gender</td>\n",
              "      <td>M</td>\n",
              "    </tr>\n",
              "    <tr>\n",
              "      <th>12</th>\n",
              "      <td>bill</td>\n",
              "      <td>gender</td>\n",
              "      <td>M</td>\n",
              "    </tr>\n",
              "    <tr>\n",
              "      <th>13</th>\n",
              "      <td>peter</td>\n",
              "      <td>gender</td>\n",
              "      <td>M</td>\n",
              "    </tr>\n",
              "    <tr>\n",
              "      <th>14</th>\n",
              "      <td>julie</td>\n",
              "      <td>gender</td>\n",
              "      <td>F</td>\n",
              "    </tr>\n",
              "    <tr>\n",
              "      <th>15</th>\n",
              "      <td>lucy</td>\n",
              "      <td>gender</td>\n",
              "      <td>F</td>\n",
              "    </tr>\n",
              "    <tr>\n",
              "      <th>16</th>\n",
              "      <td>alice</td>\n",
              "      <td>job</td>\n",
              "      <td>student</td>\n",
              "    </tr>\n",
              "    <tr>\n",
              "      <th>17</th>\n",
              "      <td>john</td>\n",
              "      <td>job</td>\n",
              "      <td>student</td>\n",
              "    </tr>\n",
              "    <tr>\n",
              "      <th>18</th>\n",
              "      <td>eric</td>\n",
              "      <td>job</td>\n",
              "      <td>student</td>\n",
              "    </tr>\n",
              "    <tr>\n",
              "      <th>19</th>\n",
              "      <td>paul</td>\n",
              "      <td>job</td>\n",
              "      <td>manager</td>\n",
              "    </tr>\n",
              "    <tr>\n",
              "      <th>20</th>\n",
              "      <td>bill</td>\n",
              "      <td>job</td>\n",
              "      <td>engineer</td>\n",
              "    </tr>\n",
              "    <tr>\n",
              "      <th>21</th>\n",
              "      <td>peter</td>\n",
              "      <td>job</td>\n",
              "      <td>CTO</td>\n",
              "    </tr>\n",
              "    <tr>\n",
              "      <th>22</th>\n",
              "      <td>julie</td>\n",
              "      <td>job</td>\n",
              "      <td>CFO</td>\n",
              "    </tr>\n",
              "    <tr>\n",
              "      <th>23</th>\n",
              "      <td>lucy</td>\n",
              "      <td>job</td>\n",
              "      <td>CEO</td>\n",
              "    </tr>\n",
              "    <tr>\n",
              "      <th>24</th>\n",
              "      <td>alice</td>\n",
              "      <td>height</td>\n",
              "      <td>165</td>\n",
              "    </tr>\n",
              "    <tr>\n",
              "      <th>25</th>\n",
              "      <td>john</td>\n",
              "      <td>height</td>\n",
              "      <td>180</td>\n",
              "    </tr>\n",
              "    <tr>\n",
              "      <th>26</th>\n",
              "      <td>eric</td>\n",
              "      <td>height</td>\n",
              "      <td>171</td>\n",
              "    </tr>\n",
              "    <tr>\n",
              "      <th>27</th>\n",
              "      <td>paul</td>\n",
              "      <td>height</td>\n",
              "      <td>192</td>\n",
              "    </tr>\n",
              "    <tr>\n",
              "      <th>28</th>\n",
              "      <td>bill</td>\n",
              "      <td>height</td>\n",
              "      <td>NaN</td>\n",
              "    </tr>\n",
              "    <tr>\n",
              "      <th>29</th>\n",
              "      <td>peter</td>\n",
              "      <td>height</td>\n",
              "      <td>NaN</td>\n",
              "    </tr>\n",
              "    <tr>\n",
              "      <th>30</th>\n",
              "      <td>julie</td>\n",
              "      <td>height</td>\n",
              "      <td>175</td>\n",
              "    </tr>\n",
              "    <tr>\n",
              "      <th>31</th>\n",
              "      <td>lucy</td>\n",
              "      <td>height</td>\n",
              "      <td>NaN</td>\n",
              "    </tr>\n",
              "  </tbody>\n",
              "</table>\n",
              "</div>"
            ],
            "text/plain": [
              "     name variable     value\n",
              "0   alice      age        19\n",
              "1    john      age        26\n",
              "2    eric      age        22\n",
              "3    paul      age        58\n",
              "4    bill      age        33\n",
              "5   peter      age        48\n",
              "6   julie      age        44\n",
              "7    lucy      age        52\n",
              "8   alice   gender         F\n",
              "9    john   gender         M\n",
              "10   eric   gender         M\n",
              "11   paul   gender         M\n",
              "12   bill   gender         M\n",
              "13  peter   gender         M\n",
              "14  julie   gender         F\n",
              "15   lucy   gender         F\n",
              "16  alice      job   student\n",
              "17   john      job   student\n",
              "18   eric      job   student\n",
              "19   paul      job   manager\n",
              "20   bill      job  engineer\n",
              "21  peter      job       CTO\n",
              "22  julie      job       CFO\n",
              "23   lucy      job       CEO\n",
              "24  alice   height       165\n",
              "25   john   height       180\n",
              "26   eric   height       171\n",
              "27   paul   height       192\n",
              "28   bill   height       NaN\n",
              "29  peter   height       NaN\n",
              "30  julie   height       175\n",
              "31   lucy   height       NaN"
            ]
          },
          "metadata": {
            "tags": []
          },
          "execution_count": 110
        }
      ]
    },
    {
      "cell_type": "markdown",
      "metadata": {
        "id": "iU6CqiwFL989"
      },
      "source": [
        "+ **`pivot (行轉列)` : 將一個 DataFrame 從 \"長的格式 [long (stacked) format] 轉換成 \"寬的格式 [wide format]\"**"
      ]
    },
    {
      "cell_type": "code",
      "metadata": {
        "id": "5QIubBZqL98-",
        "outputId": "2679cdcb-0654-40d1-c1e2-eccd68ba63b4"
      },
      "source": [
        "stacked.pivot(index='name', columns='variable', values='value')"
      ],
      "execution_count": null,
      "outputs": [
        {
          "output_type": "execute_result",
          "data": {
            "text/html": [
              "<div>\n",
              "<style scoped>\n",
              "    .dataframe tbody tr th:only-of-type {\n",
              "        vertical-align: middle;\n",
              "    }\n",
              "\n",
              "    .dataframe tbody tr th {\n",
              "        vertical-align: top;\n",
              "    }\n",
              "\n",
              "    .dataframe thead th {\n",
              "        text-align: right;\n",
              "    }\n",
              "</style>\n",
              "<table border=\"1\" class=\"dataframe\">\n",
              "  <thead>\n",
              "    <tr style=\"text-align: right;\">\n",
              "      <th>variable</th>\n",
              "      <th>age</th>\n",
              "      <th>gender</th>\n",
              "      <th>height</th>\n",
              "      <th>job</th>\n",
              "    </tr>\n",
              "    <tr>\n",
              "      <th>name</th>\n",
              "      <th></th>\n",
              "      <th></th>\n",
              "      <th></th>\n",
              "      <th></th>\n",
              "    </tr>\n",
              "  </thead>\n",
              "  <tbody>\n",
              "    <tr>\n",
              "      <th>alice</th>\n",
              "      <td>19</td>\n",
              "      <td>F</td>\n",
              "      <td>165</td>\n",
              "      <td>student</td>\n",
              "    </tr>\n",
              "    <tr>\n",
              "      <th>bill</th>\n",
              "      <td>33</td>\n",
              "      <td>M</td>\n",
              "      <td>NaN</td>\n",
              "      <td>engineer</td>\n",
              "    </tr>\n",
              "    <tr>\n",
              "      <th>eric</th>\n",
              "      <td>22</td>\n",
              "      <td>M</td>\n",
              "      <td>171</td>\n",
              "      <td>student</td>\n",
              "    </tr>\n",
              "    <tr>\n",
              "      <th>john</th>\n",
              "      <td>26</td>\n",
              "      <td>M</td>\n",
              "      <td>180</td>\n",
              "      <td>student</td>\n",
              "    </tr>\n",
              "    <tr>\n",
              "      <th>julie</th>\n",
              "      <td>44</td>\n",
              "      <td>F</td>\n",
              "      <td>175</td>\n",
              "      <td>CFO</td>\n",
              "    </tr>\n",
              "    <tr>\n",
              "      <th>lucy</th>\n",
              "      <td>52</td>\n",
              "      <td>F</td>\n",
              "      <td>NaN</td>\n",
              "      <td>CEO</td>\n",
              "    </tr>\n",
              "    <tr>\n",
              "      <th>paul</th>\n",
              "      <td>58</td>\n",
              "      <td>M</td>\n",
              "      <td>192</td>\n",
              "      <td>manager</td>\n",
              "    </tr>\n",
              "    <tr>\n",
              "      <th>peter</th>\n",
              "      <td>48</td>\n",
              "      <td>M</td>\n",
              "      <td>NaN</td>\n",
              "      <td>CTO</td>\n",
              "    </tr>\n",
              "  </tbody>\n",
              "</table>\n",
              "</div>"
            ],
            "text/plain": [
              "variable age gender height       job\n",
              "name                                \n",
              "alice     19      F    165   student\n",
              "bill      33      M    NaN  engineer\n",
              "eric      22      M    171   student\n",
              "john      26      M    180   student\n",
              "julie     44      F    175       CFO\n",
              "lucy      52      F    NaN       CEO\n",
              "paul      58      M    192   manager\n",
              "peter     48      M    NaN       CTO"
            ]
          },
          "metadata": {
            "tags": []
          },
          "execution_count": 111
        }
      ]
    },
    {
      "cell_type": "markdown",
      "metadata": {
        "id": "MwGQDBSuL98-"
      },
      "source": [
        "### Q1 : 如果執行下列程式敘述，將會出現什麼錯誤訊息呢?\n",
        "stacked = pd.melt(users, id_vars=\"age\", var_name=\"variable\", value_name=\"value\")\n",
        "\n",
        "stacked\n",
        "\n",
        "stacked.pivot(index='name', columns='variable', values='value')"
      ]
    },
    {
      "cell_type": "markdown",
      "metadata": {
        "id": "GM-a0HqjL98-"
      },
      "source": [
        "### Q2 : 如果執行下列程式敘述，又將會出現什麼錯誤訊息呢?\n",
        "stacked = pd.melt(users, id_vars=\"job\", var_name=\"variable\", value_name=\"value\")\n",
        "\n",
        "stacked\n",
        "\n",
        "stacked.pivot(index='job', columns='variable', values='value')"
      ]
    },
    {
      "cell_type": "markdown",
      "metadata": {
        "id": "3ljGto1iL98_"
      },
      "source": [
        "<a id='Quality_check'></a>\n",
        "## 4.3 Quality check\n",
        "### 4.3.1 Remove duplicate data"
      ]
    },
    {
      "cell_type": "code",
      "metadata": {
        "id": "mMQsR-gXL98_",
        "outputId": "4aca7445-b496-4a8d-a765-9b1a5332ab4c"
      },
      "source": [
        "df = users.append(df.iloc[0], ignore_index=True)\n",
        "df"
      ],
      "execution_count": null,
      "outputs": [
        {
          "output_type": "execute_result",
          "data": {
            "text/html": [
              "<div>\n",
              "<style scoped>\n",
              "    .dataframe tbody tr th:only-of-type {\n",
              "        vertical-align: middle;\n",
              "    }\n",
              "\n",
              "    .dataframe tbody tr th {\n",
              "        vertical-align: top;\n",
              "    }\n",
              "\n",
              "    .dataframe thead th {\n",
              "        text-align: right;\n",
              "    }\n",
              "</style>\n",
              "<table border=\"1\" class=\"dataframe\">\n",
              "  <thead>\n",
              "    <tr style=\"text-align: right;\">\n",
              "      <th></th>\n",
              "      <th>name</th>\n",
              "      <th>age</th>\n",
              "      <th>gender</th>\n",
              "      <th>job</th>\n",
              "      <th>height</th>\n",
              "    </tr>\n",
              "  </thead>\n",
              "  <tbody>\n",
              "    <tr>\n",
              "      <th>0</th>\n",
              "      <td>alice</td>\n",
              "      <td>19</td>\n",
              "      <td>F</td>\n",
              "      <td>student</td>\n",
              "      <td>165.0</td>\n",
              "    </tr>\n",
              "    <tr>\n",
              "      <th>1</th>\n",
              "      <td>john</td>\n",
              "      <td>26</td>\n",
              "      <td>M</td>\n",
              "      <td>student</td>\n",
              "      <td>180.0</td>\n",
              "    </tr>\n",
              "    <tr>\n",
              "      <th>2</th>\n",
              "      <td>eric</td>\n",
              "      <td>22</td>\n",
              "      <td>M</td>\n",
              "      <td>student</td>\n",
              "      <td>171.0</td>\n",
              "    </tr>\n",
              "    <tr>\n",
              "      <th>3</th>\n",
              "      <td>paul</td>\n",
              "      <td>58</td>\n",
              "      <td>M</td>\n",
              "      <td>manager</td>\n",
              "      <td>192.0</td>\n",
              "    </tr>\n",
              "    <tr>\n",
              "      <th>4</th>\n",
              "      <td>bill</td>\n",
              "      <td>33</td>\n",
              "      <td>M</td>\n",
              "      <td>engineer</td>\n",
              "      <td>NaN</td>\n",
              "    </tr>\n",
              "    <tr>\n",
              "      <th>5</th>\n",
              "      <td>peter</td>\n",
              "      <td>48</td>\n",
              "      <td>M</td>\n",
              "      <td>CTO</td>\n",
              "      <td>NaN</td>\n",
              "    </tr>\n",
              "    <tr>\n",
              "      <th>6</th>\n",
              "      <td>julie</td>\n",
              "      <td>44</td>\n",
              "      <td>F</td>\n",
              "      <td>CFO</td>\n",
              "      <td>175.0</td>\n",
              "    </tr>\n",
              "    <tr>\n",
              "      <th>7</th>\n",
              "      <td>lucy</td>\n",
              "      <td>52</td>\n",
              "      <td>F</td>\n",
              "      <td>CEO</td>\n",
              "      <td>NaN</td>\n",
              "    </tr>\n",
              "    <tr>\n",
              "      <th>8</th>\n",
              "      <td>lucy</td>\n",
              "      <td>52</td>\n",
              "      <td>F</td>\n",
              "      <td>CEO</td>\n",
              "      <td>NaN</td>\n",
              "    </tr>\n",
              "  </tbody>\n",
              "</table>\n",
              "</div>"
            ],
            "text/plain": [
              "    name  age gender       job  height\n",
              "0  alice   19      F   student   165.0\n",
              "1   john   26      M   student   180.0\n",
              "2   eric   22      M   student   171.0\n",
              "3   paul   58      M   manager   192.0\n",
              "4   bill   33      M  engineer     NaN\n",
              "5  peter   48      M       CTO     NaN\n",
              "6  julie   44      F       CFO   175.0\n",
              "7   lucy   52      F       CEO     NaN\n",
              "8   lucy   52      F       CEO     NaN"
            ]
          },
          "metadata": {
            "tags": []
          },
          "execution_count": 112
        }
      ]
    },
    {
      "cell_type": "code",
      "metadata": {
        "id": "yoqtd6_IL98_",
        "outputId": "92b26541-93db-42a8-e570-a4a1ef81bfaa"
      },
      "source": [
        "# duplicated() :Series of booleans\n",
        "# True if a row is identical to a previous row\n",
        "df.duplicated() "
      ],
      "execution_count": null,
      "outputs": [
        {
          "output_type": "execute_result",
          "data": {
            "text/plain": [
              "0    False\n",
              "1    False\n",
              "2    False\n",
              "3    False\n",
              "4    False\n",
              "5    False\n",
              "6    False\n",
              "7    False\n",
              "8     True\n",
              "dtype: bool"
            ]
          },
          "metadata": {
            "tags": []
          },
          "execution_count": 113
        }
      ]
    },
    {
      "cell_type": "code",
      "metadata": {
        "id": "zs5PsIwfL99A",
        "outputId": "c7e53c09-c512-4c7f-9239-b49f4e5b5849"
      },
      "source": [
        "df.duplicated().sum() # count of duplicates"
      ],
      "execution_count": null,
      "outputs": [
        {
          "output_type": "execute_result",
          "data": {
            "text/plain": [
              "1"
            ]
          },
          "metadata": {
            "tags": []
          },
          "execution_count": 114
        }
      ]
    },
    {
      "cell_type": "code",
      "metadata": {
        "id": "xGAj4K4VL99B",
        "outputId": "10991b12-d907-482a-e425-34b95f58686c"
      },
      "source": [
        "df[df.duplicated()] # only show duplicates"
      ],
      "execution_count": null,
      "outputs": [
        {
          "output_type": "execute_result",
          "data": {
            "text/html": [
              "<div>\n",
              "<style scoped>\n",
              "    .dataframe tbody tr th:only-of-type {\n",
              "        vertical-align: middle;\n",
              "    }\n",
              "\n",
              "    .dataframe tbody tr th {\n",
              "        vertical-align: top;\n",
              "    }\n",
              "\n",
              "    .dataframe thead th {\n",
              "        text-align: right;\n",
              "    }\n",
              "</style>\n",
              "<table border=\"1\" class=\"dataframe\">\n",
              "  <thead>\n",
              "    <tr style=\"text-align: right;\">\n",
              "      <th></th>\n",
              "      <th>name</th>\n",
              "      <th>age</th>\n",
              "      <th>gender</th>\n",
              "      <th>job</th>\n",
              "      <th>height</th>\n",
              "    </tr>\n",
              "  </thead>\n",
              "  <tbody>\n",
              "    <tr>\n",
              "      <th>8</th>\n",
              "      <td>lucy</td>\n",
              "      <td>52</td>\n",
              "      <td>F</td>\n",
              "      <td>CEO</td>\n",
              "      <td>NaN</td>\n",
              "    </tr>\n",
              "  </tbody>\n",
              "</table>\n",
              "</div>"
            ],
            "text/plain": [
              "   name  age gender  job  height\n",
              "8  lucy   52      F  CEO     NaN"
            ]
          },
          "metadata": {
            "tags": []
          },
          "execution_count": 115
        }
      ]
    },
    {
      "cell_type": "code",
      "metadata": {
        "id": "-8XEB6BFL99B",
        "outputId": "96ab5269-ce27-4e1a-f094-594e50470478"
      },
      "source": [
        "df.age.duplicated() # check a single column for duplicates"
      ],
      "execution_count": null,
      "outputs": [
        {
          "output_type": "execute_result",
          "data": {
            "text/plain": [
              "0    False\n",
              "1    False\n",
              "2    False\n",
              "3    False\n",
              "4    False\n",
              "5    False\n",
              "6    False\n",
              "7    False\n",
              "8     True\n",
              "Name: age, dtype: bool"
            ]
          },
          "metadata": {
            "tags": []
          },
          "execution_count": 116
        }
      ]
    },
    {
      "cell_type": "code",
      "metadata": {
        "id": "DCog3MsSL99C",
        "outputId": "6f7e2eaf-a24d-4d14-829c-65981305f7b3"
      },
      "source": [
        "df.duplicated(['age', 'gender']).sum() # specify columns for finding duplicates"
      ],
      "execution_count": null,
      "outputs": [
        {
          "output_type": "execute_result",
          "data": {
            "text/plain": [
              "1"
            ]
          },
          "metadata": {
            "tags": []
          },
          "execution_count": 117
        }
      ]
    },
    {
      "cell_type": "code",
      "metadata": {
        "id": "uG0N6WFHL99C",
        "outputId": "93ed2af6-f0a3-481a-f55a-3e1ab432b83e"
      },
      "source": [
        "df = df.drop_duplicates()   # drop duplicate rows\n",
        "df"
      ],
      "execution_count": null,
      "outputs": [
        {
          "output_type": "execute_result",
          "data": {
            "text/html": [
              "<div>\n",
              "<style scoped>\n",
              "    .dataframe tbody tr th:only-of-type {\n",
              "        vertical-align: middle;\n",
              "    }\n",
              "\n",
              "    .dataframe tbody tr th {\n",
              "        vertical-align: top;\n",
              "    }\n",
              "\n",
              "    .dataframe thead th {\n",
              "        text-align: right;\n",
              "    }\n",
              "</style>\n",
              "<table border=\"1\" class=\"dataframe\">\n",
              "  <thead>\n",
              "    <tr style=\"text-align: right;\">\n",
              "      <th></th>\n",
              "      <th>name</th>\n",
              "      <th>age</th>\n",
              "      <th>gender</th>\n",
              "      <th>job</th>\n",
              "      <th>height</th>\n",
              "    </tr>\n",
              "  </thead>\n",
              "  <tbody>\n",
              "    <tr>\n",
              "      <th>0</th>\n",
              "      <td>alice</td>\n",
              "      <td>19</td>\n",
              "      <td>F</td>\n",
              "      <td>student</td>\n",
              "      <td>165.0</td>\n",
              "    </tr>\n",
              "    <tr>\n",
              "      <th>1</th>\n",
              "      <td>john</td>\n",
              "      <td>26</td>\n",
              "      <td>M</td>\n",
              "      <td>student</td>\n",
              "      <td>180.0</td>\n",
              "    </tr>\n",
              "    <tr>\n",
              "      <th>2</th>\n",
              "      <td>eric</td>\n",
              "      <td>22</td>\n",
              "      <td>M</td>\n",
              "      <td>student</td>\n",
              "      <td>171.0</td>\n",
              "    </tr>\n",
              "    <tr>\n",
              "      <th>3</th>\n",
              "      <td>paul</td>\n",
              "      <td>58</td>\n",
              "      <td>M</td>\n",
              "      <td>manager</td>\n",
              "      <td>192.0</td>\n",
              "    </tr>\n",
              "    <tr>\n",
              "      <th>4</th>\n",
              "      <td>bill</td>\n",
              "      <td>33</td>\n",
              "      <td>M</td>\n",
              "      <td>engineer</td>\n",
              "      <td>NaN</td>\n",
              "    </tr>\n",
              "    <tr>\n",
              "      <th>5</th>\n",
              "      <td>peter</td>\n",
              "      <td>48</td>\n",
              "      <td>M</td>\n",
              "      <td>CTO</td>\n",
              "      <td>NaN</td>\n",
              "    </tr>\n",
              "    <tr>\n",
              "      <th>6</th>\n",
              "      <td>julie</td>\n",
              "      <td>44</td>\n",
              "      <td>F</td>\n",
              "      <td>CFO</td>\n",
              "      <td>175.0</td>\n",
              "    </tr>\n",
              "    <tr>\n",
              "      <th>7</th>\n",
              "      <td>lucy</td>\n",
              "      <td>52</td>\n",
              "      <td>F</td>\n",
              "      <td>CEO</td>\n",
              "      <td>NaN</td>\n",
              "    </tr>\n",
              "  </tbody>\n",
              "</table>\n",
              "</div>"
            ],
            "text/plain": [
              "    name  age gender       job  height\n",
              "0  alice   19      F   student   165.0\n",
              "1   john   26      M   student   180.0\n",
              "2   eric   22      M   student   171.0\n",
              "3   paul   58      M   manager   192.0\n",
              "4   bill   33      M  engineer     NaN\n",
              "5  peter   48      M       CTO     NaN\n",
              "6  julie   44      F       CFO   175.0\n",
              "7   lucy   52      F       CEO     NaN"
            ]
          },
          "metadata": {
            "tags": []
          },
          "execution_count": 118
        }
      ]
    },
    {
      "cell_type": "markdown",
      "metadata": {
        "id": "s-nSDl_8L99C"
      },
      "source": [
        "### 4.3.2 Missing data\n",
        "- 遺失值 (missing values) 通常會被移除"
      ]
    },
    {
      "cell_type": "code",
      "metadata": {
        "id": "pzIsvfxuL99C",
        "outputId": "5e3dd27c-e413-4703-9df5-b0fefec41231"
      },
      "source": [
        "df = users.copy()\n",
        "df"
      ],
      "execution_count": null,
      "outputs": [
        {
          "output_type": "execute_result",
          "data": {
            "text/html": [
              "<div>\n",
              "<style scoped>\n",
              "    .dataframe tbody tr th:only-of-type {\n",
              "        vertical-align: middle;\n",
              "    }\n",
              "\n",
              "    .dataframe tbody tr th {\n",
              "        vertical-align: top;\n",
              "    }\n",
              "\n",
              "    .dataframe thead th {\n",
              "        text-align: right;\n",
              "    }\n",
              "</style>\n",
              "<table border=\"1\" class=\"dataframe\">\n",
              "  <thead>\n",
              "    <tr style=\"text-align: right;\">\n",
              "      <th></th>\n",
              "      <th>name</th>\n",
              "      <th>age</th>\n",
              "      <th>gender</th>\n",
              "      <th>job</th>\n",
              "      <th>height</th>\n",
              "    </tr>\n",
              "  </thead>\n",
              "  <tbody>\n",
              "    <tr>\n",
              "      <th>0</th>\n",
              "      <td>alice</td>\n",
              "      <td>19</td>\n",
              "      <td>F</td>\n",
              "      <td>student</td>\n",
              "      <td>165.0</td>\n",
              "    </tr>\n",
              "    <tr>\n",
              "      <th>1</th>\n",
              "      <td>john</td>\n",
              "      <td>26</td>\n",
              "      <td>M</td>\n",
              "      <td>student</td>\n",
              "      <td>180.0</td>\n",
              "    </tr>\n",
              "    <tr>\n",
              "      <th>2</th>\n",
              "      <td>eric</td>\n",
              "      <td>22</td>\n",
              "      <td>M</td>\n",
              "      <td>student</td>\n",
              "      <td>171.0</td>\n",
              "    </tr>\n",
              "    <tr>\n",
              "      <th>3</th>\n",
              "      <td>paul</td>\n",
              "      <td>58</td>\n",
              "      <td>M</td>\n",
              "      <td>manager</td>\n",
              "      <td>192.0</td>\n",
              "    </tr>\n",
              "    <tr>\n",
              "      <th>4</th>\n",
              "      <td>bill</td>\n",
              "      <td>33</td>\n",
              "      <td>M</td>\n",
              "      <td>engineer</td>\n",
              "      <td>NaN</td>\n",
              "    </tr>\n",
              "    <tr>\n",
              "      <th>5</th>\n",
              "      <td>peter</td>\n",
              "      <td>48</td>\n",
              "      <td>M</td>\n",
              "      <td>CTO</td>\n",
              "      <td>NaN</td>\n",
              "    </tr>\n",
              "    <tr>\n",
              "      <th>6</th>\n",
              "      <td>julie</td>\n",
              "      <td>44</td>\n",
              "      <td>F</td>\n",
              "      <td>CFO</td>\n",
              "      <td>175.0</td>\n",
              "    </tr>\n",
              "    <tr>\n",
              "      <th>7</th>\n",
              "      <td>lucy</td>\n",
              "      <td>52</td>\n",
              "      <td>F</td>\n",
              "      <td>CEO</td>\n",
              "      <td>NaN</td>\n",
              "    </tr>\n",
              "  </tbody>\n",
              "</table>\n",
              "</div>"
            ],
            "text/plain": [
              "    name  age gender       job  height\n",
              "0  alice   19      F   student   165.0\n",
              "1   john   26      M   student   180.0\n",
              "2   eric   22      M   student   171.0\n",
              "3   paul   58      M   manager   192.0\n",
              "4   bill   33      M  engineer     NaN\n",
              "5  peter   48      M       CTO     NaN\n",
              "6  julie   44      F       CFO   175.0\n",
              "7   lucy   52      F       CEO     NaN"
            ]
          },
          "metadata": {
            "tags": []
          },
          "execution_count": 119
        }
      ]
    },
    {
      "cell_type": "code",
      "metadata": {
        "id": "tBVovnB6L99D",
        "outputId": "0529b7b2-bf26-48f0-cba5-15d02e4550ae"
      },
      "source": [
        "df.describe(include='all')      # description of data..."
      ],
      "execution_count": null,
      "outputs": [
        {
          "output_type": "execute_result",
          "data": {
            "text/html": [
              "<div>\n",
              "<style scoped>\n",
              "    .dataframe tbody tr th:only-of-type {\n",
              "        vertical-align: middle;\n",
              "    }\n",
              "\n",
              "    .dataframe tbody tr th {\n",
              "        vertical-align: top;\n",
              "    }\n",
              "\n",
              "    .dataframe thead th {\n",
              "        text-align: right;\n",
              "    }\n",
              "</style>\n",
              "<table border=\"1\" class=\"dataframe\">\n",
              "  <thead>\n",
              "    <tr style=\"text-align: right;\">\n",
              "      <th></th>\n",
              "      <th>name</th>\n",
              "      <th>age</th>\n",
              "      <th>gender</th>\n",
              "      <th>job</th>\n",
              "      <th>height</th>\n",
              "    </tr>\n",
              "  </thead>\n",
              "  <tbody>\n",
              "    <tr>\n",
              "      <th>count</th>\n",
              "      <td>8</td>\n",
              "      <td>8.000000</td>\n",
              "      <td>8</td>\n",
              "      <td>8</td>\n",
              "      <td>5.000000</td>\n",
              "    </tr>\n",
              "    <tr>\n",
              "      <th>unique</th>\n",
              "      <td>8</td>\n",
              "      <td>NaN</td>\n",
              "      <td>2</td>\n",
              "      <td>6</td>\n",
              "      <td>NaN</td>\n",
              "    </tr>\n",
              "    <tr>\n",
              "      <th>top</th>\n",
              "      <td>eric</td>\n",
              "      <td>NaN</td>\n",
              "      <td>M</td>\n",
              "      <td>student</td>\n",
              "      <td>NaN</td>\n",
              "    </tr>\n",
              "    <tr>\n",
              "      <th>freq</th>\n",
              "      <td>1</td>\n",
              "      <td>NaN</td>\n",
              "      <td>5</td>\n",
              "      <td>3</td>\n",
              "      <td>NaN</td>\n",
              "    </tr>\n",
              "    <tr>\n",
              "      <th>mean</th>\n",
              "      <td>NaN</td>\n",
              "      <td>37.750000</td>\n",
              "      <td>NaN</td>\n",
              "      <td>NaN</td>\n",
              "      <td>176.600000</td>\n",
              "    </tr>\n",
              "    <tr>\n",
              "      <th>std</th>\n",
              "      <td>NaN</td>\n",
              "      <td>14.723645</td>\n",
              "      <td>NaN</td>\n",
              "      <td>NaN</td>\n",
              "      <td>10.212737</td>\n",
              "    </tr>\n",
              "    <tr>\n",
              "      <th>min</th>\n",
              "      <td>NaN</td>\n",
              "      <td>19.000000</td>\n",
              "      <td>NaN</td>\n",
              "      <td>NaN</td>\n",
              "      <td>165.000000</td>\n",
              "    </tr>\n",
              "    <tr>\n",
              "      <th>25%</th>\n",
              "      <td>NaN</td>\n",
              "      <td>25.000000</td>\n",
              "      <td>NaN</td>\n",
              "      <td>NaN</td>\n",
              "      <td>171.000000</td>\n",
              "    </tr>\n",
              "    <tr>\n",
              "      <th>50%</th>\n",
              "      <td>NaN</td>\n",
              "      <td>38.500000</td>\n",
              "      <td>NaN</td>\n",
              "      <td>NaN</td>\n",
              "      <td>175.000000</td>\n",
              "    </tr>\n",
              "    <tr>\n",
              "      <th>75%</th>\n",
              "      <td>NaN</td>\n",
              "      <td>49.000000</td>\n",
              "      <td>NaN</td>\n",
              "      <td>NaN</td>\n",
              "      <td>180.000000</td>\n",
              "    </tr>\n",
              "    <tr>\n",
              "      <th>max</th>\n",
              "      <td>NaN</td>\n",
              "      <td>58.000000</td>\n",
              "      <td>NaN</td>\n",
              "      <td>NaN</td>\n",
              "      <td>192.000000</td>\n",
              "    </tr>\n",
              "  </tbody>\n",
              "</table>\n",
              "</div>"
            ],
            "text/plain": [
              "        name        age gender      job      height\n",
              "count      8   8.000000      8        8    5.000000\n",
              "unique     8        NaN      2        6         NaN\n",
              "top     eric        NaN      M  student         NaN\n",
              "freq       1        NaN      5        3         NaN\n",
              "mean     NaN  37.750000    NaN      NaN  176.600000\n",
              "std      NaN  14.723645    NaN      NaN   10.212737\n",
              "min      NaN  19.000000    NaN      NaN  165.000000\n",
              "25%      NaN  25.000000    NaN      NaN  171.000000\n",
              "50%      NaN  38.500000    NaN      NaN  175.000000\n",
              "75%      NaN  49.000000    NaN      NaN  180.000000\n",
              "max      NaN  58.000000    NaN      NaN  192.000000"
            ]
          },
          "metadata": {
            "tags": []
          },
          "execution_count": 120
        }
      ]
    },
    {
      "cell_type": "code",
      "metadata": {
        "id": "ImtaZ4D4L99D",
        "outputId": "081c1f3b-5ca1-4271-9944-91adb548abf2"
      },
      "source": [
        "df.info()"
      ],
      "execution_count": null,
      "outputs": [
        {
          "output_type": "stream",
          "text": [
            "<class 'pandas.core.frame.DataFrame'>\n",
            "Int64Index: 8 entries, 0 to 7\n",
            "Data columns (total 5 columns):\n",
            " #   Column  Non-Null Count  Dtype  \n",
            "---  ------  --------------  -----  \n",
            " 0   name    8 non-null      object \n",
            " 1   age     8 non-null      int64  \n",
            " 2   gender  8 non-null      object \n",
            " 3   job     8 non-null      object \n",
            " 4   height  5 non-null      float64\n",
            "dtypes: float64(1), int64(1), object(3)\n",
            "memory usage: 704.0+ bytes\n"
          ],
          "name": "stdout"
        }
      ]
    },
    {
      "cell_type": "code",
      "metadata": {
        "id": "T8BWLHS-L99D",
        "outputId": "1a5ed506-7598-40e4-8910-2bb348439d7c"
      },
      "source": [
        "# find missing values in a Series\n",
        "df.height.isnull() # True if NaN, False otherwise"
      ],
      "execution_count": null,
      "outputs": [
        {
          "output_type": "execute_result",
          "data": {
            "text/plain": [
              "0    False\n",
              "1    False\n",
              "2    False\n",
              "3    False\n",
              "4     True\n",
              "5     True\n",
              "6    False\n",
              "7     True\n",
              "Name: height, dtype: bool"
            ]
          },
          "metadata": {
            "tags": []
          },
          "execution_count": 122
        }
      ]
    },
    {
      "cell_type": "code",
      "metadata": {
        "id": "4NjYr_ajL99D",
        "outputId": "74bd1ab8-7b44-4fd6-8781-6f94fa77cda5"
      },
      "source": [
        "df.height.notnull() # False if NaN, True otherwise"
      ],
      "execution_count": null,
      "outputs": [
        {
          "output_type": "execute_result",
          "data": {
            "text/plain": [
              "0     True\n",
              "1     True\n",
              "2     True\n",
              "3     True\n",
              "4    False\n",
              "5    False\n",
              "6     True\n",
              "7    False\n",
              "Name: height, dtype: bool"
            ]
          },
          "metadata": {
            "tags": []
          },
          "execution_count": 123
        }
      ]
    },
    {
      "cell_type": "code",
      "metadata": {
        "id": "BzKpTomVL99E",
        "outputId": "a4e73733-fc02-495b-e07d-0bc0a0959bf3"
      },
      "source": [
        "df[df.height.notnull()] # only show rows where age is not NaN"
      ],
      "execution_count": null,
      "outputs": [
        {
          "output_type": "execute_result",
          "data": {
            "text/html": [
              "<div>\n",
              "<style scoped>\n",
              "    .dataframe tbody tr th:only-of-type {\n",
              "        vertical-align: middle;\n",
              "    }\n",
              "\n",
              "    .dataframe tbody tr th {\n",
              "        vertical-align: top;\n",
              "    }\n",
              "\n",
              "    .dataframe thead th {\n",
              "        text-align: right;\n",
              "    }\n",
              "</style>\n",
              "<table border=\"1\" class=\"dataframe\">\n",
              "  <thead>\n",
              "    <tr style=\"text-align: right;\">\n",
              "      <th></th>\n",
              "      <th>name</th>\n",
              "      <th>age</th>\n",
              "      <th>gender</th>\n",
              "      <th>job</th>\n",
              "      <th>height</th>\n",
              "    </tr>\n",
              "  </thead>\n",
              "  <tbody>\n",
              "    <tr>\n",
              "      <th>0</th>\n",
              "      <td>alice</td>\n",
              "      <td>19</td>\n",
              "      <td>F</td>\n",
              "      <td>student</td>\n",
              "      <td>165.0</td>\n",
              "    </tr>\n",
              "    <tr>\n",
              "      <th>1</th>\n",
              "      <td>john</td>\n",
              "      <td>26</td>\n",
              "      <td>M</td>\n",
              "      <td>student</td>\n",
              "      <td>180.0</td>\n",
              "    </tr>\n",
              "    <tr>\n",
              "      <th>2</th>\n",
              "      <td>eric</td>\n",
              "      <td>22</td>\n",
              "      <td>M</td>\n",
              "      <td>student</td>\n",
              "      <td>171.0</td>\n",
              "    </tr>\n",
              "    <tr>\n",
              "      <th>3</th>\n",
              "      <td>paul</td>\n",
              "      <td>58</td>\n",
              "      <td>M</td>\n",
              "      <td>manager</td>\n",
              "      <td>192.0</td>\n",
              "    </tr>\n",
              "    <tr>\n",
              "      <th>6</th>\n",
              "      <td>julie</td>\n",
              "      <td>44</td>\n",
              "      <td>F</td>\n",
              "      <td>CFO</td>\n",
              "      <td>175.0</td>\n",
              "    </tr>\n",
              "  </tbody>\n",
              "</table>\n",
              "</div>"
            ],
            "text/plain": [
              "    name  age gender      job  height\n",
              "0  alice   19      F  student   165.0\n",
              "1   john   26      M  student   180.0\n",
              "2   eric   22      M  student   171.0\n",
              "3   paul   58      M  manager   192.0\n",
              "6  julie   44      F      CFO   175.0"
            ]
          },
          "metadata": {
            "tags": []
          },
          "execution_count": 124
        }
      ]
    },
    {
      "cell_type": "code",
      "metadata": {
        "id": "8K5_PxrVL99E",
        "outputId": "de7ad052-f83e-41df-8904-63d9f5439e72"
      },
      "source": [
        "df.height.isnull().sum() # count the missing values"
      ],
      "execution_count": null,
      "outputs": [
        {
          "output_type": "execute_result",
          "data": {
            "text/plain": [
              "3"
            ]
          },
          "metadata": {
            "tags": []
          },
          "execution_count": 125
        }
      ]
    },
    {
      "cell_type": "code",
      "metadata": {
        "id": "VKNL_WYcL99E",
        "outputId": "675a506d-601a-43e7-c754-4ff09e355ac1"
      },
      "source": [
        "# find missing values in a DataFrame\n",
        "df.isnull() # DataFrame of booleans"
      ],
      "execution_count": null,
      "outputs": [
        {
          "output_type": "execute_result",
          "data": {
            "text/html": [
              "<div>\n",
              "<style scoped>\n",
              "    .dataframe tbody tr th:only-of-type {\n",
              "        vertical-align: middle;\n",
              "    }\n",
              "\n",
              "    .dataframe tbody tr th {\n",
              "        vertical-align: top;\n",
              "    }\n",
              "\n",
              "    .dataframe thead th {\n",
              "        text-align: right;\n",
              "    }\n",
              "</style>\n",
              "<table border=\"1\" class=\"dataframe\">\n",
              "  <thead>\n",
              "    <tr style=\"text-align: right;\">\n",
              "      <th></th>\n",
              "      <th>name</th>\n",
              "      <th>age</th>\n",
              "      <th>gender</th>\n",
              "      <th>job</th>\n",
              "      <th>height</th>\n",
              "    </tr>\n",
              "  </thead>\n",
              "  <tbody>\n",
              "    <tr>\n",
              "      <th>0</th>\n",
              "      <td>False</td>\n",
              "      <td>False</td>\n",
              "      <td>False</td>\n",
              "      <td>False</td>\n",
              "      <td>False</td>\n",
              "    </tr>\n",
              "    <tr>\n",
              "      <th>1</th>\n",
              "      <td>False</td>\n",
              "      <td>False</td>\n",
              "      <td>False</td>\n",
              "      <td>False</td>\n",
              "      <td>False</td>\n",
              "    </tr>\n",
              "    <tr>\n",
              "      <th>2</th>\n",
              "      <td>False</td>\n",
              "      <td>False</td>\n",
              "      <td>False</td>\n",
              "      <td>False</td>\n",
              "      <td>False</td>\n",
              "    </tr>\n",
              "    <tr>\n",
              "      <th>3</th>\n",
              "      <td>False</td>\n",
              "      <td>False</td>\n",
              "      <td>False</td>\n",
              "      <td>False</td>\n",
              "      <td>False</td>\n",
              "    </tr>\n",
              "    <tr>\n",
              "      <th>4</th>\n",
              "      <td>False</td>\n",
              "      <td>False</td>\n",
              "      <td>False</td>\n",
              "      <td>False</td>\n",
              "      <td>True</td>\n",
              "    </tr>\n",
              "    <tr>\n",
              "      <th>5</th>\n",
              "      <td>False</td>\n",
              "      <td>False</td>\n",
              "      <td>False</td>\n",
              "      <td>False</td>\n",
              "      <td>True</td>\n",
              "    </tr>\n",
              "    <tr>\n",
              "      <th>6</th>\n",
              "      <td>False</td>\n",
              "      <td>False</td>\n",
              "      <td>False</td>\n",
              "      <td>False</td>\n",
              "      <td>False</td>\n",
              "    </tr>\n",
              "    <tr>\n",
              "      <th>7</th>\n",
              "      <td>False</td>\n",
              "      <td>False</td>\n",
              "      <td>False</td>\n",
              "      <td>False</td>\n",
              "      <td>True</td>\n",
              "    </tr>\n",
              "  </tbody>\n",
              "</table>\n",
              "</div>"
            ],
            "text/plain": [
              "    name    age  gender    job  height\n",
              "0  False  False   False  False   False\n",
              "1  False  False   False  False   False\n",
              "2  False  False   False  False   False\n",
              "3  False  False   False  False   False\n",
              "4  False  False   False  False    True\n",
              "5  False  False   False  False    True\n",
              "6  False  False   False  False   False\n",
              "7  False  False   False  False    True"
            ]
          },
          "metadata": {
            "tags": []
          },
          "execution_count": 126
        }
      ]
    },
    {
      "cell_type": "code",
      "metadata": {
        "id": "kBJgQJtdL99F",
        "outputId": "232f1d24-ff50-4121-9635-ed0f9e773d2c"
      },
      "source": [
        "df.isnull().sum() # calculate the sum of each column"
      ],
      "execution_count": null,
      "outputs": [
        {
          "output_type": "execute_result",
          "data": {
            "text/plain": [
              "name      0\n",
              "age       0\n",
              "gender    0\n",
              "job       0\n",
              "height    3\n",
              "dtype: int64"
            ]
          },
          "metadata": {
            "tags": []
          },
          "execution_count": 127
        }
      ]
    },
    {
      "cell_type": "markdown",
      "metadata": {
        "id": "xIbdhGKpL99F"
      },
      "source": [
        "+ #### Drop missing values"
      ]
    },
    {
      "cell_type": "code",
      "metadata": {
        "id": "D9ZplxV8L99F",
        "outputId": "3523468e-27df-4761-9a9b-bc54fb76803f"
      },
      "source": [
        "df.dropna() # drop a row if ANY values are missing"
      ],
      "execution_count": null,
      "outputs": [
        {
          "output_type": "execute_result",
          "data": {
            "text/html": [
              "<div>\n",
              "<style scoped>\n",
              "    .dataframe tbody tr th:only-of-type {\n",
              "        vertical-align: middle;\n",
              "    }\n",
              "\n",
              "    .dataframe tbody tr th {\n",
              "        vertical-align: top;\n",
              "    }\n",
              "\n",
              "    .dataframe thead th {\n",
              "        text-align: right;\n",
              "    }\n",
              "</style>\n",
              "<table border=\"1\" class=\"dataframe\">\n",
              "  <thead>\n",
              "    <tr style=\"text-align: right;\">\n",
              "      <th></th>\n",
              "      <th>name</th>\n",
              "      <th>age</th>\n",
              "      <th>gender</th>\n",
              "      <th>job</th>\n",
              "      <th>height</th>\n",
              "    </tr>\n",
              "  </thead>\n",
              "  <tbody>\n",
              "    <tr>\n",
              "      <th>0</th>\n",
              "      <td>alice</td>\n",
              "      <td>19</td>\n",
              "      <td>F</td>\n",
              "      <td>student</td>\n",
              "      <td>165.0</td>\n",
              "    </tr>\n",
              "    <tr>\n",
              "      <th>1</th>\n",
              "      <td>john</td>\n",
              "      <td>26</td>\n",
              "      <td>M</td>\n",
              "      <td>student</td>\n",
              "      <td>180.0</td>\n",
              "    </tr>\n",
              "    <tr>\n",
              "      <th>2</th>\n",
              "      <td>eric</td>\n",
              "      <td>22</td>\n",
              "      <td>M</td>\n",
              "      <td>student</td>\n",
              "      <td>171.0</td>\n",
              "    </tr>\n",
              "    <tr>\n",
              "      <th>3</th>\n",
              "      <td>paul</td>\n",
              "      <td>58</td>\n",
              "      <td>M</td>\n",
              "      <td>manager</td>\n",
              "      <td>192.0</td>\n",
              "    </tr>\n",
              "    <tr>\n",
              "      <th>6</th>\n",
              "      <td>julie</td>\n",
              "      <td>44</td>\n",
              "      <td>F</td>\n",
              "      <td>CFO</td>\n",
              "      <td>175.0</td>\n",
              "    </tr>\n",
              "  </tbody>\n",
              "</table>\n",
              "</div>"
            ],
            "text/plain": [
              "    name  age gender      job  height\n",
              "0  alice   19      F  student   165.0\n",
              "1   john   26      M  student   180.0\n",
              "2   eric   22      M  student   171.0\n",
              "3   paul   58      M  manager   192.0\n",
              "6  julie   44      F      CFO   175.0"
            ]
          },
          "metadata": {
            "tags": []
          },
          "execution_count": 128
        }
      ]
    },
    {
      "cell_type": "code",
      "metadata": {
        "id": "Lzu8HACVL99G",
        "outputId": "8c5e6a8d-5c67-4571-f9ef-8df4fadd8547"
      },
      "source": [
        "df.dropna(how='all') # drop a row only if ALL values are missing"
      ],
      "execution_count": null,
      "outputs": [
        {
          "output_type": "execute_result",
          "data": {
            "text/html": [
              "<div>\n",
              "<style scoped>\n",
              "    .dataframe tbody tr th:only-of-type {\n",
              "        vertical-align: middle;\n",
              "    }\n",
              "\n",
              "    .dataframe tbody tr th {\n",
              "        vertical-align: top;\n",
              "    }\n",
              "\n",
              "    .dataframe thead th {\n",
              "        text-align: right;\n",
              "    }\n",
              "</style>\n",
              "<table border=\"1\" class=\"dataframe\">\n",
              "  <thead>\n",
              "    <tr style=\"text-align: right;\">\n",
              "      <th></th>\n",
              "      <th>name</th>\n",
              "      <th>age</th>\n",
              "      <th>gender</th>\n",
              "      <th>job</th>\n",
              "      <th>height</th>\n",
              "    </tr>\n",
              "  </thead>\n",
              "  <tbody>\n",
              "    <tr>\n",
              "      <th>0</th>\n",
              "      <td>alice</td>\n",
              "      <td>19</td>\n",
              "      <td>F</td>\n",
              "      <td>student</td>\n",
              "      <td>165.0</td>\n",
              "    </tr>\n",
              "    <tr>\n",
              "      <th>1</th>\n",
              "      <td>john</td>\n",
              "      <td>26</td>\n",
              "      <td>M</td>\n",
              "      <td>student</td>\n",
              "      <td>180.0</td>\n",
              "    </tr>\n",
              "    <tr>\n",
              "      <th>2</th>\n",
              "      <td>eric</td>\n",
              "      <td>22</td>\n",
              "      <td>M</td>\n",
              "      <td>student</td>\n",
              "      <td>171.0</td>\n",
              "    </tr>\n",
              "    <tr>\n",
              "      <th>3</th>\n",
              "      <td>paul</td>\n",
              "      <td>58</td>\n",
              "      <td>M</td>\n",
              "      <td>manager</td>\n",
              "      <td>192.0</td>\n",
              "    </tr>\n",
              "    <tr>\n",
              "      <th>4</th>\n",
              "      <td>bill</td>\n",
              "      <td>33</td>\n",
              "      <td>M</td>\n",
              "      <td>engineer</td>\n",
              "      <td>NaN</td>\n",
              "    </tr>\n",
              "    <tr>\n",
              "      <th>5</th>\n",
              "      <td>peter</td>\n",
              "      <td>48</td>\n",
              "      <td>M</td>\n",
              "      <td>CTO</td>\n",
              "      <td>NaN</td>\n",
              "    </tr>\n",
              "    <tr>\n",
              "      <th>6</th>\n",
              "      <td>julie</td>\n",
              "      <td>44</td>\n",
              "      <td>F</td>\n",
              "      <td>CFO</td>\n",
              "      <td>175.0</td>\n",
              "    </tr>\n",
              "    <tr>\n",
              "      <th>7</th>\n",
              "      <td>lucy</td>\n",
              "      <td>52</td>\n",
              "      <td>F</td>\n",
              "      <td>CEO</td>\n",
              "      <td>NaN</td>\n",
              "    </tr>\n",
              "  </tbody>\n",
              "</table>\n",
              "</div>"
            ],
            "text/plain": [
              "    name  age gender       job  height\n",
              "0  alice   19      F   student   165.0\n",
              "1   john   26      M   student   180.0\n",
              "2   eric   22      M   student   171.0\n",
              "3   paul   58      M   manager   192.0\n",
              "4   bill   33      M  engineer     NaN\n",
              "5  peter   48      M       CTO     NaN\n",
              "6  julie   44      F       CFO   175.0\n",
              "7   lucy   52      F       CEO     NaN"
            ]
          },
          "metadata": {
            "tags": []
          },
          "execution_count": 129
        }
      ]
    },
    {
      "cell_type": "markdown",
      "metadata": {
        "id": "_7fdEK3ZL99G"
      },
      "source": [
        "+ #### Fill in the missing values with the mean value."
      ]
    },
    {
      "cell_type": "code",
      "metadata": {
        "id": "Uqo1iVc0L99G",
        "outputId": "77df5b81-b0e6-4c48-9324-2d4866d345b9"
      },
      "source": [
        "print(df)\n",
        "df.height.mean()"
      ],
      "execution_count": null,
      "outputs": [
        {
          "output_type": "stream",
          "text": [
            "    name  age gender       job  height\n",
            "0  alice   19      F   student   165.0\n",
            "1   john   26      M   student   180.0\n",
            "2   eric   22      M   student   171.0\n",
            "3   paul   58      M   manager   192.0\n",
            "4   bill   33      M  engineer     NaN\n",
            "5  peter   48      M       CTO     NaN\n",
            "6  julie   44      F       CFO   175.0\n",
            "7   lucy   52      F       CEO     NaN\n"
          ],
          "name": "stdout"
        },
        {
          "output_type": "execute_result",
          "data": {
            "text/plain": [
              "176.6"
            ]
          },
          "metadata": {
            "tags": []
          },
          "execution_count": 130
        }
      ]
    },
    {
      "cell_type": "code",
      "metadata": {
        "id": "hkITwa2xL99G",
        "outputId": "5644c37a-5961-4b4f-db10-e7f9f05337b3"
      },
      "source": [
        "df.loc[df.height.isnull(), \"height\"] = df[\"height\"].mean()\n",
        "df"
      ],
      "execution_count": null,
      "outputs": [
        {
          "output_type": "execute_result",
          "data": {
            "text/html": [
              "<div>\n",
              "<style scoped>\n",
              "    .dataframe tbody tr th:only-of-type {\n",
              "        vertical-align: middle;\n",
              "    }\n",
              "\n",
              "    .dataframe tbody tr th {\n",
              "        vertical-align: top;\n",
              "    }\n",
              "\n",
              "    .dataframe thead th {\n",
              "        text-align: right;\n",
              "    }\n",
              "</style>\n",
              "<table border=\"1\" class=\"dataframe\">\n",
              "  <thead>\n",
              "    <tr style=\"text-align: right;\">\n",
              "      <th></th>\n",
              "      <th>name</th>\n",
              "      <th>age</th>\n",
              "      <th>gender</th>\n",
              "      <th>job</th>\n",
              "      <th>height</th>\n",
              "    </tr>\n",
              "  </thead>\n",
              "  <tbody>\n",
              "    <tr>\n",
              "      <th>0</th>\n",
              "      <td>alice</td>\n",
              "      <td>19</td>\n",
              "      <td>F</td>\n",
              "      <td>student</td>\n",
              "      <td>165.0</td>\n",
              "    </tr>\n",
              "    <tr>\n",
              "      <th>1</th>\n",
              "      <td>john</td>\n",
              "      <td>26</td>\n",
              "      <td>M</td>\n",
              "      <td>student</td>\n",
              "      <td>180.0</td>\n",
              "    </tr>\n",
              "    <tr>\n",
              "      <th>2</th>\n",
              "      <td>eric</td>\n",
              "      <td>22</td>\n",
              "      <td>M</td>\n",
              "      <td>student</td>\n",
              "      <td>171.0</td>\n",
              "    </tr>\n",
              "    <tr>\n",
              "      <th>3</th>\n",
              "      <td>paul</td>\n",
              "      <td>58</td>\n",
              "      <td>M</td>\n",
              "      <td>manager</td>\n",
              "      <td>192.0</td>\n",
              "    </tr>\n",
              "    <tr>\n",
              "      <th>4</th>\n",
              "      <td>bill</td>\n",
              "      <td>33</td>\n",
              "      <td>M</td>\n",
              "      <td>engineer</td>\n",
              "      <td>176.6</td>\n",
              "    </tr>\n",
              "    <tr>\n",
              "      <th>5</th>\n",
              "      <td>peter</td>\n",
              "      <td>48</td>\n",
              "      <td>M</td>\n",
              "      <td>CTO</td>\n",
              "      <td>176.6</td>\n",
              "    </tr>\n",
              "    <tr>\n",
              "      <th>6</th>\n",
              "      <td>julie</td>\n",
              "      <td>44</td>\n",
              "      <td>F</td>\n",
              "      <td>CFO</td>\n",
              "      <td>175.0</td>\n",
              "    </tr>\n",
              "    <tr>\n",
              "      <th>7</th>\n",
              "      <td>lucy</td>\n",
              "      <td>52</td>\n",
              "      <td>F</td>\n",
              "      <td>CEO</td>\n",
              "      <td>176.6</td>\n",
              "    </tr>\n",
              "  </tbody>\n",
              "</table>\n",
              "</div>"
            ],
            "text/plain": [
              "    name  age gender       job  height\n",
              "0  alice   19      F   student   165.0\n",
              "1   john   26      M   student   180.0\n",
              "2   eric   22      M   student   171.0\n",
              "3   paul   58      M   manager   192.0\n",
              "4   bill   33      M  engineer   176.6\n",
              "5  peter   48      M       CTO   176.6\n",
              "6  julie   44      F       CFO   175.0\n",
              "7   lucy   52      F       CEO   176.6"
            ]
          },
          "metadata": {
            "tags": []
          },
          "execution_count": 131
        }
      ]
    },
    {
      "cell_type": "markdown",
      "metadata": {
        "id": "OIhtdgi_L99H"
      },
      "source": [
        "<a id='Rename_Columns'></a>\n",
        "## 4.4 Rename Columns"
      ]
    },
    {
      "cell_type": "code",
      "metadata": {
        "id": "lpRzizqPL99H",
        "outputId": "cbfc91b3-1b2a-4c6c-c4cd-24a4a02dfd0d"
      },
      "source": [
        "df = users.copy()\n",
        "print(df.columns)"
      ],
      "execution_count": null,
      "outputs": [
        {
          "output_type": "stream",
          "text": [
            "Index(['name', 'age', 'gender', 'job', 'height'], dtype='object')\n"
          ],
          "name": "stdout"
        }
      ]
    },
    {
      "cell_type": "code",
      "metadata": {
        "id": "8JVAFjRCL99H",
        "outputId": "47561378-99ca-4b6f-db94-f8696cd705bb"
      },
      "source": [
        "df.rename_axis(\"Number\")                  # rename_axis 1"
      ],
      "execution_count": null,
      "outputs": [
        {
          "output_type": "execute_result",
          "data": {
            "text/html": [
              "<div>\n",
              "<style scoped>\n",
              "    .dataframe tbody tr th:only-of-type {\n",
              "        vertical-align: middle;\n",
              "    }\n",
              "\n",
              "    .dataframe tbody tr th {\n",
              "        vertical-align: top;\n",
              "    }\n",
              "\n",
              "    .dataframe thead th {\n",
              "        text-align: right;\n",
              "    }\n",
              "</style>\n",
              "<table border=\"1\" class=\"dataframe\">\n",
              "  <thead>\n",
              "    <tr style=\"text-align: right;\">\n",
              "      <th></th>\n",
              "      <th>name</th>\n",
              "      <th>age</th>\n",
              "      <th>gender</th>\n",
              "      <th>job</th>\n",
              "      <th>height</th>\n",
              "    </tr>\n",
              "    <tr>\n",
              "      <th>Number</th>\n",
              "      <th></th>\n",
              "      <th></th>\n",
              "      <th></th>\n",
              "      <th></th>\n",
              "      <th></th>\n",
              "    </tr>\n",
              "  </thead>\n",
              "  <tbody>\n",
              "    <tr>\n",
              "      <th>0</th>\n",
              "      <td>alice</td>\n",
              "      <td>19</td>\n",
              "      <td>F</td>\n",
              "      <td>student</td>\n",
              "      <td>165.0</td>\n",
              "    </tr>\n",
              "    <tr>\n",
              "      <th>1</th>\n",
              "      <td>john</td>\n",
              "      <td>26</td>\n",
              "      <td>M</td>\n",
              "      <td>student</td>\n",
              "      <td>180.0</td>\n",
              "    </tr>\n",
              "    <tr>\n",
              "      <th>2</th>\n",
              "      <td>eric</td>\n",
              "      <td>22</td>\n",
              "      <td>M</td>\n",
              "      <td>student</td>\n",
              "      <td>171.0</td>\n",
              "    </tr>\n",
              "    <tr>\n",
              "      <th>3</th>\n",
              "      <td>paul</td>\n",
              "      <td>58</td>\n",
              "      <td>M</td>\n",
              "      <td>manager</td>\n",
              "      <td>192.0</td>\n",
              "    </tr>\n",
              "    <tr>\n",
              "      <th>4</th>\n",
              "      <td>bill</td>\n",
              "      <td>33</td>\n",
              "      <td>M</td>\n",
              "      <td>engineer</td>\n",
              "      <td>NaN</td>\n",
              "    </tr>\n",
              "    <tr>\n",
              "      <th>5</th>\n",
              "      <td>peter</td>\n",
              "      <td>48</td>\n",
              "      <td>M</td>\n",
              "      <td>CTO</td>\n",
              "      <td>NaN</td>\n",
              "    </tr>\n",
              "    <tr>\n",
              "      <th>6</th>\n",
              "      <td>julie</td>\n",
              "      <td>44</td>\n",
              "      <td>F</td>\n",
              "      <td>CFO</td>\n",
              "      <td>175.0</td>\n",
              "    </tr>\n",
              "    <tr>\n",
              "      <th>7</th>\n",
              "      <td>lucy</td>\n",
              "      <td>52</td>\n",
              "      <td>F</td>\n",
              "      <td>CEO</td>\n",
              "      <td>NaN</td>\n",
              "    </tr>\n",
              "  </tbody>\n",
              "</table>\n",
              "</div>"
            ],
            "text/plain": [
              "         name  age gender       job  height\n",
              "Number                                     \n",
              "0       alice   19      F   student   165.0\n",
              "1        john   26      M   student   180.0\n",
              "2        eric   22      M   student   171.0\n",
              "3        paul   58      M   manager   192.0\n",
              "4        bill   33      M  engineer     NaN\n",
              "5       peter   48      M       CTO     NaN\n",
              "6       julie   44      F       CFO   175.0\n",
              "7        lucy   52      F       CEO     NaN"
            ]
          },
          "metadata": {
            "tags": []
          },
          "execution_count": 133
        }
      ]
    },
    {
      "cell_type": "code",
      "metadata": {
        "id": "cYkLc65OL99H",
        "outputId": "536d4eec-85b0-4f55-a06b-31be976a0985"
      },
      "source": [
        "df.rename_axis(\"Number\", axis=\"columns\")  # rename_axis 2"
      ],
      "execution_count": null,
      "outputs": [
        {
          "output_type": "execute_result",
          "data": {
            "text/html": [
              "<div>\n",
              "<style scoped>\n",
              "    .dataframe tbody tr th:only-of-type {\n",
              "        vertical-align: middle;\n",
              "    }\n",
              "\n",
              "    .dataframe tbody tr th {\n",
              "        vertical-align: top;\n",
              "    }\n",
              "\n",
              "    .dataframe thead th {\n",
              "        text-align: right;\n",
              "    }\n",
              "</style>\n",
              "<table border=\"1\" class=\"dataframe\">\n",
              "  <thead>\n",
              "    <tr style=\"text-align: right;\">\n",
              "      <th>Number</th>\n",
              "      <th>name</th>\n",
              "      <th>age</th>\n",
              "      <th>gender</th>\n",
              "      <th>job</th>\n",
              "      <th>height</th>\n",
              "    </tr>\n",
              "  </thead>\n",
              "  <tbody>\n",
              "    <tr>\n",
              "      <th>0</th>\n",
              "      <td>alice</td>\n",
              "      <td>19</td>\n",
              "      <td>F</td>\n",
              "      <td>student</td>\n",
              "      <td>165.0</td>\n",
              "    </tr>\n",
              "    <tr>\n",
              "      <th>1</th>\n",
              "      <td>john</td>\n",
              "      <td>26</td>\n",
              "      <td>M</td>\n",
              "      <td>student</td>\n",
              "      <td>180.0</td>\n",
              "    </tr>\n",
              "    <tr>\n",
              "      <th>2</th>\n",
              "      <td>eric</td>\n",
              "      <td>22</td>\n",
              "      <td>M</td>\n",
              "      <td>student</td>\n",
              "      <td>171.0</td>\n",
              "    </tr>\n",
              "    <tr>\n",
              "      <th>3</th>\n",
              "      <td>paul</td>\n",
              "      <td>58</td>\n",
              "      <td>M</td>\n",
              "      <td>manager</td>\n",
              "      <td>192.0</td>\n",
              "    </tr>\n",
              "    <tr>\n",
              "      <th>4</th>\n",
              "      <td>bill</td>\n",
              "      <td>33</td>\n",
              "      <td>M</td>\n",
              "      <td>engineer</td>\n",
              "      <td>NaN</td>\n",
              "    </tr>\n",
              "    <tr>\n",
              "      <th>5</th>\n",
              "      <td>peter</td>\n",
              "      <td>48</td>\n",
              "      <td>M</td>\n",
              "      <td>CTO</td>\n",
              "      <td>NaN</td>\n",
              "    </tr>\n",
              "    <tr>\n",
              "      <th>6</th>\n",
              "      <td>julie</td>\n",
              "      <td>44</td>\n",
              "      <td>F</td>\n",
              "      <td>CFO</td>\n",
              "      <td>175.0</td>\n",
              "    </tr>\n",
              "    <tr>\n",
              "      <th>7</th>\n",
              "      <td>lucy</td>\n",
              "      <td>52</td>\n",
              "      <td>F</td>\n",
              "      <td>CEO</td>\n",
              "      <td>NaN</td>\n",
              "    </tr>\n",
              "  </tbody>\n",
              "</table>\n",
              "</div>"
            ],
            "text/plain": [
              "Number   name  age gender       job  height\n",
              "0       alice   19      F   student   165.0\n",
              "1        john   26      M   student   180.0\n",
              "2        eric   22      M   student   171.0\n",
              "3        paul   58      M   manager   192.0\n",
              "4        bill   33      M  engineer     NaN\n",
              "5       peter   48      M       CTO     NaN\n",
              "6       julie   44      F       CFO   175.0\n",
              "7        lucy   52      F       CEO     NaN"
            ]
          },
          "metadata": {
            "tags": []
          },
          "execution_count": 134
        }
      ]
    },
    {
      "cell_type": "code",
      "metadata": {
        "id": "FdgJhUJML99I",
        "outputId": "f038a355-e6e0-405b-a3b6-4f9848082d01"
      },
      "source": [
        "df.columns = ['First Name', 'Age', 'Sex', 'Occupation', 'Height']  #  Rename column names\n",
        "df"
      ],
      "execution_count": null,
      "outputs": [
        {
          "output_type": "execute_result",
          "data": {
            "text/html": [
              "<div>\n",
              "<style scoped>\n",
              "    .dataframe tbody tr th:only-of-type {\n",
              "        vertical-align: middle;\n",
              "    }\n",
              "\n",
              "    .dataframe tbody tr th {\n",
              "        vertical-align: top;\n",
              "    }\n",
              "\n",
              "    .dataframe thead th {\n",
              "        text-align: right;\n",
              "    }\n",
              "</style>\n",
              "<table border=\"1\" class=\"dataframe\">\n",
              "  <thead>\n",
              "    <tr style=\"text-align: right;\">\n",
              "      <th></th>\n",
              "      <th>First Name</th>\n",
              "      <th>Age</th>\n",
              "      <th>Sex</th>\n",
              "      <th>Occupation</th>\n",
              "      <th>Height</th>\n",
              "    </tr>\n",
              "  </thead>\n",
              "  <tbody>\n",
              "    <tr>\n",
              "      <th>0</th>\n",
              "      <td>alice</td>\n",
              "      <td>19</td>\n",
              "      <td>F</td>\n",
              "      <td>student</td>\n",
              "      <td>165.0</td>\n",
              "    </tr>\n",
              "    <tr>\n",
              "      <th>1</th>\n",
              "      <td>john</td>\n",
              "      <td>26</td>\n",
              "      <td>M</td>\n",
              "      <td>student</td>\n",
              "      <td>180.0</td>\n",
              "    </tr>\n",
              "    <tr>\n",
              "      <th>2</th>\n",
              "      <td>eric</td>\n",
              "      <td>22</td>\n",
              "      <td>M</td>\n",
              "      <td>student</td>\n",
              "      <td>171.0</td>\n",
              "    </tr>\n",
              "    <tr>\n",
              "      <th>3</th>\n",
              "      <td>paul</td>\n",
              "      <td>58</td>\n",
              "      <td>M</td>\n",
              "      <td>manager</td>\n",
              "      <td>192.0</td>\n",
              "    </tr>\n",
              "    <tr>\n",
              "      <th>4</th>\n",
              "      <td>bill</td>\n",
              "      <td>33</td>\n",
              "      <td>M</td>\n",
              "      <td>engineer</td>\n",
              "      <td>NaN</td>\n",
              "    </tr>\n",
              "    <tr>\n",
              "      <th>5</th>\n",
              "      <td>peter</td>\n",
              "      <td>48</td>\n",
              "      <td>M</td>\n",
              "      <td>CTO</td>\n",
              "      <td>NaN</td>\n",
              "    </tr>\n",
              "    <tr>\n",
              "      <th>6</th>\n",
              "      <td>julie</td>\n",
              "      <td>44</td>\n",
              "      <td>F</td>\n",
              "      <td>CFO</td>\n",
              "      <td>175.0</td>\n",
              "    </tr>\n",
              "    <tr>\n",
              "      <th>7</th>\n",
              "      <td>lucy</td>\n",
              "      <td>52</td>\n",
              "      <td>F</td>\n",
              "      <td>CEO</td>\n",
              "      <td>NaN</td>\n",
              "    </tr>\n",
              "  </tbody>\n",
              "</table>\n",
              "</div>"
            ],
            "text/plain": [
              "  First Name  Age Sex Occupation  Height\n",
              "0      alice   19   F    student   165.0\n",
              "1       john   26   M    student   180.0\n",
              "2       eric   22   M    student   171.0\n",
              "3       paul   58   M    manager   192.0\n",
              "4       bill   33   M   engineer     NaN\n",
              "5      peter   48   M        CTO     NaN\n",
              "6      julie   44   F        CFO   175.0\n",
              "7       lucy   52   F        CEO     NaN"
            ]
          },
          "metadata": {
            "tags": []
          },
          "execution_count": 135
        }
      ]
    },
    {
      "cell_type": "code",
      "metadata": {
        "id": "-hUjEoHaL99I",
        "outputId": "cc09bd85-6bba-45f3-83d5-cced757af07b"
      },
      "source": [
        "df2 = df.drop(['Height'], axis='columns')\n",
        "df2.rename({\"Sex\": \"Gender\"}, axis='columns')\n",
        "df2"
      ],
      "execution_count": null,
      "outputs": [
        {
          "output_type": "execute_result",
          "data": {
            "text/html": [
              "<div>\n",
              "<style scoped>\n",
              "    .dataframe tbody tr th:only-of-type {\n",
              "        vertical-align: middle;\n",
              "    }\n",
              "\n",
              "    .dataframe tbody tr th {\n",
              "        vertical-align: top;\n",
              "    }\n",
              "\n",
              "    .dataframe thead th {\n",
              "        text-align: right;\n",
              "    }\n",
              "</style>\n",
              "<table border=\"1\" class=\"dataframe\">\n",
              "  <thead>\n",
              "    <tr style=\"text-align: right;\">\n",
              "      <th></th>\n",
              "      <th>First Name</th>\n",
              "      <th>Age</th>\n",
              "      <th>Sex</th>\n",
              "      <th>Occupation</th>\n",
              "    </tr>\n",
              "  </thead>\n",
              "  <tbody>\n",
              "    <tr>\n",
              "      <th>0</th>\n",
              "      <td>alice</td>\n",
              "      <td>19</td>\n",
              "      <td>F</td>\n",
              "      <td>student</td>\n",
              "    </tr>\n",
              "    <tr>\n",
              "      <th>1</th>\n",
              "      <td>john</td>\n",
              "      <td>26</td>\n",
              "      <td>M</td>\n",
              "      <td>student</td>\n",
              "    </tr>\n",
              "    <tr>\n",
              "      <th>2</th>\n",
              "      <td>eric</td>\n",
              "      <td>22</td>\n",
              "      <td>M</td>\n",
              "      <td>student</td>\n",
              "    </tr>\n",
              "    <tr>\n",
              "      <th>3</th>\n",
              "      <td>paul</td>\n",
              "      <td>58</td>\n",
              "      <td>M</td>\n",
              "      <td>manager</td>\n",
              "    </tr>\n",
              "    <tr>\n",
              "      <th>4</th>\n",
              "      <td>bill</td>\n",
              "      <td>33</td>\n",
              "      <td>M</td>\n",
              "      <td>engineer</td>\n",
              "    </tr>\n",
              "    <tr>\n",
              "      <th>5</th>\n",
              "      <td>peter</td>\n",
              "      <td>48</td>\n",
              "      <td>M</td>\n",
              "      <td>CTO</td>\n",
              "    </tr>\n",
              "    <tr>\n",
              "      <th>6</th>\n",
              "      <td>julie</td>\n",
              "      <td>44</td>\n",
              "      <td>F</td>\n",
              "      <td>CFO</td>\n",
              "    </tr>\n",
              "    <tr>\n",
              "      <th>7</th>\n",
              "      <td>lucy</td>\n",
              "      <td>52</td>\n",
              "      <td>F</td>\n",
              "      <td>CEO</td>\n",
              "    </tr>\n",
              "  </tbody>\n",
              "</table>\n",
              "</div>"
            ],
            "text/plain": [
              "  First Name  Age Sex Occupation\n",
              "0      alice   19   F    student\n",
              "1       john   26   M    student\n",
              "2       eric   22   M    student\n",
              "3       paul   58   M    manager\n",
              "4       bill   33   M   engineer\n",
              "5      peter   48   M        CTO\n",
              "6      julie   44   F        CFO\n",
              "7       lucy   52   F        CEO"
            ]
          },
          "metadata": {
            "tags": []
          },
          "execution_count": 136
        }
      ]
    },
    {
      "cell_type": "code",
      "metadata": {
        "id": "xl8ChTcGL99I",
        "outputId": "1b77ed31-314b-4e72-8ad9-17c334db57b0"
      },
      "source": [
        "df.rename({3: 6, 4: 8}, axis='index')\n",
        "df"
      ],
      "execution_count": null,
      "outputs": [
        {
          "output_type": "execute_result",
          "data": {
            "text/html": [
              "<div>\n",
              "<style scoped>\n",
              "    .dataframe tbody tr th:only-of-type {\n",
              "        vertical-align: middle;\n",
              "    }\n",
              "\n",
              "    .dataframe tbody tr th {\n",
              "        vertical-align: top;\n",
              "    }\n",
              "\n",
              "    .dataframe thead th {\n",
              "        text-align: right;\n",
              "    }\n",
              "</style>\n",
              "<table border=\"1\" class=\"dataframe\">\n",
              "  <thead>\n",
              "    <tr style=\"text-align: right;\">\n",
              "      <th></th>\n",
              "      <th>First Name</th>\n",
              "      <th>Age</th>\n",
              "      <th>Sex</th>\n",
              "      <th>Occupation</th>\n",
              "      <th>Height</th>\n",
              "    </tr>\n",
              "  </thead>\n",
              "  <tbody>\n",
              "    <tr>\n",
              "      <th>0</th>\n",
              "      <td>alice</td>\n",
              "      <td>19</td>\n",
              "      <td>F</td>\n",
              "      <td>student</td>\n",
              "      <td>165.0</td>\n",
              "    </tr>\n",
              "    <tr>\n",
              "      <th>1</th>\n",
              "      <td>john</td>\n",
              "      <td>26</td>\n",
              "      <td>M</td>\n",
              "      <td>student</td>\n",
              "      <td>180.0</td>\n",
              "    </tr>\n",
              "    <tr>\n",
              "      <th>2</th>\n",
              "      <td>eric</td>\n",
              "      <td>22</td>\n",
              "      <td>M</td>\n",
              "      <td>student</td>\n",
              "      <td>171.0</td>\n",
              "    </tr>\n",
              "    <tr>\n",
              "      <th>3</th>\n",
              "      <td>paul</td>\n",
              "      <td>58</td>\n",
              "      <td>M</td>\n",
              "      <td>manager</td>\n",
              "      <td>192.0</td>\n",
              "    </tr>\n",
              "    <tr>\n",
              "      <th>4</th>\n",
              "      <td>bill</td>\n",
              "      <td>33</td>\n",
              "      <td>M</td>\n",
              "      <td>engineer</td>\n",
              "      <td>NaN</td>\n",
              "    </tr>\n",
              "    <tr>\n",
              "      <th>5</th>\n",
              "      <td>peter</td>\n",
              "      <td>48</td>\n",
              "      <td>M</td>\n",
              "      <td>CTO</td>\n",
              "      <td>NaN</td>\n",
              "    </tr>\n",
              "    <tr>\n",
              "      <th>6</th>\n",
              "      <td>julie</td>\n",
              "      <td>44</td>\n",
              "      <td>F</td>\n",
              "      <td>CFO</td>\n",
              "      <td>175.0</td>\n",
              "    </tr>\n",
              "    <tr>\n",
              "      <th>7</th>\n",
              "      <td>lucy</td>\n",
              "      <td>52</td>\n",
              "      <td>F</td>\n",
              "      <td>CEO</td>\n",
              "      <td>NaN</td>\n",
              "    </tr>\n",
              "  </tbody>\n",
              "</table>\n",
              "</div>"
            ],
            "text/plain": [
              "  First Name  Age Sex Occupation  Height\n",
              "0      alice   19   F    student   165.0\n",
              "1       john   26   M    student   180.0\n",
              "2       eric   22   M    student   171.0\n",
              "3       paul   58   M    manager   192.0\n",
              "4       bill   33   M   engineer     NaN\n",
              "5      peter   48   M        CTO     NaN\n",
              "6      julie   44   F        CFO   175.0\n",
              "7       lucy   52   F        CEO     NaN"
            ]
          },
          "metadata": {
            "tags": []
          },
          "execution_count": 137
        }
      ]
    },
    {
      "cell_type": "code",
      "metadata": {
        "id": "jgmxJmiKL99J",
        "outputId": "4cad7c89-c5f6-4573-d718-3ad892f2d2f6"
      },
      "source": [
        "df1 = pd.DataFrame({\"A\": ['1', '2', '3'], \"B\": [4., 5., 6.]})\n",
        "df1.rename(columns={\"A\": \"a\"})"
      ],
      "execution_count": null,
      "outputs": [
        {
          "output_type": "execute_result",
          "data": {
            "text/html": [
              "<div>\n",
              "<style scoped>\n",
              "    .dataframe tbody tr th:only-of-type {\n",
              "        vertical-align: middle;\n",
              "    }\n",
              "\n",
              "    .dataframe tbody tr th {\n",
              "        vertical-align: top;\n",
              "    }\n",
              "\n",
              "    .dataframe thead th {\n",
              "        text-align: right;\n",
              "    }\n",
              "</style>\n",
              "<table border=\"1\" class=\"dataframe\">\n",
              "  <thead>\n",
              "    <tr style=\"text-align: right;\">\n",
              "      <th></th>\n",
              "      <th>a</th>\n",
              "      <th>B</th>\n",
              "    </tr>\n",
              "  </thead>\n",
              "  <tbody>\n",
              "    <tr>\n",
              "      <th>0</th>\n",
              "      <td>1</td>\n",
              "      <td>4.0</td>\n",
              "    </tr>\n",
              "    <tr>\n",
              "      <th>1</th>\n",
              "      <td>2</td>\n",
              "      <td>5.0</td>\n",
              "    </tr>\n",
              "    <tr>\n",
              "      <th>2</th>\n",
              "      <td>3</td>\n",
              "      <td>6.0</td>\n",
              "    </tr>\n",
              "  </tbody>\n",
              "</table>\n",
              "</div>"
            ],
            "text/plain": [
              "   a    B\n",
              "0  1  4.0\n",
              "1  2  5.0\n",
              "2  3  6.0"
            ]
          },
          "metadata": {
            "tags": []
          },
          "execution_count": 138
        }
      ]
    },
    {
      "cell_type": "code",
      "metadata": {
        "id": "Q64tKc69L99J",
        "outputId": "8aee9d50-9201-45bd-a646-e85b15e05d0e"
      },
      "source": [
        "df1.rename(index={0: \"x\", 1: \"y\", 2: \"z\"})"
      ],
      "execution_count": null,
      "outputs": [
        {
          "output_type": "execute_result",
          "data": {
            "text/html": [
              "<div>\n",
              "<style scoped>\n",
              "    .dataframe tbody tr th:only-of-type {\n",
              "        vertical-align: middle;\n",
              "    }\n",
              "\n",
              "    .dataframe tbody tr th {\n",
              "        vertical-align: top;\n",
              "    }\n",
              "\n",
              "    .dataframe thead th {\n",
              "        text-align: right;\n",
              "    }\n",
              "</style>\n",
              "<table border=\"1\" class=\"dataframe\">\n",
              "  <thead>\n",
              "    <tr style=\"text-align: right;\">\n",
              "      <th></th>\n",
              "      <th>A</th>\n",
              "      <th>B</th>\n",
              "    </tr>\n",
              "  </thead>\n",
              "  <tbody>\n",
              "    <tr>\n",
              "      <th>x</th>\n",
              "      <td>1</td>\n",
              "      <td>4.0</td>\n",
              "    </tr>\n",
              "    <tr>\n",
              "      <th>y</th>\n",
              "      <td>2</td>\n",
              "      <td>5.0</td>\n",
              "    </tr>\n",
              "    <tr>\n",
              "      <th>z</th>\n",
              "      <td>3</td>\n",
              "      <td>6.0</td>\n",
              "    </tr>\n",
              "  </tbody>\n",
              "</table>\n",
              "</div>"
            ],
            "text/plain": [
              "   A    B\n",
              "x  1  4.0\n",
              "y  2  5.0\n",
              "z  3  6.0"
            ]
          },
          "metadata": {
            "tags": []
          },
          "execution_count": 139
        }
      ]
    },
    {
      "cell_type": "code",
      "metadata": {
        "id": "UU2NY9L1L99J",
        "outputId": "f3cd48f9-671a-4e15-8d7a-66d64fe47013"
      },
      "source": [
        "df1.rename(str.lower, axis='columns')"
      ],
      "execution_count": null,
      "outputs": [
        {
          "output_type": "execute_result",
          "data": {
            "text/html": [
              "<div>\n",
              "<style scoped>\n",
              "    .dataframe tbody tr th:only-of-type {\n",
              "        vertical-align: middle;\n",
              "    }\n",
              "\n",
              "    .dataframe tbody tr th {\n",
              "        vertical-align: top;\n",
              "    }\n",
              "\n",
              "    .dataframe thead th {\n",
              "        text-align: right;\n",
              "    }\n",
              "</style>\n",
              "<table border=\"1\" class=\"dataframe\">\n",
              "  <thead>\n",
              "    <tr style=\"text-align: right;\">\n",
              "      <th></th>\n",
              "      <th>a</th>\n",
              "      <th>b</th>\n",
              "    </tr>\n",
              "  </thead>\n",
              "  <tbody>\n",
              "    <tr>\n",
              "      <th>0</th>\n",
              "      <td>1</td>\n",
              "      <td>4.0</td>\n",
              "    </tr>\n",
              "    <tr>\n",
              "      <th>1</th>\n",
              "      <td>2</td>\n",
              "      <td>5.0</td>\n",
              "    </tr>\n",
              "    <tr>\n",
              "      <th>2</th>\n",
              "      <td>3</td>\n",
              "      <td>6.0</td>\n",
              "    </tr>\n",
              "  </tbody>\n",
              "</table>\n",
              "</div>"
            ],
            "text/plain": [
              "   a    b\n",
              "0  1  4.0\n",
              "1  2  5.0\n",
              "2  3  6.0"
            ]
          },
          "metadata": {
            "tags": []
          },
          "execution_count": 140
        }
      ]
    },
    {
      "cell_type": "code",
      "metadata": {
        "id": "JIKT7SmZL99K",
        "outputId": "035bbe79-8735-4c5b-84bf-83ae719bc2ad"
      },
      "source": [
        "df1.rename({1: 2, 2: 4}, axis='index')"
      ],
      "execution_count": null,
      "outputs": [
        {
          "output_type": "execute_result",
          "data": {
            "text/html": [
              "<div>\n",
              "<style scoped>\n",
              "    .dataframe tbody tr th:only-of-type {\n",
              "        vertical-align: middle;\n",
              "    }\n",
              "\n",
              "    .dataframe tbody tr th {\n",
              "        vertical-align: top;\n",
              "    }\n",
              "\n",
              "    .dataframe thead th {\n",
              "        text-align: right;\n",
              "    }\n",
              "</style>\n",
              "<table border=\"1\" class=\"dataframe\">\n",
              "  <thead>\n",
              "    <tr style=\"text-align: right;\">\n",
              "      <th></th>\n",
              "      <th>A</th>\n",
              "      <th>B</th>\n",
              "    </tr>\n",
              "  </thead>\n",
              "  <tbody>\n",
              "    <tr>\n",
              "      <th>0</th>\n",
              "      <td>1</td>\n",
              "      <td>4.0</td>\n",
              "    </tr>\n",
              "    <tr>\n",
              "      <th>2</th>\n",
              "      <td>2</td>\n",
              "      <td>5.0</td>\n",
              "    </tr>\n",
              "    <tr>\n",
              "      <th>4</th>\n",
              "      <td>3</td>\n",
              "      <td>6.0</td>\n",
              "    </tr>\n",
              "  </tbody>\n",
              "</table>\n",
              "</div>"
            ],
            "text/plain": [
              "   A    B\n",
              "0  1  4.0\n",
              "2  2  5.0\n",
              "4  3  6.0"
            ]
          },
          "metadata": {
            "tags": []
          },
          "execution_count": 141
        }
      ]
    },
    {
      "cell_type": "markdown",
      "metadata": {
        "id": "CXl2SxmmL99K"
      },
      "source": [
        "<a id='Dealing_with_outliers'></a>\n",
        "##  4.5 Dealing with outliers"
      ]
    },
    {
      "cell_type": "code",
      "metadata": {
        "id": "PJg2kGTiL99K",
        "outputId": "757be7fc-a605-4c12-95a1-9d26a4eee652"
      },
      "source": [
        "#  np.random.normal(loc=0.0, size=1.0, scale=None)\n",
        "#  https://docs.scipy.org/doc/numpy/reference/generated/numpy.random.normal.html\n",
        "size = pd.Series(np.random.normal(loc=175, size=20, scale=10))\n",
        "size"
      ],
      "execution_count": null,
      "outputs": [
        {
          "output_type": "execute_result",
          "data": {
            "text/plain": [
              "0     178.340568\n",
              "1     151.250602\n",
              "2     183.502331\n",
              "3     167.462393\n",
              "4     159.986766\n",
              "5     176.151030\n",
              "6     172.408165\n",
              "7     188.820521\n",
              "8     181.786518\n",
              "9     161.802831\n",
              "10    146.406627\n",
              "11    176.869792\n",
              "12    175.880806\n",
              "13    173.640602\n",
              "14    184.168586\n",
              "15    156.609747\n",
              "16    159.729223\n",
              "17    184.238188\n",
              "18    161.859664\n",
              "19    173.528983\n",
              "dtype: float64"
            ]
          },
          "metadata": {
            "tags": []
          },
          "execution_count": 142
        }
      ]
    },
    {
      "cell_type": "code",
      "metadata": {
        "id": "LusQ7RSpL99L",
        "outputId": "21c5fe43-a1af-422d-d15f-f4ff0800e18d"
      },
      "source": [
        "# Corrupt the first data point\n",
        "size[0] += 1500\n",
        "size"
      ],
      "execution_count": null,
      "outputs": [
        {
          "output_type": "execute_result",
          "data": {
            "text/plain": [
              "0     1678.340568\n",
              "1      151.250602\n",
              "2      183.502331\n",
              "3      167.462393\n",
              "4      159.986766\n",
              "5      176.151030\n",
              "6      172.408165\n",
              "7      188.820521\n",
              "8      181.786518\n",
              "9      161.802831\n",
              "10     146.406627\n",
              "11     176.869792\n",
              "12     175.880806\n",
              "13     173.640602\n",
              "14     184.168586\n",
              "15     156.609747\n",
              "16     159.729223\n",
              "17     184.238188\n",
              "18     161.859664\n",
              "19     173.528983\n",
              "dtype: float64"
            ]
          },
          "metadata": {
            "tags": []
          },
          "execution_count": 143
        }
      ]
    },
    {
      "cell_type": "markdown",
      "metadata": {
        "id": "vkQ0CpKZL99L"
      },
      "source": [
        "### 4.5.1 Based on parametric statistics: use the mean\n",
        "- 假設隨機變數是依據 常態分配 (normal distribution)，利用 平均值 (mean value) 來決定超出 +/- 3 個 標準差 (standard deviation) 之外的數值，即屬於 \"離群值 (outliers)\" \n",
        "    - Probability that a sample lies within 1 sd: 68.27%\n",
        "    - Probability that a sample lies within 2 sd: 95%\n",
        "    - Probability that a sample lies within 3 sd: 99.73% "
      ]
    },
    {
      "cell_type": "code",
      "metadata": {
        "id": "3JfQiW08L99L",
        "outputId": "5c3de4fa-76e9-451a-d5be-3c34ae914ad9"
      },
      "source": [
        "size1 = size.copy()\n",
        "print('mean value = ', size1.mean(), '\\n  std dev. = ', size1.std())"
      ],
      "execution_count": null,
      "outputs": [
        {
          "output_type": "stream",
          "text": [
            "mean value =  245.72219715346765 \n",
            "  std dev. =  337.4109961254855\n"
          ],
          "name": "stdout"
        }
      ]
    },
    {
      "cell_type": "code",
      "metadata": {
        "id": "BPYwIluYL99L",
        "outputId": "0603804a-44f6-4a71-b3d1-c540a51712c1"
      },
      "source": [
        "size1_no_outliers = size1[~((size - size.mean()).abs() > 3 * size.std())]  #  Removing the outlier...\n",
        "size1_no_outliers   #  After removing the first data point"
      ],
      "execution_count": null,
      "outputs": [
        {
          "output_type": "execute_result",
          "data": {
            "text/plain": [
              "1     151.250602\n",
              "2     183.502331\n",
              "3     167.462393\n",
              "4     159.986766\n",
              "5     176.151030\n",
              "6     172.408165\n",
              "7     188.820521\n",
              "8     181.786518\n",
              "9     161.802831\n",
              "10    146.406627\n",
              "11    176.869792\n",
              "12    175.880806\n",
              "13    173.640602\n",
              "14    184.168586\n",
              "15    156.609747\n",
              "16    159.729223\n",
              "17    184.238188\n",
              "18    161.859664\n",
              "19    173.528983\n",
              "dtype: float64"
            ]
          },
          "metadata": {
            "tags": []
          },
          "execution_count": 145
        }
      ]
    },
    {
      "cell_type": "code",
      "metadata": {
        "id": "h2810Zv9L99M",
        "outputId": "67b0cb93-763d-49e3-d625-331c7cff1316"
      },
      "source": [
        "print('mean (no outlier) = ', size1_no_outliers.mean(), \n",
        "      '\\n         std dev. = ', size1_no_outliers.std())"
      ],
      "execution_count": null,
      "outputs": [
        {
          "output_type": "stream",
          "text": [
            "mean (no outlier) =  170.32123026927457 \n",
            "         std dev. =  12.15917379869571\n"
          ],
          "name": "stdout"
        }
      ]
    },
    {
      "cell_type": "markdown",
      "metadata": {
        "id": "5BDOww-ZL99M"
      },
      "source": [
        "### 4.5.2  Based on non-parametric statistics: use the median\n",
        "- 利用 中位數 (median) 來決定資料範圍的最小值與最大值；在超出這個資料範圍之外的數值，將被界定為 \"離群值 (outliers)\""
      ]
    },
    {
      "cell_type": "code",
      "metadata": {
        "id": "AGhwuNfXL99M",
        "outputId": "79117c86-6960-4445-a5aa-ca370a34d7d5"
      },
      "source": [
        "size1   #  Raw data..."
      ],
      "execution_count": null,
      "outputs": [
        {
          "output_type": "execute_result",
          "data": {
            "text/plain": [
              "0     1678.340568\n",
              "1      151.250602\n",
              "2      183.502331\n",
              "3      167.462393\n",
              "4      159.986766\n",
              "5      176.151030\n",
              "6      172.408165\n",
              "7      188.820521\n",
              "8      181.786518\n",
              "9      161.802831\n",
              "10     146.406627\n",
              "11     176.869792\n",
              "12     175.880806\n",
              "13     173.640602\n",
              "14     184.168586\n",
              "15     156.609747\n",
              "16     159.729223\n",
              "17     184.238188\n",
              "18     161.859664\n",
              "19     173.528983\n",
              "dtype: float64"
            ]
          },
          "metadata": {
            "tags": []
          },
          "execution_count": 147
        }
      ]
    },
    {
      "cell_type": "code",
      "metadata": {
        "id": "cdbfnhaSL99M",
        "outputId": "3b0e6f92-64b8-40d0-9883-1cd251a034ff"
      },
      "source": [
        "size1.median()    #  the median value of size1"
      ],
      "execution_count": null,
      "outputs": [
        {
          "output_type": "execute_result",
          "data": {
            "text/plain": [
              "173.58479230142294"
            ]
          },
          "metadata": {
            "tags": []
          },
          "execution_count": 148
        }
      ]
    },
    {
      "cell_type": "code",
      "metadata": {
        "id": "efvb6dYuL99N",
        "outputId": "a69e2265-6f44-4794-82b1-1738280d0993"
      },
      "source": [
        "q1 = size1.quantile(0.25)     # the 1st quartile\n",
        "q3 = size1.quantile(0.75)     # the 3rd quartile\n",
        "iqr = q3-q1                   # Interquartile range\n",
        "range_low  = q1 - 1.5*iqr\n",
        "range_high = q3 + 1.5*iqr\n",
        "size1_range = size1.loc[(size1 > range_low) & (size1 < range_high)]  \n",
        "size1_range"
      ],
      "execution_count": null,
      "outputs": [
        {
          "output_type": "execute_result",
          "data": {
            "text/plain": [
              "1     151.250602\n",
              "2     183.502331\n",
              "3     167.462393\n",
              "4     159.986766\n",
              "5     176.151030\n",
              "6     172.408165\n",
              "7     188.820521\n",
              "8     181.786518\n",
              "9     161.802831\n",
              "10    146.406627\n",
              "11    176.869792\n",
              "12    175.880806\n",
              "13    173.640602\n",
              "14    184.168586\n",
              "15    156.609747\n",
              "16    159.729223\n",
              "17    184.238188\n",
              "18    161.859664\n",
              "19    173.528983\n",
              "dtype: float64"
            ]
          },
          "metadata": {
            "tags": []
          },
          "execution_count": 149
        }
      ]
    },
    {
      "cell_type": "code",
      "metadata": {
        "id": "mWYLxxr8L99N",
        "outputId": "9224818e-8d3a-4c27-8648-498a73f2e077"
      },
      "source": [
        "print(' Min = ', size1_range.min(),\n",
        "      '\\n Max = ', size1_range.max())"
      ],
      "execution_count": null,
      "outputs": [
        {
          "output_type": "stream",
          "text": [
            " Min =  146.40662699367675 \n",
            " Max =  188.82052110911073\n"
          ],
          "name": "stdout"
        }
      ]
    },
    {
      "cell_type": "code",
      "metadata": {
        "id": "Qd82dQeBL99O",
        "outputId": "eba43707-95ec-4560-f00b-ad5126cf0eff"
      },
      "source": [
        "size1_outliers = size1.loc[(size1 < range_low) | (size1 > range_high)]\n",
        "size1_outliers"
      ],
      "execution_count": null,
      "outputs": [
        {
          "output_type": "execute_result",
          "data": {
            "text/plain": [
              "0    1678.340568\n",
              "dtype: float64"
            ]
          },
          "metadata": {
            "tags": []
          },
          "execution_count": 151
        }
      ]
    },
    {
      "cell_type": "markdown",
      "metadata": {
        "id": "qmMAtRAGL99O"
      },
      "source": [
        "<a id='Boxplot'></a>\n",
        "+ ###  Boxplot (盒鬚圖)"
      ]
    },
    {
      "cell_type": "code",
      "metadata": {
        "id": "miB6_7w6L99O",
        "outputId": "2f70c6a4-33e1-4b0e-ff56-146c061c0c90"
      },
      "source": [
        "pd.DataFrame(size1).boxplot()   #  boxplot for size1"
      ],
      "execution_count": null,
      "outputs": [
        {
          "output_type": "execute_result",
          "data": {
            "text/plain": [
              "<AxesSubplot:>"
            ]
          },
          "metadata": {
            "tags": []
          },
          "execution_count": 152
        },
        {
          "output_type": "display_data",
          "data": {
            "image/png": "[encoded data removed]",
            "text/plain": [
              "<Figure size 432x288 with 1 Axes>"
            ]
          },
          "metadata": {
            "tags": [],
            "needs_background": "light"
          }
        }
      ]
    },
    {
      "cell_type": "code",
      "metadata": {
        "id": "bjtY9MLNL99P",
        "outputId": "3011e48b-2a31-4e33-9817-068bef57563e"
      },
      "source": [
        "pd.DataFrame(size1_range).boxplot()   #  boxplot for size1_range (without outliers)"
      ],
      "execution_count": null,
      "outputs": [
        {
          "output_type": "execute_result",
          "data": {
            "text/plain": [
              "<AxesSubplot:>"
            ]
          },
          "metadata": {
            "tags": []
          },
          "execution_count": 153
        },
        {
          "output_type": "display_data",
          "data": {
            "image/png": "[encoded data removed]",
            "text/plain": [
              "<Figure size 432x288 with 1 Axes>"
            ]
          },
          "metadata": {
            "tags": [],
            "needs_background": "light"
          }
        }
      ]
    },
    {
      "cell_type": "markdown",
      "metadata": {
        "id": "9duToEBCL99P"
      },
      "source": [
        "<a id='Histogram'></a>\n",
        "+ ### Histogram (直方圖)"
      ]
    },
    {
      "cell_type": "code",
      "metadata": {
        "id": "s6mbocT9L99P",
        "outputId": "18c3eb6f-d498-4c3c-d669-8e2d8e02461b"
      },
      "source": [
        "size1.hist(bins=100)   #  histogram for size1"
      ],
      "execution_count": null,
      "outputs": [
        {
          "output_type": "execute_result",
          "data": {
            "text/plain": [
              "<AxesSubplot:>"
            ]
          },
          "metadata": {
            "tags": []
          },
          "execution_count": 154
        },
        {
          "output_type": "display_data",
          "data": {
            "image/png": "[encoded data removed]",
            "text/plain": [
              "<Figure size 432x288 with 1 Axes>"
            ]
          },
          "metadata": {
            "tags": [],
            "needs_background": "light"
          }
        }
      ]
    },
    {
      "cell_type": "code",
      "metadata": {
        "id": "mUgcKRdDL99P",
        "outputId": "b4c60473-7bda-45e6-8fb3-7a6fed4cfc97"
      },
      "source": [
        "size1_range.hist(bins=20)   #  histogram for size1_range"
      ],
      "execution_count": null,
      "outputs": [
        {
          "output_type": "execute_result",
          "data": {
            "text/plain": [
              "<AxesSubplot:>"
            ]
          },
          "metadata": {
            "tags": []
          },
          "execution_count": 155
        },
        {
          "output_type": "display_data",
          "data": {
            "image/png": "[encoded data removed]",
            "text/plain": [
              "<Figure size 432x288 with 1 Axes>"
            ]
          },
          "metadata": {
            "tags": [],
            "needs_background": "light"
          }
        }
      ]
    },
    {
      "cell_type": "markdown",
      "metadata": {
        "id": "GEJSeTE9L99Q"
      },
      "source": [
        "<a id='Groupby'></a>\n",
        "## 4.6 Groupby"
      ]
    },
    {
      "cell_type": "code",
      "metadata": {
        "id": "cirT5YorL99Q",
        "outputId": "8c658e91-4c01-4b9c-f102-b20166520430"
      },
      "source": [
        "df = users.copy()\n",
        "df"
      ],
      "execution_count": null,
      "outputs": [
        {
          "output_type": "execute_result",
          "data": {
            "text/html": [
              "<div>\n",
              "<style scoped>\n",
              "    .dataframe tbody tr th:only-of-type {\n",
              "        vertical-align: middle;\n",
              "    }\n",
              "\n",
              "    .dataframe tbody tr th {\n",
              "        vertical-align: top;\n",
              "    }\n",
              "\n",
              "    .dataframe thead th {\n",
              "        text-align: right;\n",
              "    }\n",
              "</style>\n",
              "<table border=\"1\" class=\"dataframe\">\n",
              "  <thead>\n",
              "    <tr style=\"text-align: right;\">\n",
              "      <th></th>\n",
              "      <th>name</th>\n",
              "      <th>age</th>\n",
              "      <th>gender</th>\n",
              "      <th>job</th>\n",
              "      <th>height</th>\n",
              "    </tr>\n",
              "  </thead>\n",
              "  <tbody>\n",
              "    <tr>\n",
              "      <th>0</th>\n",
              "      <td>alice</td>\n",
              "      <td>19</td>\n",
              "      <td>F</td>\n",
              "      <td>student</td>\n",
              "      <td>165.0</td>\n",
              "    </tr>\n",
              "    <tr>\n",
              "      <th>1</th>\n",
              "      <td>john</td>\n",
              "      <td>26</td>\n",
              "      <td>M</td>\n",
              "      <td>student</td>\n",
              "      <td>180.0</td>\n",
              "    </tr>\n",
              "    <tr>\n",
              "      <th>2</th>\n",
              "      <td>eric</td>\n",
              "      <td>22</td>\n",
              "      <td>M</td>\n",
              "      <td>student</td>\n",
              "      <td>171.0</td>\n",
              "    </tr>\n",
              "    <tr>\n",
              "      <th>3</th>\n",
              "      <td>paul</td>\n",
              "      <td>58</td>\n",
              "      <td>M</td>\n",
              "      <td>manager</td>\n",
              "      <td>192.0</td>\n",
              "    </tr>\n",
              "    <tr>\n",
              "      <th>4</th>\n",
              "      <td>bill</td>\n",
              "      <td>33</td>\n",
              "      <td>M</td>\n",
              "      <td>engineer</td>\n",
              "      <td>NaN</td>\n",
              "    </tr>\n",
              "    <tr>\n",
              "      <th>5</th>\n",
              "      <td>peter</td>\n",
              "      <td>48</td>\n",
              "      <td>M</td>\n",
              "      <td>CTO</td>\n",
              "      <td>NaN</td>\n",
              "    </tr>\n",
              "    <tr>\n",
              "      <th>6</th>\n",
              "      <td>julie</td>\n",
              "      <td>44</td>\n",
              "      <td>F</td>\n",
              "      <td>CFO</td>\n",
              "      <td>175.0</td>\n",
              "    </tr>\n",
              "    <tr>\n",
              "      <th>7</th>\n",
              "      <td>lucy</td>\n",
              "      <td>52</td>\n",
              "      <td>F</td>\n",
              "      <td>CEO</td>\n",
              "      <td>NaN</td>\n",
              "    </tr>\n",
              "  </tbody>\n",
              "</table>\n",
              "</div>"
            ],
            "text/plain": [
              "    name  age gender       job  height\n",
              "0  alice   19      F   student   165.0\n",
              "1   john   26      M   student   180.0\n",
              "2   eric   22      M   student   171.0\n",
              "3   paul   58      M   manager   192.0\n",
              "4   bill   33      M  engineer     NaN\n",
              "5  peter   48      M       CTO     NaN\n",
              "6  julie   44      F       CFO   175.0\n",
              "7   lucy   52      F       CEO     NaN"
            ]
          },
          "metadata": {
            "tags": []
          },
          "execution_count": 156
        }
      ]
    },
    {
      "cell_type": "code",
      "metadata": {
        "id": "CNBXjLfGL99R",
        "outputId": "136fa0dd-5325-46ae-c1a4-68b8fb600601"
      },
      "source": [
        "for grp, data in df.groupby(\"job\"):\n",
        "    print('\\n JOB = ', grp)\n",
        "    print(data)"
      ],
      "execution_count": null,
      "outputs": [
        {
          "output_type": "stream",
          "text": [
            "\n",
            " JOB =  CEO\n",
            "   name  age gender  job  height\n",
            "7  lucy   52      F  CEO     NaN\n",
            "\n",
            " JOB =  CFO\n",
            "    name  age gender  job  height\n",
            "6  julie   44      F  CFO   175.0\n",
            "\n",
            " JOB =  CTO\n",
            "    name  age gender  job  height\n",
            "5  peter   48      M  CTO     NaN\n",
            "\n",
            " JOB =  engineer\n",
            "   name  age gender       job  height\n",
            "4  bill   33      M  engineer     NaN\n",
            "\n",
            " JOB =  manager\n",
            "   name  age gender      job  height\n",
            "3  paul   58      M  manager   192.0\n",
            "\n",
            " JOB =  student\n",
            "    name  age gender      job  height\n",
            "0  alice   19      F  student   165.0\n",
            "1   john   26      M  student   180.0\n",
            "2   eric   22      M  student   171.0\n"
          ],
          "name": "stdout"
        }
      ]
    },
    {
      "cell_type": "code",
      "metadata": {
        "id": "xZWXQVtKL99R",
        "outputId": "dae0e434-9270-45a2-ef6a-fc427306f166"
      },
      "source": [
        "df.groupby('job').mean()"
      ],
      "execution_count": null,
      "outputs": [
        {
          "output_type": "execute_result",
          "data": {
            "text/html": [
              "<div>\n",
              "<style scoped>\n",
              "    .dataframe tbody tr th:only-of-type {\n",
              "        vertical-align: middle;\n",
              "    }\n",
              "\n",
              "    .dataframe tbody tr th {\n",
              "        vertical-align: top;\n",
              "    }\n",
              "\n",
              "    .dataframe thead th {\n",
              "        text-align: right;\n",
              "    }\n",
              "</style>\n",
              "<table border=\"1\" class=\"dataframe\">\n",
              "  <thead>\n",
              "    <tr style=\"text-align: right;\">\n",
              "      <th></th>\n",
              "      <th>age</th>\n",
              "      <th>height</th>\n",
              "    </tr>\n",
              "    <tr>\n",
              "      <th>job</th>\n",
              "      <th></th>\n",
              "      <th></th>\n",
              "    </tr>\n",
              "  </thead>\n",
              "  <tbody>\n",
              "    <tr>\n",
              "      <th>CEO</th>\n",
              "      <td>52.000000</td>\n",
              "      <td>NaN</td>\n",
              "    </tr>\n",
              "    <tr>\n",
              "      <th>CFO</th>\n",
              "      <td>44.000000</td>\n",
              "      <td>175.0</td>\n",
              "    </tr>\n",
              "    <tr>\n",
              "      <th>CTO</th>\n",
              "      <td>48.000000</td>\n",
              "      <td>NaN</td>\n",
              "    </tr>\n",
              "    <tr>\n",
              "      <th>engineer</th>\n",
              "      <td>33.000000</td>\n",
              "      <td>NaN</td>\n",
              "    </tr>\n",
              "    <tr>\n",
              "      <th>manager</th>\n",
              "      <td>58.000000</td>\n",
              "      <td>192.0</td>\n",
              "    </tr>\n",
              "    <tr>\n",
              "      <th>student</th>\n",
              "      <td>22.333333</td>\n",
              "      <td>172.0</td>\n",
              "    </tr>\n",
              "  </tbody>\n",
              "</table>\n",
              "</div>"
            ],
            "text/plain": [
              "                age  height\n",
              "job                        \n",
              "CEO       52.000000     NaN\n",
              "CFO       44.000000   175.0\n",
              "CTO       48.000000     NaN\n",
              "engineer  33.000000     NaN\n",
              "manager   58.000000   192.0\n",
              "student   22.333333   172.0"
            ]
          },
          "metadata": {
            "tags": []
          },
          "execution_count": 158
        }
      ]
    },
    {
      "cell_type": "markdown",
      "metadata": {
        "id": "kBlo2cB5L99R"
      },
      "source": [
        "<a id='Pivot_Tables'></a>\n",
        "### 4.7  Pivot Tables (樞紐分析表 或 透視表)"
      ]
    },
    {
      "cell_type": "markdown",
      "metadata": {
        "id": "U1nlGFWtL99S"
      },
      "source": [
        "<a id='Pivot_Tables_using_groupby'></a>\n",
        "+ ### Pivot Tables using Pandas `groupby`"
      ]
    },
    {
      "cell_type": "code",
      "metadata": {
        "id": "tBsez8MqL99S",
        "outputId": "98e2fd12-64df-4b54-cddd-976b7efbe3c7"
      },
      "source": [
        "users"
      ],
      "execution_count": null,
      "outputs": [
        {
          "output_type": "execute_result",
          "data": {
            "text/html": [
              "<div>\n",
              "<style scoped>\n",
              "    .dataframe tbody tr th:only-of-type {\n",
              "        vertical-align: middle;\n",
              "    }\n",
              "\n",
              "    .dataframe tbody tr th {\n",
              "        vertical-align: top;\n",
              "    }\n",
              "\n",
              "    .dataframe thead th {\n",
              "        text-align: right;\n",
              "    }\n",
              "</style>\n",
              "<table border=\"1\" class=\"dataframe\">\n",
              "  <thead>\n",
              "    <tr style=\"text-align: right;\">\n",
              "      <th></th>\n",
              "      <th>name</th>\n",
              "      <th>age</th>\n",
              "      <th>gender</th>\n",
              "      <th>job</th>\n",
              "      <th>height</th>\n",
              "    </tr>\n",
              "  </thead>\n",
              "  <tbody>\n",
              "    <tr>\n",
              "      <th>0</th>\n",
              "      <td>alice</td>\n",
              "      <td>19</td>\n",
              "      <td>F</td>\n",
              "      <td>student</td>\n",
              "      <td>165.0</td>\n",
              "    </tr>\n",
              "    <tr>\n",
              "      <th>1</th>\n",
              "      <td>john</td>\n",
              "      <td>26</td>\n",
              "      <td>M</td>\n",
              "      <td>student</td>\n",
              "      <td>180.0</td>\n",
              "    </tr>\n",
              "    <tr>\n",
              "      <th>2</th>\n",
              "      <td>eric</td>\n",
              "      <td>22</td>\n",
              "      <td>M</td>\n",
              "      <td>student</td>\n",
              "      <td>171.0</td>\n",
              "    </tr>\n",
              "    <tr>\n",
              "      <th>3</th>\n",
              "      <td>paul</td>\n",
              "      <td>58</td>\n",
              "      <td>M</td>\n",
              "      <td>manager</td>\n",
              "      <td>192.0</td>\n",
              "    </tr>\n",
              "    <tr>\n",
              "      <th>4</th>\n",
              "      <td>bill</td>\n",
              "      <td>33</td>\n",
              "      <td>M</td>\n",
              "      <td>engineer</td>\n",
              "      <td>NaN</td>\n",
              "    </tr>\n",
              "    <tr>\n",
              "      <th>5</th>\n",
              "      <td>peter</td>\n",
              "      <td>48</td>\n",
              "      <td>M</td>\n",
              "      <td>CTO</td>\n",
              "      <td>NaN</td>\n",
              "    </tr>\n",
              "    <tr>\n",
              "      <th>6</th>\n",
              "      <td>julie</td>\n",
              "      <td>44</td>\n",
              "      <td>F</td>\n",
              "      <td>CFO</td>\n",
              "      <td>175.0</td>\n",
              "    </tr>\n",
              "    <tr>\n",
              "      <th>7</th>\n",
              "      <td>lucy</td>\n",
              "      <td>52</td>\n",
              "      <td>F</td>\n",
              "      <td>CEO</td>\n",
              "      <td>NaN</td>\n",
              "    </tr>\n",
              "  </tbody>\n",
              "</table>\n",
              "</div>"
            ],
            "text/plain": [
              "    name  age gender       job  height\n",
              "0  alice   19      F   student   165.0\n",
              "1   john   26      M   student   180.0\n",
              "2   eric   22      M   student   171.0\n",
              "3   paul   58      M   manager   192.0\n",
              "4   bill   33      M  engineer     NaN\n",
              "5  peter   48      M       CTO     NaN\n",
              "6  julie   44      F       CFO   175.0\n",
              "7   lucy   52      F       CEO     NaN"
            ]
          },
          "metadata": {
            "tags": []
          },
          "execution_count": 159
        }
      ]
    },
    {
      "cell_type": "code",
      "metadata": {
        "id": "Jw8uTLmzL99S",
        "outputId": "8d5a9606-15ab-49db-fb23-10ebccfcd6bc"
      },
      "source": [
        "users.groupby('gender')[['age']].mean()"
      ],
      "execution_count": null,
      "outputs": [
        {
          "output_type": "execute_result",
          "data": {
            "text/html": [
              "<div>\n",
              "<style scoped>\n",
              "    .dataframe tbody tr th:only-of-type {\n",
              "        vertical-align: middle;\n",
              "    }\n",
              "\n",
              "    .dataframe tbody tr th {\n",
              "        vertical-align: top;\n",
              "    }\n",
              "\n",
              "    .dataframe thead th {\n",
              "        text-align: right;\n",
              "    }\n",
              "</style>\n",
              "<table border=\"1\" class=\"dataframe\">\n",
              "  <thead>\n",
              "    <tr style=\"text-align: right;\">\n",
              "      <th></th>\n",
              "      <th>age</th>\n",
              "    </tr>\n",
              "    <tr>\n",
              "      <th>gender</th>\n",
              "      <th></th>\n",
              "    </tr>\n",
              "  </thead>\n",
              "  <tbody>\n",
              "    <tr>\n",
              "      <th>F</th>\n",
              "      <td>38.333333</td>\n",
              "    </tr>\n",
              "    <tr>\n",
              "      <th>M</th>\n",
              "      <td>37.400000</td>\n",
              "    </tr>\n",
              "  </tbody>\n",
              "</table>\n",
              "</div>"
            ],
            "text/plain": [
              "              age\n",
              "gender           \n",
              "F       38.333333\n",
              "M       37.400000"
            ]
          },
          "metadata": {
            "tags": []
          },
          "execution_count": 160
        }
      ]
    },
    {
      "cell_type": "code",
      "metadata": {
        "id": "wLVwZGgRL99S",
        "outputId": "142a157b-3c4a-4f21-fd04-4097a6b59e10"
      },
      "source": [
        "users.groupby('job')[['gender', 'name']].sum() "
      ],
      "execution_count": null,
      "outputs": [
        {
          "output_type": "execute_result",
          "data": {
            "text/html": [
              "<div>\n",
              "<style scoped>\n",
              "    .dataframe tbody tr th:only-of-type {\n",
              "        vertical-align: middle;\n",
              "    }\n",
              "\n",
              "    .dataframe tbody tr th {\n",
              "        vertical-align: top;\n",
              "    }\n",
              "\n",
              "    .dataframe thead th {\n",
              "        text-align: right;\n",
              "    }\n",
              "</style>\n",
              "<table border=\"1\" class=\"dataframe\">\n",
              "  <thead>\n",
              "    <tr style=\"text-align: right;\">\n",
              "      <th></th>\n",
              "      <th>gender</th>\n",
              "      <th>name</th>\n",
              "    </tr>\n",
              "    <tr>\n",
              "      <th>job</th>\n",
              "      <th></th>\n",
              "      <th></th>\n",
              "    </tr>\n",
              "  </thead>\n",
              "  <tbody>\n",
              "    <tr>\n",
              "      <th>CEO</th>\n",
              "      <td>F</td>\n",
              "      <td>lucy</td>\n",
              "    </tr>\n",
              "    <tr>\n",
              "      <th>CFO</th>\n",
              "      <td>F</td>\n",
              "      <td>julie</td>\n",
              "    </tr>\n",
              "    <tr>\n",
              "      <th>CTO</th>\n",
              "      <td>M</td>\n",
              "      <td>peter</td>\n",
              "    </tr>\n",
              "    <tr>\n",
              "      <th>engineer</th>\n",
              "      <td>M</td>\n",
              "      <td>bill</td>\n",
              "    </tr>\n",
              "    <tr>\n",
              "      <th>manager</th>\n",
              "      <td>M</td>\n",
              "      <td>paul</td>\n",
              "    </tr>\n",
              "    <tr>\n",
              "      <th>student</th>\n",
              "      <td>FMM</td>\n",
              "      <td>alicejohneric</td>\n",
              "    </tr>\n",
              "  </tbody>\n",
              "</table>\n",
              "</div>"
            ],
            "text/plain": [
              "         gender           name\n",
              "job                           \n",
              "CEO           F           lucy\n",
              "CFO           F          julie\n",
              "CTO           M          peter\n",
              "engineer      M           bill\n",
              "manager       M           paul\n",
              "student     FMM  alicejohneric"
            ]
          },
          "metadata": {
            "tags": []
          },
          "execution_count": 161
        }
      ]
    },
    {
      "cell_type": "markdown",
      "metadata": {
        "id": "z9HpaSJUL99T"
      },
      "source": [
        "###  [ Example 4.7.1 ] : Pivot table with `groupby`\n",
        "> **STEP 1 :  Grouping by `gender` and `job`**\n",
        ">\n",
        "> **STEP 2 :  selecting `age`**\n",
        ">\n",
        "> **STEP 3 :  calculating `mean`**"
      ]
    },
    {
      "cell_type": "code",
      "metadata": {
        "id": "AsFXKq5WL99T",
        "outputId": "8813fbac-7af7-4c6b-abcf-ff1657076d69"
      },
      "source": [
        "users.groupby(['gender', 'job'])['age'].mean()"
      ],
      "execution_count": null,
      "outputs": [
        {
          "output_type": "execute_result",
          "data": {
            "text/plain": [
              "gender  job     \n",
              "F       CEO         52\n",
              "        CFO         44\n",
              "        student     19\n",
              "M       CTO         48\n",
              "        engineer    33\n",
              "        manager     58\n",
              "        student     24\n",
              "Name: age, dtype: int64"
            ]
          },
          "metadata": {
            "tags": []
          },
          "execution_count": 162
        }
      ]
    },
    {
      "cell_type": "code",
      "metadata": {
        "id": "ms67bq5PL99T",
        "outputId": "82e609f5-b7fb-4e05-c68f-3103cc843f42"
      },
      "source": [
        "type(users.groupby(['gender', 'job'])['age'].mean())"
      ],
      "execution_count": null,
      "outputs": [
        {
          "output_type": "execute_result",
          "data": {
            "text/plain": [
              "pandas.core.series.Series"
            ]
          },
          "metadata": {
            "tags": []
          },
          "execution_count": 163
        }
      ]
    },
    {
      "cell_type": "markdown",
      "metadata": {
        "id": "FXUnYGFFL99T"
      },
      "source": [
        "> **STEP 4 :  `unstack` _the hierarchical index_**\n",
        "  - in order to show the hidden multidimensionality"
      ]
    },
    {
      "cell_type": "code",
      "metadata": {
        "id": "wDgHydotL99T",
        "outputId": "6a084f07-5fbb-4434-ef4d-db21224d4d12"
      },
      "source": [
        "users.groupby(['gender', 'job'])['age'].mean().unstack()"
      ],
      "execution_count": null,
      "outputs": [
        {
          "output_type": "execute_result",
          "data": {
            "text/html": [
              "<div>\n",
              "<style scoped>\n",
              "    .dataframe tbody tr th:only-of-type {\n",
              "        vertical-align: middle;\n",
              "    }\n",
              "\n",
              "    .dataframe tbody tr th {\n",
              "        vertical-align: top;\n",
              "    }\n",
              "\n",
              "    .dataframe thead th {\n",
              "        text-align: right;\n",
              "    }\n",
              "</style>\n",
              "<table border=\"1\" class=\"dataframe\">\n",
              "  <thead>\n",
              "    <tr style=\"text-align: right;\">\n",
              "      <th>job</th>\n",
              "      <th>CEO</th>\n",
              "      <th>CFO</th>\n",
              "      <th>CTO</th>\n",
              "      <th>engineer</th>\n",
              "      <th>manager</th>\n",
              "      <th>student</th>\n",
              "    </tr>\n",
              "    <tr>\n",
              "      <th>gender</th>\n",
              "      <th></th>\n",
              "      <th></th>\n",
              "      <th></th>\n",
              "      <th></th>\n",
              "      <th></th>\n",
              "      <th></th>\n",
              "    </tr>\n",
              "  </thead>\n",
              "  <tbody>\n",
              "    <tr>\n",
              "      <th>F</th>\n",
              "      <td>52.0</td>\n",
              "      <td>44.0</td>\n",
              "      <td>NaN</td>\n",
              "      <td>NaN</td>\n",
              "      <td>NaN</td>\n",
              "      <td>19.0</td>\n",
              "    </tr>\n",
              "    <tr>\n",
              "      <th>M</th>\n",
              "      <td>NaN</td>\n",
              "      <td>NaN</td>\n",
              "      <td>48.0</td>\n",
              "      <td>33.0</td>\n",
              "      <td>58.0</td>\n",
              "      <td>24.0</td>\n",
              "    </tr>\n",
              "  </tbody>\n",
              "</table>\n",
              "</div>"
            ],
            "text/plain": [
              "job      CEO   CFO   CTO  engineer  manager  student\n",
              "gender                                              \n",
              "F       52.0  44.0   NaN       NaN      NaN     19.0\n",
              "M        NaN   NaN  48.0      33.0     58.0     24.0"
            ]
          },
          "metadata": {
            "tags": []
          },
          "execution_count": 164
        }
      ]
    },
    {
      "cell_type": "markdown",
      "metadata": {
        "id": "g_vf1ndNL99U"
      },
      "source": [
        "###  [ Example 4.7.2 ] : Pivot table with `groupby`\n",
        "> **STEP 1 :  Grouping by** \n",
        ">    1. **`gender`, `name` and `job`**\n",
        ">    2. **`job`, `name` and `gender`**\n",
        ">\n",
        ">\n",
        "> **STEP 2 :  selecting `age` & `height`**\n",
        ">\n",
        "> **STEP 3 :  calculating `mean`**"
      ]
    },
    {
      "cell_type": "code",
      "metadata": {
        "id": "F0GF7-LOL99U",
        "outputId": "8d0d4db2-6108-4962-b722-815c98243d49"
      },
      "source": [
        "users.groupby(['gender', 'name', 'job'])[['age', 'height']].mean()"
      ],
      "execution_count": null,
      "outputs": [
        {
          "output_type": "execute_result",
          "data": {
            "text/html": [
              "<div>\n",
              "<style scoped>\n",
              "    .dataframe tbody tr th:only-of-type {\n",
              "        vertical-align: middle;\n",
              "    }\n",
              "\n",
              "    .dataframe tbody tr th {\n",
              "        vertical-align: top;\n",
              "    }\n",
              "\n",
              "    .dataframe thead th {\n",
              "        text-align: right;\n",
              "    }\n",
              "</style>\n",
              "<table border=\"1\" class=\"dataframe\">\n",
              "  <thead>\n",
              "    <tr style=\"text-align: right;\">\n",
              "      <th></th>\n",
              "      <th></th>\n",
              "      <th></th>\n",
              "      <th>age</th>\n",
              "      <th>height</th>\n",
              "    </tr>\n",
              "    <tr>\n",
              "      <th>gender</th>\n",
              "      <th>name</th>\n",
              "      <th>job</th>\n",
              "      <th></th>\n",
              "      <th></th>\n",
              "    </tr>\n",
              "  </thead>\n",
              "  <tbody>\n",
              "    <tr>\n",
              "      <th rowspan=\"3\" valign=\"top\">F</th>\n",
              "      <th>alice</th>\n",
              "      <th>student</th>\n",
              "      <td>19</td>\n",
              "      <td>165.0</td>\n",
              "    </tr>\n",
              "    <tr>\n",
              "      <th>julie</th>\n",
              "      <th>CFO</th>\n",
              "      <td>44</td>\n",
              "      <td>175.0</td>\n",
              "    </tr>\n",
              "    <tr>\n",
              "      <th>lucy</th>\n",
              "      <th>CEO</th>\n",
              "      <td>52</td>\n",
              "      <td>NaN</td>\n",
              "    </tr>\n",
              "    <tr>\n",
              "      <th rowspan=\"5\" valign=\"top\">M</th>\n",
              "      <th>bill</th>\n",
              "      <th>engineer</th>\n",
              "      <td>33</td>\n",
              "      <td>NaN</td>\n",
              "    </tr>\n",
              "    <tr>\n",
              "      <th>eric</th>\n",
              "      <th>student</th>\n",
              "      <td>22</td>\n",
              "      <td>171.0</td>\n",
              "    </tr>\n",
              "    <tr>\n",
              "      <th>john</th>\n",
              "      <th>student</th>\n",
              "      <td>26</td>\n",
              "      <td>180.0</td>\n",
              "    </tr>\n",
              "    <tr>\n",
              "      <th>paul</th>\n",
              "      <th>manager</th>\n",
              "      <td>58</td>\n",
              "      <td>192.0</td>\n",
              "    </tr>\n",
              "    <tr>\n",
              "      <th>peter</th>\n",
              "      <th>CTO</th>\n",
              "      <td>48</td>\n",
              "      <td>NaN</td>\n",
              "    </tr>\n",
              "  </tbody>\n",
              "</table>\n",
              "</div>"
            ],
            "text/plain": [
              "                       age  height\n",
              "gender name  job                  \n",
              "F      alice student    19   165.0\n",
              "       julie CFO        44   175.0\n",
              "       lucy  CEO        52     NaN\n",
              "M      bill  engineer   33     NaN\n",
              "       eric  student    22   171.0\n",
              "       john  student    26   180.0\n",
              "       paul  manager    58   192.0\n",
              "       peter CTO        48     NaN"
            ]
          },
          "metadata": {
            "tags": []
          },
          "execution_count": 165
        }
      ]
    },
    {
      "cell_type": "code",
      "metadata": {
        "id": "tl2E9dkQL99U",
        "outputId": "069be600-fefd-41c8-d9c4-a78d2cf8526d"
      },
      "source": [
        "users.groupby(['job', 'name', 'gender'])[['age', 'height']].mean()"
      ],
      "execution_count": null,
      "outputs": [
        {
          "output_type": "execute_result",
          "data": {
            "text/html": [
              "<div>\n",
              "<style scoped>\n",
              "    .dataframe tbody tr th:only-of-type {\n",
              "        vertical-align: middle;\n",
              "    }\n",
              "\n",
              "    .dataframe tbody tr th {\n",
              "        vertical-align: top;\n",
              "    }\n",
              "\n",
              "    .dataframe thead th {\n",
              "        text-align: right;\n",
              "    }\n",
              "</style>\n",
              "<table border=\"1\" class=\"dataframe\">\n",
              "  <thead>\n",
              "    <tr style=\"text-align: right;\">\n",
              "      <th></th>\n",
              "      <th></th>\n",
              "      <th></th>\n",
              "      <th>age</th>\n",
              "      <th>height</th>\n",
              "    </tr>\n",
              "    <tr>\n",
              "      <th>job</th>\n",
              "      <th>name</th>\n",
              "      <th>gender</th>\n",
              "      <th></th>\n",
              "      <th></th>\n",
              "    </tr>\n",
              "  </thead>\n",
              "  <tbody>\n",
              "    <tr>\n",
              "      <th>CEO</th>\n",
              "      <th>lucy</th>\n",
              "      <th>F</th>\n",
              "      <td>52</td>\n",
              "      <td>NaN</td>\n",
              "    </tr>\n",
              "    <tr>\n",
              "      <th>CFO</th>\n",
              "      <th>julie</th>\n",
              "      <th>F</th>\n",
              "      <td>44</td>\n",
              "      <td>175.0</td>\n",
              "    </tr>\n",
              "    <tr>\n",
              "      <th>CTO</th>\n",
              "      <th>peter</th>\n",
              "      <th>M</th>\n",
              "      <td>48</td>\n",
              "      <td>NaN</td>\n",
              "    </tr>\n",
              "    <tr>\n",
              "      <th>engineer</th>\n",
              "      <th>bill</th>\n",
              "      <th>M</th>\n",
              "      <td>33</td>\n",
              "      <td>NaN</td>\n",
              "    </tr>\n",
              "    <tr>\n",
              "      <th>manager</th>\n",
              "      <th>paul</th>\n",
              "      <th>M</th>\n",
              "      <td>58</td>\n",
              "      <td>192.0</td>\n",
              "    </tr>\n",
              "    <tr>\n",
              "      <th rowspan=\"3\" valign=\"top\">student</th>\n",
              "      <th>alice</th>\n",
              "      <th>F</th>\n",
              "      <td>19</td>\n",
              "      <td>165.0</td>\n",
              "    </tr>\n",
              "    <tr>\n",
              "      <th>eric</th>\n",
              "      <th>M</th>\n",
              "      <td>22</td>\n",
              "      <td>171.0</td>\n",
              "    </tr>\n",
              "    <tr>\n",
              "      <th>john</th>\n",
              "      <th>M</th>\n",
              "      <td>26</td>\n",
              "      <td>180.0</td>\n",
              "    </tr>\n",
              "  </tbody>\n",
              "</table>\n",
              "</div>"
            ],
            "text/plain": [
              "                       age  height\n",
              "job      name  gender             \n",
              "CEO      lucy  F        52     NaN\n",
              "CFO      julie F        44   175.0\n",
              "CTO      peter M        48     NaN\n",
              "engineer bill  M        33     NaN\n",
              "manager  paul  M        58   192.0\n",
              "student  alice F        19   165.0\n",
              "         eric  M        22   171.0\n",
              "         john  M        26   180.0"
            ]
          },
          "metadata": {
            "tags": []
          },
          "execution_count": 166
        }
      ]
    },
    {
      "cell_type": "markdown",
      "metadata": {
        "id": "IKHi8MwbL99U"
      },
      "source": [
        "> **STEP 4 :  `unstack`**"
      ]
    },
    {
      "cell_type": "code",
      "metadata": {
        "id": "x8xqhcpUL99U",
        "outputId": "2287386c-e1e9-4e44-ed6d-4ab64906563a"
      },
      "source": [
        "users.groupby(['gender', 'name', 'job'])[['age', 'height']].mean().unstack()"
      ],
      "execution_count": null,
      "outputs": [
        {
          "output_type": "execute_result",
          "data": {
            "text/html": [
              "<div>\n",
              "<style scoped>\n",
              "    .dataframe tbody tr th:only-of-type {\n",
              "        vertical-align: middle;\n",
              "    }\n",
              "\n",
              "    .dataframe tbody tr th {\n",
              "        vertical-align: top;\n",
              "    }\n",
              "\n",
              "    .dataframe thead tr th {\n",
              "        text-align: left;\n",
              "    }\n",
              "\n",
              "    .dataframe thead tr:last-of-type th {\n",
              "        text-align: right;\n",
              "    }\n",
              "</style>\n",
              "<table border=\"1\" class=\"dataframe\">\n",
              "  <thead>\n",
              "    <tr>\n",
              "      <th></th>\n",
              "      <th></th>\n",
              "      <th colspan=\"6\" halign=\"left\">age</th>\n",
              "      <th colspan=\"6\" halign=\"left\">height</th>\n",
              "    </tr>\n",
              "    <tr>\n",
              "      <th></th>\n",
              "      <th>job</th>\n",
              "      <th>CEO</th>\n",
              "      <th>CFO</th>\n",
              "      <th>CTO</th>\n",
              "      <th>engineer</th>\n",
              "      <th>manager</th>\n",
              "      <th>student</th>\n",
              "      <th>CEO</th>\n",
              "      <th>CFO</th>\n",
              "      <th>CTO</th>\n",
              "      <th>engineer</th>\n",
              "      <th>manager</th>\n",
              "      <th>student</th>\n",
              "    </tr>\n",
              "    <tr>\n",
              "      <th>gender</th>\n",
              "      <th>name</th>\n",
              "      <th></th>\n",
              "      <th></th>\n",
              "      <th></th>\n",
              "      <th></th>\n",
              "      <th></th>\n",
              "      <th></th>\n",
              "      <th></th>\n",
              "      <th></th>\n",
              "      <th></th>\n",
              "      <th></th>\n",
              "      <th></th>\n",
              "      <th></th>\n",
              "    </tr>\n",
              "  </thead>\n",
              "  <tbody>\n",
              "    <tr>\n",
              "      <th rowspan=\"3\" valign=\"top\">F</th>\n",
              "      <th>alice</th>\n",
              "      <td>NaN</td>\n",
              "      <td>NaN</td>\n",
              "      <td>NaN</td>\n",
              "      <td>NaN</td>\n",
              "      <td>NaN</td>\n",
              "      <td>19.0</td>\n",
              "      <td>NaN</td>\n",
              "      <td>NaN</td>\n",
              "      <td>NaN</td>\n",
              "      <td>NaN</td>\n",
              "      <td>NaN</td>\n",
              "      <td>165.0</td>\n",
              "    </tr>\n",
              "    <tr>\n",
              "      <th>julie</th>\n",
              "      <td>NaN</td>\n",
              "      <td>44.0</td>\n",
              "      <td>NaN</td>\n",
              "      <td>NaN</td>\n",
              "      <td>NaN</td>\n",
              "      <td>NaN</td>\n",
              "      <td>NaN</td>\n",
              "      <td>175.0</td>\n",
              "      <td>NaN</td>\n",
              "      <td>NaN</td>\n",
              "      <td>NaN</td>\n",
              "      <td>NaN</td>\n",
              "    </tr>\n",
              "    <tr>\n",
              "      <th>lucy</th>\n",
              "      <td>52.0</td>\n",
              "      <td>NaN</td>\n",
              "      <td>NaN</td>\n",
              "      <td>NaN</td>\n",
              "      <td>NaN</td>\n",
              "      <td>NaN</td>\n",
              "      <td>NaN</td>\n",
              "      <td>NaN</td>\n",
              "      <td>NaN</td>\n",
              "      <td>NaN</td>\n",
              "      <td>NaN</td>\n",
              "      <td>NaN</td>\n",
              "    </tr>\n",
              "    <tr>\n",
              "      <th rowspan=\"5\" valign=\"top\">M</th>\n",
              "      <th>bill</th>\n",
              "      <td>NaN</td>\n",
              "      <td>NaN</td>\n",
              "      <td>NaN</td>\n",
              "      <td>33.0</td>\n",
              "      <td>NaN</td>\n",
              "      <td>NaN</td>\n",
              "      <td>NaN</td>\n",
              "      <td>NaN</td>\n",
              "      <td>NaN</td>\n",
              "      <td>NaN</td>\n",
              "      <td>NaN</td>\n",
              "      <td>NaN</td>\n",
              "    </tr>\n",
              "    <tr>\n",
              "      <th>eric</th>\n",
              "      <td>NaN</td>\n",
              "      <td>NaN</td>\n",
              "      <td>NaN</td>\n",
              "      <td>NaN</td>\n",
              "      <td>NaN</td>\n",
              "      <td>22.0</td>\n",
              "      <td>NaN</td>\n",
              "      <td>NaN</td>\n",
              "      <td>NaN</td>\n",
              "      <td>NaN</td>\n",
              "      <td>NaN</td>\n",
              "      <td>171.0</td>\n",
              "    </tr>\n",
              "    <tr>\n",
              "      <th>john</th>\n",
              "      <td>NaN</td>\n",
              "      <td>NaN</td>\n",
              "      <td>NaN</td>\n",
              "      <td>NaN</td>\n",
              "      <td>NaN</td>\n",
              "      <td>26.0</td>\n",
              "      <td>NaN</td>\n",
              "      <td>NaN</td>\n",
              "      <td>NaN</td>\n",
              "      <td>NaN</td>\n",
              "      <td>NaN</td>\n",
              "      <td>180.0</td>\n",
              "    </tr>\n",
              "    <tr>\n",
              "      <th>paul</th>\n",
              "      <td>NaN</td>\n",
              "      <td>NaN</td>\n",
              "      <td>NaN</td>\n",
              "      <td>NaN</td>\n",
              "      <td>58.0</td>\n",
              "      <td>NaN</td>\n",
              "      <td>NaN</td>\n",
              "      <td>NaN</td>\n",
              "      <td>NaN</td>\n",
              "      <td>NaN</td>\n",
              "      <td>192.0</td>\n",
              "      <td>NaN</td>\n",
              "    </tr>\n",
              "    <tr>\n",
              "      <th>peter</th>\n",
              "      <td>NaN</td>\n",
              "      <td>NaN</td>\n",
              "      <td>48.0</td>\n",
              "      <td>NaN</td>\n",
              "      <td>NaN</td>\n",
              "      <td>NaN</td>\n",
              "      <td>NaN</td>\n",
              "      <td>NaN</td>\n",
              "      <td>NaN</td>\n",
              "      <td>NaN</td>\n",
              "      <td>NaN</td>\n",
              "      <td>NaN</td>\n",
              "    </tr>\n",
              "  </tbody>\n",
              "</table>\n",
              "</div>"
            ],
            "text/plain": [
              "               age                                      height             \\\n",
              "job            CEO   CFO   CTO engineer manager student    CEO    CFO CTO   \n",
              "gender name                                                                 \n",
              "F      alice   NaN   NaN   NaN      NaN     NaN    19.0    NaN    NaN NaN   \n",
              "       julie   NaN  44.0   NaN      NaN     NaN     NaN    NaN  175.0 NaN   \n",
              "       lucy   52.0   NaN   NaN      NaN     NaN     NaN    NaN    NaN NaN   \n",
              "M      bill    NaN   NaN   NaN     33.0     NaN     NaN    NaN    NaN NaN   \n",
              "       eric    NaN   NaN   NaN      NaN     NaN    22.0    NaN    NaN NaN   \n",
              "       john    NaN   NaN   NaN      NaN     NaN    26.0    NaN    NaN NaN   \n",
              "       paul    NaN   NaN   NaN      NaN    58.0     NaN    NaN    NaN NaN   \n",
              "       peter   NaN   NaN  48.0      NaN     NaN     NaN    NaN    NaN NaN   \n",
              "\n",
              "                                       \n",
              "job          engineer manager student  \n",
              "gender name                            \n",
              "F      alice      NaN     NaN   165.0  \n",
              "       julie      NaN     NaN     NaN  \n",
              "       lucy       NaN     NaN     NaN  \n",
              "M      bill       NaN     NaN     NaN  \n",
              "       eric       NaN     NaN   171.0  \n",
              "       john       NaN     NaN   180.0  \n",
              "       paul       NaN   192.0     NaN  \n",
              "       peter      NaN     NaN     NaN  "
            ]
          },
          "metadata": {
            "tags": []
          },
          "execution_count": 167
        }
      ]
    },
    {
      "cell_type": "code",
      "metadata": {
        "id": "jAcBCu9tL99V",
        "outputId": "5f3d6da5-547b-4b42-f6ae-47bad9fe60d4"
      },
      "source": [
        "users.groupby(['job', 'name', 'gender'])[['age', 'height']].mean().unstack()"
      ],
      "execution_count": null,
      "outputs": [
        {
          "output_type": "execute_result",
          "data": {
            "text/html": [
              "<div>\n",
              "<style scoped>\n",
              "    .dataframe tbody tr th:only-of-type {\n",
              "        vertical-align: middle;\n",
              "    }\n",
              "\n",
              "    .dataframe tbody tr th {\n",
              "        vertical-align: top;\n",
              "    }\n",
              "\n",
              "    .dataframe thead tr th {\n",
              "        text-align: left;\n",
              "    }\n",
              "\n",
              "    .dataframe thead tr:last-of-type th {\n",
              "        text-align: right;\n",
              "    }\n",
              "</style>\n",
              "<table border=\"1\" class=\"dataframe\">\n",
              "  <thead>\n",
              "    <tr>\n",
              "      <th></th>\n",
              "      <th></th>\n",
              "      <th colspan=\"2\" halign=\"left\">age</th>\n",
              "      <th colspan=\"2\" halign=\"left\">height</th>\n",
              "    </tr>\n",
              "    <tr>\n",
              "      <th></th>\n",
              "      <th>gender</th>\n",
              "      <th>F</th>\n",
              "      <th>M</th>\n",
              "      <th>F</th>\n",
              "      <th>M</th>\n",
              "    </tr>\n",
              "    <tr>\n",
              "      <th>job</th>\n",
              "      <th>name</th>\n",
              "      <th></th>\n",
              "      <th></th>\n",
              "      <th></th>\n",
              "      <th></th>\n",
              "    </tr>\n",
              "  </thead>\n",
              "  <tbody>\n",
              "    <tr>\n",
              "      <th>CEO</th>\n",
              "      <th>lucy</th>\n",
              "      <td>52.0</td>\n",
              "      <td>NaN</td>\n",
              "      <td>NaN</td>\n",
              "      <td>NaN</td>\n",
              "    </tr>\n",
              "    <tr>\n",
              "      <th>CFO</th>\n",
              "      <th>julie</th>\n",
              "      <td>44.0</td>\n",
              "      <td>NaN</td>\n",
              "      <td>175.0</td>\n",
              "      <td>NaN</td>\n",
              "    </tr>\n",
              "    <tr>\n",
              "      <th>CTO</th>\n",
              "      <th>peter</th>\n",
              "      <td>NaN</td>\n",
              "      <td>48.0</td>\n",
              "      <td>NaN</td>\n",
              "      <td>NaN</td>\n",
              "    </tr>\n",
              "    <tr>\n",
              "      <th>engineer</th>\n",
              "      <th>bill</th>\n",
              "      <td>NaN</td>\n",
              "      <td>33.0</td>\n",
              "      <td>NaN</td>\n",
              "      <td>NaN</td>\n",
              "    </tr>\n",
              "    <tr>\n",
              "      <th>manager</th>\n",
              "      <th>paul</th>\n",
              "      <td>NaN</td>\n",
              "      <td>58.0</td>\n",
              "      <td>NaN</td>\n",
              "      <td>192.0</td>\n",
              "    </tr>\n",
              "    <tr>\n",
              "      <th rowspan=\"3\" valign=\"top\">student</th>\n",
              "      <th>alice</th>\n",
              "      <td>19.0</td>\n",
              "      <td>NaN</td>\n",
              "      <td>165.0</td>\n",
              "      <td>NaN</td>\n",
              "    </tr>\n",
              "    <tr>\n",
              "      <th>eric</th>\n",
              "      <td>NaN</td>\n",
              "      <td>22.0</td>\n",
              "      <td>NaN</td>\n",
              "      <td>171.0</td>\n",
              "    </tr>\n",
              "    <tr>\n",
              "      <th>john</th>\n",
              "      <td>NaN</td>\n",
              "      <td>26.0</td>\n",
              "      <td>NaN</td>\n",
              "      <td>180.0</td>\n",
              "    </tr>\n",
              "  </tbody>\n",
              "</table>\n",
              "</div>"
            ],
            "text/plain": [
              "                 age       height       \n",
              "gender             F     M      F      M\n",
              "job      name                           \n",
              "CEO      lucy   52.0   NaN    NaN    NaN\n",
              "CFO      julie  44.0   NaN  175.0    NaN\n",
              "CTO      peter   NaN  48.0    NaN    NaN\n",
              "engineer bill    NaN  33.0    NaN    NaN\n",
              "manager  paul    NaN  58.0    NaN  192.0\n",
              "student  alice  19.0   NaN  165.0    NaN\n",
              "         eric    NaN  22.0    NaN  171.0\n",
              "         john    NaN  26.0    NaN  180.0"
            ]
          },
          "metadata": {
            "tags": []
          },
          "execution_count": 168
        }
      ]
    },
    {
      "cell_type": "markdown",
      "metadata": {
        "id": "s5ax2-z6L99V"
      },
      "source": [
        "<a id='Pivot_Tables_using_pivot_table'></a>\n",
        "+ ### Pivot Tables using Pandas `pivot_table`\n",
        "> -  `pivot_table` : **Numeric types to aggregate**\n",
        "----------------\n",
        "```python\n",
        "# call signature as of Pandas 1.1.4\n",
        "DataFrame.pivot_table(data, values=None, index=None, columns=None, \n",
        "                      aggfunc='mean', fill_value=None, margins=False, \n",
        "                      dropna=True, margins_name='All', observed=False)\n",
        "```\n",
        "----------------"
      ]
    },
    {
      "cell_type": "code",
      "metadata": {
        "id": "at80FDMaL99V",
        "outputId": "8abbeee0-17b2-4c9a-b0a1-f2a9b1ba7c27"
      },
      "source": [
        "# users.groupby('gender')[['age']].mean()\n",
        "#  is equivalent to the following usage:\n",
        "\n",
        "users.pivot_table('age', index='gender')"
      ],
      "execution_count": null,
      "outputs": [
        {
          "output_type": "execute_result",
          "data": {
            "text/html": [
              "<div>\n",
              "<style scoped>\n",
              "    .dataframe tbody tr th:only-of-type {\n",
              "        vertical-align: middle;\n",
              "    }\n",
              "\n",
              "    .dataframe tbody tr th {\n",
              "        vertical-align: top;\n",
              "    }\n",
              "\n",
              "    .dataframe thead th {\n",
              "        text-align: right;\n",
              "    }\n",
              "</style>\n",
              "<table border=\"1\" class=\"dataframe\">\n",
              "  <thead>\n",
              "    <tr style=\"text-align: right;\">\n",
              "      <th></th>\n",
              "      <th>age</th>\n",
              "    </tr>\n",
              "    <tr>\n",
              "      <th>gender</th>\n",
              "      <th></th>\n",
              "    </tr>\n",
              "  </thead>\n",
              "  <tbody>\n",
              "    <tr>\n",
              "      <th>F</th>\n",
              "      <td>38.333333</td>\n",
              "    </tr>\n",
              "    <tr>\n",
              "      <th>M</th>\n",
              "      <td>37.400000</td>\n",
              "    </tr>\n",
              "  </tbody>\n",
              "</table>\n",
              "</div>"
            ],
            "text/plain": [
              "              age\n",
              "gender           \n",
              "F       38.333333\n",
              "M       37.400000"
            ]
          },
          "metadata": {
            "tags": []
          },
          "execution_count": 169
        }
      ]
    },
    {
      "cell_type": "code",
      "metadata": {
        "id": "vy7rQUJVL99V",
        "outputId": "9a27fc77-8a18-44cd-8f34-8a637910005e"
      },
      "source": [
        "# [ Example 1 ]:\n",
        "#   users.groupby(['gender', 'job'])['age'].mean().unstack()  \n",
        "\n",
        "users.pivot_table('age', index='gender', columns='job')"
      ],
      "execution_count": null,
      "outputs": [
        {
          "output_type": "execute_result",
          "data": {
            "text/html": [
              "<div>\n",
              "<style scoped>\n",
              "    .dataframe tbody tr th:only-of-type {\n",
              "        vertical-align: middle;\n",
              "    }\n",
              "\n",
              "    .dataframe tbody tr th {\n",
              "        vertical-align: top;\n",
              "    }\n",
              "\n",
              "    .dataframe thead th {\n",
              "        text-align: right;\n",
              "    }\n",
              "</style>\n",
              "<table border=\"1\" class=\"dataframe\">\n",
              "  <thead>\n",
              "    <tr style=\"text-align: right;\">\n",
              "      <th>job</th>\n",
              "      <th>CEO</th>\n",
              "      <th>CFO</th>\n",
              "      <th>CTO</th>\n",
              "      <th>engineer</th>\n",
              "      <th>manager</th>\n",
              "      <th>student</th>\n",
              "    </tr>\n",
              "    <tr>\n",
              "      <th>gender</th>\n",
              "      <th></th>\n",
              "      <th></th>\n",
              "      <th></th>\n",
              "      <th></th>\n",
              "      <th></th>\n",
              "      <th></th>\n",
              "    </tr>\n",
              "  </thead>\n",
              "  <tbody>\n",
              "    <tr>\n",
              "      <th>F</th>\n",
              "      <td>52.0</td>\n",
              "      <td>44.0</td>\n",
              "      <td>NaN</td>\n",
              "      <td>NaN</td>\n",
              "      <td>NaN</td>\n",
              "      <td>19.0</td>\n",
              "    </tr>\n",
              "    <tr>\n",
              "      <th>M</th>\n",
              "      <td>NaN</td>\n",
              "      <td>NaN</td>\n",
              "      <td>48.0</td>\n",
              "      <td>33.0</td>\n",
              "      <td>58.0</td>\n",
              "      <td>24.0</td>\n",
              "    </tr>\n",
              "  </tbody>\n",
              "</table>\n",
              "</div>"
            ],
            "text/plain": [
              "job      CEO   CFO   CTO  engineer  manager  student\n",
              "gender                                              \n",
              "F       52.0  44.0   NaN       NaN      NaN     19.0\n",
              "M        NaN   NaN  48.0      33.0     58.0     24.0"
            ]
          },
          "metadata": {
            "tags": []
          },
          "execution_count": 170
        }
      ]
    },
    {
      "cell_type": "markdown",
      "metadata": {
        "id": "NMB3lqv8L99W"
      },
      "source": [
        "> + **Multi-level Pivot Tables**"
      ]
    },
    {
      "cell_type": "code",
      "metadata": {
        "id": "VlIeRr67L99W",
        "outputId": "b0145c14-2faf-4822-cfdc-b33465f1ae4f"
      },
      "source": [
        "periods = pd.cut(users['age'], [0, 20, 40, 60])\n",
        "users.pivot_table('height', ['gender', periods], 'job')"
      ],
      "execution_count": null,
      "outputs": [
        {
          "output_type": "execute_result",
          "data": {
            "text/html": [
              "<div>\n",
              "<style scoped>\n",
              "    .dataframe tbody tr th:only-of-type {\n",
              "        vertical-align: middle;\n",
              "    }\n",
              "\n",
              "    .dataframe tbody tr th {\n",
              "        vertical-align: top;\n",
              "    }\n",
              "\n",
              "    .dataframe thead th {\n",
              "        text-align: right;\n",
              "    }\n",
              "</style>\n",
              "<table border=\"1\" class=\"dataframe\">\n",
              "  <thead>\n",
              "    <tr style=\"text-align: right;\">\n",
              "      <th></th>\n",
              "      <th>job</th>\n",
              "      <th>CFO</th>\n",
              "      <th>manager</th>\n",
              "      <th>student</th>\n",
              "    </tr>\n",
              "    <tr>\n",
              "      <th>gender</th>\n",
              "      <th>age</th>\n",
              "      <th></th>\n",
              "      <th></th>\n",
              "      <th></th>\n",
              "    </tr>\n",
              "  </thead>\n",
              "  <tbody>\n",
              "    <tr>\n",
              "      <th rowspan=\"2\" valign=\"top\">F</th>\n",
              "      <th>(0, 20]</th>\n",
              "      <td>NaN</td>\n",
              "      <td>NaN</td>\n",
              "      <td>165.0</td>\n",
              "    </tr>\n",
              "    <tr>\n",
              "      <th>(40, 60]</th>\n",
              "      <td>175.0</td>\n",
              "      <td>NaN</td>\n",
              "      <td>NaN</td>\n",
              "    </tr>\n",
              "    <tr>\n",
              "      <th rowspan=\"2\" valign=\"top\">M</th>\n",
              "      <th>(20, 40]</th>\n",
              "      <td>NaN</td>\n",
              "      <td>NaN</td>\n",
              "      <td>175.5</td>\n",
              "    </tr>\n",
              "    <tr>\n",
              "      <th>(40, 60]</th>\n",
              "      <td>NaN</td>\n",
              "      <td>192.0</td>\n",
              "      <td>NaN</td>\n",
              "    </tr>\n",
              "  </tbody>\n",
              "</table>\n",
              "</div>"
            ],
            "text/plain": [
              "job                CFO  manager  student\n",
              "gender age                              \n",
              "F      (0, 20]     NaN      NaN    165.0\n",
              "       (40, 60]  175.0      NaN      NaN\n",
              "M      (20, 40]    NaN      NaN    175.5\n",
              "       (40, 60]    NaN    192.0      NaN"
            ]
          },
          "metadata": {
            "tags": []
          },
          "execution_count": 171
        }
      ]
    },
    {
      "cell_type": "markdown",
      "metadata": {
        "id": "hdaiByreL99W"
      },
      "source": [
        "+ **using `pd.qcut` to automatically compute quantiles**"
      ]
    },
    {
      "cell_type": "code",
      "metadata": {
        "id": "CnAiE49TL99W",
        "outputId": "e6684d12-9566-477c-8a5c-8f1ab5286bf6"
      },
      "source": [
        "quantiles = pd.qcut(users['age'], 3)\n",
        "users.pivot_table('height', ['gender', 'name'], [quantiles, 'job'])"
      ],
      "execution_count": null,
      "outputs": [
        {
          "output_type": "execute_result",
          "data": {
            "text/html": [
              "<div>\n",
              "<style scoped>\n",
              "    .dataframe tbody tr th:only-of-type {\n",
              "        vertical-align: middle;\n",
              "    }\n",
              "\n",
              "    .dataframe tbody tr th {\n",
              "        vertical-align: top;\n",
              "    }\n",
              "\n",
              "    .dataframe thead tr th {\n",
              "        text-align: left;\n",
              "    }\n",
              "\n",
              "    .dataframe thead tr:last-of-type th {\n",
              "        text-align: right;\n",
              "    }\n",
              "</style>\n",
              "<table border=\"1\" class=\"dataframe\">\n",
              "  <thead>\n",
              "    <tr>\n",
              "      <th></th>\n",
              "      <th>age</th>\n",
              "      <th>(18.999, 28.333]</th>\n",
              "      <th>(28.333, 46.667]</th>\n",
              "      <th>(46.667, 58.0]</th>\n",
              "    </tr>\n",
              "    <tr>\n",
              "      <th></th>\n",
              "      <th>job</th>\n",
              "      <th>student</th>\n",
              "      <th>CFO</th>\n",
              "      <th>manager</th>\n",
              "    </tr>\n",
              "    <tr>\n",
              "      <th>gender</th>\n",
              "      <th>name</th>\n",
              "      <th></th>\n",
              "      <th></th>\n",
              "      <th></th>\n",
              "    </tr>\n",
              "  </thead>\n",
              "  <tbody>\n",
              "    <tr>\n",
              "      <th rowspan=\"2\" valign=\"top\">F</th>\n",
              "      <th>alice</th>\n",
              "      <td>165.0</td>\n",
              "      <td>NaN</td>\n",
              "      <td>NaN</td>\n",
              "    </tr>\n",
              "    <tr>\n",
              "      <th>julie</th>\n",
              "      <td>NaN</td>\n",
              "      <td>175.0</td>\n",
              "      <td>NaN</td>\n",
              "    </tr>\n",
              "    <tr>\n",
              "      <th rowspan=\"3\" valign=\"top\">M</th>\n",
              "      <th>eric</th>\n",
              "      <td>171.0</td>\n",
              "      <td>NaN</td>\n",
              "      <td>NaN</td>\n",
              "    </tr>\n",
              "    <tr>\n",
              "      <th>john</th>\n",
              "      <td>180.0</td>\n",
              "      <td>NaN</td>\n",
              "      <td>NaN</td>\n",
              "    </tr>\n",
              "    <tr>\n",
              "      <th>paul</th>\n",
              "      <td>NaN</td>\n",
              "      <td>NaN</td>\n",
              "      <td>192.0</td>\n",
              "    </tr>\n",
              "  </tbody>\n",
              "</table>\n",
              "</div>"
            ],
            "text/plain": [
              "age          (18.999, 28.333] (28.333, 46.667] (46.667, 58.0]\n",
              "job                   student              CFO        manager\n",
              "gender name                                                  \n",
              "F      alice            165.0              NaN            NaN\n",
              "       julie              NaN            175.0            NaN\n",
              "M      eric             171.0              NaN            NaN\n",
              "       john             180.0              NaN            NaN\n",
              "       paul               NaN              NaN          192.0"
            ]
          },
          "metadata": {
            "tags": []
          },
          "execution_count": 172
        }
      ]
    },
    {
      "cell_type": "markdown",
      "metadata": {
        "id": "soHz6Hy1L99X"
      },
      "source": [
        "<a id='File_I/O'></a>\n",
        "## 5. File I/O\n",
        "\n",
        "<a id='Write_to_csv_files'></a>\n",
        "### 5.1 Write to .csv files"
      ]
    },
    {
      "cell_type": "code",
      "metadata": {
        "id": "zxbkiAFYL99X",
        "outputId": "5dd309dc-b23f-43d0-ec53-72f29f0ad9c5"
      },
      "source": [
        "import tempfile, os.path\n",
        "tmpdir = tempfile.gettempdir()\n",
        "tmpdir"
      ],
      "execution_count": null,
      "outputs": [
        {
          "output_type": "execute_result",
          "data": {
            "text/plain": [
              "'C:\\\\Users\\\\appcl\\\\AppData\\\\Local\\\\Temp'"
            ]
          },
          "metadata": {
            "tags": []
          },
          "execution_count": 173
        }
      ]
    },
    {
      "cell_type": "code",
      "metadata": {
        "id": "MW5SUkafL99X"
      },
      "source": [
        "csv_filename = os.path.join(tmpdir, \"users.csv\")\n",
        "users.to_csv(csv_filename, index=False)"
      ],
      "execution_count": null,
      "outputs": []
    },
    {
      "cell_type": "code",
      "metadata": {
        "id": "ylluze8PL99X"
      },
      "source": [
        "mydir = './'\n",
        "csv_file = os.path.join(mydir, \"users.csv\")\n",
        "users.to_csv(csv_file, index=False)"
      ],
      "execution_count": null,
      "outputs": []
    },
    {
      "cell_type": "markdown",
      "metadata": {
        "id": "3WYSWSFZL99X"
      },
      "source": [
        "<a id='Read_from_csv_files'></a>\n",
        "### 5.2 Read from .csv files"
      ]
    },
    {
      "cell_type": "code",
      "metadata": {
        "id": "DrEUIHRyL99Y",
        "outputId": "9f199186-a6b8-4ddd-d5f7-b477c2e9d597"
      },
      "source": [
        "other = pd.read_csv(csv_file)\n",
        "other"
      ],
      "execution_count": null,
      "outputs": [
        {
          "output_type": "execute_result",
          "data": {
            "text/html": [
              "<div>\n",
              "<style scoped>\n",
              "    .dataframe tbody tr th:only-of-type {\n",
              "        vertical-align: middle;\n",
              "    }\n",
              "\n",
              "    .dataframe tbody tr th {\n",
              "        vertical-align: top;\n",
              "    }\n",
              "\n",
              "    .dataframe thead th {\n",
              "        text-align: right;\n",
              "    }\n",
              "</style>\n",
              "<table border=\"1\" class=\"dataframe\">\n",
              "  <thead>\n",
              "    <tr style=\"text-align: right;\">\n",
              "      <th></th>\n",
              "      <th>name</th>\n",
              "      <th>age</th>\n",
              "      <th>gender</th>\n",
              "      <th>job</th>\n",
              "      <th>height</th>\n",
              "    </tr>\n",
              "  </thead>\n",
              "  <tbody>\n",
              "    <tr>\n",
              "      <th>0</th>\n",
              "      <td>alice</td>\n",
              "      <td>19</td>\n",
              "      <td>F</td>\n",
              "      <td>student</td>\n",
              "      <td>165.0</td>\n",
              "    </tr>\n",
              "    <tr>\n",
              "      <th>1</th>\n",
              "      <td>john</td>\n",
              "      <td>26</td>\n",
              "      <td>M</td>\n",
              "      <td>student</td>\n",
              "      <td>180.0</td>\n",
              "    </tr>\n",
              "    <tr>\n",
              "      <th>2</th>\n",
              "      <td>eric</td>\n",
              "      <td>22</td>\n",
              "      <td>M</td>\n",
              "      <td>student</td>\n",
              "      <td>171.0</td>\n",
              "    </tr>\n",
              "    <tr>\n",
              "      <th>3</th>\n",
              "      <td>paul</td>\n",
              "      <td>58</td>\n",
              "      <td>M</td>\n",
              "      <td>manager</td>\n",
              "      <td>192.0</td>\n",
              "    </tr>\n",
              "    <tr>\n",
              "      <th>4</th>\n",
              "      <td>bill</td>\n",
              "      <td>33</td>\n",
              "      <td>M</td>\n",
              "      <td>engineer</td>\n",
              "      <td>NaN</td>\n",
              "    </tr>\n",
              "    <tr>\n",
              "      <th>5</th>\n",
              "      <td>peter</td>\n",
              "      <td>48</td>\n",
              "      <td>M</td>\n",
              "      <td>CTO</td>\n",
              "      <td>NaN</td>\n",
              "    </tr>\n",
              "    <tr>\n",
              "      <th>6</th>\n",
              "      <td>julie</td>\n",
              "      <td>44</td>\n",
              "      <td>F</td>\n",
              "      <td>CFO</td>\n",
              "      <td>175.0</td>\n",
              "    </tr>\n",
              "    <tr>\n",
              "      <th>7</th>\n",
              "      <td>lucy</td>\n",
              "      <td>52</td>\n",
              "      <td>F</td>\n",
              "      <td>CEO</td>\n",
              "      <td>NaN</td>\n",
              "    </tr>\n",
              "  </tbody>\n",
              "</table>\n",
              "</div>"
            ],
            "text/plain": [
              "    name  age gender       job  height\n",
              "0  alice   19      F   student   165.0\n",
              "1   john   26      M   student   180.0\n",
              "2   eric   22      M   student   171.0\n",
              "3   paul   58      M   manager   192.0\n",
              "4   bill   33      M  engineer     NaN\n",
              "5  peter   48      M       CTO     NaN\n",
              "6  julie   44      F       CFO   175.0\n",
              "7   lucy   52      F       CEO     NaN"
            ]
          },
          "metadata": {
            "tags": []
          },
          "execution_count": 176
        }
      ]
    },
    {
      "cell_type": "markdown",
      "metadata": {
        "id": "4v4QxEulL99Y"
      },
      "source": [
        "<a id='Read_csv_from_url'></a>\n",
        "### 5.3 Read csv from url"
      ]
    },
    {
      "cell_type": "code",
      "metadata": {
        "id": "0s0N5PgqL99Y",
        "outputId": "20cfc8bc-38ff-4b1d-8931-32dd86ec7748"
      },
      "source": [
        "url = 'https://stats.idre.ucla.edu/stat/data/binary.csv'\n",
        "idre_binary = pd.read_csv(url)\n",
        "idre_binary.head(10)"
      ],
      "execution_count": null,
      "outputs": [
        {
          "output_type": "execute_result",
          "data": {
            "text/html": [
              "<div>\n",
              "<style scoped>\n",
              "    .dataframe tbody tr th:only-of-type {\n",
              "        vertical-align: middle;\n",
              "    }\n",
              "\n",
              "    .dataframe tbody tr th {\n",
              "        vertical-align: top;\n",
              "    }\n",
              "\n",
              "    .dataframe thead th {\n",
              "        text-align: right;\n",
              "    }\n",
              "</style>\n",
              "<table border=\"1\" class=\"dataframe\">\n",
              "  <thead>\n",
              "    <tr style=\"text-align: right;\">\n",
              "      <th></th>\n",
              "      <th>admit</th>\n",
              "      <th>gre</th>\n",
              "      <th>gpa</th>\n",
              "      <th>rank</th>\n",
              "    </tr>\n",
              "  </thead>\n",
              "  <tbody>\n",
              "    <tr>\n",
              "      <th>0</th>\n",
              "      <td>0</td>\n",
              "      <td>380</td>\n",
              "      <td>3.61</td>\n",
              "      <td>3</td>\n",
              "    </tr>\n",
              "    <tr>\n",
              "      <th>1</th>\n",
              "      <td>1</td>\n",
              "      <td>660</td>\n",
              "      <td>3.67</td>\n",
              "      <td>3</td>\n",
              "    </tr>\n",
              "    <tr>\n",
              "      <th>2</th>\n",
              "      <td>1</td>\n",
              "      <td>800</td>\n",
              "      <td>4.00</td>\n",
              "      <td>1</td>\n",
              "    </tr>\n",
              "    <tr>\n",
              "      <th>3</th>\n",
              "      <td>1</td>\n",
              "      <td>640</td>\n",
              "      <td>3.19</td>\n",
              "      <td>4</td>\n",
              "    </tr>\n",
              "    <tr>\n",
              "      <th>4</th>\n",
              "      <td>0</td>\n",
              "      <td>520</td>\n",
              "      <td>2.93</td>\n",
              "      <td>4</td>\n",
              "    </tr>\n",
              "    <tr>\n",
              "      <th>5</th>\n",
              "      <td>1</td>\n",
              "      <td>760</td>\n",
              "      <td>3.00</td>\n",
              "      <td>2</td>\n",
              "    </tr>\n",
              "    <tr>\n",
              "      <th>6</th>\n",
              "      <td>1</td>\n",
              "      <td>560</td>\n",
              "      <td>2.98</td>\n",
              "      <td>1</td>\n",
              "    </tr>\n",
              "    <tr>\n",
              "      <th>7</th>\n",
              "      <td>0</td>\n",
              "      <td>400</td>\n",
              "      <td>3.08</td>\n",
              "      <td>2</td>\n",
              "    </tr>\n",
              "    <tr>\n",
              "      <th>8</th>\n",
              "      <td>1</td>\n",
              "      <td>540</td>\n",
              "      <td>3.39</td>\n",
              "      <td>3</td>\n",
              "    </tr>\n",
              "    <tr>\n",
              "      <th>9</th>\n",
              "      <td>0</td>\n",
              "      <td>700</td>\n",
              "      <td>3.92</td>\n",
              "      <td>2</td>\n",
              "    </tr>\n",
              "  </tbody>\n",
              "</table>\n",
              "</div>"
            ],
            "text/plain": [
              "   admit  gre   gpa  rank\n",
              "0      0  380  3.61     3\n",
              "1      1  660  3.67     3\n",
              "2      1  800  4.00     1\n",
              "3      1  640  3.19     4\n",
              "4      0  520  2.93     4\n",
              "5      1  760  3.00     2\n",
              "6      1  560  2.98     1\n",
              "7      0  400  3.08     2\n",
              "8      1  540  3.39     3\n",
              "9      0  700  3.92     2"
            ]
          },
          "metadata": {
            "tags": []
          },
          "execution_count": 177
        }
      ]
    },
    {
      "cell_type": "code",
      "metadata": {
        "id": "YLAbFFB2L99Z",
        "outputId": "3d2f7854-ead4-4912-9813-86bb807221c6"
      },
      "source": [
        "idre_binary.tail()"
      ],
      "execution_count": null,
      "outputs": [
        {
          "output_type": "execute_result",
          "data": {
            "text/html": [
              "<div>\n",
              "<style scoped>\n",
              "    .dataframe tbody tr th:only-of-type {\n",
              "        vertical-align: middle;\n",
              "    }\n",
              "\n",
              "    .dataframe tbody tr th {\n",
              "        vertical-align: top;\n",
              "    }\n",
              "\n",
              "    .dataframe thead th {\n",
              "        text-align: right;\n",
              "    }\n",
              "</style>\n",
              "<table border=\"1\" class=\"dataframe\">\n",
              "  <thead>\n",
              "    <tr style=\"text-align: right;\">\n",
              "      <th></th>\n",
              "      <th>admit</th>\n",
              "      <th>gre</th>\n",
              "      <th>gpa</th>\n",
              "      <th>rank</th>\n",
              "    </tr>\n",
              "  </thead>\n",
              "  <tbody>\n",
              "    <tr>\n",
              "      <th>395</th>\n",
              "      <td>0</td>\n",
              "      <td>620</td>\n",
              "      <td>4.00</td>\n",
              "      <td>2</td>\n",
              "    </tr>\n",
              "    <tr>\n",
              "      <th>396</th>\n",
              "      <td>0</td>\n",
              "      <td>560</td>\n",
              "      <td>3.04</td>\n",
              "      <td>3</td>\n",
              "    </tr>\n",
              "    <tr>\n",
              "      <th>397</th>\n",
              "      <td>0</td>\n",
              "      <td>460</td>\n",
              "      <td>2.63</td>\n",
              "      <td>2</td>\n",
              "    </tr>\n",
              "    <tr>\n",
              "      <th>398</th>\n",
              "      <td>0</td>\n",
              "      <td>700</td>\n",
              "      <td>3.65</td>\n",
              "      <td>2</td>\n",
              "    </tr>\n",
              "    <tr>\n",
              "      <th>399</th>\n",
              "      <td>0</td>\n",
              "      <td>600</td>\n",
              "      <td>3.89</td>\n",
              "      <td>3</td>\n",
              "    </tr>\n",
              "  </tbody>\n",
              "</table>\n",
              "</div>"
            ],
            "text/plain": [
              "     admit  gre   gpa  rank\n",
              "395      0  620  4.00     2\n",
              "396      0  560  3.04     3\n",
              "397      0  460  2.63     2\n",
              "398      0  700  3.65     2\n",
              "399      0  600  3.89     3"
            ]
          },
          "metadata": {
            "tags": []
          },
          "execution_count": 178
        }
      ]
    },
    {
      "cell_type": "code",
      "metadata": {
        "scrolled": true,
        "id": "UnAxbXoAL99Z",
        "outputId": "712c14dc-685f-4bb4-8eb0-73d17c2edbbb"
      },
      "source": [
        "type(idre_binary)"
      ],
      "execution_count": null,
      "outputs": [
        {
          "output_type": "execute_result",
          "data": {
            "text/plain": [
              "pandas.core.frame.DataFrame"
            ]
          },
          "metadata": {
            "tags": []
          },
          "execution_count": 179
        }
      ]
    },
    {
      "cell_type": "code",
      "metadata": {
        "id": "OCIH7S-7L99Z",
        "outputId": "a20bb0d9-d60c-4d8e-c202-2a3ce7b67c1a"
      },
      "source": [
        "idre_binary.dtypes"
      ],
      "execution_count": null,
      "outputs": [
        {
          "output_type": "execute_result",
          "data": {
            "text/plain": [
              "admit      int64\n",
              "gre        int64\n",
              "gpa      float64\n",
              "rank       int64\n",
              "dtype: object"
            ]
          },
          "metadata": {
            "tags": []
          },
          "execution_count": 180
        }
      ]
    },
    {
      "cell_type": "code",
      "metadata": {
        "id": "C-vy5WP4L99a",
        "outputId": "81f0ad6d-938e-4757-d5bd-03769f414dd2"
      },
      "source": [
        "pd.value_counts(idre_binary[\"admit\"], sort=False)/400   # ( 0 : Don't Admit ;    1 : Admit )"
      ],
      "execution_count": null,
      "outputs": [
        {
          "output_type": "execute_result",
          "data": {
            "text/plain": [
              "0    0.6825\n",
              "1    0.3175\n",
              "Name: admit, dtype: float64"
            ]
          },
          "metadata": {
            "tags": []
          },
          "execution_count": 181
        }
      ]
    }
  ]
}