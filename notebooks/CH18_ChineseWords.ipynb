{
  "nbformat": 4,
  "nbformat_minor": 0,
  "metadata": {
    "colab": {
      "name": "CH18-ChineseWords.ipynb",
      "provenance": [],
      "authorship_tag": "ABX9TyO3TbFVgQKlwm4B/NRBpTXN",
      "include_colab_link": true
    },
    "kernelspec": {
      "name": "python3",
      "display_name": "Python 3"
    },
    "language_info": {
      "name": "python"
    }
  },
  "cells": [
    {
      "cell_type": "markdown",
      "metadata": {
        "id": "view-in-github",
        "colab_type": "text"
      },
      "source": [
        "<a href=\"https://colab.research.google.com/github/jumbokh/ML-Class/blob/main/notebooks/CH18_ChineseWords.ipynb\" target=\"_parent\"><img src=\"https://colab.research.google.com/assets/colab-badge.svg\" alt=\"Open In Colab\"/></a>"
      ]
    },
    {
      "cell_type": "markdown",
      "metadata": {
        "id": "4ZO5ZVb7_WN0"
      },
      "source": [
        "### Data Source: [tripadvisor.xlsx](https://drive.google.com/file/d/1kbXIX4QGvNMk7P5-mQD6kc5y6tbTsc8c/view?usp=sharing)\n",
        "### 字典檔: [dict.txt.big](https://drive.google.com/file/d/1LY1Hjaq5GpAuWP_d7EgW5bGIGFZc6pKD/view?usp=sharing)\n",
        "### 輔助檔: [stop.text](https://drive.google.com/file/d/1HIFZ17KgYEiBIz1drMG4eQoVtJdKVUR5/view?usp=sharing)"
      ]
    },
    {
      "cell_type": "code",
      "metadata": {
        "colab": {
          "base_uri": "https://localhost:8080/",
          "height": 204
        },
        "id": "PYP0C5er_ASr",
        "outputId": "30a63def-ff4e-472c-da83-426b8d38c00c"
      },
      "source": [
        "import pandas as pd\n",
        "import numpy as np\n",
        "import matplotlib.pyplot as plt\n",
        "import seaborn as sns\n",
        "%matplotlib inline\n",
        "plt.rcParams['font.sans-serif'] = ['DFKai-sb'] \n",
        "plt.rcParams['axes.unicode_minus'] = False\n",
        "%config InlineBackend.figure_format = 'retina'\n",
        "import warnings\n",
        "warnings.filterwarnings('ignore')\n",
        "\n",
        "df = pd.read_excel('tripadvisor.xlsx', parse_dates=['date'])\n",
        "df.head()"
      ],
      "execution_count": 1,
      "outputs": [
        {
          "output_type": "execute_result",
          "data": {
            "text/html": [
              "<div>\n",
              "<style scoped>\n",
              "    .dataframe tbody tr th:only-of-type {\n",
              "        vertical-align: middle;\n",
              "    }\n",
              "\n",
              "    .dataframe tbody tr th {\n",
              "        vertical-align: top;\n",
              "    }\n",
              "\n",
              "    .dataframe thead th {\n",
              "        text-align: right;\n",
              "    }\n",
              "</style>\n",
              "<table border=\"1\" class=\"dataframe\">\n",
              "  <thead>\n",
              "    <tr style=\"text-align: right;\">\n",
              "      <th></th>\n",
              "      <th>uid</th>\n",
              "      <th>rating</th>\n",
              "      <th>date</th>\n",
              "      <th>title</th>\n",
              "      <th>content</th>\n",
              "    </tr>\n",
              "  </thead>\n",
              "  <tbody>\n",
              "    <tr>\n",
              "      <th>0</th>\n",
              "      <td>Kay C</td>\n",
              "      <td>4</td>\n",
              "      <td>2019-09-05</td>\n",
              "      <td>還行, 回程延遲</td>\n",
              "      <td>位置空間還不錯。餐點也很可以。3-3機位。清潔度很不錯。對小朋友也還可以。出發的時間很準時。...</td>\n",
              "    </tr>\n",
              "    <tr>\n",
              "      <th>1</th>\n",
              "      <td>MinJer Lai</td>\n",
              "      <td>3</td>\n",
              "      <td>2019-09-05</td>\n",
              "      <td>空服員訓練仍有不足</td>\n",
              "      <td>台北紐約航段有一個點心餐和兩個正餐, 點心餐就是堅果包和飲料\\n在第一個正餐,我們被告知沒有...</td>\n",
              "    </tr>\n",
              "    <tr>\n",
              "      <th>2</th>\n",
              "      <td>Rui</td>\n",
              "      <td>3</td>\n",
              "      <td>2019-09-04</td>\n",
              "      <td>舊機型沒個人娛樂、回程魚肉飯好吃</td>\n",
              "      <td>舊機型沒個人娛樂，只有抬頭電視可以看公放的電影、回程魚肉飯好吃。颱風剛過有小延誤，高的人坐起...</td>\n",
              "    </tr>\n",
              "    <tr>\n",
              "      <th>3</th>\n",
              "      <td>gigil169</td>\n",
              "      <td>4</td>\n",
              "      <td>2019-08-23</td>\n",
              "      <td>準點, 對之前的猶豫已一掃而空</td>\n",
              "      <td>真的沒有讓人失望, 之前只坐過一次, 但還是會猶豫不決, 最後因為航班選擇比較多, 彈性大一...</td>\n",
              "    </tr>\n",
              "    <tr>\n",
              "      <th>4</th>\n",
              "      <td>Wei-hsiang</td>\n",
              "      <td>4</td>\n",
              "      <td>2019-08-20</td>\n",
              "      <td>舒適</td>\n",
              "      <td>舒適平穩，並且提供餐點供乘客享用，座位上亦提供薄毯避免乘客受寒，座位前方有休閒娛樂系統，其中...</td>\n",
              "    </tr>\n",
              "  </tbody>\n",
              "</table>\n",
              "</div>"
            ],
            "text/plain": [
              "          uid  ...                                            content\n",
              "0       Kay C  ...  位置空間還不錯。餐點也很可以。3-3機位。清潔度很不錯。對小朋友也還可以。出發的時間很準時。...\n",
              "1  MinJer Lai  ...  台北紐約航段有一個點心餐和兩個正餐, 點心餐就是堅果包和飲料\\n在第一個正餐,我們被告知沒有...\n",
              "2         Rui  ...  舊機型沒個人娛樂，只有抬頭電視可以看公放的電影、回程魚肉飯好吃。颱風剛過有小延誤，高的人坐起...\n",
              "3    gigil169  ...  真的沒有讓人失望, 之前只坐過一次, 但還是會猶豫不決, 最後因為航班選擇比較多, 彈性大一...\n",
              "4  Wei-hsiang  ...  舒適平穩，並且提供餐點供乘客享用，座位上亦提供薄毯避免乘客受寒，座位前方有休閒娛樂系統，其中...\n",
              "\n",
              "[5 rows x 5 columns]"
            ]
          },
          "metadata": {
            "tags": []
          },
          "execution_count": 1
        }
      ]
    },
    {
      "cell_type": "code",
      "metadata": {
        "colab": {
          "base_uri": "https://localhost:8080/"
        },
        "id": "g8jGVJOd_lE9",
        "outputId": "b16a33a6-6f1f-4ba1-e633-cb70fe4e05c0"
      },
      "source": [
        "df.info()"
      ],
      "execution_count": 2,
      "outputs": [
        {
          "output_type": "stream",
          "text": [
            "<class 'pandas.core.frame.DataFrame'>\n",
            "RangeIndex: 2557 entries, 0 to 2556\n",
            "Data columns (total 5 columns):\n",
            " #   Column   Non-Null Count  Dtype         \n",
            "---  ------   --------------  -----         \n",
            " 0   uid      2557 non-null   object        \n",
            " 1   rating   2557 non-null   int64         \n",
            " 2   date     2557 non-null   datetime64[ns]\n",
            " 3   title    2557 non-null   object        \n",
            " 4   content  2557 non-null   object        \n",
            "dtypes: datetime64[ns](1), int64(1), object(3)\n",
            "memory usage: 100.0+ KB\n"
          ],
          "name": "stdout"
        }
      ]
    },
    {
      "cell_type": "code",
      "metadata": {
        "colab": {
          "base_uri": "https://localhost:8080/",
          "height": 204
        },
        "id": "-aylFo2z_sgE",
        "outputId": "330ab4e3-3807-4917-d50f-82bc7be57009"
      },
      "source": [
        "# ch18-3\n",
        "size = df['rating'].value_counts().sort_index()\n",
        "pct = df['rating'].value_counts(normalize=True).round(2).sort_index()\n",
        "pd.DataFrame(zip(size, pct), columns=['次數', '百分比'], index=range(1,6))"
      ],
      "execution_count": 3,
      "outputs": [
        {
          "output_type": "execute_result",
          "data": {
            "text/html": [
              "<div>\n",
              "<style scoped>\n",
              "    .dataframe tbody tr th:only-of-type {\n",
              "        vertical-align: middle;\n",
              "    }\n",
              "\n",
              "    .dataframe tbody tr th {\n",
              "        vertical-align: top;\n",
              "    }\n",
              "\n",
              "    .dataframe thead th {\n",
              "        text-align: right;\n",
              "    }\n",
              "</style>\n",
              "<table border=\"1\" class=\"dataframe\">\n",
              "  <thead>\n",
              "    <tr style=\"text-align: right;\">\n",
              "      <th></th>\n",
              "      <th>次數</th>\n",
              "      <th>百分比</th>\n",
              "    </tr>\n",
              "  </thead>\n",
              "  <tbody>\n",
              "    <tr>\n",
              "      <th>1</th>\n",
              "      <td>52</td>\n",
              "      <td>0.02</td>\n",
              "    </tr>\n",
              "    <tr>\n",
              "      <th>2</th>\n",
              "      <td>72</td>\n",
              "      <td>0.03</td>\n",
              "    </tr>\n",
              "    <tr>\n",
              "      <th>3</th>\n",
              "      <td>287</td>\n",
              "      <td>0.11</td>\n",
              "    </tr>\n",
              "    <tr>\n",
              "      <th>4</th>\n",
              "      <td>1019</td>\n",
              "      <td>0.40</td>\n",
              "    </tr>\n",
              "    <tr>\n",
              "      <th>5</th>\n",
              "      <td>1127</td>\n",
              "      <td>0.44</td>\n",
              "    </tr>\n",
              "  </tbody>\n",
              "</table>\n",
              "</div>"
            ],
            "text/plain": [
              "     次數   百分比\n",
              "1    52  0.02\n",
              "2    72  0.03\n",
              "3   287  0.11\n",
              "4  1019  0.40\n",
              "5  1127  0.44"
            ]
          },
          "metadata": {
            "tags": []
          },
          "execution_count": 3
        }
      ]
    },
    {
      "cell_type": "code",
      "metadata": {
        "colab": {
          "base_uri": "https://localhost:8080/",
          "height": 204
        },
        "id": "ubczgybF_y0X",
        "outputId": "2e812336-2d7e-4327-bdd9-80fe83ba4290"
      },
      "source": [
        "# ch18-4\n",
        "df.groupby(df['date'].dt.year)['rating'].agg(['size','mean'])"
      ],
      "execution_count": 4,
      "outputs": [
        {
          "output_type": "execute_result",
          "data": {
            "text/html": [
              "<div>\n",
              "<style scoped>\n",
              "    .dataframe tbody tr th:only-of-type {\n",
              "        vertical-align: middle;\n",
              "    }\n",
              "\n",
              "    .dataframe tbody tr th {\n",
              "        vertical-align: top;\n",
              "    }\n",
              "\n",
              "    .dataframe thead th {\n",
              "        text-align: right;\n",
              "    }\n",
              "</style>\n",
              "<table border=\"1\" class=\"dataframe\">\n",
              "  <thead>\n",
              "    <tr style=\"text-align: right;\">\n",
              "      <th></th>\n",
              "      <th>size</th>\n",
              "      <th>mean</th>\n",
              "    </tr>\n",
              "    <tr>\n",
              "      <th>date</th>\n",
              "      <th></th>\n",
              "      <th></th>\n",
              "    </tr>\n",
              "  </thead>\n",
              "  <tbody>\n",
              "    <tr>\n",
              "      <th>2016</th>\n",
              "      <td>810</td>\n",
              "      <td>4.251852</td>\n",
              "    </tr>\n",
              "    <tr>\n",
              "      <th>2017</th>\n",
              "      <td>795</td>\n",
              "      <td>4.270440</td>\n",
              "    </tr>\n",
              "    <tr>\n",
              "      <th>2018</th>\n",
              "      <td>685</td>\n",
              "      <td>4.144526</td>\n",
              "    </tr>\n",
              "    <tr>\n",
              "      <th>2019</th>\n",
              "      <td>267</td>\n",
              "      <td>4.082397</td>\n",
              "    </tr>\n",
              "  </tbody>\n",
              "</table>\n",
              "</div>"
            ],
            "text/plain": [
              "      size      mean\n",
              "date                \n",
              "2016   810  4.251852\n",
              "2017   795  4.270440\n",
              "2018   685  4.144526\n",
              "2019   267  4.082397"
            ]
          },
          "metadata": {
            "tags": []
          },
          "execution_count": 4
        }
      ]
    },
    {
      "cell_type": "code",
      "metadata": {
        "colab": {
          "base_uri": "https://localhost:8080/"
        },
        "id": "vIaM4eYL_5_P",
        "outputId": "1842ac7e-7756-4464-a37b-fe73e389bf85"
      },
      "source": [
        "# ch18-5\n",
        "import jieba\n",
        "# 載入繁體字典\n",
        "jieba.set_dictionary('dict.txt.big')\n",
        "print(list(jieba.cut('下雨天留客天留我不留')))\n",
        "# 將串列組合回字串，用空白做區隔\n",
        "s = ' '.join(jieba.cut('下雨天留客天留我不留'))\n",
        "print(s)"
      ],
      "execution_count": 5,
      "outputs": [
        {
          "output_type": "stream",
          "text": [
            "Building prefix dict from /content/dict.txt.big ...\n",
            "Loading model from cache /tmp/jieba.u501edca284da514cb68b53a20324f4e3.cache\n",
            "Loading model cost 1.452 seconds.\n",
            "Prefix dict has been built successfully.\n"
          ],
          "name": "stderr"
        },
        {
          "output_type": "stream",
          "text": [
            "['下雨天', '留客', '天留', '我', '不留']\n",
            "下雨天 留客 天留 我 不留\n"
          ],
          "name": "stdout"
        }
      ]
    },
    {
      "cell_type": "code",
      "metadata": {
        "colab": {
          "base_uri": "https://localhost:8080/",
          "height": 80
        },
        "id": "VsgHbGtW__91",
        "outputId": "698ab852-dd25-4e93-82ea-f23741419090"
      },
      "source": [
        "# ch18-6\n",
        "from sklearn.feature_extraction.text import CountVectorizer\n",
        "cv = CountVectorizer()\n",
        "bow = cv.fit_transform([s])\n",
        "pd.DataFrame(bow.toarray(), columns=cv.get_feature_names())"
      ],
      "execution_count": 6,
      "outputs": [
        {
          "output_type": "execute_result",
          "data": {
            "text/html": [
              "<div>\n",
              "<style scoped>\n",
              "    .dataframe tbody tr th:only-of-type {\n",
              "        vertical-align: middle;\n",
              "    }\n",
              "\n",
              "    .dataframe tbody tr th {\n",
              "        vertical-align: top;\n",
              "    }\n",
              "\n",
              "    .dataframe thead th {\n",
              "        text-align: right;\n",
              "    }\n",
              "</style>\n",
              "<table border=\"1\" class=\"dataframe\">\n",
              "  <thead>\n",
              "    <tr style=\"text-align: right;\">\n",
              "      <th></th>\n",
              "      <th>下雨天</th>\n",
              "      <th>不留</th>\n",
              "      <th>天留</th>\n",
              "      <th>留客</th>\n",
              "    </tr>\n",
              "  </thead>\n",
              "  <tbody>\n",
              "    <tr>\n",
              "      <th>0</th>\n",
              "      <td>1</td>\n",
              "      <td>1</td>\n",
              "      <td>1</td>\n",
              "      <td>1</td>\n",
              "    </tr>\n",
              "  </tbody>\n",
              "</table>\n",
              "</div>"
            ],
            "text/plain": [
              "   下雨天  不留  天留  留客\n",
              "0    1   1   1   1"
            ]
          },
          "metadata": {
            "tags": []
          },
          "execution_count": 6
        }
      ]
    },
    {
      "cell_type": "code",
      "metadata": {
        "colab": {
          "base_uri": "https://localhost:8080/",
          "height": 80
        },
        "id": "xUCbB1VnAGBc",
        "outputId": "f9272f40-ceaa-45ce-d4ef-15ddd4779173"
      },
      "source": [
        "# ch18-7\n",
        "cv = CountVectorizer(token_pattern='(?u)\\\\b\\\\w+\\\\b')\n",
        "bow = cv.fit_transform([s])\n",
        "pd.DataFrame(bow.toarray(), columns=cv.get_feature_names())"
      ],
      "execution_count": 7,
      "outputs": [
        {
          "output_type": "execute_result",
          "data": {
            "text/html": [
              "<div>\n",
              "<style scoped>\n",
              "    .dataframe tbody tr th:only-of-type {\n",
              "        vertical-align: middle;\n",
              "    }\n",
              "\n",
              "    .dataframe tbody tr th {\n",
              "        vertical-align: top;\n",
              "    }\n",
              "\n",
              "    .dataframe thead th {\n",
              "        text-align: right;\n",
              "    }\n",
              "</style>\n",
              "<table border=\"1\" class=\"dataframe\">\n",
              "  <thead>\n",
              "    <tr style=\"text-align: right;\">\n",
              "      <th></th>\n",
              "      <th>下雨天</th>\n",
              "      <th>不留</th>\n",
              "      <th>天留</th>\n",
              "      <th>我</th>\n",
              "      <th>留客</th>\n",
              "    </tr>\n",
              "  </thead>\n",
              "  <tbody>\n",
              "    <tr>\n",
              "      <th>0</th>\n",
              "      <td>1</td>\n",
              "      <td>1</td>\n",
              "      <td>1</td>\n",
              "      <td>1</td>\n",
              "      <td>1</td>\n",
              "    </tr>\n",
              "  </tbody>\n",
              "</table>\n",
              "</div>"
            ],
            "text/plain": [
              "   下雨天  不留  天留  我  留客\n",
              "0    1   1   1  1   1"
            ]
          },
          "metadata": {
            "tags": []
          },
          "execution_count": 7
        }
      ]
    },
    {
      "cell_type": "code",
      "metadata": {
        "colab": {
          "base_uri": "https://localhost:8080/",
          "height": 35
        },
        "id": "YoaoI_78AL5C",
        "outputId": "0b5adba8-a36f-4b78-8e6d-4501b721ee88"
      },
      "source": [
        "df.loc[0, 'content']"
      ],
      "execution_count": 8,
      "outputs": [
        {
          "output_type": "execute_result",
          "data": {
            "application/vnd.google.colaboratory.intrinsic+json": {
              "type": "string"
            },
            "text/plain": [
              "'位置空間還不錯。餐點也很可以。3-3機位。清潔度很不錯。對小朋友也還可以。出發的時間很準時。但是回程就碰上延遲, 約40分鐘。沒有個人娛樂設施。'"
            ]
          },
          "metadata": {
            "tags": []
          },
          "execution_count": 8
        }
      ]
    },
    {
      "cell_type": "code",
      "metadata": {
        "colab": {
          "base_uri": "https://localhost:8080/",
          "height": 35
        },
        "id": "kcWD_NptAQY8",
        "outputId": "f456b824-46a4-4423-a62d-ceefce5a6b72"
      },
      "source": [
        "# ch18-9\n",
        "s = ' '.join(jieba.cut(df.iloc[0]['content']))\n",
        "s"
      ],
      "execution_count": 9,
      "outputs": [
        {
          "output_type": "execute_result",
          "data": {
            "application/vnd.google.colaboratory.intrinsic+json": {
              "type": "string"
            },
            "text/plain": [
              "'位置 空間 還 不錯 。 餐點 也 很 可以 。 3 - 3 機位 。 清潔度 很 不錯 。 對 小朋友 也還 可以 。 出發 的 時間 很 準時 。 但是 回程 就 碰上 延遲 ,   約 40 分鐘 。 沒有 個人 娛樂 設施 。'"
            ]
          },
          "metadata": {
            "tags": []
          },
          "execution_count": 9
        }
      ]
    },
    {
      "cell_type": "code",
      "metadata": {
        "colab": {
          "base_uri": "https://localhost:8080/"
        },
        "id": "0flbLFHhAWjG",
        "outputId": "19c696e1-2888-4e7f-fe25-f36a97b32e3c"
      },
      "source": [
        "# ch18-10\n",
        "# 從檔案讀入停用字，並做成串列\n",
        "with open('stop.text','r', encoding='utf-8') as f:\n",
        "    stops = f.read()\n",
        "stops = stops.split('\\n')\n",
        "\n",
        "cv = CountVectorizer(token_pattern='(?u)\\\\b\\\\w+\\\\b', \n",
        "                     stop_words=stops)\n",
        "bow = cv.fit_transform([s])\n",
        "print(cv.get_feature_names())"
      ],
      "execution_count": 10,
      "outputs": [
        {
          "output_type": "stream",
          "text": [
            "['40', '不錯', '也還', '位置', '個人', '出發', '分鐘', '回程', '娛樂', '小朋友', '延遲', '時間', '機位', '沒有', '清潔度', '準時', '碰上', '空間', '約', '設施', '餐點']\n"
          ],
          "name": "stdout"
        }
      ]
    },
    {
      "cell_type": "code",
      "metadata": {
        "colab": {
          "base_uri": "https://localhost:8080/"
        },
        "id": "2yWSgwuUAdOJ",
        "outputId": "05057cfb-de09-4361-daec-269163e41f98"
      },
      "source": [
        "# ch18-11\n",
        "cv = CountVectorizer(token_pattern='(?u)\\\\b\\\\w+\\\\b', \n",
        "                     stop_words=stops, \n",
        "                     ngram_range=(1,2))\n",
        "bow = cv.fit_transform([s])\n",
        "print(cv.get_feature_names())"
      ],
      "execution_count": 11,
      "outputs": [
        {
          "output_type": "stream",
          "text": [
            "['40', '40 分鐘', '不錯', '不錯 小朋友', '不錯 餐點', '也還', '也還 出發', '位置', '位置 空間', '個人', '個人 娛樂', '出發', '出發 時間', '分鐘', '分鐘 沒有', '回程', '回程 碰上', '娛樂', '娛樂 設施', '小朋友', '小朋友 也還', '延遲', '延遲 約', '時間', '時間 準時', '機位', '機位 清潔度', '沒有', '沒有 個人', '清潔度', '清潔度 不錯', '準時', '準時 回程', '碰上', '碰上 延遲', '空間', '空間 不錯', '約', '約 40', '設施', '餐點', '餐點 機位']\n"
          ],
          "name": "stdout"
        }
      ]
    },
    {
      "cell_type": "code",
      "metadata": {
        "colab": {
          "base_uri": "https://localhost:8080/"
        },
        "id": "h7l6NHttAmb6",
        "outputId": "30321fc5-b798-4a8f-fb43-be2c0814dca9"
      },
      "source": [
        "# ch18-12\n",
        "df['rating'] = (df['rating'] > 3).map({True:1 , False:0})\n",
        "df['rating'].value_counts()"
      ],
      "execution_count": 12,
      "outputs": [
        {
          "output_type": "execute_result",
          "data": {
            "text/plain": [
              "1    2146\n",
              "0     411\n",
              "Name: rating, dtype: int64"
            ]
          },
          "metadata": {
            "tags": []
          },
          "execution_count": 12
        }
      ]
    },
    {
      "cell_type": "code",
      "metadata": {
        "id": "5NoQ0dovAskA"
      },
      "source": [
        "# ch18-13\n",
        "X = df['content']\n",
        "y = df['rating']\n",
        "from sklearn.model_selection import train_test_split\n",
        "X_train, X_test, y_train, y_test = train_test_split(X, y, \n",
        "                                                    test_size=0.2, random_state=42)"
      ],
      "execution_count": 13,
      "outputs": []
    },
    {
      "cell_type": "code",
      "metadata": {
        "colab": {
          "base_uri": "https://localhost:8080/",
          "height": 97
        },
        "id": "wldKAKZ9Ayoy",
        "outputId": "9bc52e4a-1b16-4fbb-ab62-a4d6ba820c59"
      },
      "source": [
        "# ch18-14\n",
        "def preprocessor(s):\n",
        "    return ' '.join(jieba.cut(s))\n",
        "\n",
        "print('斷字函數的結果：', preprocessor('下雨天留客天留我不留'))\n",
        "cv = CountVectorizer(preprocessor=preprocessor,    \n",
        "    token_pattern='(?u)\\\\b\\\\w+\\\\b', \n",
        "    stop_words=stops)\n",
        "bow = cv.fit_transform(['下雨天留客天留我不留'])\n",
        "pd.DataFrame(bow.toarray(), columns=cv.get_feature_names())"
      ],
      "execution_count": 14,
      "outputs": [
        {
          "output_type": "stream",
          "text": [
            "斷字函數的結果： 下雨天 留客 天留 我 不留\n"
          ],
          "name": "stdout"
        },
        {
          "output_type": "execute_result",
          "data": {
            "text/html": [
              "<div>\n",
              "<style scoped>\n",
              "    .dataframe tbody tr th:only-of-type {\n",
              "        vertical-align: middle;\n",
              "    }\n",
              "\n",
              "    .dataframe tbody tr th {\n",
              "        vertical-align: top;\n",
              "    }\n",
              "\n",
              "    .dataframe thead th {\n",
              "        text-align: right;\n",
              "    }\n",
              "</style>\n",
              "<table border=\"1\" class=\"dataframe\">\n",
              "  <thead>\n",
              "    <tr style=\"text-align: right;\">\n",
              "      <th></th>\n",
              "      <th>下雨天</th>\n",
              "      <th>不留</th>\n",
              "      <th>天留</th>\n",
              "      <th>留客</th>\n",
              "    </tr>\n",
              "  </thead>\n",
              "  <tbody>\n",
              "    <tr>\n",
              "      <th>0</th>\n",
              "      <td>1</td>\n",
              "      <td>1</td>\n",
              "      <td>1</td>\n",
              "      <td>1</td>\n",
              "    </tr>\n",
              "  </tbody>\n",
              "</table>\n",
              "</div>"
            ],
            "text/plain": [
              "   下雨天  不留  天留  留客\n",
              "0    1   1   1   1"
            ]
          },
          "metadata": {
            "tags": []
          },
          "execution_count": 14
        }
      ]
    },
    {
      "cell_type": "code",
      "metadata": {
        "colab": {
          "base_uri": "https://localhost:8080/"
        },
        "id": "54ZJ6uvgA56L",
        "outputId": "8ab522b2-4856-4112-d4d6-a039f0531c7d"
      },
      "source": [
        "# ch18-15\n",
        "from sklearn.naive_bayes import MultinomialNB\n",
        "from sklearn.pipeline import make_pipeline\n",
        "from sklearn.feature_extraction.text import CountVectorizer\n",
        "from sklearn.metrics import confusion_matrix, accuracy_score, classification_report\n",
        "\n",
        "cv = CountVectorizer(preprocessor=preprocessor,    \n",
        "    token_pattern='(?u)\\\\b\\\\w+\\\\b', \n",
        "    stop_words=stops)\n",
        "model_pl = make_pipeline(cv, MultinomialNB())\n",
        "model_pl.fit(X_train, y_train)\n",
        "y_pred = model_pl.predict(X_test)\n",
        "score = model_pl.score(X_test, y_test)\n",
        "print('測試集的結果', score.round(3))\n",
        "print(confusion_matrix(y_test, y_pred))\n",
        "print('綜合報告')\n",
        "print(classification_report(y_test, y_pred))"
      ],
      "execution_count": 15,
      "outputs": [
        {
          "output_type": "stream",
          "text": [
            "測試集的結果 0.844\n",
            "[[ 14  73]\n",
            " [  7 418]]\n",
            "綜合報告\n",
            "              precision    recall  f1-score   support\n",
            "\n",
            "           0       0.67      0.16      0.26        87\n",
            "           1       0.85      0.98      0.91       425\n",
            "\n",
            "    accuracy                           0.84       512\n",
            "   macro avg       0.76      0.57      0.59       512\n",
            "weighted avg       0.82      0.84      0.80       512\n",
            "\n"
          ],
          "name": "stdout"
        }
      ]
    }
  ]
}