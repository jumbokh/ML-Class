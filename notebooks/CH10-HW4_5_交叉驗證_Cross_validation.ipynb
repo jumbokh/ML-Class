{
  "nbformat": 4,
  "nbformat_minor": 0,
  "metadata": {
    "kernelspec": {
      "display_name": "Python 3",
      "language": "python",
      "name": "python3"
    },
    "language_info": {
      "codemirror_mode": {
        "name": "ipython",
        "version": 3
      },
      "file_extension": ".py",
      "mimetype": "text/x-python",
      "name": "python",
      "nbconvert_exporter": "python",
      "pygments_lexer": "ipython3",
      "version": "3.6.6"
    },
    "colab": {
      "name": "4-5 交叉驗證 Cross validation.ipynb",
      "provenance": [],
      "include_colab_link": true
    },
    "accelerator": "GPU"
  },
  "cells": [
    {
      "cell_type": "markdown",
      "metadata": {
        "id": "view-in-github",
        "colab_type": "text"
      },
      "source": [
        "<a href=\"https://colab.research.google.com/github/jumbokh/ML-Class/blob/main/notebooks/CH10-HW4_5_%E4%BA%A4%E5%8F%89%E9%A9%97%E8%AD%89_Cross_validation.ipynb\" target=\"_parent\"><img src=\"https://colab.research.google.com/assets/colab-badge.svg\" alt=\"Open In Colab\"/></a>"
      ]
    },
    {
      "cell_type": "markdown",
      "metadata": {
        "id": "MUbdL42LgFS2"
      },
      "source": [
        "# 作業"
      ]
    },
    {
      "cell_type": "markdown",
      "metadata": {
        "id": "LjVR9UkzgFS5"
      },
      "source": [
        "1. 由於本例的特徵值較多，請將主成份分析PCA(15)加入管道器，並用羅吉斯迴歸預測(觀察結果發現，對正確率並沒有太大影響。這也回應一開始的分析，有些變數的相關性太高，對於新訊息的提供並沒什麼太大幫功)。  "
      ]
    },
    {
      "cell_type": "code",
      "metadata": {
        "id": "s31Y_lmRgFS6"
      },
      "source": [
        "import pandas as pd\n",
        "import numpy as np\n",
        "import matplotlib.pyplot as plt\n",
        "import seaborn as sns\n",
        "%matplotlib inline\n",
        "plt.rcParams['font.sans-serif'] = ['DFKai-sb'] \n",
        "plt.rcParams['axes.unicode_minus'] = False\n",
        "%config InlineBackend.figure_format = 'retina'\n",
        "import warnings\n",
        "warnings.filterwarnings('ignore')\n",
        "\n",
        "from sklearn.datasets import load_breast_cancer\n",
        "breast_cancer = load_breast_cancer()\n",
        "df = pd.DataFrame(data = breast_cancer['data'], columns = breast_cancer['feature_names'])\n",
        "df['target'] = breast_cancer['target']\n",
        "X_cols = df.columns.drop('target')\n",
        "X = df[X_cols]\n",
        "y = df['target']\n",
        "from sklearn.model_selection import train_test_split\n",
        "X_train, X_test, y_train, y_test = train_test_split(X, y, \n",
        "                                                   test_size=0.33, random_state=42)"
      ],
      "execution_count": 1,
      "outputs": []
    },
    {
      "cell_type": "code",
      "metadata": {
        "colab": {
          "base_uri": "https://localhost:8080/"
        },
        "id": "GFj56qWtgFS7",
        "outputId": "e37ea624-ac55-42ea-e757-8cb6df9e2862"
      },
      "source": [
        "from sklearn.decomposition import PCA\n",
        "from sklearn.metrics import accuracy_score, confusion_matrix, classification_report\n",
        "from sklearn.pipeline import make_pipeline\n",
        "from sklearn.preprocessing import StandardScaler\n",
        "from sklearn.linear_model import LogisticRegression\n",
        "model_pl_lr = make_pipeline(StandardScaler(), PCA(15), LogisticRegression())\n",
        "model_pl_lr.fit(X_train, y_train)\n",
        "y_pred = model_pl_lr.predict(X_test)\n",
        "print('正確率：', accuracy_score(y_test, y_pred).round(3))\n",
        "print('混亂矩陣')\n",
        "print(confusion_matrix(y_test, y_pred))\n",
        "print('綜合報告')\n",
        "print(classification_report(y_test, y_pred))"
      ],
      "execution_count": 2,
      "outputs": [
        {
          "output_type": "stream",
          "text": [
            "正確率： 0.984\n",
            "混亂矩陣\n",
            "[[ 66   1]\n",
            " [  2 119]]\n",
            "綜合報告\n",
            "              precision    recall  f1-score   support\n",
            "\n",
            "           0       0.97      0.99      0.98        67\n",
            "           1       0.99      0.98      0.99       121\n",
            "\n",
            "    accuracy                           0.98       188\n",
            "   macro avg       0.98      0.98      0.98       188\n",
            "weighted avg       0.98      0.98      0.98       188\n",
            "\n"
          ],
          "name": "stdout"
        }
      ]
    },
    {
      "cell_type": "markdown",
      "metadata": {
        "id": "QRpNfcd3gFS9"
      },
      "source": [
        "2. 承上，請算出10折交叉驗證的結果"
      ]
    },
    {
      "cell_type": "code",
      "metadata": {
        "colab": {
          "base_uri": "https://localhost:8080/"
        },
        "id": "it8fmdP9gFS9",
        "outputId": "cbf4812d-54cb-44a2-e69d-7357b7c8154a"
      },
      "source": [
        "from sklearn.model_selection import cross_val_score\n",
        "scores = cross_val_score(model_pl_lr, X_train, y_train, cv=10)\n",
        "print(scores)\n",
        "print('10折交叉驗證結果', scores.mean())"
      ],
      "execution_count": 3,
      "outputs": [
        {
          "output_type": "stream",
          "text": [
            "[1.         0.97368421 0.94736842 1.         1.         1.\n",
            " 0.97368421 0.94736842 0.97368421 0.97368421]\n",
            "10折交叉驗證結果 0.9789473684210526\n"
          ],
          "name": "stdout"
        }
      ]
    }
  ]
}