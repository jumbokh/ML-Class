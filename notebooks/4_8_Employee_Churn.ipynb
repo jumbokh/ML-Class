{
  "nbformat": 4,
  "nbformat_minor": 0,
  "metadata": {
    "kernelspec": {
      "display_name": "Python 3",
      "language": "python",
      "name": "python3"
    },
    "language_info": {
      "codemirror_mode": {
        "name": "ipython",
        "version": 3
      },
      "file_extension": ".py",
      "mimetype": "text/x-python",
      "name": "python",
      "nbconvert_exporter": "python",
      "pygments_lexer": "ipython3",
      "version": "3.6.6"
    },
    "colab": {
      "name": "4-8 Employee Churn.ipynb",
      "provenance": [],
      "include_colab_link": true
    }
  },
  "cells": [
    {
      "cell_type": "markdown",
      "metadata": {
        "id": "view-in-github",
        "colab_type": "text"
      },
      "source": [
        "<a href=\"https://colab.research.google.com/github/jumbokh/ML-Class/blob/main/notebooks/4_8_Employee_Churn.ipynb\" target=\"_parent\"><img src=\"https://colab.research.google.com/assets/colab-badge.svg\" alt=\"Open In Colab\"/></a>"
      ]
    },
    {
      "cell_type": "markdown",
      "metadata": {
        "id": "N3wEz39x7rAT"
      },
      "source": [
        "## Homework "
      ]
    },
    {
      "cell_type": "markdown",
      "metadata": {
        "id": "Vzc6Dkqc7rAW"
      },
      "source": [
        "1. 用本例的資料，透過網格搜尋找出隨機森林的最佳參數  \n",
        "\n",
        "    * 參數：'model\\_\\_n\\_estimators':[50,100,150,200,300,400,500]"
      ]
    },
    {
      "cell_type": "code",
      "metadata": {
        "id": "sdhyJanX7rAX"
      },
      "source": [
        "import pandas as pd\n",
        "import numpy as np\n",
        "import matplotlib.pyplot as plt\n",
        "import seaborn as sns\n",
        "%matplotlib inline\n",
        "# plt.rcParams['font.sans-serif'] = ['DFKai-sb'] \n",
        "# plt.rcParams['axes.unicode_minus'] = False\n",
        "%config InlineBackend.figure_format = 'retina'\n",
        "import warnings\n",
        "warnings.filterwarnings('ignore')"
      ],
      "execution_count": 1,
      "outputs": []
    },
    {
      "cell_type": "code",
      "metadata": {
        "colab": {
          "base_uri": "https://localhost:8080/"
        },
        "id": "PcBLUIAH7rAY",
        "outputId": "c26a42b5-7a1e-48cf-f819-c37fe55264cd"
      },
      "source": [
        "df = pd.read_csv('HR_comma_sep.csv')\n",
        "X = df.drop('left', axis=1)\n",
        "y = df['left']\n",
        "from sklearn.model_selection import train_test_split\n",
        "X_train, X_test, y_train, y_test = train_test_split(X, y, \n",
        "                                                    test_size=0.3, random_state=42)\n",
        "X_col_cat = X.select_dtypes(include = 'object').columns\n",
        "X_col_num = X.select_dtypes(exclude = 'object').columns\n",
        "\n",
        "from sklearn.pipeline import make_pipeline, Pipeline\n",
        "from sklearn.preprocessing import StandardScaler, OneHotEncoder\n",
        "from sklearn.compose import ColumnTransformer\n",
        "from sklearn.ensemble import RandomForestClassifier\n",
        "from sklearn.model_selection import GridSearchCV\n",
        "data_pl = ColumnTransformer([\n",
        "    ('num', StandardScaler(), X_col_num),\n",
        "    ('cat', OneHotEncoder(), X_col_cat)\n",
        "])\n",
        "\n",
        "model_pl = Pipeline([\n",
        "    ('preprocess', data_pl),\n",
        "    ('model', RandomForestClassifier())\n",
        "])\n",
        "param_grid = {'model__n_estimators':[50,100,150,200,300,400,500]}\n",
        "gs = GridSearchCV(model_pl, param_grid=param_grid,\n",
        "                  cv=5, return_train_score=True)\n",
        "gs.fit(X_train, y_train)\n",
        "\n",
        "from sklearn.metrics import confusion_matrix\n",
        "score = gs.best_estimator_.score(X_test, y_test)\n",
        "print('最佳預測參數', gs.best_params_)\n",
        "print('訓練集交叉驗證的最佳結果', gs.best_score_.round(3))\n",
        "print('測試集的結果', score.round(3))\n",
        "y_pred = gs.best_estimator_.predict(X_test)\n",
        "print('混亂矩陣')\n",
        "print(confusion_matrix(y_test, y_pred))"
      ],
      "execution_count": 3,
      "outputs": [
        {
          "output_type": "stream",
          "text": [
            "最佳預測參數 {'model__n_estimators': 100}\n",
            "訓練集交叉驗證的最佳結果 0.988\n",
            "測試集的結果 0.986\n",
            "混亂矩陣\n",
            "[[3416   12]\n",
            " [  49 1023]]\n"
          ],
          "name": "stdout"
        }
      ]
    }
  ]
}