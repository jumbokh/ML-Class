{
  "nbformat": 4,
  "nbformat_minor": 0,
  "metadata": {
    "colab": {
      "name": "Ch20-Keras-DL.ipynb",
      "provenance": [],
      "authorship_tag": "ABX9TyPBCU6C+E4yS+DAGaeZHda8",
      "include_colab_link": true
    },
    "kernelspec": {
      "name": "python3",
      "display_name": "Python 3"
    },
    "language_info": {
      "name": "python"
    }
  },
  "cells": [
    {
      "cell_type": "markdown",
      "metadata": {
        "id": "view-in-github",
        "colab_type": "text"
      },
      "source": [
        "<a href=\"https://colab.research.google.com/github/jumbokh/ML-Class/blob/main/notebooks/Ch20_Keras_DL.ipynb\" target=\"_parent\"><img src=\"https://colab.research.google.com/assets/colab-badge.svg\" alt=\"Open In Colab\"/></a>"
      ]
    },
    {
      "cell_type": "code",
      "metadata": {
        "colab": {
          "base_uri": "https://localhost:8080/"
        },
        "id": "1YEFLylZiGGF",
        "outputId": "27edaa8d-e11f-432e-c515-e9e1f7a7ae56"
      },
      "source": [
        "import pandas as pd\n",
        "import numpy as np\n",
        "import matplotlib.pyplot as plt\n",
        "import seaborn as sns\n",
        "%matplotlib inline\n",
        "%config InlineBackend.figure_format = 'retina'\n",
        "import warnings\n",
        "warnings.filterwarnings('ignore')\n",
        "\n",
        "from sklearn.datasets import load_digits\n",
        "digit = load_digits()\n",
        "print('\\n'.join(digit['DESCR'].split('\\n')[:19]))"
      ],
      "execution_count": 1,
      "outputs": [
        {
          "output_type": "stream",
          "text": [
            ".. _digits_dataset:\n",
            "\n",
            "Optical recognition of handwritten digits dataset\n",
            "--------------------------------------------------\n",
            "\n",
            "**Data Set Characteristics:**\n",
            "\n",
            "    :Number of Instances: 5620\n",
            "    :Number of Attributes: 64\n",
            "    :Attribute Information: 8x8 image of integer pixels in the range 0..16.\n",
            "    :Missing Attribute Values: None\n",
            "    :Creator: E. Alpaydin (alpaydin '@' boun.edu.tr)\n",
            "    :Date: July; 1998\n",
            "\n",
            "This is a copy of the test set of the UCI ML hand-written digits datasets\n",
            "https://archive.ics.uci.edu/ml/datasets/Optical+Recognition+of+Handwritten+Digits\n",
            "\n",
            "The data set contains images of hand-written digits: 10 classes where\n",
            "each class refers to a digit.\n"
          ],
          "name": "stdout"
        }
      ]
    },
    {
      "cell_type": "code",
      "metadata": {
        "colab": {
          "base_uri": "https://localhost:8080/"
        },
        "id": "hJPMVK6KiRgy",
        "outputId": "a144ae5e-8b42-4394-8954-ae90261f8bc6"
      },
      "source": [
        "digit['data'][0].reshape(8, 8)"
      ],
      "execution_count": 2,
      "outputs": [
        {
          "output_type": "execute_result",
          "data": {
            "text/plain": [
              "array([[ 0.,  0.,  5., 13.,  9.,  1.,  0.,  0.],\n",
              "       [ 0.,  0., 13., 15., 10., 15.,  5.,  0.],\n",
              "       [ 0.,  3., 15.,  2.,  0., 11.,  8.,  0.],\n",
              "       [ 0.,  4., 12.,  0.,  0.,  8.,  8.,  0.],\n",
              "       [ 0.,  5.,  8.,  0.,  0.,  9.,  8.,  0.],\n",
              "       [ 0.,  4., 11.,  0.,  1., 12.,  7.,  0.],\n",
              "       [ 0.,  2., 14.,  5., 10., 12.,  0.,  0.],\n",
              "       [ 0.,  0.,  6., 13., 10.,  0.,  0.,  0.]])"
            ]
          },
          "metadata": {
            "tags": []
          },
          "execution_count": 2
        }
      ]
    },
    {
      "cell_type": "code",
      "metadata": {
        "colab": {
          "base_uri": "https://localhost:8080/",
          "height": 85
        },
        "id": "W79uxBTbiXSP",
        "outputId": "77cf1361-591b-42c4-ea21-4118a5818801"
      },
      "source": [
        "plt.figure(figsize=(1,1))\n",
        "plt.imshow(digit['data'][0].reshape(8, 8), cmap='gray')\n",
        "plt.axis('off');"
      ],
      "execution_count": 3,
      "outputs": [
        {
          "output_type": "display_data",
          "data": {
            "image/png": "[encoded data removed]",
            "text/plain": [
              "<Figure size 72x72 with 1 Axes>"
            ]
          },
          "metadata": {
            "tags": [],
            "image/png": {
              "width": 68,
              "height": 68
            },
            "needs_background": "light"
          }
        }
      ]
    },
    {
      "cell_type": "code",
      "metadata": {
        "colab": {
          "base_uri": "https://localhost:8080/",
          "height": 297
        },
        "id": "tCOz_5Fuifpq",
        "outputId": "58eb8b00-66e4-4fc6-ed99-89abdb56fa57"
      },
      "source": [
        "# ch20-4\n",
        "fig, axes = plt.subplots(4,4, figsize=(6,4))\n",
        "for i, ax in enumerate(axes.flatten()):\n",
        "    img = digit['data'][i].reshape(8, 8)\n",
        "    ax.imshow(img, cmap='gray')\n",
        "    ax.set_title(digit['target'][i])\n",
        "    ax.axis('off')\n",
        "plt.tight_layout()"
      ],
      "execution_count": 4,
      "outputs": [
        {
          "output_type": "display_data",
          "data": {
            "image/png": "[encoded data removed]",
            "text/plain": [
              "<Figure size 432x288 with 16 Axes>"
            ]
          },
          "metadata": {
            "tags": [],
            "image/png": {
              "width": 353,
              "height": 280
            },
            "needs_background": "light"
          }
        }
      ]
    },
    {
      "cell_type": "code",
      "metadata": {
        "colab": {
          "base_uri": "https://localhost:8080/"
        },
        "id": "5KRJYX9iimcE",
        "outputId": "d8711916-3cf3-4120-8f1b-953d4676e001"
      },
      "source": [
        "print('資料總筆數為：', np.size(digit['target']))\n",
        "print('資料目標值的個數：', np.bincount(digit['target']))"
      ],
      "execution_count": 5,
      "outputs": [
        {
          "output_type": "stream",
          "text": [
            "資料總筆數為： 1797\n",
            "資料目標值的個數： [178 182 177 183 181 182 181 179 174 180]\n"
          ],
          "name": "stdout"
        }
      ]
    },
    {
      "cell_type": "code",
      "metadata": {
        "id": "HkvQzrMCirnQ"
      },
      "source": [
        "X = digit['data']\n",
        "y = digit['target']\n",
        "from sklearn.model_selection import train_test_split\n",
        "X_train, X_test, y_train, y_test = train_test_split(X, y, \n",
        "                                                    test_size=0.3, random_state=42)"
      ],
      "execution_count": 6,
      "outputs": []
    },
    {
      "cell_type": "code",
      "metadata": {
        "colab": {
          "base_uri": "https://localhost:8080/"
        },
        "id": "Y-Ur_bVdiwU9",
        "outputId": "7e219880-3210-4ba3-ff85-7c2680e653d2"
      },
      "source": [
        "# ch20-7\n",
        "from sklearn.neighbors import KNeighborsClassifier\n",
        "from sklearn.linear_model import LogisticRegression\n",
        "from sklearn.preprocessing import MinMaxScaler\n",
        "from sklearn.pipeline import make_pipeline\n",
        "model_pl_kn = make_pipeline(MinMaxScaler(), KNeighborsClassifier())\n",
        "model_pl_kn.fit(X_train, y_train)\n",
        "y_pred = model_pl_kn.predict(X_test)\n",
        "\n",
        "from sklearn.metrics import confusion_matrix, accuracy_score\n",
        "print('正確率：',accuracy_score(y_test, y_pred).round(3))\n",
        "print(confusion_matrix(y_test, y_pred))"
      ],
      "execution_count": 7,
      "outputs": [
        {
          "output_type": "stream",
          "text": [
            "正確率： 0.993\n",
            "[[53  0  0  0  0  0  0  0  0  0]\n",
            " [ 0 50  0  0  0  0  0  0  0  0]\n",
            " [ 0  0 47  0  0  0  0  0  0  0]\n",
            " [ 0  0  0 54  0  0  0  0  0  0]\n",
            " [ 0  0  0  0 60  0  0  0  0  0]\n",
            " [ 0  0  0  0  0 65  0  0  0  1]\n",
            " [ 0  0  0  0  0  0 53  0  0  0]\n",
            " [ 0  0  0  0  0  0  0 55  0  0]\n",
            " [ 0  0  0  0  0  0  0  0 43  0]\n",
            " [ 0  0  0  1  1  1  0  0  0 56]]\n"
          ],
          "name": "stdout"
        }
      ]
    },
    {
      "cell_type": "code",
      "metadata": {
        "id": "iUgaUKSpi2X0"
      },
      "source": [
        "# ch20-8\n",
        "from tensorflow.keras import models\n",
        "from tensorflow.keras.layers import Dense\n",
        "\n",
        "model = models.Sequential()\n",
        "model.add(Dense(512, activation='relu', input_shape=(64,)))\n",
        "model.add(Dense(10, activation='softmax'))\n",
        "model.compile(optimizer='adam', loss='categorical_crossentropy', \n",
        "              metrics=['accuracy'])"
      ],
      "execution_count": 8,
      "outputs": []
    },
    {
      "cell_type": "code",
      "metadata": {
        "colab": {
          "base_uri": "https://localhost:8080/"
        },
        "id": "TXjDJ8CXi93B",
        "outputId": "0b734d80-6f11-4d26-9e9a-155612f3fc6d"
      },
      "source": [
        "# ch20-9\n",
        "from sklearn.preprocessing import OneHotEncoder\n",
        "oh = OneHotEncoder()\n",
        "y_train_oh =  oh.fit_transform(y_train.reshape(-1,1))\n",
        "y_test_oh = oh.transform(y_test.reshape(-1,1))\n",
        "print('第一筆資料的目標值：', y_train[0])\n",
        "print('獨熱編碼結果：')\n",
        "print(pd.DataFrame(y_train_oh.toarray()[[0]]))"
      ],
      "execution_count": 9,
      "outputs": [
        {
          "output_type": "stream",
          "text": [
            "第一筆資料的目標值： 8\n",
            "獨熱編碼結果：\n",
            "     0    1    2    3    4    5    6    7    8    9\n",
            "0  0.0  0.0  0.0  0.0  0.0  0.0  0.0  0.0  1.0  0.0\n"
          ],
          "name": "stdout"
        }
      ]
    },
    {
      "cell_type": "code",
      "metadata": {
        "colab": {
          "base_uri": "https://localhost:8080/"
        },
        "id": "UkB1wrJwjDzP",
        "outputId": "4b30e8f0-5e37-43f4-9d5e-62d7e5df0d53"
      },
      "source": [
        "# ch20-10\n",
        "np.random.seed(42)\n",
        "model.fit(X_train, y_train_oh.toarray(), \n",
        "          epochs=50, verbose=0, validation_split=0.2)\n",
        "\n",
        "y_pred_oh = model.predict(X_test)\n",
        "y_pred = y_pred_oh.argmax(axis = 1)\n",
        "\n",
        "print('正確率：',accuracy_score(y_test, y_pred).round(3))\n",
        "print(confusion_matrix(y_test, y_pred))"
      ],
      "execution_count": 10,
      "outputs": [
        {
          "output_type": "stream",
          "text": [
            "正確率： 0.976\n",
            "[[52  0  1  0  0  0  0  0  0  0]\n",
            " [ 0 48  0  0  0  0  0  0  1  1]\n",
            " [ 0  0 47  0  0  0  0  0  0  0]\n",
            " [ 0  0  1 52  0  1  0  0  0  0]\n",
            " [ 0  0  0  0 60  0  0  0  0  0]\n",
            " [ 0  0  0  0  0 64  1  0  0  1]\n",
            " [ 0  0  0  0  0  1 52  0  0  0]\n",
            " [ 0  0  0  0  0  0  0 54  0  1]\n",
            " [ 0  1  0  0  0  1  0  0 41  0]\n",
            " [ 0  0  0  0  0  0  0  1  1 57]]\n"
          ],
          "name": "stdout"
        }
      ]
    },
    {
      "cell_type": "code",
      "metadata": {
        "colab": {
          "base_uri": "https://localhost:8080/"
        },
        "id": "fgdJlNu0jJlF",
        "outputId": "5b72298c-14e1-4eba-d721-9fccac064004"
      },
      "source": [
        "# ch20-11\n",
        "from tensorflow.keras.wrappers.scikit_learn import KerasClassifier\n",
        "\n",
        "def build_model():\n",
        "    model = models.Sequential()\n",
        "    model.add(Dense(512, activation='relu', input_shape=(64,)))\n",
        "    model.add(Dense(10, activation='softmax'))\n",
        "    model.compile(optimizer='adam', loss='categorical_crossentropy', \n",
        "                  metrics=['accuracy'])\n",
        "    return model\n",
        "\n",
        "np.random.seed(42)\n",
        "model_deep = KerasClassifier(build_fn=build_model, epochs=50, verbose=0)\n",
        "model_pl = make_pipeline(MinMaxScaler(), model_deep)\n",
        "model_pl.fit(X_train, y_train)\n",
        "y_pred = model_pl.predict(X_test)\n",
        "\n",
        "print('正確率：',accuracy_score(y_test, y_pred).round(3))\n",
        "print(confusion_matrix(y_test, y_pred))"
      ],
      "execution_count": 11,
      "outputs": [
        {
          "output_type": "stream",
          "text": [
            "正確率： 0.98\n",
            "[[53  0  0  0  0  0  0  0  0  0]\n",
            " [ 0 50  0  0  0  0  0  0  0  0]\n",
            " [ 0  0 47  0  0  0  0  0  0  0]\n",
            " [ 0  0  0 52  0  1  0  0  1  0]\n",
            " [ 0  0  0  0 60  0  0  0  0  0]\n",
            " [ 0  0  0  0  0 63  1  1  0  1]\n",
            " [ 1  0  0  0  0  0 52  0  0  0]\n",
            " [ 0  0  0  0  0  0  0 54  0  1]\n",
            " [ 0  1  0  0  0  1  0  0 41  0]\n",
            " [ 0  0  0  0  0  0  0  0  2 57]]\n"
          ],
          "name": "stdout"
        }
      ]
    },
    {
      "cell_type": "code",
      "metadata": {
        "colab": {
          "base_uri": "https://localhost:8080/"
        },
        "id": "NDWUdkLAjP0l",
        "outputId": "8bc85d7a-e8cb-4fc3-9db7-5a3cfb77f47d"
      },
      "source": [
        "# ch20-12\n",
        "param_grid = {\n",
        "    'kerasclassifier__epochs':[50, 100, 150],\n",
        "    'kerasclassifier__validation_split':[0.1, 0.2]\n",
        "}\n",
        "from sklearn.model_selection import GridSearchCV\n",
        "gs = GridSearchCV(model_pl, param_grid=param_grid, cv=5, scoring='accuracy')\n",
        "gs.fit(X_train, y_train)\n",
        "\n",
        "print('最佳參數：',gs.best_params_)\n",
        "y_pred = gs.best_estimator_.predict(X_test)\n",
        "print('正確率：',accuracy_score(y_test, y_pred).round(3))\n",
        "print(confusion_matrix(y_test, y_pred))"
      ],
      "execution_count": 12,
      "outputs": [
        {
          "output_type": "stream",
          "text": [
            "最佳參數： {'kerasclassifier__epochs': 100, 'kerasclassifier__validation_split': 0.1}\n",
            "正確率： 0.983\n",
            "[[53  0  0  0  0  0  0  0  0  0]\n",
            " [ 0 50  0  0  0  0  0  0  0  0]\n",
            " [ 0  0 47  0  0  0  0  0  0  0]\n",
            " [ 0  0  1 52  0  1  0  0  0  0]\n",
            " [ 0  0  0  0 60  0  0  0  0  0]\n",
            " [ 0  1  0  0  0 64  1  0  0  0]\n",
            " [ 0  0  0  0  0  1 52  0  0  0]\n",
            " [ 0  0  0  0  0  0  0 54  0  1]\n",
            " [ 0  1  0  0  0  1  0  0 41  0]\n",
            " [ 0  0  0  0  0  0  0  0  1 58]]\n"
          ],
          "name": "stdout"
        }
      ]
    },
    {
      "cell_type": "code",
      "metadata": {
        "colab": {
          "base_uri": "https://localhost:8080/"
        },
        "id": "25JZ1JlWjWLh",
        "outputId": "1d5079d4-af9c-4f6e-dce7-ed0541ac57de"
      },
      "source": [
        "# ch20-13\n",
        "def build_model(node_numbers=128):\n",
        "    model = models.Sequential()\n",
        "    model.add(Dense(node_numbers, activation='relu', input_shape=(64,)))\n",
        "    model.add(Dense(10, activation='softmax'))\n",
        "    model.compile(optimizer='adam', loss='categorical_crossentropy', \n",
        "                  metrics=['accuracy'])\n",
        "    return model\n",
        "\n",
        "model_deep = KerasClassifier(build_fn=build_model, epochs=10, verbose=0)\n",
        "model_pl = make_pipeline(MinMaxScaler(), model_deep)\n",
        "\n",
        "param_grid = {\n",
        "    'kerasclassifier__node_numbers':[64, 128, 512],\n",
        "}\n",
        "\n",
        "gs = GridSearchCV(model_pl, param_grid=param_grid, cv=5, scoring='accuracy')\n",
        "gs.fit(X_train, y_train)\n",
        "gs.fit(X_train, y_train)\n",
        "\n",
        "print('最佳參數：',gs.best_params_)\n",
        "y_pred = gs.best_estimator_.predict(X_test)\n",
        "print('正確率：',accuracy_score(y_test, y_pred).round(3))\n",
        "print(confusion_matrix(y_test, y_pred))"
      ],
      "execution_count": 13,
      "outputs": [
        {
          "output_type": "stream",
          "text": [
            "最佳參數： {'kerasclassifier__node_numbers': 512}\n",
            "正確率： 0.969\n",
            "[[52  0  0  0  1  0  0  0  0  0]\n",
            " [ 0 48  0  0  1  0  0  0  1  0]\n",
            " [ 0  0 47  0  0  0  0  0  0  0]\n",
            " [ 0  0  1 51  0  1  0  0  1  0]\n",
            " [ 0  0  0  0 60  0  0  0  0  0]\n",
            " [ 0  0  0  0  1 63  1  0  0  1]\n",
            " [ 0  0  0  0  1  0 52  0  0  0]\n",
            " [ 0  0  0  0  0  0  0 54  0  1]\n",
            " [ 0  2  0  0  0  1  0  0 40  0]\n",
            " [ 0  0  0  1  0  1  0  1  0 56]]\n"
          ],
          "name": "stdout"
        }
      ]
    },
    {
      "cell_type": "code",
      "metadata": {
        "colab": {
          "base_uri": "https://localhost:8080/"
        },
        "id": "_lF858z8jcwu",
        "outputId": "0bd4b196-251f-4b0e-ae45-4aba80997874"
      },
      "source": [
        "# ch20-14\n",
        "def build_model(hidden_layers=1):\n",
        "    model = models.Sequential()\n",
        "    model.add(Dense(128, activation='relu', input_shape=(64,)))\n",
        "    for i in range(hidden_layers):\n",
        "        model.add(Dense(64, activation='relu'))\n",
        "    model.add(Dense(10, activation='softmax'))\n",
        "    model.compile(optimizer='adam', loss='categorical_crossentropy', metrics=['accuracy'])\n",
        "    return model\n",
        "\n",
        "model_deep = KerasClassifier(build_fn=build_model, epochs=50, verbose=0)\n",
        "model_pl = make_pipeline(MinMaxScaler(), model_deep)\n",
        "\n",
        "param_grid = {\n",
        "    'kerasclassifier__hidden_layers':range(1,5),\n",
        "}\n",
        "gs = GridSearchCV(model_pl, param_grid=param_grid, cv=5, scoring='accuracy')\n",
        "gs.fit(X_train, y_train)\n",
        "\n",
        "print('最佳參數：',gs.best_params_)\n",
        "y_pred = gs.best_estimator_.predict(X_test)\n",
        "print('正確率：',accuracy_score(y_test, y_pred).round(3))\n",
        "print(confusion_matrix(y_test, y_pred))"
      ],
      "execution_count": 14,
      "outputs": [
        {
          "output_type": "stream",
          "text": [
            "最佳參數： {'kerasclassifier__hidden_layers': 3}\n",
            "正確率： 0.974\n",
            "[[52  0  0  0  1  0  0  0  0  0]\n",
            " [ 0 50  0  0  0  0  0  0  0  0]\n",
            " [ 0  0 47  0  0  0  0  0  0  0]\n",
            " [ 0  0  0 53  0  1  0  0  0  0]\n",
            " [ 0  0  0  0 60  0  0  0  0  0]\n",
            " [ 0  1  1  0  0 61  1  1  0  1]\n",
            " [ 1  0  0  0  0  0 52  0  0  0]\n",
            " [ 0  0  0  0  0  0  0 54  0  1]\n",
            " [ 0  0  0  0  0  1  0  0 42  0]\n",
            " [ 0  0  0  2  0  0  0  1  1 55]]\n"
          ],
          "name": "stdout"
        }
      ]
    }
  ]
}