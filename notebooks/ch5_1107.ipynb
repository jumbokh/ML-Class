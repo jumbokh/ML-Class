{
  "cells": [
    {
      "cell_type": "code",
      "execution_count": null,
      "metadata": {
        "colab": {
          "base_uri": "https://localhost:8080/"
        },
        "id": "oJ7F1Ue4AHTP",
        "outputId": "2b8a157e-06b6-4f95-dd02-811fd8ed9634"
      },
      "outputs": [
        {
          "name": "stdout",
          "output_type": "stream",
          "text": [
            "Please input a number:70\n"
          ]
        }
      ],
      "source": [
        "import math\n",
        "num = int(input('Please input a number:'))\n",
        "tt = num\n",
        "if num < 50:\n",
        "  num = math.sqrt(num)*10\n",
        "print('%d, %5.2f'%(tt,num))"
      ]
    },
    {
      "cell_type": "markdown",
      "metadata": {
        "id": "_J2MzqixCNRG"
      },
      "source": [
        "### Q. 輸入一個值, 如果小於50, 者將該數 開根號乘與10\n",
        "###   否則該數加 10"
      ]
    },
    {
      "cell_type": "code",
      "execution_count": null,
      "metadata": {
        "colab": {
          "base_uri": "https://localhost:8080/"
        },
        "id": "Bdy6FGztBBCx",
        "outputId": "2ceb5f98-5102-497e-e418-12fbe512b857"
      },
      "outputs": [
        {
          "name": "stdout",
          "output_type": "stream",
          "text": [
            "Please input a number:45\n",
            "45, 67\n",
            "45, 67.08\n"
          ]
        }
      ],
      "source": [
        "import math\n",
        "num = int(input('Please input a number:'))\n",
        "tt = num\n",
        "if num < 50:\n",
        "  num = math.sqrt(num)*10\n",
        "else:\n",
        "  num = num+10\n",
        "print('%d, %d'%(tt,round(num)))\n",
        "print('%d, %5.2f'%(tt,num))"
      ]
    },
    {
      "cell_type": "markdown",
      "metadata": {
        "id": "-ZadxXNoEbXr"
      },
      "source": [
        "#A: 90~100\n",
        "#B: 80~89\n",
        "#C: 70:79\n",
        "#D: 60:69\n",
        "#E: others"
      ]
    },
    {
      "cell_type": "code",
      "execution_count": null,
      "metadata": {
        "colab": {
          "base_uri": "https://localhost:8080/"
        },
        "id": "u6F8MHa7C2-h",
        "outputId": "fd6d3f14-2812-423e-dd87-200f0f27586d"
      },
      "outputs": [
        {
          "name": "stdout",
          "output_type": "stream",
          "text": [
            "your score:85\n",
            "Your score:85, Got grade:B\n"
          ]
        }
      ],
      "source": [
        "num=int(input('your score:'))\n",
        "grade=''\n",
        "if num>=90:\n",
        "  grade='A'\n",
        "elif num>=80:\n",
        "  grade='B'\n",
        "elif num>=70:\n",
        "  grade='C'\n",
        "elif num>=60:\n",
        "  grade='D'\n",
        "else:\n",
        "  grade='E'\n",
        "print('Your score:%d, Got grade:%s'%(num,grade))"
      ]
    },
    {
      "cell_type": "code",
      "execution_count": null,
      "metadata": {
        "id": "oNel0Od4FgRN"
      },
      "outputs": [],
      "source": [
        "a=566\n",
        "b=1000\n",
        "n=1000-566"
      ]
    },
    {
      "cell_type": "code",
      "execution_count": null,
      "metadata": {
        "colab": {
          "base_uri": "https://localhost:8080/"
        },
        "id": "DC6ZYTJNnQa3",
        "outputId": "1841df71-fc86-4659-9bbe-a0e6fec7acb8"
      },
      "outputs": [
        {
          "name": "stdout",
          "output_type": "stream",
          "text": [
            "434\n"
          ]
        }
      ],
      "source": [
        "print(n)"
      ]
    },
    {
      "cell_type": "code",
      "execution_count": null,
      "metadata": {
        "colab": {
          "base_uri": "https://localhost:8080/"
        },
        "id": "1c7kN0rWnVo5",
        "outputId": "03efef11-ba16-4c3e-f09d-7afc0a789763"
      },
      "outputs": [
        {
          "name": "stdout",
          "output_type": "stream",
          "text": [
            "4 34\n"
          ]
        }
      ],
      "source": [
        "a1=int(n/100)\n",
        "a2=n%100\n",
        "print(a1,a2)"
      ]
    },
    {
      "cell_type": "code",
      "execution_count": null,
      "metadata": {
        "colab": {
          "base_uri": "https://localhost:8080/"
        },
        "id": "A2XQV2JRnl9H",
        "outputId": "79bc0093-fe01-4053-b5ac-8c0eebc3e147"
      },
      "outputs": [
        {
          "name": "stdout",
          "output_type": "stream",
          "text": [
            "3 4\n"
          ]
        }
      ],
      "source": [
        "a3=int(a2/10)\n",
        "a4=a2%10\n",
        "print(a3,a4)"
      ]
    },
    {
      "cell_type": "code",
      "execution_count": null,
      "metadata": {
        "colab": {
          "base_uri": "https://localhost:8080/"
        },
        "id": "c2jwu2IZn5tU",
        "outputId": "a0bf18ca-693b-4a4e-e740-e4c1ecbd2ab5"
      },
      "outputs": [
        {
          "name": "stdout",
          "output_type": "stream",
          "text": [
            "You buy: 434\n",
            "You pay: 1000\n"
          ]
        }
      ],
      "source": [
        "n1=int(input('You buy: '))\n",
        "n2=int(input('You pay: '))"
      ]
    },
    {
      "cell_type": "code",
      "execution_count": null,
      "metadata": {
        "id": "t56idP8boipX"
      },
      "outputs": [],
      "source": [
        "if n2>n1:\n",
        "  print(\"找零:\")\n",
        "  pass\n",
        "elif n2==n1:\n",
        "  print('Welcome again!')\n",
        "elif n2<n1:\n",
        "  print('Not enough!')"
      ]
    },
    {
      "cell_type": "code",
      "execution_count": null,
      "metadata": {
        "colab": {
          "base_uri": "https://localhost:8080/"
        },
        "id": "mrX53P3GpOPs",
        "outputId": "fd0dfb5a-ab20-43da-ff56-6e081cd26799"
      },
      "outputs": [
        {
          "name": "stdout",
          "output_type": "stream",
          "text": [
            "請輸入0-30的數值: 18\n",
            "請輸入性別: 1. 男  2. 女: 1\n",
            "帥哥，你猜對了，真棒!\n"
          ]
        }
      ],
      "source": [
        "#E_5_4 功能: 猜數字遊戲\n",
        "num=int(input('請輸入0-30的數值: '))\n",
        "sex=input('請輸入性別: 1. 男  2. 女: ')\n",
        "nmax=30   #設定最大值\n",
        "nmin=0   #設定最小值\n",
        "bingo=18  #答案\n",
        "diff=0   #計算差額\n",
        "if num==bingo:  #條件1\n",
        "    if sex=='1':\n",
        "        print('帥哥，你猜對了，真棒!')\n",
        "    else:\n",
        "        print('美女，妳猜對了，了不起')\n",
        "elif (num < bingo) & (num>=nmin):  #條件2\n",
        "    diff=abs(num-bingo)\n",
        "    if diff<3:\n",
        "        print('你猜的數字比較小，已經接近了')\n",
        "    else:\n",
        "        print('你猜的數字比較小，還差很多')\n",
        "elif (num> bingo) & (num<=nmax):  #條件3\n",
        "    diff=num-bingo\n",
        "    if diff<3:\n",
        "        print('你猜的數字比較大，已經接近了')\n",
        "    else:\n",
        "        print('你猜的數字比較大，還差很多')\n",
        "else:  #條件4\n",
        "    if num<0 or num>30:\n",
        "        print('輸入超過數值範圍')"
      ]
    },
    {
      "cell_type": "code",
      "execution_count": null,
      "metadata": {
        "colab": {
          "base_uri": "https://localhost:8080/"
        },
        "id": "cUQU2wassDCs",
        "outputId": "34116080-fb4e-4c2f-96a3-b165606c609c"
      },
      "outputs": [
        {
          "name": "stdout",
          "output_type": "stream",
          "text": [
            "0\n",
            "2\n",
            "4\n",
            "6\n",
            "8\n"
          ]
        }
      ],
      "source": [
        "for i in range(0,10,2):\n",
        "  print(i)"
      ]
    },
    {
      "cell_type": "code",
      "execution_count": null,
      "metadata": {
        "colab": {
          "base_uri": "https://localhost:8080/"
        },
        "id": "vVqh-VLQtZTi",
        "outputId": "825f895e-3866-463f-bc80-9532025ea4c4"
      },
      "outputs": [
        {
          "name": "stdout",
          "output_type": "stream",
          "text": [
            " 0 +  1 =  1\n",
            " 1 +  2 =  3\n",
            " 3 +  3 =  6\n",
            " 6 +  4 = 10\n",
            "10 +  5 = 15\n",
            "15 +  6 = 21\n",
            "21 +  7 = 28\n",
            "28 +  8 = 36\n",
            "36 +  9 = 45\n",
            "45 + 10 = 55\n",
            "total= 55\n"
          ]
        }
      ],
      "source": [
        "sumi=0\n",
        "n=10\n",
        "for i in range(1,n+1):\n",
        "  o = sumi\n",
        "  sumi = sumi + i\n",
        "  print('%2d + %2d = %2d'%(o,i,sumi))\n",
        "print('total= %d'%sumi)"
      ]
    },
    {
      "cell_type": "code",
      "execution_count": null,
      "metadata": {
        "colab": {
          "base_uri": "https://localhost:8080/"
        },
        "id": "SuPxBfC8xXoE",
        "outputId": "e37099a4-cb17-4545-efff-10bc1af11ff4"
      },
      "outputs": [
        {
          "name": "stdout",
          "output_type": "stream",
          "text": [
            "#14, 1~100\n",
            "total=735\n",
            "[7, 14, 21, 28, 35, 42, 49, 56, 63, 70, 77, 84, 91, 98]\n"
          ]
        }
      ],
      "source": [
        "n=100\n",
        "count=0\n",
        "total=0\n",
        "lis=[]\n",
        "for i in range(1,n+1):\n",
        "  if i%7 == 0:\n",
        "    count = count+1\n",
        "    total = total+i\n",
        "    lis.append(i)\n",
        "print('#%2d, 1~100'%count)\n",
        "print('total=%3d'%total)\n",
        "print(lis)"
      ]
    },
    {
      "cell_type": "code",
      "execution_count": null,
      "metadata": {
        "colab": {
          "base_uri": "https://localhost:8080/"
        },
        "id": "gEX8eWyn0S5k",
        "outputId": "f8fa5d9c-83f9-4f73-e981-0b24fec265f7"
      },
      "outputs": [
        {
          "name": "stdout",
          "output_type": "stream",
          "text": [
            "#14, 1~100\n",
            "total=735\n",
            "[7, 14, 21, 28, 35, 42, 49, 56, 63, 70, 77, 84, 91, 98]\n",
            "[(1, 0), (2, 0), (3, 0), (4, 0), (5, 0), (6, 0), (7, 0), (8, 0), (9, 0), (10, 0), (11, 0), (12, 0), (13, 0), (14, 0)]\n"
          ]
        }
      ],
      "source": [
        "n=100   #最大值\n",
        "count=0  #累計個數\n",
        "total=0  #累計值\n",
        "lis=[]   #空白 list\n",
        "qrlist=[] #空白 list\n",
        "for i in range(1,n+1):   # 1~100\n",
        "  (q,r) = divmod(i,7)   # (商,餘數) = i/7\n",
        "  if r == 0:       # 如果餘數等於 0\n",
        "    count = count+1   # 個數加1\n",
        "    total = total+i   # 累計\n",
        "    lis.append(i)     #新增一筆符合餘數為0的數字至 list\n",
        "    qrlist.append((q,r)) #新增一筆符合餘數為0的商與餘數至 list\n",
        "print('#%2d, 1~100'%count)  #輸出\n",
        "print('total=%3d'%total)\n",
        "print(lis)\n",
        "print(qrlist)"
      ]
    },
    {
      "cell_type": "markdown",
      "metadata": {
        "id": "UtVzoXAk4Gfi"
      },
      "source": [
        "## Q. 輸入一數值, 計算如下公式:\n",
        "### result = (1-1/2) + (1-1/3) + (1-1/4) + ... \n",
        "### + (1-1/n)"
      ]
    },
    {
      "cell_type": "code",
      "execution_count": null,
      "metadata": {
        "colab": {
          "base_uri": "https://localhost:8080/"
        },
        "id": "GU-DrjYa1hIN",
        "outputId": "72955006-46fc-4af3-a803-9814772e051a"
      },
      "outputs": [
        {
          "name": "stdout",
          "output_type": "stream",
          "text": [
            "Input a number:100\n"
          ]
        }
      ],
      "source": [
        "n = int(input('Input a number:'))"
      ]
    },
    {
      "cell_type": "code",
      "execution_count": null,
      "metadata": {
        "colab": {
          "base_uri": "https://localhost:8080/"
        },
        "id": "fnM08IJG4vBk",
        "outputId": "9df177e5-97f8-4ef8-e00e-986dc2fc0d71"
      },
      "outputs": [
        {
          "name": "stdout",
          "output_type": "stream",
          "text": [
            "   94.81\n"
          ]
        }
      ],
      "source": [
        "result=0\n",
        "for i in range(2,n+1):\n",
        "  result = result + (1-1/i)\n",
        "print('%8.2f'%result)"
      ]
    },
    {
      "cell_type": "markdown",
      "metadata": {
        "id": "YqBoA4Vg6njk"
      },
      "source": [
        "## 產生一個 9X9 的二維陣列\n",
        "## 陣列中元素的值為 0~9"
      ]
    },
    {
      "cell_type": "code",
      "execution_count": null,
      "metadata": {
        "id": "GrFDSLIX5UZa"
      },
      "outputs": [],
      "source": [
        "import random as rd"
      ]
    },
    {
      "cell_type": "code",
      "execution_count": null,
      "metadata": {
        "colab": {
          "base_uri": "https://localhost:8080/"
        },
        "id": "xZ8QDqat6diK",
        "outputId": "7907fa44-7aa5-4860-c17e-c7bbe16ec703"
      },
      "outputs": [
        {
          "data": {
            "text/plain": [
              "1"
            ]
          },
          "execution_count": 53,
          "metadata": {},
          "output_type": "execute_result"
        }
      ],
      "source": [
        "n = rd.randint(0,9)\n",
        "n"
      ]
    },
    {
      "cell_type": "code",
      "execution_count": null,
      "metadata": {
        "colab": {
          "base_uri": "https://localhost:8080/"
        },
        "id": "qBBxoicn66by",
        "outputId": "b49c1503-3438-4e65-dfcd-5cdbf333c9d4"
      },
      "outputs": [
        {
          "name": "stdout",
          "output_type": "stream",
          "text": [
            "[4, 4, 4, 3, 5, 2, 2, 5, 5]\n",
            "[5, 1, 2, 3, 6, 4, 5, 7, 1]\n",
            "[9, 5, 7, 5, 9, 8, 4, 4, 2]\n",
            "[1, 7, 4, 4, 7, 3, 3, 0, 6]\n",
            "[7, 0, 8, 2, 8, 2, 8, 5, 2]\n",
            "[3, 1, 3, 8, 7, 3, 2, 4, 7]\n",
            "[2, 6, 1, 5, 9, 7, 1, 0, 3]\n",
            "[7, 0, 0, 8, 9, 6, 4, 5, 4]\n",
            "[1, 0, 6, 3, 8, 3, 2, 8, 1]\n"
          ]
        }
      ],
      "source": [
        "m = 9\n",
        "lis0=[]\n",
        "for i in range(0,m):\n",
        "  lis1=[]\n",
        "  for j in range(0,m):\n",
        "    x = rd.randint(0,9)\n",
        "    lis1.append(x)\n",
        "  lis0.append(lis1)\n",
        "  print(lis1)"
      ]
    },
    {
      "cell_type": "code",
      "execution_count": null,
      "metadata": {
        "colab": {
          "base_uri": "https://localhost:8080/"
        },
        "id": "4pqxs-wTq0pf",
        "outputId": "1d75bd93-5f08-40bf-f40e-d275c99522f3"
      },
      "outputs": [
        {
          "name": "stdout",
          "output_type": "stream",
          "text": [
            "i/j   1  2  3  4  5  6  7  8  9\n",
            "  1   6  1  3  0  3  0  2  8  5\n",
            "  2   8  1  0  1  1  6  6  7  3\n",
            "  3   0  6  1  1  2  9  4  9  4\n",
            "  4   0  9  4  8  0  7  9  0  8\n",
            "  5   4  4  6  2  1  7  0  0  8\n",
            "  6   3  5  1  4  0  8  8  6  7\n",
            "  7   3  0  7  7  2  9  4  1  2\n",
            "  8   4  9  4  3  6  7  2  2  8\n",
            "  9   0  5  1  0  0  6  2  5  4\n"
          ]
        }
      ],
      "source": [
        "# E_5_9 功能: 以雙迴圈(9列，9行)產生亂數(0到9)模擬二維陣列\n",
        "from random import randint as ri\n",
        "## 印表頭\n",
        "print(\"i/j\",end=\" \")\n",
        "for i in range(1,10):\n",
        "  print(\"%3d\"%i,end=\"\")\n",
        "print()\n",
        "##\n",
        "for i in range(1, 10):  #外圈\n",
        "    print(\"%3d \"%i,end=\"\") # 印 index\n",
        "    for j in range(1, 10):  #內圈\n",
        "        num=ri(0,9)  \n",
        "        print('%3d'%(num), end='')\n",
        "    print()"
      ]
    },
    {
      "cell_type": "markdown",
      "metadata": {
        "id": "WQmLjrKhBmo3"
      },
      "source": [
        "## 九九乘法表 1~9"
      ]
    },
    {
      "cell_type": "code",
      "execution_count": null,
      "metadata": {
        "colab": {
          "base_uri": "https://localhost:8080/"
        },
        "id": "_HT0lzHy_ALp",
        "outputId": "4baa6711-ddca-4889-c7f2-930618eb487e"
      },
      "outputs": [
        {
          "name": "stdout",
          "output_type": "stream",
          "text": [
            " 1 * 1 =  1,  1 * 2 =  2,  1 * 3 =  3,  1 * 4 =  4,  1 * 5 =  5,  1 * 6 =  6,  1 * 7 =  7,  1 * 8 =  8,  1 * 9 =  9, \n",
            " 2 * 1 =  2,  2 * 2 =  4,  2 * 3 =  6,  2 * 4 =  8,  2 * 5 = 10,  2 * 6 = 12,  2 * 7 = 14,  2 * 8 = 16,  2 * 9 = 18, \n",
            " 3 * 1 =  3,  3 * 2 =  6,  3 * 3 =  9,  3 * 4 = 12,  3 * 5 = 15,  3 * 6 = 18,  3 * 7 = 21,  3 * 8 = 24,  3 * 9 = 27, \n",
            " 4 * 1 =  4,  4 * 2 =  8,  4 * 3 = 12,  4 * 4 = 16,  4 * 5 = 20,  4 * 6 = 24,  4 * 7 = 28,  4 * 8 = 32,  4 * 9 = 36, \n",
            " 5 * 1 =  5,  5 * 2 = 10,  5 * 3 = 15,  5 * 4 = 20,  5 * 5 = 25,  5 * 6 = 30,  5 * 7 = 35,  5 * 8 = 40,  5 * 9 = 45, \n",
            " 6 * 1 =  6,  6 * 2 = 12,  6 * 3 = 18,  6 * 4 = 24,  6 * 5 = 30,  6 * 6 = 36,  6 * 7 = 42,  6 * 8 = 48,  6 * 9 = 54, \n",
            " 7 * 1 =  7,  7 * 2 = 14,  7 * 3 = 21,  7 * 4 = 28,  7 * 5 = 35,  7 * 6 = 42,  7 * 7 = 49,  7 * 8 = 56,  7 * 9 = 63, \n",
            " 8 * 1 =  8,  8 * 2 = 16,  8 * 3 = 24,  8 * 4 = 32,  8 * 5 = 40,  8 * 6 = 48,  8 * 7 = 56,  8 * 8 = 64,  8 * 9 = 72, \n",
            " 9 * 1 =  9,  9 * 2 = 18,  9 * 3 = 27,  9 * 4 = 36,  9 * 5 = 45,  9 * 6 = 54,  9 * 7 = 63,  9 * 8 = 72,  9 * 9 = 81, \n"
          ]
        }
      ],
      "source": [
        "n = 9\n",
        "m = 9\n",
        "for i in range(1,n+1):\n",
        "  for j in range(1,m+1):\n",
        "    print(\"%2d *%2d =%3d\"%(i,j,i*j),end=\", \")\n",
        "  print()"
      ]
    },
    {
      "cell_type": "markdown",
      "metadata": {
        "id": "P6gdY6bKDgWN"
      },
      "source": [
        "## 重複亂數產生 0~9 , 遇到 0 時停止\n",
        "## 並印出累計次數"
      ]
    },
    {
      "cell_type": "code",
      "execution_count": null,
      "metadata": {
        "colab": {
          "base_uri": "https://localhost:8080/"
        },
        "id": "ecKHteoKCSao",
        "outputId": "a0994760-0ec5-4b8d-e1c8-d2f3f393fa34"
      },
      "outputs": [
        {
          "name": "stdout",
          "output_type": "stream",
          "text": [
            "3, 8, 8, 7, 6, 2, 4, 3, 4, 5, \n",
            "1, 4, 7, 7, 8, 3, 9, 6, 3, 6, \n",
            "\n",
            "Count: 20\n"
          ]
        }
      ],
      "source": [
        "from random import randint as ri\n",
        "count=0\n",
        "num=1\n",
        "while num!=0:\n",
        "  num = ri(0,9)\n",
        "  if num!=0:\n",
        "   print(num,end=\", \")\n",
        "   count = count + 1\n",
        "   if count%10 == 0:\n",
        "     print()\n",
        "\n",
        "print('\\nCount:%3d'%count)"
      ]
    },
    {
      "cell_type": "code",
      "execution_count": null,
      "metadata": {
        "colab": {
          "base_uri": "https://localhost:8080/"
        },
        "id": "XD2AuKvrEVk-",
        "outputId": "f366859f-1ea3-4619-b09e-2ebfb3258dc0"
      },
      "outputs": [
        {
          "name": "stdout",
          "output_type": "stream",
          "text": [
            " 1 * 1 =  1,  1 * 2 =  2,  1 * 3 =  3,  1 * 4 =  4,  1 * 5 =  5,  1 * 6 =  6,  1 * 7 =  7,  1 * 8 =  8,  1 * 9 =  9, \n",
            " 2 * 1 =  2,  2 * 2 =  4,  2 * 3 =  6,  2 * 4 =  8,  2 * 5 = 10,  2 * 6 = 12,  2 * 7 = 14,  2 * 8 = 16,  2 * 9 = 18, \n",
            " 3 * 1 =  3,  3 * 2 =  6,  3 * 3 =  9,  3 * 4 = 12,  3 * 5 = 15,  3 * 6 = 18,  3 * 7 = 21,  3 * 8 = 24,  3 * 9 = 27, \n",
            " 4 * 1 =  4,  4 * 2 =  8,  4 * 3 = 12,  4 * 4 = 16,  4 * 5 = 20,  4 * 6 = 24,  4 * 7 = 28,  4 * 8 = 32,  4 * 9 = 36, \n",
            " 5 * 1 =  5,  5 * 2 = 10,  5 * 3 = 15,  5 * 4 = 20,  5 * 5 = 25,  5 * 6 = 30,  5 * 7 = 35,  5 * 8 = 40,  5 * 9 = 45, \n",
            " 6 * 1 =  6,  6 * 2 = 12,  6 * 3 = 18,  6 * 4 = 24,  6 * 5 = 30,  6 * 6 = 36,  6 * 7 = 42,  6 * 8 = 48,  6 * 9 = 54, \n",
            " 7 * 1 =  7,  7 * 2 = 14,  7 * 3 = 21,  7 * 4 = 28,  7 * 5 = 35,  7 * 6 = 42,  7 * 7 = 49,  7 * 8 = 56,  7 * 9 = 63, \n",
            " 8 * 1 =  8,  8 * 2 = 16,  8 * 3 = 24,  8 * 4 = 32,  8 * 5 = 40,  8 * 6 = 48,  8 * 7 = 56,  8 * 8 = 64,  8 * 9 = 72, \n",
            " 9 * 1 =  9,  9 * 2 = 18,  9 * 3 = 27,  9 * 4 = 36,  9 * 5 = 45,  9 * 6 = 54,  9 * 7 = 63,  9 * 8 = 72,  9 * 9 = 81, \n"
          ]
        }
      ],
      "source": [
        "max=9\n",
        "n = 1\n",
        "m = 1\n",
        "\n",
        "while True:\n",
        "  if m > max:\n",
        "    n = n + 1\n",
        "    m = 1\n",
        "    print()\n",
        "    continue\n",
        "  if n > max:\n",
        "    break\n",
        "  print(\"%2d *%2d =%3d\"%(n,m,n*m),end=\", \")\n",
        "  m = m + 1\n",
        "  \n"
      ]
    },
    {
      "cell_type": "code",
      "execution_count": 5,
      "metadata": {
        "id": "oAd3Oy9IHha9"
      },
      "outputs": [
        {
          "name": "stdout",
          "output_type": "stream",
          "text": [
            "0\n",
            "0.0\n",
            "1\n",
            "0.1\n",
            "2\n",
            "0.2\n",
            "3\n",
            "0.3\n",
            "4\n",
            "0.4\n"
          ]
        }
      ],
      "source": [
        "# E_5_13 功能: range函數採先放大再縮小產生浮點數。\n",
        "for i in range(0, 5):\n",
        "    print(i)\n",
        "    i=i/10\n",
        "    print(i)"
      ]
    },
    {
      "cell_type": "code",
      "execution_count": 2,
      "metadata": {},
      "outputs": [],
      "source": [
        "%matplotlib inline\n",
        "import numpy as np\n",
        "import matplotlib.pyplot as plt\n",
        "import pandas as pd"
      ]
    },
    {
      "cell_type": "code",
      "execution_count": 3,
      "metadata": {},
      "outputs": [
        {
          "name": "stdout",
          "output_type": "stream",
          "text": [
            "0.0\n",
            "0.1\n",
            "0.2\n"
          ]
        }
      ],
      "source": [
        "# E_5_14 功能: 使用arange函數產生浮點數。\n",
        "import numpy as np\n",
        "for i in np.arange(0, 0.3, 0.1):\n",
        "    print(i)"
      ]
    },
    {
      "cell_type": "code",
      "execution_count": 6,
      "metadata": {},
      "outputs": [
        {
          "name": "stdout",
          "output_type": "stream",
          "text": [
            "area =  41.89504999999999\n"
          ]
        }
      ],
      "source": [
        "# E_5_15 功能: 積分計算面積。\n",
        "dx=1\n",
        "area=0\n",
        "y=0\n",
        "for x in range(200,500,dx):\n",
        "    x=x/100\n",
        "    y=(x**2)+1\n",
        "    area=area+(y*(dx/100))\n",
        "print('area = ', area)  "
      ]
    },
    {
      "cell_type": "code",
      "execution_count": 12,
      "metadata": {},
      "outputs": [
        {
          "data": {
            "image/png": "[encoded data removed]",
            "text/plain": [
              "<Figure size 432x288 with 1 Axes>"
            ]
          },
          "metadata": {
            "needs_background": "light"
          },
          "output_type": "display_data"
        }
      ],
      "source": [
        "x = np.linspace(2,5)\n",
        "y = (x**2)+1\n",
        "plt.plot(x,y)\n",
        "plt.show()"
      ]
    },
    {
      "cell_type": "code",
      "execution_count": 13,
      "metadata": {},
      "outputs": [
        {
          "name": "stdout",
          "output_type": "stream",
          "text": [
            "50\n"
          ]
        }
      ],
      "source": [
        "print(len(x))"
      ]
    },
    {
      "cell_type": "code",
      "execution_count": 1,
      "metadata": {},
      "outputs": [
        {
          "name": "stdout",
          "output_type": "stream",
          "text": [
            "0.1\n"
          ]
        }
      ],
      "source": [
        "import numpy as np\n",
        "dx=float(input('Please input dx =' ))\n",
        "print(dx)"
      ]
    },
    {
      "cell_type": "code",
      "execution_count": 4,
      "metadata": {},
      "outputs": [
        {
          "name": "stdout",
          "output_type": "stream",
          "text": [
            "area =  41.9998950002867\n"
          ]
        }
      ],
      "source": [
        "# E_5_15_2 功能: 積分計算面積(1)。\n",
        "import numpy as np\n",
        "dx=float(input('Please input dx =' ))\n",
        "area=0\n",
        "y=0\n",
        "for x in np.arange(2, 5, dx):\n",
        "    y=(x**2)+1\n",
        "    area=area+(y*dx)\n",
        "print('area = ', area)"
      ]
    },
    {
      "cell_type": "code",
      "execution_count": 7,
      "metadata": {},
      "outputs": [
        {
          "name": "stdout",
          "output_type": "stream",
          "text": [
            "排列組合共有 6 方法\n"
          ]
        }
      ],
      "source": [
        "# E_5_16 功能: 排列組合。\n",
        "m=int(input('輸入 m= '))\n",
        "n=int(input('輸入 n= '))\n",
        "prodi=1 #計算m!\n",
        "prodj=1 #計算n!\n",
        "prodk=1 #計算m-n!\n",
        "for i in range(m,1,-1):\n",
        "    prodi=prodi*i\n",
        "for j in range(n,1,-1):\n",
        "    prodj=prodj*j  \n",
        "k=m-n    \n",
        "for k in range(k,1,-1):\n",
        "    prodk=prodk*k\n",
        "number=prodi/(prodj*prodk)\n",
        "print('%s %d %s' %('排列組合共有', number, '方法')) "
      ]
    },
    {
      "cell_type": "code",
      "execution_count": null,
      "metadata": {},
      "outputs": [],
      "source": [
        "# RC_5_1 功能: 。\n",
        "data=input('請輸入華氏溫度： ')\n",
        "if data.isdigit():\n",
        "    Fahrenheit=int(data)\n",
        "    Celsius=(5/9)*(Fahrenheit-32)\n",
        "    print('攝氏溫度為', round(Celsius,1))\n",
        "else:\n",
        "    print('請輸入數值資料')"
      ]
    },
    {
      "cell_type": "code",
      "execution_count": 1,
      "metadata": {},
      "outputs": [
        {
          "name": "stdout",
          "output_type": "stream",
          "text": [
            "紅燈\n"
          ]
        }
      ],
      "source": [
        "# RC_5_2 功能: 景氣對策信號。\n",
        "score=int(input('請輸入景氣對策信號綜合分數 = '))\n",
        "if score>45 or score<9:\n",
        "    print('錯誤')\n",
        "elif score>37:    \n",
        "    print('紅燈')\n",
        "elif score>31:\n",
        "    print('黃紅燈')\n",
        "elif score>22:\n",
        "    print('綠燈')\n",
        "elif score>16:\n",
        "    print('黃藍燈')\n",
        "else:\n",
        "    print('藍燈')"
      ]
    },
    {
      "cell_type": "code",
      "execution_count": 2,
      "metadata": {},
      "outputs": [
        {
          "name": "stdout",
          "output_type": "stream",
          "text": [
            "應繳稅額 =  27200.0\n"
          ]
        }
      ],
      "source": [
        "# RC_5_3 功能: 簡化版個人綜合所得稅試算。\n",
        "level1=520000*0.05\n",
        "level2=(1170000-520000)*0.12\n",
        "level3=(2350000-1170000)*0.2\n",
        "level4=(4400000-2350000)*0.3\n",
        "level5=(10000000-4400000)*0.4\n",
        "income=int(input('請輸入淨年所得額: '))\n",
        "if income<=520000: #條件1\n",
        "    tax=income*0.05\n",
        "elif income<=1170000: #條件2\n",
        "    tax=level1+((income-520000)*0.12)\n",
        "elif income<= 2350000: #條件3\n",
        "    tax=level1+level2+((income-1170000)*0.2)\n",
        "elif income<=4400000: #條件4\n",
        "    tax=level1+level2+level3+((income-2350000)*0.3)\n",
        "elif income<=10000000: #條件5\n",
        "    tax=level1+level2+level3+level4+((income-4400000)*0.4)\n",
        "else: #條件6\n",
        "    tax=level1+level2+level3+level4+level5+((income-10000000)*0.45)    \n",
        "print('應繳稅額 = ', tax)"
      ]
    },
    {
      "cell_type": "code",
      "execution_count": 4,
      "metadata": {},
      "outputs": [
        {
          "name": "stdout",
          "output_type": "stream",
          "text": [
            "sample =  [5, 8, 9, 6, 4, 1, 5, 3, 6, 2]\n",
            "mean =  4.9\n",
            "max =  9\n",
            "min =  1\n",
            "variance =  6.32\n",
            "standard deviation =  2.51\n"
          ]
        }
      ],
      "source": [
        "# RC_5_4_1 功能: 敘述統計。\n",
        "import math\n",
        "sample=[5,8,9,6,4,1,5,3,6,2]\n",
        "n=len(sample)\n",
        "mean=sum(sample)/n\n",
        "sumi=0\n",
        "for i in range(0, n):\n",
        "    sumi=sumi+((sample[i]-mean)**2)\n",
        "var=sumi/(n-1)    \n",
        "std=math.sqrt(var)\n",
        "print('sample = ', sample)\n",
        "print('mean = ', mean)\n",
        "print('max = ', max(sample))\n",
        "print('min = ', min(sample))\n",
        "print('variance = ', round(var,2))\n",
        "print('standard deviation = ', round(std,2))"
      ]
    },
    {
      "cell_type": "code",
      "execution_count": 5,
      "metadata": {},
      "outputs": [
        {
          "name": "stdout",
          "output_type": "stream",
          "text": [
            "sample =  [5, 8, 9, 6, 4, 1, 5, 3, 6, 2]\n",
            "mean =  4.9\n",
            "max =  9\n",
            "min =  1\n",
            "variance =  6.32\n",
            "standard deviation =  2.51\n"
          ]
        }
      ],
      "source": [
        "# RC_5_4_2 功能: 敘述統計。\n",
        "import statistics as st\n",
        "sample=[5,8,9,6,4,1,5,3,6,2]\n",
        "print('sample = ', sample)\n",
        "print('mean = ',  st.mean(sample))\n",
        "print('max = ',  max(sample))\n",
        "print('min = ',  min(sample))\n",
        "print('variance = ', round(st.variance(sample),2))\n",
        "print('standard deviation = ',  round(st.stdev(sample),2))"
      ]
    },
    {
      "cell_type": "code",
      "execution_count": 11,
      "metadata": {},
      "outputs": [
        {
          "name": "stdout",
          "output_type": "stream",
          "text": [
            "1000\n"
          ]
        }
      ],
      "source": [
        "from random import randint as ri\n",
        "sample=[ri(1,9) for _ in range(1000)]\n",
        "print(len(sample))"
      ]
    },
    {
      "cell_type": "code",
      "execution_count": 10,
      "metadata": {},
      "outputs": [
        {
          "name": "stdout",
          "output_type": "stream",
          "text": [
            "sample =  [7, 1, 1, 6, 7, 9, 4, 3, 9, 9, 5, 2, 2, 1, 3, 5, 7, 7, 8, 3, 7, 9, 5, 6, 4, 7, 3, 9, 7, 2, 9, 7, 5, 2, 6, 6, 1, 5, 5, 7, 9, 6, 4, 1, 7, 7, 2, 8, 9, 8, 7, 4, 7, 7, 8, 5, 8, 7, 9, 4, 6, 5, 9, 4, 6, 4, 5, 3, 6, 6, 5, 6, 3, 1, 6, 1, 9, 3, 4, 8, 7, 1, 4, 6, 4, 8, 7, 2, 6, 9, 4, 5, 6, 5, 1, 7, 2, 3, 1, 3, 3, 1, 3, 7, 6, 5, 6, 9, 3, 7, 5, 7, 3, 7, 9, 7, 3, 1, 2, 4, 1, 1, 9, 6, 1, 5, 3, 3, 4, 9, 3, 7, 4, 6, 5, 1, 4, 6, 1, 6, 2, 9, 7, 9, 4, 2, 8, 4, 3, 8, 5, 8, 3, 7, 8, 1, 1, 5, 2, 3, 3, 8, 4, 5, 7, 5, 5, 1, 3, 2, 3, 2, 9, 1, 5, 9, 6, 9, 3, 9, 7, 7, 6, 2, 8, 6, 2, 4, 3, 6, 8, 3, 4, 1, 4, 1, 3, 4, 5, 6, 2, 5, 6, 4, 5, 7, 8, 5, 4, 5, 9, 2, 9, 8, 4, 8, 6, 2, 5, 1, 7, 4, 9, 4, 9, 6, 5, 3, 8, 3, 8, 5, 7, 1, 5, 5, 2, 7, 4, 9, 6, 2, 3, 4, 4, 8, 7, 5, 2, 6, 7, 4, 4, 2, 8, 5, 9, 9, 6, 9, 4, 7, 7, 9, 5, 3, 1, 3, 7, 4, 6, 2, 9, 1, 6, 7, 7, 9, 3, 8, 9, 8, 9, 1, 5, 1, 2, 3, 6, 5, 8, 8, 9, 4, 7, 2, 1, 6, 6, 9, 2, 9, 9, 9, 9, 6, 6, 9, 6, 7, 6, 5, 4, 3, 9, 6, 4, 8, 4, 7, 2, 7, 4, 5, 6, 5, 1, 4, 3, 7, 7, 3, 2, 3, 9, 4, 8, 1, 7, 4, 2, 1, 4, 3, 8, 1, 1, 9, 3, 9, 4, 3, 4, 3, 1, 9, 3, 1, 7, 4, 6, 7, 4, 2, 4, 1, 1, 3, 3, 8, 9, 5, 4, 5, 5, 3, 2, 2, 4, 9, 6, 7, 3, 8, 1, 9, 5, 3, 6, 7, 9, 9, 4, 7, 5, 6, 8, 1, 5, 8, 7, 4, 1, 1, 1, 6, 5, 1, 1, 5, 2, 2, 5, 2, 2, 9, 6, 4, 3, 5, 1, 2, 7, 1, 5, 7, 8, 4, 8, 1, 5, 3, 1, 4, 8, 9, 5, 6, 8, 2, 1, 1, 3, 8, 7, 2, 2, 8, 5, 5, 7, 4, 8, 9, 9, 1, 2, 1, 1, 9, 4, 1, 6, 9, 3, 4, 3, 1, 8, 2, 8, 8, 2, 3, 8, 1, 7, 2, 8, 1, 4, 5, 4, 4, 3, 3, 9, 7, 1, 4, 8, 1, 1, 8, 5, 1, 7, 9, 1, 5, 4, 5, 6, 8, 7, 4, 6, 9, 4, 3, 9, 4, 5, 6, 5, 8, 1, 7, 9, 3, 4, 4, 8, 9, 7, 3, 7, 3, 8, 9, 9, 5, 5, 1, 2, 6, 4, 6, 2, 2, 6, 9, 8, 5, 8, 4, 7, 5, 9, 8, 3, 7, 4, 9, 5, 5, 5, 4, 8, 7, 9, 4, 9, 9, 1, 6, 9, 5, 7, 5, 9, 7, 7, 3, 5, 1, 4, 3, 7, 6, 4, 5, 2, 6, 4, 3, 2, 3, 2, 2, 5, 4, 5, 5, 7, 4, 6, 3, 5, 8, 1, 6, 6, 6, 4, 2, 9, 1, 2, 2, 6, 8, 6, 9, 7, 7, 8, 8, 5, 6, 1, 3, 7, 9, 1, 2, 5, 5, 3, 1, 4, 9, 7, 4, 7, 9, 8, 7, 4, 9, 1, 8, 6, 2, 9, 7, 5, 5, 9, 5, 7, 8, 3, 2, 4, 8, 7, 3, 1, 8, 8, 9, 6, 2, 5, 8, 6, 8, 1, 4, 1, 4, 7, 3, 2, 8, 2, 6, 2, 2, 9, 1, 1, 9, 4, 6, 8, 5, 7, 4, 7, 5, 7, 7, 8, 4, 7, 4, 7, 6, 4, 8, 5, 3, 9, 8, 9, 2, 2, 8, 2, 4, 5, 3, 8, 8, 5, 9, 8, 9, 5, 9, 4, 1, 3, 5, 7, 5, 9, 3, 6, 5, 1, 5, 3, 2, 6, 6, 9, 3, 7, 4, 6, 4, 4, 5, 4, 5, 2, 1, 7, 3, 6, 2, 6, 9, 7, 4, 4, 7, 4, 6, 8, 2, 5, 1, 9, 4, 4, 1, 6, 6, 1, 8, 8, 7, 9, 1, 6, 4, 4, 4, 2, 6, 4, 7, 1, 4, 7, 5, 9, 9, 6, 8, 4, 1, 1, 4, 6, 8, 4, 2, 3, 6, 7, 6, 4, 8, 7, 3, 8, 5, 2, 7, 5, 1, 1, 1, 2, 2, 4, 5, 5, 9, 4, 2, 5, 3, 8, 6, 2, 1, 1, 4, 6, 7, 4, 4, 9, 1, 4, 1, 2, 1, 9, 5, 6, 9, 6, 4, 9, 2, 9, 7, 9, 8, 9, 7, 9, 9, 4, 1, 9, 3, 5, 9, 3, 9, 2, 1, 2, 8, 6, 7, 5, 7, 3, 5, 6, 8, 2, 7, 4, 6, 2, 4, 7, 2, 4, 8, 9, 9, 5, 5, 1, 4, 2, 6, 7, 9, 2, 1, 4, 6, 9, 8, 2, 9, 4, 5, 7, 9, 8, 8, 8, 3, 8, 4, 5, 1, 6, 1, 2, 6, 3, 4, 6, 7, 5, 3, 1, 8, 2, 1, 2, 6, 2, 5, 3, 1, 9, 8, 5, 1, 4, 8, 7, 1, 2, 4, 1, 1, 2, 2, 6, 4, 5, 3, 2, 2, 1, 7, 7, 4, 2, 8, 7, 3, 9, 5, 7, 8, 1, 9, 2, 6, 2, 7, 9, 4, 4, 8, 9, 6, 7, 6, 1, 5, 5, 8, 1, 9, 6, 5, 8, 5, 9, 8, 1, 6]\n",
            "#of samples: 1000\n",
            "mean =  5.067\n",
            "max =  9\n",
            "min =  1\n",
            "variance =  6.66\n",
            "standard deviation =  2.58\n"
          ]
        }
      ],
      "source": [
        "# RC_5_4_2 功能: 敘述統計。\n",
        "from random import randint as ri\n",
        "import statistics as st\n",
        "sample=[]\n",
        "for _ in range(1000):\n",
        "  sample.append(ri(1,9))\n",
        "print('sample = ', sample)\n",
        "print('#of samples:',len(sample))\n",
        "print('mean = ',  st.mean(sample))\n",
        "print('max = ',  max(sample))\n",
        "print('min = ',  min(sample))\n",
        "print('variance = ', round(st.variance(sample),2))\n",
        "print('standard deviation = ',  round(st.stdev(sample),2))"
      ]
    },
    {
      "cell_type": "code",
      "execution_count": 27,
      "metadata": {},
      "outputs": [
        {
          "name": "stdout",
          "output_type": "stream",
          "text": [
            "157\n",
            "(1,0,2,47=157), (1,0,3,42=157), (1,0,4,37=157), (1,0,5,32=157), (1,0,6,27=157), (1,0,7,22=157), (1,0,8,17=157), (1,0,9,12=157), (1,0,10,7=157), (1,1,0,47=157), \n",
            "(1,1,1,42=157), (1,1,2,37=157), (1,1,3,32=157), (1,1,4,27=157), (1,1,5,22=157), (1,1,6,17=157), (1,1,7,12=157), (1,1,8,7=157), (1,1,9,2=157), (1,2,0,37=157), \n",
            "(1,2,1,32=157), (1,2,2,27=157), (1,2,3,22=157), (1,2,4,17=157), (1,2,5,12=157), (1,2,6,7=157), (1,2,7,2=157), (1,3,0,27=157), (1,3,1,22=157), (1,3,2,17=157), \n",
            "(1,3,3,12=157), (1,3,4,7=157), (1,3,5,2=157), (1,4,0,17=157), (1,4,1,12=157), (1,4,2,7=157), (1,4,3,2=157), (1,5,0,7=157), (1,5,1,2=157), 共有 39 種換法\n"
          ]
        }
      ],
      "source": [
        "# RC_5_5 功能: 找零錢。\n",
        "buy=int(input('input buy:'))\n",
        "pay=int(input('input pay:'))\n",
        "change = pay-buy\n",
        "if change > 0:\n",
        "   print(change)\n",
        "   count = 0\n",
        "   for k in range(11):\n",
        "    for x in range(6):\n",
        "      for y in range(11):\n",
        "         for z in range(51):\n",
        "             if 100*k+10*x+5*y+z == change:\n",
        "                print('(%d,%d,%d,%d=%d)'%(k,x,y,z,100*k+10*x+5*y+z),end=', ')\n",
        "                count = count + 1\n",
        "                if(count%10==0):\n",
        "                    print()\n",
        "   print('%s %d %s' %('共有', count, '種換法'))\n",
        "else:\n",
        "   print('Don\\'t need to change:%d',change)"
      ]
    },
    {
      "cell_type": "code",
      "execution_count": 30,
      "metadata": {},
      "outputs": [
        {
          "name": "stdout",
          "output_type": "stream",
          "text": [
            "月存1萬,約 7.75 年可以存到 1006718.97 元\n",
            "年存12萬,約 8.00 年可以存到 1050555.41 元\n"
          ]
        }
      ],
      "source": [
        "# RC_5_6 功能: 儲存人生的第一桶金。\n",
        "mpv=10000  #月存金額\n",
        "ypv=mpv*12  #年存金額\n",
        "r=0.02  #年利率\n",
        "target=1000000  #目標存款\n",
        "#月複利\n",
        "mfv=0  #月複利累計金額\n",
        "n=0  #期數\n",
        "while mfv<target:\n",
        "    mfv=(mpv+mfv)*(1+r/12) \n",
        "    n=n+1\n",
        "print('%s %.2f %s %.2f %s' %('月存1萬,約', n/12, '年可以存到', mfv, '元'))\n",
        "#年複利\n",
        "yfv=0 #年複利累計金額\n",
        "n=0\n",
        "while yfv<target:\n",
        "    yfv=(ypv+yfv)*(1+r)\n",
        "    n=n+1\n",
        "print('%s %.2f %s %.2f %s' %('年存12萬,約', n, '年可以存到', yfv, '元'))"
      ]
    },
    {
      "cell_type": "code",
      "execution_count": 32,
      "metadata": {},
      "outputs": [
        {
          "name": "stdout",
          "output_type": "stream",
          "text": [
            "sumn  8\n",
            "sumn  22\n",
            "sumn  40\n",
            "sumn  60\n",
            "sumn  80\n",
            "sumn  98\n",
            "sumn  112\n",
            "sumn  120\n",
            "Y =  130\n",
            "身份証號碼規則驗證正確\n"
          ]
        }
      ],
      "source": [
        "# RC_5_7 功能: 身分證號碼檢查。\n",
        "data=input('請輸入身份證字號 = ')\n",
        "id=data.upper()\n",
        "a1_dic={'A': '10', 'B': '11', 'C': '12', 'D': '13', 'E': '14', 'F': '15', \\\n",
        "'G': '16', 'H': '17', 'J': '18', 'K': '19', 'L': '20', 'M': '21',\\\n",
        "'N': '22', 'P': '23', 'Q': '24', 'R': '25', 'S': '26', 'T': '27', 'U': '28',\\\n",
        "'V': '29', 'X': '30', 'Y': '31', 'W': '32', 'Z': '33'}\n",
        "N=len(id)\n",
        "if (id.isalnum()) & (N==10) & (id[0].isalpha()) & (id[1:N].isdigit()):\n",
        "    A=id[0]\n",
        "    a1_value=a1_dic.get(A)\n",
        "    X1=int(a1_value[0])\n",
        "    X2=int(a1_value[1])\n",
        "    w=1\n",
        "    sumn=0\n",
        "    for k in range(N-2, 0, -1):\n",
        "        sumn=sumn+(int(id[w])*k)\n",
        "        w+=1\n",
        "        print('sumn ', sumn)        \n",
        "    Y=X1+(X2*9)+sumn+int(id[w])\n",
        "    print('Y = ', Y)\n",
        "    [quotient, remainder]=divmod(Y,10)\n",
        "    if remainder==0:\n",
        "        print('身份証號碼規則驗證正確')\n",
        "    else:\n",
        "        print('身份証號碼規則驗證「不」正確')\n",
        "else: \n",
        "    print('請輸入第1個字元為英文字母，9個阿拉伯數字')  "
      ]
    }
  ],
  "metadata": {
    "colab": {
      "collapsed_sections": [],
      "name": "ch5_1031.ipynb",
      "provenance": []
    },
    "kernelspec": {
      "display_name": "Python 3",
      "name": "python3"
    },
    "language_info": {
      "codemirror_mode": {
        "name": "ipython",
        "version": 3
      },
      "file_extension": ".py",
      "mimetype": "text/x-python",
      "name": "python",
      "nbconvert_exporter": "python",
      "pygments_lexer": "ipython3",
      "version": "3.8.5"
    }
  },
  "nbformat": 4,
  "nbformat_minor": 0
}
