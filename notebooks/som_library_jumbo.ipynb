{
  "nbformat": 4,
  "nbformat_minor": 0,
  "metadata": {
    "colab": {
      "name": "som-library-jumbo.ipynb",
      "provenance": [],
      "toc_visible": true,
      "authorship_tag": "ABX9TyO1Kp2pztwFFOPl7LvzTQQA",
      "include_colab_link": true
    },
    "kernelspec": {
      "name": "python3",
      "display_name": "Python 3"
    },
    "language_info": {
      "name": "python"
    }
  },
  "cells": [
    {
      "cell_type": "markdown",
      "metadata": {
        "id": "view-in-github",
        "colab_type": "text"
      },
      "source": [
        "<a href=\"https://colab.research.google.com/github/jumbokh/ML-Class/blob/main/notebooks/som_library_jumbo.ipynb\" target=\"_parent\"><img src=\"https://colab.research.google.com/assets/colab-badge.svg\" alt=\"Open In Colab\"/></a>"
      ]
    },
    {
      "cell_type": "markdown",
      "metadata": {
        "id": "kzy4sNzam03r"
      },
      "source": [
        "# Basic uses of SOMPY library\n",
        "http://www.vahidmoosavi.com\n",
        "\n",
        "\n",
        "https://github.com/sevamoo/sompy"
      ]
    },
    {
      "cell_type": "code",
      "metadata": {
        "colab": {
          "base_uri": "https://localhost:8080/"
        },
        "id": "EHH7Ye0jmuaP",
        "outputId": "3dc3a569-862b-4155-e074-1c48fd9ba606"
      },
      "source": [
        "!git clone https://github.com/hhl60492/SOMPY_robust_clustering.git\n",
        "%cd SOMPY_robust_clustering\n",
        "! python setup.py install"
      ],
      "execution_count": 1,
      "outputs": [
        {
          "output_type": "stream",
          "text": [
            "fatal: destination path 'SOMPY_robust_clustering' already exists and is not an empty directory.\n",
            "/content/SOMPY_robust_clustering\n",
            "running install\n",
            "running bdist_egg\n",
            "running egg_info\n",
            "writing SOMPY.egg-info/PKG-INFO\n",
            "writing dependency_links to SOMPY.egg-info/dependency_links.txt\n",
            "writing requirements to SOMPY.egg-info/requires.txt\n",
            "writing top-level names to SOMPY.egg-info/top_level.txt\n",
            "adding license file 'LICENSE' (matched pattern 'LICEN[CS]E*')\n",
            "writing manifest file 'SOMPY.egg-info/SOURCES.txt'\n",
            "installing library code to build/bdist.linux-x86_64/egg\n",
            "running install_lib\n",
            "running build_py\n",
            "creating build/bdist.linux-x86_64/egg\n",
            "creating build/bdist.linux-x86_64/egg/sompy\n",
            "copying build/lib/sompy/sompy.py -> build/bdist.linux-x86_64/egg/sompy\n",
            "copying build/lib/sompy/neighborhood.py -> build/bdist.linux-x86_64/egg/sompy\n",
            "creating build/bdist.linux-x86_64/egg/sompy/visualization\n",
            "copying build/lib/sompy/visualization/umatrix.py -> build/bdist.linux-x86_64/egg/sompy/visualization\n",
            "copying build/lib/sompy/visualization/dotmap.py -> build/bdist.linux-x86_64/egg/sompy/visualization\n",
            "copying build/lib/sompy/visualization/mapview.py -> build/bdist.linux-x86_64/egg/sompy/visualization\n",
            "copying build/lib/sompy/visualization/histogram.py -> build/bdist.linux-x86_64/egg/sompy/visualization\n",
            "copying build/lib/sompy/visualization/__init__.py -> build/bdist.linux-x86_64/egg/sompy/visualization\n",
            "copying build/lib/sompy/visualization/hitmap.py -> build/bdist.linux-x86_64/egg/sompy/visualization\n",
            "copying build/lib/sompy/visualization/view.py -> build/bdist.linux-x86_64/egg/sompy/visualization\n",
            "copying build/lib/sompy/visualization/bmuhits.py -> build/bdist.linux-x86_64/egg/sompy/visualization\n",
            "copying build/lib/sompy/codebook.py -> build/bdist.linux-x86_64/egg/sompy\n",
            "copying build/lib/sompy/__init__.py -> build/bdist.linux-x86_64/egg/sompy\n",
            "copying build/lib/sompy/normalization.py -> build/bdist.linux-x86_64/egg/sompy\n",
            "copying build/lib/sompy/decorators.py -> build/bdist.linux-x86_64/egg/sompy\n",
            "byte-compiling build/bdist.linux-x86_64/egg/sompy/sompy.py to sompy.cpython-37.pyc\n",
            "byte-compiling build/bdist.linux-x86_64/egg/sompy/neighborhood.py to neighborhood.cpython-37.pyc\n",
            "byte-compiling build/bdist.linux-x86_64/egg/sompy/visualization/umatrix.py to umatrix.cpython-37.pyc\n",
            "byte-compiling build/bdist.linux-x86_64/egg/sompy/visualization/dotmap.py to dotmap.cpython-37.pyc\n",
            "byte-compiling build/bdist.linux-x86_64/egg/sompy/visualization/mapview.py to mapview.cpython-37.pyc\n",
            "byte-compiling build/bdist.linux-x86_64/egg/sompy/visualization/histogram.py to histogram.cpython-37.pyc\n",
            "byte-compiling build/bdist.linux-x86_64/egg/sompy/visualization/__init__.py to __init__.cpython-37.pyc\n",
            "byte-compiling build/bdist.linux-x86_64/egg/sompy/visualization/hitmap.py to hitmap.cpython-37.pyc\n",
            "byte-compiling build/bdist.linux-x86_64/egg/sompy/visualization/view.py to view.cpython-37.pyc\n",
            "byte-compiling build/bdist.linux-x86_64/egg/sompy/visualization/bmuhits.py to bmuhits.cpython-37.pyc\n",
            "byte-compiling build/bdist.linux-x86_64/egg/sompy/codebook.py to codebook.cpython-37.pyc\n",
            "byte-compiling build/bdist.linux-x86_64/egg/sompy/__init__.py to __init__.cpython-37.pyc\n",
            "byte-compiling build/bdist.linux-x86_64/egg/sompy/normalization.py to normalization.cpython-37.pyc\n",
            "byte-compiling build/bdist.linux-x86_64/egg/sompy/decorators.py to decorators.cpython-37.pyc\n",
            "creating build/bdist.linux-x86_64/egg/EGG-INFO\n",
            "copying SOMPY.egg-info/PKG-INFO -> build/bdist.linux-x86_64/egg/EGG-INFO\n",
            "copying SOMPY.egg-info/SOURCES.txt -> build/bdist.linux-x86_64/egg/EGG-INFO\n",
            "copying SOMPY.egg-info/dependency_links.txt -> build/bdist.linux-x86_64/egg/EGG-INFO\n",
            "copying SOMPY.egg-info/requires.txt -> build/bdist.linux-x86_64/egg/EGG-INFO\n",
            "copying SOMPY.egg-info/top_level.txt -> build/bdist.linux-x86_64/egg/EGG-INFO\n",
            "zip_safe flag not set; analyzing archive contents...\n",
            "creating 'dist/SOMPY-1.0-py3.7.egg' and adding 'build/bdist.linux-x86_64/egg' to it\n",
            "removing 'build/bdist.linux-x86_64/egg' (and everything under it)\n",
            "Processing SOMPY-1.0-py3.7.egg\n",
            "Removing /usr/local/lib/python3.7/dist-packages/SOMPY-1.0-py3.7.egg\n",
            "Copying SOMPY-1.0-py3.7.egg to /usr/local/lib/python3.7/dist-packages\n",
            "SOMPY 1.0 is already the active version in easy-install.pth\n",
            "\n",
            "Installed /usr/local/lib/python3.7/dist-packages/SOMPY-1.0-py3.7.egg\n",
            "Processing dependencies for SOMPY==1.0\n",
            "Searching for numexpr==2.7.3\n",
            "Best match: numexpr 2.7.3\n",
            "Adding numexpr 2.7.3 to easy-install.pth file\n",
            "\n",
            "Using /usr/local/lib/python3.7/dist-packages\n",
            "Searching for scikit-learn==0.22.2.post1\n",
            "Best match: scikit-learn 0.22.2.post1\n",
            "Adding scikit-learn 0.22.2.post1 to easy-install.pth file\n",
            "\n",
            "Using /usr/local/lib/python3.7/dist-packages\n",
            "Searching for scipy==1.4.1\n",
            "Best match: scipy 1.4.1\n",
            "Adding scipy 1.4.1 to easy-install.pth file\n",
            "\n",
            "Using /usr/local/lib/python3.7/dist-packages\n",
            "Searching for numpy==1.19.5\n",
            "Best match: numpy 1.19.5\n",
            "Adding numpy 1.19.5 to easy-install.pth file\n",
            "Installing f2py script to /usr/local/bin\n",
            "Installing f2py3 script to /usr/local/bin\n",
            "Installing f2py3.7 script to /usr/local/bin\n",
            "\n",
            "Using /usr/local/lib/python3.7/dist-packages\n",
            "Searching for joblib==1.0.1\n",
            "Best match: joblib 1.0.1\n",
            "Adding joblib 1.0.1 to easy-install.pth file\n",
            "\n",
            "Using /usr/local/lib/python3.7/dist-packages\n",
            "Finished processing dependencies for SOMPY==1.0\n"
          ],
          "name": "stdout"
        }
      ]
    },
    {
      "cell_type": "code",
      "metadata": {
        "colab": {
          "base_uri": "https://localhost:8080/"
        },
        "id": "5Asr8f1pm_V8",
        "outputId": "1fca3e2a-6e3a-4627-fa0d-2569837a5eb1"
      },
      "source": [
        "import matplotlib.pylab as plt\n",
        "%matplotlib inline\n",
        "# import sompy as sompy\n",
        "import pandas as pd\n",
        "import numpy as np\n",
        "from time import time\n",
        "import sompy"
      ],
      "execution_count": 2,
      "outputs": [
        {
          "output_type": "stream",
          "text": [
            "/usr/local/lib/python3.7/dist-packages/sklearn/externals/joblib/__init__.py:15: FutureWarning: sklearn.externals.joblib is deprecated in 0.21 and will be removed in 0.23. Please import this functionality directly from joblib, which can be installed with: pip install joblib. If this warning is raised when loading pickled models, you may need to re-serialize those models with scikit-learn 0.21+.\n",
            "  warnings.warn(msg, category=FutureWarning)\n"
          ],
          "name": "stderr"
        }
      ]
    },
    {
      "cell_type": "code",
      "metadata": {
        "colab": {
          "base_uri": "https://localhost:8080/"
        },
        "id": "68aD16jZnHvq",
        "outputId": "b8e75561-854b-45ee-c46f-d865df873b92"
      },
      "source": [
        "%cd ..\n",
        "df = pd.read_csv(\"vTestData102.csv\")\n",
        "df = df.drop('CustomID', axis=1)"
      ],
      "execution_count": 3,
      "outputs": [
        {
          "output_type": "stream",
          "text": [
            "/content\n"
          ],
          "name": "stdout"
        }
      ]
    },
    {
      "cell_type": "code",
      "metadata": {
        "id": "LFuIRJGPoWH4"
      },
      "source": [
        "data = df.to_numpy()"
      ],
      "execution_count": 4,
      "outputs": []
    },
    {
      "cell_type": "code",
      "metadata": {
        "colab": {
          "base_uri": "https://localhost:8080/"
        },
        "id": "LBCviXMpo0hQ",
        "outputId": "e90c7968-78cd-4033-96d4-0b098c0f00ee"
      },
      "source": [
        "print(data)"
      ],
      "execution_count": 5,
      "outputs": [
        {
          "output_type": "stream",
          "text": [
            "[[1 1 1 ... 0 0 0]\n",
            " [1 1 1 ... 0 0 0]\n",
            " [1 1 1 ... 0 0 0]\n",
            " ...\n",
            " [1 1 1 ... 0 0 0]\n",
            " [1 1 1 ... 0 0 0]\n",
            " [1 1 1 ... 0 0 0]]\n"
          ],
          "name": "stdout"
        }
      ]
    },
    {
      "cell_type": "code",
      "metadata": {
        "colab": {
          "base_uri": "https://localhost:8080/"
        },
        "id": "TKoyBdZOnsFi",
        "outputId": "c0f9479c-5c70-45fe-9fc9-7847aa1b7bc5"
      },
      "source": [
        "mapsize = [12,12]\n",
        "som = sompy.SOMFactory.build(data, mapsize, mask=None, mapshape='planar', lattice='rect', normalization='var', initialization='pca', neighborhood='gaussian', training='batch', name='sompy')  # this will use the default parameters, but i can change the initialization and neighborhood methods\n",
        "som.train(n_job=1, verbose='debug')  # verbose='debug' will print more, and verbose=None wont print anything"
      ],
      "execution_count": 6,
      "outputs": [
        {
          "output_type": "stream",
          "text": [
            " Training...\n",
            "--------------------------------------------------------------\n",
            " details: \n",
            "      > data len is 195 and data dimension is 15\n",
            "      > map size is 12,12\n",
            "      > array size in log10 scale is 5.624488362513449\n",
            "      > number of jobs in parallel: 1\n",
            " -------------------------------------------------------------\n",
            "\n",
            " pca_linear_initialization took: 0.027000 seconds\n",
            " Rough training...\n",
            " radius_ini: 2.000000 , radius_final: 1.000000, trainlen: 23\n",
            "\n",
            " find_bmu took: 0.109000 seconds\n",
            " update_codebook_voronoi took: 0.014000 seconds\n",
            " epoch: 1 ---> elapsed time:  0.127000, quantization error: 0.818087\n",
            "\n",
            " find_bmu took: 0.107000 seconds\n",
            " update_codebook_voronoi took: 0.004000 seconds\n",
            " epoch: 2 ---> elapsed time:  0.120000, quantization error: 0.208197\n",
            "\n",
            " find_bmu took: 0.106000 seconds\n",
            " update_codebook_voronoi took: 0.004000 seconds\n",
            " epoch: 3 ---> elapsed time:  0.116000, quantization error: 0.148260\n",
            "\n",
            " find_bmu took: 0.106000 seconds\n",
            " update_codebook_voronoi took: 0.003000 seconds\n",
            " epoch: 4 ---> elapsed time:  0.116000, quantization error: 0.043608\n",
            "\n",
            " find_bmu took: 0.111000 seconds\n",
            " update_codebook_voronoi took: 0.004000 seconds\n",
            " epoch: 5 ---> elapsed time:  0.124000, quantization error: 0.030859\n",
            "\n",
            " find_bmu took: 0.111000 seconds\n",
            " update_codebook_voronoi took: 0.004000 seconds\n",
            " epoch: 6 ---> elapsed time:  0.120000, quantization error: 0.014912\n",
            "\n",
            " find_bmu took: 0.110000 seconds\n",
            " update_codebook_voronoi took: 0.001000 seconds\n",
            " epoch: 7 ---> elapsed time:  0.121000, quantization error: 0.005976\n",
            "\n",
            " find_bmu took: 0.107000 seconds\n",
            " update_codebook_voronoi took: 0.003000 seconds\n",
            " epoch: 8 ---> elapsed time:  0.117000, quantization error: 0.004576\n",
            "\n",
            " find_bmu took: 0.107000 seconds\n",
            " update_codebook_voronoi took: 0.006000 seconds\n",
            " epoch: 9 ---> elapsed time:  0.117000, quantization error: 0.001828\n",
            "\n",
            " find_bmu took: 0.109000 seconds\n",
            " update_codebook_voronoi took: 0.003000 seconds\n",
            " epoch: 10 ---> elapsed time:  0.119000, quantization error: 0.001238\n",
            "\n",
            " find_bmu took: 0.108000 seconds\n",
            " update_codebook_voronoi took: 0.001000 seconds\n",
            " epoch: 11 ---> elapsed time:  0.118000, quantization error: 0.000820\n",
            "\n",
            " find_bmu took: 0.108000 seconds\n",
            " update_codebook_voronoi took: 0.004000 seconds\n",
            " epoch: 12 ---> elapsed time:  0.124000, quantization error: 0.000530\n",
            "\n",
            " find_bmu took: 0.104000 seconds\n",
            " update_codebook_voronoi took: 0.005000 seconds\n",
            " epoch: 13 ---> elapsed time:  0.113000, quantization error: 0.000332\n",
            "\n",
            " find_bmu took: 0.109000 seconds\n",
            " update_codebook_voronoi took: 0.006000 seconds\n",
            " epoch: 14 ---> elapsed time:  0.124000, quantization error: 0.000200\n",
            "\n",
            " find_bmu took: 0.106000 seconds\n",
            " update_codebook_voronoi took: 0.002000 seconds\n",
            " epoch: 15 ---> elapsed time:  0.120000, quantization error: 0.000145\n",
            "\n",
            " find_bmu took: 0.114000 seconds\n",
            " update_codebook_voronoi took: 0.004000 seconds\n",
            " epoch: 16 ---> elapsed time:  0.129000, quantization error: 0.000075\n",
            "\n",
            " find_bmu took: 0.106000 seconds\n",
            " update_codebook_voronoi took: 0.013000 seconds\n",
            " epoch: 17 ---> elapsed time:  0.128000, quantization error: 0.000069\n",
            "\n",
            " find_bmu took: 0.106000 seconds\n",
            " update_codebook_voronoi took: 0.002000 seconds\n",
            " epoch: 18 ---> elapsed time:  0.118000, quantization error: 0.000030\n",
            "\n",
            " find_bmu took: 0.105000 seconds\n",
            " update_codebook_voronoi took: 0.004000 seconds\n",
            " epoch: 19 ---> elapsed time:  0.115000, quantization error: 0.000016\n",
            "\n",
            " find_bmu took: 0.107000 seconds\n",
            " update_codebook_voronoi took: 0.004000 seconds\n",
            " epoch: 20 ---> elapsed time:  0.116000, quantization error: 0.000035\n",
            "\n",
            " find_bmu took: 0.101000 seconds\n",
            " update_codebook_voronoi took: 0.001000 seconds\n",
            " epoch: 21 ---> elapsed time:  0.107000, quantization error: 0.000013\n",
            "\n",
            " find_bmu took: 0.111000 seconds\n",
            " update_codebook_voronoi took: 0.004000 seconds\n",
            " epoch: 22 ---> elapsed time:  0.121000, quantization error: 0.000005\n",
            "\n",
            " find_bmu took: 0.114000 seconds\n",
            " update_codebook_voronoi took: 0.004000 seconds\n",
            " epoch: 23 ---> elapsed time:  0.124000, quantization error: 0.000002\n",
            "\n",
            " Finetune training...\n",
            " radius_ini: 1.000000 , radius_final: 1.000000, trainlen: 30\n",
            "\n",
            " find_bmu took: 0.102000 seconds\n",
            " update_codebook_voronoi took: 0.004000 seconds\n",
            " epoch: 1 ---> elapsed time:  0.111000, quantization error: 0.000001\n",
            "\n",
            " find_bmu took: 0.101000 seconds\n",
            " update_codebook_voronoi took: 0.004000 seconds\n",
            " epoch: 2 ---> elapsed time:  0.110000, quantization error: 0.000043\n",
            "\n",
            " find_bmu took: 0.102000 seconds\n",
            " update_codebook_voronoi took: 0.004000 seconds\n",
            " epoch: 3 ---> elapsed time:  0.111000, quantization error: 0.000043\n",
            "\n",
            " find_bmu took: 0.101000 seconds\n",
            " update_codebook_voronoi took: 0.004000 seconds\n",
            " epoch: 4 ---> elapsed time:  0.110000, quantization error: 0.000043\n",
            "\n",
            " find_bmu took: 0.102000 seconds\n",
            " update_codebook_voronoi took: 0.008000 seconds\n",
            " epoch: 5 ---> elapsed time:  0.115000, quantization error: 0.000043\n",
            "\n",
            " find_bmu took: 0.101000 seconds\n",
            " update_codebook_voronoi took: 0.004000 seconds\n",
            " epoch: 6 ---> elapsed time:  0.110000, quantization error: 0.000043\n",
            "\n",
            " find_bmu took: 0.108000 seconds\n",
            " update_codebook_voronoi took: 0.005000 seconds\n",
            " epoch: 7 ---> elapsed time:  0.117000, quantization error: 0.000043\n",
            "\n",
            " find_bmu took: 0.101000 seconds\n",
            " update_codebook_voronoi took: 0.001000 seconds\n",
            " epoch: 8 ---> elapsed time:  0.107000, quantization error: 0.000043\n",
            "\n",
            " find_bmu took: 0.111000 seconds\n",
            " update_codebook_voronoi took: 0.007000 seconds\n",
            " epoch: 9 ---> elapsed time:  0.123000, quantization error: 0.000043\n",
            "\n",
            " find_bmu took: 0.107000 seconds\n",
            " update_codebook_voronoi took: 0.006000 seconds\n",
            " epoch: 10 ---> elapsed time:  0.116000, quantization error: 0.000043\n",
            "\n",
            " find_bmu took: 0.109000 seconds\n",
            " update_codebook_voronoi took: 0.004000 seconds\n",
            " epoch: 11 ---> elapsed time:  0.118000, quantization error: 0.000043\n",
            "\n",
            " find_bmu took: 0.101000 seconds\n",
            " update_codebook_voronoi took: 0.007000 seconds\n",
            " epoch: 12 ---> elapsed time:  0.117000, quantization error: 0.000043\n",
            "\n",
            " find_bmu took: 0.101000 seconds\n",
            " update_codebook_voronoi took: 0.001000 seconds\n",
            " epoch: 13 ---> elapsed time:  0.107000, quantization error: 0.000043\n",
            "\n",
            " find_bmu took: 0.115000 seconds\n",
            " update_codebook_voronoi took: 0.003000 seconds\n",
            " epoch: 14 ---> elapsed time:  0.130000, quantization error: 0.000043\n",
            "\n",
            " find_bmu took: 0.101000 seconds\n",
            " update_codebook_voronoi took: 0.004000 seconds\n",
            " epoch: 15 ---> elapsed time:  0.111000, quantization error: 0.000043\n",
            "\n",
            " find_bmu took: 0.101000 seconds\n",
            " update_codebook_voronoi took: 0.005000 seconds\n",
            " epoch: 16 ---> elapsed time:  0.110000, quantization error: 0.000043\n",
            "\n",
            " find_bmu took: 0.101000 seconds\n",
            " update_codebook_voronoi took: 0.004000 seconds\n",
            " epoch: 17 ---> elapsed time:  0.111000, quantization error: 0.000043\n",
            "\n",
            " find_bmu took: 0.146000 seconds\n",
            " update_codebook_voronoi took: 0.004000 seconds\n",
            " epoch: 18 ---> elapsed time:  0.155000, quantization error: 0.000043\n",
            "\n",
            " find_bmu took: 0.113000 seconds\n",
            " update_codebook_voronoi took: 0.003000 seconds\n",
            " epoch: 19 ---> elapsed time:  0.125000, quantization error: 0.000043\n",
            "\n",
            " find_bmu took: 0.107000 seconds\n",
            " update_codebook_voronoi took: 0.005000 seconds\n",
            " epoch: 20 ---> elapsed time:  0.119000, quantization error: 0.000043\n",
            "\n",
            " find_bmu took: 0.107000 seconds\n",
            " update_codebook_voronoi took: 0.004000 seconds\n",
            " epoch: 21 ---> elapsed time:  0.118000, quantization error: 0.000043\n",
            "\n",
            " find_bmu took: 0.107000 seconds\n",
            " update_codebook_voronoi took: 0.003000 seconds\n",
            " epoch: 22 ---> elapsed time:  0.118000, quantization error: 0.000043\n",
            "\n",
            " find_bmu took: 0.112000 seconds\n",
            " update_codebook_voronoi took: 0.004000 seconds\n",
            " epoch: 23 ---> elapsed time:  0.122000, quantization error: 0.000043\n",
            "\n",
            " find_bmu took: 0.104000 seconds\n",
            " update_codebook_voronoi took: 0.003000 seconds\n",
            " epoch: 24 ---> elapsed time:  0.115000, quantization error: 0.000043\n",
            "\n",
            " find_bmu took: 0.112000 seconds\n",
            " update_codebook_voronoi took: 0.004000 seconds\n",
            " epoch: 25 ---> elapsed time:  0.123000, quantization error: 0.000043\n",
            "\n",
            " find_bmu took: 0.103000 seconds\n",
            " update_codebook_voronoi took: 0.005000 seconds\n",
            " epoch: 26 ---> elapsed time:  0.111000, quantization error: 0.000043\n",
            "\n",
            " find_bmu took: 0.103000 seconds\n",
            " update_codebook_voronoi took: 0.004000 seconds\n",
            " epoch: 27 ---> elapsed time:  0.112000, quantization error: 0.000043\n",
            "\n",
            " find_bmu took: 0.104000 seconds\n",
            " update_codebook_voronoi took: 0.004000 seconds\n",
            " epoch: 28 ---> elapsed time:  0.113000, quantization error: 0.000043\n",
            "\n",
            " find_bmu took: 0.103000 seconds\n",
            " update_codebook_voronoi took: 0.006000 seconds\n",
            " epoch: 29 ---> elapsed time:  0.114000, quantization error: 0.000043\n",
            "\n",
            " find_bmu took: 0.105000 seconds\n",
            " update_codebook_voronoi took: 0.005000 seconds\n",
            " epoch: 30 ---> elapsed time:  0.114000, quantization error: 0.000043\n",
            "\n",
            " --------------------------------------------------------------\n",
            " Final quantization error: 0.000043\n",
            " train took: 6.481000 seconds\n"
          ],
          "name": "stderr"
        }
      ]
    },
    {
      "cell_type": "code",
      "metadata": {
        "colab": {
          "base_uri": "https://localhost:8080/",
          "height": 1000
        },
        "id": "PnOm_Q8Ropgx",
        "outputId": "02e10abd-96d1-450e-c8e8-97305abab1e4"
      },
      "source": [
        "v = sompy.mapview.View2DPacked(50, 50, 'test',text_size=8)  \n",
        "# could be done in a one-liner: sompy.mapview.View2DPacked(300, 300, 'test').show(som)\n",
        "v.show(som, what='codebook', which_dim='all', cmap=None, col_sz=6) #which_dim='all' default\n",
        "# v.save('2d_packed_test')"
      ],
      "execution_count": 7,
      "outputs": [
        {
          "output_type": "stream",
          "text": [
            "findfont: Matching sans\\-serif:style=normal:variant=normal:weight=normal:stretch=normal:size=12.0.\n",
            "findfont: score(<Font 'STIXSizeTwoSym' (STIXSizTwoSymBol.ttf) normal normal 700 normal>) = 10.335\n",
            "findfont: score(<Font 'STIXGeneral' (STIXGeneral.ttf) normal normal regular normal>) = 10.05\n",
            "findfont: score(<Font 'cmtt10' (cmtt10.ttf) normal normal 400 normal>) = 10.05\n",
            "findfont: score(<Font 'DejaVu Serif' (DejaVuSerif-BoldItalic.ttf) italic normal 700 normal>) = 11.335\n",
            "findfont: score(<Font 'DejaVu Serif Display' (DejaVuSerifDisplay.ttf) normal normal 400 normal>) = 10.05\n",
            "findfont: score(<Font 'DejaVu Sans Mono' (DejaVuSansMono-BoldOblique.ttf) oblique normal 700 normal>) = 11.335\n",
            "findfont: score(<Font 'cmex10' (cmex10.ttf) normal normal 400 normal>) = 10.05\n",
            "findfont: score(<Font 'STIXNonUnicode' (STIXNonUni.ttf) normal normal regular normal>) = 10.05\n",
            "findfont: score(<Font 'DejaVu Sans' (DejaVuSans-BoldOblique.ttf) oblique normal 700 normal>) = 1.335\n",
            "findfont: score(<Font 'STIXGeneral' (STIXGeneralItalic.ttf) italic normal 400 normal>) = 11.05\n",
            "findfont: score(<Font 'DejaVu Sans' (DejaVuSans.ttf) normal normal 400 normal>) = 0.05\n",
            "findfont: score(<Font 'STIXGeneral' (STIXGeneralBol.ttf) normal normal 700 normal>) = 10.335\n",
            "findfont: score(<Font 'cmsy10' (cmsy10.ttf) normal normal 400 normal>) = 10.05\n",
            "findfont: score(<Font 'STIXSizeFiveSym' (STIXSizFiveSymReg.ttf) normal normal regular normal>) = 10.05\n",
            "findfont: score(<Font 'DejaVu Sans Mono' (DejaVuSansMono.ttf) normal normal 400 normal>) = 10.05\n",
            "findfont: score(<Font 'STIXNonUnicode' (STIXNonUniBolIta.ttf) italic normal 700 normal>) = 11.335\n",
            "findfont: score(<Font 'STIXSizeTwoSym' (STIXSizTwoSymReg.ttf) normal normal regular normal>) = 10.05\n",
            "findfont: score(<Font 'cmmi10' (cmmi10.ttf) normal normal 400 normal>) = 10.05\n",
            "findfont: score(<Font 'STIXNonUnicode' (STIXNonUniIta.ttf) italic normal 400 normal>) = 11.05\n",
            "findfont: score(<Font 'DejaVu Sans' (DejaVuSans-Bold.ttf) normal normal 700 normal>) = 0.33499999999999996\n",
            "findfont: score(<Font 'STIXSizeFourSym' (STIXSizFourSymReg.ttf) normal normal regular normal>) = 10.05\n",
            "findfont: score(<Font 'DejaVu Sans Mono' (DejaVuSansMono-Bold.ttf) normal normal 700 normal>) = 10.335\n",
            "findfont: score(<Font 'STIXNonUnicode' (STIXNonUniBol.ttf) normal normal 700 normal>) = 10.335\n",
            "findfont: score(<Font 'STIXSizeThreeSym' (STIXSizThreeSymBol.ttf) normal normal 700 normal>) = 10.335\n",
            "findfont: score(<Font 'DejaVu Sans' (DejaVuSans-Oblique.ttf) oblique normal 400 normal>) = 1.05\n",
            "findfont: score(<Font 'DejaVu Serif' (DejaVuSerif-Italic.ttf) italic normal 400 normal>) = 11.05\n",
            "findfont: score(<Font 'DejaVu Sans Display' (DejaVuSansDisplay.ttf) normal normal 400 normal>) = 10.05\n",
            "findfont: score(<Font 'DejaVu Serif' (DejaVuSerif-Bold.ttf) normal normal 700 normal>) = 10.335\n",
            "findfont: score(<Font 'DejaVu Sans Mono' (DejaVuSansMono-Oblique.ttf) oblique normal 400 normal>) = 11.05\n",
            "findfont: score(<Font 'STIXSizeFourSym' (STIXSizFourSymBol.ttf) normal normal 700 normal>) = 10.335\n",
            "findfont: score(<Font 'STIXSizeOneSym' (STIXSizOneSymBol.ttf) normal normal 700 normal>) = 10.335\n",
            "findfont: score(<Font 'cmb10' (cmb10.ttf) normal normal 400 normal>) = 10.05\n",
            "findfont: score(<Font 'cmss10' (cmss10.ttf) normal normal 400 normal>) = 10.05\n",
            "findfont: score(<Font 'STIXGeneral' (STIXGeneralBolIta.ttf) italic normal 700 normal>) = 11.335\n",
            "findfont: score(<Font 'DejaVu Serif' (DejaVuSerif.ttf) normal normal 400 normal>) = 10.05\n",
            "findfont: score(<Font 'STIXSizeOneSym' (STIXSizOneSymReg.ttf) normal normal regular normal>) = 10.05\n",
            "findfont: score(<Font 'STIXSizeThreeSym' (STIXSizThreeSymReg.ttf) normal normal regular normal>) = 10.05\n",
            "findfont: score(<Font 'cmr10' (cmr10.ttf) normal normal 400 normal>) = 10.05\n",
            "findfont: score(<Font 'Liberation Mono' (LiberationMono-BoldItalic.ttf) italic normal 700 normal>) = 11.335\n",
            "findfont: score(<Font 'Liberation Sans Narrow' (LiberationSansNarrow-Italic.ttf) italic normal 400 condensed>) = 11.25\n",
            "findfont: score(<Font 'Liberation Sans Narrow' (LiberationSansNarrow-Bold.ttf) normal normal 700 condensed>) = 10.535\n",
            "findfont: score(<Font 'Liberation Serif' (LiberationSerif-Bold.ttf) normal normal 700 normal>) = 10.335\n",
            "findfont: score(<Font 'Liberation Mono' (LiberationMono-Italic.ttf) italic normal 400 normal>) = 11.05\n",
            "findfont: score(<Font 'Liberation Sans Narrow' (LiberationSansNarrow-Regular.ttf) normal normal 400 condensed>) = 10.25\n",
            "findfont: score(<Font 'Liberation Mono' (LiberationMono-Bold.ttf) normal normal 700 normal>) = 10.335\n",
            "findfont: score(<Font 'Liberation Sans' (LiberationSans-Italic.ttf) italic normal 400 normal>) = 11.05\n",
            "findfont: score(<Font 'Liberation Serif' (LiberationSerif-Regular.ttf) normal normal 400 normal>) = 10.05\n",
            "findfont: score(<Font 'Liberation Sans' (LiberationSans-BoldItalic.ttf) italic normal 700 normal>) = 11.335\n",
            "findfont: score(<Font 'Humor Sans' (Humor-Sans.ttf) normal normal 400 normal>) = 10.05\n",
            "findfont: score(<Font 'Liberation Sans Narrow' (LiberationSansNarrow-BoldItalic.ttf) italic normal 700 condensed>) = 11.535\n",
            "findfont: score(<Font 'Liberation Serif' (LiberationSerif-Italic.ttf) italic normal 400 normal>) = 11.05\n",
            "findfont: score(<Font 'Liberation Mono' (LiberationMono-Regular.ttf) normal normal 400 normal>) = 10.05\n",
            "findfont: score(<Font 'Liberation Sans' (LiberationSans-Regular.ttf) normal normal 400 normal>) = 10.05\n",
            "findfont: score(<Font 'Liberation Sans' (LiberationSans-Bold.ttf) normal normal 700 normal>) = 10.335\n",
            "findfont: score(<Font 'Liberation Serif' (LiberationSerif-BoldItalic.ttf) italic normal 700 normal>) = 11.335\n",
            "findfont: Matching sans\\-serif:style=normal:variant=normal:weight=normal:stretch=normal:size=12.0 to DejaVu Sans ('/usr/local/lib/python3.7/dist-packages/matplotlib/mpl-data/fonts/ttf/DejaVuSans.ttf') with score of 0.050000.\n",
            "findfont: Matching sans\\-serif:style=normal:variant=normal:weight=normal:stretch=normal:size=9.6.\n",
            "findfont: score(<Font 'STIXSizeTwoSym' (STIXSizTwoSymBol.ttf) normal normal 700 normal>) = 10.335\n",
            "findfont: score(<Font 'STIXGeneral' (STIXGeneral.ttf) normal normal regular normal>) = 10.05\n",
            "findfont: score(<Font 'cmtt10' (cmtt10.ttf) normal normal 400 normal>) = 10.05\n",
            "findfont: score(<Font 'DejaVu Serif' (DejaVuSerif-BoldItalic.ttf) italic normal 700 normal>) = 11.335\n",
            "findfont: score(<Font 'DejaVu Serif Display' (DejaVuSerifDisplay.ttf) normal normal 400 normal>) = 10.05\n",
            "findfont: score(<Font 'DejaVu Sans Mono' (DejaVuSansMono-BoldOblique.ttf) oblique normal 700 normal>) = 11.335\n",
            "findfont: score(<Font 'cmex10' (cmex10.ttf) normal normal 400 normal>) = 10.05\n",
            "findfont: score(<Font 'STIXNonUnicode' (STIXNonUni.ttf) normal normal regular normal>) = 10.05\n",
            "findfont: score(<Font 'DejaVu Sans' (DejaVuSans-BoldOblique.ttf) oblique normal 700 normal>) = 1.335\n",
            "findfont: score(<Font 'STIXGeneral' (STIXGeneralItalic.ttf) italic normal 400 normal>) = 11.05\n",
            "findfont: score(<Font 'DejaVu Sans' (DejaVuSans.ttf) normal normal 400 normal>) = 0.05\n",
            "findfont: score(<Font 'STIXGeneral' (STIXGeneralBol.ttf) normal normal 700 normal>) = 10.335\n",
            "findfont: score(<Font 'cmsy10' (cmsy10.ttf) normal normal 400 normal>) = 10.05\n",
            "findfont: score(<Font 'STIXSizeFiveSym' (STIXSizFiveSymReg.ttf) normal normal regular normal>) = 10.05\n",
            "findfont: score(<Font 'DejaVu Sans Mono' (DejaVuSansMono.ttf) normal normal 400 normal>) = 10.05\n",
            "findfont: score(<Font 'STIXNonUnicode' (STIXNonUniBolIta.ttf) italic normal 700 normal>) = 11.335\n",
            "findfont: score(<Font 'STIXSizeTwoSym' (STIXSizTwoSymReg.ttf) normal normal regular normal>) = 10.05\n",
            "findfont: score(<Font 'cmmi10' (cmmi10.ttf) normal normal 400 normal>) = 10.05\n",
            "findfont: score(<Font 'STIXNonUnicode' (STIXNonUniIta.ttf) italic normal 400 normal>) = 11.05\n",
            "findfont: score(<Font 'DejaVu Sans' (DejaVuSans-Bold.ttf) normal normal 700 normal>) = 0.33499999999999996\n",
            "findfont: score(<Font 'STIXSizeFourSym' (STIXSizFourSymReg.ttf) normal normal regular normal>) = 10.05\n",
            "findfont: score(<Font 'DejaVu Sans Mono' (DejaVuSansMono-Bold.ttf) normal normal 700 normal>) = 10.335\n",
            "findfont: score(<Font 'STIXNonUnicode' (STIXNonUniBol.ttf) normal normal 700 normal>) = 10.335\n",
            "findfont: score(<Font 'STIXSizeThreeSym' (STIXSizThreeSymBol.ttf) normal normal 700 normal>) = 10.335\n",
            "findfont: score(<Font 'DejaVu Sans' (DejaVuSans-Oblique.ttf) oblique normal 400 normal>) = 1.05\n",
            "findfont: score(<Font 'DejaVu Serif' (DejaVuSerif-Italic.ttf) italic normal 400 normal>) = 11.05\n",
            "findfont: score(<Font 'DejaVu Sans Display' (DejaVuSansDisplay.ttf) normal normal 400 normal>) = 10.05\n",
            "findfont: score(<Font 'DejaVu Serif' (DejaVuSerif-Bold.ttf) normal normal 700 normal>) = 10.335\n",
            "findfont: score(<Font 'DejaVu Sans Mono' (DejaVuSansMono-Oblique.ttf) oblique normal 400 normal>) = 11.05\n",
            "findfont: score(<Font 'STIXSizeFourSym' (STIXSizFourSymBol.ttf) normal normal 700 normal>) = 10.335\n",
            "findfont: score(<Font 'STIXSizeOneSym' (STIXSizOneSymBol.ttf) normal normal 700 normal>) = 10.335\n",
            "findfont: score(<Font 'cmb10' (cmb10.ttf) normal normal 400 normal>) = 10.05\n",
            "findfont: score(<Font 'cmss10' (cmss10.ttf) normal normal 400 normal>) = 10.05\n",
            "findfont: score(<Font 'STIXGeneral' (STIXGeneralBolIta.ttf) italic normal 700 normal>) = 11.335\n",
            "findfont: score(<Font 'DejaVu Serif' (DejaVuSerif.ttf) normal normal 400 normal>) = 10.05\n",
            "findfont: score(<Font 'STIXSizeOneSym' (STIXSizOneSymReg.ttf) normal normal regular normal>) = 10.05\n",
            "findfont: score(<Font 'STIXSizeThreeSym' (STIXSizThreeSymReg.ttf) normal normal regular normal>) = 10.05\n",
            "findfont: score(<Font 'cmr10' (cmr10.ttf) normal normal 400 normal>) = 10.05\n",
            "findfont: score(<Font 'Liberation Mono' (LiberationMono-BoldItalic.ttf) italic normal 700 normal>) = 11.335\n",
            "findfont: score(<Font 'Liberation Sans Narrow' (LiberationSansNarrow-Italic.ttf) italic normal 400 condensed>) = 11.25\n",
            "findfont: score(<Font 'Liberation Sans Narrow' (LiberationSansNarrow-Bold.ttf) normal normal 700 condensed>) = 10.535\n",
            "findfont: score(<Font 'Liberation Serif' (LiberationSerif-Bold.ttf) normal normal 700 normal>) = 10.335\n",
            "findfont: score(<Font 'Liberation Mono' (LiberationMono-Italic.ttf) italic normal 400 normal>) = 11.05\n",
            "findfont: score(<Font 'Liberation Sans Narrow' (LiberationSansNarrow-Regular.ttf) normal normal 400 condensed>) = 10.25\n",
            "findfont: score(<Font 'Liberation Mono' (LiberationMono-Bold.ttf) normal normal 700 normal>) = 10.335\n",
            "findfont: score(<Font 'Liberation Sans' (LiberationSans-Italic.ttf) italic normal 400 normal>) = 11.05\n",
            "findfont: score(<Font 'Liberation Serif' (LiberationSerif-Regular.ttf) normal normal 400 normal>) = 10.05\n",
            "findfont: score(<Font 'Liberation Sans' (LiberationSans-BoldItalic.ttf) italic normal 700 normal>) = 11.335\n",
            "findfont: score(<Font 'Humor Sans' (Humor-Sans.ttf) normal normal 400 normal>) = 10.05\n",
            "findfont: score(<Font 'Liberation Sans Narrow' (LiberationSansNarrow-BoldItalic.ttf) italic normal 700 condensed>) = 11.535\n",
            "findfont: score(<Font 'Liberation Serif' (LiberationSerif-Italic.ttf) italic normal 400 normal>) = 11.05\n",
            "findfont: score(<Font 'Liberation Mono' (LiberationMono-Regular.ttf) normal normal 400 normal>) = 10.05\n",
            "findfont: score(<Font 'Liberation Sans' (LiberationSans-Regular.ttf) normal normal 400 normal>) = 10.05\n",
            "findfont: score(<Font 'Liberation Sans' (LiberationSans-Bold.ttf) normal normal 700 normal>) = 10.335\n",
            "findfont: score(<Font 'Liberation Serif' (LiberationSerif-BoldItalic.ttf) italic normal 700 normal>) = 11.335\n",
            "findfont: Matching sans\\-serif:style=normal:variant=normal:weight=normal:stretch=normal:size=9.6 to DejaVu Sans ('/usr/local/lib/python3.7/dist-packages/matplotlib/mpl-data/fonts/ttf/DejaVuSans.ttf') with score of 0.050000.\n"
          ],
          "name": "stderr"
        },
        {
          "output_type": "display_data",
          "data": {
            "image/png": "[encoded data removed]",
            "text/plain": [
              "<Figure size 1188x693 with 16 Axes>"
            ]
          },
          "metadata": {
            "tags": [],
            "needs_background": "light"
          }
        }
      ]
    },
    {
      "cell_type": "code",
      "metadata": {
        "colab": {
          "base_uri": "https://localhost:8080/",
          "height": 568
        },
        "id": "WCXFHPt4pqeI",
        "outputId": "7dd6c1d4-7613-4966-a909-7b8348602734"
      },
      "source": [
        "som.component_names = ['1','2','3','4','5','6','7','8','9','10','11','12','13','14','15']\n",
        "v = sompy.mapview.View2DPacked(50, 50, 'test',text_size=8)  \n",
        "v.show(som, what='codebook', which_dim='all', cmap='jet', col_sz=6) #which_dim='all' default"
      ],
      "execution_count": 9,
      "outputs": [
        {
          "output_type": "display_data",
          "data": {
            "image/png": "[encoded data removed]",
            "text/plain": [
              "<Figure size 1188x693 with 16 Axes>"
            ]
          },
          "metadata": {
            "tags": [],
            "needs_background": "light"
          }
        }
      ]
    },
    {
      "cell_type": "code",
      "metadata": {
        "colab": {
          "base_uri": "https://localhost:8080/"
        },
        "id": "ZWOSyCCbpsSF",
        "outputId": "303d677b-9be4-4869-c637-58490734a197"
      },
      "source": [
        "# c = sompy.mapview.View2DPacked()\n",
        "v = sompy.mapview.View2DPacked(2, 2, 'test',text_size=8)  \n",
        "#first you can do clustering. Currently only K-means on top of the trained som\n",
        "cl = som.cluster(n_clusters=4)\n",
        "# print cl\n",
        "getattr(som, 'cluster_labels')"
      ],
      "execution_count": 10,
      "outputs": [
        {
          "output_type": "stream",
          "text": [
            "Performing K-means SSE elbow sweep...\n",
            "Working on bootstrap sample 0 K: 2\n",
            "Working on bootstrap sample 1 K: 2\n",
            "Working on bootstrap sample 2 K: 2\n",
            "Working on bootstrap sample 3 K: 2\n",
            "Working on bootstrap sample 4 K: 2\n",
            "Working on bootstrap sample 5 K: 2\n",
            "Working on bootstrap sample 6 K: 2\n",
            "Working on bootstrap sample 7 K: 2\n",
            "Working on bootstrap sample 8 K: 2\n",
            "Working on bootstrap sample 9 K: 2\n",
            "Working on bootstrap sample 10 K: 2\n",
            "Working on bootstrap sample 11 K: 2\n",
            "Working on bootstrap sample 12 K: 2\n",
            "Working on bootstrap sample 13 K: 2\n",
            "Working on bootstrap sample 14 K: 2\n",
            "Working on bootstrap sample 15 K: 2\n",
            "Working on bootstrap sample 16 K: 2\n",
            "Working on bootstrap sample 17 K: 2\n",
            "Working on bootstrap sample 18 K: 2\n",
            "Working on bootstrap sample 19 K: 2\n",
            "Working on bootstrap sample 0 K: 3\n",
            "Working on bootstrap sample 1 K: 3\n",
            "Working on bootstrap sample 2 K: 3\n",
            "Working on bootstrap sample 3 K: 3\n",
            "Working on bootstrap sample 4 K: 3\n",
            "Working on bootstrap sample 5 K: 3\n",
            "Working on bootstrap sample 6 K: 3\n",
            "Working on bootstrap sample 7 K: 3\n",
            "Working on bootstrap sample 8 K: 3\n",
            "Working on bootstrap sample 9 K: 3\n",
            "Working on bootstrap sample 10 K: 3\n",
            "Working on bootstrap sample 11 K: 3\n",
            "Working on bootstrap sample 12 K: 3\n",
            "Working on bootstrap sample 13 K: 3\n",
            "Working on bootstrap sample 14 K: 3\n",
            "Working on bootstrap sample 15 K: 3\n",
            "Working on bootstrap sample 16 K: 3\n",
            "Working on bootstrap sample 17 K: 3\n",
            "Working on bootstrap sample 18 K: 3\n",
            "Working on bootstrap sample 19 K: 3\n",
            "Working on bootstrap sample 0 K: 4\n",
            "Working on bootstrap sample 1 K: 4\n",
            "Working on bootstrap sample 2 K: 4\n",
            "Working on bootstrap sample 3 K: 4\n",
            "Working on bootstrap sample 4 K: 4\n",
            "Working on bootstrap sample 5 K: 4\n",
            "Working on bootstrap sample 6 K: 4\n",
            "Working on bootstrap sample 7 K: 4\n",
            "Working on bootstrap sample 8 K: 4\n",
            "Working on bootstrap sample 9 K: 4\n",
            "Working on bootstrap sample 10 K: 4\n",
            "Working on bootstrap sample 11 K: 4\n",
            "Working on bootstrap sample 12 K: 4\n",
            "Working on bootstrap sample 13 K: 4\n",
            "Working on bootstrap sample 14 K: 4\n",
            "Working on bootstrap sample 15 K: 4\n",
            "Working on bootstrap sample 16 K: 4\n",
            "Working on bootstrap sample 17 K: 4\n",
            "Working on bootstrap sample 18 K: 4\n",
            "Working on bootstrap sample 19 K: 4\n",
            "SSE for k = 2 to 4 [104.73305048166553, 59.89733997221636, 39.37723675261712]\n",
            "Optimal K = 2\n",
            "Centroid 0[0.00514459 0.01527179 0.01527179 0.01527179 0.         0.21784645\n",
            " 0.85495088 0.12977731 0.59057986 0.52392565 0.59057986 0.52392565\n",
            " 0.98472821 0.98472821 0.59057986]\n",
            "Centroid 1[ 8.35822309e-01  9.62425140e-01  9.62425140e-01  9.62425140e-01\n",
            "  0.00000000e+00  1.36316527e-01  3.75748298e-02 -1.31525575e-08\n",
            "  9.71411758e-03  2.78607203e-02  9.71411758e-03  2.78607203e-02\n",
            "  3.75748603e-02  3.75748603e-02  9.71411758e-03]\n"
          ],
          "name": "stdout"
        },
        {
          "output_type": "execute_result",
          "data": {
            "text/plain": [
              "array([1, 1, 1, 1, 1, 1, 1, 1, 1, 1, 1, 1, 1, 1, 1, 1, 1, 1, 1, 1, 1, 1,\n",
              "       1, 1, 1, 1, 1, 1, 1, 1, 1, 1, 1, 1, 1, 0, 0, 0, 1, 1, 1, 1, 1, 1,\n",
              "       1, 0, 0, 0, 0, 0, 0, 1, 1, 1, 1, 0, 0, 0, 0, 0, 0, 0, 0, 0, 1, 0,\n",
              "       0, 0, 0, 0, 0, 0, 0, 0, 0, 0, 0, 0, 0, 0, 0, 0, 0, 0, 0, 0, 0, 0,\n",
              "       0, 0, 0, 0, 0, 0, 0, 0, 0, 0, 0, 0, 0, 0, 0, 0, 0, 0, 0, 0, 0, 0,\n",
              "       0, 0, 0, 0, 0, 0, 0, 0, 0, 0, 0, 0, 0, 0, 0, 0, 0, 0, 0, 0, 0, 0,\n",
              "       0, 0, 0, 0, 0, 0, 0, 0, 0, 0, 0, 0], dtype=int32)"
            ]
          },
          "metadata": {
            "tags": []
          },
          "execution_count": 10
        }
      ]
    },
    {
      "cell_type": "code",
      "metadata": {
        "colab": {
          "base_uri": "https://localhost:8080/",
          "height": 427
        },
        "id": "afhlza-UqF3u",
        "outputId": "34763af3-9c94-4d67-a3e5-69f8e989a4dc"
      },
      "source": [
        "v.show(som, what='cluster')"
      ],
      "execution_count": 11,
      "outputs": [
        {
          "output_type": "stream",
          "text": [
            "/content/SOMPY_robust_clustering/sompy/visualization/mapview.py:159: MatplotlibDeprecationWarning: Adding an axes using the same arguments as a previous axes currently reuses the earlier instance.  In a future version, a new instance will always be created and returned.  Meanwhile, this warning can be suppressed, and the future behavior ensured, by passing a unique label to each axes instance.\n",
            "  ax = self._fig.add_subplot(1, 1, 1)\n"
          ],
          "name": "stderr"
        },
        {
          "output_type": "display_data",
          "data": {
            "image/png": "[encoded data removed]",
            "text/plain": [
              "<Figure size 432x432 with 1 Axes>"
            ]
          },
          "metadata": {
            "tags": [],
            "needs_background": "light"
          }
        }
      ]
    },
    {
      "cell_type": "code",
      "metadata": {
        "colab": {
          "base_uri": "https://localhost:8080/",
          "height": 1000
        },
        "id": "-RQ6jg3cqK4m",
        "outputId": "1c856f51-740b-436e-9bec-2bb4515d39cc"
      },
      "source": [
        "h = sompy.hitmap.HitMapView(10, 10, 'hitmap', text_size=8, show_text=True)\n",
        "h.show(som)"
      ],
      "execution_count": 12,
      "outputs": [
        {
          "output_type": "stream",
          "text": [
            "/content/SOMPY_robust_clustering/sompy/visualization/hitmap.py:23: MatplotlibDeprecationWarning: Adding an axes using the same arguments as a previous axes currently reuses the earlier instance.  In a future version, a new instance will always be created and returned.  Meanwhile, this warning can be suppressed, and the future behavior ensured, by passing a unique label to each axes instance.\n",
            "  ax = self._fig.add_subplot(111)\n",
            "findfont: Matching sans\\-serif:style=normal:variant=normal:weight=normal:stretch=normal:size=10.0.\n",
            "findfont: score(<Font 'STIXSizeTwoSym' (STIXSizTwoSymBol.ttf) normal normal 700 normal>) = 10.335\n",
            "findfont: score(<Font 'STIXGeneral' (STIXGeneral.ttf) normal normal regular normal>) = 10.05\n",
            "findfont: score(<Font 'cmtt10' (cmtt10.ttf) normal normal 400 normal>) = 10.05\n",
            "findfont: score(<Font 'DejaVu Serif' (DejaVuSerif-BoldItalic.ttf) italic normal 700 normal>) = 11.335\n",
            "findfont: score(<Font 'DejaVu Serif Display' (DejaVuSerifDisplay.ttf) normal normal 400 normal>) = 10.05\n",
            "findfont: score(<Font 'DejaVu Sans Mono' (DejaVuSansMono-BoldOblique.ttf) oblique normal 700 normal>) = 11.335\n",
            "findfont: score(<Font 'cmex10' (cmex10.ttf) normal normal 400 normal>) = 10.05\n",
            "findfont: score(<Font 'STIXNonUnicode' (STIXNonUni.ttf) normal normal regular normal>) = 10.05\n",
            "findfont: score(<Font 'DejaVu Sans' (DejaVuSans-BoldOblique.ttf) oblique normal 700 normal>) = 1.335\n",
            "findfont: score(<Font 'STIXGeneral' (STIXGeneralItalic.ttf) italic normal 400 normal>) = 11.05\n",
            "findfont: score(<Font 'DejaVu Sans' (DejaVuSans.ttf) normal normal 400 normal>) = 0.05\n",
            "findfont: score(<Font 'STIXGeneral' (STIXGeneralBol.ttf) normal normal 700 normal>) = 10.335\n",
            "findfont: score(<Font 'cmsy10' (cmsy10.ttf) normal normal 400 normal>) = 10.05\n",
            "findfont: score(<Font 'STIXSizeFiveSym' (STIXSizFiveSymReg.ttf) normal normal regular normal>) = 10.05\n",
            "findfont: score(<Font 'DejaVu Sans Mono' (DejaVuSansMono.ttf) normal normal 400 normal>) = 10.05\n",
            "findfont: score(<Font 'STIXNonUnicode' (STIXNonUniBolIta.ttf) italic normal 700 normal>) = 11.335\n",
            "findfont: score(<Font 'STIXSizeTwoSym' (STIXSizTwoSymReg.ttf) normal normal regular normal>) = 10.05\n",
            "findfont: score(<Font 'cmmi10' (cmmi10.ttf) normal normal 400 normal>) = 10.05\n",
            "findfont: score(<Font 'STIXNonUnicode' (STIXNonUniIta.ttf) italic normal 400 normal>) = 11.05\n",
            "findfont: score(<Font 'DejaVu Sans' (DejaVuSans-Bold.ttf) normal normal 700 normal>) = 0.33499999999999996\n",
            "findfont: score(<Font 'STIXSizeFourSym' (STIXSizFourSymReg.ttf) normal normal regular normal>) = 10.05\n",
            "findfont: score(<Font 'DejaVu Sans Mono' (DejaVuSansMono-Bold.ttf) normal normal 700 normal>) = 10.335\n",
            "findfont: score(<Font 'STIXNonUnicode' (STIXNonUniBol.ttf) normal normal 700 normal>) = 10.335\n",
            "findfont: score(<Font 'STIXSizeThreeSym' (STIXSizThreeSymBol.ttf) normal normal 700 normal>) = 10.335\n",
            "findfont: score(<Font 'DejaVu Sans' (DejaVuSans-Oblique.ttf) oblique normal 400 normal>) = 1.05\n",
            "findfont: score(<Font 'DejaVu Serif' (DejaVuSerif-Italic.ttf) italic normal 400 normal>) = 11.05\n",
            "findfont: score(<Font 'DejaVu Sans Display' (DejaVuSansDisplay.ttf) normal normal 400 normal>) = 10.05\n",
            "findfont: score(<Font 'DejaVu Serif' (DejaVuSerif-Bold.ttf) normal normal 700 normal>) = 10.335\n",
            "findfont: score(<Font 'DejaVu Sans Mono' (DejaVuSansMono-Oblique.ttf) oblique normal 400 normal>) = 11.05\n",
            "findfont: score(<Font 'STIXSizeFourSym' (STIXSizFourSymBol.ttf) normal normal 700 normal>) = 10.335\n",
            "findfont: score(<Font 'STIXSizeOneSym' (STIXSizOneSymBol.ttf) normal normal 700 normal>) = 10.335\n",
            "findfont: score(<Font 'cmb10' (cmb10.ttf) normal normal 400 normal>) = 10.05\n",
            "findfont: score(<Font 'cmss10' (cmss10.ttf) normal normal 400 normal>) = 10.05\n",
            "findfont: score(<Font 'STIXGeneral' (STIXGeneralBolIta.ttf) italic normal 700 normal>) = 11.335\n",
            "findfont: score(<Font 'DejaVu Serif' (DejaVuSerif.ttf) normal normal 400 normal>) = 10.05\n",
            "findfont: score(<Font 'STIXSizeOneSym' (STIXSizOneSymReg.ttf) normal normal regular normal>) = 10.05\n",
            "findfont: score(<Font 'STIXSizeThreeSym' (STIXSizThreeSymReg.ttf) normal normal regular normal>) = 10.05\n",
            "findfont: score(<Font 'cmr10' (cmr10.ttf) normal normal 400 normal>) = 10.05\n",
            "findfont: score(<Font 'Liberation Mono' (LiberationMono-BoldItalic.ttf) italic normal 700 normal>) = 11.335\n",
            "findfont: score(<Font 'Liberation Sans Narrow' (LiberationSansNarrow-Italic.ttf) italic normal 400 condensed>) = 11.25\n",
            "findfont: score(<Font 'Liberation Sans Narrow' (LiberationSansNarrow-Bold.ttf) normal normal 700 condensed>) = 10.535\n",
            "findfont: score(<Font 'Liberation Serif' (LiberationSerif-Bold.ttf) normal normal 700 normal>) = 10.335\n",
            "findfont: score(<Font 'Liberation Mono' (LiberationMono-Italic.ttf) italic normal 400 normal>) = 11.05\n",
            "findfont: score(<Font 'Liberation Sans Narrow' (LiberationSansNarrow-Regular.ttf) normal normal 400 condensed>) = 10.25\n",
            "findfont: score(<Font 'Liberation Mono' (LiberationMono-Bold.ttf) normal normal 700 normal>) = 10.335\n",
            "findfont: score(<Font 'Liberation Sans' (LiberationSans-Italic.ttf) italic normal 400 normal>) = 11.05\n",
            "findfont: score(<Font 'Liberation Serif' (LiberationSerif-Regular.ttf) normal normal 400 normal>) = 10.05\n",
            "findfont: score(<Font 'Liberation Sans' (LiberationSans-BoldItalic.ttf) italic normal 700 normal>) = 11.335\n",
            "findfont: score(<Font 'Humor Sans' (Humor-Sans.ttf) normal normal 400 normal>) = 10.05\n",
            "findfont: score(<Font 'Liberation Sans Narrow' (LiberationSansNarrow-BoldItalic.ttf) italic normal 700 condensed>) = 11.535\n",
            "findfont: score(<Font 'Liberation Serif' (LiberationSerif-Italic.ttf) italic normal 400 normal>) = 11.05\n",
            "findfont: score(<Font 'Liberation Mono' (LiberationMono-Regular.ttf) normal normal 400 normal>) = 10.05\n",
            "findfont: score(<Font 'Liberation Sans' (LiberationSans-Regular.ttf) normal normal 400 normal>) = 10.05\n",
            "findfont: score(<Font 'Liberation Sans' (LiberationSans-Bold.ttf) normal normal 700 normal>) = 10.335\n",
            "findfont: score(<Font 'Liberation Serif' (LiberationSerif-BoldItalic.ttf) italic normal 700 normal>) = 11.335\n",
            "findfont: Matching sans\\-serif:style=normal:variant=normal:weight=normal:stretch=normal:size=10.0 to DejaVu Sans ('/usr/local/lib/python3.7/dist-packages/matplotlib/mpl-data/fonts/ttf/DejaVuSans.ttf') with score of 0.050000.\n"
          ],
          "name": "stderr"
        },
        {
          "output_type": "display_data",
          "data": {
            "image/png": "[encoded data removed]",
            "text/plain": [
              "<Figure size 720x720 with 1 Axes>"
            ]
          },
          "metadata": {
            "tags": [],
            "needs_background": "light"
          }
        },
        {
          "output_type": "execute_result",
          "data": {
            "text/plain": [
              "array([[  0,   0,   0],\n",
              "       [  0,   1,   1],\n",
              "       [  0,   2,   2],\n",
              "       [  0,   3,   3],\n",
              "       [  0,   4,   4],\n",
              "       [  0,   5,   5],\n",
              "       [  0,   6,   6],\n",
              "       [  0,   7,   7],\n",
              "       [  0,   8,   8],\n",
              "       [  0,   9,   9],\n",
              "       [  0,  10,  10],\n",
              "       [  0,  11,  11],\n",
              "       [  1,   0,  12],\n",
              "       [  1,   1,  13],\n",
              "       [  1,   2,  14],\n",
              "       [  1,   3,  15],\n",
              "       [  1,   4,  16],\n",
              "       [  1,   5,  17],\n",
              "       [  1,   6,  18],\n",
              "       [  1,   7,  19],\n",
              "       [  1,   8,  20],\n",
              "       [  1,   9,  21],\n",
              "       [  1,  10,  22],\n",
              "       [  1,  11,  23],\n",
              "       [  2,   0,  24],\n",
              "       [  2,   1,  25],\n",
              "       [  2,   2,  26],\n",
              "       [  2,   3,  27],\n",
              "       [  2,   4,  28],\n",
              "       [  2,   5,  29],\n",
              "       [  2,   6,  30],\n",
              "       [  2,   7,  31],\n",
              "       [  2,   8,  32],\n",
              "       [  2,   9,  33],\n",
              "       [  2,  10,  34],\n",
              "       [  2,  11,  35],\n",
              "       [  3,   0,  36],\n",
              "       [  3,   1,  37],\n",
              "       [  3,   2,  38],\n",
              "       [  3,   3,  39],\n",
              "       [  3,   4,  40],\n",
              "       [  3,   5,  41],\n",
              "       [  3,   6,  42],\n",
              "       [  3,   7,  43],\n",
              "       [  3,   8,  44],\n",
              "       [  3,   9,  45],\n",
              "       [  3,  10,  46],\n",
              "       [  3,  11,  47],\n",
              "       [  4,   0,  48],\n",
              "       [  4,   1,  49],\n",
              "       [  4,   2,  50],\n",
              "       [  4,   3,  51],\n",
              "       [  4,   4,  52],\n",
              "       [  4,   5,  53],\n",
              "       [  4,   6,  54],\n",
              "       [  4,   7,  55],\n",
              "       [  4,   8,  56],\n",
              "       [  4,   9,  57],\n",
              "       [  4,  10,  58],\n",
              "       [  4,  11,  59],\n",
              "       [  5,   0,  60],\n",
              "       [  5,   1,  61],\n",
              "       [  5,   2,  62],\n",
              "       [  5,   3,  63],\n",
              "       [  5,   4,  64],\n",
              "       [  5,   5,  65],\n",
              "       [  5,   6,  66],\n",
              "       [  5,   7,  67],\n",
              "       [  5,   8,  68],\n",
              "       [  5,   9,  69],\n",
              "       [  5,  10,  70],\n",
              "       [  5,  11,  71],\n",
              "       [  6,   0,  72],\n",
              "       [  6,   1,  73],\n",
              "       [  6,   2,  74],\n",
              "       [  6,   3,  75],\n",
              "       [  6,   4,  76],\n",
              "       [  6,   5,  77],\n",
              "       [  6,   6,  78],\n",
              "       [  6,   7,  79],\n",
              "       [  6,   8,  80],\n",
              "       [  6,   9,  81],\n",
              "       [  6,  10,  82],\n",
              "       [  6,  11,  83],\n",
              "       [  7,   0,  84],\n",
              "       [  7,   1,  85],\n",
              "       [  7,   2,  86],\n",
              "       [  7,   3,  87],\n",
              "       [  7,   4,  88],\n",
              "       [  7,   5,  89],\n",
              "       [  7,   6,  90],\n",
              "       [  7,   7,  91],\n",
              "       [  7,   8,  92],\n",
              "       [  7,   9,  93],\n",
              "       [  7,  10,  94],\n",
              "       [  7,  11,  95],\n",
              "       [  8,   0,  96],\n",
              "       [  8,   1,  97],\n",
              "       [  8,   2,  98],\n",
              "       [  8,   3,  99],\n",
              "       [  8,   4, 100],\n",
              "       [  8,   5, 101],\n",
              "       [  8,   6, 102],\n",
              "       [  8,   7, 103],\n",
              "       [  8,   8, 104],\n",
              "       [  8,   9, 105],\n",
              "       [  8,  10, 106],\n",
              "       [  8,  11, 107],\n",
              "       [  9,   0, 108],\n",
              "       [  9,   1, 109],\n",
              "       [  9,   2, 110],\n",
              "       [  9,   3, 111],\n",
              "       [  9,   4, 112],\n",
              "       [  9,   5, 113],\n",
              "       [  9,   6, 114],\n",
              "       [  9,   7, 115],\n",
              "       [  9,   8, 116],\n",
              "       [  9,   9, 117],\n",
              "       [  9,  10, 118],\n",
              "       [  9,  11, 119],\n",
              "       [ 10,   0, 120],\n",
              "       [ 10,   1, 121],\n",
              "       [ 10,   2, 122],\n",
              "       [ 10,   3, 123],\n",
              "       [ 10,   4, 124],\n",
              "       [ 10,   5, 125],\n",
              "       [ 10,   6, 126],\n",
              "       [ 10,   7, 127],\n",
              "       [ 10,   8, 128],\n",
              "       [ 10,   9, 129],\n",
              "       [ 10,  10, 130],\n",
              "       [ 10,  11, 131],\n",
              "       [ 11,   0, 132],\n",
              "       [ 11,   1, 133],\n",
              "       [ 11,   2, 134],\n",
              "       [ 11,   3, 135],\n",
              "       [ 11,   4, 136],\n",
              "       [ 11,   5, 137],\n",
              "       [ 11,   6, 138],\n",
              "       [ 11,   7, 139],\n",
              "       [ 11,   8, 140],\n",
              "       [ 11,   9, 141],\n",
              "       [ 11,  10, 142],\n",
              "       [ 11,  11, 143]])"
            ]
          },
          "metadata": {
            "tags": []
          },
          "execution_count": 12
        }
      ]
    },
    {
      "cell_type": "code",
      "metadata": {
        "colab": {
          "base_uri": "https://localhost:8080/",
          "height": 554
        },
        "id": "0C8DDNP_qQVX",
        "outputId": "32ba4614-036d-49bb-be9e-90c2f2cfc46c"
      },
      "source": [
        "u = sompy.umatrix.UMatrixView(50, 50, 'umatrix', show_axis=True, text_size=8, show_text=True)\n",
        "\n",
        "#This is the Umat value\n",
        "UMAT  = u.build_u_matrix(som, distance=1, row_normalized=False)\n",
        "\n",
        "#Here you have Umatrix plus its render\n",
        "UMAT = u.show(som, distance2=1, row_normalized=False, show_data=True, contooor=True, blob=False)"
      ],
      "execution_count": 13,
      "outputs": [
        {
          "output_type": "display_data",
          "data": {
            "image/png": "[encoded data removed]",
            "text/plain": [
              "<Figure size 540x540 with 1 Axes>"
            ]
          },
          "metadata": {
            "tags": [],
            "needs_background": "light"
          }
        }
      ]
    },
    {
      "cell_type": "code",
      "metadata": {
        "id": "7ukaE8BNqb22"
      },
      "source": [
        ""
      ],
      "execution_count": null,
      "outputs": []
    }
  ]
}