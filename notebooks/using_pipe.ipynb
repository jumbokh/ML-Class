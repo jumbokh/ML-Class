{
  "nbformat": 4,
  "nbformat_minor": 0,
  "metadata": {
    "colab": {
      "name": "using-pipe.ipynb",
      "provenance": [],
      "collapsed_sections": [],
      "authorship_tag": "ABX9TyPLq+oVQuWmOlRN/m7+deGF",
      "include_colab_link": true
    },
    "kernelspec": {
      "name": "python3",
      "display_name": "Python 3"
    },
    "language_info": {
      "name": "python"
    }
  },
  "cells": [
    {
      "cell_type": "markdown",
      "metadata": {
        "id": "view-in-github",
        "colab_type": "text"
      },
      "source": [
        "<a href=\"https://colab.research.google.com/github/jumbokh/ML-Class/blob/main/notebooks/using_pipe.ipynb\" target=\"_parent\"><img src=\"https://colab.research.google.com/assets/colab-badge.svg\" alt=\"Open In Colab\"/></a>"
      ]
    },
    {
      "cell_type": "markdown",
      "metadata": {
        "id": "QcMjzhXx40e1"
      },
      "source": [
        "### [Kaggle網站的電子商務運輸資料集(Train.csv)](https://www.kaggle.com/prachi13/customer-analytics)\n",
        "### [有效利用Pandas套件的pipe方法 打造資料處理流程管道](https://www.learncodewithmike.com/2021/06/pandas-pipe-method.html)"
      ]
    },
    {
      "cell_type": "code",
      "metadata": {
        "id": "7hlVuVNr4whv"
      },
      "source": [
        "import pandas as pd"
      ],
      "execution_count": 2,
      "outputs": []
    },
    {
      "cell_type": "markdown",
      "metadata": {
        "id": "tugFFb-F6FhU"
      },
      "source": [
        "### 自訂函式(Function)，篩選商品重要性(Product_importance)欄位"
      ]
    },
    {
      "cell_type": "code",
      "metadata": {
        "id": "4sWbMpSd5dK-"
      },
      "source": [
        "def filt_product_importance(dataframe, level):\n",
        "    filt = (dataframe['Product_importance'] == level)\n",
        "    return dataframe.loc[filt]"
      ],
      "execution_count": 3,
      "outputs": []
    },
    {
      "cell_type": "markdown",
      "metadata": {
        "id": "LgiTZCXS6KGy"
      },
      "source": [
        "### 群組運輸方式(Mode_of_Shipment)欄位\n",
        "### ，並且計算客戶評價(Customer_rating)欄位的平均值"
      ]
    },
    {
      "cell_type": "code",
      "metadata": {
        "id": "x7pCePVh5l3T"
      },
      "source": [
        "def shipment_rating(dataframe):\n",
        "    dataframe = dataframe.groupby('Mode_of_Shipment')['Customer_rating'].mean()\n",
        "    return dataframe"
      ],
      "execution_count": 4,
      "outputs": []
    },
    {
      "cell_type": "code",
      "metadata": {
        "colab": {
          "base_uri": "https://localhost:8080/"
        },
        "id": "i1KvDWBk5qHN",
        "outputId": "dc944b9e-d4ec-4333-8297-0c12b0bfc17d"
      },
      "source": [
        "df = pd.read_csv('Train.csv')\n",
        "print(df)"
      ],
      "execution_count": 5,
      "outputs": [
        {
          "output_type": "stream",
          "text": [
            "          ID Warehouse_block  ... Weight_in_gms  Reached.on.Time_Y.N\n",
            "0          1               D  ...          1233                    1\n",
            "1          2               F  ...          3088                    1\n",
            "2          3               A  ...          3374                    1\n",
            "3          4               B  ...          1177                    1\n",
            "4          5               C  ...          2484                    1\n",
            "...      ...             ...  ...           ...                  ...\n",
            "10994  10995               A  ...          1538                    1\n",
            "10995  10996               B  ...          1247                    0\n",
            "10996  10997               C  ...          1155                    0\n",
            "10997  10998               F  ...          1210                    0\n",
            "10998  10999               D  ...          1639                    0\n",
            "\n",
            "[10999 rows x 12 columns]\n"
          ],
          "name": "stdout"
        }
      ]
    },
    {
      "cell_type": "code",
      "metadata": {
        "colab": {
          "base_uri": "https://localhost:8080/"
        },
        "id": "d_ycCkEn5tUv",
        "outputId": "5c25daa8-7588-48dc-fc3f-5d9d7194b595"
      },
      "source": [
        "pipeline = df.pipe(filt_product_importance, 'high').pipe(shipment_rating)\n",
        "print(pipeline)"
      ],
      "execution_count": 6,
      "outputs": [
        {
          "output_type": "stream",
          "text": [
            "Mode_of_Shipment\n",
            "Flight    3.024540\n",
            "Road      3.044304\n",
            "Ship      2.972887\n",
            "Name: Customer_rating, dtype: float64\n"
          ],
          "name": "stdout"
        }
      ]
    },
    {
      "cell_type": "code",
      "metadata": {
        "colab": {
          "base_uri": "https://localhost:8080/"
        },
        "id": "sUchJgu_6wrU",
        "outputId": "ca23f6eb-d915-4528-9639-d1f00c26bb3a"
      },
      "source": [
        "print(df.columns)"
      ],
      "execution_count": 7,
      "outputs": [
        {
          "output_type": "stream",
          "text": [
            "Index(['ID', 'Warehouse_block', 'Mode_of_Shipment', 'Customer_care_calls',\n",
            "       'Customer_rating', 'Cost_of_the_Product', 'Prior_purchases',\n",
            "       'Product_importance', 'Gender', 'Discount_offered', 'Weight_in_gms',\n",
            "       'Reached.on.Time_Y.N'],\n",
            "      dtype='object')\n"
          ],
          "name": "stdout"
        }
      ]
    },
    {
      "cell_type": "code",
      "metadata": {
        "colab": {
          "base_uri": "https://localhost:8080/"
        },
        "id": "y0OnLD0_6zCq",
        "outputId": "66e9b667-f7e2-4e4e-9093-31950c12c357"
      },
      "source": [
        "print(df[:5])"
      ],
      "execution_count": 10,
      "outputs": [
        {
          "output_type": "stream",
          "text": [
            "   ID Warehouse_block  ... Weight_in_gms  Reached.on.Time_Y.N\n",
            "0   1               D  ...          1233                    1\n",
            "1   2               F  ...          3088                    1\n",
            "2   3               A  ...          3374                    1\n",
            "3   4               B  ...          1177                    1\n",
            "4   5               C  ...          2484                    1\n",
            "\n",
            "[5 rows x 12 columns]\n"
          ],
          "name": "stdout"
        }
      ]
    },
    {
      "cell_type": "code",
      "metadata": {
        "colab": {
          "base_uri": "https://localhost:8080/"
        },
        "id": "FVtxJMgY6-Wq",
        "outputId": "58ad05b7-ad8f-419a-8724-8bbff0cfdda3"
      },
      "source": [
        "with pd.option_context('display.max_rows', None, 'display.max_columns', None):  # more options can be specified also\n",
        "    print(df[:5])"
      ],
      "execution_count": 11,
      "outputs": [
        {
          "output_type": "stream",
          "text": [
            "   ID Warehouse_block Mode_of_Shipment  Customer_care_calls  Customer_rating  \\\n",
            "0   1               D           Flight                    4                2   \n",
            "1   2               F           Flight                    4                5   \n",
            "2   3               A           Flight                    2                2   \n",
            "3   4               B           Flight                    3                3   \n",
            "4   5               C           Flight                    2                2   \n",
            "\n",
            "   Cost_of_the_Product  Prior_purchases Product_importance Gender  \\\n",
            "0                  177                3                low      F   \n",
            "1                  216                2                low      M   \n",
            "2                  183                4                low      M   \n",
            "3                  176                4             medium      M   \n",
            "4                  184                3             medium      F   \n",
            "\n",
            "   Discount_offered  Weight_in_gms  Reached.on.Time_Y.N  \n",
            "0                44           1233                    1  \n",
            "1                59           3088                    1  \n",
            "2                48           3374                    1  \n",
            "3                10           1177                    1  \n",
            "4                46           2484                    1  \n"
          ],
          "name": "stdout"
        }
      ]
    },
    {
      "cell_type": "code",
      "metadata": {
        "id": "75pfQ24I75lb"
      },
      "source": [
        ""
      ],
      "execution_count": null,
      "outputs": []
    }
  ]
}