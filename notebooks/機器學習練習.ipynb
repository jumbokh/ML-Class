{
  "nbformat": 4,
  "nbformat_minor": 0,
  "metadata": {
    "colab": {
      "name": "機器學習練習",
      "provenance": [],
      "collapsed_sections": [],
      "include_colab_link": true
    },
    "kernelspec": {
      "name": "python3",
      "display_name": "Python 3"
    },
    "language_info": {
      "name": "python"
    }
  },
  "cells": [
    {
      "cell_type": "markdown",
      "metadata": {
        "id": "view-in-github",
        "colab_type": "text"
      },
      "source": [
        "<a href=\"https://colab.research.google.com/github/jumbokh/ML-Class/blob/main/notebooks/%E6%A9%9F%E5%99%A8%E5%AD%B8%E7%BF%92%E7%B7%B4%E7%BF%92.ipynb\" target=\"_parent\"><img src=\"https://colab.research.google.com/assets/colab-badge.svg\" alt=\"Open In Colab\"/></a>"
      ]
    },
    {
      "cell_type": "markdown",
      "metadata": {
        "id": "YVYefSQSxuZd"
      },
      "source": [
        "# **用sklearn做波士頓房價線性回歸**"
      ]
    },
    {
      "cell_type": "markdown",
      "metadata": {
        "id": "Y7aGgUi7vDl7"
      },
      "source": [
        "**參考資料** \n",
        "##政治大學線上課程<成為python數據分析達人的第一門課>\n",
        "![](https://ctld.video.nccu.edu.tw/sysdata/folder/f6ccb5a1c22acfbf/51ea_l.jpg)\n",
        "##<機器學習的數學>\n",
        "![](https://im1.book.com.tw/image/getImage?i=https://www.books.com.tw/img/001/084/60/0010846042.jpg&v=5e131a47&w=348&h=348)\n"
      ]
    },
    {
      "cell_type": "markdown",
      "metadata": {
        "id": "TeSs6QLZyC-O"
      },
      "source": [
        "##**1. 前置練習--畫直線** <br>\n",
        "  先自己創建一組線性二維數據，且自己設定y=mx+b的m與b <br>\n",
        "  再用matplotlib做直線\n"
      ]
    },
    {
      "cell_type": "code",
      "metadata": {
        "id": "hy0L9_uREnOL",
        "colab": {
          "base_uri": "https://localhost:8080/",
          "height": 282
        },
        "outputId": "74799ba1-2317-4b39-9b2e-bea05cc7bcac"
      },
      "source": [
        "import numpy as np   #引入numpy資源庫\n",
        "import matplotlib.pyplot as plt  #引入matplotlib資源庫\n",
        "x=np.linspace(0,5,50)  #x軸在0-50之間產生50個點\n",
        "y=1.5*x+0.8  #斜率設1.5\n",
        "plt.scatter(x,y) # 下圖藍色點狀圖\n",
        "plt.plot(x,y,'r') # 直線形式(紅色)\n"
      ],
      "execution_count": null,
      "outputs": [
        {
          "output_type": "execute_result",
          "data": {
            "text/plain": [
              "[<matplotlib.lines.Line2D at 0x7f76c2dbb5d0>]"
            ]
          },
          "metadata": {},
          "execution_count": 2
        },
        {
          "output_type": "display_data",
          "data": {
            "image/png": "[encoded data removed]",
            "text/plain": [
              "<Figure size 432x288 with 1 Axes>"
            ]
          },
          "metadata": {
            "needs_background": "light"
          }
        }
      ]
    },
    {
      "cell_type": "markdown",
      "metadata": {
        "id": "T-vo2HeU4UQS"
      },
      "source": [
        "###**2.  前置練習--加入噪點**<br>\n",
        "##因為真實世界的數據不會如上圖，加入噪點產生隨機數據"
      ]
    },
    {
      "cell_type": "code",
      "metadata": {
        "colab": {
          "base_uri": "https://localhost:8080/",
          "height": 282
        },
        "id": "gb7e2zqT3lQi",
        "outputId": "8f48c2a6-b7bc-405e-c7fe-23cf3abd09fb"
      },
      "source": [
        "y1=1.5*x+0.8+np.random.randn(50) # 因為x軸有50個點，每個點都要加上偏移，所以加上50個隨機偏移\n",
        "plt.scatter(x,y1)"
      ],
      "execution_count": null,
      "outputs": [
        {
          "output_type": "execute_result",
          "data": {
            "text/plain": [
              "<matplotlib.collections.PathCollection at 0x7f76bd12d8d0>"
            ]
          },
          "metadata": {},
          "execution_count": 3
        },
        {
          "output_type": "display_data",
          "data": {
            "image/png": "[encoded data removed]",
            "text/plain": [
              "<Figure size 432x288 with 1 Axes>"
            ]
          },
          "metadata": {
            "needs_background": "light"
          }
        }
      ]
    },
    {
      "cell_type": "markdown",
      "metadata": {
        "id": "wUpNsCHzxeDM"
      },
      "source": [
        ""
      ]
    },
    {
      "cell_type": "markdown",
      "metadata": {
        "id": "mL6izw1Ix9oy"
      },
      "source": [
        "#**3.  Sklearn 把X軸數據從50x1改成1x50**"
      ]
    },
    {
      "cell_type": "code",
      "metadata": {
        "id": "ZHgyvYdv1Kmp"
      },
      "source": [
        "from sklearn.linear_model import LinearRegression\n",
        "regr = LinearRegression()\n",
        "X= x.reshape(50,1)"
      ],
      "execution_count": null,
      "outputs": []
    },
    {
      "cell_type": "code",
      "metadata": {
        "colab": {
          "base_uri": "https://localhost:8080/"
        },
        "id": "gQiai-vd0nGb",
        "outputId": "b1575964-b11b-478c-e6e9-0ab2f7edcbcc"
      },
      "source": [
        "x"
      ],
      "execution_count": null,
      "outputs": [
        {
          "output_type": "execute_result",
          "data": {
            "text/plain": [
              "array([0.        , 0.10204082, 0.20408163, 0.30612245, 0.40816327,\n",
              "       0.51020408, 0.6122449 , 0.71428571, 0.81632653, 0.91836735,\n",
              "       1.02040816, 1.12244898, 1.2244898 , 1.32653061, 1.42857143,\n",
              "       1.53061224, 1.63265306, 1.73469388, 1.83673469, 1.93877551,\n",
              "       2.04081633, 2.14285714, 2.24489796, 2.34693878, 2.44897959,\n",
              "       2.55102041, 2.65306122, 2.75510204, 2.85714286, 2.95918367,\n",
              "       3.06122449, 3.16326531, 3.26530612, 3.36734694, 3.46938776,\n",
              "       3.57142857, 3.67346939, 3.7755102 , 3.87755102, 3.97959184,\n",
              "       4.08163265, 4.18367347, 4.28571429, 4.3877551 , 4.48979592,\n",
              "       4.59183673, 4.69387755, 4.79591837, 4.89795918, 5.        ])"
            ]
          },
          "metadata": {},
          "execution_count": 5
        }
      ]
    },
    {
      "cell_type": "code",
      "metadata": {
        "colab": {
          "base_uri": "https://localhost:8080/"
        },
        "id": "egi5XTHt0pkp",
        "outputId": "7ab25f0d-1e56-42c7-acc9-7d444e9c8808"
      },
      "source": [
        "X"
      ],
      "execution_count": null,
      "outputs": [
        {
          "output_type": "execute_result",
          "data": {
            "text/plain": [
              "array([[0.        ],\n",
              "       [0.10204082],\n",
              "       [0.20408163],\n",
              "       [0.30612245],\n",
              "       [0.40816327],\n",
              "       [0.51020408],\n",
              "       [0.6122449 ],\n",
              "       [0.71428571],\n",
              "       [0.81632653],\n",
              "       [0.91836735],\n",
              "       [1.02040816],\n",
              "       [1.12244898],\n",
              "       [1.2244898 ],\n",
              "       [1.32653061],\n",
              "       [1.42857143],\n",
              "       [1.53061224],\n",
              "       [1.63265306],\n",
              "       [1.73469388],\n",
              "       [1.83673469],\n",
              "       [1.93877551],\n",
              "       [2.04081633],\n",
              "       [2.14285714],\n",
              "       [2.24489796],\n",
              "       [2.34693878],\n",
              "       [2.44897959],\n",
              "       [2.55102041],\n",
              "       [2.65306122],\n",
              "       [2.75510204],\n",
              "       [2.85714286],\n",
              "       [2.95918367],\n",
              "       [3.06122449],\n",
              "       [3.16326531],\n",
              "       [3.26530612],\n",
              "       [3.36734694],\n",
              "       [3.46938776],\n",
              "       [3.57142857],\n",
              "       [3.67346939],\n",
              "       [3.7755102 ],\n",
              "       [3.87755102],\n",
              "       [3.97959184],\n",
              "       [4.08163265],\n",
              "       [4.18367347],\n",
              "       [4.28571429],\n",
              "       [4.3877551 ],\n",
              "       [4.48979592],\n",
              "       [4.59183673],\n",
              "       [4.69387755],\n",
              "       [4.79591837],\n",
              "       [4.89795918],\n",
              "       [5.        ]])"
            ]
          },
          "metadata": {},
          "execution_count": 9
        }
      ]
    },
    {
      "cell_type": "markdown",
      "metadata": {
        "id": "HeeeDHmTUm0l"
      },
      "source": [
        "# **4. 利用fit功能進行線性回歸**"
      ]
    },
    {
      "cell_type": "code",
      "metadata": {
        "colab": {
          "base_uri": "https://localhost:8080/"
        },
        "id": "sFvuU1IxTs1d",
        "outputId": "76bbb27f-eee4-498f-9cb4-23f40e982537"
      },
      "source": [
        "regr.fit(X,y1)\n",
        "#regr為前面步驟調用的線性回歸方法，就有點像自己給有線性回歸功能的寶可夢自己取名字\n",
        "# X為輸入資料，y為正確答案"
      ],
      "execution_count": null,
      "outputs": [
        {
          "output_type": "execute_result",
          "data": {
            "text/plain": [
              "LinearRegression(copy_X=True, fit_intercept=True, n_jobs=None, normalize=False)"
            ]
          },
          "metadata": {},
          "execution_count": 13
        }
      ]
    },
    {
      "cell_type": "markdown",
      "metadata": {
        "id": "rl6k7bzSWgXh"
      },
      "source": [
        "# **5. 利用建立好的regr開始進行預測**"
      ]
    },
    {
      "cell_type": "code",
      "metadata": {
        "id": "62uVUWBpUfHO"
      },
      "source": [
        "Y = regr.predict(X)\n",
        "# f(x) = y1 預設的輸入x和正確答案y\n",
        "# x 進行矩陣行列轉換變成X\n",
        "# 線性回歸尋找X和y1關係,把建立關係式模型寫入regr\n",
        "# 利用建立好的regr模型，預測X輸入後的結果，並把結果命為Y，regr(X)=Y"
      ],
      "execution_count": null,
      "outputs": []
    },
    {
      "cell_type": "markdown",
      "metadata": {
        "id": "j1lHfk7GYIQU"
      },
      "source": [
        "# **6. 對比正確答案和線性預測結果**"
      ]
    },
    {
      "cell_type": "code",
      "metadata": {
        "colab": {
          "base_uri": "https://localhost:8080/",
          "height": 282
        },
        "id": "Mc8rkZPyYb3J",
        "outputId": "465164c2-a8db-4bdb-e73a-97b925b786b0"
      },
      "source": [
        "plt.scatter(x,y1)# 正確答案\n",
        "plt.plot(x,1.5*x+0.8,'green')# 綠色線為預設線性方程\n",
        "plt.plot(x,Y,'blue') #藍色線為線性回歸結果"
      ],
      "execution_count": null,
      "outputs": [
        {
          "output_type": "execute_result",
          "data": {
            "text/plain": [
              "[<matplotlib.lines.Line2D at 0x7f76abc42190>]"
            ]
          },
          "metadata": {},
          "execution_count": 16
        },
        {
          "output_type": "display_data",
          "data": {
            "image/png": "[encoded data removed]",
            "text/plain": [
              "<Figure size 432x288 with 1 Axes>"
            ]
          },
          "metadata": {
            "needs_background": "light"
          }
        }
      ]
    },
    {
      "cell_type": "markdown",
      "metadata": {
        "id": "S2M9xqJRaCt1"
      },
      "source": [
        "# **7. 避免overfit 進行數據分割練習**\n",
        "![](https://gblobscdn.gitbook.com/assets%2F-LvBP1svpACTB1R1x_U4%2F-LvNWUoWieQqaGmU_gl9%2F-LvNoby-llz4QzAK15nL%2Fimage.png?alt=media&token=41720ce9-bb66-4419-9bd8-640abf1fc415)\n",
        "<br>\n",
        "圖片來源:Sagar Sharma / Towards Data Science\n",
        "\n",
        "overfit就像考試作弊背答案沒有真正理解，<br>雖然劃出來預測線涵蓋所有數據，但一旦脫離預測的數據<br>\n",
        "輸入其他數據進行預測時跑出來的就會失真<br>\n",
        "為了避免被答案，就要分割數據，把一部分的數據拿來考建立好的模型"
      ]
    },
    {
      "cell_type": "markdown",
      "metadata": {
        "id": "2l0tsg-weM0p"
      },
      "source": [
        "# **8. 數據分割練習**"
      ]
    },
    {
      "cell_type": "code",
      "metadata": {
        "colab": {
          "base_uri": "https://localhost:8080/",
          "height": 282
        },
        "id": "TPEJeoidgUNW",
        "outputId": "acffab28-5658-4f36-f8c1-bb87c62906a7"
      },
      "source": [
        "x=np.linspace(0,5,100)\n",
        "y=1.2*x+0.9+0.5*np.random.randn(100)\n",
        "plt.scatter(x,y)\n",
        "# 先產生100筆含有噪點的數據"
      ],
      "execution_count": null,
      "outputs": [
        {
          "output_type": "execute_result",
          "data": {
            "text/plain": [
              "<matplotlib.collections.PathCollection at 0x7f76ab8f3a50>"
            ]
          },
          "metadata": {},
          "execution_count": 26
        },
        {
          "output_type": "display_data",
          "data": {
            "image/png": "[encoded data removed]",
            "text/plain": [
              "<Figure size 432x288 with 1 Axes>"
            ]
          },
          "metadata": {
            "needs_background": "light"
          }
        }
      ]
    },
    {
      "cell_type": "code",
      "metadata": {
        "id": "_D5AwrT0eMYx"
      },
      "source": [
        "from sklearn.model_selection import train_test_split\n",
        "# 引入數據分割模組"
      ],
      "execution_count": null,
      "outputs": []
    },
    {
      "cell_type": "markdown",
      "metadata": {
        "id": "yQMnZzXtzCDO"
      },
      "source": [
        "![](https://scontent.fkhh5-1.fna.fbcdn.net/v/t1.6435-9/242241128_10228130182464981_6492835737101843241_n.jpg?_nc_cat=103&_nc_rgb565=1&ccb=1-5&_nc_sid=0debeb&_nc_ohc=rj5WiWoGFIUAX_yxzoV&_nc_ht=scontent.fkhh5-1.fna&oh=650cd96d3ae8f0317c0eb424d1a94b13&oe=6175B7FE)"
      ]
    },
    {
      "cell_type": "code",
      "metadata": {
        "id": "8PmtLPcKfKkD"
      },
      "source": [
        "x_train, x_test, y_train, y_test = train_test_split(x,y,test_size = 0.2,random_state=87)\n",
        "#rain_test_split預設將資料分為 x_train訓練用, x_test測試用, y_train訓練用, y_test測試用\n",
        "#,0.2表示20%分給test，random state為讓隨機狀態產生標籤，指定隨便一個數字，避免每次跑出來不一樣"
      ],
      "execution_count": null,
      "outputs": []
    },
    {
      "cell_type": "code",
      "metadata": {
        "colab": {
          "base_uri": "https://localhost:8080/"
        },
        "id": "gbJgCsa-twqT",
        "outputId": "19e94c95-d615-4a79-a767-88aad6fccc7c"
      },
      "source": [
        "len(x_train) # 確認訓練數據分得80筆\n"
      ],
      "execution_count": null,
      "outputs": [
        {
          "output_type": "execute_result",
          "data": {
            "text/plain": [
              "80"
            ]
          },
          "metadata": {},
          "execution_count": 29
        }
      ]
    },
    {
      "cell_type": "code",
      "metadata": {
        "colab": {
          "base_uri": "https://localhost:8080/"
        },
        "id": "SQqfSoiOt6I6",
        "outputId": "ac5dd0e5-483e-4d81-855e-ce388cc1a502"
      },
      "source": [
        "len(x_test) #確認測試數據分得20筆"
      ],
      "execution_count": null,
      "outputs": [
        {
          "output_type": "execute_result",
          "data": {
            "text/plain": [
              "20"
            ]
          },
          "metadata": {},
          "execution_count": 30
        }
      ]
    },
    {
      "cell_type": "code",
      "metadata": {
        "id": "Z1_sJVrauRIK"
      },
      "source": [
        "x_train = x_train.reshape(80,1)\n",
        "# 把80筆變成一維陣列 80列*1行"
      ],
      "execution_count": null,
      "outputs": []
    },
    {
      "cell_type": "code",
      "metadata": {
        "id": "dwSA7pMfuoEr"
      },
      "source": [
        "x_test = x_test.reshape(20,1)\n",
        "#把20筆變成一維陣列 20列*1行"
      ],
      "execution_count": null,
      "outputs": []
    },
    {
      "cell_type": "code",
      "metadata": {
        "colab": {
          "base_uri": "https://localhost:8080/"
        },
        "id": "X2juI4gcu0o1",
        "outputId": "6cb2c24d-734f-4355-8902-3f6e388fb119"
      },
      "source": [
        "x_test\n",
        "#確認一下"
      ],
      "execution_count": null,
      "outputs": [
        {
          "output_type": "execute_result",
          "data": {
            "text/plain": [
              "array([[0.80808081],\n",
              "       [4.09090909],\n",
              "       [4.29292929],\n",
              "       [1.61616162],\n",
              "       [1.96969697],\n",
              "       [1.26262626],\n",
              "       [1.31313131],\n",
              "       [1.46464646],\n",
              "       [3.28282828],\n",
              "       [0.35353535],\n",
              "       [4.24242424],\n",
              "       [5.        ],\n",
              "       [2.92929293],\n",
              "       [3.53535354],\n",
              "       [4.64646465],\n",
              "       [3.73737374],\n",
              "       [0.15151515],\n",
              "       [0.        ],\n",
              "       [2.22222222],\n",
              "       [1.66666667]])"
            ]
          },
          "metadata": {},
          "execution_count": 35
        }
      ]
    },
    {
      "cell_type": "code",
      "metadata": {
        "colab": {
          "base_uri": "https://localhost:8080/"
        },
        "id": "0uzkAYxavdPF",
        "outputId": "20c3612d-2950-455a-ae88-32db6e7b61ec"
      },
      "source": [
        "regr = LinearRegression()\n",
        "regr.fit(x_train,y_train)\n",
        "# 一樣創建線性回歸模組，並訓練該80筆數據"
      ],
      "execution_count": null,
      "outputs": [
        {
          "output_type": "execute_result",
          "data": {
            "text/plain": [
              "LinearRegression(copy_X=True, fit_intercept=True, n_jobs=None, normalize=False)"
            ]
          },
          "metadata": {},
          "execution_count": 36
        }
      ]
    },
    {
      "cell_type": "markdown",
      "metadata": {
        "id": "3dEK0gkX0lBN"
      },
      "source": [
        "# **9. 查看regr線性回歸 預測結果(藍線)**"
      ]
    },
    {
      "cell_type": "code",
      "metadata": {
        "colab": {
          "base_uri": "https://localhost:8080/",
          "height": 282
        },
        "id": "foeLs6mgv_ln",
        "outputId": "ce202468-418a-47bd-aa5b-3eda8cef9b7a"
      },
      "source": [
        "plt.scatter(x_train,y_train)\n",
        "plt.plot(x_train,regr.predict(x_train),'blue')"
      ],
      "execution_count": null,
      "outputs": [
        {
          "output_type": "execute_result",
          "data": {
            "text/plain": [
              "[<matplotlib.lines.Line2D at 0x7f76ab884ed0>]"
            ]
          },
          "metadata": {},
          "execution_count": 37
        },
        {
          "output_type": "display_data",
          "data": {
            "image/png": "[encoded data removed]",
            "text/plain": [
              "<Figure size 432x288 with 1 Axes>"
            ]
          },
          "metadata": {
            "needs_background": "light"
          }
        }
      ]
    },
    {
      "cell_type": "markdown",
      "metadata": {
        "id": "_6bxSh33xAyl"
      },
      "source": [
        "# **10. x_test(考題)輸入建立好的regr模型**"
      ]
    },
    {
      "cell_type": "code",
      "metadata": {
        "colab": {
          "base_uri": "https://localhost:8080/",
          "height": 282
        },
        "id": "4cCf9FOcwHgx",
        "outputId": "700eb958-3936-482b-df03-b4fbc0df2e9d"
      },
      "source": [
        "plt.scatter(x_test,y_test) # 問題與正確答案(藍點)\n",
        "plt.plot(x_test, regr.predict(x_test),'r') # 預測出來的回歸線(考試結果)\n",
        "plt.plot(x,1.2*x+0.9,'green') # 正確答案回歸線\n"
      ],
      "execution_count": null,
      "outputs": [
        {
          "output_type": "execute_result",
          "data": {
            "text/plain": [
              "[<matplotlib.lines.Line2D at 0x7f76ab779b10>]"
            ]
          },
          "metadata": {},
          "execution_count": 39
        },
        {
          "output_type": "display_data",
          "data": {
            "image/png": "[encoded data removed]",
            "text/plain": [
              "<Figure size 432x288 with 1 Axes>"
            ]
          },
          "metadata": {
            "needs_background": "light"
          }
        }
      ]
    },
    {
      "cell_type": "markdown",
      "metadata": {
        "id": "ThoyaxzE4U3X"
      },
      "source": [
        "# brief summary\n",
        " **經過數據分割後，跑出來的預測回歸線幾乎貼合正確答案**\n"
      ]
    },
    {
      "cell_type": "markdown",
      "metadata": {
        "id": "fpNRT4Dn4ttQ"
      },
      "source": [
        "# **實際數據_波士頓房價分析**\n",
        "![](https://cdn.pixabay.com/photo/2018/11/25/19/07/boston-3838110_1280.jpg)"
      ]
    },
    {
      "cell_type": "markdown",
      "metadata": {
        "id": "akWBPeOBfqYS"
      },
      "source": [
        " **1. 使用sklearn進行線性回歸，並調用內含的房價數據庫** "
      ]
    },
    {
      "cell_type": "code",
      "metadata": {
        "id": "PbREZiQw7GNk"
      },
      "source": [
        "from sklearn.linear_model import LinearRegression\n",
        "from sklearn.model_selection import train_test_split\n",
        "from sklearn.datasets import load_boston"
      ],
      "execution_count": null,
      "outputs": []
    },
    {
      "cell_type": "markdown",
      "metadata": {
        "id": "u3z0QcCTgaxd"
      },
      "source": [
        ""
      ]
    },
    {
      "cell_type": "code",
      "metadata": {
        "id": "cuDXiL4t7nU_"
      },
      "source": [
        "boston = load_boston()\n"
      ],
      "execution_count": null,
      "outputs": []
    },
    {
      "cell_type": "markdown",
      "metadata": {
        "id": "dW-8eYv9gSMO"
      },
      "source": [
        "**2. 查看數據庫內的標籤**"
      ]
    },
    {
      "cell_type": "code",
      "metadata": {
        "colab": {
          "base_uri": "https://localhost:8080/"
        },
        "id": "3u0PE3Wd72Yf",
        "outputId": "cf2d266b-5bcf-4ed9-ef28-45d67c8e4ba3"
      },
      "source": [
        "boston.feature_names"
      ],
      "execution_count": null,
      "outputs": [
        {
          "output_type": "execute_result",
          "data": {
            "text/plain": [
              "array(['CRIM', 'ZN', 'INDUS', 'CHAS', 'NOX', 'RM', 'AGE', 'DIS', 'RAD',\n",
              "       'TAX', 'PTRATIO', 'B', 'LSTAT'], dtype='<U7')"
            ]
          },
          "metadata": {},
          "execution_count": 44
        }
      ]
    },
    {
      "cell_type": "markdown",
      "metadata": {
        "id": "0iP_OxCWP-DU"
      },
      "source": [
        "CRIM\t城鎮人均犯罪率<br> \n",
        "ZN\t住宅用地超過 25000 sq.ft. 的比例<br> \n",
        "AGE\t1940年之前建成的自用房屋比例<br> \n",
        "DIS\t到波士頓5個中心區域的加權距離<br> \n",
        "INDUS\t城鎮非零售商用土地的比例<br> \n",
        "RAD\t輻射性公路的靠近指數<br> \n",
        "TAX\t每10000美元的全值財產稅率<br> \n",
        "CHAS\t邊界是河流為1，否則0<br> \n",
        "NOX\t一氧化氮濃度<br> \n",
        "PTRATIO\t城鎮師生比例<br> \n",
        "RM\t住宅平均房間數<br> \n",
        "LSTAT\t人口中地位低下者的比例"
      ]
    },
    {
      "cell_type": "markdown",
      "metadata": {
        "id": "WLSivWwggdSG"
      },
      "source": [
        "**3. 將要訓練的數據命為X，真實房價為Y**"
      ]
    },
    {
      "cell_type": "code",
      "metadata": {
        "id": "H-jvHAwb7-15"
      },
      "source": [
        "X = boston.data\n",
        "Y = boston.target # 內含正確答案"
      ],
      "execution_count": null,
      "outputs": []
    },
    {
      "cell_type": "code",
      "metadata": {
        "colab": {
          "base_uri": "https://localhost:8080/"
        },
        "id": "WQ8ga-IgDOoz",
        "outputId": "ad0d3c8b-1632-4a78-e3f7-6f36b70133c4"
      },
      "source": [
        "len(X) #查看數據筆數"
      ],
      "execution_count": null,
      "outputs": [
        {
          "output_type": "execute_result",
          "data": {
            "text/plain": [
              "506"
            ]
          },
          "metadata": {},
          "execution_count": 47
        }
      ]
    },
    {
      "cell_type": "code",
      "metadata": {
        "colab": {
          "base_uri": "https://localhost:8080/"
        },
        "id": "m6FUJj3kDWFr",
        "outputId": "bab81445-62a2-479c-978e-b029fac23c59"
      },
      "source": [
        "len(Y)"
      ],
      "execution_count": null,
      "outputs": [
        {
          "output_type": "execute_result",
          "data": {
            "text/plain": [
              "506"
            ]
          },
          "metadata": {},
          "execution_count": 48
        }
      ]
    },
    {
      "cell_type": "markdown",
      "metadata": {
        "id": "8y8D_Y5Ug_gV"
      },
      "source": [
        "**4. 將數據分割20%給Test**"
      ]
    },
    {
      "cell_type": "code",
      "metadata": {
        "id": "KXrjyO2ADfvs"
      },
      "source": [
        "x_train, x_test, y_train, y_test = train_test_split(X,Y,test_size = 0.2,random_state=87)"
      ],
      "execution_count": null,
      "outputs": []
    },
    {
      "cell_type": "markdown",
      "metadata": {
        "id": "2SDz6QcahMtU"
      },
      "source": [
        "**5. 線性回歸待訓練數據**"
      ]
    },
    {
      "cell_type": "code",
      "metadata": {
        "colab": {
          "base_uri": "https://localhost:8080/"
        },
        "id": "tv_Z8dzlDrY8",
        "outputId": "ae98081f-1005-4dba-bebb-523ee4490578"
      },
      "source": [
        "regr = LinearRegression()\n",
        "regr.fit(x_train,y_train)"
      ],
      "execution_count": null,
      "outputs": [
        {
          "output_type": "execute_result",
          "data": {
            "text/plain": [
              "LinearRegression(copy_X=True, fit_intercept=True, n_jobs=None, normalize=False)"
            ]
          },
          "metadata": {},
          "execution_count": 87
        }
      ]
    },
    {
      "cell_type": "markdown",
      "metadata": {
        "id": "66rX_mnzhZ1l"
      },
      "source": [
        "**6. 訓練後將測試用x輸入regr模型，輸出predict**"
      ]
    },
    {
      "cell_type": "code",
      "metadata": {
        "id": "JC5RKYxSD18T"
      },
      "source": [
        "y_predict = regr.predict(x_test)"
      ],
      "execution_count": null,
      "outputs": []
    },
    {
      "cell_type": "markdown",
      "metadata": {
        "id": "i9VDGm4ghqB9"
      },
      "source": [
        "**7. 若預測出來的y_predict 和真實的y_test數據極為相近<br>散佈圖會呈現對角線**"
      ]
    },
    {
      "cell_type": "code",
      "metadata": {
        "colab": {
          "base_uri": "https://localhost:8080/",
          "height": 296
        },
        "id": "AduzMlIYEBcb",
        "outputId": "e0d68d2f-3a34-465c-e98d-7d79bd0f44da"
      },
      "source": [
        "# 畫紅色對角線\n"
      ],
      "execution_count": null,
      "outputs": [
        {
          "output_type": "execute_result",
          "data": {
            "text/plain": [
              "[<matplotlib.lines.Line2D at 0x7f769b6fa7d0>]"
            ]
          },
          "metadata": {},
          "execution_count": 89
        },
        {
          "output_type": "display_data",
          "data": {
            "image/png": "[encoded data removed]",
            "text/plain": [
              "<Figure size 432x288 with 1 Axes>"
            ]
          },
          "metadata": {
            "needs_background": "light"
          }
        }
      ]
    },
    {
      "cell_type": "markdown",
      "metadata": {
        "id": "4dsaV54-LIwQ"
      },
      "source": [
        "**8. 列表編號技巧  enumerate**\n",
        "\n"
      ]
    },
    {
      "cell_type": "code",
      "metadata": {
        "colab": {
          "base_uri": "https://localhost:8080/"
        },
        "id": "yyMTOmDDL8Gk",
        "outputId": "75710dd0-432d-439d-a4ec-5358bcb5eddc"
      },
      "source": [
        "L =['A','B','C','D']\n",
        "list(enumerate(L))"
      ],
      "execution_count": null,
      "outputs": [
        {
          "output_type": "execute_result",
          "data": {
            "text/plain": [
              "[(0, 'A'), (1, 'B'), (2, 'C'), (3, 'D')]"
            ]
          },
          "metadata": {},
          "execution_count": 75
        }
      ]
    },
    {
      "cell_type": "code",
      "metadata": {
        "colab": {
          "base_uri": "https://localhost:8080/"
        },
        "id": "bYiMYRJ4MjY0",
        "outputId": "6014d7a9-f6b2-4fa5-8512-362b71035913"
      },
      "source": [
        "for i,s in enumerate(L):\n",
        "  print(i+1,s)\n"
      ],
      "execution_count": null,
      "outputs": [
        {
          "output_type": "stream",
          "name": "stdout",
          "text": [
            "1 A\n",
            "2 B\n",
            "3 C\n",
            "4 D\n"
          ]
        }
      ]
    },
    {
      "cell_type": "markdown",
      "metadata": {
        "id": "BsyTrZjpNCmc"
      },
      "source": [
        "**9. 畫多張圖技巧**\n",
        "subplot(a,b,i) 一次要畫a列b行共a*b 張圖\n",
        "i 為第幾張圖"
      ]
    },
    {
      "cell_type": "markdown",
      "metadata": {
        "id": "Z9OLH95bNaVU"
      },
      "source": [
        " **10. 利用subplot和enumberate技巧來一次對比各項特徵和房價之間的關係**"
      ]
    },
    {
      "cell_type": "code",
      "metadata": {
        "colab": {
          "base_uri": "https://localhost:8080/",
          "height": 729
        },
        "id": "AbAgVD0wJXf0",
        "outputId": "bda0dd62-a71d-41d2-ca02-6d61b0fc391b"
      },
      "source": [
        "plt.figure(figsize=(8,10))\n",
        "for i,feature in enumerate(boston.feature_names):\n",
        "  plt.subplot(5,3,i+1)\n",
        "  plt.scatter(X[:,i],Y,s=1)\n",
        "  plt.ylabel(\"price\")\n",
        "  plt.xlabel(feature)\n",
        "  plt.tight_layout()"
      ],
      "execution_count": null,
      "outputs": [
        {
          "output_type": "display_data",
          "data": {
            "image/png": "[encoded data removed]",
            "text/plain": [
              "<Figure size 576x720 with 13 Axes>"
            ]
          },
          "metadata": {
            "needs_background": "light"
          }
        }
      ]
    },
    {
      "cell_type": "markdown",
      "metadata": {
        "id": "IuKApKDvcQM0"
      },
      "source": [
        ""
      ]
    }
  ]
}