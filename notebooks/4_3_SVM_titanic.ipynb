{
  "nbformat": 4,
  "nbformat_minor": 0,
  "metadata": {
    "kernelspec": {
      "display_name": "Python 3",
      "language": "python",
      "name": "python3"
    },
    "language_info": {
      "codemirror_mode": {
        "name": "ipython",
        "version": 3
      },
      "file_extension": ".py",
      "mimetype": "text/x-python",
      "name": "python",
      "nbconvert_exporter": "python",
      "pygments_lexer": "ipython3",
      "version": "3.6.6"
    },
    "colab": {
      "name": "4-3 SVM - titanic.ipynb",
      "provenance": [],
      "include_colab_link": true
    }
  },
  "cells": [
    {
      "cell_type": "markdown",
      "metadata": {
        "id": "view-in-github",
        "colab_type": "text"
      },
      "source": [
        "<a href=\"https://colab.research.google.com/github/jumbokh/ML-Class/blob/main/notebooks/4_3_SVM_titanic.ipynb\" target=\"_parent\"><img src=\"https://colab.research.google.com/assets/colab-badge.svg\" alt=\"Open In Colab\"/></a>"
      ]
    },
    {
      "cell_type": "markdown",
      "metadata": {
        "id": "5R8HIHbbvNEx"
      },
      "source": [
        "## 作業"
      ]
    },
    {
      "cell_type": "markdown",
      "metadata": {
        "id": "JNVBwlR-vNE0"
      },
      "source": [
        "先用以下程式碼載入資料\n",
        "\n",
        "\n",
        "df = pd.read_csv('titanic_train.csv')  \n",
        "df = df.drop(['PassengerId', 'Name', 'Ticket', 'Cabin'], axis=1)  \n",
        "X = df.drop('Survived', axis=1)  \n",
        "y = df['Survived']  \n",
        "X_train, X_test, y_train, y_test = train_test_split(X, y, test_size=0.33)\n",
        "                                                   "
      ]
    },
    {
      "cell_type": "code",
      "metadata": {
        "id": "9z_0W9vpvNE1"
      },
      "source": [
        "import pandas as pd\n",
        "import numpy as np\n",
        "import matplotlib.pyplot as plt\n",
        "import seaborn as sns\n",
        "%matplotlib inline\n",
        "plt.rcParams['font.sans-serif'] = ['DFKai-sb'] \n",
        "plt.rcParams['axes.unicode_minus'] = False\n",
        "%config InlineBackend.figure_format = 'retina'\n",
        "import warnings\n",
        "warnings.filterwarnings('ignore')"
      ],
      "execution_count": null,
      "outputs": []
    },
    {
      "cell_type": "code",
      "metadata": {
        "id": "BKQ5OyoBvNE2",
        "outputId": "d66303b1-b284-4de2-fa92-26ec7a24a5c7"
      },
      "source": [
        "df = pd.read_csv('titanic_train.csv')\n",
        "df = df.drop(['PassengerId', 'Name', 'Ticket', 'Cabin'], axis=1)\n",
        "X = df.drop('Survived', axis=1)\n",
        "y = df['Survived']\n",
        "from sklearn.model_selection import train_test_split\n",
        "X_train, X_test, y_train, y_test = train_test_split(X, y, \n",
        "                                                   test_size=0.33, random_state=42)\n",
        "X.columns"
      ],
      "execution_count": null,
      "outputs": [
        {
          "output_type": "execute_result",
          "data": {
            "text/plain": [
              "Index(['Pclass', 'Sex', 'Age', 'SibSp', 'Parch', 'Fare', 'Embarked'], dtype='object')"
            ]
          },
          "metadata": {
            "tags": []
          },
          "execution_count": 3
        }
      ]
    },
    {
      "cell_type": "markdown",
      "metadata": {
        "id": "8l64v3c1vNE3"
      },
      "source": [
        "1. 請做出三個資料管道器\n",
        "    * log_pl包含遺漏值(平均值), FunctionTransformer(np.log1p), 標準差\n",
        "    * num_pl包含遺漏值(平均值), 標準差\n",
        "    * cat_pl包含遺漏值(用常數'missing'), 獨熱編碼\n",
        "    \n",
        "其中['Age','Fare']去log_pl，['SibSp','Parch','Pclass']去num_pl，['Sex','Embarked']去cat_pl，請問最後的正確率是多少？"
      ]
    },
    {
      "cell_type": "code",
      "metadata": {
        "id": "AFF3X_WUvNE3",
        "outputId": "91093304-c946-4e50-ee99-6d28e5bd7c3d"
      },
      "source": [
        "from sklearn.impute import SimpleImputer\n",
        "from sklearn.preprocessing import FunctionTransformer\n",
        "from sklearn.compose import ColumnTransformer\n",
        "from sklearn.pipeline import make_pipeline\n",
        "from sklearn.preprocessing import StandardScaler, OneHotEncoder\n",
        "from sklearn.svm import SVC\n",
        "from sklearn.metrics import accuracy_score, confusion_matrix, classification_report\n",
        "\n",
        "log_pl = make_pipeline(\n",
        "    SimpleImputer(strategy='mean'),\n",
        "    FunctionTransformer(np.log1p),\n",
        "    StandardScaler()\n",
        ")\n",
        "num_pl = make_pipeline(\n",
        "    SimpleImputer(strategy='mean'),\n",
        "    StandardScaler()\n",
        ")\n",
        "cat_pl = make_pipeline(\n",
        "    SimpleImputer(strategy='constant', fill_value='missing'),\n",
        "    OneHotEncoder()\n",
        ")\n",
        "\n",
        "data_pl = ColumnTransformer([\n",
        "    ('log_pl', log_pl, ['Age','Fare']),\n",
        "    ('num_pl', num_pl, ['SibSp','Parch','Pclass']),\n",
        "    ('cat_pl', cat_pl, ['Sex','Embarked'])\n",
        "])\n",
        "\n",
        "model_pl = make_pipeline(data_pl, SVC())\n",
        "model_pl.fit(X_train, y_train)\n",
        "y_pred = model_pl.predict(X_test)\n",
        "print(confusion_matrix(y_test, y_pred))\n",
        "print('整體正確率:',accuracy_score(y_test, y_pred).round(2))"
      ],
      "execution_count": null,
      "outputs": [
        {
          "output_type": "stream",
          "text": [
            "[[159  16]\n",
            " [ 36  84]]\n",
            "整體正確率: 0.82\n"
          ],
          "name": "stdout"
        }
      ]
    },
    {
      "cell_type": "markdown",
      "metadata": {
        "id": "WQRiUch7vNE5"
      },
      "source": [
        "2. 承上，將支持向量機改為K最近鄰法來做預測  "
      ]
    },
    {
      "cell_type": "code",
      "metadata": {
        "id": "1T8AsLdHvNE5",
        "outputId": "7f1c57a5-5d3a-4cc2-b30f-8626ddbd2466"
      },
      "source": [
        "from sklearn.neighbors import KNeighborsClassifier\n",
        "model_pl_knn = make_pipeline(data_pl, KNeighborsClassifier())\n",
        "model_pl_knn.fit(X_train, y_train)\n",
        "y_pred = model_pl_knn.predict(X_test)\n",
        "print('正確率：', accuracy_score(y_test, y_pred).round(2))\n",
        "print('混亂矩陣')\n",
        "print(confusion_matrix(y_test, y_pred))"
      ],
      "execution_count": null,
      "outputs": [
        {
          "output_type": "stream",
          "text": [
            "正確率： 0.81\n",
            "混亂矩陣\n",
            "[[155  20]\n",
            " [ 36  84]]\n"
          ],
          "name": "stdout"
        }
      ]
    }
  ]
}