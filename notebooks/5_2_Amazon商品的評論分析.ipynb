{
  "nbformat": 4,
  "nbformat_minor": 0,
  "metadata": {
    "kernelspec": {
      "display_name": "Python 3",
      "language": "python",
      "name": "python3"
    },
    "language_info": {
      "codemirror_mode": {
        "name": "ipython",
        "version": 3
      },
      "file_extension": ".py",
      "mimetype": "text/x-python",
      "name": "python",
      "nbconvert_exporter": "python",
      "pygments_lexer": "ipython3",
      "version": "3.6.6"
    },
    "colab": {
      "name": "5-2 Amazon商品的評論分析.ipynb",
      "provenance": [],
      "include_colab_link": true
    }
  },
  "cells": [
    {
      "cell_type": "markdown",
      "metadata": {
        "id": "view-in-github",
        "colab_type": "text"
      },
      "source": [
        "<a href=\"https://colab.research.google.com/github/jumbokh/ML-Class/blob/main/notebooks/5_2_Amazon%E5%95%86%E5%93%81%E7%9A%84%E8%A9%95%E8%AB%96%E5%88%86%E6%9E%90.ipynb\" target=\"_parent\"><img src=\"https://colab.research.google.com/assets/colab-badge.svg\" alt=\"Open In Colab\"/></a>"
      ]
    },
    {
      "cell_type": "markdown",
      "metadata": {
        "id": "ORbLUEM50fEZ"
      },
      "source": [
        "## 作業\n",
        "\n",
        "1. 請依上例繼續嘗試向上取樣的結果  "
      ]
    },
    {
      "cell_type": "code",
      "metadata": {
        "id": "WkLA9swJ0fEd"
      },
      "source": [
        "import pandas as pd\n",
        "import numpy as np\n",
        "import matplotlib.pyplot as plt\n",
        "import seaborn as sns\n",
        "%matplotlib inline\n",
        "%config InlineBackend.figure_format = 'retina'\n",
        "import warnings\n",
        "warnings.filterwarnings('ignore')\n",
        "\n",
        "df= pd.read_csv('kindle_rating.csv', parse_dates=['date'])\n",
        "df.head()\n",
        "df['rating'] = (df['rating'] > 3).map({True:1 , False:0})\n",
        "df['rating'].value_counts()\n",
        "\n",
        "from sklearn.naive_bayes import MultinomialNB\n",
        "from sklearn.pipeline import make_pipeline\n",
        "from sklearn.feature_extraction.text import CountVectorizer\n",
        "from sklearn.metrics import confusion_matrix, accuracy_score, classification_report\n",
        "\n",
        "X = df[['title', 'content']]\n",
        "y = df['rating']\n",
        "from sklearn.model_selection import train_test_split\n",
        "X_train, X_test, y_train, y_test = train_test_split(X, y, \n",
        "                                                    test_size=0.2, random_state=42)\n",
        "\n",
        "from sklearn.compose import ColumnTransformer\n",
        "data_pl = ColumnTransformer([\n",
        "    ('title', CountVectorizer(stop_words='english'), 'title'),\n",
        "    ('content', CountVectorizer(stop_words='english'), 'content')\n",
        "])"
      ],
      "execution_count": 1,
      "outputs": []
    },
    {
      "cell_type": "code",
      "metadata": {
        "colab": {
          "base_uri": "https://localhost:8080/"
        },
        "id": "kMA4-ZvT0fEf",
        "outputId": "c63ce148-f1ce-4fd0-f614-0aed9c59b64e"
      },
      "source": [
        "from imblearn.over_sampling import SMOTE\n",
        "from imblearn.pipeline import make_pipeline\n",
        "model_pl = make_pipeline(data_pl, SMOTE(), MultinomialNB())\n",
        "model_pl.fit(X_train, y_train)\n",
        "y_pred = model_pl.predict(X_test)\n",
        "score = model_pl.score(X_test, y_test)\n",
        "print('測試集的結果', score.round(3))\n",
        "y_pred = model_pl.predict(X_test)\n",
        "print(confusion_matrix(y_test, y_pred))\n",
        "print('綜合報告')\n",
        "print(classification_report(y_test, y_pred))"
      ],
      "execution_count": 2,
      "outputs": [
        {
          "output_type": "stream",
          "text": [
            "測試集的結果 0.885\n",
            "[[ 90  27]\n",
            " [ 37 402]]\n",
            "綜合報告\n",
            "              precision    recall  f1-score   support\n",
            "\n",
            "           0       0.71      0.77      0.74       117\n",
            "           1       0.94      0.92      0.93       439\n",
            "\n",
            "    accuracy                           0.88       556\n",
            "   macro avg       0.82      0.84      0.83       556\n",
            "weighted avg       0.89      0.88      0.89       556\n",
            "\n"
          ],
          "name": "stdout"
        }
      ]
    }
  ]
}