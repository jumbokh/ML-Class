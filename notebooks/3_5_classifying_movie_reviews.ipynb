{
  "nbformat": 4,
  "nbformat_minor": 0,
  "metadata": {
    "kernelspec": {
      "display_name": "Python 3",
      "language": "python",
      "name": "python3"
    },
    "language_info": {
      "codemirror_mode": {
        "name": "ipython",
        "version": 3
      },
      "file_extension": ".py",
      "mimetype": "text/x-python",
      "name": "python",
      "nbconvert_exporter": "python",
      "pygments_lexer": "ipython3",
      "version": "3.5.2"
    },
    "colab": {
      "name": "3.5-classifying-movie-reviews.ipynb",
      "provenance": [],
      "include_colab_link": true
    }
  },
  "cells": [
    {
      "cell_type": "markdown",
      "metadata": {
        "id": "view-in-github",
        "colab_type": "text"
      },
      "source": [
        "<a href=\"https://colab.research.google.com/github/jumbokh/ML-Class/blob/main/3_5_classifying_movie_reviews.ipynb\" target=\"_parent\"><img src=\"https://colab.research.google.com/assets/colab-badge.svg\" alt=\"Open In Colab\"/></a>"
      ]
    },
    {
      "cell_type": "code",
      "metadata": {
        "id": "7tWlXSUbYZDt",
        "colab": {
          "base_uri": "https://localhost:8080/",
          "height": 35
        },
        "outputId": "499560fe-6ec9-4963-b8cf-77181f40c5bf"
      },
      "source": [
        "import keras\n",
        "keras.__version__"
      ],
      "execution_count": null,
      "outputs": [
        {
          "output_type": "execute_result",
          "data": {
            "application/vnd.google.colaboratory.intrinsic+json": {
              "type": "string"
            },
            "text/plain": [
              "'2.4.3'"
            ]
          },
          "metadata": {
            "tags": []
          },
          "execution_count": 1
        }
      ]
    },
    {
      "cell_type": "markdown",
      "metadata": {
        "id": "oXLNo4WvYZD0"
      },
      "source": [
        "# Classifying movie reviews: a binary classification example\n",
        "\n",
        "This notebook contains the code samples found in Chapter 3, Section 5 of [Deep Learning with Python](https://www.manning.com/books/deep-learning-with-python?a_aid=keras&a_bid=76564dff). Note that the original text features far more content, in particular further explanations and figures: in this notebook, you will only find source code and related comments.\n",
        "\n",
        "----\n",
        "\n",
        "\n",
        "Two-class classification, or binary classification, may be the most widely applied kind of machine learning problem. In this example, we \n",
        "will learn to classify movie reviews into \"positive\" reviews and \"negative\" reviews, just based on the text content of the reviews."
      ]
    },
    {
      "cell_type": "markdown",
      "metadata": {
        "id": "B1WgqsBKYZD1"
      },
      "source": [
        "## The IMDB dataset\n",
        "\n",
        "\n",
        "We'll be working with \"IMDB dataset\", a set of 50,000 highly-polarized reviews from the Internet Movie Database. They are split into 25,000 \n",
        "reviews for training and 25,000 reviews for testing, each set consisting in 50% negative and 50% positive reviews.\n",
        "\n",
        "Why do we have these two separate training and test sets? You should never test a machine learning model on the same data that you used to \n",
        "train it! Just because a model performs well on its training data doesn't mean that it will perform well on data it has never seen, and \n",
        "what you actually care about is your model's performance on new data (since you already know the labels of your training data -- obviously \n",
        "you don't need your model to predict those). For instance, it is possible that your model could end up merely _memorizing_ a mapping between \n",
        "your training samples and their targets -- which would be completely useless for the task of predicting targets for data never seen before. \n",
        "We will go over this point in much more detail in the next chapter.\n",
        "\n",
        "Just like the MNIST dataset, the IMDB dataset comes packaged with Keras. It has already been preprocessed: the reviews (sequences of words) \n",
        "have been turned into sequences of integers, where each integer stands for a specific word in a dictionary.\n",
        "\n",
        "The following code will load the dataset (when you run it for the first time, about 80MB of data will be downloaded to your machine):"
      ]
    },
    {
      "cell_type": "code",
      "metadata": {
        "id": "gQVGgatYYZD1",
        "colab": {
          "base_uri": "https://localhost:8080/"
        },
        "outputId": "c2ccec0a-2ee7-4dd1-f13b-b9cbb4e5d074"
      },
      "source": [
        "from keras.datasets import imdb\n",
        "\n",
        "(train_data, train_labels), (test_data, test_labels) = imdb.load_data(num_words=10000)"
      ],
      "execution_count": null,
      "outputs": [
        {
          "output_type": "stream",
          "text": [
            "Downloading data from https://storage.googleapis.com/tensorflow/tf-keras-datasets/imdb.npz\n",
            "17465344/17464789 [==============================] - 0s 0us/step\n"
          ],
          "name": "stdout"
        },
        {
          "output_type": "stream",
          "text": [
            "<string>:6: VisibleDeprecationWarning: Creating an ndarray from ragged nested sequences (which is a list-or-tuple of lists-or-tuples-or ndarrays with different lengths or shapes) is deprecated. If you meant to do this, you must specify 'dtype=object' when creating the ndarray\n",
            "/usr/local/lib/python3.7/dist-packages/tensorflow/python/keras/datasets/imdb.py:159: VisibleDeprecationWarning: Creating an ndarray from ragged nested sequences (which is a list-or-tuple of lists-or-tuples-or ndarrays with different lengths or shapes) is deprecated. If you meant to do this, you must specify 'dtype=object' when creating the ndarray\n",
            "  x_train, y_train = np.array(xs[:idx]), np.array(labels[:idx])\n",
            "/usr/local/lib/python3.7/dist-packages/tensorflow/python/keras/datasets/imdb.py:160: VisibleDeprecationWarning: Creating an ndarray from ragged nested sequences (which is a list-or-tuple of lists-or-tuples-or ndarrays with different lengths or shapes) is deprecated. If you meant to do this, you must specify 'dtype=object' when creating the ndarray\n",
            "  x_test, y_test = np.array(xs[idx:]), np.array(labels[idx:])\n"
          ],
          "name": "stderr"
        }
      ]
    },
    {
      "cell_type": "markdown",
      "metadata": {
        "id": "sSRYR2oXYZD5"
      },
      "source": [
        "\n",
        "The argument `num_words=10000` means that we will only keep the top 10,000 most frequently occurring words in the training data. Rare words \n",
        "will be discarded. This allows us to work with vector data of manageable size.\n",
        "\n",
        "The variables `train_data` and `test_data` are lists of reviews, each review being a list of word indices (encoding a sequence of words). \n",
        "`train_labels` and `test_labels` are lists of 0s and 1s, where 0 stands for \"negative\" and 1 stands for \"positive\":"
      ]
    },
    {
      "cell_type": "code",
      "metadata": {
        "id": "Z6DycmQYYZD6",
        "colab": {
          "base_uri": "https://localhost:8080/"
        },
        "outputId": "ee081a4e-83dd-4194-8df4-08a43037cdde"
      },
      "source": [
        "train_data[0]"
      ],
      "execution_count": null,
      "outputs": [
        {
          "output_type": "execute_result",
          "data": {
            "text/plain": [
              "[1,\n",
              " 14,\n",
              " 22,\n",
              " 16,\n",
              " 43,\n",
              " 530,\n",
              " 973,\n",
              " 1622,\n",
              " 1385,\n",
              " 65,\n",
              " 458,\n",
              " 4468,\n",
              " 66,\n",
              " 3941,\n",
              " 4,\n",
              " 173,\n",
              " 36,\n",
              " 256,\n",
              " 5,\n",
              " 25,\n",
              " 100,\n",
              " 43,\n",
              " 838,\n",
              " 112,\n",
              " 50,\n",
              " 670,\n",
              " 2,\n",
              " 9,\n",
              " 35,\n",
              " 480,\n",
              " 284,\n",
              " 5,\n",
              " 150,\n",
              " 4,\n",
              " 172,\n",
              " 112,\n",
              " 167,\n",
              " 2,\n",
              " 336,\n",
              " 385,\n",
              " 39,\n",
              " 4,\n",
              " 172,\n",
              " 4536,\n",
              " 1111,\n",
              " 17,\n",
              " 546,\n",
              " 38,\n",
              " 13,\n",
              " 447,\n",
              " 4,\n",
              " 192,\n",
              " 50,\n",
              " 16,\n",
              " 6,\n",
              " 147,\n",
              " 2025,\n",
              " 19,\n",
              " 14,\n",
              " 22,\n",
              " 4,\n",
              " 1920,\n",
              " 4613,\n",
              " 469,\n",
              " 4,\n",
              " 22,\n",
              " 71,\n",
              " 87,\n",
              " 12,\n",
              " 16,\n",
              " 43,\n",
              " 530,\n",
              " 38,\n",
              " 76,\n",
              " 15,\n",
              " 13,\n",
              " 1247,\n",
              " 4,\n",
              " 22,\n",
              " 17,\n",
              " 515,\n",
              " 17,\n",
              " 12,\n",
              " 16,\n",
              " 626,\n",
              " 18,\n",
              " 2,\n",
              " 5,\n",
              " 62,\n",
              " 386,\n",
              " 12,\n",
              " 8,\n",
              " 316,\n",
              " 8,\n",
              " 106,\n",
              " 5,\n",
              " 4,\n",
              " 2223,\n",
              " 5244,\n",
              " 16,\n",
              " 480,\n",
              " 66,\n",
              " 3785,\n",
              " 33,\n",
              " 4,\n",
              " 130,\n",
              " 12,\n",
              " 16,\n",
              " 38,\n",
              " 619,\n",
              " 5,\n",
              " 25,\n",
              " 124,\n",
              " 51,\n",
              " 36,\n",
              " 135,\n",
              " 48,\n",
              " 25,\n",
              " 1415,\n",
              " 33,\n",
              " 6,\n",
              " 22,\n",
              " 12,\n",
              " 215,\n",
              " 28,\n",
              " 77,\n",
              " 52,\n",
              " 5,\n",
              " 14,\n",
              " 407,\n",
              " 16,\n",
              " 82,\n",
              " 2,\n",
              " 8,\n",
              " 4,\n",
              " 107,\n",
              " 117,\n",
              " 5952,\n",
              " 15,\n",
              " 256,\n",
              " 4,\n",
              " 2,\n",
              " 7,\n",
              " 3766,\n",
              " 5,\n",
              " 723,\n",
              " 36,\n",
              " 71,\n",
              " 43,\n",
              " 530,\n",
              " 476,\n",
              " 26,\n",
              " 400,\n",
              " 317,\n",
              " 46,\n",
              " 7,\n",
              " 4,\n",
              " 2,\n",
              " 1029,\n",
              " 13,\n",
              " 104,\n",
              " 88,\n",
              " 4,\n",
              " 381,\n",
              " 15,\n",
              " 297,\n",
              " 98,\n",
              " 32,\n",
              " 2071,\n",
              " 56,\n",
              " 26,\n",
              " 141,\n",
              " 6,\n",
              " 194,\n",
              " 7486,\n",
              " 18,\n",
              " 4,\n",
              " 226,\n",
              " 22,\n",
              " 21,\n",
              " 134,\n",
              " 476,\n",
              " 26,\n",
              " 480,\n",
              " 5,\n",
              " 144,\n",
              " 30,\n",
              " 5535,\n",
              " 18,\n",
              " 51,\n",
              " 36,\n",
              " 28,\n",
              " 224,\n",
              " 92,\n",
              " 25,\n",
              " 104,\n",
              " 4,\n",
              " 226,\n",
              " 65,\n",
              " 16,\n",
              " 38,\n",
              " 1334,\n",
              " 88,\n",
              " 12,\n",
              " 16,\n",
              " 283,\n",
              " 5,\n",
              " 16,\n",
              " 4472,\n",
              " 113,\n",
              " 103,\n",
              " 32,\n",
              " 15,\n",
              " 16,\n",
              " 5345,\n",
              " 19,\n",
              " 178,\n",
              " 32]"
            ]
          },
          "metadata": {
            "tags": []
          },
          "execution_count": 3
        }
      ]
    },
    {
      "cell_type": "code",
      "metadata": {
        "id": "cirt6WTjYZD-",
        "colab": {
          "base_uri": "https://localhost:8080/"
        },
        "outputId": "50405c55-b709-4c72-b088-a3d7c942f512"
      },
      "source": [
        "train_labels[0]"
      ],
      "execution_count": null,
      "outputs": [
        {
          "output_type": "execute_result",
          "data": {
            "text/plain": [
              "1"
            ]
          },
          "metadata": {
            "tags": []
          },
          "execution_count": 4
        }
      ]
    },
    {
      "cell_type": "markdown",
      "metadata": {
        "id": "7jiRPZr3YZEB"
      },
      "source": [
        "Since we restricted ourselves to the top 10,000 most frequent words, no word index will exceed 10,000:"
      ]
    },
    {
      "cell_type": "code",
      "metadata": {
        "id": "1XMuPSU9YZEC",
        "colab": {
          "base_uri": "https://localhost:8080/"
        },
        "outputId": "5639be0a-f8b0-4ffb-e990-b169c36f1c78"
      },
      "source": [
        "max([max(sequence) for sequence in train_data])"
      ],
      "execution_count": null,
      "outputs": [
        {
          "output_type": "execute_result",
          "data": {
            "text/plain": [
              "9999"
            ]
          },
          "metadata": {
            "tags": []
          },
          "execution_count": 5
        }
      ]
    },
    {
      "cell_type": "markdown",
      "metadata": {
        "id": "lPulfKAiYZEG"
      },
      "source": [
        "For kicks, here's how you can quickly decode one of these reviews back to English words:"
      ]
    },
    {
      "cell_type": "code",
      "metadata": {
        "id": "2VGPQD6FYZEG",
        "colab": {
          "base_uri": "https://localhost:8080/"
        },
        "outputId": "a83e030b-5f7b-4455-e269-3555e056dae6"
      },
      "source": [
        "# word_index is a dictionary mapping words to an integer index\n",
        "word_index = imdb.get_word_index()\n",
        "# We reverse it, mapping integer indices to words\n",
        "reverse_word_index = dict([(value, key) for (key, value) in word_index.items()])\n",
        "# We decode the review; note that our indices were offset by 3\n",
        "# because 0, 1 and 2 are reserved indices for \"padding\", \"start of sequence\", and \"unknown\".\n",
        "decoded_review = ' '.join([reverse_word_index.get(i - 3, '?') for i in train_data[0]])"
      ],
      "execution_count": null,
      "outputs": [
        {
          "output_type": "stream",
          "text": [
            "Downloading data from https://storage.googleapis.com/tensorflow/tf-keras-datasets/imdb_word_index.json\n",
            "1646592/1641221 [==============================] - 0s 0us/step\n"
          ],
          "name": "stdout"
        }
      ]
    },
    {
      "cell_type": "code",
      "metadata": {
        "id": "ny9ulA6ZYZEK",
        "colab": {
          "base_uri": "https://localhost:8080/",
          "height": 120
        },
        "outputId": "bd1f974a-d28d-4f4e-88f6-240ef5df618d"
      },
      "source": [
        "decoded_review"
      ],
      "execution_count": null,
      "outputs": [
        {
          "output_type": "execute_result",
          "data": {
            "application/vnd.google.colaboratory.intrinsic+json": {
              "type": "string"
            },
            "text/plain": [
              "\"? this film was just brilliant casting location scenery story direction everyone's really suited the part they played and you could just imagine being there robert ? is an amazing actor and now the same being director ? father came from the same scottish island as myself so i loved the fact there was a real connection with this film the witty remarks throughout the film were great it was just brilliant so much that i bought the film as soon as it was released for ? and would recommend it to everyone to watch and the fly fishing was amazing really cried at the end it was so sad and you know what they say if you cry at a film it must have been good and this definitely was also ? to the two little boy's that played the ? of norman and paul they were just brilliant children are often left out of the ? list i think because the stars that play them all grown up are such a big profile for the whole film but these children are amazing and should be praised for what they have done don't you think the whole story was so lovely because it was true and was someone's life after all that was shared with us all\""
            ]
          },
          "metadata": {
            "tags": []
          },
          "execution_count": 7
        }
      ]
    },
    {
      "cell_type": "markdown",
      "metadata": {
        "id": "UTb4x4vDYZEO"
      },
      "source": [
        "## Preparing the data\n",
        "\n",
        "\n",
        "We cannot feed lists of integers into a neural network. We have to turn our lists into tensors. There are two ways we could do that:\n",
        "\n",
        "* We could pad our lists so that they all have the same length, and turn them into an integer tensor of shape `(samples, word_indices)`, \n",
        "then use as first layer in our network a layer capable of handling such integer tensors (the `Embedding` layer, which we will cover in \n",
        "detail later in the book).\n",
        "* We could one-hot-encode our lists to turn them into vectors of 0s and 1s. Concretely, this would mean for instance turning the sequence \n",
        "`[3, 5]` into a 10,000-dimensional vector that would be all-zeros except for indices 3 and 5, which would be ones. Then we could use as \n",
        "first layer in our network a `Dense` layer, capable of handling floating point vector data.\n",
        "\n",
        "We will go with the latter solution. Let's vectorize our data, which we will do manually for maximum clarity:"
      ]
    },
    {
      "cell_type": "code",
      "metadata": {
        "id": "usj5yfzkYZEP"
      },
      "source": [
        "import numpy as np\n",
        "\n",
        "def vectorize_sequences(sequences, dimension=10000):\n",
        "    # Create an all-zero matrix of shape (len(sequences), dimension)\n",
        "    results = np.zeros((len(sequences), dimension))\n",
        "    for i, sequence in enumerate(sequences):\n",
        "        results[i, sequence] = 1.  # set specific indices of results[i] to 1s\n",
        "    return results\n",
        "\n",
        "# Our vectorized training data\n",
        "x_train = vectorize_sequences(train_data)\n",
        "# Our vectorized test data\n",
        "x_test = vectorize_sequences(test_data)"
      ],
      "execution_count": null,
      "outputs": []
    },
    {
      "cell_type": "markdown",
      "metadata": {
        "id": "vNA1tJROYZET"
      },
      "source": [
        "Here's what our samples look like now:"
      ]
    },
    {
      "cell_type": "code",
      "metadata": {
        "id": "yWAlCcMHYZET",
        "colab": {
          "base_uri": "https://localhost:8080/"
        },
        "outputId": "418c15dc-162f-4c8c-f005-9c575a9c39e8"
      },
      "source": [
        "x_train[0]"
      ],
      "execution_count": null,
      "outputs": [
        {
          "output_type": "execute_result",
          "data": {
            "text/plain": [
              "array([0., 1., 1., ..., 0., 0., 0.])"
            ]
          },
          "metadata": {
            "tags": []
          },
          "execution_count": 9
        }
      ]
    },
    {
      "cell_type": "markdown",
      "metadata": {
        "id": "4t0TlFWLYZEX"
      },
      "source": [
        "We should also vectorize our labels, which is straightforward:"
      ]
    },
    {
      "cell_type": "code",
      "metadata": {
        "id": "gf-LR-tsYZEX"
      },
      "source": [
        "# Our vectorized labels\n",
        "y_train = np.asarray(train_labels).astype('float32')\n",
        "y_test = np.asarray(test_labels).astype('float32')"
      ],
      "execution_count": null,
      "outputs": []
    },
    {
      "cell_type": "markdown",
      "metadata": {
        "id": "IWcAMIU5YZEb"
      },
      "source": [
        "Now our data is ready to be fed into a neural network."
      ]
    },
    {
      "cell_type": "markdown",
      "metadata": {
        "id": "Ra2ft9xbYZEd"
      },
      "source": [
        "## Building our network\n",
        "\n",
        "\n",
        "Our input data is simply vectors, and our labels are scalars (1s and 0s): this is the easiest setup you will ever encounter. A type of \n",
        "network that performs well on such a problem would be a simple stack of fully-connected (`Dense`) layers with `relu` activations: `Dense(16, \n",
        "activation='relu')`\n",
        "\n",
        "The argument being passed to each `Dense` layer (16) is the number of \"hidden units\" of the layer. What's a hidden unit? It's a dimension \n",
        "in the representation space of the layer. You may remember from the previous chapter that each such `Dense` layer with a `relu` activation implements \n",
        "the following chain of tensor operations:\n",
        "\n",
        "`output = relu(dot(W, input) + b)`\n",
        "\n",
        "Having 16 hidden units means that the weight matrix `W` will have shape `(input_dimension, 16)`, i.e. the dot product with `W` will project the \n",
        "input data onto a 16-dimensional representation space (and then we would add the bias vector `b` and apply the `relu` operation). You can \n",
        "intuitively understand the dimensionality of your representation space as \"how much freedom you are allowing the network to have when \n",
        "learning internal representations\". Having more hidden units (a higher-dimensional representation space) allows your network to learn more \n",
        "complex representations, but it makes your network more computationally expensive and may lead to learning unwanted patterns (patterns that \n",
        "will improve performance on the training data but not on the test data).\n",
        "\n",
        "There are two key architecture decisions to be made about such stack of dense layers:\n",
        "\n",
        "* How many layers to use.\n",
        "* How many \"hidden units\" to chose for each layer.\n",
        "\n",
        "In the next chapter, you will learn formal principles to guide you in making these choices. \n",
        "For the time being, you will have to trust us with the following architecture choice: \n",
        "two intermediate layers with 16 hidden units each, \n",
        "and a third layer which will output the scalar prediction regarding the sentiment of the current review. \n",
        "The intermediate layers will use `relu` as their \"activation function\", \n",
        "and the final layer will use a sigmoid activation so as to output a probability \n",
        "(a score between 0 and 1, indicating how likely the sample is to have the target \"1\", i.e. how likely the review is to be positive). \n",
        "A `relu` (rectified linear unit) is a function meant to zero-out negative values, \n",
        "while a sigmoid \"squashes\" arbitrary values into the `[0, 1]` interval, thus outputting something that can be interpreted as a probability."
      ]
    },
    {
      "cell_type": "markdown",
      "metadata": {
        "id": "CKLf8U8sYZEd"
      },
      "source": [
        "Here's what our network looks like:\n",
        "\n",
        "![3-layer network](https://s3.amazonaws.com/book.keras.io/img/ch3/3_layer_network.png)"
      ]
    },
    {
      "cell_type": "markdown",
      "metadata": {
        "id": "mzfWS0oSYZEe"
      },
      "source": [
        "And here's the Keras implementation, very similar to the MNIST example you saw previously:"
      ]
    },
    {
      "cell_type": "code",
      "metadata": {
        "id": "IBXN4iQ4YZEf"
      },
      "source": [
        "from keras import models\n",
        "from keras import layers\n",
        "\n",
        "model = models.Sequential()\n",
        "model.add(layers.Dense(16, activation='relu', input_shape=(10000,)))\n",
        "model.add(layers.Dense(16, activation='relu'))\n",
        "model.add(layers.Dense(1, activation='sigmoid'))"
      ],
      "execution_count": null,
      "outputs": []
    },
    {
      "cell_type": "markdown",
      "metadata": {
        "id": "RCpMJTcWYZEj"
      },
      "source": [
        "\n",
        "Lastly, we need to pick a loss function and an optimizer. Since we are facing a binary classification problem and the output of our network \n",
        "is a probability (we end our network with a single-unit layer with a sigmoid activation), is it best to use the `binary_crossentropy` loss. \n",
        "It isn't the only viable choice: you could use, for instance, `mean_squared_error`. But crossentropy is usually the best choice when you \n",
        "are dealing with models that output probabilities. Crossentropy is a quantity from the field of Information Theory, that measures the \"distance\" \n",
        "between probability distributions, or in our case, between the ground-truth distribution and our predictions.\n",
        "\n",
        "Here's the step where we configure our model with the `rmsprop` optimizer and the `binary_crossentropy` loss function. Note that we will \n",
        "also monitor accuracy during training."
      ]
    },
    {
      "cell_type": "code",
      "metadata": {
        "id": "idj2wZblYZEk"
      },
      "source": [
        "model.compile(optimizer='rmsprop',\n",
        "              loss='binary_crossentropy',\n",
        "              metrics=['accuracy'])"
      ],
      "execution_count": null,
      "outputs": []
    },
    {
      "cell_type": "markdown",
      "metadata": {
        "id": "G84-yV0iYZEo"
      },
      "source": [
        "We are passing our optimizer, loss function and metrics as strings, which is possible because `rmsprop`, `binary_crossentropy` and \n",
        "`accuracy` are packaged as part of Keras. Sometimes you may want to configure the parameters of your optimizer, or pass a custom loss \n",
        "function or metric function. This former can be done by passing an optimizer class instance as the `optimizer` argument:"
      ]
    },
    {
      "cell_type": "code",
      "metadata": {
        "id": "_PnTf933YZEp"
      },
      "source": [
        "from keras import optimizers\n",
        "\n",
        "model.compile(optimizer=optimizers.RMSprop(lr=0.001),\n",
        "              loss='binary_crossentropy',\n",
        "              metrics=['accuracy'])"
      ],
      "execution_count": null,
      "outputs": []
    },
    {
      "cell_type": "markdown",
      "metadata": {
        "id": "quVNjjYsYZEs"
      },
      "source": [
        "The latter can be done by passing function objects as the `loss` or `metrics` arguments:"
      ]
    },
    {
      "cell_type": "code",
      "metadata": {
        "id": "HA_xxOIWYZEt"
      },
      "source": [
        "from keras import losses\n",
        "from keras import metrics\n",
        "\n",
        "model.compile(optimizer=optimizers.RMSprop(lr=0.001),\n",
        "              loss=losses.binary_crossentropy,\n",
        "              metrics=[metrics.binary_accuracy])"
      ],
      "execution_count": null,
      "outputs": []
    },
    {
      "cell_type": "markdown",
      "metadata": {
        "id": "OTfwUrZAYZEw"
      },
      "source": [
        "## Validating our approach\n",
        "\n",
        "In order to monitor during training the accuracy of the model on data that it has never seen before, we will create a \"validation set\" by \n",
        "setting apart 10,000 samples from the original training data:"
      ]
    },
    {
      "cell_type": "code",
      "metadata": {
        "id": "pNM-SRQmYZEx"
      },
      "source": [
        "x_val = x_train[:10000]\n",
        "partial_x_train = x_train[10000:]\n",
        "\n",
        "y_val = y_train[:10000]\n",
        "partial_y_train = y_train[10000:]"
      ],
      "execution_count": null,
      "outputs": []
    },
    {
      "cell_type": "markdown",
      "metadata": {
        "collapsed": true,
        "id": "iy9W-UZgYZE0"
      },
      "source": [
        "We will now train our model for 20 epochs (20 iterations over all samples in the `x_train` and `y_train` tensors), in mini-batches of 512 \n",
        "samples. At this same time we will monitor loss and accuracy on the 10,000 samples that we set apart. This is done by passing the \n",
        "validation data as the `validation_data` argument:"
      ]
    },
    {
      "cell_type": "code",
      "metadata": {
        "id": "6SceNl0qYZE1",
        "colab": {
          "base_uri": "https://localhost:8080/"
        },
        "outputId": "98f0373c-919a-43fe-a8f9-e375b5846963"
      },
      "source": [
        "history = model.fit(partial_x_train,\n",
        "                    partial_y_train,\n",
        "                    epochs=20,\n",
        "                    batch_size=512,\n",
        "                    validation_data=(x_val, y_val))"
      ],
      "execution_count": null,
      "outputs": [
        {
          "output_type": "stream",
          "text": [
            "Epoch 1/20\n",
            "30/30 [==============================] - 3s 80ms/step - loss: 0.5670 - binary_accuracy: 0.7342 - val_loss: 0.3784 - val_binary_accuracy: 0.8715\n",
            "Epoch 2/20\n",
            "30/30 [==============================] - 1s 48ms/step - loss: 0.3144 - binary_accuracy: 0.8997 - val_loss: 0.2995 - val_binary_accuracy: 0.8904\n",
            "Epoch 3/20\n",
            "30/30 [==============================] - 1s 49ms/step - loss: 0.2190 - binary_accuracy: 0.9358 - val_loss: 0.2749 - val_binary_accuracy: 0.8912\n",
            "Epoch 4/20\n",
            "30/30 [==============================] - 1s 47ms/step - loss: 0.1723 - binary_accuracy: 0.9452 - val_loss: 0.2804 - val_binary_accuracy: 0.8881\n",
            "Epoch 5/20\n",
            "30/30 [==============================] - 1s 48ms/step - loss: 0.1366 - binary_accuracy: 0.9581 - val_loss: 0.2871 - val_binary_accuracy: 0.8845\n",
            "Epoch 6/20\n",
            "30/30 [==============================] - 1s 49ms/step - loss: 0.1117 - binary_accuracy: 0.9675 - val_loss: 0.2951 - val_binary_accuracy: 0.8877\n",
            "Epoch 7/20\n",
            "30/30 [==============================] - 1s 49ms/step - loss: 0.0901 - binary_accuracy: 0.9770 - val_loss: 0.3134 - val_binary_accuracy: 0.8831\n",
            "Epoch 8/20\n",
            "30/30 [==============================] - 1s 49ms/step - loss: 0.0761 - binary_accuracy: 0.9798 - val_loss: 0.3355 - val_binary_accuracy: 0.8796\n",
            "Epoch 9/20\n",
            "30/30 [==============================] - 1s 47ms/step - loss: 0.0630 - binary_accuracy: 0.9846 - val_loss: 0.3741 - val_binary_accuracy: 0.8764\n",
            "Epoch 10/20\n",
            "30/30 [==============================] - 1s 48ms/step - loss: 0.0483 - binary_accuracy: 0.9887 - val_loss: 0.3927 - val_binary_accuracy: 0.8761\n",
            "Epoch 11/20\n",
            "30/30 [==============================] - 1s 48ms/step - loss: 0.0409 - binary_accuracy: 0.9916 - val_loss: 0.4396 - val_binary_accuracy: 0.8720\n",
            "Epoch 12/20\n",
            "30/30 [==============================] - 1s 49ms/step - loss: 0.0322 - binary_accuracy: 0.9948 - val_loss: 0.4844 - val_binary_accuracy: 0.8696\n",
            "Epoch 13/20\n",
            "30/30 [==============================] - 1s 48ms/step - loss: 0.0359 - binary_accuracy: 0.9910 - val_loss: 0.5023 - val_binary_accuracy: 0.8642\n",
            "Epoch 14/20\n",
            "30/30 [==============================] - 1s 47ms/step - loss: 0.0220 - binary_accuracy: 0.9971 - val_loss: 0.5076 - val_binary_accuracy: 0.8712\n",
            "Epoch 15/20\n",
            "30/30 [==============================] - 1s 48ms/step - loss: 0.0135 - binary_accuracy: 0.9991 - val_loss: 0.5715 - val_binary_accuracy: 0.8685\n",
            "Epoch 16/20\n",
            "30/30 [==============================] - 1s 50ms/step - loss: 0.0134 - binary_accuracy: 0.9982 - val_loss: 0.5819 - val_binary_accuracy: 0.8685\n",
            "Epoch 17/20\n",
            "30/30 [==============================] - 1s 49ms/step - loss: 0.0078 - binary_accuracy: 0.9998 - val_loss: 0.6255 - val_binary_accuracy: 0.8669\n",
            "Epoch 18/20\n",
            "30/30 [==============================] - 1s 48ms/step - loss: 0.0102 - binary_accuracy: 0.9986 - val_loss: 0.6523 - val_binary_accuracy: 0.8674\n",
            "Epoch 19/20\n",
            "30/30 [==============================] - 1s 48ms/step - loss: 0.0047 - binary_accuracy: 0.9998 - val_loss: 0.6896 - val_binary_accuracy: 0.8640\n",
            "Epoch 20/20\n",
            "30/30 [==============================] - 1s 48ms/step - loss: 0.0073 - binary_accuracy: 0.9985 - val_loss: 0.7317 - val_binary_accuracy: 0.8618\n"
          ],
          "name": "stdout"
        }
      ]
    },
    {
      "cell_type": "markdown",
      "metadata": {
        "id": "Al6z6qgQYZE5"
      },
      "source": [
        "On CPU, this will take less than two seconds per epoch -- training is over in 20 seconds. At the end of every epoch, there is a slight pause \n",
        "as the model computes its loss and accuracy on the 10,000 samples of the validation data.\n",
        "\n",
        "Note that the call to `model.fit()` returns a `History` object. This object has a member `history`, which is a dictionary containing data \n",
        "about everything that happened during training. Let's take a look at it:"
      ]
    },
    {
      "cell_type": "code",
      "metadata": {
        "id": "bCbF7_0XYZE5",
        "colab": {
          "base_uri": "https://localhost:8080/"
        },
        "outputId": "d96ea2fd-c928-43a2-8dce-46f3498858cb"
      },
      "source": [
        "history_dict = history.history\n",
        "history_dict.keys()"
      ],
      "execution_count": null,
      "outputs": [
        {
          "output_type": "execute_result",
          "data": {
            "text/plain": [
              "dict_keys(['loss', 'binary_accuracy', 'val_loss', 'val_binary_accuracy'])"
            ]
          },
          "metadata": {
            "tags": []
          },
          "execution_count": 17
        }
      ]
    },
    {
      "cell_type": "markdown",
      "metadata": {
        "id": "BX7nCW2xYZE9"
      },
      "source": [
        "It contains 4 entries: one per metric that was being monitored, during training and during validation. Let's use Matplotlib to plot the \n",
        "training and validation loss side by side, as well as the training and validation accuracy:"
      ]
    },
    {
      "cell_type": "code",
      "metadata": {
        "id": "5u_w5Y-WYZE-",
        "colab": {
          "base_uri": "https://localhost:8080/",
          "height": 295
        },
        "outputId": "7eb12a43-bee2-4d53-afc6-b2032eaf6708"
      },
      "source": [
        "import matplotlib.pyplot as plt\n",
        "\n",
        "acc = history.history['binary_accuracy']\n",
        "val_acc = history.history['val_binary_accuracy']\n",
        "loss = history.history['loss']\n",
        "val_loss = history.history['val_loss']\n",
        "\n",
        "epochs = range(1, len(acc) + 1)\n",
        "\n",
        "# \"bo\" is for \"blue dot\"\n",
        "plt.plot(epochs, loss, 'bo', label='Training loss')\n",
        "# b is for \"solid blue line\"\n",
        "plt.plot(epochs, val_loss, 'b', label='Validation loss')\n",
        "plt.title('Training and validation loss')\n",
        "plt.xlabel('Epochs')\n",
        "plt.ylabel('Loss')\n",
        "plt.legend()\n",
        "\n",
        "plt.show()"
      ],
      "execution_count": null,
      "outputs": [
        {
          "output_type": "display_data",
          "data": {
            "image/png": "[encoded data removed]",
            "text/plain": [
              "<Figure size 432x288 with 1 Axes>"
            ]
          },
          "metadata": {
            "tags": [],
            "needs_background": "light"
          }
        }
      ]
    },
    {
      "cell_type": "code",
      "metadata": {
        "id": "SsF1ej18YZFB",
        "colab": {
          "base_uri": "https://localhost:8080/",
          "height": 295
        },
        "outputId": "6876fffb-db79-4995-ad9f-4fec445cdd6f"
      },
      "source": [
        "plt.clf()   # clear figure\n",
        "acc_values = history_dict['binary_accuracy']\n",
        "val_acc_values = history_dict['val_binary_accuracy']\n",
        "\n",
        "plt.plot(epochs, acc, 'bo', label='Training acc')\n",
        "plt.plot(epochs, val_acc, 'b', label='Validation acc')\n",
        "plt.title('Training and validation accuracy')\n",
        "plt.xlabel('Epochs')\n",
        "plt.ylabel('Loss')\n",
        "plt.legend()\n",
        "\n",
        "plt.show()"
      ],
      "execution_count": null,
      "outputs": [
        {
          "output_type": "display_data",
          "data": {
            "image/png": "[encoded data removed]",
            "text/plain": [
              "<Figure size 432x288 with 1 Axes>"
            ]
          },
          "metadata": {
            "tags": [],
            "needs_background": "light"
          }
        }
      ]
    },
    {
      "cell_type": "markdown",
      "metadata": {
        "id": "a_DCiJrYYZFG"
      },
      "source": [
        "\n",
        "The dots are the training loss and accuracy, while the solid lines are the validation loss and accuracy. Note that your own results may vary \n",
        "slightly due to a different random initialization of your network.\n",
        "\n",
        "As you can see, the training loss decreases with every epoch and the training accuracy increases with every epoch. That's what you would \n",
        "expect when running gradient descent optimization -- the quantity you are trying to minimize should get lower with every iteration. But that \n",
        "isn't the case for the validation loss and accuracy: they seem to peak at the fourth epoch. This is an example of what we were warning \n",
        "against earlier: a model that performs better on the training data isn't necessarily a model that will do better on data it has never seen \n",
        "before. In precise terms, what you are seeing is \"overfitting\": after the second epoch, we are over-optimizing on the training data, and we \n",
        "ended up learning representations that are specific to the training data and do not generalize to data outside of the training set.\n",
        "\n",
        "In this case, to prevent overfitting, we could simply stop training after three epochs. In general, there is a range of techniques you can \n",
        "leverage to mitigate overfitting, which we will cover in the next chapter.\n",
        "\n",
        "Let's train a new network from scratch for four epochs, then evaluate it on our test data:"
      ]
    },
    {
      "cell_type": "code",
      "metadata": {
        "id": "7kpPKCJrYZFH",
        "colab": {
          "base_uri": "https://localhost:8080/"
        },
        "outputId": "dab456c9-9583-4394-d649-63d3c027547e"
      },
      "source": [
        "model = models.Sequential()\n",
        "model.add(layers.Dense(16, activation='relu', input_shape=(10000,)))\n",
        "model.add(layers.Dense(16, activation='relu'))\n",
        "model.add(layers.Dense(1, activation='sigmoid'))\n",
        "\n",
        "model.compile(optimizer='rmsprop',\n",
        "              loss='binary_crossentropy',\n",
        "              metrics=['accuracy'])\n",
        "\n",
        "model.fit(x_train, y_train, epochs=4, batch_size=512)\n",
        "results = model.evaluate(x_test, y_test)"
      ],
      "execution_count": null,
      "outputs": [
        {
          "output_type": "stream",
          "text": [
            "Epoch 1/4\n",
            "49/49 [==============================] - 2s 34ms/step - loss: 0.5982 - accuracy: 0.7256\n",
            "Epoch 2/4\n",
            "49/49 [==============================] - 2s 36ms/step - loss: 0.3361 - accuracy: 0.8984\n",
            "Epoch 3/4\n",
            "49/49 [==============================] - 2s 34ms/step - loss: 0.2390 - accuracy: 0.9198\n",
            "Epoch 4/4\n",
            "49/49 [==============================] - 2s 35ms/step - loss: 0.1900 - accuracy: 0.9374\n",
            "782/782 [==============================] - 2s 2ms/step - loss: 0.2946 - accuracy: 0.8820\n"
          ],
          "name": "stdout"
        }
      ]
    },
    {
      "cell_type": "code",
      "metadata": {
        "id": "2qEDPWyNYZFL",
        "colab": {
          "base_uri": "https://localhost:8080/"
        },
        "outputId": "24a6f1c4-a10d-46b1-a6c0-61f3078b5aa9"
      },
      "source": [
        "results"
      ],
      "execution_count": null,
      "outputs": [
        {
          "output_type": "execute_result",
          "data": {
            "text/plain": [
              "[0.29462510347366333, 0.8820000290870667]"
            ]
          },
          "metadata": {
            "tags": []
          },
          "execution_count": 23
        }
      ]
    },
    {
      "cell_type": "markdown",
      "metadata": {
        "id": "QuCGHmrMYZFP"
      },
      "source": [
        "Our fairly naive approach achieves an accuracy of 88%. With state-of-the-art approaches, one should be able to get close to 95%."
      ]
    },
    {
      "cell_type": "markdown",
      "metadata": {
        "id": "5YQlgRknYZFQ"
      },
      "source": [
        "## Using a trained network to generate predictions on new data\n",
        "\n",
        "After having trained a network, you will want to use it in a practical setting. You can generate the likelihood of reviews being positive \n",
        "by using the `predict` method:"
      ]
    },
    {
      "cell_type": "code",
      "metadata": {
        "id": "X9VRYq12YZFR",
        "colab": {
          "base_uri": "https://localhost:8080/"
        },
        "outputId": "f34f4ca2-92f1-43b6-b00c-3dcfe890a36a"
      },
      "source": [
        "model.predict(x_test)"
      ],
      "execution_count": null,
      "outputs": [
        {
          "output_type": "execute_result",
          "data": {
            "text/plain": [
              "array([[0.19196811],\n",
              "       [0.9997716 ],\n",
              "       [0.71757454],\n",
              "       ...,\n",
              "       [0.07352436],\n",
              "       [0.07203311],\n",
              "       [0.39048177]], dtype=float32)"
            ]
          },
          "metadata": {
            "tags": []
          },
          "execution_count": 24
        }
      ]
    },
    {
      "cell_type": "markdown",
      "metadata": {
        "id": "stj6lYUmYZFU"
      },
      "source": [
        "As you can see, the network is very confident for some samples (0.99 or more, or 0.01 or less) but less confident for others (0.6, 0.4). \n"
      ]
    },
    {
      "cell_type": "markdown",
      "metadata": {
        "id": "XQq4BKaOYZFV"
      },
      "source": [
        "## Further experiments\n",
        "\n",
        "\n",
        "* We were using 2 hidden layers. Try to use 1 or 3 hidden layers and see how it affects validation and test accuracy.\n",
        "* Try to use layers with more hidden units or less hidden units: 32 units, 64 units...\n",
        "* Try to use the `mse` loss function instead of `binary_crossentropy`.\n",
        "* Try to use the `tanh` activation (an activation that was popular in the early days of neural networks) instead of `relu`.\n",
        "\n",
        "These experiments will help convince you that the architecture choices we have made are all fairly reasonable, although they can still be \n",
        "improved!"
      ]
    },
    {
      "cell_type": "markdown",
      "metadata": {
        "id": "E1BfGQHvYZFV"
      },
      "source": [
        "## Conclusions\n",
        "\n",
        "\n",
        "Here's what you should take away from this example:\n",
        "\n",
        "* There's usually quite a bit of preprocessing you need to do on your raw data in order to be able to feed it -- as tensors -- into a neural \n",
        "network. In the case of sequences of words, they can be encoded as binary vectors -- but there are other encoding options too.\n",
        "* Stacks of `Dense` layers with `relu` activations can solve a wide range of problems (including sentiment classification), and you will \n",
        "likely use them frequently.\n",
        "* In a binary classification problem (two output classes), your network should end with a `Dense` layer with 1 unit and a `sigmoid` activation, \n",
        "i.e. the output of your network should be a scalar between 0 and 1, encoding a probability.\n",
        "* With such a scalar sigmoid output, on a binary classification problem, the loss function you should use is `binary_crossentropy`.\n",
        "* The `rmsprop` optimizer is generally a good enough choice of optimizer, whatever your problem. That's one less thing for you to worry \n",
        "about.\n",
        "* As they get better on their training data, neural networks eventually start _overfitting_ and end up obtaining increasingly worse results on data \n",
        "never-seen-before. Make sure to always monitor performance on data that is outside of the training set.\n"
      ]
    },
    {
      "cell_type": "markdown",
      "metadata": {
        "id": "Jj2d7LVOwlbB"
      },
      "source": [
        "### See: [DL python](https://drive.google.com/file/d/1r4w4MJbHzTTb7ncRvJbM_5_edttPO1qK/view?usp=sharing) Page: 68\n"
      ]
    },
    {
      "cell_type": "code",
      "metadata": {
        "id": "9KS7gHM1w3n-"
      },
      "source": [
        ""
      ],
      "execution_count": null,
      "outputs": []
    }
  ]
}