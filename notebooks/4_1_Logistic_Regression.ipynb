{
  "nbformat": 4,
  "nbformat_minor": 0,
  "metadata": {
    "kernelspec": {
      "display_name": "Python 3",
      "language": "python",
      "name": "python3"
    },
    "language_info": {
      "codemirror_mode": {
        "name": "ipython",
        "version": 3
      },
      "file_extension": ".py",
      "mimetype": "text/x-python",
      "name": "python",
      "nbconvert_exporter": "python",
      "pygments_lexer": "ipython3",
      "version": "3.6.6"
    },
    "colab": {
      "name": "4-1 Logistic Regression.ipynb",
      "provenance": [],
      "include_colab_link": true
    }
  },
  "cells": [
    {
      "cell_type": "markdown",
      "metadata": {
        "id": "view-in-github",
        "colab_type": "text"
      },
      "source": [
        "<a href=\"https://colab.research.google.com/github/jumbokh/ML-Class/blob/main/notebooks/4_1_Logistic_Regression.ipynb\" target=\"_parent\"><img src=\"https://colab.research.google.com/assets/colab-badge.svg\" alt=\"Open In Colab\"/></a>"
      ]
    },
    {
      "cell_type": "markdown",
      "metadata": {
        "id": "A4lfjIo5xq34"
      },
      "source": [
        "## 作業"
      ]
    },
    {
      "cell_type": "markdown",
      "metadata": {
        "id": "kf3EPqKdxq37"
      },
      "source": [
        "1. 請用本章的資料來檢視precision_recall_curve的輸出結果是正確的。做法如下，請先取得precision_recall_curve回傳的判斷門檻thres的值，再自己寫廻圈來驗證精確率和召回率。"
      ]
    },
    {
      "cell_type": "code",
      "metadata": {
        "id": "Tw56GE3Gxq38"
      },
      "source": [
        "import pandas as pd\n",
        "import numpy as np\n",
        "import matplotlib.pyplot as plt\n",
        "import seaborn as sns\n",
        "%matplotlib inline\n",
        "plt.rcParams['font.sans-serif'] = ['DFKai-sb'] \n",
        "plt.rcParams['axes.unicode_minus'] = False\n",
        "%config InlineBackend.figure_format = 'retina'\n",
        "import warnings\n",
        "warnings.filterwarnings('ignore')"
      ],
      "execution_count": null,
      "outputs": []
    },
    {
      "cell_type": "code",
      "metadata": {
        "id": "3yBfY_01xq39",
        "outputId": "6eb2e004-a29b-4a38-b5a0-1a7becf34618"
      },
      "source": [
        "from sklearn.datasets import load_iris\n",
        "iris = load_iris()\n",
        "df = pd.DataFrame(iris['data'], columns=iris['feature_names'])\n",
        "df['target'] = iris['target']\n",
        "df = df.iloc[50:]\n",
        "X = df[['sepal width (cm)', 'petal length (cm)']]\n",
        "y = df['target']\n",
        "\n",
        "from sklearn.model_selection import train_test_split\n",
        "X_train, X_test, y_train, y_test = train_test_split(X, y, \n",
        "                                                   test_size=0.33, random_state=42)\n",
        "\n",
        "from sklearn.linear_model import LogisticRegression\n",
        "from sklearn.preprocessing import StandardScaler\n",
        "from sklearn.pipeline import make_pipeline\n",
        "model_pl = make_pipeline(\n",
        "    StandardScaler(),\n",
        "    LogisticRegression()\n",
        ")\n",
        "model_pl.fit(X_train, y_train)\n",
        "y_pred_proba = model_pl.predict_proba(X_test)[:,1]\n",
        "\n",
        "from sklearn.metrics import precision_recall_curve\n",
        "prec, recall, thres = precision_recall_curve(y_test, y_pred_proba, pos_label=2)\n",
        "\n",
        "df_prc = pd.DataFrame(zip(thres, prec, recall), columns=['門檻','精確率','召回率'])\n",
        "\n",
        "from sklearn.metrics import precision_score, recall_score\n",
        "scores = []\n",
        "for i in df_prc['門檻']:\n",
        "    y_pred = np.where(y_pred_proba>=i, 2, 1)\n",
        "    prc_score = precision_score(y_test, y_pred, pos_label=2)\n",
        "    rec_score = recall_score(y_test, y_pred, pos_label=2)\n",
        "    scores.append([prc_score, rec_score])\n",
        "\n",
        "df_prc[['計算的精確率','計算的召回率']] = pd.DataFrame(scores)\n",
        "df_prc.head()"
      ],
      "execution_count": null,
      "outputs": [
        {
          "output_type": "execute_result",
          "data": {
            "text/html": [
              "<div>\n",
              "<style scoped>\n",
              "    .dataframe tbody tr th:only-of-type {\n",
              "        vertical-align: middle;\n",
              "    }\n",
              "\n",
              "    .dataframe tbody tr th {\n",
              "        vertical-align: top;\n",
              "    }\n",
              "\n",
              "    .dataframe thead th {\n",
              "        text-align: right;\n",
              "    }\n",
              "</style>\n",
              "<table border=\"1\" class=\"dataframe\">\n",
              "  <thead>\n",
              "    <tr style=\"text-align: right;\">\n",
              "      <th></th>\n",
              "      <th>門檻</th>\n",
              "      <th>精確率</th>\n",
              "      <th>召回率</th>\n",
              "      <th>計算的精確率</th>\n",
              "      <th>計算的召回率</th>\n",
              "    </tr>\n",
              "  </thead>\n",
              "  <tbody>\n",
              "    <tr>\n",
              "      <th>0</th>\n",
              "      <td>0.404598</td>\n",
              "      <td>0.777778</td>\n",
              "      <td>1.000000</td>\n",
              "      <td>0.777778</td>\n",
              "      <td>1.000000</td>\n",
              "    </tr>\n",
              "    <tr>\n",
              "      <th>1</th>\n",
              "      <td>0.410388</td>\n",
              "      <td>0.764706</td>\n",
              "      <td>0.928571</td>\n",
              "      <td>0.764706</td>\n",
              "      <td>0.928571</td>\n",
              "    </tr>\n",
              "    <tr>\n",
              "      <th>2</th>\n",
              "      <td>0.477635</td>\n",
              "      <td>0.812500</td>\n",
              "      <td>0.928571</td>\n",
              "      <td>0.812500</td>\n",
              "      <td>0.928571</td>\n",
              "    </tr>\n",
              "    <tr>\n",
              "      <th>3</th>\n",
              "      <td>0.500357</td>\n",
              "      <td>0.857143</td>\n",
              "      <td>0.857143</td>\n",
              "      <td>0.857143</td>\n",
              "      <td>0.857143</td>\n",
              "    </tr>\n",
              "    <tr>\n",
              "      <th>4</th>\n",
              "      <td>0.609846</td>\n",
              "      <td>0.846154</td>\n",
              "      <td>0.785714</td>\n",
              "      <td>0.846154</td>\n",
              "      <td>0.785714</td>\n",
              "    </tr>\n",
              "  </tbody>\n",
              "</table>\n",
              "</div>"
            ],
            "text/plain": [
              "         門檻       精確率       召回率    計算的精確率    計算的召回率\n",
              "0  0.404598  0.777778  1.000000  0.777778  1.000000\n",
              "1  0.410388  0.764706  0.928571  0.764706  0.928571\n",
              "2  0.477635  0.812500  0.928571  0.812500  0.928571\n",
              "3  0.500357  0.857143  0.857143  0.857143  0.857143\n",
              "4  0.609846  0.846154  0.785714  0.846154  0.785714"
            ]
          },
          "metadata": {
            "tags": []
          },
          "execution_count": 2
        }
      ]
    },
    {
      "cell_type": "markdown",
      "metadata": {
        "id": "6fI0m9s2xq3-"
      },
      "source": [
        "2. 請用本章的資料來檢視roc_curve函數的輸出結果是正確的。做法如下，請先取得roc_curve回傳的判斷門檻thres的值，再自己寫廻圈來驗證1-特異度和敏感度。"
      ]
    },
    {
      "cell_type": "code",
      "metadata": {
        "id": "aXvz-leuxq3_",
        "outputId": "d961ae72-7e43-472a-a6fa-c1d136ce09de"
      },
      "source": [
        "from sklearn.datasets import load_iris\n",
        "iris = load_iris()\n",
        "df = pd.DataFrame(iris['data'], columns=iris['feature_names'])\n",
        "df['target'] = iris['target']\n",
        "df = df.iloc[50:]\n",
        "X = df[['sepal width (cm)', 'petal length (cm)']]\n",
        "y = df['target']\n",
        "\n",
        "from sklearn.model_selection import train_test_split\n",
        "X_train, X_test, y_train, y_test = train_test_split(X, y, \n",
        "                                                   test_size=0.33, random_state=42)\n",
        "\n",
        "from sklearn.linear_model import LogisticRegression\n",
        "from sklearn.preprocessing import StandardScaler\n",
        "from sklearn.pipeline import make_pipeline\n",
        "model_pl = make_pipeline(\n",
        "    StandardScaler(),\n",
        "    LogisticRegression()\n",
        ")\n",
        "model_pl.fit(X_train, y_train)\n",
        "y_pred_proba = model_pl.predict_proba(X_test)[:,1]\n",
        "\n",
        "from sklearn.metrics import roc_curve\n",
        "fpr, tpr, thres = roc_curve(y_test, y_pred_proba, pos_label=2)\n",
        "df_roc = pd.DataFrame(zip(thres, fpr, tpr), columns=['門檻','1-特異度','敏感度'])\n",
        "\n",
        "from sklearn.metrics import recall_score\n",
        "scores = []\n",
        "for i in df_roc['門檻']:\n",
        "    y_pred = np.where(y_pred_proba>=i, 2, 1)\n",
        "    sens = recall_score(y_test, y_pred, pos_label=2)\n",
        "    neg_sepc = 1 - recall_score(y_test, y_pred, pos_label=1)\n",
        "    scores.append([neg_sepc, sens])\n",
        "\n",
        "df_roc[['計算的1-特異度','計算的敏感度']] = pd.DataFrame(scores)\n",
        "df_roc"
      ],
      "execution_count": null,
      "outputs": [
        {
          "output_type": "execute_result",
          "data": {
            "text/html": [
              "<div>\n",
              "<style scoped>\n",
              "    .dataframe tbody tr th:only-of-type {\n",
              "        vertical-align: middle;\n",
              "    }\n",
              "\n",
              "    .dataframe tbody tr th {\n",
              "        vertical-align: top;\n",
              "    }\n",
              "\n",
              "    .dataframe thead th {\n",
              "        text-align: right;\n",
              "    }\n",
              "</style>\n",
              "<table border=\"1\" class=\"dataframe\">\n",
              "  <thead>\n",
              "    <tr style=\"text-align: right;\">\n",
              "      <th></th>\n",
              "      <th>門檻</th>\n",
              "      <th>1-特異度</th>\n",
              "      <th>敏感度</th>\n",
              "      <th>計算的1-特異度</th>\n",
              "      <th>計算的敏感度</th>\n",
              "    </tr>\n",
              "  </thead>\n",
              "  <tbody>\n",
              "    <tr>\n",
              "      <th>0</th>\n",
              "      <td>1.999310</td>\n",
              "      <td>0.000000</td>\n",
              "      <td>0.000000</td>\n",
              "      <td>0.000000</td>\n",
              "      <td>0.000000</td>\n",
              "    </tr>\n",
              "    <tr>\n",
              "      <th>1</th>\n",
              "      <td>0.999310</td>\n",
              "      <td>0.000000</td>\n",
              "      <td>0.071429</td>\n",
              "      <td>0.000000</td>\n",
              "      <td>0.071429</td>\n",
              "    </tr>\n",
              "    <tr>\n",
              "      <th>2</th>\n",
              "      <td>0.828709</td>\n",
              "      <td>0.000000</td>\n",
              "      <td>0.571429</td>\n",
              "      <td>0.000000</td>\n",
              "      <td>0.571429</td>\n",
              "    </tr>\n",
              "    <tr>\n",
              "      <th>3</th>\n",
              "      <td>0.772453</td>\n",
              "      <td>0.052632</td>\n",
              "      <td>0.571429</td>\n",
              "      <td>0.052632</td>\n",
              "      <td>0.571429</td>\n",
              "    </tr>\n",
              "    <tr>\n",
              "      <th>4</th>\n",
              "      <td>0.745319</td>\n",
              "      <td>0.052632</td>\n",
              "      <td>0.714286</td>\n",
              "      <td>0.052632</td>\n",
              "      <td>0.714286</td>\n",
              "    </tr>\n",
              "    <tr>\n",
              "      <th>5</th>\n",
              "      <td>0.677759</td>\n",
              "      <td>0.105263</td>\n",
              "      <td>0.714286</td>\n",
              "      <td>0.105263</td>\n",
              "      <td>0.714286</td>\n",
              "    </tr>\n",
              "    <tr>\n",
              "      <th>6</th>\n",
              "      <td>0.500357</td>\n",
              "      <td>0.105263</td>\n",
              "      <td>0.857143</td>\n",
              "      <td>0.105263</td>\n",
              "      <td>0.857143</td>\n",
              "    </tr>\n",
              "    <tr>\n",
              "      <th>7</th>\n",
              "      <td>0.477635</td>\n",
              "      <td>0.157895</td>\n",
              "      <td>0.928571</td>\n",
              "      <td>0.157895</td>\n",
              "      <td>0.928571</td>\n",
              "    </tr>\n",
              "    <tr>\n",
              "      <th>8</th>\n",
              "      <td>0.410388</td>\n",
              "      <td>0.210526</td>\n",
              "      <td>0.928571</td>\n",
              "      <td>0.210526</td>\n",
              "      <td>0.928571</td>\n",
              "    </tr>\n",
              "    <tr>\n",
              "      <th>9</th>\n",
              "      <td>0.404598</td>\n",
              "      <td>0.210526</td>\n",
              "      <td>1.000000</td>\n",
              "      <td>0.210526</td>\n",
              "      <td>1.000000</td>\n",
              "    </tr>\n",
              "    <tr>\n",
              "      <th>10</th>\n",
              "      <td>0.091022</td>\n",
              "      <td>0.578947</td>\n",
              "      <td>1.000000</td>\n",
              "      <td>0.578947</td>\n",
              "      <td>1.000000</td>\n",
              "    </tr>\n",
              "    <tr>\n",
              "      <th>11</th>\n",
              "      <td>0.062212</td>\n",
              "      <td>0.684211</td>\n",
              "      <td>1.000000</td>\n",
              "      <td>0.684211</td>\n",
              "      <td>1.000000</td>\n",
              "    </tr>\n",
              "    <tr>\n",
              "      <th>12</th>\n",
              "      <td>0.019016</td>\n",
              "      <td>1.000000</td>\n",
              "      <td>1.000000</td>\n",
              "      <td>1.000000</td>\n",
              "      <td>1.000000</td>\n",
              "    </tr>\n",
              "  </tbody>\n",
              "</table>\n",
              "</div>"
            ],
            "text/plain": [
              "          門檻     1-特異度       敏感度  計算的1-特異度    計算的敏感度\n",
              "0   1.999310  0.000000  0.000000  0.000000  0.000000\n",
              "1   0.999310  0.000000  0.071429  0.000000  0.071429\n",
              "2   0.828709  0.000000  0.571429  0.000000  0.571429\n",
              "3   0.772453  0.052632  0.571429  0.052632  0.571429\n",
              "4   0.745319  0.052632  0.714286  0.052632  0.714286\n",
              "5   0.677759  0.105263  0.714286  0.105263  0.714286\n",
              "6   0.500357  0.105263  0.857143  0.105263  0.857143\n",
              "7   0.477635  0.157895  0.928571  0.157895  0.928571\n",
              "8   0.410388  0.210526  0.928571  0.210526  0.928571\n",
              "9   0.404598  0.210526  1.000000  0.210526  1.000000\n",
              "10  0.091022  0.578947  1.000000  0.578947  1.000000\n",
              "11  0.062212  0.684211  1.000000  0.684211  1.000000\n",
              "12  0.019016  1.000000  1.000000  1.000000  1.000000"
            ]
          },
          "metadata": {
            "tags": []
          },
          "execution_count": 3
        }
      ]
    },
    {
      "cell_type": "markdown",
      "metadata": {
        "id": "pKRWTkxDxq3_"
      },
      "source": [
        "3. 用鳶尾花全部的欄位來做羅吉斯迴歸模型預測，請將資料做標準化，並輸出正確率、混亂矩陣和綜合報告。"
      ]
    },
    {
      "cell_type": "code",
      "metadata": {
        "id": "RJg9gITFxq4A",
        "outputId": "eefd70e1-ccbb-4eaa-ece9-fff913178551"
      },
      "source": [
        "from sklearn.datasets import load_iris\n",
        "iris = load_iris()\n",
        "X = pd.DataFrame(iris['data'], columns=iris['feature_names'])\n",
        "y = iris['target']\n",
        "from sklearn.model_selection import train_test_split\n",
        "X_train, X_test, y_train, y_test = train_test_split(X, y, \n",
        "                                                   test_size=0.33, random_state=42)\n",
        "from sklearn.linear_model import LogisticRegression\n",
        "from sklearn.preprocessing import StandardScaler\n",
        "from sklearn.pipeline import make_pipeline\n",
        "model_pl = make_pipeline(\n",
        "    StandardScaler(),\n",
        "    LogisticRegression(solver='liblinear')\n",
        ")\n",
        "model_pl.fit(X_train, y_train)\n",
        "y_pred = model_pl.predict(X_test)\n",
        "\n",
        "from sklearn.metrics import accuracy_score, confusion_matrix, classification_report\n",
        "print('整體正確率:',accuracy_score(y_test, y_pred).round(2))\n",
        "print()\n",
        "cm = confusion_matrix(y_test, y_pred)\n",
        "print(pd.DataFrame(cm, index=['實際1', '實際2','實際3'], columns=['預測1', '預測2','預測3']))\n",
        "print()\n",
        "print(classification_report(y_test, y_pred))"
      ],
      "execution_count": null,
      "outputs": [
        {
          "output_type": "stream",
          "text": [
            "整體正確率: 0.88\n",
            "\n",
            "     預測1  預測2  預測3\n",
            "實際1   19    0    0\n",
            "實際2    0   10    5\n",
            "實際3    0    1   15\n",
            "\n",
            "              precision    recall  f1-score   support\n",
            "\n",
            "           0       1.00      1.00      1.00        19\n",
            "           1       0.91      0.67      0.77        15\n",
            "           2       0.75      0.94      0.83        16\n",
            "\n",
            "    accuracy                           0.88        50\n",
            "   macro avg       0.89      0.87      0.87        50\n",
            "weighted avg       0.89      0.88      0.88        50\n",
            "\n"
          ],
          "name": "stdout"
        }
      ]
    },
    {
      "cell_type": "markdown",
      "metadata": {
        "id": "Kb9NNDY1xq4B"
      },
      "source": [
        "4. 承上例，請依照上例的預測結果，自己寫程式來製作混亂矩陣。提示：用groupby"
      ]
    },
    {
      "cell_type": "code",
      "metadata": {
        "id": "9cNtmFN3xq4B",
        "outputId": "7230a482-1487-4d08-add6-af0133191b81"
      },
      "source": [
        "df_cm = pd.DataFrame(zip(y_test, y_pred), columns=['true','pred'])\n",
        "df_cm.groupby(['true','pred']).size().unstack(1).fillna(0)"
      ],
      "execution_count": null,
      "outputs": [
        {
          "output_type": "execute_result",
          "data": {
            "text/html": [
              "<div>\n",
              "<style scoped>\n",
              "    .dataframe tbody tr th:only-of-type {\n",
              "        vertical-align: middle;\n",
              "    }\n",
              "\n",
              "    .dataframe tbody tr th {\n",
              "        vertical-align: top;\n",
              "    }\n",
              "\n",
              "    .dataframe thead th {\n",
              "        text-align: right;\n",
              "    }\n",
              "</style>\n",
              "<table border=\"1\" class=\"dataframe\">\n",
              "  <thead>\n",
              "    <tr style=\"text-align: right;\">\n",
              "      <th>pred</th>\n",
              "      <th>0</th>\n",
              "      <th>1</th>\n",
              "      <th>2</th>\n",
              "    </tr>\n",
              "    <tr>\n",
              "      <th>true</th>\n",
              "      <th></th>\n",
              "      <th></th>\n",
              "      <th></th>\n",
              "    </tr>\n",
              "  </thead>\n",
              "  <tbody>\n",
              "    <tr>\n",
              "      <th>0</th>\n",
              "      <td>19.0</td>\n",
              "      <td>0.0</td>\n",
              "      <td>0.0</td>\n",
              "    </tr>\n",
              "    <tr>\n",
              "      <th>1</th>\n",
              "      <td>0.0</td>\n",
              "      <td>10.0</td>\n",
              "      <td>5.0</td>\n",
              "    </tr>\n",
              "    <tr>\n",
              "      <th>2</th>\n",
              "      <td>0.0</td>\n",
              "      <td>1.0</td>\n",
              "      <td>15.0</td>\n",
              "    </tr>\n",
              "  </tbody>\n",
              "</table>\n",
              "</div>"
            ],
            "text/plain": [
              "pred     0     1     2\n",
              "true                  \n",
              "0     19.0   0.0   0.0\n",
              "1      0.0  10.0   5.0\n",
              "2      0.0   1.0  15.0"
            ]
          },
          "metadata": {
            "tags": []
          },
          "execution_count": 6
        }
      ]
    }
  ]
}