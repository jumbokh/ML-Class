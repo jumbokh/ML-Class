{
  "nbformat": 4,
  "nbformat_minor": 0,
  "metadata": {
    "kernelspec": {
      "display_name": "Python 3",
      "language": "python",
      "name": "python3"
    },
    "language_info": {
      "codemirror_mode": {
        "name": "ipython",
        "version": 3
      },
      "file_extension": ".py",
      "mimetype": "text/x-python",
      "name": "python",
      "nbconvert_exporter": "python",
      "pygments_lexer": "ipython3",
      "version": "3.7.3"
    },
    "colab": {
      "name": "作業五_謝坤達.ipynb",
      "provenance": [],
      "include_colab_link": true
    },
    "accelerator": "GPU"
  },
  "cells": [
    {
      "cell_type": "markdown",
      "metadata": {
        "id": "view-in-github",
        "colab_type": "text"
      },
      "source": [
        "<a href=\"https://colab.research.google.com/github/jumbokh/ML-Class/blob/main/notebooks/%E4%BD%9C%E6%A5%AD%E4%BA%94_%E8%AC%9D%E5%9D%A4%E9%81%94.ipynb\" target=\"_parent\"><img src=\"https://colab.research.google.com/assets/colab-badge.svg\" alt=\"Open In Colab\"/></a>"
      ]
    },
    {
      "cell_type": "code",
      "metadata": {
        "id": "WntIBzjSd198"
      },
      "source": [
        "%matplotlib inline\n",
        "\n",
        "import numpy as np\n",
        "import matplotlib.pyplot as plt\n",
        "import pandas as pd"
      ],
      "execution_count": 19,
      "outputs": []
    },
    {
      "cell_type": "markdown",
      "metadata": {
        "id": "sxIw1cPad1-H"
      },
      "source": [
        "### 1. 讀入深度學習套件"
      ]
    },
    {
      "cell_type": "code",
      "metadata": {
        "id": "CHTLzsBqd1-K"
      },
      "source": [
        "from tensorflow.keras.preprocessing import sequence\n",
        "from tensorflow.keras.models import Sequential\n",
        "from tensorflow.keras.layers import Dense, Embedding\n",
        "from tensorflow.keras.layers import LSTM\n",
        "from tensorflow.keras.datasets import imdb"
      ],
      "execution_count": 20,
      "outputs": []
    },
    {
      "cell_type": "markdown",
      "metadata": {
        "id": "fKTHpkAvd1-M"
      },
      "source": [
        "### 2. 讀入數據"
      ]
    },
    {
      "cell_type": "code",
      "metadata": {
        "id": "w4QoUPlzd1-O"
      },
      "source": [
        "(x_train, y_train), (x_test, y_test) = imdb.load_data(num_words=10000)"
      ],
      "execution_count": 21,
      "outputs": []
    },
    {
      "cell_type": "code",
      "metadata": {
        "id": "AS0A-ZePd1-P",
        "colab": {
          "base_uri": "https://localhost:8080/"
        },
        "outputId": "6d172e73-dfc2-41cf-bd81-eeff63f7c514"
      },
      "source": [
        "len(x_train)"
      ],
      "execution_count": 22,
      "outputs": [
        {
          "output_type": "execute_result",
          "data": {
            "text/plain": [
              "25000"
            ]
          },
          "metadata": {},
          "execution_count": 22
        }
      ]
    },
    {
      "cell_type": "code",
      "metadata": {
        "id": "8mpWID_Gd1-S",
        "colab": {
          "base_uri": "https://localhost:8080/"
        },
        "outputId": "547bb776-7379-409e-a8c8-2e0abefcd269"
      },
      "source": [
        "len(x_test)"
      ],
      "execution_count": 23,
      "outputs": [
        {
          "output_type": "execute_result",
          "data": {
            "text/plain": [
              "25000"
            ]
          },
          "metadata": {},
          "execution_count": 23
        }
      ]
    },
    {
      "cell_type": "code",
      "metadata": {
        "id": "vR77WSTLd1-U",
        "colab": {
          "base_uri": "https://localhost:8080/"
        },
        "outputId": "9d400974-8cf1-4953-944e-dd269c6137e1"
      },
      "source": [
        "len(x_train[0])"
      ],
      "execution_count": 24,
      "outputs": [
        {
          "output_type": "execute_result",
          "data": {
            "text/plain": [
              "218"
            ]
          },
          "metadata": {},
          "execution_count": 24
        }
      ]
    },
    {
      "cell_type": "code",
      "metadata": {
        "id": "HP3qmlBUd1-V",
        "colab": {
          "base_uri": "https://localhost:8080/"
        },
        "outputId": "55886424-bb36-4675-bea5-0b093ba745f4"
      },
      "source": [
        "len(x_train[1])"
      ],
      "execution_count": 25,
      "outputs": [
        {
          "output_type": "execute_result",
          "data": {
            "text/plain": [
              "189"
            ]
          },
          "metadata": {},
          "execution_count": 25
        }
      ]
    },
    {
      "cell_type": "code",
      "metadata": {
        "id": "NYHK8LdXd1-W",
        "colab": {
          "base_uri": "https://localhost:8080/"
        },
        "outputId": "81b0c4e2-591f-4c3f-cae8-6ba363af9d44"
      },
      "source": [
        "y_train[0]"
      ],
      "execution_count": 26,
      "outputs": [
        {
          "output_type": "execute_result",
          "data": {
            "text/plain": [
              "1"
            ]
          },
          "metadata": {},
          "execution_count": 26
        }
      ]
    },
    {
      "cell_type": "code",
      "metadata": {
        "id": "UFj_8ST4d1-X",
        "colab": {
          "base_uri": "https://localhost:8080/"
        },
        "outputId": "6e0c00c9-80d1-40af-e14d-a8b36b155b89"
      },
      "source": [
        "y_train[1]"
      ],
      "execution_count": 27,
      "outputs": [
        {
          "output_type": "execute_result",
          "data": {
            "text/plain": [
              "0"
            ]
          },
          "metadata": {},
          "execution_count": 27
        }
      ]
    },
    {
      "cell_type": "markdown",
      "metadata": {
        "id": "aBu-rzcBd1-Y"
      },
      "source": [
        "### 3. 資料處理"
      ]
    },
    {
      "cell_type": "code",
      "metadata": {
        "id": "OEjHgBOKd1-Y"
      },
      "source": [
        "x_train = sequence.pad_sequences(x_train, maxlen=100)\n",
        "x_test = sequence.pad_sequences(x_test, maxlen=100)"
      ],
      "execution_count": 28,
      "outputs": []
    },
    {
      "cell_type": "markdown",
      "metadata": {
        "id": "yXiHCO74d1-Z"
      },
      "source": [
        "### 4. step 01: 打造一個函數學習機"
      ]
    },
    {
      "cell_type": "code",
      "metadata": {
        "id": "kB0FKyBCd1-Z"
      },
      "source": [
        "model = Sequential()"
      ],
      "execution_count": 29,
      "outputs": []
    },
    {
      "cell_type": "markdown",
      "metadata": {
        "id": "jQn2tFba2OmT"
      },
      "source": [
        "### 模仿 CNN Dataset 縮小維度"
      ]
    },
    {
      "cell_type": "code",
      "metadata": {
        "id": "C7hiRGzid1-a"
      },
      "source": [
        "model.add(Embedding(10000, 224))"
      ],
      "execution_count": 30,
      "outputs": []
    },
    {
      "cell_type": "markdown",
      "metadata": {
        "id": "64uEn5Ls2hpW"
      },
      "source": [
        "### 取消 Dropout, 並減少 LSTM 數量 128-->64"
      ]
    },
    {
      "cell_type": "code",
      "metadata": {
        "id": "ZlbFJdqfd1-a"
      },
      "source": [
        "model.add(LSTM(64))"
      ],
      "execution_count": 31,
      "outputs": []
    },
    {
      "cell_type": "code",
      "metadata": {
        "id": "iRZNOnE-d1-b"
      },
      "source": [
        "model.add(Dense(1, activation='sigmoid'))"
      ],
      "execution_count": 32,
      "outputs": []
    },
    {
      "cell_type": "code",
      "metadata": {
        "id": "bfJAzQ_kd1-b"
      },
      "source": [
        "model.compile(loss='binary_crossentropy',\n",
        "             optimizer='adam',\n",
        "             metrics=['accuracy'])"
      ],
      "execution_count": 33,
      "outputs": []
    },
    {
      "cell_type": "code",
      "metadata": {
        "id": "ThASFQ87d1-c",
        "colab": {
          "base_uri": "https://localhost:8080/"
        },
        "outputId": "24ff327c-a454-4a56-c4f1-3a2eae43005e"
      },
      "source": [
        "model.summary()"
      ],
      "execution_count": 34,
      "outputs": [
        {
          "output_type": "stream",
          "name": "stdout",
          "text": [
            "Model: \"sequential_1\"\n",
            "_________________________________________________________________\n",
            "Layer (type)                 Output Shape              Param #   \n",
            "=================================================================\n",
            "embedding_1 (Embedding)      (None, None, 224)         2240000   \n",
            "_________________________________________________________________\n",
            "lstm_1 (LSTM)                (None, 64)                73984     \n",
            "_________________________________________________________________\n",
            "dense_1 (Dense)              (None, 1)                 65        \n",
            "=================================================================\n",
            "Total params: 2,314,049\n",
            "Trainable params: 2,314,049\n",
            "Non-trainable params: 0\n",
            "_________________________________________________________________\n"
          ]
        }
      ]
    },
    {
      "cell_type": "markdown",
      "metadata": {
        "id": "3GxZbYhyd1-c"
      },
      "source": [
        "### 5. step 02: 訓練"
      ]
    },
    {
      "cell_type": "markdown",
      "metadata": {
        "id": "NacWnPem20Ii"
      },
      "source": [
        "## 減少至 5 epochs"
      ]
    },
    {
      "cell_type": "code",
      "metadata": {
        "id": "xMHxAsA6d1-d",
        "colab": {
          "base_uri": "https://localhost:8080/"
        },
        "outputId": "3a9c4845-d1a2-4468-f191-f06804492b44"
      },
      "source": [
        "history = model.fit(x_train, y_train, batch_size=32, epochs=5,\n",
        "         validation_data=(x_test, y_test))"
      ],
      "execution_count": 35,
      "outputs": [
        {
          "output_type": "stream",
          "name": "stdout",
          "text": [
            "Epoch 1/5\n",
            "782/782 [==============================] - 31s 34ms/step - loss: 0.4100 - accuracy: 0.8108 - val_loss: 0.3441 - val_accuracy: 0.8499\n",
            "Epoch 2/5\n",
            "782/782 [==============================] - 26s 33ms/step - loss: 0.2546 - accuracy: 0.8993 - val_loss: 0.3564 - val_accuracy: 0.8497\n",
            "Epoch 3/5\n",
            "782/782 [==============================] - 26s 33ms/step - loss: 0.1697 - accuracy: 0.9347 - val_loss: 0.4005 - val_accuracy: 0.8488\n",
            "Epoch 4/5\n",
            "782/782 [==============================] - 26s 33ms/step - loss: 0.1249 - accuracy: 0.9555 - val_loss: 0.4384 - val_accuracy: 0.8409\n",
            "Epoch 5/5\n",
            "782/782 [==============================] - 26s 33ms/step - loss: 0.0949 - accuracy: 0.9666 - val_loss: 0.5053 - val_accuracy: 0.8345\n"
          ]
        }
      ]
    },
    {
      "cell_type": "markdown",
      "metadata": {
        "id": "l5W5Nve47YMT"
      },
      "source": [
        "### 減少參數量後, 訓練時間原為: 512s/epoch 變為: 26s/epoch\n",
        "### 準確度(Accuracy) 在訓練 3epoch之後增加緩慢, \n",
        "### 雖然持續訓練到 10 epochs之後 trainning accuracy 會達到 0.98\n",
        "### 但是 val_accuracy 停留在 0.83\n",
        "### 所以此模型架構無法依調參數改善過擬合情形 "
      ]
    },
    {
      "cell_type": "code",
      "metadata": {
        "colab": {
          "base_uri": "https://localhost:8080/"
        },
        "id": "9PF9lbM43IFQ",
        "outputId": "785e5747-a237-4c4e-89de-b4f0b78b12c5"
      },
      "source": [
        "history_dict = history.history"
      ],
      "execution_count": 36,
      "outputs": [
        {
          "output_type": "stream",
          "name": "stdout",
          "text": [
            "<built-in method keys of dict object at 0x7fc952fb9050>\n"
          ]
        }
      ]
    },
    {
      "cell_type": "markdown",
      "metadata": {
        "id": "Jf3Dt0W5d1-d"
      },
      "source": [
        "### 換個存檔方式\n",
        "\n",
        "這次是把 model 和訓練權重分開存, 使用上更有彈性。"
      ]
    },
    {
      "cell_type": "code",
      "metadata": {
        "id": "bCD3Oined1-e"
      },
      "source": [
        "model_json = model.to_json()\n",
        "open('new_imdb_model_architecture.json', 'w').write(model_json)\n",
        "model.save_weights('new_imdb_model_weights.h5')"
      ],
      "execution_count": 37,
      "outputs": []
    },
    {
      "cell_type": "code",
      "metadata": {
        "colab": {
          "base_uri": "https://localhost:8080/"
        },
        "id": "JPU0eyLr4kX-",
        "outputId": "6497fa4d-ab43-4609-da0c-fd458563d06f"
      },
      "source": [
        "history_dict.keys()"
      ],
      "execution_count": 42,
      "outputs": [
        {
          "output_type": "execute_result",
          "data": {
            "text/plain": [
              "dict_keys(['loss', 'accuracy', 'val_loss', 'val_accuracy'])"
            ]
          },
          "metadata": {},
          "execution_count": 42
        }
      ]
    },
    {
      "cell_type": "code",
      "metadata": {
        "colab": {
          "base_uri": "https://localhost:8080/",
          "height": 313
        },
        "id": "Nfv0xenD4nLe",
        "outputId": "a9f918ce-2544-4776-afa4-a408c719cb3b"
      },
      "source": [
        "acc_values = history_dict['accuracy']\n",
        "val_acc_values = history_dict['val_accuracy']\n",
        "epochs = range(1, (len(history_dict['accuracy']) + 1))\n",
        "plt.clf()\n",
        "plt.gcf()\n",
        "plt.title('Train History')\n",
        "plt.ylabel('Accuracy')\n",
        "plt.xlabel('Epoch')\n",
        "plt.legend(['train', 'validation'], loc='upper left')\n",
        "plt.plot(epochs, acc_values, 'bo', label='Training acc')\n",
        "plt.plot(epochs, val_acc_values, 'b', label='Validation acc')"
      ],
      "execution_count": 44,
      "outputs": [
        {
          "output_type": "execute_result",
          "data": {
            "text/plain": [
              "[<matplotlib.lines.Line2D at 0x7fc956663d10>]"
            ]
          },
          "metadata": {},
          "execution_count": 44
        },
        {
          "output_type": "display_data",
          "data": {
            "image/png": "[encoded data removed]",
            "text/plain": [
              "<Figure size 432x288 with 1 Axes>"
            ]
          },
          "metadata": {
            "needs_background": "light"
          }
        }
      ]
    },
    {
      "cell_type": "code",
      "metadata": {
        "colab": {
          "base_uri": "https://localhost:8080/",
          "height": 313
        },
        "id": "nWmLuy0o5zyy",
        "outputId": "c0ac1a60-b9d5-4697-b6d0-e0884e727a23"
      },
      "source": [
        "loss_values = history_dict['loss']\n",
        "val_loss_values = history_dict['val_loss']\n",
        "epochs = range(1, (len(history_dict['loss']) + 1))\n",
        "plt.clf()\n",
        "plt.gcf()\n",
        "plt.title('Train History')\n",
        "plt.ylabel('loss')\n",
        "plt.xlabel('Epoch')\n",
        "plt.legend(['train', 'validation'], loc='upper left')\n",
        "plt.plot(epochs, loss_values, 'bo', label='Training loss')\n",
        "plt.plot(epochs, val_loss_values, 'b', label='Validation loss')"
      ],
      "execution_count": 45,
      "outputs": [
        {
          "output_type": "execute_result",
          "data": {
            "text/plain": [
              "[<matplotlib.lines.Line2D at 0x7fc955cf58d0>]"
            ]
          },
          "metadata": {},
          "execution_count": 45
        },
        {
          "output_type": "display_data",
          "data": {
            "image/png": "[encoded data removed]",
            "text/plain": [
              "<Figure size 432x288 with 1 Axes>"
            ]
          },
          "metadata": {
            "needs_background": "light"
          }
        }
      ]
    }
  ]
}