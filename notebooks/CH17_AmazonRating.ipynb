{
  "nbformat": 4,
  "nbformat_minor": 0,
  "metadata": {
    "colab": {
      "name": "CH17-AmazonRating.ipynb",
      "provenance": [],
      "authorship_tag": "ABX9TyPhLZNRh/hZZ4Y5Jda9GVgU",
      "include_colab_link": true
    },
    "kernelspec": {
      "name": "python3",
      "display_name": "Python 3"
    },
    "language_info": {
      "name": "python"
    }
  },
  "cells": [
    {
      "cell_type": "markdown",
      "metadata": {
        "id": "view-in-github",
        "colab_type": "text"
      },
      "source": [
        "<a href=\"https://colab.research.google.com/github/jumbokh/ML-Class/blob/main/notebooks/CH17_AmazonRating.ipynb\" target=\"_parent\"><img src=\"https://colab.research.google.com/assets/colab-badge.svg\" alt=\"Open In Colab\"/></a>"
      ]
    },
    {
      "cell_type": "markdown",
      "metadata": {
        "id": "lMkRl1nX8nAP"
      },
      "source": [
        "### Data Link: [kindle_rating.csv](https://drive.google.com/file/d/1R90m7CltSb4cxTF12I0mQhNAeng590Tu/view?usp=sharing)"
      ]
    },
    {
      "cell_type": "code",
      "metadata": {
        "colab": {
          "base_uri": "https://localhost:8080/",
          "height": 204
        },
        "id": "VCUDMx7R8TUi",
        "outputId": "8e2236a9-8ece-4836-b21d-af11c5636c60"
      },
      "source": [
        "import pandas as pd\n",
        "import numpy as np\n",
        "import matplotlib.pyplot as plt\n",
        "import seaborn as sns\n",
        "%matplotlib inline\n",
        "%config InlineBackend.figure_format = 'retina'\n",
        "import warnings\n",
        "warnings.filterwarnings('ignore')\n",
        "\n",
        "df= pd.read_csv('kindle_rating.csv', parse_dates=['date'])\n",
        "df.head()"
      ],
      "execution_count": 1,
      "outputs": [
        {
          "output_type": "execute_result",
          "data": {
            "text/html": [
              "<div>\n",
              "<style scoped>\n",
              "    .dataframe tbody tr th:only-of-type {\n",
              "        vertical-align: middle;\n",
              "    }\n",
              "\n",
              "    .dataframe tbody tr th {\n",
              "        vertical-align: top;\n",
              "    }\n",
              "\n",
              "    .dataframe thead th {\n",
              "        text-align: right;\n",
              "    }\n",
              "</style>\n",
              "<table border=\"1\" class=\"dataframe\">\n",
              "  <thead>\n",
              "    <tr style=\"text-align: right;\">\n",
              "      <th></th>\n",
              "      <th>id</th>\n",
              "      <th>rating</th>\n",
              "      <th>title</th>\n",
              "      <th>date</th>\n",
              "      <th>content</th>\n",
              "    </tr>\n",
              "  </thead>\n",
              "  <tbody>\n",
              "    <tr>\n",
              "      <th>0</th>\n",
              "      <td>Professor Nishanth</td>\n",
              "      <td>5</td>\n",
              "      <td>An outstanding refresh of the base Kindle at a...</td>\n",
              "      <td>2019-04-15</td>\n",
              "      <td>Original review: April 15, 2019, and two updat...</td>\n",
              "    </tr>\n",
              "    <tr>\n",
              "      <th>1</th>\n",
              "      <td>Beverly K</td>\n",
              "      <td>3</td>\n",
              "      <td>Base Kindle gets an upgrade\\n</td>\n",
              "      <td>2019-04-15</td>\n",
              "      <td>The pros: I like that you have a choice of col...</td>\n",
              "    </tr>\n",
              "    <tr>\n",
              "      <th>2</th>\n",
              "      <td>Gwaredd Thomas</td>\n",
              "      <td>1</td>\n",
              "      <td>Lower ppi - Not good.\\n</td>\n",
              "      <td>2019-04-15</td>\n",
              "      <td>I wouldn't purchase this product for the follo...</td>\n",
              "    </tr>\n",
              "    <tr>\n",
              "      <th>3</th>\n",
              "      <td>Lynn</td>\n",
              "      <td>5</td>\n",
              "      <td>Greatly Improved Basic Kindle\\n</td>\n",
              "      <td>2019-04-15</td>\n",
              "      <td>Don't buy into the petty negative reviews. The...</td>\n",
              "    </tr>\n",
              "    <tr>\n",
              "      <th>4</th>\n",
              "      <td>A.B.</td>\n",
              "      <td>4</td>\n",
              "      <td>Pleasant updates to the \"base\" Kindle\\n</td>\n",
              "      <td>2019-04-15</td>\n",
              "      <td>I had a Kindle touch years ago and had stopped...</td>\n",
              "    </tr>\n",
              "  </tbody>\n",
              "</table>\n",
              "</div>"
            ],
            "text/plain": [
              "                   id  ...                                            content\n",
              "0  Professor Nishanth  ...  Original review: April 15, 2019, and two updat...\n",
              "1           Beverly K  ...  The pros: I like that you have a choice of col...\n",
              "2      Gwaredd Thomas  ...  I wouldn't purchase this product for the follo...\n",
              "3                Lynn  ...  Don't buy into the petty negative reviews. The...\n",
              "4                A.B.  ...  I had a Kindle touch years ago and had stopped...\n",
              "\n",
              "[5 rows x 5 columns]"
            ]
          },
          "metadata": {
            "tags": []
          },
          "execution_count": 1
        }
      ]
    },
    {
      "cell_type": "code",
      "metadata": {
        "colab": {
          "base_uri": "https://localhost:8080/"
        },
        "id": "V8q5qXZX85Q0",
        "outputId": "0e724fd8-27cd-496a-cd70-75d1ba8b9581"
      },
      "source": [
        "df.info()"
      ],
      "execution_count": 2,
      "outputs": [
        {
          "output_type": "stream",
          "text": [
            "<class 'pandas.core.frame.DataFrame'>\n",
            "RangeIndex: 2780 entries, 0 to 2779\n",
            "Data columns (total 5 columns):\n",
            " #   Column   Non-Null Count  Dtype         \n",
            "---  ------   --------------  -----         \n",
            " 0   id       2780 non-null   object        \n",
            " 1   rating   2780 non-null   int64         \n",
            " 2   title    2780 non-null   object        \n",
            " 3   date     2780 non-null   datetime64[ns]\n",
            " 4   content  2780 non-null   object        \n",
            "dtypes: datetime64[ns](1), int64(1), object(3)\n",
            "memory usage: 108.7+ KB\n"
          ],
          "name": "stdout"
        }
      ]
    },
    {
      "cell_type": "code",
      "metadata": {
        "colab": {
          "base_uri": "https://localhost:8080/",
          "height": 204
        },
        "id": "CqhWlWi09Ah9",
        "outputId": "e81bdb82-2d32-4702-a604-95a98e407fd2"
      },
      "source": [
        "size = df['rating'].value_counts().sort_index()\n",
        "pct = df['rating'].value_counts(normalize=True).round(2).sort_index()\n",
        "pd.DataFrame(zip(size, pct), columns=['次數', '百分比'], index=range(1,6))"
      ],
      "execution_count": 3,
      "outputs": [
        {
          "output_type": "execute_result",
          "data": {
            "text/html": [
              "<div>\n",
              "<style scoped>\n",
              "    .dataframe tbody tr th:only-of-type {\n",
              "        vertical-align: middle;\n",
              "    }\n",
              "\n",
              "    .dataframe tbody tr th {\n",
              "        vertical-align: top;\n",
              "    }\n",
              "\n",
              "    .dataframe thead th {\n",
              "        text-align: right;\n",
              "    }\n",
              "</style>\n",
              "<table border=\"1\" class=\"dataframe\">\n",
              "  <thead>\n",
              "    <tr style=\"text-align: right;\">\n",
              "      <th></th>\n",
              "      <th>次數</th>\n",
              "      <th>百分比</th>\n",
              "    </tr>\n",
              "  </thead>\n",
              "  <tbody>\n",
              "    <tr>\n",
              "      <th>1</th>\n",
              "      <td>219</td>\n",
              "      <td>0.08</td>\n",
              "    </tr>\n",
              "    <tr>\n",
              "      <th>2</th>\n",
              "      <td>134</td>\n",
              "      <td>0.05</td>\n",
              "    </tr>\n",
              "    <tr>\n",
              "      <th>3</th>\n",
              "      <td>235</td>\n",
              "      <td>0.08</td>\n",
              "    </tr>\n",
              "    <tr>\n",
              "      <th>4</th>\n",
              "      <td>414</td>\n",
              "      <td>0.15</td>\n",
              "    </tr>\n",
              "    <tr>\n",
              "      <th>5</th>\n",
              "      <td>1778</td>\n",
              "      <td>0.64</td>\n",
              "    </tr>\n",
              "  </tbody>\n",
              "</table>\n",
              "</div>"
            ],
            "text/plain": [
              "     次數   百分比\n",
              "1   219  0.08\n",
              "2   134  0.05\n",
              "3   235  0.08\n",
              "4   414  0.15\n",
              "5  1778  0.64"
            ]
          },
          "metadata": {
            "tags": []
          },
          "execution_count": 3
        }
      ]
    },
    {
      "cell_type": "code",
      "metadata": {
        "colab": {
          "base_uri": "https://localhost:8080/"
        },
        "id": "I4p88xlq9FhD",
        "outputId": "6bd24afa-5e4f-44de-8ba5-7848fd2a4e5d"
      },
      "source": [
        "df['rating'] = (df['rating'] > 3).map({True:1 , False:0})\n",
        "df['rating'].value_counts()"
      ],
      "execution_count": 4,
      "outputs": [
        {
          "output_type": "execute_result",
          "data": {
            "text/plain": [
              "1    2192\n",
              "0     588\n",
              "Name: rating, dtype: int64"
            ]
          },
          "metadata": {
            "tags": []
          },
          "execution_count": 4
        }
      ]
    },
    {
      "cell_type": "code",
      "metadata": {
        "colab": {
          "base_uri": "https://localhost:8080/"
        },
        "id": "4vjKp3k29Jsj",
        "outputId": "836619f5-5732-463a-9c2c-0d7cae4d6b15"
      },
      "source": [
        "# ch17-5\n",
        "X = df['content']\n",
        "y = df['rating']\n",
        "from sklearn.model_selection import train_test_split\n",
        "X_train, X_test, y_train, y_test = train_test_split(X, y, \n",
        "                                                    test_size=0.2, random_state=42)\n",
        "X_train.head()"
      ],
      "execution_count": 5,
      "outputs": [
        {
          "output_type": "execute_result",
          "data": {
            "text/plain": [
              "315     arrived with no instructions.  did not respond...\n",
              "2769    Used it for about a month and so far all is gr...\n",
              "2635                         Love the light! Everything\\n\n",
              "2066         Hard to figure but when done great product\\n\n",
              "2195            Compact easy to use & good battery life\\n\n",
              "Name: content, dtype: object"
            ]
          },
          "metadata": {
            "tags": []
          },
          "execution_count": 5
        }
      ]
    },
    {
      "cell_type": "code",
      "metadata": {
        "colab": {
          "base_uri": "https://localhost:8080/"
        },
        "id": "alK9A-_X9TPO",
        "outputId": "7dd46519-b1ca-43af-f363-5249cf48a49e"
      },
      "source": [
        "# ch17-6\n",
        "from sklearn.naive_bayes import MultinomialNB\n",
        "from sklearn.pipeline import make_pipeline\n",
        "from sklearn.feature_extraction.text import CountVectorizer\n",
        "from sklearn.metrics import confusion_matrix, accuracy_score, classification_report\n",
        "\n",
        "model_pl = make_pipeline(CountVectorizer(stop_words='english'), MultinomialNB())\n",
        "model_pl.fit(X_train, y_train)\n",
        "y_pred = model_pl.predict(X_test)\n",
        "score = model_pl.score(X_test, y_test)\n",
        "print('測試集的結果', score.round(3))\n",
        "print(confusion_matrix(y_test, y_pred))\n",
        "print('綜合報告')\n",
        "print(classification_report(y_test, y_pred))"
      ],
      "execution_count": 6,
      "outputs": [
        {
          "output_type": "stream",
          "text": [
            "測試集的結果 0.853\n",
            "[[ 54  63]\n",
            " [ 19 420]]\n",
            "綜合報告\n",
            "              precision    recall  f1-score   support\n",
            "\n",
            "           0       0.74      0.46      0.57       117\n",
            "           1       0.87      0.96      0.91       439\n",
            "\n",
            "    accuracy                           0.85       556\n",
            "   macro avg       0.80      0.71      0.74       556\n",
            "weighted avg       0.84      0.85      0.84       556\n",
            "\n"
          ],
          "name": "stdout"
        }
      ]
    },
    {
      "cell_type": "code",
      "metadata": {
        "colab": {
          "base_uri": "https://localhost:8080/"
        },
        "id": "n-MdKXmD9ZfA",
        "outputId": "fe8fd010-b6e9-4cdd-cd4d-c94e465aa617"
      },
      "source": [
        "# ch17-7\n",
        "from imblearn.under_sampling import RandomUnderSampler\n",
        "from imblearn.pipeline import make_pipeline\n",
        "model_pl = make_pipeline(CountVectorizer(stop_words='english'), \n",
        "                         RandomUnderSampler(),\n",
        "                         MultinomialNB())\n",
        "model_pl.fit(X_train, y_train)\n",
        "y_pred = model_pl.predict(X_test)\n",
        "score = model_pl.score(X_test, y_test)\n",
        "print('測試集的結果', score.round(3))\n",
        "y_pred = model_pl.predict(X_test)\n",
        "print(confusion_matrix(y_test, y_pred))\n",
        "print('綜合報告')\n",
        "print(classification_report(y_test, y_pred))"
      ],
      "execution_count": 7,
      "outputs": [
        {
          "output_type": "stream",
          "text": [
            "測試集的結果 0.786\n",
            "[[102  15]\n",
            " [104 335]]\n",
            "綜合報告\n",
            "              precision    recall  f1-score   support\n",
            "\n",
            "           0       0.50      0.87      0.63       117\n",
            "           1       0.96      0.76      0.85       439\n",
            "\n",
            "    accuracy                           0.79       556\n",
            "   macro avg       0.73      0.82      0.74       556\n",
            "weighted avg       0.86      0.79      0.80       556\n",
            "\n"
          ],
          "name": "stdout"
        }
      ]
    },
    {
      "cell_type": "code",
      "metadata": {
        "colab": {
          "base_uri": "https://localhost:8080/"
        },
        "id": "2aQksViB9glI",
        "outputId": "d137df1d-d72d-476e-e2f2-43299c54ca4f"
      },
      "source": [
        "# ch17-8\n",
        "from imblearn.over_sampling import SMOTE\n",
        "\n",
        "model_pl = make_pipeline(CountVectorizer(stop_words='english'), \n",
        "                         SMOTE(),\n",
        "                         MultinomialNB())\n",
        "model_pl.fit(X_train, y_train)\n",
        "y_pred = model_pl.predict(X_test)\n",
        "score = model_pl.score(X_test, y_test)\n",
        "print('測試集的結果', score.round(3))\n",
        "y_pred = model_pl.predict(X_test)\n",
        "print(confusion_matrix(y_test, y_pred))\n",
        "print('綜合報告')\n",
        "print(classification_report(y_test, y_pred))"
      ],
      "execution_count": 8,
      "outputs": [
        {
          "output_type": "stream",
          "text": [
            "測試集的結果 0.842\n",
            "[[ 90  27]\n",
            " [ 61 378]]\n",
            "綜合報告\n",
            "              precision    recall  f1-score   support\n",
            "\n",
            "           0       0.60      0.77      0.67       117\n",
            "           1       0.93      0.86      0.90       439\n",
            "\n",
            "    accuracy                           0.84       556\n",
            "   macro avg       0.76      0.82      0.78       556\n",
            "weighted avg       0.86      0.84      0.85       556\n",
            "\n"
          ],
          "name": "stdout"
        }
      ]
    },
    {
      "cell_type": "code",
      "metadata": {
        "colab": {
          "base_uri": "https://localhost:8080/"
        },
        "id": "zsNygQVz9ocu",
        "outputId": "20f105e1-d038-4e69-c4fd-4acf58dd0624"
      },
      "source": [
        "df['title'].head()"
      ],
      "execution_count": 9,
      "outputs": [
        {
          "output_type": "execute_result",
          "data": {
            "text/plain": [
              "0    An outstanding refresh of the base Kindle at a...\n",
              "1                        Base Kindle gets an upgrade\\n\n",
              "2                              Lower ppi - Not good.\\n\n",
              "3                      Greatly Improved Basic Kindle\\n\n",
              "4              Pleasant updates to the \"base\" Kindle\\n\n",
              "Name: title, dtype: object"
            ]
          },
          "metadata": {
            "tags": []
          },
          "execution_count": 9
        }
      ]
    },
    {
      "cell_type": "code",
      "metadata": {
        "colab": {
          "base_uri": "https://localhost:8080/"
        },
        "id": "Dc5dLMCQ9s_Q",
        "outputId": "e82a3fcd-fed6-4a45-ac03-66ee2b5763c1"
      },
      "source": [
        "# ch17-10\n",
        "X = df[['title', 'content']]\n",
        "from sklearn.compose import ColumnTransformer\n",
        "data_pl = ColumnTransformer([\n",
        "    ('title', CountVectorizer(stop_words='english'), 'title'),\n",
        "    ('content', CountVectorizer(stop_words='english'), 'content')\n",
        "])\n",
        "data_pl.fit_transform(X).toarray()"
      ],
      "execution_count": 10,
      "outputs": [
        {
          "output_type": "execute_result",
          "data": {
            "text/plain": [
              "array([[0, 0, 0, ..., 0, 0, 0],\n",
              "       [0, 0, 0, ..., 0, 0, 0],\n",
              "       [0, 0, 0, ..., 0, 0, 0],\n",
              "       ...,\n",
              "       [0, 0, 0, ..., 0, 0, 0],\n",
              "       [0, 0, 0, ..., 0, 0, 0],\n",
              "       [0, 0, 0, ..., 0, 0, 0]], dtype=int64)"
            ]
          },
          "metadata": {
            "tags": []
          },
          "execution_count": 10
        }
      ]
    },
    {
      "cell_type": "code",
      "metadata": {
        "colab": {
          "base_uri": "https://localhost:8080/"
        },
        "id": "oa-ytyaz9yfk",
        "outputId": "13fff359-394d-4d73-e779-b726882f4399"
      },
      "source": [
        "# ch17-11\n",
        "X_train, X_test, y_train, y_test = train_test_split(X, y, test_size=0.2, \n",
        "                                                    random_state=42)\n",
        "model_pl = make_pipeline(data_pl, MultinomialNB())\n",
        "model_pl.fit(X_train, y_train)\n",
        "y_pred = model_pl.predict(X_test)\n",
        "score = model_pl.score(X_test, y_test)\n",
        "print('測試集的結果', score.round(3))\n",
        "y_pred = model_pl.predict(X_test)\n",
        "print(confusion_matrix(y_test, y_pred))\n",
        "print('綜合報告')\n",
        "print(classification_report(y_test, y_pred))"
      ],
      "execution_count": 11,
      "outputs": [
        {
          "output_type": "stream",
          "text": [
            "測試集的結果 0.871\n",
            "[[ 66  51]\n",
            " [ 21 418]]\n",
            "綜合報告\n",
            "              precision    recall  f1-score   support\n",
            "\n",
            "           0       0.76      0.56      0.65       117\n",
            "           1       0.89      0.95      0.92       439\n",
            "\n",
            "    accuracy                           0.87       556\n",
            "   macro avg       0.82      0.76      0.78       556\n",
            "weighted avg       0.86      0.87      0.86       556\n",
            "\n"
          ],
          "name": "stdout"
        }
      ]
    },
    {
      "cell_type": "code",
      "metadata": {
        "colab": {
          "base_uri": "https://localhost:8080/"
        },
        "id": "2tXxn9kg97UU",
        "outputId": "f1e90ce7-9123-409f-eaf6-0c8de120b376"
      },
      "source": [
        "# ch17-12\n",
        "np.random.seed(42)\n",
        "model_pl = make_pipeline(data_pl, RandomUnderSampler(), MultinomialNB())\n",
        "model_pl.fit(X_train, y_train)\n",
        "y_pred = model_pl.predict(X_test)\n",
        "score = model_pl.score(X_test, y_test)\n",
        "print('測試集的結果', score.round(3))\n",
        "y_pred = model_pl.predict(X_test)\n",
        "print(confusion_matrix(y_test, y_pred))\n",
        "print('綜合報告')\n",
        "print(classification_report(y_test, y_pred))"
      ],
      "execution_count": 12,
      "outputs": [
        {
          "output_type": "stream",
          "text": [
            "測試集的結果 0.838\n",
            "[[100  17]\n",
            " [ 73 366]]\n",
            "綜合報告\n",
            "              precision    recall  f1-score   support\n",
            "\n",
            "           0       0.58      0.85      0.69       117\n",
            "           1       0.96      0.83      0.89       439\n",
            "\n",
            "    accuracy                           0.84       556\n",
            "   macro avg       0.77      0.84      0.79       556\n",
            "weighted avg       0.88      0.84      0.85       556\n",
            "\n"
          ],
          "name": "stdout"
        }
      ]
    }
  ]
}