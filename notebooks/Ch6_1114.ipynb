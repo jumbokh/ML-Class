{
  "nbformat": 4,
  "nbformat_minor": 0,
  "metadata": {
    "colab": {
      "name": "Ch6-1114.ipynb",
      "provenance": [],
      "authorship_tag": "ABX9TyN6KYsklg/s88x6ssEXOlKe",
      "include_colab_link": true
    },
    "kernelspec": {
      "name": "python3",
      "display_name": "Python 3"
    },
    "language_info": {
      "name": "python"
    }
  },
  "cells": [
    {
      "cell_type": "markdown",
      "metadata": {
        "id": "view-in-github",
        "colab_type": "text"
      },
      "source": [
        "<a href=\"https://colab.research.google.com/github/jumbokh/ML-Class/blob/main/notebooks/Ch6_1114.ipynb\" target=\"_parent\"><img src=\"https://colab.research.google.com/assets/colab-badge.svg\" alt=\"Open In Colab\"/></a>"
      ]
    },
    {
      "cell_type": "code",
      "metadata": {
        "colab": {
          "base_uri": "https://localhost:8080/"
        },
        "id": "iLIMeDXt2viY",
        "outputId": "eb3a93c4-cc4b-4a1f-fce9-7c0cc27b5497"
      },
      "source": [
        "#sumn_def.py功能: 主程式呼叫1層自訂函數\n",
        "def sumnfunc(n):\n",
        "#A_func功能: 計算累加\n",
        "    sumn=0\n",
        "    for i in range(n+1):\n",
        "        sumn=sumn+i\n",
        "    return(sumn)\n",
        "num=int(input('輸入一個正整數n = '))    \n",
        "result=sumnfunc(num)\n",
        "print('1累加到n的結果 = ', result)"
      ],
      "execution_count": 1,
      "outputs": [
        {
          "output_type": "stream",
          "name": "stdout",
          "text": [
            "輸入一個正整數n = 10\n",
            "1累加到n的結果 =  55\n"
          ]
        }
      ]
    },
    {
      "cell_type": "code",
      "metadata": {
        "colab": {
          "base_uri": "https://localhost:8080/"
        },
        "id": "qkprxDRe3FbC",
        "outputId": "be04621e-ff53-481e-d5bb-2d6df6917ff0"
      },
      "source": [
        "#E_6_2.py功能: 主程式呼叫2層的自訂函數\n",
        "def callfunc(n):\n",
        "#callfunc功能: 檢查數值型別與呼叫函數\n",
        "    if n.isdigit():\n",
        "        number=int(n)        \n",
        "        print('1累加到n的結果 = ', sumnfunc(number))        \n",
        "        print('1累乘到n的結果 = ', prodnfunc(number))        \n",
        "    else:\n",
        "        print('請輸入數值資料')    \n",
        "def sumnfunc(n):\n",
        "#sumnfunc: 計算累加    \n",
        "    sumn=0\n",
        "    for i in range(1,n+1):\n",
        "        sumn=sumn+i\n",
        "    return(sumn)   \n",
        "def prodnfunc(n):\n",
        "#prodnfunc功能: 計算累乘\n",
        "    prodn=1\n",
        "    for i in range(1,n+1):\n",
        "        prodn=prodn*i\n",
        "    return(prodn)    \n",
        "num=input('輸入一個正整數n = ')\n",
        "callfunc(num)\n"
      ],
      "execution_count": 2,
      "outputs": [
        {
          "output_type": "stream",
          "name": "stdout",
          "text": [
            "輸入一個正整數n = 10\n",
            "1累加到n的結果 =  55\n",
            "1累乘到n的結果 =  3628800\n"
          ]
        }
      ]
    },
    {
      "cell_type": "code",
      "metadata": {
        "colab": {
          "base_uri": "https://localhost:8080/"
        },
        "id": "1SRRXdQd3XnZ",
        "outputId": "997cc0fe-a0a5-417d-ff8c-5667c9dc786b"
      },
      "source": [
        "#descrip_stat.py功能: 以自訂函數寫法計算敍述統計並回傳\n",
        "import math\n",
        "def depsta(sample):\n",
        "#depsta功能: 計算樣本的敍述統計    \n",
        "    maxv=max(sample)\n",
        "    minv=min(sample)\n",
        "    meanv=sum(sample)/len(sample)\n",
        "    sumi=0\n",
        "    for i in range(0, len(sample)):\n",
        "        sumi=sumi+((sample[i]-meanv)**2)\n",
        "    varv=sumi/(len(sample)-1)    \n",
        "    stdv=math.sqrt(varv)\n",
        "    return(maxv, minv, meanv, varv, stdv)\n",
        "sample=[5,8,9,6,4,1,5,3,6,2]\n",
        "print('max=%2.1f\\nmin=%2.1f\\nmean=%2.1f\\nvar=%2.1f\\nstd=%2.1f\\n'%(depsta(sample)))"
      ],
      "execution_count": 5,
      "outputs": [
        {
          "output_type": "stream",
          "name": "stdout",
          "text": [
            "max=9.0\n",
            "min=1.0\n",
            "mean=4.9\n",
            "var=6.3\n",
            "std=2.5\n",
            "\n"
          ]
        }
      ]
    },
    {
      "cell_type": "code",
      "metadata": {
        "colab": {
          "base_uri": "https://localhost:8080/"
        },
        "id": "2OwCotoA4F_U",
        "outputId": "8d47e59a-537d-4888-be57-700effa8dbc7"
      },
      "source": [
        "#E_6_4.py 功能: 傳址的操作範例\n",
        "def callbyreference(number):\n",
        "#callbyreference函數功能: 計算平均新增到傳入參數之後    \n",
        "    n=len(number)\n",
        "    meanv=sum(number)/n\n",
        "    number.append(meanv)\n",
        "    return number\n",
        "sample=[5,8,9,6,4,1,5,3,6,2]\n",
        "print('呼叫函數前的原始值', sample)\n",
        "print('呼叫函數後的內容值', callbyreference(sample))\n",
        "print('呼叫函數後的原始值也會被改變', sample)"
      ],
      "execution_count": 6,
      "outputs": [
        {
          "output_type": "stream",
          "name": "stdout",
          "text": [
            "呼叫函數前的原始值 [5, 8, 9, 6, 4, 1, 5, 3, 6, 2]\n",
            "呼叫函數後的內容值 [5, 8, 9, 6, 4, 1, 5, 3, 6, 2, 4.9]\n",
            "呼叫函數後的原始值也會被改變 [5, 8, 9, 6, 4, 1, 5, 3, 6, 2, 4.9]\n"
          ]
        }
      ]
    },
    {
      "cell_type": "code",
      "metadata": {
        "colab": {
          "base_uri": "https://localhost:8080/"
        },
        "id": "XNzVMdco4Y2W",
        "outputId": "7d5b351d-0d71-45bf-afae-99c1ec9c59fa"
      },
      "source": [
        "#E_6_5.py 功能: 傳值的操作範例\n",
        "def callbyvalue(number):\n",
        "#callbyvalue函數功能: 計算參數乘上自己後回傳    \n",
        "    number*=number\n",
        "    return number\n",
        "sample=4\n",
        "print('呼叫函數前的原始值', sample)\n",
        "print('呼叫函數後的內容值', callbyvalue(sample))\n",
        "print('呼叫函數前的原始值不會被改變', sample)"
      ],
      "execution_count": 7,
      "outputs": [
        {
          "output_type": "stream",
          "name": "stdout",
          "text": [
            "呼叫函數前的原始值 4\n",
            "呼叫函數後的內容值 16\n",
            "呼叫函數前的原始值不會被改變 4\n"
          ]
        }
      ]
    },
    {
      "cell_type": "code",
      "metadata": {
        "colab": {
          "base_uri": "https://localhost:8080/"
        },
        "id": "dpZPT2fU4srD",
        "outputId": "0c23f72a-e503-4614-f2f6-2d4613aca244"
      },
      "source": [
        "#E_6_6.py 功能: 實際參數與形式參數的函數傳遞參數範例\n",
        "def polyequ(x):\n",
        "#polyequ: 計算(x**2)+(4*x)+6的結果    \n",
        "    return (x**2)+(4*x)+6\n",
        "sample=4    \n",
        "result=polyequ(sample)\n",
        "print('呼叫函數(x**2)+(4*x)+6 =', result)"
      ],
      "execution_count": 8,
      "outputs": [
        {
          "output_type": "stream",
          "name": "stdout",
          "text": [
            "呼叫函數(x**2)+(4*x)+6 = 38\n"
          ]
        }
      ]
    },
    {
      "cell_type": "code",
      "metadata": {
        "colab": {
          "base_uri": "https://localhost:8080/"
        },
        "id": "FlnPM5fQ41mt",
        "outputId": "4cab9fdb-04a7-40f3-c5cb-06b13385a3f7"
      },
      "source": [
        "#E_6_7.py 功能: 位置參數的使用範例\n",
        "def polyequ(x):\n",
        "#polyequ: 計算(x**2)+(4*x)+6的結果    \n",
        "    return (x**2)+(4*x)+6\n",
        "result=polyequ(4)\n",
        "print('呼叫函數(x**2)+(4*x)+6 =', result)\n",
        "\n",
        "\n",
        "#sample=4    \n",
        "#result=polyequ(sample)"
      ],
      "execution_count": 9,
      "outputs": [
        {
          "output_type": "stream",
          "name": "stdout",
          "text": [
            "呼叫函數(x**2)+(4*x)+6 = 38\n"
          ]
        }
      ]
    }
  ]
}