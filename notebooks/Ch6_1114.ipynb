{
  "nbformat": 4,
  "nbformat_minor": 0,
  "metadata": {
    "colab": {
      "name": "Ch6_1114.ipynb",
      "provenance": [],
      "include_colab_link": true
    },
    "kernelspec": {
      "name": "python3",
      "display_name": "Python 3"
    },
    "language_info": {
      "name": "python"
    }
  },
  "cells": [
    {
      "cell_type": "markdown",
      "metadata": {
        "id": "view-in-github",
        "colab_type": "text"
      },
      "source": [
        "<a href=\"https://colab.research.google.com/github/jumbokh/ML-Class/blob/main/notebooks/Ch6_1114.ipynb\" target=\"_parent\"><img src=\"https://colab.research.google.com/assets/colab-badge.svg\" alt=\"Open In Colab\"/></a>"
      ]
    },
    {
      "cell_type": "code",
      "metadata": {
        "colab": {
          "base_uri": "https://localhost:8080/"
        },
        "id": "AB128wDprfET",
        "outputId": "0b405b68-9dce-4009-9570-5ee27fc3435f"
      },
      "source": [
        "def myfun(x):\n",
        "  return x**2\n",
        "print(myfun(8))"
      ],
      "execution_count": null,
      "outputs": [
        {
          "output_type": "stream",
          "name": "stdout",
          "text": [
            "64\n"
          ]
        }
      ]
    },
    {
      "cell_type": "code",
      "metadata": {
        "colab": {
          "base_uri": "https://localhost:8080/"
        },
        "id": "WzozxsiVskw-",
        "outputId": "237d3259-83be-467c-b69b-fc823b18cb76"
      },
      "source": [
        "\n",
        "def myfun1(x):\n",
        "  return x**2+b\n",
        "b = 10\n",
        "print(myfun1(8))"
      ],
      "execution_count": null,
      "outputs": [
        {
          "output_type": "stream",
          "name": "stdout",
          "text": [
            "74\n"
          ]
        }
      ]
    },
    {
      "cell_type": "code",
      "metadata": {
        "colab": {
          "base_uri": "https://localhost:8080/"
        },
        "id": "iLIMeDXt2viY",
        "outputId": "53807fc7-c81e-42c9-b74c-62dfac56f5fc"
      },
      "source": [
        "#sumn_def.py功能: 主程式呼叫1層自訂函數\n",
        "def sumnfunc(n):\n",
        "#A_func功能: 計算累加\n",
        "    sumn=0\n",
        "    for i in range(n+1):\n",
        "        sumn=sumn+i\n",
        "    return(sumn)\n",
        "num=int(input('輸入一個正整數n = '))    \n",
        "result=sumnfunc(num)\n",
        "print('1累加到n的結果 = ', result)"
      ],
      "execution_count": null,
      "outputs": [
        {
          "output_type": "stream",
          "name": "stdout",
          "text": [
            "輸入一個正整數n = 10\n",
            "1累加到n的結果 =  55\n"
          ]
        }
      ]
    },
    {
      "cell_type": "code",
      "metadata": {
        "colab": {
          "base_uri": "https://localhost:8080/"
        },
        "id": "qkprxDRe3FbC",
        "outputId": "7d0765ec-7dde-4ee5-d9f3-d8f6088c096f"
      },
      "source": [
        "#E_6_2.py功能: 主程式呼叫2層的自訂函數\n",
        "def callfunc(n):\n",
        "#callfunc功能: 檢查數值型別與呼叫函數\n",
        "    if n.isdigit():\n",
        "        number=int(n)        \n",
        "        print('1累加到n的結果 = ', sumnfunc(number))        \n",
        "        print('1累乘到n的結果 = ', prodnfunc(number))        \n",
        "    else:\n",
        "        print('請輸入數值資料')    \n",
        "def sumnfunc(n):\n",
        "#sumnfunc: 計算累加    \n",
        "    sumn=0\n",
        "    for i in range(1,n+1):\n",
        "        sumn=sumn+i\n",
        "    return(sumn)   \n",
        "def prodnfunc(n):\n",
        "#prodnfunc功能: 計算累乘\n",
        "    prodn=1\n",
        "    for i in range(1,n+1):\n",
        "        prodn=prodn*i\n",
        "    return(prodn)    \n",
        "num=input('輸入一個正整數n = ')\n",
        "callfunc(num)\n"
      ],
      "execution_count": null,
      "outputs": [
        {
          "output_type": "stream",
          "name": "stdout",
          "text": [
            "輸入一個正整數n = 10\n",
            "1累加到n的結果 =  55\n",
            "1累乘到n的結果 =  3628800\n"
          ]
        }
      ]
    },
    {
      "cell_type": "code",
      "metadata": {
        "colab": {
          "base_uri": "https://localhost:8080/"
        },
        "id": "FkOgE4vbv5XN",
        "outputId": "f00b1aa3-f094-43a2-bd30-b9fee150f8a5"
      },
      "source": [
        "#lambda x: x**2\n",
        "num = range(1,10)\n",
        "print(num)\n",
        "lis0 = []\n",
        "for i in num:\n",
        "  lamx = (lambda x:x**2)\n",
        "  #print(lamx(i))\n",
        "  lis0.append(lamx(i))\n",
        "print(lis0)"
      ],
      "execution_count": null,
      "outputs": [
        {
          "output_type": "stream",
          "name": "stdout",
          "text": [
            "range(1, 10)\n",
            "[1, 4, 9, 16, 25, 36, 49, 64, 81]\n"
          ]
        }
      ]
    },
    {
      "cell_type": "code",
      "metadata": {
        "colab": {
          "base_uri": "https://localhost:8080/"
        },
        "id": "kD57PypUybtu",
        "outputId": "5600e070-3e65-4bec-9bfc-d55d70fe9e0b"
      },
      "source": [
        "num = range(1,10)\n",
        "print(num)\n",
        "lis0 = []\n",
        "for i in num:\n",
        "  #lamx = i**2\n",
        "  #print(lamx)\n",
        "  lis0.append(i**2)\n",
        "print(lis0)"
      ],
      "execution_count": null,
      "outputs": [
        {
          "output_type": "stream",
          "name": "stdout",
          "text": [
            "range(1, 10)\n",
            "[1, 4, 9, 16, 25, 36, 49, 64, 81]\n"
          ]
        }
      ]
    },
    {
      "cell_type": "code",
      "metadata": {
        "colab": {
          "base_uri": "https://localhost:8080/"
        },
        "id": "QiN1mMF_zYpA",
        "outputId": "06255d41-3568-47fe-e5f2-1e4b05cb1b29"
      },
      "source": [
        "num = range(1,10)\n",
        "print(num)\n",
        "lis0 = []\n",
        "for i in num:\n",
        "  lamx = (lambda x:[x**2,x**3])\n",
        "  print(lamx(i))\n",
        "  lis0.append(lamx(i))\n",
        "print(lis0)"
      ],
      "execution_count": null,
      "outputs": [
        {
          "output_type": "stream",
          "name": "stdout",
          "text": [
            "range(1, 10)\n",
            "[1, 1]\n",
            "[4, 8]\n",
            "[9, 27]\n",
            "[16, 64]\n",
            "[25, 125]\n",
            "[36, 216]\n",
            "[49, 343]\n",
            "[64, 512]\n",
            "[81, 729]\n",
            "[[1, 1], [4, 8], [9, 27], [16, 64], [25, 125], [36, 216], [49, 343], [64, 512], [81, 729]]\n"
          ]
        }
      ]
    },
    {
      "cell_type": "code",
      "metadata": {
        "colab": {
          "base_uri": "https://localhost:8080/"
        },
        "id": "doD_I5ab0sxT",
        "outputId": "09d85372-fc2e-4d9c-b658-c3047cf69089"
      },
      "source": [
        "from random import randint as ri\n",
        "num = range(1,10)\n",
        "print(num)\n",
        "v = 12\n",
        "lis1 = []\n",
        "for i in num:\n",
        "  lamx = (lambda x:[x,ri(1,6),x+v])\n",
        "  print(lamx(i))\n",
        "  lis1.append(lamx(i))\n",
        "print(lis1)"
      ],
      "execution_count": null,
      "outputs": [
        {
          "output_type": "stream",
          "name": "stdout",
          "text": [
            "range(1, 10)\n",
            "[1, 5, 13]\n",
            "[2, 5, 14]\n",
            "[3, 1, 15]\n",
            "[4, 6, 16]\n",
            "[5, 6, 17]\n",
            "[6, 6, 18]\n",
            "[7, 1, 19]\n",
            "[8, 4, 20]\n",
            "[9, 5, 21]\n",
            "[[1, 6, 13], [2, 4, 14], [3, 4, 15], [4, 1, 16], [5, 5, 17], [6, 1, 18], [7, 6, 19], [8, 1, 20], [9, 2, 21]]\n"
          ]
        }
      ]
    },
    {
      "cell_type": "code",
      "metadata": {
        "id": "GXFRNuc75uRp"
      },
      "source": [
        ""
      ],
      "execution_count": null,
      "outputs": []
    },
    {
      "cell_type": "code",
      "metadata": {
        "colab": {
          "base_uri": "https://localhost:8080/"
        },
        "id": "zLBf_fEe1aDu",
        "outputId": "4f58526f-eda8-4612-b076-b8f48652d55a"
      },
      "source": [
        "for i in range(10):\n",
        "  print(i,ri(1,6))"
      ],
      "execution_count": null,
      "outputs": [
        {
          "output_type": "stream",
          "name": "stdout",
          "text": [
            "0 1\n",
            "1 6\n",
            "2 6\n",
            "3 5\n",
            "4 3\n",
            "5 6\n",
            "6 1\n",
            "7 1\n",
            "8 3\n",
            "9 3\n"
          ]
        }
      ]
    },
    {
      "cell_type": "markdown",
      "metadata": {
        "id": "2yj6qhve60_5"
      },
      "source": [
        "## f(x,y,z) = (x-y)**z / 2\n",
        "### input 3,1,2"
      ]
    },
    {
      "cell_type": "code",
      "metadata": {
        "colab": {
          "base_uri": "https://localhost:8080/"
        },
        "id": "DOXRRXbA7EHx",
        "outputId": "d8c06f8e-9660-4ed6-e814-4d7444d6d170"
      },
      "source": [
        "lambret2 = lambda x,y,z:((x-y)**z)/2\n",
        "print(lambret2(3,1,2))"
      ],
      "execution_count": null,
      "outputs": [
        {
          "output_type": "stream",
          "name": "stdout",
          "text": [
            "2.0\n"
          ]
        }
      ]
    },
    {
      "cell_type": "markdown",
      "metadata": {
        "id": "9ilu8AnO7aOi"
      },
      "source": [
        "## y = int(input('y'))\n",
        "## x = int(input('x'))\n",
        "## n = f(x)\n",
        "##    f(x) return x**2 if x>y\n",
        "##    f(x) return 1/x**2 if x<y\n",
        "##\n",
        "## x,y: x**2 if x>y else 1/(x**2)"
      ]
    },
    {
      "cell_type": "code",
      "metadata": {
        "colab": {
          "base_uri": "https://localhost:8080/"
        },
        "id": "Pv04mX9I9uHm",
        "outputId": "e0b6c4e0-2636-4557-8903-4f830f684526"
      },
      "source": [
        "y = int(input('y= '))\n",
        "x = int(input('x= '))\n",
        "if x>y:\n",
        "  print(x**2)\n",
        "else:\n",
        "  print(1/(x**2))"
      ],
      "execution_count": null,
      "outputs": [
        {
          "output_type": "stream",
          "name": "stdout",
          "text": [
            "y= 4\n",
            "x= 3\n",
            "0.1111111111111111\n"
          ]
        }
      ]
    },
    {
      "cell_type": "code",
      "metadata": {
        "colab": {
          "base_uri": "https://localhost:8080/"
        },
        "id": "jwtg0_z4-Too",
        "outputId": "1091044a-c95a-453d-aa2c-349218101080"
      },
      "source": [
        "y = int(input('y= '))\n",
        "x = int(input('x= '))\n",
        "n = lambda x,y: x**2 if x>y else 1/(x**2)\n",
        "print(n(x,y))"
      ],
      "execution_count": null,
      "outputs": [
        {
          "output_type": "stream",
          "name": "stdout",
          "text": [
            "y= 3\n",
            "x= 4\n",
            "16\n"
          ]
        }
      ]
    },
    {
      "cell_type": "code",
      "metadata": {
        "colab": {
          "base_uri": "https://localhost:8080/"
        },
        "id": "fiSY884I_Fea",
        "outputId": "92cc35ea-c484-46af-8150-90f1b6b39ae7"
      },
      "source": [
        "def myfunc2(x,y):\n",
        "  if x.isdigit() and y.isdigit():\n",
        "    x1 = int(x)\n",
        "    y1 = int(y)\n",
        "    if x1>y1:\n",
        "      return x1**2\n",
        "    else:\n",
        "      return 1/(x1**2)\n",
        "n1 = input('y= ')\n",
        "n2 = input('x= ')\n",
        "print(myfunc2(n1,n2))"
      ],
      "execution_count": null,
      "outputs": [
        {
          "output_type": "stream",
          "name": "stdout",
          "text": [
            "y= 4\n",
            "x= 3\n",
            "16\n"
          ]
        }
      ]
    },
    {
      "cell_type": "code",
      "metadata": {
        "colab": {
          "base_uri": "https://localhost:8080/"
        },
        "id": "1SRRXdQd3XnZ",
        "outputId": "8ee9dd96-bd5b-43d2-8f4a-49cd2be46c0a"
      },
      "source": [
        "#descrip_stat.py功能: 以自訂函數寫法計算敍述統計並回傳\n",
        "import math\n",
        "def depsta(sample):\n",
        "#depsta功能: 計算樣本的敍述統計    \n",
        "    maxv=max(sample)\n",
        "    minv=min(sample)\n",
        "    meanv=sum(sample)/len(sample)\n",
        "    sumi=0\n",
        "    for i in range(0, len(sample)):\n",
        "        sumi=sumi+((sample[i]-meanv)**2)\n",
        "    varv=sumi/(len(sample)-1)    \n",
        "    stdv=math.sqrt(varv)\n",
        "    return(maxv, minv, meanv, varv, stdv)\n",
        "sample=[5,8,9,6,4,1,5,3,6,2]\n",
        "print('max=%2.1f\\nmin=%2.1f\\nmean=%2.1f\\nvar=%2.1f\\nstd=%2.1f\\n'%(depsta(sample)))"
      ],
      "execution_count": null,
      "outputs": [
        {
          "output_type": "stream",
          "name": "stdout",
          "text": [
            "max=9.0\n",
            "min=1.0\n",
            "mean=4.9\n",
            "var=6.3\n",
            "std=2.5\n",
            "\n"
          ]
        }
      ]
    },
    {
      "cell_type": "code",
      "metadata": {
        "colab": {
          "base_uri": "https://localhost:8080/"
        },
        "id": "2OwCotoA4F_U",
        "outputId": "8d47e59a-537d-4888-be57-700effa8dbc7"
      },
      "source": [
        "#E_6_4.py 功能: 傳址的操作範例\n",
        "def callbyreference(number):\n",
        "#callbyreference函數功能: 計算平均新增到傳入參數之後    \n",
        "    n=len(number)\n",
        "    meanv=sum(number)/n\n",
        "    number.append(meanv)\n",
        "    return number\n",
        "sample=[5,8,9,6,4,1,5,3,6,2]\n",
        "print('呼叫函數前的原始值', sample)\n",
        "print('呼叫函數後的內容值', callbyreference(sample))\n",
        "print('呼叫函數後的原始值也會被改變', sample)"
      ],
      "execution_count": null,
      "outputs": [
        {
          "output_type": "stream",
          "name": "stdout",
          "text": [
            "呼叫函數前的原始值 [5, 8, 9, 6, 4, 1, 5, 3, 6, 2]\n",
            "呼叫函數後的內容值 [5, 8, 9, 6, 4, 1, 5, 3, 6, 2, 4.9]\n",
            "呼叫函數後的原始值也會被改變 [5, 8, 9, 6, 4, 1, 5, 3, 6, 2, 4.9]\n"
          ]
        }
      ]
    },
    {
      "cell_type": "code",
      "metadata": {
        "colab": {
          "base_uri": "https://localhost:8080/"
        },
        "id": "Dtvv9eY_E1Dt",
        "outputId": "fff3ce42-d338-43ad-f0fa-67401dc383d6"
      },
      "source": [
        "#E_6_4.py 功能: 傳址的操作範例\n",
        "def callbyreference():\n",
        "#callbyreference函數功能: 計算平均新增到傳入參數之後    \n",
        "    n=len(sample)\n",
        "    meanv=sum(sample)/n\n",
        "    sample.append(meanv)\n",
        "    return sample\n",
        "sample=[5,8,9,6,4,1,5,3,6,2]\n",
        "print('呼叫函數前的原始值', sample)\n",
        "print('呼叫函數後的內容值', callbyreference())\n",
        "print('呼叫函數後的原始值也會被改變', sample)"
      ],
      "execution_count": null,
      "outputs": [
        {
          "output_type": "stream",
          "name": "stdout",
          "text": [
            "呼叫函數前的原始值 [5, 8, 9, 6, 4, 1, 5, 3, 6, 2]\n",
            "呼叫函數後的內容值 [5, 8, 9, 6, 4, 1, 5, 3, 6, 2, 4.9]\n",
            "呼叫函數後的原始值也會被改變 [5, 8, 9, 6, 4, 1, 5, 3, 6, 2, 4.9]\n"
          ]
        }
      ]
    },
    {
      "cell_type": "code",
      "metadata": {
        "colab": {
          "base_uri": "https://localhost:8080/"
        },
        "id": "XNzVMdco4Y2W",
        "outputId": "ed831259-3fe4-40bb-b4d9-96fd8cdcff96"
      },
      "source": [
        "#E_6_5.py 功能: 傳值的操作範例\n",
        "def callbyvalue(number):\n",
        "#callbyvalue函數功能: 計算參數乘上自己後回傳    \n",
        "    number*=number\n",
        "    return number\n",
        "sample=4\n",
        "print('呼叫函數前的原始值', sample)\n",
        "print('呼叫函數後的內容值', callbyvalue(sample))\n",
        "print('呼叫函數前的原始值不會被改變', sample)"
      ],
      "execution_count": null,
      "outputs": [
        {
          "output_type": "stream",
          "name": "stdout",
          "text": [
            "呼叫函數前的原始值 4\n",
            "呼叫函數後的內容值 16\n",
            "呼叫函數前的原始值不會被改變 4\n"
          ]
        }
      ]
    },
    {
      "cell_type": "code",
      "metadata": {
        "colab": {
          "base_uri": "https://localhost:8080/"
        },
        "id": "dpZPT2fU4srD",
        "outputId": "54365f86-1407-4db6-d630-1863689a3aef"
      },
      "source": [
        "#E_6_6.py 功能: 實際參數與形式參數的函數傳遞參數範例\n",
        "def polyequ(x):\n",
        "#polyequ: 計算(x**2)+(4*x)+6的結果    \n",
        "    return (x**2)+(4*x)+6\n",
        "sample=4    \n",
        "result=polyequ(sample)\n",
        "print('呼叫函數(x**2)+(4*x)+6 =', result)"
      ],
      "execution_count": null,
      "outputs": [
        {
          "output_type": "stream",
          "name": "stdout",
          "text": [
            "呼叫函數(x**2)+(4*x)+6 = 38\n"
          ]
        }
      ]
    },
    {
      "cell_type": "code",
      "metadata": {
        "colab": {
          "base_uri": "https://localhost:8080/"
        },
        "id": "FlnPM5fQ41mt",
        "outputId": "22281fad-f218-4bab-f54b-e6b009c50a39"
      },
      "source": [
        "#E_6_7.py 功能: 位置參數的使用範例\n",
        "def polyequ(x):\n",
        "#polyequ: 計算(x**2)+(4*x)+6的結果    \n",
        "    return (x**2)+(4*x)+6\n",
        "result=polyequ(4)\n",
        "print('呼叫函數(x**2)+(4*x)+6 =', result)\n",
        "\n",
        "\n",
        "#sample=4    \n",
        "#result=polyequ(sample)"
      ],
      "execution_count": null,
      "outputs": [
        {
          "output_type": "stream",
          "name": "stdout",
          "text": [
            "呼叫函數(x**2)+(4*x)+6 = 38\n"
          ]
        }
      ]
    },
    {
      "cell_type": "markdown",
      "metadata": {
        "id": "R7anueImHOid"
      },
      "source": [
        "## 6-8\n",
        "## 若形式參數<50, 則回傳 開根號*10\n",
        "## 否則回傳原始值\n",
        "\n"
      ]
    },
    {
      "cell_type": "code",
      "metadata": {
        "colab": {
          "base_uri": "https://localhost:8080/"
        },
        "id": "rCpv1KL9Hi7w",
        "outputId": "f8a11e70-5731-4d18-b8cb-ba8f86dfe308"
      },
      "source": [
        "import math\n",
        "def defaultscore(score=40):\n",
        "  if score<50:\n",
        "    return math.sqrt(score)*10\n",
        "  else:\n",
        "    return score\n",
        "\n",
        "name = ['Jack','Mary','John','Joe','Michael']\n",
        "ss = [16,'',36,55,'']\n",
        "for idx,ii in enumerate(ss):\n",
        "  if type(ii) is int:\n",
        "    result = defaultscore(ii)\n",
        "  else:\n",
        "    result=defaultscore()\n",
        "  print('%s\\t的成績 = %4.2f'%(name[idx],result))"
      ],
      "execution_count": null,
      "outputs": [
        {
          "output_type": "stream",
          "name": "stdout",
          "text": [
            "Jack\t的成績 = 40.00\n",
            "Mary\t的成績 = 63.25\n",
            "John\t的成績 = 60.00\n",
            "Joe\t的成績 = 55.00\n",
            "Michael\t的成績 = 63.25\n"
          ]
        }
      ]
    },
    {
      "cell_type": "code",
      "metadata": {
        "colab": {
          "base_uri": "https://localhost:8080/"
        },
        "id": "0ops4k6mIQUc",
        "outputId": "3f76b878-de39-4a3f-bc1d-442ff235cd28"
      },
      "source": [
        "# 6_9\n",
        "def showinf(name,  weight,height=180, age=35):\n",
        "  print('Name = ',name)\n",
        "  print('Age = ',age)\n",
        "showinf(name='Jeremy',age=50,height=180,weight=80)"
      ],
      "execution_count": null,
      "outputs": [
        {
          "output_type": "stream",
          "name": "stdout",
          "text": [
            "Name =  Jeremy\n",
            "Age =  50\n"
          ]
        }
      ]
    },
    {
      "cell_type": "code",
      "metadata": {
        "colab": {
          "base_uri": "https://localhost:8080/"
        },
        "id": "dz4wJwRhLM1T",
        "outputId": "f319ceed-73cf-4ffc-be03-7c31cab9f7e3"
      },
      "source": [
        "# 6-10\n",
        "def func1(x,coe1,coe2):\n",
        "  return (x*coe1)+(x*coe2)\n",
        "print('result=',func1(3,*range(1,3)))"
      ],
      "execution_count": null,
      "outputs": [
        {
          "output_type": "stream",
          "name": "stdout",
          "text": [
            "result= 9\n"
          ]
        }
      ]
    },
    {
      "cell_type": "code",
      "metadata": {
        "colab": {
          "base_uri": "https://localhost:8080/",
          "height": 200
        },
        "id": "ohK0ZbS-MoW9",
        "outputId": "8d87fae7-3530-4193-f1ca-f3c34233bbf2"
      },
      "source": [
        "# 6-10\n",
        "def func1(x,coe1,coe2):\n",
        "  return (x*coe1)+(x*coe2)\n",
        "print('result=',func1(3,range(1,3)))"
      ],
      "execution_count": null,
      "outputs": [
        {
          "output_type": "error",
          "ename": "TypeError",
          "evalue": "ignored",
          "traceback": [
            "\u001b[0;31m---------------------------------------------------------------------------\u001b[0m",
            "\u001b[0;31mTypeError\u001b[0m                                 Traceback (most recent call last)",
            "\u001b[0;32m<ipython-input-85-8ac899c75e60>\u001b[0m in \u001b[0;36m<module>\u001b[0;34m()\u001b[0m\n\u001b[1;32m      2\u001b[0m \u001b[0;32mdef\u001b[0m \u001b[0mfunc1\u001b[0m\u001b[0;34m(\u001b[0m\u001b[0mx\u001b[0m\u001b[0;34m,\u001b[0m\u001b[0mcoe1\u001b[0m\u001b[0;34m,\u001b[0m\u001b[0mcoe2\u001b[0m\u001b[0;34m)\u001b[0m\u001b[0;34m:\u001b[0m\u001b[0;34m\u001b[0m\u001b[0;34m\u001b[0m\u001b[0m\n\u001b[1;32m      3\u001b[0m   \u001b[0;32mreturn\u001b[0m \u001b[0;34m(\u001b[0m\u001b[0mx\u001b[0m\u001b[0;34m*\u001b[0m\u001b[0mcoe1\u001b[0m\u001b[0;34m)\u001b[0m\u001b[0;34m+\u001b[0m\u001b[0;34m(\u001b[0m\u001b[0mx\u001b[0m\u001b[0;34m*\u001b[0m\u001b[0mcoe2\u001b[0m\u001b[0;34m)\u001b[0m\u001b[0;34m\u001b[0m\u001b[0;34m\u001b[0m\u001b[0m\n\u001b[0;32m----> 4\u001b[0;31m \u001b[0mprint\u001b[0m\u001b[0;34m(\u001b[0m\u001b[0;34m'result='\u001b[0m\u001b[0;34m,\u001b[0m\u001b[0mfunc1\u001b[0m\u001b[0;34m(\u001b[0m\u001b[0;36m3\u001b[0m\u001b[0;34m,\u001b[0m\u001b[0mrange\u001b[0m\u001b[0;34m(\u001b[0m\u001b[0;36m1\u001b[0m\u001b[0;34m,\u001b[0m\u001b[0;36m3\u001b[0m\u001b[0;34m)\u001b[0m\u001b[0;34m)\u001b[0m\u001b[0;34m)\u001b[0m\u001b[0;34m\u001b[0m\u001b[0;34m\u001b[0m\u001b[0m\n\u001b[0m",
            "\u001b[0;31mTypeError\u001b[0m: func1() missing 1 required positional argument: 'coe2'"
          ]
        }
      ]
    },
    {
      "cell_type": "code",
      "metadata": {
        "id": "0EtfMvMlMuM3"
      },
      "source": [
        ""
      ],
      "execution_count": null,
      "outputs": []
    }
  ]
}