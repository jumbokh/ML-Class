{
  "nbformat": 4,
  "nbformat_minor": 0,
  "metadata": {
    "colab": {
      "name": "imdb-ana.ipynb",
      "provenance": [],
      "collapsed_sections": []
    },
    "kernelspec": {
      "name": "python3",
      "display_name": "Python 3"
    },
    "language_info": {
      "name": "python"
    },
    "accelerator": "GPU"
  },
  "cells": [
    {
      "cell_type": "code",
      "metadata": {
        "colab": {
          "base_uri": "https://localhost:8080/"
        },
        "id": "0wm4d3-ZD7Gr",
        "outputId": "019f8a71-b041-42a2-ed3d-4663c945e2ef"
      },
      "source": [
        "from tensorflow.keras.datasets import imdb    #← 從 keras.datasets 套件中匯入 imdb\n",
        "(a_train, b_train),(a_test, b_test)= imdb.load_data(num_words=10000) # 載入 IMDB"
      ],
      "execution_count": 1,
      "outputs": [
        {
          "output_type": "stream",
          "text": [
            "Downloading data from https://storage.googleapis.com/tensorflow/tf-keras-datasets/imdb.npz\n",
            "17465344/17464789 [==============================] - 0s 0us/step\n"
          ],
          "name": "stdout"
        },
        {
          "output_type": "stream",
          "text": [
            "<string>:6: VisibleDeprecationWarning: Creating an ndarray from ragged nested sequences (which is a list-or-tuple of lists-or-tuples-or ndarrays with different lengths or shapes) is deprecated. If you meant to do this, you must specify 'dtype=object' when creating the ndarray\n",
            "/usr/local/lib/python3.7/dist-packages/tensorflow/python/keras/datasets/imdb.py:159: VisibleDeprecationWarning: Creating an ndarray from ragged nested sequences (which is a list-or-tuple of lists-or-tuples-or ndarrays with different lengths or shapes) is deprecated. If you meant to do this, you must specify 'dtype=object' when creating the ndarray\n",
            "  x_train, y_train = np.array(xs[:idx]), np.array(labels[:idx])\n",
            "/usr/local/lib/python3.7/dist-packages/tensorflow/python/keras/datasets/imdb.py:160: VisibleDeprecationWarning: Creating an ndarray from ragged nested sequences (which is a list-or-tuple of lists-or-tuples-or ndarrays with different lengths or shapes) is deprecated. If you meant to do this, you must specify 'dtype=object' when creating the ndarray\n",
            "  x_test, y_test = np.array(xs[idx:]), np.array(labels[idx:])\n"
          ],
          "name": "stderr"
        }
      ]
    },
    {
      "cell_type": "code",
      "metadata": {
        "id": "_TBFv-RAEAuQ"
      },
      "source": [
        "from tensorflow.keras.preprocessing.text import Tokenizer\n",
        "\n",
        "tok = Tokenizer(num_words=10000)           #←指定字典的總字數\n",
        "x_train = tok.sequences_to_matrix(a_train) #←將訓練樣本做 k-hot 編碼\n",
        "x_test  = tok.sequences_to_matrix(a_test)  #←將測試樣本做 k-hot 編碼\n",
        "\n",
        "y_train = b_train.astype('float32')   #←將訓練標籤轉為浮點向量\n",
        "y_test  = b_test.astype('float32')    #←將測試標籤轉為浮點向量"
      ],
      "execution_count": 2,
      "outputs": []
    },
    {
      "cell_type": "code",
      "metadata": {
        "id": "70x61TuzEHlY"
      },
      "source": [
        "from tensorflow.keras.models import Sequential\n",
        "from tensorflow.keras.layers import Dense\n",
        "\n",
        "model = Sequential()                       #←建立模型物件\n",
        "model.add(Dense(16, activation='relu', input_dim=10000))  #←輸入層\n",
        "model.add(Dense(16, activation='relu'))    #←隱藏層\n",
        "model.add(Dense(1, activation='sigmoid'))  #←輸出層"
      ],
      "execution_count": 3,
      "outputs": []
    },
    {
      "cell_type": "code",
      "metadata": {
        "id": "og_OZQMAEM2u"
      },
      "source": [
        "model.compile(loss='binary_crossentropy',\n",
        "              optimizer='rmsprop',\n",
        "              metrics=['acc'])"
      ],
      "execution_count": 4,
      "outputs": []
    },
    {
      "cell_type": "code",
      "metadata": {
        "colab": {
          "base_uri": "https://localhost:8080/"
        },
        "id": "aTl0QQMxEQho",
        "outputId": "1d727a88-b086-4410-83ea-9ef00f77d238"
      },
      "source": [
        "history = model.fit(x_train, y_train,\n",
        "                    batch_size=512,  #←每批次 512 筆樣本\n",
        "                    epochs=10,       #←共訓練 10 週期\n",
        "                    verbose = 2,     #←顯示精簡訊息 (無進度條)\n",
        "                    validation_split=0.2)\n",
        "                             #↑由訓練資料後面切出 20% 做為驗證用"
      ],
      "execution_count": 5,
      "outputs": [
        {
          "output_type": "stream",
          "text": [
            "Epoch 1/10\n",
            "40/40 - 4s - loss: 0.5260 - acc: 0.7947 - val_loss: 0.3818 - val_acc: 0.8752\n",
            "Epoch 2/10\n",
            "40/40 - 1s - loss: 0.3057 - acc: 0.9018 - val_loss: 0.2998 - val_acc: 0.8878\n",
            "Epoch 3/10\n",
            "40/40 - 1s - loss: 0.2248 - acc: 0.9243 - val_loss: 0.2777 - val_acc: 0.8906\n",
            "Epoch 4/10\n",
            "40/40 - 1s - loss: 0.1797 - acc: 0.9388 - val_loss: 0.2994 - val_acc: 0.8840\n",
            "Epoch 5/10\n",
            "40/40 - 1s - loss: 0.1500 - acc: 0.9493 - val_loss: 0.2783 - val_acc: 0.8920\n",
            "Epoch 6/10\n",
            "40/40 - 1s - loss: 0.1271 - acc: 0.9590 - val_loss: 0.2944 - val_acc: 0.8886\n",
            "Epoch 7/10\n",
            "40/40 - 1s - loss: 0.1089 - acc: 0.9650 - val_loss: 0.3478 - val_acc: 0.8748\n",
            "Epoch 8/10\n",
            "40/40 - 1s - loss: 0.0938 - acc: 0.9707 - val_loss: 0.3347 - val_acc: 0.8860\n",
            "Epoch 9/10\n",
            "40/40 - 1s - loss: 0.0804 - acc: 0.9749 - val_loss: 0.3546 - val_acc: 0.8822\n",
            "Epoch 10/10\n",
            "40/40 - 1s - loss: 0.0667 - acc: 0.9811 - val_loss: 0.3960 - val_acc: 0.8810\n"
          ],
          "name": "stdout"
        }
      ]
    },
    {
      "cell_type": "code",
      "metadata": {
        "colab": {
          "base_uri": "https://localhost:8080/"
        },
        "id": "cBg7Xyi3FuB0",
        "outputId": "a948ae43-01c7-4aab-b6f5-aed116d2f3c8"
      },
      "source": [
        "history_dict = history.history\n",
        "history_dict.keys()"
      ],
      "execution_count": 12,
      "outputs": [
        {
          "output_type": "execute_result",
          "data": {
            "text/plain": [
              "dict_keys(['loss', 'acc', 'val_loss', 'val_acc'])"
            ]
          },
          "metadata": {
            "tags": []
          },
          "execution_count": 12
        }
      ]
    },
    {
      "cell_type": "code",
      "metadata": {
        "colab": {
          "base_uri": "https://localhost:8080/",
          "height": 295
        },
        "id": "IWoTdMn9FqQn",
        "outputId": "28f04c51-71fe-4253-de80-54d164ab0d08"
      },
      "source": [
        "import matplotlib.pyplot as plt\n",
        "\n",
        "acc = history.history['acc']\n",
        "val_acc = history.history['val_acc']\n",
        "loss = history.history['loss']\n",
        "val_loss = history.history['val_loss']\n",
        "\n",
        "epochs = range(1, len(acc) + 1)\n",
        "\n",
        "# \"bo\" is for \"blue dot\"\n",
        "plt.plot(epochs, loss, 'bo', label='Training loss')\n",
        "# b is for \"solid blue line\"\n",
        "plt.plot(epochs, val_loss, 'b', label='Validation loss')\n",
        "plt.title('Training and validation loss')\n",
        "plt.xlabel('Epochs')\n",
        "plt.ylabel('Loss')\n",
        "plt.legend()\n",
        "\n",
        "plt.show()"
      ],
      "execution_count": 13,
      "outputs": [
        {
          "output_type": "display_data",
          "data": {
            "image/png": "[encoded data removed]",
            "text/plain": [
              "<Figure size 432x288 with 1 Axes>"
            ]
          },
          "metadata": {
            "tags": [],
            "needs_background": "light"
          }
        }
      ]
    },
    {
      "cell_type": "code",
      "metadata": {
        "colab": {
          "base_uri": "https://localhost:8080/",
          "height": 295
        },
        "id": "4w4sZydQHRUa",
        "outputId": "551e5575-5cce-404d-ad1a-3324ad76872e"
      },
      "source": [
        "plt.clf()   # clear figure\n",
        "acc_values = history_dict['acc']\n",
        "val_acc_values = history_dict['val_acc']\n",
        "\n",
        "plt.plot(epochs, acc, 'bo', label='Training acc')\n",
        "plt.plot(epochs, val_acc, 'b', label='Validation acc')\n",
        "plt.title('Training and validation accuracy')\n",
        "plt.xlabel('Epochs')\n",
        "plt.ylabel('Loss')\n",
        "plt.legend()\n",
        "\n",
        "plt.show()"
      ],
      "execution_count": 14,
      "outputs": [
        {
          "output_type": "display_data",
          "data": {
            "image/png": "[encoded data removed]",
            "text/plain": [
              "<Figure size 432x288 with 1 Axes>"
            ]
          },
          "metadata": {
            "tags": [],
            "needs_background": "light"
          }
        }
      ]
    }
  ]
}